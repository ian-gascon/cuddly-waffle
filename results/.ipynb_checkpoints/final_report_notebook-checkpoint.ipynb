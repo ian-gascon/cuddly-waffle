{
 "cells": [
  {
   "cell_type": "markdown",
   "metadata": {
    "cell_id": "e15dd24b-0ce9-4c5d-9863-27f155b2ddf3",
    "deepnote_cell_height": 176.390625,
    "deepnote_cell_type": "markdown",
    "tags": []
   },
   "source": [
    "# Spotify Popularity Prediction\n",
    "## PSTAT 131 Final Project\n",
    "By Annie Huang, Ian Gascon, James Du, Meng Vong\n"
   ]
  },
  {
   "cell_type": "markdown",
   "metadata": {
    "cell_id": "185b1f49-dee0-46e2-a181-f154e4fc163b",
    "deepnote_cell_height": 70,
    "deepnote_cell_type": "text-cell-h2",
    "is_collapsed": false,
    "tags": []
   },
   "source": [
    "## Background"
   ]
  },
  {
   "cell_type": "markdown",
   "metadata": {
    "cell_id": "33011dc0-642c-44cc-9406-1101852552ac",
    "deepnote_cell_height": 156,
    "deepnote_cell_type": "markdown",
    "tags": []
   },
   "source": [
    "With the competitiveness of the music industry, it has become essential for producers to create music that will be popular among the general audience in order to make a profit. In the age of big data, the secret to the next biggest hit may lie within the information gathered from the largest music streaming service in the world: Spotify, an online audio streaming and media service provider with over [406 million monthly active users.](https://www.musicbusinessworldwide.com/spotify-subscriptions-grew-to-180m-in-2021-monthly-active-users-topped-406m12/)\n",
    "\n",
    "Using data from the [Spotify Web API](https://developer.spotify.com/documentation/web-api/), we modeled a song's popularity with Spotify's listeners in respect to the song's musical features in order to answer the question: which features relating to musical composition factor into\n",
    "the popularity of a song on Spotify?\n"
   ]
  },
  {
   "cell_type": "markdown",
   "metadata": {
    "cell_id": "91b9808b-8ffe-4850-af25-3f5f20256580",
    "deepnote_cell_height": 70,
    "deepnote_cell_type": "text-cell-h2",
    "is_collapsed": false,
    "tags": []
   },
   "source": [
    "## Data Description"
   ]
  },
  {
   "cell_type": "markdown",
   "metadata": {
    "cell_id": "77fcceaf-8099-4793-9468-d2c9e139d8f8",
    "deepnote_cell_height": 74.796875,
    "deepnote_cell_type": "markdown",
    "tags": []
   },
   "source": [
    "Our dataset from the [Spotify Web API](https://developer.spotify.com/documentation/web-api/) includes song names, their associated popularity scores, and characteristics of each song such as: genre, artist name, track id, acousticness, danceability, duration, energy, instrumentalness, key, liveness, loudness, mode, speechiness, tempo, time\n",
    "signature, and valence."
   ]
  },
  {
   "cell_type": "markdown",
   "metadata": {
    "cell_id": "9a30a2a5-568a-4563-b79c-174273d84a7c",
    "deepnote_cell_height": 62,
    "deepnote_cell_type": "text-cell-h3",
    "is_collapsed": false,
    "tags": []
   },
   "source": [
    "### "
   ]
  },
  {
   "cell_type": "markdown",
   "metadata": {
    "cell_id": "62292428-4319-4126-bc96-432264aa0dc0",
    "deepnote_cell_height": 70,
    "deepnote_cell_type": "text-cell-h2",
    "is_collapsed": false,
    "tags": []
   },
   "source": [
    "## Methods &amp; Results"
   ]
  },
  {
   "cell_type": "markdown",
   "metadata": {
    "cell_id": "5c51b507-0996-437e-a85c-9a5b45ee4084",
    "deepnote_cell_height": 62,
    "deepnote_cell_type": "text-cell-h3",
    "is_collapsed": false,
    "tags": []
   },
   "source": [
    "### Exploratory Analysis"
   ]
  },
  {
   "cell_type": "markdown",
   "metadata": {
    "cell_id": "c69f3025-f3f6-4a74-a1e6-3f3715873c38",
    "deepnote_cell_height": 62,
    "deepnote_cell_type": "text-cell-h3",
    "is_collapsed": false,
    "tags": []
   },
   "source": [
    "### Multiple Linear Regression"
   ]
  },
  {
   "cell_type": "markdown",
   "metadata": {
    "cell_id": "04072d02-e51e-4b9a-8a0e-1fac0d562825",
    "deepnote_cell_height": 62,
    "deepnote_cell_type": "text-cell-h3",
    "is_collapsed": false,
    "tags": []
   },
   "source": [
    "### PCA Regression"
   ]
  },
  {
   "cell_type": "markdown",
   "metadata": {
    "cell_id": "b433cf6d-6f1b-4a3c-b04e-fbb0833df98d",
    "deepnote_cell_height": 62,
    "deepnote_cell_type": "text-cell-h3",
    "is_collapsed": false,
    "tags": []
   },
   "source": [
    "### Ian's Trees"
   ]
  },
  {
   "cell_type": "markdown",
   "metadata": {
    "cell_id": "4d30299a-89da-47b7-ac00-42d68ecebfd3",
    "deepnote_cell_height": 70,
    "deepnote_cell_type": "text-cell-h2",
    "is_collapsed": false,
    "tags": []
   },
   "source": [
    "## Conclusion &amp; Discussion"
   ]
  }
 ],
 "metadata": {
  "deepnote": {
   "is_reactive": false
  },
  "deepnote_execution_queue": [],
  "deepnote_notebook_id": "cdfa64bd-fbf5-48a1-9f18-823c054e8085",
  "kernelspec": {
   "display_name": "Python 3",
   "language": "python",
   "name": "python3"
  },
  "language_info": {
   "codemirror_mode": {
    "name": "ipython",
    "version": 3
   },
   "file_extension": ".py",
   "mimetype": "text/x-python",
   "name": "python",
   "nbconvert_exporter": "python",
   "pygments_lexer": "ipython3",
   "version": "3.8.5"
  }
 },
 "nbformat": 4,
 "nbformat_minor": 4
}
