{
 "cells": [
  {
   "cell_type": "markdown",
   "metadata": {
    "cell_id": "e15dd24b-0ce9-4c5d-9863-27f155b2ddf3",
    "deepnote_cell_height": 176.390625,
    "deepnote_cell_type": "markdown",
    "tags": []
   },
   "source": [
    "# Spotify Popularity Prediction\n",
    "## PSTAT 131 Final Project\n",
    "By Annie Huang, Ian Gascon, James Du, Meng Vong\n"
   ]
  },
  {
   "cell_type": "markdown",
   "metadata": {
    "cell_id": "185b1f49-dee0-46e2-a181-f154e4fc163b",
    "deepnote_cell_height": 70,
    "deepnote_cell_type": "text-cell-h2",
    "is_collapsed": false,
    "tags": []
   },
   "source": [
    "## Background"
   ]
  },
  {
   "cell_type": "markdown",
   "metadata": {
    "cell_id": "33011dc0-642c-44cc-9406-1101852552ac",
    "deepnote_cell_height": 156,
    "deepnote_cell_type": "markdown",
    "tags": []
   },
   "source": [
    "With the competitiveness of the music industry, it has become essential for producers to create music that will be popular among the general audience in order to make a profit. In the age of big data, the secret to the next biggest hit may lie within the information gathered from the largest music streaming service in the world: Spotify, an online audio streaming and media service provider with over [406 million monthly active users.](https://www.musicbusinessworldwide.com/spotify-subscriptions-grew-to-180m-in-2021-monthly-active-users-topped-406m12/)\n",
    "\n",
    "Using data from the [Spotify Web API](https://developer.spotify.com/documentation/web-api/), we modeled a song's popularity with Spotify's listeners in respect to the song's musical features in order to answer the question: which features relating to musical composition factor into\n",
    "the popularity of a song on Spotify?\n"
   ]
  },
  {
   "cell_type": "markdown",
   "metadata": {
    "cell_id": "91b9808b-8ffe-4850-af25-3f5f20256580",
    "deepnote_cell_height": 70,
    "deepnote_cell_type": "text-cell-h2",
    "is_collapsed": false,
    "tags": []
   },
   "source": [
    "## Data Description"
   ]
  },
  {
   "cell_type": "markdown",
   "metadata": {
    "cell_id": "77fcceaf-8099-4793-9468-d2c9e139d8f8",
    "deepnote_cell_height": 74.796875,
    "deepnote_cell_type": "markdown",
    "tags": []
   },
   "source": [
    "Our dataset from the [Spotify Web API](https://developer.spotify.com/documentation/web-api/) includes song names, their associated popularity scores, and characteristics of each song. According to Spotify’s API documentation, “popularity is calculated by algorithm and is based, in the most part, on the total number of plays the track has had and how recent those plays are. Generally speaking, songs that are being played a lot now will have a higher popularity than songs that were played a lot in the past.”\n",
    "\n",
    "There are 228159 unique observations and 15 potential predictors in this dataset. The predictors include song features such as:\n",
    "\n",
    "1. ***Genre:*** A list of genres associated with the track.\n",
    "2. ***Artist Name:*** The artist who performed the track.\n",
    "3. ***Acousticness:*** A confidence measure from 0.0 to 1.0 of whether the track is acoustic. 1.0 represents high confidence the track is acoustic.\n",
    "4. ***Danceability:*** Describes how suitable a track is for dancing based on a combination of musical elements including tempo, rhythm stability, beat strength, and overall regularity.\n",
    "5. ***Duration_ms:*** The track length in milliseconds.\n",
    "6. ***Energy:*** Measure from 0.0 to 1.0 and represents a perceptual measure of intensity and activity. Typically, energetic tracks feel fast, loud, and noisy.\n",
    "7. ***Instrumentalness:*** Predicts whether a track contains no vocals. \"Ooh\" and \"aah\" sounds are treated as instrumental in this context. Rap or spoken word tracks are clearly \"vocal\".\n",
    "8. ***Key:*** The key the track is in. Integers map to pitches using standard Pitch Class notation. E.g. 0 = C, 1 = C$\\sharp$/D$\\flat$, 2 = D, and so on. If no key was detected, the value is -1.\n",
    "9. ***Liveness:*** Detects the presence of an audience in the recording. Higher liveness values represent an increased probability that the track was performed live.\n",
    "10. ***Loudness:*** The overall loudness of a track in decibels (dB). Loudness values are averaged across the entire track and are useful for comparing relative loudness of tracks.\n",
    "11. ***Mode:*** Indicates the modality (major or minor) of a track, the type of scale from which its melodic content is derived.\n",
    "12. ***Speechiness:*** Detects the presence of spoken words in a track. The more exclusively speech-like the recording (e.g. talk show, audio book, poetry), the closer to 1.0.\n",
    "13. ***Tempo:*** The overall estimated tempo of a track in beats per minute (BPM). In musical terminology, tempo is the speed or pace of a given piece and derives directly from the average beat duration.\n",
    "14. ***Time Signature:*** The time signature (meter) is a notational convention to specify how many beats are in each bar (or measure). The time signature ranges from 3 to 7 indicating time signatures of \"3/4\", to \"7/4\".\n",
    "15. ***Valence:*** A measure from 0.0 to 1.0 describing the musical positiveness conveyed by a track. Tracks with high valence sound more positive (e.g. happy, cheerful, euphoric), while tracks with low valence sound more negative (e.g. sad, depressed, angry)."
   ]
  },
  {
   "cell_type": "markdown",
   "metadata": {
    "cell_id": "62292428-4319-4126-bc96-432264aa0dc0",
    "deepnote_cell_height": 70,
    "deepnote_cell_type": "text-cell-h2",
    "is_collapsed": false,
    "tags": []
   },
   "source": [
    "## Methods &amp; Results"
   ]
  },
  {
   "cell_type": "markdown",
   "metadata": {},
   "source": [
    "The packages we used in the project are imported below. "
   ]
  },
  {
   "cell_type": "code",
   "execution_count": 51,
   "metadata": {},
   "outputs": [],
   "source": [
    "# importing relevant packages\n",
    "\n",
    "import pandas as pd\n",
    "import numpy as np\n",
    "\n",
    "import seaborn as sns\n",
    "import matplotlib.pyplot as plt\n",
    "sns.set_style(\"darkgrid\")\n",
    "import altair as alt\n",
    "import matplotlib.pyplot as plt\n",
    "import plotly.express as px\n",
    "import plotly.graph_objects as go\n",
    "\n",
    "from sklearn import linear_model\n",
    "\n",
    "# importing train_test_split from sklearn\n",
    "from sklearn.model_selection import train_test_split\n",
    "from sklearn.metrics import r2_score\n",
    "from sklearn.metrics import mean_squared_error\n",
    "from sklearn.metrics import accuracy_score\n",
    "\n",
    "from sklearn.feature_selection import SelectKBest\n",
    "from sklearn.feature_selection import chi2, f_regression\n",
    "\n",
    "from sklearn.decomposition import PCA\n",
    "from sklearn.preprocessing import scale \n",
    "from sklearn import model_selection\n",
    "from sklearn.model_selection import RepeatedKFold\n",
    "from sklearn.model_selection import train_test_split\n",
    "from sklearn.metrics import mean_squared_error\n",
    "from sklearn.linear_model import LinearRegression"
   ]
  },
  {
   "cell_type": "markdown",
   "metadata": {},
   "source": [
    "### Data Preprocessing"
   ]
  },
  {
   "cell_type": "markdown",
   "metadata": {},
   "source": [
    "First, we load in our dataset from Kaggle."
   ]
  },
  {
   "cell_type": "code",
   "execution_count": 52,
   "metadata": {},
   "outputs": [],
   "source": [
    "songs_raw = pd.read_csv('../data/SpotifyFeatures.csv')"
   ]
  },
  {
   "cell_type": "markdown",
   "metadata": {},
   "source": [
    "Coming directly from the Spotify API, the dataset is pretty clean. However, there is an issue in which some song tracks are listed twice under multiple genres. For example, Ariana Grande's '7 rings' is listed as both Pop and Dance."
   ]
  },
  {
   "cell_type": "code",
   "execution_count": 53,
   "metadata": {},
   "outputs": [
    {
     "data": {
      "text/html": [
       "<div>\n",
       "<style scoped>\n",
       "    .dataframe tbody tr th:only-of-type {\n",
       "        vertical-align: middle;\n",
       "    }\n",
       "\n",
       "    .dataframe tbody tr th {\n",
       "        vertical-align: top;\n",
       "    }\n",
       "\n",
       "    .dataframe thead th {\n",
       "        text-align: right;\n",
       "    }\n",
       "</style>\n",
       "<table border=\"1\" class=\"dataframe\">\n",
       "  <thead>\n",
       "    <tr style=\"text-align: right;\">\n",
       "      <th></th>\n",
       "      <th>genre</th>\n",
       "      <th>artist_name</th>\n",
       "      <th>track_name</th>\n",
       "      <th>track_id</th>\n",
       "      <th>popularity</th>\n",
       "      <th>acousticness</th>\n",
       "      <th>danceability</th>\n",
       "      <th>duration_ms</th>\n",
       "      <th>energy</th>\n",
       "      <th>instrumentalness</th>\n",
       "      <th>key</th>\n",
       "      <th>liveness</th>\n",
       "      <th>loudness</th>\n",
       "      <th>mode</th>\n",
       "      <th>speechiness</th>\n",
       "      <th>tempo</th>\n",
       "      <th>time_signature</th>\n",
       "      <th>valence</th>\n",
       "    </tr>\n",
       "  </thead>\n",
       "  <tbody>\n",
       "    <tr>\n",
       "      <th>12710</th>\n",
       "      <td>Pop</td>\n",
       "      <td>Ariana Grande</td>\n",
       "      <td>7 rings</td>\n",
       "      <td>14msK75pk3pA33pzPVNtBF</td>\n",
       "      <td>100</td>\n",
       "      <td>0.578</td>\n",
       "      <td>0.725</td>\n",
       "      <td>178640</td>\n",
       "      <td>0.321</td>\n",
       "      <td>0.0</td>\n",
       "      <td>C#</td>\n",
       "      <td>0.0884</td>\n",
       "      <td>-10.744</td>\n",
       "      <td>Minor</td>\n",
       "      <td>0.323</td>\n",
       "      <td>70.142</td>\n",
       "      <td>4/4</td>\n",
       "      <td>0.319</td>\n",
       "    </tr>\n",
       "    <tr>\n",
       "      <th>159005</th>\n",
       "      <td>Dance</td>\n",
       "      <td>Ariana Grande</td>\n",
       "      <td>7 rings</td>\n",
       "      <td>14msK75pk3pA33pzPVNtBF</td>\n",
       "      <td>100</td>\n",
       "      <td>0.578</td>\n",
       "      <td>0.725</td>\n",
       "      <td>178640</td>\n",
       "      <td>0.321</td>\n",
       "      <td>0.0</td>\n",
       "      <td>C#</td>\n",
       "      <td>0.0884</td>\n",
       "      <td>-10.744</td>\n",
       "      <td>Minor</td>\n",
       "      <td>0.323</td>\n",
       "      <td>70.142</td>\n",
       "      <td>4/4</td>\n",
       "      <td>0.319</td>\n",
       "    </tr>\n",
       "  </tbody>\n",
       "</table>\n",
       "</div>"
      ],
      "text/plain": [
       "        genre    artist_name track_name                track_id  popularity  \\\n",
       "12710     Pop  Ariana Grande    7 rings  14msK75pk3pA33pzPVNtBF         100   \n",
       "159005  Dance  Ariana Grande    7 rings  14msK75pk3pA33pzPVNtBF         100   \n",
       "\n",
       "        acousticness  danceability  duration_ms  energy  instrumentalness key  \\\n",
       "12710          0.578         0.725       178640   0.321               0.0  C#   \n",
       "159005         0.578         0.725       178640   0.321               0.0  C#   \n",
       "\n",
       "        liveness  loudness   mode  speechiness   tempo time_signature  valence  \n",
       "12710     0.0884   -10.744  Minor        0.323  70.142            4/4    0.319  \n",
       "159005    0.0884   -10.744  Minor        0.323  70.142            4/4    0.319  "
      ]
     },
     "execution_count": 53,
     "metadata": {},
     "output_type": "execute_result"
    }
   ],
   "source": [
    "songs_raw[songs_raw['track_name'] == '7 rings']"
   ]
  },
  {
   "cell_type": "markdown",
   "metadata": {},
   "source": [
    "Since we need only one listing of each song in our dataset, we opted to only keep the first occurrence of each track while dropping the duplicates. This was the simplest way, as many songs have overlap in categories and it would be difficult to pinpoint which exact category it belongs more to."
   ]
  },
  {
   "cell_type": "code",
   "execution_count": 54,
   "metadata": {},
   "outputs": [],
   "source": [
    "songs = songs.drop_duplicates(subset='track_id', keep=\"first\")"
   ]
  },
  {
   "cell_type": "code",
   "execution_count": 55,
   "metadata": {},
   "outputs": [
    {
     "data": {
      "text/html": [
       "<div>\n",
       "<style scoped>\n",
       "    .dataframe tbody tr th:only-of-type {\n",
       "        vertical-align: middle;\n",
       "    }\n",
       "\n",
       "    .dataframe tbody tr th {\n",
       "        vertical-align: top;\n",
       "    }\n",
       "\n",
       "    .dataframe thead th {\n",
       "        text-align: right;\n",
       "    }\n",
       "</style>\n",
       "<table border=\"1\" class=\"dataframe\">\n",
       "  <thead>\n",
       "    <tr style=\"text-align: right;\">\n",
       "      <th></th>\n",
       "      <th>genre</th>\n",
       "      <th>artist_name</th>\n",
       "      <th>track_name</th>\n",
       "      <th>track_id</th>\n",
       "      <th>popularity</th>\n",
       "      <th>acousticness</th>\n",
       "      <th>danceability</th>\n",
       "      <th>duration_ms</th>\n",
       "      <th>energy</th>\n",
       "      <th>instrumentalness</th>\n",
       "      <th>key</th>\n",
       "      <th>liveness</th>\n",
       "      <th>loudness</th>\n",
       "      <th>mode</th>\n",
       "      <th>speechiness</th>\n",
       "      <th>tempo</th>\n",
       "      <th>time_signature</th>\n",
       "      <th>valence</th>\n",
       "    </tr>\n",
       "  </thead>\n",
       "  <tbody>\n",
       "    <tr>\n",
       "      <th>12710</th>\n",
       "      <td>Pop</td>\n",
       "      <td>Ariana Grande</td>\n",
       "      <td>7 rings</td>\n",
       "      <td>14msK75pk3pA33pzPVNtBF</td>\n",
       "      <td>100</td>\n",
       "      <td>0.578</td>\n",
       "      <td>0.725</td>\n",
       "      <td>178640</td>\n",
       "      <td>0.321</td>\n",
       "      <td>0.0</td>\n",
       "      <td>C#</td>\n",
       "      <td>0.0884</td>\n",
       "      <td>-10.744</td>\n",
       "      <td>Minor</td>\n",
       "      <td>0.323</td>\n",
       "      <td>70.142</td>\n",
       "      <td>4/4</td>\n",
       "      <td>0.319</td>\n",
       "    </tr>\n",
       "  </tbody>\n",
       "</table>\n",
       "</div>"
      ],
      "text/plain": [
       "      genre    artist_name track_name                track_id  popularity  \\\n",
       "12710   Pop  Ariana Grande    7 rings  14msK75pk3pA33pzPVNtBF         100   \n",
       "\n",
       "       acousticness  danceability  duration_ms  energy  instrumentalness key  \\\n",
       "12710         0.578         0.725       178640   0.321               0.0  C#   \n",
       "\n",
       "       liveness  loudness   mode  speechiness   tempo time_signature  valence  \n",
       "12710    0.0884   -10.744  Minor        0.323  70.142            4/4    0.319  "
      ]
     },
     "execution_count": 55,
     "metadata": {},
     "output_type": "execute_result"
    }
   ],
   "source": [
    "songs[songs['track_name'] == '7 rings']"
   ]
  },
  {
   "cell_type": "markdown",
   "metadata": {},
   "source": [
    "While this solved our issue of duplicate tracks, we did need to keep in mind that when using genre as a factor or predictor later on in the project, our data could be skewed depending on which songs ending up in which of their potential genres. However, it shouldn't pose too much of a trouble since there is bound to be overlap in the related categories anyways."
   ]
  },
  {
   "cell_type": "markdown",
   "metadata": {
    "cell_id": "5c51b507-0996-437e-a85c-9a5b45ee4084",
    "deepnote_cell_height": 62,
    "deepnote_cell_type": "text-cell-h3",
    "is_collapsed": false,
    "tags": []
   },
   "source": [
    "### Exploratory Analysis"
   ]
  },
  {
   "cell_type": "markdown",
   "metadata": {},
   "source": [
    "Now that we've cleaned our dataset, we can finally use it for our project!"
   ]
  },
  {
   "cell_type": "markdown",
   "metadata": {},
   "source": [
    "Here we are grouping by genre so we can determine the average popularity wthin each genre. We've also sorted in ascending popularity to showcase which genres are the least popular in our dataframe table below, but also for the purpose of visualizing it in a sorted bar chart."
   ]
  },
  {
   "cell_type": "code",
   "execution_count": 64,
   "metadata": {
    "scrolled": true
   },
   "outputs": [
    {
     "data": {
      "text/html": [
       "<div>\n",
       "<style scoped>\n",
       "    .dataframe tbody tr th:only-of-type {\n",
       "        vertical-align: middle;\n",
       "    }\n",
       "\n",
       "    .dataframe tbody tr th {\n",
       "        vertical-align: top;\n",
       "    }\n",
       "\n",
       "    .dataframe thead th {\n",
       "        text-align: right;\n",
       "    }\n",
       "</style>\n",
       "<table border=\"1\" class=\"dataframe\">\n",
       "  <thead>\n",
       "    <tr style=\"text-align: right;\">\n",
       "      <th></th>\n",
       "      <th>genre</th>\n",
       "      <th>popularity</th>\n",
       "    </tr>\n",
       "  </thead>\n",
       "  <tbody>\n",
       "    <tr>\n",
       "      <th>0</th>\n",
       "      <td>A Capella</td>\n",
       "      <td>9.302521</td>\n",
       "    </tr>\n",
       "    <tr>\n",
       "      <th>12</th>\n",
       "      <td>Movie</td>\n",
       "      <td>11.428723</td>\n",
       "    </tr>\n",
       "    <tr>\n",
       "      <th>13</th>\n",
       "      <td>Opera</td>\n",
       "      <td>12.705867</td>\n",
       "    </tr>\n",
       "    <tr>\n",
       "      <th>4</th>\n",
       "      <td>Comedy</td>\n",
       "      <td>21.329648</td>\n",
       "    </tr>\n",
       "    <tr>\n",
       "      <th>20</th>\n",
       "      <td>Ska</td>\n",
       "      <td>27.461855</td>\n",
       "    </tr>\n",
       "  </tbody>\n",
       "</table>\n",
       "</div>"
      ],
      "text/plain": [
       "        genre  popularity\n",
       "0   A Capella    9.302521\n",
       "12      Movie   11.428723\n",
       "13      Opera   12.705867\n",
       "4      Comedy   21.329648\n",
       "20        Ska   27.461855"
      ]
     },
     "execution_count": 64,
     "metadata": {},
     "output_type": "execute_result"
    }
   ],
   "source": [
    "# group songs by genre and sort by popularity\n",
    "songs1 = songs.groupby(['genre']).mean().reset_index().sort_values('popularity').iloc[:, 0:2]\n",
    "songs1.head()"
   ]
  },
  {
   "cell_type": "code",
   "execution_count": 63,
   "metadata": {},
   "outputs": [
    {
     "data": {
      "application/vnd.plotly.v1+json": {
       "config": {
        "plotlyServerURL": "https://plot.ly"
       },
       "data": [
        {
         "alignmentgroup": "True",
         "hovertemplate": "popularity=%{x}<br>genre=%{y}<extra></extra>",
         "legendgroup": "",
         "marker": {
          "color": "#636efa",
          "pattern": {
           "shape": ""
          }
         },
         "name": "",
         "offsetgroup": "",
         "orientation": "h",
         "showlegend": false,
         "textposition": "auto",
         "type": "bar",
         "x": [
          9.302521008403362,
          11.428722700198543,
          12.705867443923458,
          21.32964761806345,
          27.461854899027674,
          29.26335135135135,
          33.67692650830824,
          34.46640955461557,
          35.431064171736885,
          36.42544219280778,
          37.58574707618319,
          39.739931237721024,
          43.94226967180704,
          44.688737201365186,
          47.45297741273101,
          48.28675810793488,
          51.96730147323033,
          53.156297420333836,
          53.992560175054706,
          55.48566037735849,
          56.267293323692456,
          56.9732241646382,
          59.243478260869566,
          67.4718485301445
         ],
         "xaxis": "x",
         "y": [
          "A Capella",
          "Movie",
          "Opera",
          "Comedy",
          "Ska",
          "Classical",
          "Soundtrack",
          "World",
          "Reggae",
          "Reggaeton",
          "Electronic",
          "Jazz",
          "Soul",
          "Country",
          "R&B",
          "Folk",
          "Indie",
          "Blues",
          "Hip-Hop",
          "Alternative",
          "Dance",
          "Rap",
          "Rock",
          "Pop"
         ],
         "yaxis": "y"
        }
       ],
       "layout": {
        "barmode": "relative",
        "legend": {
         "tracegroupgap": 0
        },
        "template": {
         "data": {
          "bar": [
           {
            "error_x": {
             "color": "#2a3f5f"
            },
            "error_y": {
             "color": "#2a3f5f"
            },
            "marker": {
             "line": {
              "color": "#E5ECF6",
              "width": 0.5
             },
             "pattern": {
              "fillmode": "overlay",
              "size": 10,
              "solidity": 0.2
             }
            },
            "type": "bar"
           }
          ],
          "barpolar": [
           {
            "marker": {
             "line": {
              "color": "#E5ECF6",
              "width": 0.5
             },
             "pattern": {
              "fillmode": "overlay",
              "size": 10,
              "solidity": 0.2
             }
            },
            "type": "barpolar"
           }
          ],
          "carpet": [
           {
            "aaxis": {
             "endlinecolor": "#2a3f5f",
             "gridcolor": "white",
             "linecolor": "white",
             "minorgridcolor": "white",
             "startlinecolor": "#2a3f5f"
            },
            "baxis": {
             "endlinecolor": "#2a3f5f",
             "gridcolor": "white",
             "linecolor": "white",
             "minorgridcolor": "white",
             "startlinecolor": "#2a3f5f"
            },
            "type": "carpet"
           }
          ],
          "choropleth": [
           {
            "colorbar": {
             "outlinewidth": 0,
             "ticks": ""
            },
            "type": "choropleth"
           }
          ],
          "contour": [
           {
            "colorbar": {
             "outlinewidth": 0,
             "ticks": ""
            },
            "colorscale": [
             [
              0,
              "#0d0887"
             ],
             [
              0.1111111111111111,
              "#46039f"
             ],
             [
              0.2222222222222222,
              "#7201a8"
             ],
             [
              0.3333333333333333,
              "#9c179e"
             ],
             [
              0.4444444444444444,
              "#bd3786"
             ],
             [
              0.5555555555555556,
              "#d8576b"
             ],
             [
              0.6666666666666666,
              "#ed7953"
             ],
             [
              0.7777777777777778,
              "#fb9f3a"
             ],
             [
              0.8888888888888888,
              "#fdca26"
             ],
             [
              1,
              "#f0f921"
             ]
            ],
            "type": "contour"
           }
          ],
          "contourcarpet": [
           {
            "colorbar": {
             "outlinewidth": 0,
             "ticks": ""
            },
            "type": "contourcarpet"
           }
          ],
          "heatmap": [
           {
            "colorbar": {
             "outlinewidth": 0,
             "ticks": ""
            },
            "colorscale": [
             [
              0,
              "#0d0887"
             ],
             [
              0.1111111111111111,
              "#46039f"
             ],
             [
              0.2222222222222222,
              "#7201a8"
             ],
             [
              0.3333333333333333,
              "#9c179e"
             ],
             [
              0.4444444444444444,
              "#bd3786"
             ],
             [
              0.5555555555555556,
              "#d8576b"
             ],
             [
              0.6666666666666666,
              "#ed7953"
             ],
             [
              0.7777777777777778,
              "#fb9f3a"
             ],
             [
              0.8888888888888888,
              "#fdca26"
             ],
             [
              1,
              "#f0f921"
             ]
            ],
            "type": "heatmap"
           }
          ],
          "heatmapgl": [
           {
            "colorbar": {
             "outlinewidth": 0,
             "ticks": ""
            },
            "colorscale": [
             [
              0,
              "#0d0887"
             ],
             [
              0.1111111111111111,
              "#46039f"
             ],
             [
              0.2222222222222222,
              "#7201a8"
             ],
             [
              0.3333333333333333,
              "#9c179e"
             ],
             [
              0.4444444444444444,
              "#bd3786"
             ],
             [
              0.5555555555555556,
              "#d8576b"
             ],
             [
              0.6666666666666666,
              "#ed7953"
             ],
             [
              0.7777777777777778,
              "#fb9f3a"
             ],
             [
              0.8888888888888888,
              "#fdca26"
             ],
             [
              1,
              "#f0f921"
             ]
            ],
            "type": "heatmapgl"
           }
          ],
          "histogram": [
           {
            "marker": {
             "pattern": {
              "fillmode": "overlay",
              "size": 10,
              "solidity": 0.2
             }
            },
            "type": "histogram"
           }
          ],
          "histogram2d": [
           {
            "colorbar": {
             "outlinewidth": 0,
             "ticks": ""
            },
            "colorscale": [
             [
              0,
              "#0d0887"
             ],
             [
              0.1111111111111111,
              "#46039f"
             ],
             [
              0.2222222222222222,
              "#7201a8"
             ],
             [
              0.3333333333333333,
              "#9c179e"
             ],
             [
              0.4444444444444444,
              "#bd3786"
             ],
             [
              0.5555555555555556,
              "#d8576b"
             ],
             [
              0.6666666666666666,
              "#ed7953"
             ],
             [
              0.7777777777777778,
              "#fb9f3a"
             ],
             [
              0.8888888888888888,
              "#fdca26"
             ],
             [
              1,
              "#f0f921"
             ]
            ],
            "type": "histogram2d"
           }
          ],
          "histogram2dcontour": [
           {
            "colorbar": {
             "outlinewidth": 0,
             "ticks": ""
            },
            "colorscale": [
             [
              0,
              "#0d0887"
             ],
             [
              0.1111111111111111,
              "#46039f"
             ],
             [
              0.2222222222222222,
              "#7201a8"
             ],
             [
              0.3333333333333333,
              "#9c179e"
             ],
             [
              0.4444444444444444,
              "#bd3786"
             ],
             [
              0.5555555555555556,
              "#d8576b"
             ],
             [
              0.6666666666666666,
              "#ed7953"
             ],
             [
              0.7777777777777778,
              "#fb9f3a"
             ],
             [
              0.8888888888888888,
              "#fdca26"
             ],
             [
              1,
              "#f0f921"
             ]
            ],
            "type": "histogram2dcontour"
           }
          ],
          "mesh3d": [
           {
            "colorbar": {
             "outlinewidth": 0,
             "ticks": ""
            },
            "type": "mesh3d"
           }
          ],
          "parcoords": [
           {
            "line": {
             "colorbar": {
              "outlinewidth": 0,
              "ticks": ""
             }
            },
            "type": "parcoords"
           }
          ],
          "pie": [
           {
            "automargin": true,
            "type": "pie"
           }
          ],
          "scatter": [
           {
            "marker": {
             "colorbar": {
              "outlinewidth": 0,
              "ticks": ""
             }
            },
            "type": "scatter"
           }
          ],
          "scatter3d": [
           {
            "line": {
             "colorbar": {
              "outlinewidth": 0,
              "ticks": ""
             }
            },
            "marker": {
             "colorbar": {
              "outlinewidth": 0,
              "ticks": ""
             }
            },
            "type": "scatter3d"
           }
          ],
          "scattercarpet": [
           {
            "marker": {
             "colorbar": {
              "outlinewidth": 0,
              "ticks": ""
             }
            },
            "type": "scattercarpet"
           }
          ],
          "scattergeo": [
           {
            "marker": {
             "colorbar": {
              "outlinewidth": 0,
              "ticks": ""
             }
            },
            "type": "scattergeo"
           }
          ],
          "scattergl": [
           {
            "marker": {
             "colorbar": {
              "outlinewidth": 0,
              "ticks": ""
             }
            },
            "type": "scattergl"
           }
          ],
          "scattermapbox": [
           {
            "marker": {
             "colorbar": {
              "outlinewidth": 0,
              "ticks": ""
             }
            },
            "type": "scattermapbox"
           }
          ],
          "scatterpolar": [
           {
            "marker": {
             "colorbar": {
              "outlinewidth": 0,
              "ticks": ""
             }
            },
            "type": "scatterpolar"
           }
          ],
          "scatterpolargl": [
           {
            "marker": {
             "colorbar": {
              "outlinewidth": 0,
              "ticks": ""
             }
            },
            "type": "scatterpolargl"
           }
          ],
          "scatterternary": [
           {
            "marker": {
             "colorbar": {
              "outlinewidth": 0,
              "ticks": ""
             }
            },
            "type": "scatterternary"
           }
          ],
          "surface": [
           {
            "colorbar": {
             "outlinewidth": 0,
             "ticks": ""
            },
            "colorscale": [
             [
              0,
              "#0d0887"
             ],
             [
              0.1111111111111111,
              "#46039f"
             ],
             [
              0.2222222222222222,
              "#7201a8"
             ],
             [
              0.3333333333333333,
              "#9c179e"
             ],
             [
              0.4444444444444444,
              "#bd3786"
             ],
             [
              0.5555555555555556,
              "#d8576b"
             ],
             [
              0.6666666666666666,
              "#ed7953"
             ],
             [
              0.7777777777777778,
              "#fb9f3a"
             ],
             [
              0.8888888888888888,
              "#fdca26"
             ],
             [
              1,
              "#f0f921"
             ]
            ],
            "type": "surface"
           }
          ],
          "table": [
           {
            "cells": {
             "fill": {
              "color": "#EBF0F8"
             },
             "line": {
              "color": "white"
             }
            },
            "header": {
             "fill": {
              "color": "#C8D4E3"
             },
             "line": {
              "color": "white"
             }
            },
            "type": "table"
           }
          ]
         },
         "layout": {
          "annotationdefaults": {
           "arrowcolor": "#2a3f5f",
           "arrowhead": 0,
           "arrowwidth": 1
          },
          "autotypenumbers": "strict",
          "coloraxis": {
           "colorbar": {
            "outlinewidth": 0,
            "ticks": ""
           }
          },
          "colorscale": {
           "diverging": [
            [
             0,
             "#8e0152"
            ],
            [
             0.1,
             "#c51b7d"
            ],
            [
             0.2,
             "#de77ae"
            ],
            [
             0.3,
             "#f1b6da"
            ],
            [
             0.4,
             "#fde0ef"
            ],
            [
             0.5,
             "#f7f7f7"
            ],
            [
             0.6,
             "#e6f5d0"
            ],
            [
             0.7,
             "#b8e186"
            ],
            [
             0.8,
             "#7fbc41"
            ],
            [
             0.9,
             "#4d9221"
            ],
            [
             1,
             "#276419"
            ]
           ],
           "sequential": [
            [
             0,
             "#0d0887"
            ],
            [
             0.1111111111111111,
             "#46039f"
            ],
            [
             0.2222222222222222,
             "#7201a8"
            ],
            [
             0.3333333333333333,
             "#9c179e"
            ],
            [
             0.4444444444444444,
             "#bd3786"
            ],
            [
             0.5555555555555556,
             "#d8576b"
            ],
            [
             0.6666666666666666,
             "#ed7953"
            ],
            [
             0.7777777777777778,
             "#fb9f3a"
            ],
            [
             0.8888888888888888,
             "#fdca26"
            ],
            [
             1,
             "#f0f921"
            ]
           ],
           "sequentialminus": [
            [
             0,
             "#0d0887"
            ],
            [
             0.1111111111111111,
             "#46039f"
            ],
            [
             0.2222222222222222,
             "#7201a8"
            ],
            [
             0.3333333333333333,
             "#9c179e"
            ],
            [
             0.4444444444444444,
             "#bd3786"
            ],
            [
             0.5555555555555556,
             "#d8576b"
            ],
            [
             0.6666666666666666,
             "#ed7953"
            ],
            [
             0.7777777777777778,
             "#fb9f3a"
            ],
            [
             0.8888888888888888,
             "#fdca26"
            ],
            [
             1,
             "#f0f921"
            ]
           ]
          },
          "colorway": [
           "#636efa",
           "#EF553B",
           "#00cc96",
           "#ab63fa",
           "#FFA15A",
           "#19d3f3",
           "#FF6692",
           "#B6E880",
           "#FF97FF",
           "#FECB52"
          ],
          "font": {
           "color": "#2a3f5f"
          },
          "geo": {
           "bgcolor": "white",
           "lakecolor": "white",
           "landcolor": "#E5ECF6",
           "showlakes": true,
           "showland": true,
           "subunitcolor": "white"
          },
          "hoverlabel": {
           "align": "left"
          },
          "hovermode": "closest",
          "mapbox": {
           "style": "light"
          },
          "paper_bgcolor": "white",
          "plot_bgcolor": "#E5ECF6",
          "polar": {
           "angularaxis": {
            "gridcolor": "white",
            "linecolor": "white",
            "ticks": ""
           },
           "bgcolor": "#E5ECF6",
           "radialaxis": {
            "gridcolor": "white",
            "linecolor": "white",
            "ticks": ""
           }
          },
          "scene": {
           "xaxis": {
            "backgroundcolor": "#E5ECF6",
            "gridcolor": "white",
            "gridwidth": 2,
            "linecolor": "white",
            "showbackground": true,
            "ticks": "",
            "zerolinecolor": "white"
           },
           "yaxis": {
            "backgroundcolor": "#E5ECF6",
            "gridcolor": "white",
            "gridwidth": 2,
            "linecolor": "white",
            "showbackground": true,
            "ticks": "",
            "zerolinecolor": "white"
           },
           "zaxis": {
            "backgroundcolor": "#E5ECF6",
            "gridcolor": "white",
            "gridwidth": 2,
            "linecolor": "white",
            "showbackground": true,
            "ticks": "",
            "zerolinecolor": "white"
           }
          },
          "shapedefaults": {
           "line": {
            "color": "#2a3f5f"
           }
          },
          "ternary": {
           "aaxis": {
            "gridcolor": "white",
            "linecolor": "white",
            "ticks": ""
           },
           "baxis": {
            "gridcolor": "white",
            "linecolor": "white",
            "ticks": ""
           },
           "bgcolor": "#E5ECF6",
           "caxis": {
            "gridcolor": "white",
            "linecolor": "white",
            "ticks": ""
           }
          },
          "title": {
           "x": 0.05
          },
          "xaxis": {
           "automargin": true,
           "gridcolor": "white",
           "linecolor": "white",
           "ticks": "",
           "title": {
            "standoff": 15
           },
           "zerolinecolor": "white",
           "zerolinewidth": 2
          },
          "yaxis": {
           "automargin": true,
           "gridcolor": "white",
           "linecolor": "white",
           "ticks": "",
           "title": {
            "standoff": 15
           },
           "zerolinecolor": "white",
           "zerolinewidth": 2
          }
         }
        },
        "title": {
         "text": "Spotify Average Popularity by Genre"
        },
        "xaxis": {
         "anchor": "y",
         "domain": [
          0,
          1
         ],
         "title": {
          "text": "popularity"
         }
        },
        "yaxis": {
         "anchor": "x",
         "domain": [
          0,
          1
         ],
         "title": {
          "text": "genre"
         }
        }
       }
      },
      "text/html": [
       "<div>                            <div id=\"ae34f749-92b6-428f-9554-fa955035f74d\" class=\"plotly-graph-div\" style=\"height:525px; width:100%;\"></div>            <script type=\"text/javascript\">                require([\"plotly\"], function(Plotly) {                    window.PLOTLYENV=window.PLOTLYENV || {};                                    if (document.getElementById(\"ae34f749-92b6-428f-9554-fa955035f74d\")) {                    Plotly.newPlot(                        \"ae34f749-92b6-428f-9554-fa955035f74d\",                        [{\"alignmentgroup\":\"True\",\"hovertemplate\":\"popularity=%{x}<br>genre=%{y}<extra></extra>\",\"legendgroup\":\"\",\"marker\":{\"color\":\"#636efa\",\"pattern\":{\"shape\":\"\"}},\"name\":\"\",\"offsetgroup\":\"\",\"orientation\":\"h\",\"showlegend\":false,\"textposition\":\"auto\",\"type\":\"bar\",\"x\":[9.302521008403362,11.428722700198543,12.705867443923458,21.32964761806345,27.461854899027674,29.26335135135135,33.67692650830824,34.46640955461557,35.431064171736885,36.42544219280778,37.58574707618319,39.739931237721024,43.94226967180704,44.688737201365186,47.45297741273101,48.28675810793488,51.96730147323033,53.156297420333836,53.992560175054706,55.48566037735849,56.267293323692456,56.9732241646382,59.243478260869566,67.4718485301445],\"xaxis\":\"x\",\"y\":[\"A Capella\",\"Movie\",\"Opera\",\"Comedy\",\"Ska\",\"Classical\",\"Soundtrack\",\"World\",\"Reggae\",\"Reggaeton\",\"Electronic\",\"Jazz\",\"Soul\",\"Country\",\"R&B\",\"Folk\",\"Indie\",\"Blues\",\"Hip-Hop\",\"Alternative\",\"Dance\",\"Rap\",\"Rock\",\"Pop\"],\"yaxis\":\"y\"}],                        {\"barmode\":\"relative\",\"legend\":{\"tracegroupgap\":0},\"template\":{\"data\":{\"bar\":[{\"error_x\":{\"color\":\"#2a3f5f\"},\"error_y\":{\"color\":\"#2a3f5f\"},\"marker\":{\"line\":{\"color\":\"#E5ECF6\",\"width\":0.5},\"pattern\":{\"fillmode\":\"overlay\",\"size\":10,\"solidity\":0.2}},\"type\":\"bar\"}],\"barpolar\":[{\"marker\":{\"line\":{\"color\":\"#E5ECF6\",\"width\":0.5},\"pattern\":{\"fillmode\":\"overlay\",\"size\":10,\"solidity\":0.2}},\"type\":\"barpolar\"}],\"carpet\":[{\"aaxis\":{\"endlinecolor\":\"#2a3f5f\",\"gridcolor\":\"white\",\"linecolor\":\"white\",\"minorgridcolor\":\"white\",\"startlinecolor\":\"#2a3f5f\"},\"baxis\":{\"endlinecolor\":\"#2a3f5f\",\"gridcolor\":\"white\",\"linecolor\":\"white\",\"minorgridcolor\":\"white\",\"startlinecolor\":\"#2a3f5f\"},\"type\":\"carpet\"}],\"choropleth\":[{\"colorbar\":{\"outlinewidth\":0,\"ticks\":\"\"},\"type\":\"choropleth\"}],\"contour\":[{\"colorbar\":{\"outlinewidth\":0,\"ticks\":\"\"},\"colorscale\":[[0.0,\"#0d0887\"],[0.1111111111111111,\"#46039f\"],[0.2222222222222222,\"#7201a8\"],[0.3333333333333333,\"#9c179e\"],[0.4444444444444444,\"#bd3786\"],[0.5555555555555556,\"#d8576b\"],[0.6666666666666666,\"#ed7953\"],[0.7777777777777778,\"#fb9f3a\"],[0.8888888888888888,\"#fdca26\"],[1.0,\"#f0f921\"]],\"type\":\"contour\"}],\"contourcarpet\":[{\"colorbar\":{\"outlinewidth\":0,\"ticks\":\"\"},\"type\":\"contourcarpet\"}],\"heatmap\":[{\"colorbar\":{\"outlinewidth\":0,\"ticks\":\"\"},\"colorscale\":[[0.0,\"#0d0887\"],[0.1111111111111111,\"#46039f\"],[0.2222222222222222,\"#7201a8\"],[0.3333333333333333,\"#9c179e\"],[0.4444444444444444,\"#bd3786\"],[0.5555555555555556,\"#d8576b\"],[0.6666666666666666,\"#ed7953\"],[0.7777777777777778,\"#fb9f3a\"],[0.8888888888888888,\"#fdca26\"],[1.0,\"#f0f921\"]],\"type\":\"heatmap\"}],\"heatmapgl\":[{\"colorbar\":{\"outlinewidth\":0,\"ticks\":\"\"},\"colorscale\":[[0.0,\"#0d0887\"],[0.1111111111111111,\"#46039f\"],[0.2222222222222222,\"#7201a8\"],[0.3333333333333333,\"#9c179e\"],[0.4444444444444444,\"#bd3786\"],[0.5555555555555556,\"#d8576b\"],[0.6666666666666666,\"#ed7953\"],[0.7777777777777778,\"#fb9f3a\"],[0.8888888888888888,\"#fdca26\"],[1.0,\"#f0f921\"]],\"type\":\"heatmapgl\"}],\"histogram\":[{\"marker\":{\"pattern\":{\"fillmode\":\"overlay\",\"size\":10,\"solidity\":0.2}},\"type\":\"histogram\"}],\"histogram2d\":[{\"colorbar\":{\"outlinewidth\":0,\"ticks\":\"\"},\"colorscale\":[[0.0,\"#0d0887\"],[0.1111111111111111,\"#46039f\"],[0.2222222222222222,\"#7201a8\"],[0.3333333333333333,\"#9c179e\"],[0.4444444444444444,\"#bd3786\"],[0.5555555555555556,\"#d8576b\"],[0.6666666666666666,\"#ed7953\"],[0.7777777777777778,\"#fb9f3a\"],[0.8888888888888888,\"#fdca26\"],[1.0,\"#f0f921\"]],\"type\":\"histogram2d\"}],\"histogram2dcontour\":[{\"colorbar\":{\"outlinewidth\":0,\"ticks\":\"\"},\"colorscale\":[[0.0,\"#0d0887\"],[0.1111111111111111,\"#46039f\"],[0.2222222222222222,\"#7201a8\"],[0.3333333333333333,\"#9c179e\"],[0.4444444444444444,\"#bd3786\"],[0.5555555555555556,\"#d8576b\"],[0.6666666666666666,\"#ed7953\"],[0.7777777777777778,\"#fb9f3a\"],[0.8888888888888888,\"#fdca26\"],[1.0,\"#f0f921\"]],\"type\":\"histogram2dcontour\"}],\"mesh3d\":[{\"colorbar\":{\"outlinewidth\":0,\"ticks\":\"\"},\"type\":\"mesh3d\"}],\"parcoords\":[{\"line\":{\"colorbar\":{\"outlinewidth\":0,\"ticks\":\"\"}},\"type\":\"parcoords\"}],\"pie\":[{\"automargin\":true,\"type\":\"pie\"}],\"scatter\":[{\"marker\":{\"colorbar\":{\"outlinewidth\":0,\"ticks\":\"\"}},\"type\":\"scatter\"}],\"scatter3d\":[{\"line\":{\"colorbar\":{\"outlinewidth\":0,\"ticks\":\"\"}},\"marker\":{\"colorbar\":{\"outlinewidth\":0,\"ticks\":\"\"}},\"type\":\"scatter3d\"}],\"scattercarpet\":[{\"marker\":{\"colorbar\":{\"outlinewidth\":0,\"ticks\":\"\"}},\"type\":\"scattercarpet\"}],\"scattergeo\":[{\"marker\":{\"colorbar\":{\"outlinewidth\":0,\"ticks\":\"\"}},\"type\":\"scattergeo\"}],\"scattergl\":[{\"marker\":{\"colorbar\":{\"outlinewidth\":0,\"ticks\":\"\"}},\"type\":\"scattergl\"}],\"scattermapbox\":[{\"marker\":{\"colorbar\":{\"outlinewidth\":0,\"ticks\":\"\"}},\"type\":\"scattermapbox\"}],\"scatterpolar\":[{\"marker\":{\"colorbar\":{\"outlinewidth\":0,\"ticks\":\"\"}},\"type\":\"scatterpolar\"}],\"scatterpolargl\":[{\"marker\":{\"colorbar\":{\"outlinewidth\":0,\"ticks\":\"\"}},\"type\":\"scatterpolargl\"}],\"scatterternary\":[{\"marker\":{\"colorbar\":{\"outlinewidth\":0,\"ticks\":\"\"}},\"type\":\"scatterternary\"}],\"surface\":[{\"colorbar\":{\"outlinewidth\":0,\"ticks\":\"\"},\"colorscale\":[[0.0,\"#0d0887\"],[0.1111111111111111,\"#46039f\"],[0.2222222222222222,\"#7201a8\"],[0.3333333333333333,\"#9c179e\"],[0.4444444444444444,\"#bd3786\"],[0.5555555555555556,\"#d8576b\"],[0.6666666666666666,\"#ed7953\"],[0.7777777777777778,\"#fb9f3a\"],[0.8888888888888888,\"#fdca26\"],[1.0,\"#f0f921\"]],\"type\":\"surface\"}],\"table\":[{\"cells\":{\"fill\":{\"color\":\"#EBF0F8\"},\"line\":{\"color\":\"white\"}},\"header\":{\"fill\":{\"color\":\"#C8D4E3\"},\"line\":{\"color\":\"white\"}},\"type\":\"table\"}]},\"layout\":{\"annotationdefaults\":{\"arrowcolor\":\"#2a3f5f\",\"arrowhead\":0,\"arrowwidth\":1},\"autotypenumbers\":\"strict\",\"coloraxis\":{\"colorbar\":{\"outlinewidth\":0,\"ticks\":\"\"}},\"colorscale\":{\"diverging\":[[0,\"#8e0152\"],[0.1,\"#c51b7d\"],[0.2,\"#de77ae\"],[0.3,\"#f1b6da\"],[0.4,\"#fde0ef\"],[0.5,\"#f7f7f7\"],[0.6,\"#e6f5d0\"],[0.7,\"#b8e186\"],[0.8,\"#7fbc41\"],[0.9,\"#4d9221\"],[1,\"#276419\"]],\"sequential\":[[0.0,\"#0d0887\"],[0.1111111111111111,\"#46039f\"],[0.2222222222222222,\"#7201a8\"],[0.3333333333333333,\"#9c179e\"],[0.4444444444444444,\"#bd3786\"],[0.5555555555555556,\"#d8576b\"],[0.6666666666666666,\"#ed7953\"],[0.7777777777777778,\"#fb9f3a\"],[0.8888888888888888,\"#fdca26\"],[1.0,\"#f0f921\"]],\"sequentialminus\":[[0.0,\"#0d0887\"],[0.1111111111111111,\"#46039f\"],[0.2222222222222222,\"#7201a8\"],[0.3333333333333333,\"#9c179e\"],[0.4444444444444444,\"#bd3786\"],[0.5555555555555556,\"#d8576b\"],[0.6666666666666666,\"#ed7953\"],[0.7777777777777778,\"#fb9f3a\"],[0.8888888888888888,\"#fdca26\"],[1.0,\"#f0f921\"]]},\"colorway\":[\"#636efa\",\"#EF553B\",\"#00cc96\",\"#ab63fa\",\"#FFA15A\",\"#19d3f3\",\"#FF6692\",\"#B6E880\",\"#FF97FF\",\"#FECB52\"],\"font\":{\"color\":\"#2a3f5f\"},\"geo\":{\"bgcolor\":\"white\",\"lakecolor\":\"white\",\"landcolor\":\"#E5ECF6\",\"showlakes\":true,\"showland\":true,\"subunitcolor\":\"white\"},\"hoverlabel\":{\"align\":\"left\"},\"hovermode\":\"closest\",\"mapbox\":{\"style\":\"light\"},\"paper_bgcolor\":\"white\",\"plot_bgcolor\":\"#E5ECF6\",\"polar\":{\"angularaxis\":{\"gridcolor\":\"white\",\"linecolor\":\"white\",\"ticks\":\"\"},\"bgcolor\":\"#E5ECF6\",\"radialaxis\":{\"gridcolor\":\"white\",\"linecolor\":\"white\",\"ticks\":\"\"}},\"scene\":{\"xaxis\":{\"backgroundcolor\":\"#E5ECF6\",\"gridcolor\":\"white\",\"gridwidth\":2,\"linecolor\":\"white\",\"showbackground\":true,\"ticks\":\"\",\"zerolinecolor\":\"white\"},\"yaxis\":{\"backgroundcolor\":\"#E5ECF6\",\"gridcolor\":\"white\",\"gridwidth\":2,\"linecolor\":\"white\",\"showbackground\":true,\"ticks\":\"\",\"zerolinecolor\":\"white\"},\"zaxis\":{\"backgroundcolor\":\"#E5ECF6\",\"gridcolor\":\"white\",\"gridwidth\":2,\"linecolor\":\"white\",\"showbackground\":true,\"ticks\":\"\",\"zerolinecolor\":\"white\"}},\"shapedefaults\":{\"line\":{\"color\":\"#2a3f5f\"}},\"ternary\":{\"aaxis\":{\"gridcolor\":\"white\",\"linecolor\":\"white\",\"ticks\":\"\"},\"baxis\":{\"gridcolor\":\"white\",\"linecolor\":\"white\",\"ticks\":\"\"},\"bgcolor\":\"#E5ECF6\",\"caxis\":{\"gridcolor\":\"white\",\"linecolor\":\"white\",\"ticks\":\"\"}},\"title\":{\"x\":0.05},\"xaxis\":{\"automargin\":true,\"gridcolor\":\"white\",\"linecolor\":\"white\",\"ticks\":\"\",\"title\":{\"standoff\":15},\"zerolinecolor\":\"white\",\"zerolinewidth\":2},\"yaxis\":{\"automargin\":true,\"gridcolor\":\"white\",\"linecolor\":\"white\",\"ticks\":\"\",\"title\":{\"standoff\":15},\"zerolinecolor\":\"white\",\"zerolinewidth\":2}}},\"title\":{\"text\":\"Spotify Average Popularity by Genre\"},\"xaxis\":{\"anchor\":\"y\",\"domain\":[0.0,1.0],\"title\":{\"text\":\"popularity\"}},\"yaxis\":{\"anchor\":\"x\",\"domain\":[0.0,1.0],\"title\":{\"text\":\"genre\"}}},                        {\"responsive\": true}                    ).then(function(){\n",
       "                            \n",
       "var gd = document.getElementById('ae34f749-92b6-428f-9554-fa955035f74d');\n",
       "var x = new MutationObserver(function (mutations, observer) {{\n",
       "        var display = window.getComputedStyle(gd).display;\n",
       "        if (!display || display === 'none') {{\n",
       "            console.log([gd, 'removed!']);\n",
       "            Plotly.purge(gd);\n",
       "            observer.disconnect();\n",
       "        }}\n",
       "}});\n",
       "\n",
       "// Listen for the removal of the full notebook cells\n",
       "var notebookContainer = gd.closest('#notebook-container');\n",
       "if (notebookContainer) {{\n",
       "    x.observe(notebookContainer, {childList: true});\n",
       "}}\n",
       "\n",
       "// Listen for the clearing of the current output cell\n",
       "var outputEl = gd.closest('.output');\n",
       "if (outputEl) {{\n",
       "    x.observe(outputEl, {childList: true});\n",
       "}}\n",
       "\n",
       "                        })                };                });            </script>        </div>"
      ]
     },
     "metadata": {},
     "output_type": "display_data"
    }
   ],
   "source": [
    "fig = px.bar(songs1, y=\"genre\", x='popularity', orientation='h', title='Spotify Average Popularity by Genre')\n",
    "fig.show() #wow pop so popular"
   ]
  },
  {
   "cell_type": "markdown",
   "metadata": {},
   "source": [
    "From our histogram, we see that the Pop genre is typically has the more popular songs on spotify, with A Capella being lesser popular. This makes sense and can be interpreted as how an original song is typically more popular than a cover by another singer. A Capellas are usually covers of other songs (in various genres), and thus explaining their lesser popularity."
   ]
  },
  {
   "cell_type": "code",
   "execution_count": 5,
   "metadata": {},
   "outputs": [
    {
     "data": {
      "text/plain": [
       "Text(0.5, 1.0, 'Spotify Popularity Density Histogram')"
      ]
     },
     "execution_count": 5,
     "metadata": {},
     "output_type": "execute_result"
    },
    {
     "data": {
      "image/png": "[encoded data removed]",
      "text/plain": [
       "<Figure size 576x432 with 1 Axes>"
      ]
     },
     "metadata": {},
     "output_type": "display_data"
    }
   ],
   "source": [
    "# change plot size\n",
    "plt.figure(figsize=(8,6))\n",
    "\n",
    "# distplot\n",
    "p = sns.distplot(songs['popularity'])\n",
    "p.set_xlabel('popularity level', fontsize = 20)\n",
    "p.set_ylabel(\"density\", fontsize = 20)\n",
    "p.set_title('Spotify Popularity Density Histogram', fontsize = 20)"
   ]
  },
  {
   "cell_type": "markdown",
   "metadata": {},
   "source": [
    "From our density histogram we can see that the distribution of songs by their popularity level is similar to that of a normal distribution. Most song's popularity level are in the middle at around 30-50. There are fewer songs that are on the higher and lower end of the popularity scale, with the only exception being songs with 0 popularity. This can be explained since the popularity score is based on spotify's API algorithm and one of its significant weights is the song's current popularity. Thus, older songs that just aren't being played as often anymore will have its popularity slowly be lower until it eventually drops to 0."
   ]
  },
  {
   "cell_type": "markdown",
   "metadata": {},
   "source": [
    "\n",
    "Here we are creating a dataframe called songs_count in order to count the amount of songs in each genre at each popularity point level"
   ]
  },
  {
   "cell_type": "code",
   "execution_count": 108,
   "metadata": {},
   "outputs": [],
   "source": [
    "# count songs by popularity and genre\n",
    "songs_count = songs.groupby(['genre','popularity']).count().reset_index()[['genre', 'popularity', 'energy']]\n",
    "songs_count = songs_count.rename(columns={\"energy\": \"count\"})"
   ]
  },
  {
   "cell_type": "markdown",
   "metadata": {},
   "source": [
    "Next we are creating a dataframe map to add the total amount of songs and the median in each genre. The total amount of songs is used to find the density while the median is used for sorting the boxplot."
   ]
  },
  {
   "cell_type": "code",
   "execution_count": null,
   "metadata": {},
   "outputs": [],
   "source": [
    "# creating map of total songs and the median for each genre\n",
    "genre_map = songs_count.groupby(['genre']).sum().reset_index()[['genre', 'count']]\n",
    "median_col = songs_count.groupby(['genre']).median().reset_index()[['popularity']]\n",
    "genre_map['median'] = median_col"
   ]
  },
  {
   "cell_type": "markdown",
   "metadata": {},
   "source": [
    "Then we are going to merge the dataframes together and calculate the density by dividing the count by the total, and finilizing by sorting by the median count of songs for each genre."
   ]
  },
  {
   "cell_type": "code",
   "execution_count": 111,
   "metadata": {},
   "outputs": [],
   "source": [
    "# mergeing the count of songs dataframe with its total count and median map\n",
    "songs_merge = songs_count.merge(genre_map, left_on='genre', right_on='genre')\n",
    "\n",
    "# create a new column for density \n",
    "songs_merge['density'] = songs_merge['count_x'] / songs_merge['count_y']\n",
    "\n",
    "# sorting by median\n",
    "songs_merge = songs_merge.sort_values(by='median', ascending=True)"
   ]
  },
  {
   "cell_type": "markdown",
   "metadata": {},
   "source": [
    "Using this dataframe, we are going to create a density histogram facetted by each genre as well as a boxplot to show the distribution of song's popularity within each genre."
   ]
  },
  {
   "cell_type": "code",
   "execution_count": 112,
   "metadata": {},
   "outputs": [
    {
     "data": {
      "text/html": [
       "\n",
       "<div id=\"altair-viz-74dd38a4ae7442adac8b776acaf43894\"></div>\n",
       "<script type=\"text/javascript\">\n",
       "  (function(spec, embedOpt){\n",
       "    let outputDiv = document.currentScript.previousElementSibling;\n",
       "    if (outputDiv.id !== \"altair-viz-74dd38a4ae7442adac8b776acaf43894\") {\n",
       "      outputDiv = document.getElementById(\"altair-viz-74dd38a4ae7442adac8b776acaf43894\");\n",
       "    }\n",
       "    const paths = {\n",
       "      \"vega\": \"https://cdn.jsdelivr.net/npm//vega@5?noext\",\n",
       "      \"vega-lib\": \"https://cdn.jsdelivr.net/npm//vega-lib?noext\",\n",
       "      \"vega-lite\": \"https://cdn.jsdelivr.net/npm//vega-lite@4.8.1?noext\",\n",
       "      \"vega-embed\": \"https://cdn.jsdelivr.net/npm//vega-embed@6?noext\",\n",
       "    };\n",
       "\n",
       "    function loadScript(lib) {\n",
       "      return new Promise(function(resolve, reject) {\n",
       "        var s = document.createElement('script');\n",
       "        s.src = paths[lib];\n",
       "        s.async = true;\n",
       "        s.onload = () => resolve(paths[lib]);\n",
       "        s.onerror = () => reject(`Error loading script: ${paths[lib]}`);\n",
       "        document.getElementsByTagName(\"head\")[0].appendChild(s);\n",
       "      });\n",
       "    }\n",
       "\n",
       "    function showError(err) {\n",
       "      outputDiv.innerHTML = `<div class=\"error\" style=\"color:red;\">${err}</div>`;\n",
       "      throw err;\n",
       "    }\n",
       "\n",
       "    function displayChart(vegaEmbed) {\n",
       "      vegaEmbed(outputDiv, spec, embedOpt)\n",
       "        .catch(err => showError(`Javascript Error: ${err.message}<br>This usually means there's a typo in your chart specification. See the javascript console for the full traceback.`));\n",
       "    }\n",
       "\n",
       "    if(typeof define === \"function\" && define.amd) {\n",
       "      requirejs.config({paths});\n",
       "      require([\"vega-embed\"], displayChart, err => showError(`Error loading script: ${err.message}`));\n",
       "    } else if (typeof vegaEmbed === \"function\") {\n",
       "      displayChart(vegaEmbed);\n",
       "    } else {\n",
       "      loadScript(\"vega\")\n",
       "        .then(() => loadScript(\"vega-lite\"))\n",
       "        .then(() => loadScript(\"vega-embed\"))\n",
       "        .catch(showError)\n",
       "        .then(() => displayChart(vegaEmbed));\n",
       "    }\n",
       "  })({\"config\": {\"view\": {\"continuousWidth\": 400, \"continuousHeight\": 300}}, \"data\": {\"name\": \"data-8531b9d6e5b29608e12cf17a196f627c\"}, \"facet\": {\"type\": \"nominal\", \"field\": \"genre\"}, \"spec\": {\"mark\": \"bar\", \"encoding\": {\"x\": {\"type\": \"quantitative\", \"bin\": {\"maxbins\": 25}, \"field\": \"popularity\"}, \"y\": {\"type\": \"quantitative\", \"field\": \"density\"}}, \"height\": 160, \"width\": 160}, \"columns\": 4, \"resolve\": {\"axis\": {\"x\": \"independent\", \"y\": \"independent\"}}, \"$schema\": \"https://vega.github.io/schema/vega-lite/v4.8.1.json\", \"datasets\": {\"data-8531b9d6e5b29608e12cf17a196f627c\": [{\"genre\": \"A Capella\", \"popularity\": 0, \"count_x\": 10, \"count_y\": 119, \"median\": 13.5, \"density\": 0.08403361344537816}, {\"genre\": \"A Capella\", \"popularity\": 44, \"count_x\": 1, \"count_y\": 119, \"median\": 13.5, \"density\": 0.008403361344537815}, {\"genre\": \"A Capella\", \"popularity\": 33, \"count_x\": 1, \"count_y\": 119, \"median\": 13.5, \"density\": 0.008403361344537815}, {\"genre\": \"A Capella\", \"popularity\": 25, \"count_x\": 1, \"count_y\": 119, \"median\": 13.5, \"density\": 0.008403361344537815}, {\"genre\": \"A Capella\", \"popularity\": 24, \"count_x\": 1, \"count_y\": 119, \"median\": 13.5, \"density\": 0.008403361344537815}, {\"genre\": \"A Capella\", \"popularity\": 23, \"count_x\": 5, \"count_y\": 119, \"median\": 13.5, \"density\": 0.04201680672268908}, {\"genre\": \"A Capella\", \"popularity\": 22, \"count_x\": 1, \"count_y\": 119, \"median\": 13.5, \"density\": 0.008403361344537815}, {\"genre\": \"A Capella\", \"popularity\": 20, \"count_x\": 3, \"count_y\": 119, \"median\": 13.5, \"density\": 0.025210084033613446}, {\"genre\": \"A Capella\", \"popularity\": 19, \"count_x\": 1, \"count_y\": 119, \"median\": 13.5, \"density\": 0.008403361344537815}, {\"genre\": \"A Capella\", \"popularity\": 18, \"count_x\": 4, \"count_y\": 119, \"median\": 13.5, \"density\": 0.03361344537815126}, {\"genre\": \"A Capella\", \"popularity\": 17, \"count_x\": 2, \"count_y\": 119, \"median\": 13.5, \"density\": 0.01680672268907563}, {\"genre\": \"A Capella\", \"popularity\": 16, \"count_x\": 2, \"count_y\": 119, \"median\": 13.5, \"density\": 0.01680672268907563}, {\"genre\": \"A Capella\", \"popularity\": 15, \"count_x\": 4, \"count_y\": 119, \"median\": 13.5, \"density\": 0.03361344537815126}, {\"genre\": \"A Capella\", \"popularity\": 14, \"count_x\": 1, \"count_y\": 119, \"median\": 13.5, \"density\": 0.008403361344537815}, {\"genre\": \"A Capella\", \"popularity\": 26, \"count_x\": 1, \"count_y\": 119, \"median\": 13.5, \"density\": 0.008403361344537815}, {\"genre\": \"A Capella\", \"popularity\": 12, \"count_x\": 3, \"count_y\": 119, \"median\": 13.5, \"density\": 0.025210084033613446}, {\"genre\": \"A Capella\", \"popularity\": 13, \"count_x\": 4, \"count_y\": 119, \"median\": 13.5, \"density\": 0.03361344537815126}, {\"genre\": \"A Capella\", \"popularity\": 1, \"count_x\": 16, \"count_y\": 119, \"median\": 13.5, \"density\": 0.13445378151260504}, {\"genre\": \"A Capella\", \"popularity\": 3, \"count_x\": 1, \"count_y\": 119, \"median\": 13.5, \"density\": 0.008403361344537815}, {\"genre\": \"A Capella\", \"popularity\": 4, \"count_x\": 7, \"count_y\": 119, \"median\": 13.5, \"density\": 0.058823529411764705}, {\"genre\": \"A Capella\", \"popularity\": 5, \"count_x\": 4, \"count_y\": 119, \"median\": 13.5, \"density\": 0.03361344537815126}, {\"genre\": \"A Capella\", \"popularity\": 2, \"count_x\": 2, \"count_y\": 119, \"median\": 13.5, \"density\": 0.01680672268907563}, {\"genre\": \"A Capella\", \"popularity\": 7, \"count_x\": 9, \"count_y\": 119, \"median\": 13.5, \"density\": 0.07563025210084033}, {\"genre\": \"A Capella\", \"popularity\": 8, \"count_x\": 7, \"count_y\": 119, \"median\": 13.5, \"density\": 0.058823529411764705}, {\"genre\": \"A Capella\", \"popularity\": 9, \"count_x\": 9, \"count_y\": 119, \"median\": 13.5, \"density\": 0.07563025210084033}, {\"genre\": \"A Capella\", \"popularity\": 10, \"count_x\": 11, \"count_y\": 119, \"median\": 13.5, \"density\": 0.09243697478991597}, {\"genre\": \"A Capella\", \"popularity\": 11, \"count_x\": 2, \"count_y\": 119, \"median\": 13.5, \"density\": 0.01680672268907563}, {\"genre\": \"A Capella\", \"popularity\": 6, \"count_x\": 6, \"count_y\": 119, \"median\": 13.5, \"density\": 0.05042016806722689}, {\"genre\": \"Opera\", \"popularity\": 26, \"count_x\": 94, \"count_y\": 7891, \"median\": 23.5, \"density\": 0.01191230515777468}, {\"genre\": \"Opera\", \"popularity\": 34, \"count_x\": 18, \"count_y\": 7891, \"median\": 23.5, \"density\": 0.0022810797110632366}, {\"genre\": \"Opera\", \"popularity\": 27, \"count_x\": 86, \"count_y\": 7891, \"median\": 23.5, \"density\": 0.010898491952857687}, {\"genre\": \"Opera\", \"popularity\": 28, \"count_x\": 60, \"count_y\": 7891, \"median\": 23.5, \"density\": 0.007603599036877455}, {\"genre\": \"Opera\", \"popularity\": 29, \"count_x\": 54, \"count_y\": 7891, \"median\": 23.5, \"density\": 0.00684323913318971}, {\"genre\": \"Opera\", \"popularity\": 30, \"count_x\": 45, \"count_y\": 7891, \"median\": 23.5, \"density\": 0.005702699277658091}, {\"genre\": \"Opera\", \"popularity\": 31, \"count_x\": 31, \"count_y\": 7891, \"median\": 23.5, \"density\": 0.003928526169053352}, {\"genre\": \"Opera\", \"popularity\": 32, \"count_x\": 33, \"count_y\": 7891, \"median\": 23.5, \"density\": 0.004181979470282601}, {\"genre\": \"Opera\", \"popularity\": 33, \"count_x\": 37, \"count_y\": 7891, \"median\": 23.5, \"density\": 0.004688886072741098}, {\"genre\": \"Opera\", \"popularity\": 35, \"count_x\": 19, \"count_y\": 7891, \"median\": 23.5, \"density\": 0.002407806361677861}, {\"genre\": \"Opera\", \"popularity\": 42, \"count_x\": 1, \"count_y\": 7891, \"median\": 23.5, \"density\": 0.00012672665061462426}, {\"genre\": \"Opera\", \"popularity\": 37, \"count_x\": 4, \"count_y\": 7891, \"median\": 23.5, \"density\": 0.000506906602458497}, {\"genre\": \"Opera\", \"popularity\": 38, \"count_x\": 3, \"count_y\": 7891, \"median\": 23.5, \"density\": 0.0003801799518438728}, {\"genre\": \"Opera\", \"popularity\": 39, \"count_x\": 2, \"count_y\": 7891, \"median\": 23.5, \"density\": 0.0002534533012292485}, {\"genre\": \"Opera\", \"popularity\": 40, \"count_x\": 6, \"count_y\": 7891, \"median\": 23.5, \"density\": 0.0007603599036877456}, {\"genre\": \"Opera\", \"popularity\": 41, \"count_x\": 2, \"count_y\": 7891, \"median\": 23.5, \"density\": 0.0002534533012292485}, {\"genre\": \"Opera\", \"popularity\": 43, \"count_x\": 2, \"count_y\": 7891, \"median\": 23.5, \"density\": 0.0002534533012292485}, {\"genre\": \"Opera\", \"popularity\": 44, \"count_x\": 2, \"count_y\": 7891, \"median\": 23.5, \"density\": 0.0002534533012292485}, {\"genre\": \"Opera\", \"popularity\": 45, \"count_x\": 2, \"count_y\": 7891, \"median\": 23.5, \"density\": 0.0002534533012292485}, {\"genre\": \"Opera\", \"popularity\": 48, \"count_x\": 1, \"count_y\": 7891, \"median\": 23.5, \"density\": 0.00012672665061462426}, {\"genre\": \"Opera\", \"popularity\": 25, \"count_x\": 109, \"count_y\": 7891, \"median\": 23.5, \"density\": 0.013813204916994044}, {\"genre\": \"Opera\", \"popularity\": 36, \"count_x\": 12, \"count_y\": 7891, \"median\": 23.5, \"density\": 0.0015207198073754911}, {\"genre\": \"Opera\", \"popularity\": 24, \"count_x\": 120, \"count_y\": 7891, \"median\": 23.5, \"density\": 0.01520719807375491}, {\"genre\": \"Opera\", \"popularity\": 10, \"count_x\": 533, \"count_y\": 7891, \"median\": 23.5, \"density\": 0.06754530477759473}, {\"genre\": \"Opera\", \"popularity\": 22, \"count_x\": 138, \"count_y\": 7891, \"median\": 23.5, \"density\": 0.017488277784818148}, {\"genre\": \"Opera\", \"popularity\": 0, \"count_x\": 58, \"count_y\": 7891, \"median\": 23.5, \"density\": 0.007350145735648207}, {\"genre\": \"Opera\", \"popularity\": 1, \"count_x\": 2, \"count_y\": 7891, \"median\": 23.5, \"density\": 0.0002534533012292485}, {\"genre\": \"Opera\", \"popularity\": 2, \"count_x\": 104, \"count_y\": 7891, \"median\": 23.5, \"density\": 0.013179571663920923}, {\"genre\": \"Opera\", \"popularity\": 3, \"count_x\": 172, \"count_y\": 7891, \"median\": 23.5, \"density\": 0.021796983905715373}, {\"genre\": \"Opera\", \"popularity\": 4, \"count_x\": 306, \"count_y\": 7891, \"median\": 23.5, \"density\": 0.03877835508807502}, {\"genre\": \"Opera\", \"popularity\": 5, \"count_x\": 473, \"count_y\": 7891, \"median\": 23.5, \"density\": 0.05994170574071727}, {\"genre\": \"Opera\", \"popularity\": 6, \"count_x\": 457, \"count_y\": 7891, \"median\": 23.5, \"density\": 0.057914079330883286}, {\"genre\": \"Opera\", \"popularity\": 7, \"count_x\": 438, \"count_y\": 7891, \"median\": 23.5, \"density\": 0.05550627296920543}, {\"genre\": \"Opera\", \"popularity\": 8, \"count_x\": 522, \"count_y\": 7891, \"median\": 23.5, \"density\": 0.06615131162083386}, {\"genre\": \"Opera\", \"popularity\": 9, \"count_x\": 553, \"count_y\": 7891, \"median\": 23.5, \"density\": 0.07007983778988722}, {\"genre\": \"Opera\", \"popularity\": 23, \"count_x\": 117, \"count_y\": 7891, \"median\": 23.5, \"density\": 0.014827018121911038}, {\"genre\": \"Opera\", \"popularity\": 49, \"count_x\": 1, \"count_y\": 7891, \"median\": 23.5, \"density\": 0.00012672665061462426}, {\"genre\": \"Opera\", \"popularity\": 12, \"count_x\": 442, \"count_y\": 7891, \"median\": 23.5, \"density\": 0.05601317957166392}, {\"genre\": \"Opera\", \"popularity\": 13, \"count_x\": 383, \"count_y\": 7891, \"median\": 23.5, \"density\": 0.04853630718540109}, {\"genre\": \"Opera\", \"popularity\": 14, \"count_x\": 338, \"count_y\": 7891, \"median\": 23.5, \"density\": 0.042833607907743}, {\"genre\": \"Opera\", \"popularity\": 15, \"count_x\": 339, \"count_y\": 7891, \"median\": 23.5, \"density\": 0.04296033455835762}, {\"genre\": \"Opera\", \"popularity\": 16, \"count_x\": 277, \"count_y\": 7891, \"median\": 23.5, \"density\": 0.03510328222025092}, {\"genre\": \"Opera\", \"popularity\": 17, \"count_x\": 239, \"count_y\": 7891, \"median\": 23.5, \"density\": 0.0302876694968952}, {\"genre\": \"Opera\", \"popularity\": 18, \"count_x\": 210, \"count_y\": 7891, \"median\": 23.5, \"density\": 0.026612596629071093}, {\"genre\": \"Opera\", \"popularity\": 19, \"count_x\": 205, \"count_y\": 7891, \"median\": 23.5, \"density\": 0.025978963375997973}, {\"genre\": \"Opera\", \"popularity\": 20, \"count_x\": 191, \"count_y\": 7891, \"median\": 23.5, \"density\": 0.024204790267393233}, {\"genre\": \"Opera\", \"popularity\": 21, \"count_x\": 171, \"count_y\": 7891, \"median\": 23.5, \"density\": 0.021670257255100748}, {\"genre\": \"Opera\", \"popularity\": 11, \"count_x\": 479, \"count_y\": 7891, \"median\": 23.5, \"density\": 0.060702065644405015}, {\"genre\": \"Comedy\", \"popularity\": 0, \"count_x\": 8, \"count_y\": 9677, \"median\": 31.5, \"density\": 0.0008267024904412524}, {\"genre\": \"Comedy\", \"popularity\": 12, \"count_x\": 533, \"count_y\": 9677, \"median\": 31.5, \"density\": 0.05507905342564844}, {\"genre\": \"Comedy\", \"popularity\": 25, \"count_x\": 341, \"count_y\": 9677, \"median\": 31.5, \"density\": 0.035238193655058384}, {\"genre\": \"Comedy\", \"popularity\": 18, \"count_x\": 456, \"count_y\": 9677, \"median\": 31.5, \"density\": 0.04712204195515139}, {\"genre\": \"Comedy\", \"popularity\": 19, \"count_x\": 451, \"count_y\": 9677, \"median\": 31.5, \"density\": 0.04660535289862561}, {\"genre\": \"Comedy\", \"popularity\": 20, \"count_x\": 408, \"count_y\": 9677, \"median\": 31.5, \"density\": 0.04216182701250387}, {\"genre\": \"Comedy\", \"popularity\": 21, \"count_x\": 389, \"count_y\": 9677, \"median\": 31.5, \"density\": 0.040198408597705904}, {\"genre\": \"Comedy\", \"popularity\": 22, \"count_x\": 424, \"count_y\": 9677, \"median\": 31.5, \"density\": 0.04381523199338638}, {\"genre\": \"Comedy\", \"popularity\": 23, \"count_x\": 425, \"count_y\": 9677, \"median\": 31.5, \"density\": 0.04391856980469153}, {\"genre\": \"Comedy\", \"popularity\": 24, \"count_x\": 387, \"count_y\": 9677, \"median\": 31.5, \"density\": 0.03999173297509559}, {\"genre\": \"Comedy\", \"popularity\": 8, \"count_x\": 4, \"count_y\": 9677, \"median\": 31.5, \"density\": 0.0004133512452206262}, {\"genre\": \"Comedy\", \"popularity\": 26, \"count_x\": 305, \"count_y\": 9677, \"median\": 31.5, \"density\": 0.03151803244807275}, {\"genre\": \"Comedy\", \"popularity\": 27, \"count_x\": 264, \"count_y\": 9677, \"median\": 31.5, \"density\": 0.027281182184561333}, {\"genre\": \"Comedy\", \"popularity\": 28, \"count_x\": 260, \"count_y\": 9677, \"median\": 31.5, \"density\": 0.026867830939340705}, {\"genre\": \"Comedy\", \"popularity\": 29, \"count_x\": 229, \"count_y\": 9677, \"median\": 31.5, \"density\": 0.023664358788880853}, {\"genre\": \"Comedy\", \"popularity\": 30, \"count_x\": 210, \"count_y\": 9677, \"median\": 31.5, \"density\": 0.021700940374082878}, {\"genre\": \"Comedy\", \"popularity\": 31, \"count_x\": 166, \"count_y\": 9677, \"median\": 31.5, \"density\": 0.01715407667665599}, {\"genre\": \"Comedy\", \"popularity\": 32, \"count_x\": 155, \"count_y\": 9677, \"median\": 31.5, \"density\": 0.016017360752299266}, {\"genre\": \"Comedy\", \"popularity\": 33, \"count_x\": 139, \"count_y\": 9677, \"median\": 31.5, \"density\": 0.014363955771416761}, {\"genre\": \"Comedy\", \"popularity\": 34, \"count_x\": 144, \"count_y\": 9677, \"median\": 31.5, \"density\": 0.014880644827942545}, {\"genre\": \"Comedy\", \"popularity\": 35, \"count_x\": 113, \"count_y\": 9677, \"median\": 31.5, \"density\": 0.011677172677482691}, {\"genre\": \"Comedy\", \"popularity\": 36, \"count_x\": 88, \"count_y\": 9677, \"median\": 31.5, \"density\": 0.009093727394853778}, {\"genre\": \"Comedy\", \"popularity\": 37, \"count_x\": 97, \"count_y\": 9677, \"median\": 31.5, \"density\": 0.010023767696600187}, {\"genre\": \"Comedy\", \"popularity\": 38, \"count_x\": 64, \"count_y\": 9677, \"median\": 31.5, \"density\": 0.006613619923530019}, {\"genre\": \"Comedy\", \"popularity\": 17, \"count_x\": 467, \"count_y\": 9677, \"median\": 31.5, \"density\": 0.04825875787950811}, {\"genre\": \"Comedy\", \"popularity\": 39, \"count_x\": 49, \"count_y\": 9677, \"median\": 31.5, \"density\": 0.005063552753952671}, {\"genre\": \"Comedy\", \"popularity\": 16, \"count_x\": 412, \"count_y\": 9677, \"median\": 31.5, \"density\": 0.0425751782577245}, {\"genre\": \"Comedy\", \"popularity\": 14, \"count_x\": 453, \"count_y\": 9677, \"median\": 31.5, \"density\": 0.04681202852123592}, {\"genre\": \"Comedy\", \"popularity\": 56, \"count_x\": 4, \"count_y\": 9677, \"median\": 31.5, \"density\": 0.0004133512452206262}, {\"genre\": \"Comedy\", \"popularity\": 55, \"count_x\": 1, \"count_y\": 9677, \"median\": 31.5, \"density\": 0.00010333781130515655}, {\"genre\": \"Comedy\", \"popularity\": 54, \"count_x\": 1, \"count_y\": 9677, \"median\": 31.5, \"density\": 0.00010333781130515655}, {\"genre\": \"Comedy\", \"popularity\": 53, \"count_x\": 2, \"count_y\": 9677, \"median\": 31.5, \"density\": 0.0002066756226103131}, {\"genre\": \"Comedy\", \"popularity\": 52, \"count_x\": 4, \"count_y\": 9677, \"median\": 31.5, \"density\": 0.0004133512452206262}, {\"genre\": \"Comedy\", \"popularity\": 51, \"count_x\": 4, \"count_y\": 9677, \"median\": 31.5, \"density\": 0.0004133512452206262}, {\"genre\": \"Comedy\", \"popularity\": 50, \"count_x\": 7, \"count_y\": 9677, \"median\": 31.5, \"density\": 0.0007233646791360959}, {\"genre\": \"Comedy\", \"popularity\": 49, \"count_x\": 8, \"count_y\": 9677, \"median\": 31.5, \"density\": 0.0008267024904412524}, {\"genre\": \"Comedy\", \"popularity\": 48, \"count_x\": 16, \"count_y\": 9677, \"median\": 31.5, \"density\": 0.0016534049808825048}, {\"genre\": \"Comedy\", \"popularity\": 15, \"count_x\": 509, \"count_y\": 9677, \"median\": 31.5, \"density\": 0.05259894595432469}, {\"genre\": \"Comedy\", \"popularity\": 47, \"count_x\": 15, \"count_y\": 9677, \"median\": 31.5, \"density\": 0.0015500671695773483}, {\"genre\": \"Comedy\", \"popularity\": 45, \"count_x\": 31, \"count_y\": 9677, \"median\": 31.5, \"density\": 0.003203472150459853}, {\"genre\": \"Comedy\", \"popularity\": 44, \"count_x\": 44, \"count_y\": 9677, \"median\": 31.5, \"density\": 0.004546863697426889}, {\"genre\": \"Comedy\", \"popularity\": 43, \"count_x\": 40, \"count_y\": 9677, \"median\": 31.5, \"density\": 0.004133512452206263}, {\"genre\": \"Comedy\", \"popularity\": 42, \"count_x\": 43, \"count_y\": 9677, \"median\": 31.5, \"density\": 0.004443525886121732}, {\"genre\": \"Comedy\", \"popularity\": 9, \"count_x\": 66, \"count_y\": 9677, \"median\": 31.5, \"density\": 0.006820295546140333}, {\"genre\": \"Comedy\", \"popularity\": 10, \"count_x\": 290, \"count_y\": 9677, \"median\": 31.5, \"density\": 0.029967965278495403}, {\"genre\": \"Comedy\", \"popularity\": 11, \"count_x\": 507, \"count_y\": 9677, \"median\": 31.5, \"density\": 0.052392270331714376}, {\"genre\": \"Comedy\", \"popularity\": 41, \"count_x\": 56, \"count_y\": 9677, \"median\": 31.5, \"density\": 0.005786917433088767}, {\"genre\": \"Comedy\", \"popularity\": 13, \"count_x\": 498, \"count_y\": 9677, \"median\": 31.5, \"density\": 0.05146223002996796}, {\"genre\": \"Comedy\", \"popularity\": 46, \"count_x\": 27, \"count_y\": 9677, \"median\": 31.5, \"density\": 0.002790120905239227}, {\"genre\": \"Comedy\", \"popularity\": 40, \"count_x\": 63, \"count_y\": 9677, \"median\": 31.5, \"density\": 0.006510282112224863}, {\"genre\": \"Classical\", \"popularity\": 45, \"count_x\": 129, \"count_y\": 9250, \"median\": 34.0, \"density\": 0.013945945945945946}, {\"genre\": \"Classical\", \"popularity\": 28, \"count_x\": 357, \"count_y\": 9250, \"median\": 34.0, \"density\": 0.03859459459459459}, {\"genre\": \"Classical\", \"popularity\": 44, \"count_x\": 153, \"count_y\": 9250, \"median\": 34.0, \"density\": 0.01654054054054054}, {\"genre\": \"Classical\", \"popularity\": 29, \"count_x\": 406, \"count_y\": 9250, \"median\": 34.0, \"density\": 0.04389189189189189}, {\"genre\": \"Classical\", \"popularity\": 30, \"count_x\": 382, \"count_y\": 9250, \"median\": 34.0, \"density\": 0.041297297297297295}, {\"genre\": \"Classical\", \"popularity\": 31, \"count_x\": 422, \"count_y\": 9250, \"median\": 34.0, \"density\": 0.04562162162162162}, {\"genre\": \"Classical\", \"popularity\": 32, \"count_x\": 419, \"count_y\": 9250, \"median\": 34.0, \"density\": 0.0452972972972973}, {\"genre\": \"Classical\", \"popularity\": 33, \"count_x\": 419, \"count_y\": 9250, \"median\": 34.0, \"density\": 0.0452972972972973}, {\"genre\": \"Classical\", \"popularity\": 34, \"count_x\": 392, \"count_y\": 9250, \"median\": 34.0, \"density\": 0.04237837837837838}, {\"genre\": \"Classical\", \"popularity\": 35, \"count_x\": 398, \"count_y\": 9250, \"median\": 34.0, \"density\": 0.04302702702702703}, {\"genre\": \"Classical\", \"popularity\": 36, \"count_x\": 349, \"count_y\": 9250, \"median\": 34.0, \"density\": 0.03772972972972973}, {\"genre\": \"Classical\", \"popularity\": 37, \"count_x\": 322, \"count_y\": 9250, \"median\": 34.0, \"density\": 0.03481081081081081}, {\"genre\": \"Classical\", \"popularity\": 38, \"count_x\": 297, \"count_y\": 9250, \"median\": 34.0, \"density\": 0.03210810810810811}, {\"genre\": \"Classical\", \"popularity\": 39, \"count_x\": 256, \"count_y\": 9250, \"median\": 34.0, \"density\": 0.027675675675675675}, {\"genre\": \"Classical\", \"popularity\": 40, \"count_x\": 229, \"count_y\": 9250, \"median\": 34.0, \"density\": 0.024756756756756756}, {\"genre\": \"Classical\", \"popularity\": 41, \"count_x\": 226, \"count_y\": 9250, \"median\": 34.0, \"density\": 0.024432432432432434}, {\"genre\": \"Classical\", \"popularity\": 42, \"count_x\": 187, \"count_y\": 9250, \"median\": 34.0, \"density\": 0.020216216216216217}, {\"genre\": \"Classical\", \"popularity\": 43, \"count_x\": 178, \"count_y\": 9250, \"median\": 34.0, \"density\": 0.01924324324324324}, {\"genre\": \"Classical\", \"popularity\": 46, \"count_x\": 109, \"count_y\": 9250, \"median\": 34.0, \"density\": 0.011783783783783783}, {\"genre\": \"Classical\", \"popularity\": 47, \"count_x\": 107, \"count_y\": 9250, \"median\": 34.0, \"density\": 0.011567567567567568}, {\"genre\": \"Classical\", \"popularity\": 63, \"count_x\": 8, \"count_y\": 9250, \"median\": 34.0, \"density\": 0.0008648648648648649}, {\"genre\": \"Classical\", \"popularity\": 49, \"count_x\": 67, \"count_y\": 9250, \"median\": 34.0, \"density\": 0.007243243243243243}, {\"genre\": \"Classical\", \"popularity\": 69, \"count_x\": 1, \"count_y\": 9250, \"median\": 34.0, \"density\": 0.00010810810810810811}, {\"genre\": \"Classical\", \"popularity\": 68, \"count_x\": 3, \"count_y\": 9250, \"median\": 34.0, \"density\": 0.0003243243243243243}, {\"genre\": \"Classical\", \"popularity\": 66, \"count_x\": 2, \"count_y\": 9250, \"median\": 34.0, \"density\": 0.00021621621621621621}, {\"genre\": \"Classical\", \"popularity\": 65, \"count_x\": 5, \"count_y\": 9250, \"median\": 34.0, \"density\": 0.0005405405405405405}, {\"genre\": \"Classical\", \"popularity\": 64, \"count_x\": 9, \"count_y\": 9250, \"median\": 34.0, \"density\": 0.0009729729729729729}, {\"genre\": \"Classical\", \"popularity\": 27, \"count_x\": 292, \"count_y\": 9250, \"median\": 34.0, \"density\": 0.03156756756756757}, {\"genre\": \"Classical\", \"popularity\": 62, \"count_x\": 15, \"count_y\": 9250, \"median\": 34.0, \"density\": 0.0016216216216216215}, {\"genre\": \"Classical\", \"popularity\": 61, \"count_x\": 9, \"count_y\": 9250, \"median\": 34.0, \"density\": 0.0009729729729729729}, {\"genre\": \"Classical\", \"popularity\": 48, \"count_x\": 90, \"count_y\": 9250, \"median\": 34.0, \"density\": 0.00972972972972973}, {\"genre\": \"Classical\", \"popularity\": 59, \"count_x\": 10, \"count_y\": 9250, \"median\": 34.0, \"density\": 0.001081081081081081}, {\"genre\": \"Classical\", \"popularity\": 57, \"count_x\": 16, \"count_y\": 9250, \"median\": 34.0, \"density\": 0.0017297297297297297}, {\"genre\": \"Classical\", \"popularity\": 56, \"count_x\": 22, \"count_y\": 9250, \"median\": 34.0, \"density\": 0.0023783783783783785}, {\"genre\": \"Classical\", \"popularity\": 55, \"count_x\": 25, \"count_y\": 9250, \"median\": 34.0, \"density\": 0.002702702702702703}, {\"genre\": \"Classical\", \"popularity\": 54, \"count_x\": 33, \"count_y\": 9250, \"median\": 34.0, \"density\": 0.0035675675675675674}, {\"genre\": \"Classical\", \"popularity\": 53, \"count_x\": 43, \"count_y\": 9250, \"median\": 34.0, \"density\": 0.004648648648648649}, {\"genre\": \"Classical\", \"popularity\": 52, \"count_x\": 45, \"count_y\": 9250, \"median\": 34.0, \"density\": 0.004864864864864865}, {\"genre\": \"Classical\", \"popularity\": 51, \"count_x\": 50, \"count_y\": 9250, \"median\": 34.0, \"density\": 0.005405405405405406}, {\"genre\": \"Classical\", \"popularity\": 50, \"count_x\": 76, \"count_y\": 9250, \"median\": 34.0, \"density\": 0.008216216216216217}, {\"genre\": \"Classical\", \"popularity\": 58, \"count_x\": 13, \"count_y\": 9250, \"median\": 34.0, \"density\": 0.0014054054054054054}, {\"genre\": \"Classical\", \"popularity\": 26, \"count_x\": 263, \"count_y\": 9250, \"median\": 34.0, \"density\": 0.028432432432432434}, {\"genre\": \"Classical\", \"popularity\": 60, \"count_x\": 8, \"count_y\": 9250, \"median\": 34.0, \"density\": 0.0008648648648648649}, {\"genre\": \"Classical\", \"popularity\": 24, \"count_x\": 197, \"count_y\": 9250, \"median\": 34.0, \"density\": 0.021297297297297298}, {\"genre\": \"Classical\", \"popularity\": 0, \"count_x\": 1001, \"count_y\": 9250, \"median\": 34.0, \"density\": 0.10821621621621622}, {\"genre\": \"Classical\", \"popularity\": 1, \"count_x\": 24, \"count_y\": 9250, \"median\": 34.0, \"density\": 0.0025945945945945945}, {\"genre\": \"Classical\", \"popularity\": 2, \"count_x\": 55, \"count_y\": 9250, \"median\": 34.0, \"density\": 0.005945945945945946}, {\"genre\": \"Classical\", \"popularity\": 3, \"count_x\": 56, \"count_y\": 9250, \"median\": 34.0, \"density\": 0.006054054054054054}, {\"genre\": \"Classical\", \"popularity\": 4, \"count_x\": 54, \"count_y\": 9250, \"median\": 34.0, \"density\": 0.0058378378378378375}, {\"genre\": \"Classical\", \"popularity\": 5, \"count_x\": 38, \"count_y\": 9250, \"median\": 34.0, \"density\": 0.0041081081081081085}, {\"genre\": \"Classical\", \"popularity\": 6, \"count_x\": 17, \"count_y\": 9250, \"median\": 34.0, \"density\": 0.0018378378378378379}, {\"genre\": \"Classical\", \"popularity\": 7, \"count_x\": 20, \"count_y\": 9250, \"median\": 34.0, \"density\": 0.002162162162162162}, {\"genre\": \"Classical\", \"popularity\": 8, \"count_x\": 31, \"count_y\": 9250, \"median\": 34.0, \"density\": 0.0033513513513513515}, {\"genre\": \"Classical\", \"popularity\": 9, \"count_x\": 31, \"count_y\": 9250, \"median\": 34.0, \"density\": 0.0033513513513513515}, {\"genre\": \"Classical\", \"popularity\": 10, \"count_x\": 40, \"count_y\": 9250, \"median\": 34.0, \"density\": 0.004324324324324324}, {\"genre\": \"Classical\", \"popularity\": 11, \"count_x\": 30, \"count_y\": 9250, \"median\": 34.0, \"density\": 0.003243243243243243}, {\"genre\": \"Classical\", \"popularity\": 25, \"count_x\": 218, \"count_y\": 9250, \"median\": 34.0, \"density\": 0.023567567567567567}, {\"genre\": \"Classical\", \"popularity\": 13, \"count_x\": 32, \"count_y\": 9250, \"median\": 34.0, \"density\": 0.0034594594594594594}, {\"genre\": \"Classical\", \"popularity\": 23, \"count_x\": 131, \"count_y\": 9250, \"median\": 34.0, \"density\": 0.014162162162162163}, {\"genre\": \"Classical\", \"popularity\": 22, \"count_x\": 116, \"count_y\": 9250, \"median\": 34.0, \"density\": 0.01254054054054054}, {\"genre\": \"Classical\", \"popularity\": 21, \"count_x\": 81, \"count_y\": 9250, \"median\": 34.0, \"density\": 0.008756756756756757}, {\"genre\": \"Classical\", \"popularity\": 20, \"count_x\": 41, \"count_y\": 9250, \"median\": 34.0, \"density\": 0.004432432432432433}, {\"genre\": \"Classical\", \"popularity\": 19, \"count_x\": 31, \"count_y\": 9250, \"median\": 34.0, \"density\": 0.0033513513513513515}, {\"genre\": \"Classical\", \"popularity\": 12, \"count_x\": 40, \"count_y\": 9250, \"median\": 34.0, \"density\": 0.004324324324324324}, {\"genre\": \"Classical\", \"popularity\": 17, \"count_x\": 22, \"count_y\": 9250, \"median\": 34.0, \"density\": 0.0023783783783783785}, {\"genre\": \"Classical\", \"popularity\": 16, \"count_x\": 16, \"count_y\": 9250, \"median\": 34.0, \"density\": 0.0017297297297297297}, {\"genre\": \"Classical\", \"popularity\": 15, \"count_x\": 33, \"count_y\": 9250, \"median\": 34.0, \"density\": 0.0035675675675675674}, {\"genre\": \"Classical\", \"popularity\": 14, \"count_x\": 31, \"count_y\": 9250, \"median\": 34.0, \"density\": 0.0033513513513513515}, {\"genre\": \"Classical\", \"popularity\": 18, \"count_x\": 22, \"count_y\": 9250, \"median\": 34.0, \"density\": 0.0023783783783783785}, {\"genre\": \"Jazz\", \"popularity\": 51, \"count_x\": 138, \"count_y\": 8144, \"median\": 35.0, \"density\": 0.01694499017681729}, {\"genre\": \"Jazz\", \"popularity\": 50, \"count_x\": 132, \"count_y\": 8144, \"median\": 35.0, \"density\": 0.016208251473477406}, {\"genre\": \"Jazz\", \"popularity\": 49, \"count_x\": 163, \"count_y\": 8144, \"median\": 35.0, \"density\": 0.020014734774066796}, {\"genre\": \"Jazz\", \"popularity\": 48, \"count_x\": 208, \"count_y\": 8144, \"median\": 35.0, \"density\": 0.025540275049115914}, {\"genre\": \"Jazz\", \"popularity\": 47, \"count_x\": 235, \"count_y\": 8144, \"median\": 35.0, \"density\": 0.028855599214145385}, {\"genre\": \"Jazz\", \"popularity\": 46, \"count_x\": 276, \"count_y\": 8144, \"median\": 35.0, \"density\": 0.03388998035363458}, {\"genre\": \"Jazz\", \"popularity\": 43, \"count_x\": 351, \"count_y\": 8144, \"median\": 35.0, \"density\": 0.043099214145383105}, {\"genre\": \"Jazz\", \"popularity\": 44, \"count_x\": 332, \"count_y\": 8144, \"median\": 35.0, \"density\": 0.04076620825147348}, {\"genre\": \"Jazz\", \"popularity\": 42, \"count_x\": 367, \"count_y\": 8144, \"median\": 35.0, \"density\": 0.04506385068762279}, {\"genre\": \"Jazz\", \"popularity\": 41, \"count_x\": 443, \"count_y\": 8144, \"median\": 35.0, \"density\": 0.0543958742632613}, {\"genre\": \"Jazz\", \"popularity\": 52, \"count_x\": 104, \"count_y\": 8144, \"median\": 35.0, \"density\": 0.012770137524557957}, {\"genre\": \"Jazz\", \"popularity\": 40, \"count_x\": 427, \"count_y\": 8144, \"median\": 35.0, \"density\": 0.05243123772102161}, {\"genre\": \"Jazz\", \"popularity\": 39, \"count_x\": 447, \"count_y\": 8144, \"median\": 35.0, \"density\": 0.05488703339882122}, {\"genre\": \"Jazz\", \"popularity\": 45, \"count_x\": 297, \"count_y\": 8144, \"median\": 35.0, \"density\": 0.036468565815324164}, {\"genre\": \"Jazz\", \"popularity\": 53, \"count_x\": 105, \"count_y\": 8144, \"median\": 35.0, \"density\": 0.012892927308447938}, {\"genre\": \"Jazz\", \"popularity\": 58, \"count_x\": 46, \"count_y\": 8144, \"median\": 35.0, \"density\": 0.005648330058939097}, {\"genre\": \"Jazz\", \"popularity\": 55, \"count_x\": 82, \"count_y\": 8144, \"median\": 35.0, \"density\": 0.01006876227897839}, {\"genre\": \"Jazz\", \"popularity\": 69, \"count_x\": 3, \"count_y\": 8144, \"median\": 35.0, \"density\": 0.00036836935166994106}, {\"genre\": \"Jazz\", \"popularity\": 68, \"count_x\": 5, \"count_y\": 8144, \"median\": 35.0, \"density\": 0.0006139489194499018}, {\"genre\": \"Jazz\", \"popularity\": 67, \"count_x\": 1, \"count_y\": 8144, \"median\": 35.0, \"density\": 0.00012278978388998034}, {\"genre\": \"Jazz\", \"popularity\": 66, \"count_x\": 6, \"count_y\": 8144, \"median\": 35.0, \"density\": 0.0007367387033398821}, {\"genre\": \"Jazz\", \"popularity\": 65, \"count_x\": 8, \"count_y\": 8144, \"median\": 35.0, \"density\": 0.0009823182711198428}, {\"genre\": \"Jazz\", \"popularity\": 64, \"count_x\": 14, \"count_y\": 8144, \"median\": 35.0, \"density\": 0.001719056974459725}, {\"genre\": \"Jazz\", \"popularity\": 54, \"count_x\": 76, \"count_y\": 8144, \"median\": 35.0, \"density\": 0.009332023575638507}, {\"genre\": \"Jazz\", \"popularity\": 63, \"count_x\": 14, \"count_y\": 8144, \"median\": 35.0, \"density\": 0.001719056974459725}, {\"genre\": \"Jazz\", \"popularity\": 61, \"count_x\": 23, \"count_y\": 8144, \"median\": 35.0, \"density\": 0.0028241650294695483}, {\"genre\": \"Jazz\", \"popularity\": 60, \"count_x\": 22, \"count_y\": 8144, \"median\": 35.0, \"density\": 0.0027013752455795677}, {\"genre\": \"Jazz\", \"popularity\": 59, \"count_x\": 35, \"count_y\": 8144, \"median\": 35.0, \"density\": 0.004297642436149313}, {\"genre\": \"Jazz\", \"popularity\": 38, \"count_x\": 453, \"count_y\": 8144, \"median\": 35.0, \"density\": 0.0556237721021611}, {\"genre\": \"Jazz\", \"popularity\": 57, \"count_x\": 62, \"count_y\": 8144, \"median\": 35.0, \"density\": 0.007612966601178782}, {\"genre\": \"Jazz\", \"popularity\": 56, \"count_x\": 78, \"count_y\": 8144, \"median\": 35.0, \"density\": 0.009577603143418467}, {\"genre\": \"Jazz\", \"popularity\": 62, \"count_x\": 19, \"count_y\": 8144, \"median\": 35.0, \"density\": 0.002333005893909627}, {\"genre\": \"Jazz\", \"popularity\": 37, \"count_x\": 450, \"count_y\": 8144, \"median\": 35.0, \"density\": 0.05525540275049116}, {\"genre\": \"Jazz\", \"popularity\": 31, \"count_x\": 215, \"count_y\": 8144, \"median\": 35.0, \"density\": 0.026399803536345776}, {\"genre\": \"Jazz\", \"popularity\": 35, \"count_x\": 410, \"count_y\": 8144, \"median\": 35.0, \"density\": 0.05034381139489195}, {\"genre\": \"Jazz\", \"popularity\": 15, \"count_x\": 3, \"count_y\": 8144, \"median\": 35.0, \"density\": 0.00036836935166994106}, {\"genre\": \"Jazz\", \"popularity\": 14, \"count_x\": 6, \"count_y\": 8144, \"median\": 35.0, \"density\": 0.0007367387033398821}, {\"genre\": \"Jazz\", \"popularity\": 13, \"count_x\": 2, \"count_y\": 8144, \"median\": 35.0, \"density\": 0.0002455795677799607}, {\"genre\": \"Jazz\", \"popularity\": 12, \"count_x\": 5, \"count_y\": 8144, \"median\": 35.0, \"density\": 0.0006139489194499018}, {\"genre\": \"Jazz\", \"popularity\": 11, \"count_x\": 1, \"count_y\": 8144, \"median\": 35.0, \"density\": 0.00012278978388998034}, {\"genre\": \"Jazz\", \"popularity\": 10, \"count_x\": 5, \"count_y\": 8144, \"median\": 35.0, \"density\": 0.0006139489194499018}, {\"genre\": \"Jazz\", \"popularity\": 16, \"count_x\": 3, \"count_y\": 8144, \"median\": 35.0, \"density\": 0.00036836935166994106}, {\"genre\": \"Jazz\", \"popularity\": 9, \"count_x\": 5, \"count_y\": 8144, \"median\": 35.0, \"density\": 0.0006139489194499018}, {\"genre\": \"Jazz\", \"popularity\": 7, \"count_x\": 7, \"count_y\": 8144, \"median\": 35.0, \"density\": 0.0008595284872298625}, {\"genre\": \"Jazz\", \"popularity\": 6, \"count_x\": 2, \"count_y\": 8144, \"median\": 35.0, \"density\": 0.0002455795677799607}, {\"genre\": \"Jazz\", \"popularity\": 5, \"count_x\": 13, \"count_y\": 8144, \"median\": 35.0, \"density\": 0.0015962671905697446}, {\"genre\": \"Jazz\", \"popularity\": 4, \"count_x\": 8, \"count_y\": 8144, \"median\": 35.0, \"density\": 0.0009823182711198428}, {\"genre\": \"Jazz\", \"popularity\": 3, \"count_x\": 19, \"count_y\": 8144, \"median\": 35.0, \"density\": 0.002333005893909627}, {\"genre\": \"Jazz\", \"popularity\": 2, \"count_x\": 27, \"count_y\": 8144, \"median\": 35.0, \"density\": 0.0033153241650294694}, {\"genre\": \"Jazz\", \"popularity\": 8, \"count_x\": 3, \"count_y\": 8144, \"median\": 35.0, \"density\": 0.00036836935166994106}, {\"genre\": \"Jazz\", \"popularity\": 36, \"count_x\": 435, \"count_y\": 8144, \"median\": 35.0, \"density\": 0.053413555992141454}, {\"genre\": \"Jazz\", \"popularity\": 17, \"count_x\": 1, \"count_y\": 8144, \"median\": 35.0, \"density\": 0.00012278978388998034}, {\"genre\": \"Jazz\", \"popularity\": 19, \"count_x\": 8, \"count_y\": 8144, \"median\": 35.0, \"density\": 0.0009823182711198428}, {\"genre\": \"Jazz\", \"popularity\": 34, \"count_x\": 373, \"count_y\": 8144, \"median\": 35.0, \"density\": 0.045800589390962675}, {\"genre\": \"Jazz\", \"popularity\": 33, \"count_x\": 353, \"count_y\": 8144, \"median\": 35.0, \"density\": 0.04334479371316306}, {\"genre\": \"Jazz\", \"popularity\": 32, \"count_x\": 286, \"count_y\": 8144, \"median\": 35.0, \"density\": 0.03511787819253438}, {\"genre\": \"Jazz\", \"popularity\": 30, \"count_x\": 162, \"count_y\": 8144, \"median\": 35.0, \"density\": 0.019891944990176817}, {\"genre\": \"Jazz\", \"popularity\": 29, \"count_x\": 102, \"count_y\": 8144, \"median\": 35.0, \"density\": 0.012524557956777996}, {\"genre\": \"Jazz\", \"popularity\": 28, \"count_x\": 86, \"count_y\": 8144, \"median\": 35.0, \"density\": 0.01055992141453831}, {\"genre\": \"Jazz\", \"popularity\": 18, \"count_x\": 7, \"count_y\": 8144, \"median\": 35.0, \"density\": 0.0008595284872298625}, {\"genre\": \"Jazz\", \"popularity\": 27, \"count_x\": 45, \"count_y\": 8144, \"median\": 35.0, \"density\": 0.005525540275049116}, {\"genre\": \"Jazz\", \"popularity\": 25, \"count_x\": 6, \"count_y\": 8144, \"median\": 35.0, \"density\": 0.0007367387033398821}, {\"genre\": \"Jazz\", \"popularity\": 72, \"count_x\": 1, \"count_y\": 8144, \"median\": 35.0, \"density\": 0.00012278978388998034}, {\"genre\": \"Jazz\", \"popularity\": 23, \"count_x\": 3, \"count_y\": 8144, \"median\": 35.0, \"density\": 0.00036836935166994106}, {\"genre\": \"Jazz\", \"popularity\": 22, \"count_x\": 1, \"count_y\": 8144, \"median\": 35.0, \"density\": 0.00012278978388998034}, {\"genre\": \"Jazz\", \"popularity\": 21, \"count_x\": 4, \"count_y\": 8144, \"median\": 35.0, \"density\": 0.0004911591355599214}, {\"genre\": \"Jazz\", \"popularity\": 20, \"count_x\": 6, \"count_y\": 8144, \"median\": 35.0, \"density\": 0.0007367387033398821}, {\"genre\": \"Jazz\", \"popularity\": 26, \"count_x\": 26, \"count_y\": 8144, \"median\": 35.0, \"density\": 0.0031925343811394892}, {\"genre\": \"Jazz\", \"popularity\": 24, \"count_x\": 3, \"count_y\": 8144, \"median\": 35.0, \"density\": 0.00036836935166994106}, {\"genre\": \"Jazz\", \"popularity\": 0, \"count_x\": 60, \"count_y\": 8144, \"median\": 35.0, \"density\": 0.0073673870333988214}, {\"genre\": \"Jazz\", \"popularity\": 1, \"count_x\": 20, \"count_y\": 8144, \"median\": 35.0, \"density\": 0.002455795677799607}, {\"genre\": \"Soundtrack\", \"popularity\": 35, \"count_x\": 415, \"count_y\": 8967, \"median\": 36.0, \"density\": 0.04628080740492919}, {\"genre\": \"Soundtrack\", \"popularity\": 49, \"count_x\": 75, \"count_y\": 8967, \"median\": 36.0, \"density\": 0.008364001338240215}, {\"genre\": \"Soundtrack\", \"popularity\": 48, \"count_x\": 102, \"count_y\": 8967, \"median\": 36.0, \"density\": 0.011375041820006692}, {\"genre\": \"Soundtrack\", \"popularity\": 47, \"count_x\": 99, \"count_y\": 8967, \"median\": 36.0, \"density\": 0.011040481766477083}, {\"genre\": \"Soundtrack\", \"popularity\": 46, \"count_x\": 126, \"count_y\": 8967, \"median\": 36.0, \"density\": 0.01405152224824356}, {\"genre\": \"Soundtrack\", \"popularity\": 45, \"count_x\": 142, \"count_y\": 8967, \"median\": 36.0, \"density\": 0.015835842533734806}, {\"genre\": \"Soundtrack\", \"popularity\": 50, \"count_x\": 69, \"count_y\": 8967, \"median\": 36.0, \"density\": 0.007694881231180997}, {\"genre\": \"Soundtrack\", \"popularity\": 44, \"count_x\": 152, \"count_y\": 8967, \"median\": 36.0, \"density\": 0.016951042712166835}, {\"genre\": \"Soundtrack\", \"popularity\": 42, \"count_x\": 204, \"count_y\": 8967, \"median\": 36.0, \"density\": 0.022750083640013383}, {\"genre\": \"Soundtrack\", \"popularity\": 41, \"count_x\": 256, \"count_y\": 8967, \"median\": 36.0, \"density\": 0.02854912456785993}, {\"genre\": \"Soundtrack\", \"popularity\": 40, \"count_x\": 245, \"count_y\": 8967, \"median\": 36.0, \"density\": 0.0273224043715847}, {\"genre\": \"Soundtrack\", \"popularity\": 39, \"count_x\": 252, \"count_y\": 8967, \"median\": 36.0, \"density\": 0.02810304449648712}, {\"genre\": \"Soundtrack\", \"popularity\": 38, \"count_x\": 327, \"count_y\": 8967, \"median\": 36.0, \"density\": 0.03646704583472733}, {\"genre\": \"Soundtrack\", \"popularity\": 37, \"count_x\": 355, \"count_y\": 8967, \"median\": 36.0, \"density\": 0.039589606334337016}, {\"genre\": \"Soundtrack\", \"popularity\": 43, \"count_x\": 151, \"count_y\": 8967, \"median\": 36.0, \"density\": 0.016839522694323632}, {\"genre\": \"Soundtrack\", \"popularity\": 51, \"count_x\": 62, \"count_y\": 8967, \"median\": 36.0, \"density\": 0.006914241106278577}, {\"genre\": \"Soundtrack\", \"popularity\": 52, \"count_x\": 46, \"count_y\": 8967, \"median\": 36.0, \"density\": 0.005129920820787331}, {\"genre\": \"Soundtrack\", \"popularity\": 53, \"count_x\": 46, \"count_y\": 8967, \"median\": 36.0, \"density\": 0.005129920820787331}, {\"genre\": \"Soundtrack\", \"popularity\": 54, \"count_x\": 39, \"count_y\": 8967, \"median\": 36.0, \"density\": 0.004349280695884911}, {\"genre\": \"Soundtrack\", \"popularity\": 55, \"count_x\": 18, \"count_y\": 8967, \"median\": 36.0, \"density\": 0.0020073603211776514}, {\"genre\": \"Soundtrack\", \"popularity\": 56, \"count_x\": 31, \"count_y\": 8967, \"median\": 36.0, \"density\": 0.0034571205531392884}, {\"genre\": \"Soundtrack\", \"popularity\": 57, \"count_x\": 20, \"count_y\": 8967, \"median\": 36.0, \"density\": 0.002230400356864057}, {\"genre\": \"Soundtrack\", \"popularity\": 58, \"count_x\": 16, \"count_y\": 8967, \"median\": 36.0, \"density\": 0.0017843202854912457}, {\"genre\": \"Soundtrack\", \"popularity\": 59, \"count_x\": 18, \"count_y\": 8967, \"median\": 36.0, \"density\": 0.0020073603211776514}, {\"genre\": \"Soundtrack\", \"popularity\": 60, \"count_x\": 16, \"count_y\": 8967, \"median\": 36.0, \"density\": 0.0017843202854912457}, {\"genre\": \"Soundtrack\", \"popularity\": 61, \"count_x\": 9, \"count_y\": 8967, \"median\": 36.0, \"density\": 0.0010036801605888257}, {\"genre\": \"Soundtrack\", \"popularity\": 62, \"count_x\": 6, \"count_y\": 8967, \"median\": 36.0, \"density\": 0.0006691201070592171}, {\"genre\": \"Soundtrack\", \"popularity\": 63, \"count_x\": 10, \"count_y\": 8967, \"median\": 36.0, \"density\": 0.0011152001784320285}, {\"genre\": \"Soundtrack\", \"popularity\": 64, \"count_x\": 3, \"count_y\": 8967, \"median\": 36.0, \"density\": 0.00033456005352960856}, {\"genre\": \"Soundtrack\", \"popularity\": 65, \"count_x\": 5, \"count_y\": 8967, \"median\": 36.0, \"density\": 0.0005576000892160142}, {\"genre\": \"Soundtrack\", \"popularity\": 66, \"count_x\": 3, \"count_y\": 8967, \"median\": 36.0, \"density\": 0.00033456005352960856}, {\"genre\": \"Soundtrack\", \"popularity\": 36, \"count_x\": 383, \"count_y\": 8967, \"median\": 36.0, \"density\": 0.04271216683394669}, {\"genre\": \"Soundtrack\", \"popularity\": 72, \"count_x\": 2, \"count_y\": 8967, \"median\": 36.0, \"density\": 0.0002230400356864057}, {\"genre\": \"Soundtrack\", \"popularity\": 34, \"count_x\": 411, \"count_y\": 8967, \"median\": 36.0, \"density\": 0.045834727333556376}, {\"genre\": \"Soundtrack\", \"popularity\": 33, \"count_x\": 476, \"count_y\": 8967, \"median\": 36.0, \"density\": 0.05308352849336456}, {\"genre\": \"Soundtrack\", \"popularity\": 0, \"count_x\": 3, \"count_y\": 8967, \"median\": 36.0, \"density\": 0.00033456005352960856}, {\"genre\": \"Soundtrack\", \"popularity\": 1, \"count_x\": 9, \"count_y\": 8967, \"median\": 36.0, \"density\": 0.0010036801605888257}, {\"genre\": \"Soundtrack\", \"popularity\": 2, \"count_x\": 16, \"count_y\": 8967, \"median\": 36.0, \"density\": 0.0017843202854912457}, {\"genre\": \"Soundtrack\", \"popularity\": 3, \"count_x\": 25, \"count_y\": 8967, \"median\": 36.0, \"density\": 0.0027880004460800714}, {\"genre\": \"Soundtrack\", \"popularity\": 4, \"count_x\": 17, \"count_y\": 8967, \"median\": 36.0, \"density\": 0.0018958403033344485}, {\"genre\": \"Soundtrack\", \"popularity\": 5, \"count_x\": 15, \"count_y\": 8967, \"median\": 36.0, \"density\": 0.0016728002676480427}, {\"genre\": \"Soundtrack\", \"popularity\": 6, \"count_x\": 13, \"count_y\": 8967, \"median\": 36.0, \"density\": 0.0014497602319616372}, {\"genre\": \"Soundtrack\", \"popularity\": 7, \"count_x\": 1, \"count_y\": 8967, \"median\": 36.0, \"density\": 0.00011152001784320286}, {\"genre\": \"Soundtrack\", \"popularity\": 8, \"count_x\": 4, \"count_y\": 8967, \"median\": 36.0, \"density\": 0.0004460800713728114}, {\"genre\": \"Soundtrack\", \"popularity\": 10, \"count_x\": 4, \"count_y\": 8967, \"median\": 36.0, \"density\": 0.0004460800713728114}, {\"genre\": \"Soundtrack\", \"popularity\": 11, \"count_x\": 4, \"count_y\": 8967, \"median\": 36.0, \"density\": 0.0004460800713728114}, {\"genre\": \"Soundtrack\", \"popularity\": 12, \"count_x\": 5, \"count_y\": 8967, \"median\": 36.0, \"density\": 0.0005576000892160142}, {\"genre\": \"Soundtrack\", \"popularity\": 13, \"count_x\": 4, \"count_y\": 8967, \"median\": 36.0, \"density\": 0.0004460800713728114}, {\"genre\": \"Soundtrack\", \"popularity\": 14, \"count_x\": 3, \"count_y\": 8967, \"median\": 36.0, \"density\": 0.00033456005352960856}, {\"genre\": \"Soundtrack\", \"popularity\": 67, \"count_x\": 4, \"count_y\": 8967, \"median\": 36.0, \"density\": 0.0004460800713728114}, {\"genre\": \"Soundtrack\", \"popularity\": 15, \"count_x\": 3, \"count_y\": 8967, \"median\": 36.0, \"density\": 0.00033456005352960856}, {\"genre\": \"Soundtrack\", \"popularity\": 19, \"count_x\": 24, \"count_y\": 8967, \"median\": 36.0, \"density\": 0.0026764804282368685}, {\"genre\": \"Soundtrack\", \"popularity\": 20, \"count_x\": 64, \"count_y\": 8967, \"median\": 36.0, \"density\": 0.007137281141964983}, {\"genre\": \"Soundtrack\", \"popularity\": 21, \"count_x\": 110, \"count_y\": 8967, \"median\": 36.0, \"density\": 0.012267201962752314}, {\"genre\": \"Soundtrack\", \"popularity\": 22, \"count_x\": 163, \"count_y\": 8967, \"median\": 36.0, \"density\": 0.018177762908442065}, {\"genre\": \"Soundtrack\", \"popularity\": 23, \"count_x\": 220, \"count_y\": 8967, \"median\": 36.0, \"density\": 0.024534403925504628}, {\"genre\": \"Soundtrack\", \"popularity\": 24, \"count_x\": 231, \"count_y\": 8967, \"median\": 36.0, \"density\": 0.02576112412177986}, {\"genre\": \"Soundtrack\", \"popularity\": 25, \"count_x\": 262, \"count_y\": 8967, \"median\": 36.0, \"density\": 0.02921824467491915}, {\"genre\": \"Soundtrack\", \"popularity\": 26, \"count_x\": 313, \"count_y\": 8967, \"median\": 36.0, \"density\": 0.03490576558492249}, {\"genre\": \"Soundtrack\", \"popularity\": 27, \"count_x\": 420, \"count_y\": 8967, \"median\": 36.0, \"density\": 0.0468384074941452}, {\"genre\": \"Soundtrack\", \"popularity\": 28, \"count_x\": 503, \"count_y\": 8967, \"median\": 36.0, \"density\": 0.056094568975131036}, {\"genre\": \"Soundtrack\", \"popularity\": 29, \"count_x\": 483, \"count_y\": 8967, \"median\": 36.0, \"density\": 0.053864168618266976}, {\"genre\": \"Soundtrack\", \"popularity\": 30, \"count_x\": 485, \"count_y\": 8967, \"median\": 36.0, \"density\": 0.05408720865395338}, {\"genre\": \"Soundtrack\", \"popularity\": 31, \"count_x\": 480, \"count_y\": 8967, \"median\": 36.0, \"density\": 0.05352960856473737}, {\"genre\": \"Soundtrack\", \"popularity\": 32, \"count_x\": 486, \"count_y\": 8967, \"median\": 36.0, \"density\": 0.054198728671796585}, {\"genre\": \"Soundtrack\", \"popularity\": 18, \"count_x\": 2, \"count_y\": 8967, \"median\": 36.0, \"density\": 0.0002230400356864057}, {\"genre\": \"Soundtrack\", \"popularity\": 68, \"count_x\": 1, \"count_y\": 8967, \"median\": 36.0, \"density\": 0.00011152001784320286}, {\"genre\": \"Movie\", \"popularity\": 72, \"count_x\": 1, \"count_y\": 7555, \"median\": 37.0, \"density\": 0.00013236267372600927}, {\"genre\": \"Movie\", \"popularity\": 82, \"count_x\": 1, \"count_y\": 7555, \"median\": 37.0, \"density\": 0.00013236267372600927}, {\"genre\": \"Movie\", \"popularity\": 0, \"count_x\": 1733, \"count_y\": 7555, \"median\": 37.0, \"density\": 0.22938451356717407}, {\"genre\": \"Movie\", \"popularity\": 1, \"count_x\": 598, \"count_y\": 7555, \"median\": 37.0, \"density\": 0.07915287888815355}, {\"genre\": \"Movie\", \"popularity\": 52, \"count_x\": 7, \"count_y\": 7555, \"median\": 37.0, \"density\": 0.0009265387160820648}, {\"genre\": \"Movie\", \"popularity\": 51, \"count_x\": 8, \"count_y\": 7555, \"median\": 37.0, \"density\": 0.0010589013898080742}, {\"genre\": \"Movie\", \"popularity\": 50, \"count_x\": 9, \"count_y\": 7555, \"median\": 37.0, \"density\": 0.0011912640635340834}, {\"genre\": \"Movie\", \"popularity\": 76, \"count_x\": 1, \"count_y\": 7555, \"median\": 37.0, \"density\": 0.00013236267372600927}, {\"genre\": \"Movie\", \"popularity\": 48, \"count_x\": 13, \"count_y\": 7555, \"median\": 37.0, \"density\": 0.0017207147584381204}, {\"genre\": \"Movie\", \"popularity\": 47, \"count_x\": 19, \"count_y\": 7555, \"median\": 37.0, \"density\": 0.002514890800794176}, {\"genre\": \"Movie\", \"popularity\": 53, \"count_x\": 5, \"count_y\": 7555, \"median\": 37.0, \"density\": 0.0006618133686300463}, {\"genre\": \"Movie\", \"popularity\": 46, \"count_x\": 12, \"count_y\": 7555, \"median\": 37.0, \"density\": 0.0015883520847121111}, {\"genre\": \"Movie\", \"popularity\": 44, \"count_x\": 22, \"count_y\": 7555, \"median\": 37.0, \"density\": 0.002911978821972204}, {\"genre\": \"Movie\", \"popularity\": 43, \"count_x\": 22, \"count_y\": 7555, \"median\": 37.0, \"density\": 0.002911978821972204}, {\"genre\": \"Movie\", \"popularity\": 42, \"count_x\": 21, \"count_y\": 7555, \"median\": 37.0, \"density\": 0.0027796161482461948}, {\"genre\": \"Movie\", \"popularity\": 40, \"count_x\": 45, \"count_y\": 7555, \"median\": 37.0, \"density\": 0.005956320317670417}, {\"genre\": \"Movie\", \"popularity\": 39, \"count_x\": 39, \"count_y\": 7555, \"median\": 37.0, \"density\": 0.005162144275314361}, {\"genre\": \"Movie\", \"popularity\": 38, \"count_x\": 38, \"count_y\": 7555, \"median\": 37.0, \"density\": 0.005029781601588352}, {\"genre\": \"Movie\", \"popularity\": 45, \"count_x\": 17, \"count_y\": 7555, \"median\": 37.0, \"density\": 0.0022501654533421574}, {\"genre\": \"Movie\", \"popularity\": 37, \"count_x\": 37, \"count_y\": 7555, \"median\": 37.0, \"density\": 0.004897418927862343}, {\"genre\": \"Movie\", \"popularity\": 54, \"count_x\": 7, \"count_y\": 7555, \"median\": 37.0, \"density\": 0.0009265387160820648}, {\"genre\": \"Movie\", \"popularity\": 56, \"count_x\": 4, \"count_y\": 7555, \"median\": 37.0, \"density\": 0.0005294506949040371}, {\"genre\": \"Movie\", \"popularity\": 71, \"count_x\": 1, \"count_y\": 7555, \"median\": 37.0, \"density\": 0.00013236267372600927}, {\"genre\": \"Movie\", \"popularity\": 69, \"count_x\": 3, \"count_y\": 7555, \"median\": 37.0, \"density\": 0.0003970880211780278}, {\"genre\": \"Movie\", \"popularity\": 68, \"count_x\": 4, \"count_y\": 7555, \"median\": 37.0, \"density\": 0.0005294506949040371}, {\"genre\": \"Movie\", \"popularity\": 67, \"count_x\": 1, \"count_y\": 7555, \"median\": 37.0, \"density\": 0.00013236267372600927}, {\"genre\": \"Movie\", \"popularity\": 66, \"count_x\": 2, \"count_y\": 7555, \"median\": 37.0, \"density\": 0.00026472534745201854}, {\"genre\": \"Movie\", \"popularity\": 65, \"count_x\": 2, \"count_y\": 7555, \"median\": 37.0, \"density\": 0.00026472534745201854}, {\"genre\": \"Movie\", \"popularity\": 55, \"count_x\": 6, \"count_y\": 7555, \"median\": 37.0, \"density\": 0.0007941760423560556}, {\"genre\": \"Movie\", \"popularity\": 64, \"count_x\": 4, \"count_y\": 7555, \"median\": 37.0, \"density\": 0.0005294506949040371}, {\"genre\": \"Movie\", \"popularity\": 62, \"count_x\": 5, \"count_y\": 7555, \"median\": 37.0, \"density\": 0.0006618133686300463}, {\"genre\": \"Movie\", \"popularity\": 61, \"count_x\": 9, \"count_y\": 7555, \"median\": 37.0, \"density\": 0.0011912640635340834}, {\"genre\": \"Movie\", \"popularity\": 60, \"count_x\": 4, \"count_y\": 7555, \"median\": 37.0, \"density\": 0.0005294506949040371}, {\"genre\": \"Movie\", \"popularity\": 59, \"count_x\": 3, \"count_y\": 7555, \"median\": 37.0, \"density\": 0.0003970880211780278}, {\"genre\": \"Movie\", \"popularity\": 58, \"count_x\": 5, \"count_y\": 7555, \"median\": 37.0, \"density\": 0.0006618133686300463}, {\"genre\": \"Movie\", \"popularity\": 57, \"count_x\": 3, \"count_y\": 7555, \"median\": 37.0, \"density\": 0.0003970880211780278}, {\"genre\": \"Movie\", \"popularity\": 63, \"count_x\": 7, \"count_y\": 7555, \"median\": 37.0, \"density\": 0.0009265387160820648}, {\"genre\": \"Movie\", \"popularity\": 74, \"count_x\": 1, \"count_y\": 7555, \"median\": 37.0, \"density\": 0.00013236267372600927}, {\"genre\": \"Movie\", \"popularity\": 36, \"count_x\": 45, \"count_y\": 7555, \"median\": 37.0, \"density\": 0.005956320317670417}, {\"genre\": \"Movie\", \"popularity\": 34, \"count_x\": 52, \"count_y\": 7555, \"median\": 37.0, \"density\": 0.0068828590337524816}, {\"genre\": \"Movie\", \"popularity\": 15, \"count_x\": 145, \"count_y\": 7555, \"median\": 37.0, \"density\": 0.019192587690271344}, {\"genre\": \"Movie\", \"popularity\": 14, \"count_x\": 145, \"count_y\": 7555, \"median\": 37.0, \"density\": 0.019192587690271344}, {\"genre\": \"Movie\", \"popularity\": 13, \"count_x\": 173, \"count_y\": 7555, \"median\": 37.0, \"density\": 0.022898742554599602}, {\"genre\": \"Movie\", \"popularity\": 12, \"count_x\": 170, \"count_y\": 7555, \"median\": 37.0, \"density\": 0.022501654533421574}, {\"genre\": \"Movie\", \"popularity\": 11, \"count_x\": 173, \"count_y\": 7555, \"median\": 37.0, \"density\": 0.022898742554599602}, {\"genre\": \"Movie\", \"popularity\": 10, \"count_x\": 192, \"count_y\": 7555, \"median\": 37.0, \"density\": 0.02541363335539378}, {\"genre\": \"Movie\", \"popularity\": 16, \"count_x\": 141, \"count_y\": 7555, \"median\": 37.0, \"density\": 0.018663136995367306}, {\"genre\": \"Movie\", \"popularity\": 9, \"count_x\": 184, \"count_y\": 7555, \"median\": 37.0, \"density\": 0.024354731965585706}, {\"genre\": \"Movie\", \"popularity\": 7, \"count_x\": 210, \"count_y\": 7555, \"median\": 37.0, \"density\": 0.027796161482461945}, {\"genre\": \"Movie\", \"popularity\": 6, \"count_x\": 201, \"count_y\": 7555, \"median\": 37.0, \"density\": 0.026604897418927864}, {\"genre\": \"Movie\", \"popularity\": 5, \"count_x\": 239, \"count_y\": 7555, \"median\": 37.0, \"density\": 0.03163467902051621}, {\"genre\": \"Movie\", \"popularity\": 4, \"count_x\": 232, \"count_y\": 7555, \"median\": 37.0, \"density\": 0.03070814030443415}, {\"genre\": \"Movie\", \"popularity\": 3, \"count_x\": 323, \"count_y\": 7555, \"median\": 37.0, \"density\": 0.04275314361350099}, {\"genre\": \"Movie\", \"popularity\": 2, \"count_x\": 391, \"count_y\": 7555, \"median\": 37.0, \"density\": 0.05175380542686962}, {\"genre\": \"Movie\", \"popularity\": 8, \"count_x\": 203, \"count_y\": 7555, \"median\": 37.0, \"density\": 0.026869622766379882}, {\"genre\": \"Movie\", \"popularity\": 35, \"count_x\": 53, \"count_y\": 7555, \"median\": 37.0, \"density\": 0.007015221707478491}, {\"genre\": \"Movie\", \"popularity\": 17, \"count_x\": 122, \"count_y\": 7555, \"median\": 37.0, \"density\": 0.01614824619457313}, {\"genre\": \"Movie\", \"popularity\": 19, \"count_x\": 126, \"count_y\": 7555, \"median\": 37.0, \"density\": 0.016677696889477168}, {\"genre\": \"Movie\", \"popularity\": 33, \"count_x\": 49, \"count_y\": 7555, \"median\": 37.0, \"density\": 0.006485771012574454}, {\"genre\": \"Movie\", \"popularity\": 32, \"count_x\": 63, \"count_y\": 7555, \"median\": 37.0, \"density\": 0.008338848444738584}, {\"genre\": \"Movie\", \"popularity\": 31, \"count_x\": 56, \"count_y\": 7555, \"median\": 37.0, \"density\": 0.0074123097286565185}, {\"genre\": \"Movie\", \"popularity\": 30, \"count_x\": 68, \"count_y\": 7555, \"median\": 37.0, \"density\": 0.00900066181336863}, {\"genre\": \"Movie\", \"popularity\": 29, \"count_x\": 66, \"count_y\": 7555, \"median\": 37.0, \"density\": 0.008735936465916612}, {\"genre\": \"Movie\", \"popularity\": 28, \"count_x\": 77, \"count_y\": 7555, \"median\": 37.0, \"density\": 0.010191925876902713}, {\"genre\": \"Movie\", \"popularity\": 18, \"count_x\": 105, \"count_y\": 7555, \"median\": 37.0, \"density\": 0.013898080741230973}, {\"genre\": \"Movie\", \"popularity\": 27, \"count_x\": 68, \"count_y\": 7555, \"median\": 37.0, \"density\": 0.00900066181336863}, {\"genre\": \"Movie\", \"popularity\": 25, \"count_x\": 84, \"count_y\": 7555, \"median\": 37.0, \"density\": 0.011118464592984779}, {\"genre\": \"Movie\", \"popularity\": 24, \"count_x\": 107, \"count_y\": 7555, \"median\": 37.0, \"density\": 0.014162806088682992}, {\"genre\": \"Movie\", \"popularity\": 23, \"count_x\": 95, \"count_y\": 7555, \"median\": 37.0, \"density\": 0.01257445400397088}, {\"genre\": \"Movie\", \"popularity\": 22, \"count_x\": 97, \"count_y\": 7555, \"median\": 37.0, \"density\": 0.012839179351422899}, {\"genre\": \"Movie\", \"popularity\": 21, \"count_x\": 121, \"count_y\": 7555, \"median\": 37.0, \"density\": 0.01601588352084712}, {\"genre\": \"Movie\", \"popularity\": 20, \"count_x\": 121, \"count_y\": 7555, \"median\": 37.0, \"density\": 0.01601588352084712}, {\"genre\": \"Movie\", \"popularity\": 26, \"count_x\": 76, \"count_y\": 7555, \"median\": 37.0, \"density\": 0.010059563203176703}, {\"genre\": \"Movie\", \"popularity\": 49, \"count_x\": 15, \"count_y\": 7555, \"median\": 37.0, \"density\": 0.001985440105890139}, {\"genre\": \"Movie\", \"popularity\": 41, \"count_x\": 48, \"count_y\": 7555, \"median\": 37.0, \"density\": 0.006353408338848445}, {\"genre\": \"Ska\", \"popularity\": 25, \"count_x\": 338, \"count_y\": 8022, \"median\": 38.0, \"density\": 0.04213413113936674}, {\"genre\": \"Ska\", \"popularity\": 41, \"count_x\": 96, \"count_y\": 8022, \"median\": 38.0, \"density\": 0.011967090501121914}, {\"genre\": \"Ska\", \"popularity\": 42, \"count_x\": 86, \"count_y\": 8022, \"median\": 38.0, \"density\": 0.010720518573921716}, {\"genre\": \"Ska\", \"popularity\": 43, \"count_x\": 90, \"count_y\": 8022, \"median\": 38.0, \"density\": 0.011219147344801795}, {\"genre\": \"Ska\", \"popularity\": 44, \"count_x\": 78, \"count_y\": 8022, \"median\": 38.0, \"density\": 0.009723261032161555}, {\"genre\": \"Ska\", \"popularity\": 45, \"count_x\": 77, \"count_y\": 8022, \"median\": 38.0, \"density\": 0.009598603839441536}, {\"genre\": \"Ska\", \"popularity\": 46, \"count_x\": 56, \"count_y\": 8022, \"median\": 38.0, \"density\": 0.006980802792321117}, {\"genre\": \"Ska\", \"popularity\": 47, \"count_x\": 62, \"count_y\": 8022, \"median\": 38.0, \"density\": 0.007728745948641236}, {\"genre\": \"Ska\", \"popularity\": 48, \"count_x\": 61, \"count_y\": 8022, \"median\": 38.0, \"density\": 0.007604088755921216}, {\"genre\": \"Ska\", \"popularity\": 49, \"count_x\": 61, \"count_y\": 8022, \"median\": 38.0, \"density\": 0.007604088755921216}, {\"genre\": \"Ska\", \"popularity\": 50, \"count_x\": 44, \"count_y\": 8022, \"median\": 38.0, \"density\": 0.005484916479680878}, {\"genre\": \"Ska\", \"popularity\": 51, \"count_x\": 37, \"count_y\": 8022, \"median\": 38.0, \"density\": 0.004612316130640738}, {\"genre\": \"Ska\", \"popularity\": 52, \"count_x\": 28, \"count_y\": 8022, \"median\": 38.0, \"density\": 0.0034904013961605585}, {\"genre\": \"Ska\", \"popularity\": 53, \"count_x\": 28, \"count_y\": 8022, \"median\": 38.0, \"density\": 0.0034904013961605585}, {\"genre\": \"Ska\", \"popularity\": 54, \"count_x\": 22, \"count_y\": 8022, \"median\": 38.0, \"density\": 0.002742458239840439}, {\"genre\": \"Ska\", \"popularity\": 55, \"count_x\": 25, \"count_y\": 8022, \"median\": 38.0, \"density\": 0.0031164298180004985}, {\"genre\": \"Ska\", \"popularity\": 56, \"count_x\": 14, \"count_y\": 8022, \"median\": 38.0, \"density\": 0.0017452006980802793}, {\"genre\": \"Ska\", \"popularity\": 57, \"count_x\": 9, \"count_y\": 8022, \"median\": 38.0, \"density\": 0.0011219147344801795}, {\"genre\": \"Ska\", \"popularity\": 58, \"count_x\": 9, \"count_y\": 8022, \"median\": 38.0, \"density\": 0.0011219147344801795}, {\"genre\": \"Ska\", \"popularity\": 59, \"count_x\": 8, \"count_y\": 8022, \"median\": 38.0, \"density\": 0.0009972575417601596}, {\"genre\": \"Ska\", \"popularity\": 60, \"count_x\": 8, \"count_y\": 8022, \"median\": 38.0, \"density\": 0.0009972575417601596}, {\"genre\": \"Ska\", \"popularity\": 61, \"count_x\": 6, \"count_y\": 8022, \"median\": 38.0, \"density\": 0.0007479431563201197}, {\"genre\": \"Ska\", \"popularity\": 62, \"count_x\": 4, \"count_y\": 8022, \"median\": 38.0, \"density\": 0.0004986287708800798}, {\"genre\": \"Ska\", \"popularity\": 63, \"count_x\": 6, \"count_y\": 8022, \"median\": 38.0, \"density\": 0.0007479431563201197}, {\"genre\": \"Ska\", \"popularity\": 64, \"count_x\": 3, \"count_y\": 8022, \"median\": 38.0, \"density\": 0.00037397157816005983}, {\"genre\": \"Ska\", \"popularity\": 65, \"count_x\": 6, \"count_y\": 8022, \"median\": 38.0, \"density\": 0.0007479431563201197}, {\"genre\": \"Ska\", \"popularity\": 66, \"count_x\": 3, \"count_y\": 8022, \"median\": 38.0, \"density\": 0.00037397157816005983}, {\"genre\": \"Ska\", \"popularity\": 68, \"count_x\": 1, \"count_y\": 8022, \"median\": 38.0, \"density\": 0.00012465719272001995}, {\"genre\": \"Ska\", \"popularity\": 40, \"count_x\": 115, \"count_y\": 8022, \"median\": 38.0, \"density\": 0.014335577162802293}, {\"genre\": \"Ska\", \"popularity\": 38, \"count_x\": 163, \"count_y\": 8022, \"median\": 38.0, \"density\": 0.020319122413363252}, {\"genre\": \"Ska\", \"popularity\": 39, \"count_x\": 134, \"count_y\": 8022, \"median\": 38.0, \"density\": 0.01670406382448267}, {\"genre\": \"Ska\", \"popularity\": 21, \"count_x\": 365, \"count_y\": 8022, \"median\": 38.0, \"density\": 0.04549987534280728}, {\"genre\": \"Ska\", \"popularity\": 10, \"count_x\": 2, \"count_y\": 8022, \"median\": 38.0, \"density\": 0.0002493143854400399}, {\"genre\": \"Ska\", \"popularity\": 11, \"count_x\": 24, \"count_y\": 8022, \"median\": 38.0, \"density\": 0.0029917726252804786}, {\"genre\": \"Ska\", \"popularity\": 12, \"count_x\": 72, \"count_y\": 8022, \"median\": 38.0, \"density\": 0.008975317875841436}, {\"genre\": \"Ska\", \"popularity\": 13, \"count_x\": 159, \"count_y\": 8022, \"median\": 38.0, \"density\": 0.019820493642483172}, {\"genre\": \"Ska\", \"popularity\": 14, \"count_x\": 188, \"count_y\": 8022, \"median\": 38.0, \"density\": 0.02343555223136375}, {\"genre\": \"Ska\", \"popularity\": 15, \"count_x\": 206, \"count_y\": 8022, \"median\": 38.0, \"density\": 0.02567938170032411}, {\"genre\": \"Ska\", \"popularity\": 16, \"count_x\": 259, \"count_y\": 8022, \"median\": 38.0, \"density\": 0.03228621291448516}, {\"genre\": \"Ska\", \"popularity\": 17, \"count_x\": 310, \"count_y\": 8022, \"median\": 38.0, \"density\": 0.038643729743206186}, {\"genre\": \"Ska\", \"popularity\": 18, \"count_x\": 295, \"count_y\": 8022, \"median\": 38.0, \"density\": 0.03677387185240588}, {\"genre\": \"Ska\", \"popularity\": 19, \"count_x\": 337, \"count_y\": 8022, \"median\": 38.0, \"density\": 0.042009473946646725}, {\"genre\": \"Ska\", \"popularity\": 20, \"count_x\": 344, \"count_y\": 8022, \"median\": 38.0, \"density\": 0.04288207429568686}, {\"genre\": \"Ska\", \"popularity\": 37, \"count_x\": 141, \"count_y\": 8022, \"median\": 38.0, \"density\": 0.017576664173522813}, {\"genre\": \"Ska\", \"popularity\": 5, \"count_x\": 1, \"count_y\": 8022, \"median\": 38.0, \"density\": 0.00012465719272001995}, {\"genre\": \"Ska\", \"popularity\": 22, \"count_x\": 368, \"count_y\": 8022, \"median\": 38.0, \"density\": 0.04587384692096734}, {\"genre\": \"Ska\", \"popularity\": 24, \"count_x\": 399, \"count_y\": 8022, \"median\": 38.0, \"density\": 0.049738219895287955}, {\"genre\": \"Ska\", \"popularity\": 26, \"count_x\": 291, \"count_y\": 8022, \"median\": 38.0, \"density\": 0.036275243081525806}, {\"genre\": \"Ska\", \"popularity\": 27, \"count_x\": 287, \"count_y\": 8022, \"median\": 38.0, \"density\": 0.03577661431064572}, {\"genre\": \"Ska\", \"popularity\": 28, \"count_x\": 262, \"count_y\": 8022, \"median\": 38.0, \"density\": 0.032660184492645225}, {\"genre\": \"Ska\", \"popularity\": 29, \"count_x\": 277, \"count_y\": 8022, \"median\": 38.0, \"density\": 0.03453004238344552}, {\"genre\": \"Ska\", \"popularity\": 30, \"count_x\": 250, \"count_y\": 8022, \"median\": 38.0, \"density\": 0.031164298180004987}, {\"genre\": \"Ska\", \"popularity\": 31, \"count_x\": 248, \"count_y\": 8022, \"median\": 38.0, \"density\": 0.030914983794564945}, {\"genre\": \"Ska\", \"popularity\": 32, \"count_x\": 229, \"count_y\": 8022, \"median\": 38.0, \"density\": 0.02854649713288457}, {\"genre\": \"Ska\", \"popularity\": 33, \"count_x\": 203, \"count_y\": 8022, \"median\": 38.0, \"density\": 0.02530541012216405}, {\"genre\": \"Ska\", \"popularity\": 34, \"count_x\": 159, \"count_y\": 8022, \"median\": 38.0, \"density\": 0.019820493642483172}, {\"genre\": \"Ska\", \"popularity\": 35, \"count_x\": 153, \"count_y\": 8022, \"median\": 38.0, \"density\": 0.01907255048616305}, {\"genre\": \"Ska\", \"popularity\": 36, \"count_x\": 146, \"count_y\": 8022, \"median\": 38.0, \"density\": 0.018199950137122913}, {\"genre\": \"Ska\", \"popularity\": 23, \"count_x\": 369, \"count_y\": 8022, \"median\": 38.0, \"density\": 0.04599850411368736}, {\"genre\": \"World\", \"popularity\": 3, \"count_x\": 8, \"count_y\": 8038, \"median\": 38.5, \"density\": 0.0009952724558347848}, {\"genre\": \"World\", \"popularity\": 4, \"count_x\": 21, \"count_y\": 8038, \"median\": 38.5, \"density\": 0.0026125901965663102}, {\"genre\": \"World\", \"popularity\": 72, \"count_x\": 1, \"count_y\": 8038, \"median\": 38.5, \"density\": 0.0001244090569793481}, {\"genre\": \"World\", \"popularity\": 5, \"count_x\": 2, \"count_y\": 8038, \"median\": 38.5, \"density\": 0.0002488181139586962}, {\"genre\": \"World\", \"popularity\": 76, \"count_x\": 1, \"count_y\": 8038, \"median\": 38.5, \"density\": 0.0001244090569793481}, {\"genre\": \"World\", \"popularity\": 9, \"count_x\": 7, \"count_y\": 8038, \"median\": 38.5, \"density\": 0.0008708633988554367}, {\"genre\": \"World\", \"popularity\": 43, \"count_x\": 193, \"count_y\": 8038, \"median\": 38.5, \"density\": 0.024010947997014184}, {\"genre\": \"World\", \"popularity\": 44, \"count_x\": 183, \"count_y\": 8038, \"median\": 38.5, \"density\": 0.0227668574272207}, {\"genre\": \"World\", \"popularity\": 45, \"count_x\": 168, \"count_y\": 8038, \"median\": 38.5, \"density\": 0.020900721572530482}, {\"genre\": \"World\", \"popularity\": 46, \"count_x\": 118, \"count_y\": 8038, \"median\": 38.5, \"density\": 0.014680268723563076}, {\"genre\": \"World\", \"popularity\": 47, \"count_x\": 108, \"count_y\": 8038, \"median\": 38.5, \"density\": 0.013436178153769594}, {\"genre\": \"World\", \"popularity\": 48, \"count_x\": 98, \"count_y\": 8038, \"median\": 38.5, \"density\": 0.012192087583976113}, {\"genre\": \"World\", \"popularity\": 49, \"count_x\": 76, \"count_y\": 8038, \"median\": 38.5, \"density\": 0.009455088330430456}, {\"genre\": \"World\", \"popularity\": 50, \"count_x\": 66, \"count_y\": 8038, \"median\": 38.5, \"density\": 0.008210997760636975}, {\"genre\": \"World\", \"popularity\": 51, \"count_x\": 67, \"count_y\": 8038, \"median\": 38.5, \"density\": 0.008335406817616322}, {\"genre\": \"World\", \"popularity\": 52, \"count_x\": 30, \"count_y\": 8038, \"median\": 38.5, \"density\": 0.003732271709380443}, {\"genre\": \"World\", \"popularity\": 53, \"count_x\": 43, \"count_y\": 8038, \"median\": 38.5, \"density\": 0.005349589450111968}, {\"genre\": \"World\", \"popularity\": 70, \"count_x\": 3, \"count_y\": 8038, \"median\": 38.5, \"density\": 0.0003732271709380443}, {\"genre\": \"World\", \"popularity\": 54, \"count_x\": 30, \"count_y\": 8038, \"median\": 38.5, \"density\": 0.003732271709380443}, {\"genre\": \"World\", \"popularity\": 42, \"count_x\": 218, \"count_y\": 8038, \"median\": 38.5, \"density\": 0.027121174421497887}, {\"genre\": \"World\", \"popularity\": 55, \"count_x\": 25, \"count_y\": 8038, \"median\": 38.5, \"density\": 0.0031102264244837023}, {\"genre\": \"World\", \"popularity\": 58, \"count_x\": 21, \"count_y\": 8038, \"median\": 38.5, \"density\": 0.0026125901965663102}, {\"genre\": \"World\", \"popularity\": 59, \"count_x\": 18, \"count_y\": 8038, \"median\": 38.5, \"density\": 0.002239363025628266}, {\"genre\": \"World\", \"popularity\": 60, \"count_x\": 12, \"count_y\": 8038, \"median\": 38.5, \"density\": 0.001492908683752177}, {\"genre\": \"World\", \"popularity\": 61, \"count_x\": 11, \"count_y\": 8038, \"median\": 38.5, \"density\": 0.001368499626772829}, {\"genre\": \"World\", \"popularity\": 62, \"count_x\": 12, \"count_y\": 8038, \"median\": 38.5, \"density\": 0.001492908683752177}, {\"genre\": \"World\", \"popularity\": 63, \"count_x\": 8, \"count_y\": 8038, \"median\": 38.5, \"density\": 0.0009952724558347848}, {\"genre\": \"World\", \"popularity\": 64, \"count_x\": 7, \"count_y\": 8038, \"median\": 38.5, \"density\": 0.0008708633988554367}, {\"genre\": \"World\", \"popularity\": 65, \"count_x\": 7, \"count_y\": 8038, \"median\": 38.5, \"density\": 0.0008708633988554367}, {\"genre\": \"World\", \"popularity\": 66, \"count_x\": 6, \"count_y\": 8038, \"median\": 38.5, \"density\": 0.0007464543418760885}, {\"genre\": \"World\", \"popularity\": 67, \"count_x\": 2, \"count_y\": 8038, \"median\": 38.5, \"density\": 0.0002488181139586962}, {\"genre\": \"World\", \"popularity\": 68, \"count_x\": 2, \"count_y\": 8038, \"median\": 38.5, \"density\": 0.0002488181139586962}, {\"genre\": \"World\", \"popularity\": 69, \"count_x\": 2, \"count_y\": 8038, \"median\": 38.5, \"density\": 0.0002488181139586962}, {\"genre\": \"World\", \"popularity\": 8, \"count_x\": 6, \"count_y\": 8038, \"median\": 38.5, \"density\": 0.0007464543418760885}, {\"genre\": \"World\", \"popularity\": 56, \"count_x\": 25, \"count_y\": 8038, \"median\": 38.5, \"density\": 0.0031102264244837023}, {\"genre\": \"World\", \"popularity\": 41, \"count_x\": 242, \"count_y\": 8038, \"median\": 38.5, \"density\": 0.030106991789002238}, {\"genre\": \"World\", \"popularity\": 57, \"count_x\": 24, \"count_y\": 8038, \"median\": 38.5, \"density\": 0.002985817367504354}, {\"genre\": \"World\", \"popularity\": 39, \"count_x\": 268, \"count_y\": 8038, \"median\": 38.5, \"density\": 0.03334162727046529}, {\"genre\": \"World\", \"popularity\": 10, \"count_x\": 8, \"count_y\": 8038, \"median\": 38.5, \"density\": 0.0009952724558347848}, {\"genre\": \"World\", \"popularity\": 40, \"count_x\": 239, \"count_y\": 8038, \"median\": 38.5, \"density\": 0.029733764618064196}, {\"genre\": \"World\", \"popularity\": 11, \"count_x\": 9, \"count_y\": 8038, \"median\": 38.5, \"density\": 0.001119681512814133}, {\"genre\": \"World\", \"popularity\": 12, \"count_x\": 2, \"count_y\": 8038, \"median\": 38.5, \"density\": 0.0002488181139586962}, {\"genre\": \"World\", \"popularity\": 13, \"count_x\": 1, \"count_y\": 8038, \"median\": 38.5, \"density\": 0.0001244090569793481}, {\"genre\": \"World\", \"popularity\": 14, \"count_x\": 4, \"count_y\": 8038, \"median\": 38.5, \"density\": 0.0004976362279173924}, {\"genre\": \"World\", \"popularity\": 15, \"count_x\": 3, \"count_y\": 8038, \"median\": 38.5, \"density\": 0.0003732271709380443}, {\"genre\": \"World\", \"popularity\": 16, \"count_x\": 1, \"count_y\": 8038, \"median\": 38.5, \"density\": 0.0001244090569793481}, {\"genre\": \"World\", \"popularity\": 18, \"count_x\": 16, \"count_y\": 8038, \"median\": 38.5, \"density\": 0.0019905449116695696}, {\"genre\": \"World\", \"popularity\": 19, \"count_x\": 24, \"count_y\": 8038, \"median\": 38.5, \"density\": 0.002985817367504354}, {\"genre\": \"World\", \"popularity\": 20, \"count_x\": 47, \"count_y\": 8038, \"median\": 38.5, \"density\": 0.00584722567802936}, {\"genre\": \"World\", \"popularity\": 21, \"count_x\": 75, \"count_y\": 8038, \"median\": 38.5, \"density\": 0.009330679273451107}, {\"genre\": \"World\", \"popularity\": 22, \"count_x\": 110, \"count_y\": 8038, \"median\": 38.5, \"density\": 0.01368499626772829}, {\"genre\": \"World\", \"popularity\": 23, \"count_x\": 151, \"count_y\": 8038, \"median\": 38.5, \"density\": 0.01878576760388156}, {\"genre\": \"World\", \"popularity\": 17, \"count_x\": 2, \"count_y\": 8038, \"median\": 38.5, \"density\": 0.0002488181139586962}, {\"genre\": \"World\", \"popularity\": 25, \"count_x\": 291, \"count_y\": 8038, \"median\": 38.5, \"density\": 0.0362030355809903}, {\"genre\": \"World\", \"popularity\": 37, \"count_x\": 286, \"count_y\": 8038, \"median\": 38.5, \"density\": 0.03558099029609355}, {\"genre\": \"World\", \"popularity\": 24, \"count_x\": 200, \"count_y\": 8038, \"median\": 38.5, \"density\": 0.02488181139586962}, {\"genre\": \"World\", \"popularity\": 36, \"count_x\": 329, \"count_y\": 8038, \"median\": 38.5, \"density\": 0.04093057974620552}, {\"genre\": \"World\", \"popularity\": 35, \"count_x\": 358, \"count_y\": 8038, \"median\": 38.5, \"density\": 0.04453844239860662}, {\"genre\": \"World\", \"popularity\": 34, \"count_x\": 357, \"count_y\": 8038, \"median\": 38.5, \"density\": 0.044414033341627274}, {\"genre\": \"World\", \"popularity\": 32, \"count_x\": 438, \"count_y\": 8038, \"median\": 38.5, \"density\": 0.05449116695695447}, {\"genre\": \"World\", \"popularity\": 31, \"count_x\": 391, \"count_y\": 8038, \"median\": 38.5, \"density\": 0.04864394127892511}, {\"genre\": \"World\", \"popularity\": 33, \"count_x\": 423, \"count_y\": 8038, \"median\": 38.5, \"density\": 0.05262503110226424}, {\"genre\": \"World\", \"popularity\": 30, \"count_x\": 414, \"count_y\": 8038, \"median\": 38.5, \"density\": 0.05150534958945011}, {\"genre\": \"World\", \"popularity\": 29, \"count_x\": 365, \"count_y\": 8038, \"median\": 38.5, \"density\": 0.04540930579746206}, {\"genre\": \"World\", \"popularity\": 28, \"count_x\": 427, \"count_y\": 8038, \"median\": 38.5, \"density\": 0.05312266733018164}, {\"genre\": \"World\", \"popularity\": 27, \"count_x\": 307, \"count_y\": 8038, \"median\": 38.5, \"density\": 0.03819358049265987}, {\"genre\": \"World\", \"popularity\": 26, \"count_x\": 338, \"count_y\": 8038, \"median\": 38.5, \"density\": 0.04205026125901966}, {\"genre\": \"World\", \"popularity\": 38, \"count_x\": 283, \"count_y\": 8038, \"median\": 38.5, \"density\": 0.035207763125155514}, {\"genre\": \"Reggae\", \"popularity\": 27, \"count_x\": 331, \"count_y\": 8711, \"median\": 39.5, \"density\": 0.03799793364711285}, {\"genre\": \"Reggae\", \"popularity\": 23, \"count_x\": 207, \"count_y\": 8711, \"median\": 39.5, \"density\": 0.023763058202272987}, {\"genre\": \"Reggae\", \"popularity\": 24, \"count_x\": 216, \"count_y\": 8711, \"median\": 39.5, \"density\": 0.024796234645850075}, {\"genre\": \"Reggae\", \"popularity\": 25, \"count_x\": 288, \"count_y\": 8711, \"median\": 39.5, \"density\": 0.03306164619446677}, {\"genre\": \"Reggae\", \"popularity\": 26, \"count_x\": 265, \"count_y\": 8711, \"median\": 39.5, \"density\": 0.030421306394214212}, {\"genre\": \"Reggae\", \"popularity\": 22, \"count_x\": 198, \"count_y\": 8711, \"median\": 39.5, \"density\": 0.0227298817586959}, {\"genre\": \"Reggae\", \"popularity\": 28, \"count_x\": 379, \"count_y\": 8711, \"median\": 39.5, \"density\": 0.043508208012857305}, {\"genre\": \"Reggae\", \"popularity\": 34, \"count_x\": 321, \"count_y\": 8711, \"median\": 39.5, \"density\": 0.03684995982091608}, {\"genre\": \"Reggae\", \"popularity\": 30, \"count_x\": 391, \"count_y\": 8711, \"median\": 39.5, \"density\": 0.04488577660429342}, {\"genre\": \"Reggae\", \"popularity\": 31, \"count_x\": 369, \"count_y\": 8711, \"median\": 39.5, \"density\": 0.042360234186660545}, {\"genre\": \"Reggae\", \"popularity\": 32, \"count_x\": 376, \"count_y\": 8711, \"median\": 39.5, \"density\": 0.043163815864998276}, {\"genre\": \"Reggae\", \"popularity\": 33, \"count_x\": 370, \"count_y\": 8711, \"median\": 39.5, \"density\": 0.042475031569280224}, {\"genre\": \"Reggae\", \"popularity\": 35, \"count_x\": 289, \"count_y\": 8711, \"median\": 39.5, \"density\": 0.03317644357708644}, {\"genre\": \"Reggae\", \"popularity\": 21, \"count_x\": 164, \"count_y\": 8711, \"median\": 39.5, \"density\": 0.01882677074962691}, {\"genre\": \"Reggae\", \"popularity\": 36, \"count_x\": 304, \"count_y\": 8711, \"median\": 39.5, \"density\": 0.03489840431638159}, {\"genre\": \"Reggae\", \"popularity\": 29, \"count_x\": 413, \"count_y\": 8711, \"median\": 39.5, \"density\": 0.0474113190219263}, {\"genre\": \"Reggae\", \"popularity\": 20, \"count_x\": 96, \"count_y\": 8711, \"median\": 39.5, \"density\": 0.011020548731488921}, {\"genre\": \"Reggae\", \"popularity\": 3, \"count_x\": 3, \"count_y\": 8711, \"median\": 39.5, \"density\": 0.0003443921478590288}, {\"genre\": \"Reggae\", \"popularity\": 18, \"count_x\": 15, \"count_y\": 8711, \"median\": 39.5, \"density\": 0.001721960739295144}, {\"genre\": \"Reggae\", \"popularity\": 37, \"count_x\": 248, \"count_y\": 8711, \"median\": 39.5, \"density\": 0.028469750889679714}, {\"genre\": \"Reggae\", \"popularity\": 0, \"count_x\": 44, \"count_y\": 8711, \"median\": 39.5, \"density\": 0.005051084835265756}, {\"genre\": \"Reggae\", \"popularity\": 1, \"count_x\": 23, \"count_y\": 8711, \"median\": 39.5, \"density\": 0.002640339800252554}, {\"genre\": \"Reggae\", \"popularity\": 2, \"count_x\": 3, \"count_y\": 8711, \"median\": 39.5, \"density\": 0.0003443921478590288}, {\"genre\": \"Reggae\", \"popularity\": 4, \"count_x\": 4, \"count_y\": 8711, \"median\": 39.5, \"density\": 0.0004591895304787051}, {\"genre\": \"Reggae\", \"popularity\": 5, \"count_x\": 5, \"count_y\": 8711, \"median\": 39.5, \"density\": 0.0005739869130983814}, {\"genre\": \"Reggae\", \"popularity\": 6, \"count_x\": 1, \"count_y\": 8711, \"median\": 39.5, \"density\": 0.00011479738261967628}, {\"genre\": \"Reggae\", \"popularity\": 8, \"count_x\": 3, \"count_y\": 8711, \"median\": 39.5, \"density\": 0.0003443921478590288}, {\"genre\": \"Reggae\", \"popularity\": 9, \"count_x\": 3, \"count_y\": 8711, \"median\": 39.5, \"density\": 0.0003443921478590288}, {\"genre\": \"Reggae\", \"popularity\": 10, \"count_x\": 4, \"count_y\": 8711, \"median\": 39.5, \"density\": 0.0004591895304787051}, {\"genre\": \"Reggae\", \"popularity\": 11, \"count_x\": 2, \"count_y\": 8711, \"median\": 39.5, \"density\": 0.00022959476523935255}, {\"genre\": \"Reggae\", \"popularity\": 13, \"count_x\": 1, \"count_y\": 8711, \"median\": 39.5, \"density\": 0.00011479738261967628}, {\"genre\": \"Reggae\", \"popularity\": 14, \"count_x\": 2, \"count_y\": 8711, \"median\": 39.5, \"density\": 0.00022959476523935255}, {\"genre\": \"Reggae\", \"popularity\": 15, \"count_x\": 1, \"count_y\": 8711, \"median\": 39.5, \"density\": 0.00011479738261967628}, {\"genre\": \"Reggae\", \"popularity\": 16, \"count_x\": 3, \"count_y\": 8711, \"median\": 39.5, \"density\": 0.0003443921478590288}, {\"genre\": \"Reggae\", \"popularity\": 19, \"count_x\": 73, \"count_y\": 8711, \"median\": 39.5, \"density\": 0.008380208931236368}, {\"genre\": \"Reggae\", \"popularity\": 38, \"count_x\": 267, \"count_y\": 8711, \"median\": 39.5, \"density\": 0.030650901159453566}, {\"genre\": \"Reggae\", \"popularity\": 61, \"count_x\": 35, \"count_y\": 8711, \"median\": 39.5, \"density\": 0.004017908391688669}, {\"genre\": \"Reggae\", \"popularity\": 40, \"count_x\": 243, \"count_y\": 8711, \"median\": 39.5, \"density\": 0.027895763976581334}, {\"genre\": \"Reggae\", \"popularity\": 62, \"count_x\": 21, \"count_y\": 8711, \"median\": 39.5, \"density\": 0.0024107450350132017}, {\"genre\": \"Reggae\", \"popularity\": 63, \"count_x\": 21, \"count_y\": 8711, \"median\": 39.5, \"density\": 0.0024107450350132017}, {\"genre\": \"Reggae\", \"popularity\": 64, \"count_x\": 13, \"count_y\": 8711, \"median\": 39.5, \"density\": 0.0014923659740557916}, {\"genre\": \"Reggae\", \"popularity\": 65, \"count_x\": 12, \"count_y\": 8711, \"median\": 39.5, \"density\": 0.0013775685914361152}, {\"genre\": \"Reggae\", \"popularity\": 66, \"count_x\": 9, \"count_y\": 8711, \"median\": 39.5, \"density\": 0.0010331764435770865}, {\"genre\": \"Reggae\", \"popularity\": 67, \"count_x\": 7, \"count_y\": 8711, \"median\": 39.5, \"density\": 0.0008035816783377339}, {\"genre\": \"Reggae\", \"popularity\": 39, \"count_x\": 246, \"count_y\": 8711, \"median\": 39.5, \"density\": 0.028240156124440363}, {\"genre\": \"Reggae\", \"popularity\": 70, \"count_x\": 7, \"count_y\": 8711, \"median\": 39.5, \"density\": 0.0008035816783377339}, {\"genre\": \"Reggae\", \"popularity\": 71, \"count_x\": 4, \"count_y\": 8711, \"median\": 39.5, \"density\": 0.0004591895304787051}, {\"genre\": \"Reggae\", \"popularity\": 73, \"count_x\": 2, \"count_y\": 8711, \"median\": 39.5, \"density\": 0.00022959476523935255}, {\"genre\": \"Reggae\", \"popularity\": 74, \"count_x\": 3, \"count_y\": 8711, \"median\": 39.5, \"density\": 0.0003443921478590288}, {\"genre\": \"Reggae\", \"popularity\": 75, \"count_x\": 1, \"count_y\": 8711, \"median\": 39.5, \"density\": 0.00011479738261967628}, {\"genre\": \"Reggae\", \"popularity\": 76, \"count_x\": 1, \"count_y\": 8711, \"median\": 39.5, \"density\": 0.00011479738261967628}, {\"genre\": \"Reggae\", \"popularity\": 77, \"count_x\": 1, \"count_y\": 8711, \"median\": 39.5, \"density\": 0.00011479738261967628}, {\"genre\": \"Reggae\", \"popularity\": 78, \"count_x\": 1, \"count_y\": 8711, \"median\": 39.5, \"density\": 0.00011479738261967628}, {\"genre\": \"Reggae\", \"popularity\": 60, \"count_x\": 42, \"count_y\": 8711, \"median\": 39.5, \"density\": 0.004821490070026403}, {\"genre\": \"Reggae\", \"popularity\": 59, \"count_x\": 37, \"count_y\": 8711, \"median\": 39.5, \"density\": 0.004247503156928022}, {\"genre\": \"Reggae\", \"popularity\": 68, \"count_x\": 2, \"count_y\": 8711, \"median\": 39.5, \"density\": 0.00022959476523935255}, {\"genre\": \"Reggae\", \"popularity\": 57, \"count_x\": 55, \"count_y\": 8711, \"median\": 39.5, \"density\": 0.006313856044082195}, {\"genre\": \"Reggae\", \"popularity\": 58, \"count_x\": 47, \"count_y\": 8711, \"median\": 39.5, \"density\": 0.0053954769831247845}, {\"genre\": \"Reggae\", \"popularity\": 41, \"count_x\": 238, \"count_y\": 8711, \"median\": 39.5, \"density\": 0.027321777063482953}, {\"genre\": \"Reggae\", \"popularity\": 42, \"count_x\": 222, \"count_y\": 8711, \"median\": 39.5, \"density\": 0.02548501894156813}, {\"genre\": \"Reggae\", \"popularity\": 43, \"count_x\": 241, \"count_y\": 8711, \"median\": 39.5, \"density\": 0.027666169211341983}, {\"genre\": \"Reggae\", \"popularity\": 44, \"count_x\": 144, \"count_y\": 8711, \"median\": 39.5, \"density\": 0.016530823097233385}, {\"genre\": \"Reggae\", \"popularity\": 46, \"count_x\": 146, \"count_y\": 8711, \"median\": 39.5, \"density\": 0.016760417862472735}, {\"genre\": \"Reggae\", \"popularity\": 47, \"count_x\": 163, \"count_y\": 8711, \"median\": 39.5, \"density\": 0.018711973367007233}, {\"genre\": \"Reggae\", \"popularity\": 48, \"count_x\": 127, \"count_y\": 8711, \"median\": 39.5, \"density\": 0.014579267592698886}, {\"genre\": \"Reggae\", \"popularity\": 45, \"count_x\": 177, \"count_y\": 8711, \"median\": 39.5, \"density\": 0.0203191367236827}, {\"genre\": \"Reggae\", \"popularity\": 50, \"count_x\": 114, \"count_y\": 8711, \"median\": 39.5, \"density\": 0.013086901618643095}, {\"genre\": \"Reggae\", \"popularity\": 51, \"count_x\": 121, \"count_y\": 8711, \"median\": 39.5, \"density\": 0.01389048329698083}, {\"genre\": \"Reggae\", \"popularity\": 52, \"count_x\": 94, \"count_y\": 8711, \"median\": 39.5, \"density\": 0.010790953966249569}, {\"genre\": \"Reggae\", \"popularity\": 53, \"count_x\": 97, \"count_y\": 8711, \"median\": 39.5, \"density\": 0.011135346114108598}, {\"genre\": \"Reggae\", \"popularity\": 54, \"count_x\": 89, \"count_y\": 8711, \"median\": 39.5, \"density\": 0.010216967053151189}, {\"genre\": \"Reggae\", \"popularity\": 55, \"count_x\": 78, \"count_y\": 8711, \"median\": 39.5, \"density\": 0.00895419584433475}, {\"genre\": \"Reggae\", \"popularity\": 56, \"count_x\": 50, \"count_y\": 8711, \"median\": 39.5, \"density\": 0.005739869130983814}, {\"genre\": \"Reggae\", \"popularity\": 49, \"count_x\": 118, \"count_y\": 8711, \"median\": 39.5, \"density\": 0.0135460911491218}, {\"genre\": \"Electronic\", \"popularity\": 24, \"count_x\": 113, \"count_y\": 9149, \"median\": 45.5, \"density\": 0.012351076620395671}, {\"genre\": \"Electronic\", \"popularity\": 30, \"count_x\": 335, \"count_y\": 9149, \"median\": 45.5, \"density\": 0.03661602360913761}, {\"genre\": \"Electronic\", \"popularity\": 29, \"count_x\": 328, \"count_y\": 9149, \"median\": 45.5, \"density\": 0.035850912668051155}, {\"genre\": \"Electronic\", \"popularity\": 28, \"count_x\": 295, \"count_y\": 9149, \"median\": 45.5, \"density\": 0.032243961088643566}, {\"genre\": \"Electronic\", \"popularity\": 27, \"count_x\": 250, \"count_y\": 9149, \"median\": 45.5, \"density\": 0.02732539075308777}, {\"genre\": \"Electronic\", \"popularity\": 26, \"count_x\": 180, \"count_y\": 9149, \"median\": 45.5, \"density\": 0.019674281342223193}, {\"genre\": \"Electronic\", \"popularity\": 25, \"count_x\": 175, \"count_y\": 9149, \"median\": 45.5, \"density\": 0.019127773527161437}, {\"genre\": \"Electronic\", \"popularity\": 23, \"count_x\": 96, \"count_y\": 9149, \"median\": 45.5, \"density\": 0.010492950049185703}, {\"genre\": \"Electronic\", \"popularity\": 31, \"count_x\": 375, \"count_y\": 9149, \"median\": 45.5, \"density\": 0.04098808612963165}, {\"genre\": \"Electronic\", \"popularity\": 21, \"count_x\": 60, \"count_y\": 9149, \"median\": 45.5, \"density\": 0.006558093780741065}, {\"genre\": \"Electronic\", \"popularity\": 20, \"count_x\": 30, \"count_y\": 9149, \"median\": 45.5, \"density\": 0.0032790468903705324}, {\"genre\": \"Electronic\", \"popularity\": 19, \"count_x\": 13, \"count_y\": 9149, \"median\": 45.5, \"density\": 0.001420920319160564}, {\"genre\": \"Electronic\", \"popularity\": 18, \"count_x\": 5, \"count_y\": 9149, \"median\": 45.5, \"density\": 0.0005465078150617554}, {\"genre\": \"Electronic\", \"popularity\": 17, \"count_x\": 2, \"count_y\": 9149, \"median\": 45.5, \"density\": 0.00021860312602470214}, {\"genre\": \"Electronic\", \"popularity\": 3, \"count_x\": 1, \"count_y\": 9149, \"median\": 45.5, \"density\": 0.00010930156301235107}, {\"genre\": \"Electronic\", \"popularity\": 0, \"count_x\": 53, \"count_y\": 9149, \"median\": 45.5, \"density\": 0.0057929828396546075}, {\"genre\": \"Electronic\", \"popularity\": 33, \"count_x\": 435, \"count_y\": 9149, \"median\": 45.5, \"density\": 0.047546179910372716}, {\"genre\": \"Electronic\", \"popularity\": 22, \"count_x\": 69, \"count_y\": 9149, \"median\": 45.5, \"density\": 0.007541807847852224}, {\"genre\": \"Electronic\", \"popularity\": 32, \"count_x\": 399, \"count_y\": 9149, \"median\": 45.5, \"density\": 0.04361132364192808}, {\"genre\": \"Electronic\", \"popularity\": 34, \"count_x\": 399, \"count_y\": 9149, \"median\": 45.5, \"density\": 0.04361132364192808}, {\"genre\": \"Electronic\", \"popularity\": 35, \"count_x\": 412, \"count_y\": 9149, \"median\": 45.5, \"density\": 0.045032243961088646}, {\"genre\": \"Electronic\", \"popularity\": 59, \"count_x\": 40, \"count_y\": 9149, \"median\": 45.5, \"density\": 0.004372062520494043}, {\"genre\": \"Electronic\", \"popularity\": 60, \"count_x\": 29, \"count_y\": 9149, \"median\": 45.5, \"density\": 0.003169745327358181}, {\"genre\": \"Electronic\", \"popularity\": 61, \"count_x\": 21, \"count_y\": 9149, \"median\": 45.5, \"density\": 0.0022953328232593728}, {\"genre\": \"Electronic\", \"popularity\": 62, \"count_x\": 28, \"count_y\": 9149, \"median\": 45.5, \"density\": 0.00306044376434583}, {\"genre\": \"Electronic\", \"popularity\": 63, \"count_x\": 17, \"count_y\": 9149, \"median\": 45.5, \"density\": 0.0018581265712099683}, {\"genre\": \"Electronic\", \"popularity\": 64, \"count_x\": 14, \"count_y\": 9149, \"median\": 45.5, \"density\": 0.001530221882172915}, {\"genre\": \"Electronic\", \"popularity\": 65, \"count_x\": 10, \"count_y\": 9149, \"median\": 45.5, \"density\": 0.0010930156301235108}, {\"genre\": \"Electronic\", \"popularity\": 66, \"count_x\": 3, \"count_y\": 9149, \"median\": 45.5, \"density\": 0.00032790468903705323}, {\"genre\": \"Electronic\", \"popularity\": 58, \"count_x\": 43, \"count_y\": 9149, \"median\": 45.5, \"density\": 0.004699967209531097}, {\"genre\": \"Electronic\", \"popularity\": 67, \"count_x\": 5, \"count_y\": 9149, \"median\": 45.5, \"density\": 0.0005465078150617554}, {\"genre\": \"Electronic\", \"popularity\": 69, \"count_x\": 3, \"count_y\": 9149, \"median\": 45.5, \"density\": 0.00032790468903705323}, {\"genre\": \"Electronic\", \"popularity\": 70, \"count_x\": 5, \"count_y\": 9149, \"median\": 45.5, \"density\": 0.0005465078150617554}, {\"genre\": \"Electronic\", \"popularity\": 71, \"count_x\": 3, \"count_y\": 9149, \"median\": 45.5, \"density\": 0.00032790468903705323}, {\"genre\": \"Electronic\", \"popularity\": 72, \"count_x\": 1, \"count_y\": 9149, \"median\": 45.5, \"density\": 0.00010930156301235107}, {\"genre\": \"Electronic\", \"popularity\": 73, \"count_x\": 1, \"count_y\": 9149, \"median\": 45.5, \"density\": 0.00010930156301235107}, {\"genre\": \"Electronic\", \"popularity\": 74, \"count_x\": 3, \"count_y\": 9149, \"median\": 45.5, \"density\": 0.00032790468903705323}, {\"genre\": \"Electronic\", \"popularity\": 76, \"count_x\": 1, \"count_y\": 9149, \"median\": 45.5, \"density\": 0.00010930156301235107}, {\"genre\": \"Electronic\", \"popularity\": 79, \"count_x\": 1, \"count_y\": 9149, \"median\": 45.5, \"density\": 0.00010930156301235107}, {\"genre\": \"Electronic\", \"popularity\": 68, \"count_x\": 3, \"count_y\": 9149, \"median\": 45.5, \"density\": 0.00032790468903705323}, {\"genre\": \"Electronic\", \"popularity\": 57, \"count_x\": 49, \"count_y\": 9149, \"median\": 45.5, \"density\": 0.005355776587605203}, {\"genre\": \"Electronic\", \"popularity\": 36, \"count_x\": 405, \"count_y\": 9149, \"median\": 45.5, \"density\": 0.04426713302000219}, {\"genre\": \"Electronic\", \"popularity\": 55, \"count_x\": 77, \"count_y\": 9149, \"median\": 45.5, \"density\": 0.008416220351951033}, {\"genre\": \"Electronic\", \"popularity\": 56, \"count_x\": 47, \"count_y\": 9149, \"median\": 45.5, \"density\": 0.0051371734615805005}, {\"genre\": \"Electronic\", \"popularity\": 37, \"count_x\": 399, \"count_y\": 9149, \"median\": 45.5, \"density\": 0.04361132364192808}, {\"genre\": \"Electronic\", \"popularity\": 38, \"count_x\": 400, \"count_y\": 9149, \"median\": 45.5, \"density\": 0.04372062520494043}, {\"genre\": \"Electronic\", \"popularity\": 39, \"count_x\": 366, \"count_y\": 9149, \"median\": 45.5, \"density\": 0.04000437206252049}, {\"genre\": \"Electronic\", \"popularity\": 40, \"count_x\": 378, \"count_y\": 9149, \"median\": 45.5, \"density\": 0.041315990818668706}, {\"genre\": \"Electronic\", \"popularity\": 42, \"count_x\": 331, \"count_y\": 9149, \"median\": 45.5, \"density\": 0.03617881735708821}, {\"genre\": \"Electronic\", \"popularity\": 43, \"count_x\": 286, \"count_y\": 9149, \"median\": 45.5, \"density\": 0.031260247021532406}, {\"genre\": \"Electronic\", \"popularity\": 44, \"count_x\": 258, \"count_y\": 9149, \"median\": 45.5, \"density\": 0.028199803257186577}, {\"genre\": \"Electronic\", \"popularity\": 45, \"count_x\": 246, \"count_y\": 9149, \"median\": 45.5, \"density\": 0.026888184501038366}, {\"genre\": \"Electronic\", \"popularity\": 41, \"count_x\": 352, \"count_y\": 9149, \"median\": 45.5, \"density\": 0.038474150180347576}, {\"genre\": \"Electronic\", \"popularity\": 47, \"count_x\": 194, \"count_y\": 9149, \"median\": 45.5, \"density\": 0.02120450322439611}, {\"genre\": \"Electronic\", \"popularity\": 48, \"count_x\": 191, \"count_y\": 9149, \"median\": 45.5, \"density\": 0.020876598535359055}, {\"genre\": \"Electronic\", \"popularity\": 49, \"count_x\": 153, \"count_y\": 9149, \"median\": 45.5, \"density\": 0.016723139140889715}, {\"genre\": \"Electronic\", \"popularity\": 50, \"count_x\": 140, \"count_y\": 9149, \"median\": 45.5, \"density\": 0.015302218821729151}, {\"genre\": \"Electronic\", \"popularity\": 51, \"count_x\": 116, \"count_y\": 9149, \"median\": 45.5, \"density\": 0.012678981309432725}, {\"genre\": \"Electronic\", \"popularity\": 52, \"count_x\": 98, \"count_y\": 9149, \"median\": 45.5, \"density\": 0.010711553175210406}, {\"genre\": \"Electronic\", \"popularity\": 53, \"count_x\": 106, \"count_y\": 9149, \"median\": 45.5, \"density\": 0.011585965679309215}, {\"genre\": \"Electronic\", \"popularity\": 46, \"count_x\": 217, \"count_y\": 9149, \"median\": 45.5, \"density\": 0.023718439173680182}, {\"genre\": \"Electronic\", \"popularity\": 54, \"count_x\": 84, \"count_y\": 9149, \"median\": 45.5, \"density\": 0.009181331293037491}, {\"genre\": \"Reggaeton\", \"popularity\": 80, \"count_x\": 7, \"count_y\": 8537, \"median\": 48.5, \"density\": 0.0008199601733630081}, {\"genre\": \"Reggaeton\", \"popularity\": 81, \"count_x\": 4, \"count_y\": 8537, \"median\": 48.5, \"density\": 0.0004685486704931475}, {\"genre\": \"Reggaeton\", \"popularity\": 82, \"count_x\": 4, \"count_y\": 8537, \"median\": 48.5, \"density\": 0.0004685486704931475}, {\"genre\": \"Reggaeton\", \"popularity\": 86, \"count_x\": 1, \"count_y\": 8537, \"median\": 48.5, \"density\": 0.00011713716762328687}, {\"genre\": \"Reggaeton\", \"popularity\": 84, \"count_x\": 2, \"count_y\": 8537, \"median\": 48.5, \"density\": 0.00023427433524657375}, {\"genre\": \"Reggaeton\", \"popularity\": 85, \"count_x\": 3, \"count_y\": 8537, \"median\": 48.5, \"density\": 0.0003514115028698606}, {\"genre\": \"Reggaeton\", \"popularity\": 79, \"count_x\": 4, \"count_y\": 8537, \"median\": 48.5, \"density\": 0.0004685486704931475}, {\"genre\": \"Reggaeton\", \"popularity\": 83, \"count_x\": 2, \"count_y\": 8537, \"median\": 48.5, \"density\": 0.00023427433524657375}, {\"genre\": \"Reggaeton\", \"popularity\": 78, \"count_x\": 5, \"count_y\": 8537, \"median\": 48.5, \"density\": 0.0005856858381164344}, {\"genre\": \"Reggaeton\", \"popularity\": 68, \"count_x\": 14, \"count_y\": 8537, \"median\": 48.5, \"density\": 0.0016399203467260162}, {\"genre\": \"Reggaeton\", \"popularity\": 76, \"count_x\": 7, \"count_y\": 8537, \"median\": 48.5, \"density\": 0.0008199601733630081}, {\"genre\": \"Reggaeton\", \"popularity\": 75, \"count_x\": 6, \"count_y\": 8537, \"median\": 48.5, \"density\": 0.0007028230057397212}, {\"genre\": \"Reggaeton\", \"popularity\": 74, \"count_x\": 7, \"count_y\": 8537, \"median\": 48.5, \"density\": 0.0008199601733630081}, {\"genre\": \"Reggaeton\", \"popularity\": 73, \"count_x\": 6, \"count_y\": 8537, \"median\": 48.5, \"density\": 0.0007028230057397212}, {\"genre\": \"Reggaeton\", \"popularity\": 72, \"count_x\": 6, \"count_y\": 8537, \"median\": 48.5, \"density\": 0.0007028230057397212}, {\"genre\": \"Reggaeton\", \"popularity\": 71, \"count_x\": 13, \"count_y\": 8537, \"median\": 48.5, \"density\": 0.0015227831791027294}, {\"genre\": \"Reggaeton\", \"popularity\": 70, \"count_x\": 9, \"count_y\": 8537, \"median\": 48.5, \"density\": 0.0010542345086095818}, {\"genre\": \"Reggaeton\", \"popularity\": 69, \"count_x\": 12, \"count_y\": 8537, \"median\": 48.5, \"density\": 0.0014056460114794424}, {\"genre\": \"Reggaeton\", \"popularity\": 87, \"count_x\": 2, \"count_y\": 8537, \"median\": 48.5, \"density\": 0.00023427433524657375}, {\"genre\": \"Reggaeton\", \"popularity\": 67, \"count_x\": 12, \"count_y\": 8537, \"median\": 48.5, \"density\": 0.0014056460114794424}, {\"genre\": \"Reggaeton\", \"popularity\": 77, \"count_x\": 10, \"count_y\": 8537, \"median\": 48.5, \"density\": 0.0011713716762328688}, {\"genre\": \"Reggaeton\", \"popularity\": 88, \"count_x\": 2, \"count_y\": 8537, \"median\": 48.5, \"density\": 0.00023427433524657375}, {\"genre\": \"Soul\", \"popularity\": 47, \"count_x\": 191, \"count_y\": 5058, \"median\": 48.5, \"density\": 0.03776196124950573}, {\"genre\": \"Reggaeton\", \"popularity\": 92, \"count_x\": 1, \"count_y\": 8537, \"median\": 48.5, \"density\": 0.00011713716762328687}, {\"genre\": \"Reggaeton\", \"popularity\": 51, \"count_x\": 115, \"count_y\": 8537, \"median\": 48.5, \"density\": 0.01347077427667799}, {\"genre\": \"Soul\", \"popularity\": 5, \"count_x\": 1, \"count_y\": 5058, \"median\": 48.5, \"density\": 0.00019770660340055358}, {\"genre\": \"Soul\", \"popularity\": 1, \"count_x\": 6, \"count_y\": 5058, \"median\": 48.5, \"density\": 0.0011862396204033216}, {\"genre\": \"Reggaeton\", \"popularity\": 66, \"count_x\": 16, \"count_y\": 8537, \"median\": 48.5, \"density\": 0.00187419468197259}, {\"genre\": \"Soul\", \"popularity\": 36, \"count_x\": 217, \"count_y\": 5058, \"median\": 48.5, \"density\": 0.042902332937920125}, {\"genre\": \"Soul\", \"popularity\": 38, \"count_x\": 277, \"count_y\": 5058, \"median\": 48.5, \"density\": 0.05476472914195334}, {\"genre\": \"Soul\", \"popularity\": 39, \"count_x\": 302, \"count_y\": 5058, \"median\": 48.5, \"density\": 0.05970739422696718}, {\"genre\": \"Soul\", \"popularity\": 40, \"count_x\": 309, \"count_y\": 5058, \"median\": 48.5, \"density\": 0.06109134045077105}, {\"genre\": \"Soul\", \"popularity\": 41, \"count_x\": 359, \"count_y\": 5058, \"median\": 48.5, \"density\": 0.07097667062079874}, {\"genre\": \"Soul\", \"popularity\": 42, \"count_x\": 341, \"count_y\": 5058, \"median\": 48.5, \"density\": 0.06741795175958877}, {\"genre\": \"Soul\", \"popularity\": 43, \"count_x\": 276, \"count_y\": 5058, \"median\": 48.5, \"density\": 0.054567022538552785}, {\"genre\": \"Soul\", \"popularity\": 44, \"count_x\": 261, \"count_y\": 5058, \"median\": 48.5, \"density\": 0.051601423487544484}, {\"genre\": \"Soul\", \"popularity\": 45, \"count_x\": 221, \"count_y\": 5058, \"median\": 48.5, \"density\": 0.04369315935152234}, {\"genre\": \"Soul\", \"popularity\": 46, \"count_x\": 225, \"count_y\": 5058, \"median\": 48.5, \"density\": 0.04448398576512456}, {\"genre\": \"Soul\", \"popularity\": 48, \"count_x\": 157, \"count_y\": 5058, \"median\": 48.5, \"density\": 0.03103993673388691}, {\"genre\": \"Soul\", \"popularity\": 49, \"count_x\": 144, \"count_y\": 5058, \"median\": 48.5, \"density\": 0.028469750889679714}, {\"genre\": \"Soul\", \"popularity\": 50, \"count_x\": 111, \"count_y\": 5058, \"median\": 48.5, \"density\": 0.021945432977461446}, {\"genre\": \"Soul\", \"popularity\": 51, \"count_x\": 118, \"count_y\": 5058, \"median\": 48.5, \"density\": 0.02332937920126532}, {\"genre\": \"Soul\", \"popularity\": 52, \"count_x\": 87, \"count_y\": 5058, \"median\": 48.5, \"density\": 0.01720047449584816}, {\"genre\": \"Reggaeton\", \"popularity\": 96, \"count_x\": 1, \"count_y\": 8537, \"median\": 48.5, \"density\": 0.00011713716762328687}, {\"genre\": \"Reggaeton\", \"popularity\": 95, \"count_x\": 2, \"count_y\": 8537, \"median\": 48.5, \"density\": 0.00023427433524657375}, {\"genre\": \"Reggaeton\", \"popularity\": 90, \"count_x\": 1, \"count_y\": 8537, \"median\": 48.5, \"density\": 0.00011713716762328687}, {\"genre\": \"Soul\", \"popularity\": 0, \"count_x\": 16, \"count_y\": 5058, \"median\": 48.5, \"density\": 0.0031633056544088573}, {\"genre\": \"Soul\", \"popularity\": 37, \"count_x\": 229, \"count_y\": 5058, \"median\": 48.5, \"density\": 0.04527481217872677}, {\"genre\": \"Reggaeton\", \"popularity\": 63, \"count_x\": 33, \"count_y\": 8537, \"median\": 48.5, \"density\": 0.0038655265315684665}, {\"genre\": \"Reggaeton\", \"popularity\": 28, \"count_x\": 306, \"count_y\": 8537, \"median\": 48.5, \"density\": 0.03584397329272578}, {\"genre\": \"Reggaeton\", \"popularity\": 27, \"count_x\": 271, \"count_y\": 8537, \"median\": 48.5, \"density\": 0.03174417242591074}, {\"genre\": \"Reggaeton\", \"popularity\": 26, \"count_x\": 266, \"count_y\": 8537, \"median\": 48.5, \"density\": 0.031158486587794305}, {\"genre\": \"Reggaeton\", \"popularity\": 25, \"count_x\": 272, \"count_y\": 8537, \"median\": 48.5, \"density\": 0.03186130959353403}, {\"genre\": \"Reggaeton\", \"popularity\": 24, \"count_x\": 243, \"count_y\": 8537, \"median\": 48.5, \"density\": 0.02846433173245871}, {\"genre\": \"Reggaeton\", \"popularity\": 23, \"count_x\": 238, \"count_y\": 8537, \"median\": 48.5, \"density\": 0.027878645894342274}, {\"genre\": \"Reggaeton\", \"popularity\": 22, \"count_x\": 214, \"count_y\": 8537, \"median\": 48.5, \"density\": 0.02506735387138339}, {\"genre\": \"Reggaeton\", \"popularity\": 21, \"count_x\": 169, \"count_y\": 8537, \"median\": 48.5, \"density\": 0.01979618132833548}, {\"genre\": \"Reggaeton\", \"popularity\": 29, \"count_x\": 319, \"count_y\": 8537, \"median\": 48.5, \"density\": 0.03736675647182851}, {\"genre\": \"Reggaeton\", \"popularity\": 20, \"count_x\": 147, \"count_y\": 8537, \"median\": 48.5, \"density\": 0.017219163640623168}, {\"genre\": \"Reggaeton\", \"popularity\": 18, \"count_x\": 68, \"count_y\": 8537, \"median\": 48.5, \"density\": 0.007965327398383508}, {\"genre\": \"Reggaeton\", \"popularity\": 17, \"count_x\": 62, \"count_y\": 8537, \"median\": 48.5, \"density\": 0.007262504392643786}, {\"genre\": \"Reggaeton\", \"popularity\": 16, \"count_x\": 36, \"count_y\": 8537, \"median\": 48.5, \"density\": 0.004216938034438327}, {\"genre\": \"Reggaeton\", \"popularity\": 15, \"count_x\": 22, \"count_y\": 8537, \"median\": 48.5, \"density\": 0.002577017687712311}, {\"genre\": \"Reggaeton\", \"popularity\": 14, \"count_x\": 19, \"count_y\": 8537, \"median\": 48.5, \"density\": 0.0022256061848424506}, {\"genre\": \"Reggaeton\", \"popularity\": 13, \"count_x\": 20, \"count_y\": 8537, \"median\": 48.5, \"density\": 0.0023427433524657376}, {\"genre\": \"Reggaeton\", \"popularity\": 12, \"count_x\": 17, \"count_y\": 8537, \"median\": 48.5, \"density\": 0.001991331849595877}, {\"genre\": \"Reggaeton\", \"popularity\": 11, \"count_x\": 6, \"count_y\": 8537, \"median\": 48.5, \"density\": 0.0007028230057397212}, {\"genre\": \"Reggaeton\", \"popularity\": 19, \"count_x\": 110, \"count_y\": 8537, \"median\": 48.5, \"density\": 0.012885088438561556}, {\"genre\": \"Reggaeton\", \"popularity\": 10, \"count_x\": 3, \"count_y\": 8537, \"median\": 48.5, \"density\": 0.0003514115028698606}, {\"genre\": \"Reggaeton\", \"popularity\": 30, \"count_x\": 290, \"count_y\": 8537, \"median\": 48.5, \"density\": 0.03396977861075319}, {\"genre\": \"Reggaeton\", \"popularity\": 32, \"count_x\": 270, \"count_y\": 8537, \"median\": 48.5, \"density\": 0.03162703525828745}, {\"genre\": \"Reggaeton\", \"popularity\": 50, \"count_x\": 132, \"count_y\": 8537, \"median\": 48.5, \"density\": 0.015462106126273866}, {\"genre\": \"Reggaeton\", \"popularity\": 49, \"count_x\": 144, \"count_y\": 8537, \"median\": 48.5, \"density\": 0.01686775213775331}, {\"genre\": \"Reggaeton\", \"popularity\": 48, \"count_x\": 120, \"count_y\": 8537, \"median\": 48.5, \"density\": 0.014056460114794424}, {\"genre\": \"Reggaeton\", \"popularity\": 47, \"count_x\": 157, \"count_y\": 8537, \"median\": 48.5, \"density\": 0.018390535316856037}, {\"genre\": \"Reggaeton\", \"popularity\": 46, \"count_x\": 179, \"count_y\": 8537, \"median\": 48.5, \"density\": 0.02096755300456835}, {\"genre\": \"Reggaeton\", \"popularity\": 45, \"count_x\": 159, \"count_y\": 8537, \"median\": 48.5, \"density\": 0.01862480965210261}, {\"genre\": \"Reggaeton\", \"popularity\": 44, \"count_x\": 191, \"count_y\": 8537, \"median\": 48.5, \"density\": 0.02237319901604779}, {\"genre\": \"Reggaeton\", \"popularity\": 43, \"count_x\": 192, \"count_y\": 8537, \"median\": 48.5, \"density\": 0.022490336183671078}, {\"genre\": \"Reggaeton\", \"popularity\": 31, \"count_x\": 273, \"count_y\": 8537, \"median\": 48.5, \"density\": 0.03197844676115732}, {\"genre\": \"Reggaeton\", \"popularity\": 42, \"count_x\": 199, \"count_y\": 8537, \"median\": 48.5, \"density\": 0.023310296357034088}, {\"genre\": \"Reggaeton\", \"popularity\": 40, \"count_x\": 248, \"count_y\": 8537, \"median\": 48.5, \"density\": 0.029050017570575144}, {\"genre\": \"Reggaeton\", \"popularity\": 39, \"count_x\": 236, \"count_y\": 8537, \"median\": 48.5, \"density\": 0.0276443715590957}, {\"genre\": \"Reggaeton\", \"popularity\": 38, \"count_x\": 255, \"count_y\": 8537, \"median\": 48.5, \"density\": 0.029869977743938153}, {\"genre\": \"Reggaeton\", \"popularity\": 37, \"count_x\": 239, \"count_y\": 8537, \"median\": 48.5, \"density\": 0.02799578306196556}, {\"genre\": \"Reggaeton\", \"popularity\": 36, \"count_x\": 257, \"count_y\": 8537, \"median\": 48.5, \"density\": 0.030104252079184726}, {\"genre\": \"Reggaeton\", \"popularity\": 35, \"count_x\": 283, \"count_y\": 8537, \"median\": 48.5, \"density\": 0.033149818437390184}, {\"genre\": \"Reggaeton\", \"popularity\": 34, \"count_x\": 276, \"count_y\": 8537, \"median\": 48.5, \"density\": 0.03232985826402718}, {\"genre\": \"Reggaeton\", \"popularity\": 33, \"count_x\": 264, \"count_y\": 8537, \"median\": 48.5, \"density\": 0.030924212252547732}, {\"genre\": \"Reggaeton\", \"popularity\": 41, \"count_x\": 224, \"count_y\": 8537, \"median\": 48.5, \"density\": 0.02623872554761626}, {\"genre\": \"Reggaeton\", \"popularity\": 9, \"count_x\": 1, \"count_y\": 8537, \"median\": 48.5, \"density\": 0.00011713716762328687}, {\"genre\": \"Reggaeton\", \"popularity\": 8, \"count_x\": 2, \"count_y\": 8537, \"median\": 48.5, \"density\": 0.00023427433524657375}, {\"genre\": \"Reggaeton\", \"popularity\": 7, \"count_x\": 1, \"count_y\": 8537, \"median\": 48.5, \"density\": 0.00011713716762328687}, {\"genre\": \"Soul\", \"popularity\": 74, \"count_x\": 6, \"count_y\": 5058, \"median\": 48.5, \"density\": 0.0011862396204033216}, {\"genre\": \"Soul\", \"popularity\": 75, \"count_x\": 1, \"count_y\": 5058, \"median\": 48.5, \"density\": 0.00019770660340055358}, {\"genre\": \"Reggaeton\", \"popularity\": 53, \"count_x\": 89, \"count_y\": 8537, \"median\": 48.5, \"density\": 0.010425207918472531}, {\"genre\": \"Soul\", \"popularity\": 76, \"count_x\": 2, \"count_y\": 5058, \"median\": 48.5, \"density\": 0.00039541320680110717}, {\"genre\": \"Soul\", \"popularity\": 77, \"count_x\": 1, \"count_y\": 5058, \"median\": 48.5, \"density\": 0.00019770660340055358}, {\"genre\": \"Soul\", \"popularity\": 78, \"count_x\": 2, \"count_y\": 5058, \"median\": 48.5, \"density\": 0.00039541320680110717}, {\"genre\": \"Soul\", \"popularity\": 79, \"count_x\": 2, \"count_y\": 5058, \"median\": 48.5, \"density\": 0.00039541320680110717}, {\"genre\": \"Soul\", \"popularity\": 81, \"count_x\": 1, \"count_y\": 5058, \"median\": 48.5, \"density\": 0.00019770660340055358}, {\"genre\": \"Soul\", \"popularity\": 73, \"count_x\": 6, \"count_y\": 5058, \"median\": 48.5, \"density\": 0.0011862396204033216}, {\"genre\": \"Soul\", \"popularity\": 85, \"count_x\": 1, \"count_y\": 5058, \"median\": 48.5, \"density\": 0.00019770660340055358}, {\"genre\": \"Reggaeton\", \"popularity\": 55, \"count_x\": 83, \"count_y\": 8537, \"median\": 48.5, \"density\": 0.00972238491273281}, {\"genre\": \"Reggaeton\", \"popularity\": 56, \"count_x\": 73, \"count_y\": 8537, \"median\": 48.5, \"density\": 0.00855101323649994}, {\"genre\": \"Reggaeton\", \"popularity\": 57, \"count_x\": 67, \"count_y\": 8537, \"median\": 48.5, \"density\": 0.00784819023076022}, {\"genre\": \"Reggaeton\", \"popularity\": 58, \"count_x\": 80, \"count_y\": 8537, \"median\": 48.5, \"density\": 0.00937097340986295}, {\"genre\": \"Reggaeton\", \"popularity\": 59, \"count_x\": 57, \"count_y\": 8537, \"median\": 48.5, \"density\": 0.006676818554527351}, {\"genre\": \"Reggaeton\", \"popularity\": 60, \"count_x\": 41, \"count_y\": 8537, \"median\": 48.5, \"density\": 0.004802623872554762}, {\"genre\": \"Reggaeton\", \"popularity\": 61, \"count_x\": 41, \"count_y\": 8537, \"median\": 48.5, \"density\": 0.004802623872554762}, {\"genre\": \"Reggaeton\", \"popularity\": 62, \"count_x\": 33, \"count_y\": 8537, \"median\": 48.5, \"density\": 0.0038655265315684665}, {\"genre\": \"Reggaeton\", \"popularity\": 54, \"count_x\": 108, \"count_y\": 8537, \"median\": 48.5, \"density\": 0.012650814103314981}, {\"genre\": \"Soul\", \"popularity\": 72, \"count_x\": 4, \"count_y\": 5058, \"median\": 48.5, \"density\": 0.0007908264136022143}, {\"genre\": \"Soul\", \"popularity\": 71, \"count_x\": 5, \"count_y\": 5058, \"median\": 48.5, \"density\": 0.0009885330170027679}, {\"genre\": \"Soul\", \"popularity\": 70, \"count_x\": 1, \"count_y\": 5058, \"median\": 48.5, \"density\": 0.00019770660340055358}, {\"genre\": \"Reggaeton\", \"popularity\": 5, \"count_x\": 1, \"count_y\": 8537, \"median\": 48.5, \"density\": 0.00011713716762328687}, {\"genre\": \"Reggaeton\", \"popularity\": 0, \"count_x\": 1, \"count_y\": 8537, \"median\": 48.5, \"density\": 0.00011713716762328687}, {\"genre\": \"Soul\", \"popularity\": 53, \"count_x\": 89, \"count_y\": 5058, \"median\": 48.5, \"density\": 0.01759588770264927}, {\"genre\": \"Soul\", \"popularity\": 54, \"count_x\": 74, \"count_y\": 5058, \"median\": 48.5, \"density\": 0.014630288651640965}, {\"genre\": \"Soul\", \"popularity\": 55, \"count_x\": 70, \"count_y\": 5058, \"median\": 48.5, \"density\": 0.01383946223803875}, {\"genre\": \"Soul\", \"popularity\": 56, \"count_x\": 71, \"count_y\": 5058, \"median\": 48.5, \"density\": 0.014037168841439305}, {\"genre\": \"Soul\", \"popularity\": 57, \"count_x\": 67, \"count_y\": 5058, \"median\": 48.5, \"density\": 0.01324634242783709}, {\"genre\": \"Soul\", \"popularity\": 58, \"count_x\": 47, \"count_y\": 5058, \"median\": 48.5, \"density\": 0.009292210359826018}, {\"genre\": \"Soul\", \"popularity\": 59, \"count_x\": 54, \"count_y\": 5058, \"median\": 48.5, \"density\": 0.010676156583629894}, {\"genre\": \"Soul\", \"popularity\": 60, \"count_x\": 50, \"count_y\": 5058, \"median\": 48.5, \"density\": 0.009885330170027679}, {\"genre\": \"Soul\", \"popularity\": 61, \"count_x\": 40, \"count_y\": 5058, \"median\": 48.5, \"density\": 0.007908264136022143}, {\"genre\": \"Soul\", \"popularity\": 62, \"count_x\": 27, \"count_y\": 5058, \"median\": 48.5, \"density\": 0.005338078291814947}, {\"genre\": \"Soul\", \"popularity\": 63, \"count_x\": 29, \"count_y\": 5058, \"median\": 48.5, \"density\": 0.005733491498616054}, {\"genre\": \"Soul\", \"popularity\": 64, \"count_x\": 30, \"count_y\": 5058, \"median\": 48.5, \"density\": 0.005931198102016607}, {\"genre\": \"Soul\", \"popularity\": 65, \"count_x\": 14, \"count_y\": 5058, \"median\": 48.5, \"density\": 0.00276789244760775}, {\"genre\": \"Soul\", \"popularity\": 66, \"count_x\": 12, \"count_y\": 5058, \"median\": 48.5, \"density\": 0.002372479240806643}, {\"genre\": \"Soul\", \"popularity\": 67, \"count_x\": 12, \"count_y\": 5058, \"median\": 48.5, \"density\": 0.002372479240806643}, {\"genre\": \"Soul\", \"popularity\": 68, \"count_x\": 8, \"count_y\": 5058, \"median\": 48.5, \"density\": 0.0015816528272044287}, {\"genre\": \"Soul\", \"popularity\": 69, \"count_x\": 8, \"count_y\": 5058, \"median\": 48.5, \"density\": 0.0015816528272044287}, {\"genre\": \"Reggaeton\", \"popularity\": 64, \"count_x\": 30, \"count_y\": 8537, \"median\": 48.5, \"density\": 0.003514115028698606}, {\"genre\": \"Reggaeton\", \"popularity\": 65, \"count_x\": 14, \"count_y\": 8537, \"median\": 48.5, \"density\": 0.0016399203467260162}, {\"genre\": \"Reggaeton\", \"popularity\": 52, \"count_x\": 112, \"count_y\": 8537, \"median\": 48.5, \"density\": 0.01311936277380813}, {\"genre\": \"Soul\", \"popularity\": 7, \"count_x\": 1, \"count_y\": 5058, \"median\": 48.5, \"density\": 0.00019770660340055358}, {\"genre\": \"Soul\", \"popularity\": 13, \"count_x\": 2, \"count_y\": 5058, \"median\": 48.5, \"density\": 0.00039541320680110717}, {\"genre\": \"Soul\", \"popularity\": 18, \"count_x\": 1, \"count_y\": 5058, \"median\": 48.5, \"density\": 0.00019770660340055358}, {\"genre\": \"Soul\", \"popularity\": 20, \"count_x\": 1, \"count_y\": 5058, \"median\": 48.5, \"density\": 0.00019770660340055358}, {\"genre\": \"Soul\", \"popularity\": 22, \"count_x\": 1, \"count_y\": 5058, \"median\": 48.5, \"density\": 0.00019770660340055358}, {\"genre\": \"Soul\", \"popularity\": 25, \"count_x\": 1, \"count_y\": 5058, \"median\": 48.5, \"density\": 0.00019770660340055358}, {\"genre\": \"Soul\", \"popularity\": 26, \"count_x\": 2, \"count_y\": 5058, \"median\": 48.5, \"density\": 0.00039541320680110717}, {\"genre\": \"Soul\", \"popularity\": 27, \"count_x\": 1, \"count_y\": 5058, \"median\": 48.5, \"density\": 0.00019770660340055358}, {\"genre\": \"Soul\", \"popularity\": 12, \"count_x\": 2, \"count_y\": 5058, \"median\": 48.5, \"density\": 0.00039541320680110717}, {\"genre\": \"Soul\", \"popularity\": 29, \"count_x\": 3, \"count_y\": 5058, \"median\": 48.5, \"density\": 0.0005931198102016608}, {\"genre\": \"Soul\", \"popularity\": 30, \"count_x\": 3, \"count_y\": 5058, \"median\": 48.5, \"density\": 0.0005931198102016608}, {\"genre\": \"Soul\", \"popularity\": 31, \"count_x\": 29, \"count_y\": 5058, \"median\": 48.5, \"density\": 0.005733491498616054}, {\"genre\": \"Soul\", \"popularity\": 32, \"count_x\": 59, \"count_y\": 5058, \"median\": 48.5, \"density\": 0.01166468960063266}, {\"genre\": \"Soul\", \"popularity\": 33, \"count_x\": 81, \"count_y\": 5058, \"median\": 48.5, \"density\": 0.01601423487544484}, {\"genre\": \"Soul\", \"popularity\": 34, \"count_x\": 127, \"count_y\": 5058, \"median\": 48.5, \"density\": 0.025108738631870305}, {\"genre\": \"Soul\", \"popularity\": 35, \"count_x\": 161, \"count_y\": 5058, \"median\": 48.5, \"density\": 0.03183076314748912}, {\"genre\": \"Soul\", \"popularity\": 28, \"count_x\": 1, \"count_y\": 5058, \"median\": 48.5, \"density\": 0.00019770660340055358}, {\"genre\": \"R&B\", \"popularity\": 44, \"count_x\": 373, \"count_y\": 4870, \"median\": 49.0, \"density\": 0.07659137577002054}, {\"genre\": \"R&B\", \"popularity\": 45, \"count_x\": 344, \"count_y\": 4870, \"median\": 49.0, \"density\": 0.07063655030800821}, {\"genre\": \"R&B\", \"popularity\": 46, \"count_x\": 341, \"count_y\": 4870, \"median\": 49.0, \"density\": 0.07002053388090348}, {\"genre\": \"R&B\", \"popularity\": 47, \"count_x\": 329, \"count_y\": 4870, \"median\": 49.0, \"density\": 0.0675564681724846}, {\"genre\": \"R&B\", \"popularity\": 48, \"count_x\": 314, \"count_y\": 4870, \"median\": 49.0, \"density\": 0.06447638603696099}, {\"genre\": \"R&B\", \"popularity\": 49, \"count_x\": 274, \"count_y\": 4870, \"median\": 49.0, \"density\": 0.05626283367556468}, {\"genre\": \"R&B\", \"popularity\": 50, \"count_x\": 213, \"count_y\": 4870, \"median\": 49.0, \"density\": 0.04373716632443532}, {\"genre\": \"R&B\", \"popularity\": 54, \"count_x\": 118, \"count_y\": 4870, \"median\": 49.0, \"density\": 0.024229979466119097}, {\"genre\": \"R&B\", \"popularity\": 52, \"count_x\": 164, \"count_y\": 4870, \"median\": 49.0, \"density\": 0.03367556468172485}, {\"genre\": \"R&B\", \"popularity\": 53, \"count_x\": 156, \"count_y\": 4870, \"median\": 49.0, \"density\": 0.032032854209445585}, {\"genre\": \"R&B\", \"popularity\": 55, \"count_x\": 120, \"count_y\": 4870, \"median\": 49.0, \"density\": 0.024640657084188913}, {\"genre\": \"R&B\", \"popularity\": 56, \"count_x\": 111, \"count_y\": 4870, \"median\": 49.0, \"density\": 0.022792607802874742}, {\"genre\": \"R&B\", \"popularity\": 57, \"count_x\": 106, \"count_y\": 4870, \"median\": 49.0, \"density\": 0.021765913757700206}, {\"genre\": \"R&B\", \"popularity\": 58, \"count_x\": 59, \"count_y\": 4870, \"median\": 49.0, \"density\": 0.012114989733059548}, {\"genre\": \"R&B\", \"popularity\": 43, \"count_x\": 342, \"count_y\": 4870, \"median\": 49.0, \"density\": 0.07022587268993839}, {\"genre\": \"R&B\", \"popularity\": 51, \"count_x\": 191, \"count_y\": 4870, \"median\": 49.0, \"density\": 0.039219712525667354}, {\"genre\": \"R&B\", \"popularity\": 42, \"count_x\": 294, \"count_y\": 4870, \"median\": 49.0, \"density\": 0.060369609856262836}, {\"genre\": \"R&B\", \"popularity\": 20, \"count_x\": 1, \"count_y\": 4870, \"median\": 49.0, \"density\": 0.0002053388090349076}, {\"genre\": \"R&B\", \"popularity\": 40, \"count_x\": 174, \"count_y\": 4870, \"median\": 49.0, \"density\": 0.03572895277207392}, {\"genre\": \"R&B\", \"popularity\": 36, \"count_x\": 15, \"count_y\": 4870, \"median\": 49.0, \"density\": 0.003080082135523614}, {\"genre\": \"R&B\", \"popularity\": 35, \"count_x\": 6, \"count_y\": 4870, \"median\": 49.0, \"density\": 0.0012320328542094457}, {\"genre\": \"R&B\", \"popularity\": 34, \"count_x\": 7, \"count_y\": 4870, \"median\": 49.0, \"density\": 0.001437371663244353}, {\"genre\": \"R&B\", \"popularity\": 32, \"count_x\": 4, \"count_y\": 4870, \"median\": 49.0, \"density\": 0.0008213552361396304}, {\"genre\": \"R&B\", \"popularity\": 31, \"count_x\": 3, \"count_y\": 4870, \"median\": 49.0, \"density\": 0.0006160164271047228}, {\"genre\": \"R&B\", \"popularity\": 30, \"count_x\": 5, \"count_y\": 4870, \"median\": 49.0, \"density\": 0.001026694045174538}, {\"genre\": \"R&B\", \"popularity\": 29, \"count_x\": 7, \"count_y\": 4870, \"median\": 49.0, \"density\": 0.001437371663244353}, {\"genre\": \"R&B\", \"popularity\": 41, \"count_x\": 230, \"count_y\": 4870, \"median\": 49.0, \"density\": 0.04722792607802875}, {\"genre\": \"R&B\", \"popularity\": 28, \"count_x\": 1, \"count_y\": 4870, \"median\": 49.0, \"density\": 0.0002053388090349076}, {\"genre\": \"R&B\", \"popularity\": 59, \"count_x\": 61, \"count_y\": 4870, \"median\": 49.0, \"density\": 0.012525667351129364}, {\"genre\": \"R&B\", \"popularity\": 18, \"count_x\": 1, \"count_y\": 4870, \"median\": 49.0, \"density\": 0.0002053388090349076}, {\"genre\": \"R&B\", \"popularity\": 17, \"count_x\": 2, \"count_y\": 4870, \"median\": 49.0, \"density\": 0.0004106776180698152}, {\"genre\": \"R&B\", \"popularity\": 13, \"count_x\": 1, \"count_y\": 4870, \"median\": 49.0, \"density\": 0.0002053388090349076}, {\"genre\": \"R&B\", \"popularity\": 12, \"count_x\": 1, \"count_y\": 4870, \"median\": 49.0, \"density\": 0.0002053388090349076}, {\"genre\": \"R&B\", \"popularity\": 39, \"count_x\": 143, \"count_y\": 4870, \"median\": 49.0, \"density\": 0.029363449691991787}, {\"genre\": \"R&B\", \"popularity\": 0, \"count_x\": 6, \"count_y\": 4870, \"median\": 49.0, \"density\": 0.0012320328542094457}, {\"genre\": \"R&B\", \"popularity\": 27, \"count_x\": 2, \"count_y\": 4870, \"median\": 49.0, \"density\": 0.0004106776180698152}, {\"genre\": \"R&B\", \"popularity\": 60, \"count_x\": 51, \"count_y\": 4870, \"median\": 49.0, \"density\": 0.010472279260780287}, {\"genre\": \"R&B\", \"popularity\": 1, \"count_x\": 2, \"count_y\": 4870, \"median\": 49.0, \"density\": 0.0004106776180698152}, {\"genre\": \"R&B\", \"popularity\": 62, \"count_x\": 32, \"count_y\": 4870, \"median\": 49.0, \"density\": 0.006570841889117043}, {\"genre\": \"R&B\", \"popularity\": 61, \"count_x\": 35, \"count_y\": 4870, \"median\": 49.0, \"density\": 0.007186858316221766}, {\"genre\": \"R&B\", \"popularity\": 80, \"count_x\": 1, \"count_y\": 4870, \"median\": 49.0, \"density\": 0.0002053388090349076}, {\"genre\": \"R&B\", \"popularity\": 79, \"count_x\": 1, \"count_y\": 4870, \"median\": 49.0, \"density\": 0.0002053388090349076}, {\"genre\": \"R&B\", \"popularity\": 75, \"count_x\": 1, \"count_y\": 4870, \"median\": 49.0, \"density\": 0.0002053388090349076}, {\"genre\": \"R&B\", \"popularity\": 74, \"count_x\": 1, \"count_y\": 4870, \"median\": 49.0, \"density\": 0.0002053388090349076}, {\"genre\": \"R&B\", \"popularity\": 73, \"count_x\": 7, \"count_y\": 4870, \"median\": 49.0, \"density\": 0.001437371663244353}, {\"genre\": \"R&B\", \"popularity\": 72, \"count_x\": 3, \"count_y\": 4870, \"median\": 49.0, \"density\": 0.0006160164271047228}, {\"genre\": \"R&B\", \"popularity\": 71, \"count_x\": 5, \"count_y\": 4870, \"median\": 49.0, \"density\": 0.001026694045174538}, {\"genre\": \"R&B\", \"popularity\": 38, \"count_x\": 77, \"count_y\": 4870, \"median\": 49.0, \"density\": 0.015811088295687885}, {\"genre\": \"R&B\", \"popularity\": 69, \"count_x\": 6, \"count_y\": 4870, \"median\": 49.0, \"density\": 0.0012320328542094457}, {\"genre\": \"R&B\", \"popularity\": 70, \"count_x\": 8, \"count_y\": 4870, \"median\": 49.0, \"density\": 0.0016427104722792608}, {\"genre\": \"R&B\", \"popularity\": 64, \"count_x\": 14, \"count_y\": 4870, \"median\": 49.0, \"density\": 0.002874743326488706}, {\"genre\": \"R&B\", \"popularity\": 65, \"count_x\": 20, \"count_y\": 4870, \"median\": 49.0, \"density\": 0.004106776180698152}, {\"genre\": \"R&B\", \"popularity\": 63, \"count_x\": 12, \"count_y\": 4870, \"median\": 49.0, \"density\": 0.0024640657084188913}, {\"genre\": \"R&B\", \"popularity\": 67, \"count_x\": 10, \"count_y\": 4870, \"median\": 49.0, \"density\": 0.002053388090349076}, {\"genre\": \"R&B\", \"popularity\": 37, \"count_x\": 36, \"count_y\": 4870, \"median\": 49.0, \"density\": 0.007392197125256674}, {\"genre\": \"R&B\", \"popularity\": 68, \"count_x\": 9, \"count_y\": 4870, \"median\": 49.0, \"density\": 0.0018480492813141684}, {\"genre\": \"R&B\", \"popularity\": 66, \"count_x\": 20, \"count_y\": 4870, \"median\": 49.0, \"density\": 0.004106776180698152}, {\"genre\": \"Folk\", \"popularity\": 56, \"count_x\": 199, \"count_y\": 7801, \"median\": 49.5, \"density\": 0.02550955005768491}, {\"genre\": \"Folk\", \"popularity\": 62, \"count_x\": 64, \"count_y\": 7801, \"median\": 49.5, \"density\": 0.00820407640046148}, {\"genre\": \"Country\", \"popularity\": 31, \"count_x\": 1, \"count_y\": 7325, \"median\": 49.5, \"density\": 0.00013651877133105802}, {\"genre\": \"Folk\", \"popularity\": 58, \"count_x\": 142, \"count_y\": 7801, \"median\": 49.5, \"density\": 0.01820279451352391}, {\"genre\": \"Folk\", \"popularity\": 59, \"count_x\": 132, \"count_y\": 7801, \"median\": 49.5, \"density\": 0.016920907575951803}, {\"genre\": \"Folk\", \"popularity\": 60, \"count_x\": 108, \"count_y\": 7801, \"median\": 49.5, \"density\": 0.013844378925778746}, {\"genre\": \"Folk\", \"popularity\": 61, \"count_x\": 104, \"count_y\": 7801, \"median\": 49.5, \"density\": 0.013331624150749904}, {\"genre\": \"Folk\", \"popularity\": 63, \"count_x\": 55, \"count_y\": 7801, \"median\": 49.5, \"density\": 0.007050378156646584}, {\"genre\": \"Folk\", \"popularity\": 68, \"count_x\": 16, \"count_y\": 7801, \"median\": 49.5, \"density\": 0.00205101910011537}, {\"genre\": \"Folk\", \"popularity\": 65, \"count_x\": 32, \"count_y\": 7801, \"median\": 49.5, \"density\": 0.00410203820023074}, {\"genre\": \"Folk\", \"popularity\": 66, \"count_x\": 24, \"count_y\": 7801, \"median\": 49.5, \"density\": 0.0030765286501730545}, {\"genre\": \"Folk\", \"popularity\": 67, \"count_x\": 27, \"count_y\": 7801, \"median\": 49.5, \"density\": 0.0034610947314446866}, {\"genre\": \"Folk\", \"popularity\": 69, \"count_x\": 22, \"count_y\": 7801, \"median\": 49.5, \"density\": 0.0028201512626586335}, {\"genre\": \"Folk\", \"popularity\": 70, \"count_x\": 10, \"count_y\": 7801, \"median\": 49.5, \"density\": 0.0012818869375721062}, {\"genre\": \"Folk\", \"popularity\": 71, \"count_x\": 8, \"count_y\": 7801, \"median\": 49.5, \"density\": 0.001025509550057685}, {\"genre\": \"Folk\", \"popularity\": 72, \"count_x\": 9, \"count_y\": 7801, \"median\": 49.5, \"density\": 0.0011536982438148954}, {\"genre\": \"Folk\", \"popularity\": 74, \"count_x\": 3, \"count_y\": 7801, \"median\": 49.5, \"density\": 0.0003845660812716318}, {\"genre\": \"Folk\", \"popularity\": 64, \"count_x\": 42, \"count_y\": 7801, \"median\": 49.5, \"density\": 0.005383925137802846}, {\"genre\": \"Folk\", \"popularity\": 73, \"count_x\": 8, \"count_y\": 7801, \"median\": 49.5, \"density\": 0.001025509550057685}, {\"genre\": \"Folk\", \"popularity\": 57, \"count_x\": 166, \"count_y\": 7801, \"median\": 49.5, \"density\": 0.02127932316369696}, {\"genre\": \"Folk\", \"popularity\": 75, \"count_x\": 6, \"count_y\": 7801, \"median\": 49.5, \"density\": 0.0007691321625432636}, {\"genre\": \"Country\", \"popularity\": 55, \"count_x\": 109, \"count_y\": 7325, \"median\": 49.5, \"density\": 0.014880546075085325}, {\"genre\": \"Country\", \"popularity\": 56, \"count_x\": 131, \"count_y\": 7325, \"median\": 49.5, \"density\": 0.0178839590443686}, {\"genre\": \"Country\", \"popularity\": 57, \"count_x\": 103, \"count_y\": 7325, \"median\": 49.5, \"density\": 0.014061433447098976}, {\"genre\": \"Country\", \"popularity\": 58, \"count_x\": 82, \"count_y\": 7325, \"median\": 49.5, \"density\": 0.011194539249146757}, {\"genre\": \"Country\", \"popularity\": 59, \"count_x\": 77, \"count_y\": 7325, \"median\": 49.5, \"density\": 0.010511945392491468}, {\"genre\": \"Country\", \"popularity\": 60, \"count_x\": 59, \"count_y\": 7325, \"median\": 49.5, \"density\": 0.008054607508532423}, {\"genre\": \"Country\", \"popularity\": 61, \"count_x\": 55, \"count_y\": 7325, \"median\": 49.5, \"density\": 0.007508532423208191}, {\"genre\": \"Country\", \"popularity\": 62, \"count_x\": 57, \"count_y\": 7325, \"median\": 49.5, \"density\": 0.007781569965870307}, {\"genre\": \"Country\", \"popularity\": 63, \"count_x\": 39, \"count_y\": 7325, \"median\": 49.5, \"density\": 0.005324232081911262}, {\"genre\": \"Country\", \"popularity\": 64, \"count_x\": 46, \"count_y\": 7325, \"median\": 49.5, \"density\": 0.006279863481228669}, {\"genre\": \"Country\", \"popularity\": 65, \"count_x\": 41, \"count_y\": 7325, \"median\": 49.5, \"density\": 0.0055972696245733785}, {\"genre\": \"Country\", \"popularity\": 66, \"count_x\": 30, \"count_y\": 7325, \"median\": 49.5, \"density\": 0.004095563139931741}, {\"genre\": \"Country\", \"popularity\": 54, \"count_x\": 154, \"count_y\": 7325, \"median\": 49.5, \"density\": 0.021023890784982936}, {\"genre\": \"Country\", \"popularity\": 67, \"count_x\": 19, \"count_y\": 7325, \"median\": 49.5, \"density\": 0.0025938566552901024}, {\"genre\": \"Country\", \"popularity\": 69, \"count_x\": 21, \"count_y\": 7325, \"median\": 49.5, \"density\": 0.0028668941979522185}, {\"genre\": \"Country\", \"popularity\": 70, \"count_x\": 13, \"count_y\": 7325, \"median\": 49.5, \"density\": 0.0017747440273037543}, {\"genre\": \"Country\", \"popularity\": 71, \"count_x\": 14, \"count_y\": 7325, \"median\": 49.5, \"density\": 0.0019112627986348123}, {\"genre\": \"Country\", \"popularity\": 72, \"count_x\": 10, \"count_y\": 7325, \"median\": 49.5, \"density\": 0.0013651877133105802}, {\"genre\": \"Country\", \"popularity\": 73, \"count_x\": 8, \"count_y\": 7325, \"median\": 49.5, \"density\": 0.0010921501706484642}, {\"genre\": \"Country\", \"popularity\": 74, \"count_x\": 8, \"count_y\": 7325, \"median\": 49.5, \"density\": 0.0010921501706484642}, {\"genre\": \"Country\", \"popularity\": 75, \"count_x\": 8, \"count_y\": 7325, \"median\": 49.5, \"density\": 0.0010921501706484642}, {\"genre\": \"Country\", \"popularity\": 76, \"count_x\": 6, \"count_y\": 7325, \"median\": 49.5, \"density\": 0.0008191126279863481}, {\"genre\": \"Country\", \"popularity\": 77, \"count_x\": 4, \"count_y\": 7325, \"median\": 49.5, \"density\": 0.0005460750853242321}, {\"genre\": \"Country\", \"popularity\": 78, \"count_x\": 6, \"count_y\": 7325, \"median\": 49.5, \"density\": 0.0008191126279863481}, {\"genre\": \"Country\", \"popularity\": 79, \"count_x\": 4, \"count_y\": 7325, \"median\": 49.5, \"density\": 0.0005460750853242321}, {\"genre\": \"Country\", \"popularity\": 82, \"count_x\": 2, \"count_y\": 7325, \"median\": 49.5, \"density\": 0.00027303754266211604}, {\"genre\": \"Country\", \"popularity\": 68, \"count_x\": 21, \"count_y\": 7325, \"median\": 49.5, \"density\": 0.0028668941979522185}, {\"genre\": \"Folk\", \"popularity\": 55, \"count_x\": 240, \"count_y\": 7801, \"median\": 49.5, \"density\": 0.03076528650173055}, {\"genre\": \"Country\", \"popularity\": 53, \"count_x\": 169, \"count_y\": 7325, \"median\": 49.5, \"density\": 0.023071672354948804}, {\"genre\": \"Country\", \"popularity\": 51, \"count_x\": 199, \"count_y\": 7325, \"median\": 49.5, \"density\": 0.027167235494880548}, {\"genre\": \"Folk\", \"popularity\": 76, \"count_x\": 3, \"count_y\": 7801, \"median\": 49.5, \"density\": 0.0003845660812716318}, {\"genre\": \"Folk\", \"popularity\": 77, \"count_x\": 3, \"count_y\": 7801, \"median\": 49.5, \"density\": 0.0003845660812716318}, {\"genre\": \"Folk\", \"popularity\": 78, \"count_x\": 2, \"count_y\": 7801, \"median\": 49.5, \"density\": 0.00025637738751442123}, {\"genre\": \"Folk\", \"popularity\": 79, \"count_x\": 2, \"count_y\": 7801, \"median\": 49.5, \"density\": 0.00025637738751442123}, {\"genre\": \"Folk\", \"popularity\": 80, \"count_x\": 1, \"count_y\": 7801, \"median\": 49.5, \"density\": 0.00012818869375721061}, {\"genre\": \"Folk\", \"popularity\": 81, \"count_x\": 1, \"count_y\": 7801, \"median\": 49.5, \"density\": 0.00012818869375721061}, {\"genre\": \"Folk\", \"popularity\": 83, \"count_x\": 1, \"count_y\": 7801, \"median\": 49.5, \"density\": 0.00012818869375721061}, {\"genre\": \"Folk\", \"popularity\": 84, \"count_x\": 1, \"count_y\": 7801, \"median\": 49.5, \"density\": 0.00012818869375721061}, {\"genre\": \"Country\", \"popularity\": 33, \"count_x\": 11, \"count_y\": 7325, \"median\": 49.5, \"density\": 0.0015017064846416382}, {\"genre\": \"Country\", \"popularity\": 34, \"count_x\": 103, \"count_y\": 7325, \"median\": 49.5, \"density\": 0.014061433447098976}, {\"genre\": \"Country\", \"popularity\": 35, \"count_x\": 277, \"count_y\": 7325, \"median\": 49.5, \"density\": 0.03781569965870307}, {\"genre\": \"Country\", \"popularity\": 36, \"count_x\": 410, \"count_y\": 7325, \"median\": 49.5, \"density\": 0.05597269624573379}, {\"genre\": \"Country\", \"popularity\": 52, \"count_x\": 160, \"count_y\": 7325, \"median\": 49.5, \"density\": 0.021843003412969283}, {\"genre\": \"Country\", \"popularity\": 37, \"count_x\": 422, \"count_y\": 7325, \"median\": 49.5, \"density\": 0.057610921501706484}, {\"genre\": \"Country\", \"popularity\": 39, \"count_x\": 431, \"count_y\": 7325, \"median\": 49.5, \"density\": 0.05883959044368601}, {\"genre\": \"Country\", \"popularity\": 40, \"count_x\": 431, \"count_y\": 7325, \"median\": 49.5, \"density\": 0.05883959044368601}, {\"genre\": \"Country\", \"popularity\": 41, \"count_x\": 390, \"count_y\": 7325, \"median\": 49.5, \"density\": 0.05324232081911263}, {\"genre\": \"Country\", \"popularity\": 42, \"count_x\": 413, \"count_y\": 7325, \"median\": 49.5, \"density\": 0.05638225255972696}, {\"genre\": \"Country\", \"popularity\": 43, \"count_x\": 344, \"count_y\": 7325, \"median\": 49.5, \"density\": 0.046962457337883956}, {\"genre\": \"Country\", \"popularity\": 44, \"count_x\": 349, \"count_y\": 7325, \"median\": 49.5, \"density\": 0.04764505119453925}, {\"genre\": \"Country\", \"popularity\": 45, \"count_x\": 281, \"count_y\": 7325, \"median\": 49.5, \"density\": 0.038361774744027306}, {\"genre\": \"Country\", \"popularity\": 46, \"count_x\": 280, \"count_y\": 7325, \"median\": 49.5, \"density\": 0.03822525597269624}, {\"genre\": \"Country\", \"popularity\": 47, \"count_x\": 299, \"count_y\": 7325, \"median\": 49.5, \"density\": 0.04081911262798635}, {\"genre\": \"Country\", \"popularity\": 48, \"count_x\": 230, \"count_y\": 7325, \"median\": 49.5, \"density\": 0.031399317406143344}, {\"genre\": \"Country\", \"popularity\": 49, \"count_x\": 223, \"count_y\": 7325, \"median\": 49.5, \"density\": 0.03044368600682594}, {\"genre\": \"Country\", \"popularity\": 50, \"count_x\": 227, \"count_y\": 7325, \"median\": 49.5, \"density\": 0.03098976109215017}, {\"genre\": \"Country\", \"popularity\": 38, \"count_x\": 459, \"count_y\": 7325, \"median\": 49.5, \"density\": 0.06266211604095563}, {\"genre\": \"Folk\", \"popularity\": 54, \"count_x\": 235, \"count_y\": 7801, \"median\": 49.5, \"density\": 0.030124343032944496}, {\"genre\": \"Folk\", \"popularity\": 29, \"count_x\": 1, \"count_y\": 7801, \"median\": 49.5, \"density\": 0.00012818869375721061}, {\"genre\": \"Folk\", \"popularity\": 52, \"count_x\": 270, \"count_y\": 7801, \"median\": 49.5, \"density\": 0.03461094731444687}, {\"genre\": \"Folk\", \"popularity\": 28, \"count_x\": 1, \"count_y\": 7801, \"median\": 49.5, \"density\": 0.00012818869375721061}, {\"genre\": \"Folk\", \"popularity\": 27, \"count_x\": 1, \"count_y\": 7801, \"median\": 49.5, \"density\": 0.00012818869375721061}, {\"genre\": \"Folk\", \"popularity\": 26, \"count_x\": 2, \"count_y\": 7801, \"median\": 49.5, \"density\": 0.00025637738751442123}, {\"genre\": \"Folk\", \"popularity\": 25, \"count_x\": 2, \"count_y\": 7801, \"median\": 49.5, \"density\": 0.00025637738751442123}, {\"genre\": \"Folk\", \"popularity\": 24, \"count_x\": 1, \"count_y\": 7801, \"median\": 49.5, \"density\": 0.00012818869375721061}, {\"genre\": \"Folk\", \"popularity\": 23, \"count_x\": 3, \"count_y\": 7801, \"median\": 49.5, \"density\": 0.0003845660812716318}, {\"genre\": \"Folk\", \"popularity\": 17, \"count_x\": 1, \"count_y\": 7801, \"median\": 49.5, \"density\": 0.00012818869375721061}, {\"genre\": \"Folk\", \"popularity\": 15, \"count_x\": 1, \"count_y\": 7801, \"median\": 49.5, \"density\": 0.00012818869375721061}, {\"genre\": \"Folk\", \"popularity\": 14, \"count_x\": 1, \"count_y\": 7801, \"median\": 49.5, \"density\": 0.00012818869375721061}, {\"genre\": \"Folk\", \"popularity\": 12, \"count_x\": 1, \"count_y\": 7801, \"median\": 49.5, \"density\": 0.00012818869375721061}, {\"genre\": \"Country\", \"popularity\": 23, \"count_x\": 1, \"count_y\": 7325, \"median\": 49.5, \"density\": 0.00013651877133105802}, {\"genre\": \"Folk\", \"popularity\": 1, \"count_x\": 2, \"count_y\": 7801, \"median\": 49.5, \"density\": 0.00025637738751442123}, {\"genre\": \"Country\", \"popularity\": 22, \"count_x\": 4, \"count_y\": 7325, \"median\": 49.5, \"density\": 0.0005460750853242321}, {\"genre\": \"Country\", \"popularity\": 21, \"count_x\": 4, \"count_y\": 7325, \"median\": 49.5, \"density\": 0.0005460750853242321}, {\"genre\": \"Country\", \"popularity\": 20, \"count_x\": 6, \"count_y\": 7325, \"median\": 49.5, \"density\": 0.0008191126279863481}, {\"genre\": \"Country\", \"popularity\": 19, \"count_x\": 3, \"count_y\": 7325, \"median\": 49.5, \"density\": 0.00040955631399317407}, {\"genre\": \"Country\", \"popularity\": 18, \"count_x\": 1, \"count_y\": 7325, \"median\": 49.5, \"density\": 0.00013651877133105802}, {\"genre\": \"Country\", \"popularity\": 13, \"count_x\": 1, \"count_y\": 7325, \"median\": 49.5, \"density\": 0.00013651877133105802}, {\"genre\": \"Country\", \"popularity\": 11, \"count_x\": 1, \"count_y\": 7325, \"median\": 49.5, \"density\": 0.00013651877133105802}, {\"genre\": \"Country\", \"popularity\": 10, \"count_x\": 1, \"count_y\": 7325, \"median\": 49.5, \"density\": 0.00013651877133105802}, {\"genre\": \"Country\", \"popularity\": 0, \"count_x\": 63, \"count_y\": 7325, \"median\": 49.5, \"density\": 0.008600682593856655}, {\"genre\": \"Folk\", \"popularity\": 53, \"count_x\": 294, \"count_y\": 7801, \"median\": 49.5, \"density\": 0.037687475964619924}, {\"genre\": \"Folk\", \"popularity\": 0, \"count_x\": 6, \"count_y\": 7801, \"median\": 49.5, \"density\": 0.0007691321625432636}, {\"genre\": \"Folk\", \"popularity\": 30, \"count_x\": 1, \"count_y\": 7801, \"median\": 49.5, \"density\": 0.00012818869375721061}, {\"genre\": \"Folk\", \"popularity\": 13, \"count_x\": 1, \"count_y\": 7801, \"median\": 49.5, \"density\": 0.00012818869375721061}, {\"genre\": \"Folk\", \"popularity\": 32, \"count_x\": 2, \"count_y\": 7801, \"median\": 49.5, \"density\": 0.00025637738751442123}, {\"genre\": \"Folk\", \"popularity\": 51, \"count_x\": 346, \"count_y\": 7801, \"median\": 49.5, \"density\": 0.04435328803999487}, {\"genre\": \"Folk\", \"popularity\": 31, \"count_x\": 1, \"count_y\": 7801, \"median\": 49.5, \"density\": 0.00012818869375721061}, {\"genre\": \"Folk\", \"popularity\": 50, \"count_x\": 371, \"count_y\": 7801, \"median\": 49.5, \"density\": 0.047558005383925135}, {\"genre\": \"Folk\", \"popularity\": 49, \"count_x\": 403, \"count_y\": 7801, \"median\": 49.5, \"density\": 0.05166004358415588}, {\"genre\": \"Folk\", \"popularity\": 48, \"count_x\": 478, \"count_y\": 7801, \"median\": 49.5, \"density\": 0.06127419561594667}, {\"genre\": \"Folk\", \"popularity\": 47, \"count_x\": 451, \"count_y\": 7801, \"median\": 49.5, \"density\": 0.057813100884501985}, {\"genre\": \"Folk\", \"popularity\": 46, \"count_x\": 500, \"count_y\": 7801, \"median\": 49.5, \"density\": 0.06409434687860531}, {\"genre\": \"Folk\", \"popularity\": 44, \"count_x\": 521, \"count_y\": 7801, \"median\": 49.5, \"density\": 0.06678630944750673}, {\"genre\": \"Folk\", \"popularity\": 43, \"count_x\": 462, \"count_y\": 7801, \"median\": 49.5, \"density\": 0.059223176515831304}, {\"genre\": \"Folk\", \"popularity\": 42, \"count_x\": 428, \"count_y\": 7801, \"median\": 49.5, \"density\": 0.05486476092808614}, {\"genre\": \"Folk\", \"popularity\": 41, \"count_x\": 351, \"count_y\": 7801, \"median\": 49.5, \"density\": 0.04499423150878092}, {\"genre\": \"Folk\", \"popularity\": 45, \"count_x\": 466, \"count_y\": 7801, \"median\": 49.5, \"density\": 0.05973593129086015}, {\"genre\": \"Folk\", \"popularity\": 35, \"count_x\": 17, \"count_y\": 7801, \"median\": 49.5, \"density\": 0.0021792077938725804}, {\"genre\": \"Country\", \"popularity\": 30, \"count_x\": 1, \"count_y\": 7325, \"median\": 49.5, \"density\": 0.00013651877133105802}, {\"genre\": \"Country\", \"popularity\": 28, \"count_x\": 1, \"count_y\": 7325, \"median\": 49.5, \"density\": 0.00013651877133105802}, {\"genre\": \"Folk\", \"popularity\": 39, \"count_x\": 202, \"count_y\": 7801, \"median\": 49.5, \"density\": 0.025894116138956542}, {\"genre\": \"Country\", \"popularity\": 24, \"count_x\": 2, \"count_y\": 7325, \"median\": 49.5, \"density\": 0.00027303754266211604}, {\"genre\": \"Folk\", \"popularity\": 38, \"count_x\": 123, \"count_y\": 7801, \"median\": 49.5, \"density\": 0.015767209332136906}, {\"genre\": \"Folk\", \"popularity\": 37, \"count_x\": 71, \"count_y\": 7801, \"median\": 49.5, \"density\": 0.009101397256761954}, {\"genre\": \"Folk\", \"popularity\": 36, \"count_x\": 41, \"count_y\": 7801, \"median\": 49.5, \"density\": 0.005255736444045635}, {\"genre\": \"Folk\", \"popularity\": 40, \"count_x\": 285, \"count_y\": 7801, \"median\": 49.5, \"density\": 0.03653377772080502}, {\"genre\": \"Folk\", \"popularity\": 34, \"count_x\": 17, \"count_y\": 7801, \"median\": 49.5, \"density\": 0.0021792077938725804}, {\"genre\": \"Folk\", \"popularity\": 33, \"count_x\": 10, \"count_y\": 7801, \"median\": 49.5, \"density\": 0.0012818869375721062}, {\"genre\": \"Dance\", \"popularity\": 61, \"count_x\": 292, \"count_y\": 8298, \"median\": 51.0, \"density\": 0.03518920221740179}, {\"genre\": \"Dance\", \"popularity\": 62, \"count_x\": 270, \"count_y\": 8298, \"median\": 51.0, \"density\": 0.03253796095444685}, {\"genre\": \"Dance\", \"popularity\": 63, \"count_x\": 273, \"count_y\": 8298, \"median\": 51.0, \"density\": 0.03289949385394071}, {\"genre\": \"Dance\", \"popularity\": 64, \"count_x\": 245, \"count_y\": 8298, \"median\": 51.0, \"density\": 0.029525186791998073}, {\"genre\": \"Dance\", \"popularity\": 69, \"count_x\": 121, \"count_y\": 8298, \"median\": 51.0, \"density\": 0.014581826946252109}, {\"genre\": \"Dance\", \"popularity\": 66, \"count_x\": 220, \"count_y\": 8298, \"median\": 51.0, \"density\": 0.02651241262954929}, {\"genre\": \"Dance\", \"popularity\": 67, \"count_x\": 181, \"count_y\": 8298, \"median\": 51.0, \"density\": 0.021812484936129188}, {\"genre\": \"Dance\", \"popularity\": 68, \"count_x\": 181, \"count_y\": 8298, \"median\": 51.0, \"density\": 0.021812484936129188}, {\"genre\": \"Dance\", \"popularity\": 60, \"count_x\": 313, \"count_y\": 8298, \"median\": 51.0, \"density\": 0.03771993251385876}, {\"genre\": \"Dance\", \"popularity\": 65, \"count_x\": 237, \"count_y\": 8298, \"median\": 51.0, \"density\": 0.02856109906001446}, {\"genre\": \"Dance\", \"popularity\": 59, \"count_x\": 336, \"count_y\": 8298, \"median\": 51.0, \"density\": 0.04049168474331164}, {\"genre\": \"Dance\", \"popularity\": 47, \"count_x\": 222, \"count_y\": 8298, \"median\": 51.0, \"density\": 0.02675343456254519}, {\"genre\": \"Dance\", \"popularity\": 57, \"count_x\": 369, \"count_y\": 8298, \"median\": 51.0, \"density\": 0.044468546637744036}, {\"genre\": \"Dance\", \"popularity\": 56, \"count_x\": 383, \"count_y\": 8298, \"median\": 51.0, \"density\": 0.046155700168715355}, {\"genre\": \"Dance\", \"popularity\": 55, \"count_x\": 373, \"count_y\": 8298, \"median\": 51.0, \"density\": 0.04495059050373584}, {\"genre\": \"Dance\", \"popularity\": 54, \"count_x\": 394, \"count_y\": 8298, \"median\": 51.0, \"density\": 0.047481320800192815}, {\"genre\": \"Dance\", \"popularity\": 53, \"count_x\": 398, \"count_y\": 8298, \"median\": 51.0, \"density\": 0.04796336466618462}, {\"genre\": \"Dance\", \"popularity\": 52, \"count_x\": 450, \"count_y\": 8298, \"median\": 51.0, \"density\": 0.05422993492407809}, {\"genre\": \"Dance\", \"popularity\": 51, \"count_x\": 391, \"count_y\": 8298, \"median\": 51.0, \"density\": 0.04711978790069896}, {\"genre\": \"Dance\", \"popularity\": 50, \"count_x\": 373, \"count_y\": 8298, \"median\": 51.0, \"density\": 0.04495059050373584}, {\"genre\": \"Dance\", \"popularity\": 49, \"count_x\": 321, \"count_y\": 8298, \"median\": 51.0, \"density\": 0.038684020245842374}, {\"genre\": \"Dance\", \"popularity\": 48, \"count_x\": 274, \"count_y\": 8298, \"median\": 51.0, \"density\": 0.03302000482043866}, {\"genre\": \"Dance\", \"popularity\": 46, \"count_x\": 166, \"count_y\": 8298, \"median\": 51.0, \"density\": 0.020004820438659917}, {\"genre\": \"Dance\", \"popularity\": 70, \"count_x\": 120, \"count_y\": 8298, \"median\": 51.0, \"density\": 0.014461315979754157}, {\"genre\": \"Dance\", \"popularity\": 58, \"count_x\": 367, \"count_y\": 8298, \"median\": 51.0, \"density\": 0.04422752470474813}, {\"genre\": \"Dance\", \"popularity\": 71, \"count_x\": 108, \"count_y\": 8298, \"median\": 51.0, \"density\": 0.013015184381778741}, {\"genre\": \"Blues\", \"popularity\": 37, \"count_x\": 6, \"count_y\": 3295, \"median\": 51.0, \"density\": 0.0018209408194233688}, {\"genre\": \"Dance\", \"popularity\": 73, \"count_x\": 70, \"count_y\": 8298, \"median\": 51.0, \"density\": 0.008435767654856591}, {\"genre\": \"Blues\", \"popularity\": 40, \"count_x\": 5, \"count_y\": 3295, \"median\": 51.0, \"density\": 0.0015174506828528073}, {\"genre\": \"Blues\", \"popularity\": 39, \"count_x\": 3, \"count_y\": 3295, \"median\": 51.0, \"density\": 0.0009104704097116844}, {\"genre\": \"Blues\", \"popularity\": 38, \"count_x\": 5, \"count_y\": 3295, \"median\": 51.0, \"density\": 0.0015174506828528073}, {\"genre\": \"Dance\", \"popularity\": 45, \"count_x\": 132, \"count_y\": 8298, \"median\": 51.0, \"density\": 0.015907447577729574}, {\"genre\": \"Blues\", \"popularity\": 36, \"count_x\": 3, \"count_y\": 3295, \"median\": 51.0, \"density\": 0.0009104704097116844}, {\"genre\": \"Blues\", \"popularity\": 34, \"count_x\": 2, \"count_y\": 3295, \"median\": 51.0, \"density\": 0.0006069802731411229}, {\"genre\": \"Blues\", \"popularity\": 33, \"count_x\": 4, \"count_y\": 3295, \"median\": 51.0, \"density\": 0.0012139605462822458}, {\"genre\": \"Blues\", \"popularity\": 32, \"count_x\": 1, \"count_y\": 3295, \"median\": 51.0, \"density\": 0.00030349013657056146}, {\"genre\": \"Blues\", \"popularity\": 31, \"count_x\": 1, \"count_y\": 3295, \"median\": 51.0, \"density\": 0.00030349013657056146}, {\"genre\": \"Blues\", \"popularity\": 30, \"count_x\": 1, \"count_y\": 3295, \"median\": 51.0, \"density\": 0.00030349013657056146}, {\"genre\": \"Blues\", \"popularity\": 25, \"count_x\": 1, \"count_y\": 3295, \"median\": 51.0, \"density\": 0.00030349013657056146}, {\"genre\": \"Blues\", \"popularity\": 23, \"count_x\": 1, \"count_y\": 3295, \"median\": 51.0, \"density\": 0.00030349013657056146}, {\"genre\": \"Dance\", \"popularity\": 72, \"count_x\": 114, \"count_y\": 8298, \"median\": 51.0, \"density\": 0.01373825018076645}, {\"genre\": \"Blues\", \"popularity\": 1, \"count_x\": 1, \"count_y\": 3295, \"median\": 51.0, \"density\": 0.00030349013657056146}, {\"genre\": \"Blues\", \"popularity\": 44, \"count_x\": 57, \"count_y\": 3295, \"median\": 51.0, \"density\": 0.017298937784522003}, {\"genre\": \"Blues\", \"popularity\": 45, \"count_x\": 61, \"count_y\": 3295, \"median\": 51.0, \"density\": 0.01851289833080425}, {\"genre\": \"Dance\", \"popularity\": 83, \"count_x\": 2, \"count_y\": 8298, \"median\": 51.0, \"density\": 0.00024102193299590263}, {\"genre\": \"Dance\", \"popularity\": 82, \"count_x\": 3, \"count_y\": 8298, \"median\": 51.0, \"density\": 0.00036153289949385393}, {\"genre\": \"Dance\", \"popularity\": 81, \"count_x\": 4, \"count_y\": 8298, \"median\": 51.0, \"density\": 0.00048204386599180526}, {\"genre\": \"Dance\", \"popularity\": 80, \"count_x\": 7, \"count_y\": 8298, \"median\": 51.0, \"density\": 0.0008435767654856592}, {\"genre\": \"Dance\", \"popularity\": 79, \"count_x\": 11, \"count_y\": 8298, \"median\": 51.0, \"density\": 0.0013256206314774645}, {\"genre\": \"Dance\", \"popularity\": 78, \"count_x\": 22, \"count_y\": 8298, \"median\": 51.0, \"density\": 0.002651241262954929}, {\"genre\": \"Dance\", \"popularity\": 77, \"count_x\": 19, \"count_y\": 8298, \"median\": 51.0, \"density\": 0.002289708363461075}, {\"genre\": \"Dance\", \"popularity\": 76, \"count_x\": 28, \"count_y\": 8298, \"median\": 51.0, \"density\": 0.003374307061942637}, {\"genre\": \"Dance\", \"popularity\": 75, \"count_x\": 50, \"count_y\": 8298, \"median\": 51.0, \"density\": 0.006025548324897566}, {\"genre\": \"Dance\", \"popularity\": 74, \"count_x\": 55, \"count_y\": 8298, \"median\": 51.0, \"density\": 0.0066281031573873226}, {\"genre\": \"Blues\", \"popularity\": 43, \"count_x\": 44, \"count_y\": 3295, \"median\": 51.0, \"density\": 0.013353566009104704}, {\"genre\": \"Dance\", \"popularity\": 44, \"count_x\": 87, \"count_y\": 8298, \"median\": 51.0, \"density\": 0.010484454085321764}, {\"genre\": \"Dance\", \"popularity\": 6, \"count_x\": 2, \"count_y\": 8298, \"median\": 51.0, \"density\": 0.00024102193299590263}, {\"genre\": \"Dance\", \"popularity\": 42, \"count_x\": 44, \"count_y\": 8298, \"median\": 51.0, \"density\": 0.005302482525909858}, {\"genre\": \"Blues\", \"popularity\": 52, \"count_x\": 227, \"count_y\": 3295, \"median\": 51.0, \"density\": 0.06889226100151745}, {\"genre\": \"Blues\", \"popularity\": 53, \"count_x\": 259, \"count_y\": 3295, \"median\": 51.0, \"density\": 0.07860394537177541}, {\"genre\": \"Blues\", \"popularity\": 54, \"count_x\": 200, \"count_y\": 3295, \"median\": 51.0, \"density\": 0.06069802731411229}, {\"genre\": \"Blues\", \"popularity\": 55, \"count_x\": 183, \"count_y\": 3295, \"median\": 51.0, \"density\": 0.05553869499241275}, {\"genre\": \"Blues\", \"popularity\": 56, \"count_x\": 199, \"count_y\": 3295, \"median\": 51.0, \"density\": 0.06039453717754173}, {\"genre\": \"Blues\", \"popularity\": 57, \"count_x\": 203, \"count_y\": 3295, \"median\": 51.0, \"density\": 0.06160849772382398}, {\"genre\": \"Blues\", \"popularity\": 58, \"count_x\": 153, \"count_y\": 3295, \"median\": 51.0, \"density\": 0.0464339908952959}, {\"genre\": \"Blues\", \"popularity\": 59, \"count_x\": 125, \"count_y\": 3295, \"median\": 51.0, \"density\": 0.03793626707132018}, {\"genre\": \"Blues\", \"popularity\": 60, \"count_x\": 112, \"count_y\": 3295, \"median\": 51.0, \"density\": 0.033990895295902886}, {\"genre\": \"Blues\", \"popularity\": 61, \"count_x\": 78, \"count_y\": 3295, \"median\": 51.0, \"density\": 0.023672230652503793}, {\"genre\": \"Blues\", \"popularity\": 62, \"count_x\": 66, \"count_y\": 3295, \"median\": 51.0, \"density\": 0.020030349013657057}, {\"genre\": \"Blues\", \"popularity\": 63, \"count_x\": 61, \"count_y\": 3295, \"median\": 51.0, \"density\": 0.01851289833080425}, {\"genre\": \"Blues\", \"popularity\": 64, \"count_x\": 41, \"count_y\": 3295, \"median\": 51.0, \"density\": 0.012443095599393019}, {\"genre\": \"Blues\", \"popularity\": 65, \"count_x\": 22, \"count_y\": 3295, \"median\": 51.0, \"density\": 0.006676783004552352}, {\"genre\": \"Blues\", \"popularity\": 66, \"count_x\": 17, \"count_y\": 3295, \"median\": 51.0, \"density\": 0.005159332321699545}, {\"genre\": \"Blues\", \"popularity\": 67, \"count_x\": 12, \"count_y\": 3295, \"median\": 51.0, \"density\": 0.0036418816388467377}, {\"genre\": \"Blues\", \"popularity\": 68, \"count_x\": 12, \"count_y\": 3295, \"median\": 51.0, \"density\": 0.0036418816388467377}, {\"genre\": \"Blues\", \"popularity\": 69, \"count_x\": 8, \"count_y\": 3295, \"median\": 51.0, \"density\": 0.0024279210925644916}, {\"genre\": \"Blues\", \"popularity\": 70, \"count_x\": 7, \"count_y\": 3295, \"median\": 51.0, \"density\": 0.0021244309559939304}, {\"genre\": \"Blues\", \"popularity\": 71, \"count_x\": 3, \"count_y\": 3295, \"median\": 51.0, \"density\": 0.0009104704097116844}, {\"genre\": \"Blues\", \"popularity\": 72, \"count_x\": 6, \"count_y\": 3295, \"median\": 51.0, \"density\": 0.0018209408194233688}, {\"genre\": \"Blues\", \"popularity\": 73, \"count_x\": 2, \"count_y\": 3295, \"median\": 51.0, \"density\": 0.0006069802731411229}, {\"genre\": \"Blues\", \"popularity\": 75, \"count_x\": 1, \"count_y\": 3295, \"median\": 51.0, \"density\": 0.00030349013657056146}, {\"genre\": \"Blues\", \"popularity\": 76, \"count_x\": 1, \"count_y\": 3295, \"median\": 51.0, \"density\": 0.00030349013657056146}, {\"genre\": \"Blues\", \"popularity\": 42, \"count_x\": 24, \"count_y\": 3295, \"median\": 51.0, \"density\": 0.007283763277693475}, {\"genre\": \"Blues\", \"popularity\": 51, \"count_x\": 244, \"count_y\": 3295, \"median\": 51.0, \"density\": 0.074051593323217}, {\"genre\": \"Dance\", \"popularity\": 43, \"count_x\": 84, \"count_y\": 8298, \"median\": 51.0, \"density\": 0.01012292118582791}, {\"genre\": \"Blues\", \"popularity\": 50, \"count_x\": 209, \"count_y\": 3295, \"median\": 51.0, \"density\": 0.06342943854324734}, {\"genre\": \"Blues\", \"popularity\": 48, \"count_x\": 163, \"count_y\": 3295, \"median\": 51.0, \"density\": 0.04946889226100152}, {\"genre\": \"Dance\", \"popularity\": 41, \"count_x\": 32, \"count_y\": 8298, \"median\": 51.0, \"density\": 0.003856350927934442}, {\"genre\": \"Dance\", \"popularity\": 40, \"count_x\": 8, \"count_y\": 8298, \"median\": 51.0, \"density\": 0.0009640877319836105}, {\"genre\": \"Dance\", \"popularity\": 39, \"count_x\": 2, \"count_y\": 8298, \"median\": 51.0, \"density\": 0.00024102193299590263}, {\"genre\": \"Dance\", \"popularity\": 38, \"count_x\": 2, \"count_y\": 8298, \"median\": 51.0, \"density\": 0.00024102193299590263}, {\"genre\": \"Dance\", \"popularity\": 37, \"count_x\": 2, \"count_y\": 8298, \"median\": 51.0, \"density\": 0.00024102193299590263}, {\"genre\": \"Dance\", \"popularity\": 36, \"count_x\": 1, \"count_y\": 8298, \"median\": 51.0, \"density\": 0.00012051096649795132}, {\"genre\": \"Dance\", \"popularity\": 34, \"count_x\": 1, \"count_y\": 8298, \"median\": 51.0, \"density\": 0.00012051096649795132}, {\"genre\": \"Dance\", \"popularity\": 33, \"count_x\": 1, \"count_y\": 8298, \"median\": 51.0, \"density\": 0.00012051096649795132}, {\"genre\": \"Dance\", \"popularity\": 32, \"count_x\": 2, \"count_y\": 8298, \"median\": 51.0, \"density\": 0.00024102193299590263}, {\"genre\": \"Dance\", \"popularity\": 31, \"count_x\": 1, \"count_y\": 8298, \"median\": 51.0, \"density\": 0.00012051096649795132}, {\"genre\": \"Dance\", \"popularity\": 30, \"count_x\": 1, \"count_y\": 8298, \"median\": 51.0, \"density\": 0.00012051096649795132}, {\"genre\": \"Dance\", \"popularity\": 29, \"count_x\": 1, \"count_y\": 8298, \"median\": 51.0, \"density\": 0.00012051096649795132}, {\"genre\": \"Dance\", \"popularity\": 28, \"count_x\": 1, \"count_y\": 8298, \"median\": 51.0, \"density\": 0.00012051096649795132}, {\"genre\": \"Dance\", \"popularity\": 26, \"count_x\": 2, \"count_y\": 8298, \"median\": 51.0, \"density\": 0.00024102193299590263}, {\"genre\": \"Dance\", \"popularity\": 24, \"count_x\": 5, \"count_y\": 8298, \"median\": 51.0, \"density\": 0.0006025548324897565}, {\"genre\": \"Dance\", \"popularity\": 23, \"count_x\": 4, \"count_y\": 8298, \"median\": 51.0, \"density\": 0.00048204386599180526}, {\"genre\": \"Dance\", \"popularity\": 22, \"count_x\": 3, \"count_y\": 8298, \"median\": 51.0, \"density\": 0.00036153289949385393}, {\"genre\": \"Dance\", \"popularity\": 21, \"count_x\": 2, \"count_y\": 8298, \"median\": 51.0, \"density\": 0.00024102193299590263}, {\"genre\": \"Blues\", \"popularity\": 0, \"count_x\": 7, \"count_y\": 3295, \"median\": 51.0, \"density\": 0.0021244309559939304}, {\"genre\": \"Dance\", \"popularity\": 20, \"count_x\": 4, \"count_y\": 8298, \"median\": 51.0, \"density\": 0.00048204386599180526}, {\"genre\": \"Dance\", \"popularity\": 19, \"count_x\": 2, \"count_y\": 8298, \"median\": 51.0, \"density\": 0.00024102193299590263}, {\"genre\": \"Dance\", \"popularity\": 15, \"count_x\": 1, \"count_y\": 8298, \"median\": 51.0, \"density\": 0.00012051096649795132}, {\"genre\": \"Dance\", \"popularity\": 0, \"count_x\": 108, \"count_y\": 8298, \"median\": 51.0, \"density\": 0.013015184381778741}, {\"genre\": \"Blues\", \"popularity\": 46, \"count_x\": 107, \"count_y\": 3295, \"median\": 51.0, \"density\": 0.03247344461305007}, {\"genre\": \"Blues\", \"popularity\": 47, \"count_x\": 149, \"count_y\": 3295, \"median\": 51.0, \"density\": 0.04522003034901366}, {\"genre\": \"Blues\", \"popularity\": 49, \"count_x\": 188, \"count_y\": 3295, \"median\": 51.0, \"density\": 0.057056145675265554}, {\"genre\": \"Blues\", \"popularity\": 41, \"count_x\": 10, \"count_y\": 3295, \"median\": 51.0, \"density\": 0.0030349013657056147}, {\"genre\": \"Alternative\", \"popularity\": 40, \"count_x\": 4, \"count_y\": 5300, \"median\": 53.5, \"density\": 0.0007547169811320754}, {\"genre\": \"Alternative\", \"popularity\": 86, \"count_x\": 1, \"count_y\": 5300, \"median\": 53.5, \"density\": 0.00018867924528301886}, {\"genre\": \"Alternative\", \"popularity\": 57, \"count_x\": 207, \"count_y\": 5300, \"median\": 53.5, \"density\": 0.03905660377358491}, {\"genre\": \"Alternative\", \"popularity\": 56, \"count_x\": 205, \"count_y\": 5300, \"median\": 53.5, \"density\": 0.038679245283018866}, {\"genre\": \"Alternative\", \"popularity\": 55, \"count_x\": 235, \"count_y\": 5300, \"median\": 53.5, \"density\": 0.04433962264150943}, {\"genre\": \"Alternative\", \"popularity\": 54, \"count_x\": 256, \"count_y\": 5300, \"median\": 53.5, \"density\": 0.04830188679245283}, {\"genre\": \"Alternative\", \"popularity\": 53, \"count_x\": 283, \"count_y\": 5300, \"median\": 53.5, \"density\": 0.05339622641509434}, {\"genre\": \"Alternative\", \"popularity\": 52, \"count_x\": 292, \"count_y\": 5300, \"median\": 53.5, \"density\": 0.05509433962264151}, {\"genre\": \"Alternative\", \"popularity\": 51, \"count_x\": 265, \"count_y\": 5300, \"median\": 53.5, \"density\": 0.05}, {\"genre\": \"Alternative\", \"popularity\": 50, \"count_x\": 292, \"count_y\": 5300, \"median\": 53.5, \"density\": 0.05509433962264151}, {\"genre\": \"Alternative\", \"popularity\": 49, \"count_x\": 300, \"count_y\": 5300, \"median\": 53.5, \"density\": 0.05660377358490566}, {\"genre\": \"Alternative\", \"popularity\": 48, \"count_x\": 265, \"count_y\": 5300, \"median\": 53.5, \"density\": 0.05}, {\"genre\": \"Alternative\", \"popularity\": 47, \"count_x\": 229, \"count_y\": 5300, \"median\": 53.5, \"density\": 0.043207547169811324}, {\"genre\": \"Alternative\", \"popularity\": 46, \"count_x\": 164, \"count_y\": 5300, \"median\": 53.5, \"density\": 0.030943396226415093}, {\"genre\": \"Alternative\", \"popularity\": 45, \"count_x\": 129, \"count_y\": 5300, \"median\": 53.5, \"density\": 0.024339622641509434}, {\"genre\": \"Alternative\", \"popularity\": 44, \"count_x\": 89, \"count_y\": 5300, \"median\": 53.5, \"density\": 0.016792452830188678}, {\"genre\": \"Alternative\", \"popularity\": 43, \"count_x\": 42, \"count_y\": 5300, \"median\": 53.5, \"density\": 0.007924528301886792}, {\"genre\": \"Alternative\", \"popularity\": 42, \"count_x\": 34, \"count_y\": 5300, \"median\": 53.5, \"density\": 0.006415094339622641}, {\"genre\": \"Alternative\", \"popularity\": 41, \"count_x\": 14, \"count_y\": 5300, \"median\": 53.5, \"density\": 0.0026415094339622643}, {\"genre\": \"Alternative\", \"popularity\": 58, \"count_x\": 176, \"count_y\": 5300, \"median\": 53.5, \"density\": 0.03320754716981132}, {\"genre\": \"Alternative\", \"popularity\": 39, \"count_x\": 6, \"count_y\": 5300, \"median\": 53.5, \"density\": 0.0011320754716981133}, {\"genre\": \"Alternative\", \"popularity\": 59, \"count_x\": 169, \"count_y\": 5300, \"median\": 53.5, \"density\": 0.03188679245283019}, {\"genre\": \"Alternative\", \"popularity\": 61, \"count_x\": 159, \"count_y\": 5300, \"median\": 53.5, \"density\": 0.03}, {\"genre\": \"Alternative\", \"popularity\": 78, \"count_x\": 14, \"count_y\": 5300, \"median\": 53.5, \"density\": 0.0026415094339622643}, {\"genre\": \"Alternative\", \"popularity\": 77, \"count_x\": 15, \"count_y\": 5300, \"median\": 53.5, \"density\": 0.002830188679245283}, {\"genre\": \"Alternative\", \"popularity\": 76, \"count_x\": 16, \"count_y\": 5300, \"median\": 53.5, \"density\": 0.0030188679245283017}, {\"genre\": \"Alternative\", \"popularity\": 75, \"count_x\": 25, \"count_y\": 5300, \"median\": 53.5, \"density\": 0.0047169811320754715}, {\"genre\": \"Alternative\", \"popularity\": 74, \"count_x\": 27, \"count_y\": 5300, \"median\": 53.5, \"density\": 0.005094339622641509}, {\"genre\": \"Alternative\", \"popularity\": 73, \"count_x\": 30, \"count_y\": 5300, \"median\": 53.5, \"density\": 0.005660377358490566}, {\"genre\": \"Alternative\", \"popularity\": 72, \"count_x\": 41, \"count_y\": 5300, \"median\": 53.5, \"density\": 0.007735849056603773}, {\"genre\": \"Alternative\", \"popularity\": 71, \"count_x\": 39, \"count_y\": 5300, \"median\": 53.5, \"density\": 0.007358490566037735}, {\"genre\": \"Alternative\", \"popularity\": 70, \"count_x\": 55, \"count_y\": 5300, \"median\": 53.5, \"density\": 0.010377358490566037}, {\"genre\": \"Alternative\", \"popularity\": 69, \"count_x\": 67, \"count_y\": 5300, \"median\": 53.5, \"density\": 0.012641509433962264}, {\"genre\": \"Alternative\", \"popularity\": 68, \"count_x\": 90, \"count_y\": 5300, \"median\": 53.5, \"density\": 0.016981132075471698}, {\"genre\": \"Alternative\", \"popularity\": 67, \"count_x\": 101, \"count_y\": 5300, \"median\": 53.5, \"density\": 0.019056603773584906}, {\"genre\": \"Alternative\", \"popularity\": 66, \"count_x\": 142, \"count_y\": 5300, \"median\": 53.5, \"density\": 0.02679245283018868}, {\"genre\": \"Alternative\", \"popularity\": 65, \"count_x\": 135, \"count_y\": 5300, \"median\": 53.5, \"density\": 0.02547169811320755}, {\"genre\": \"Alternative\", \"popularity\": 64, \"count_x\": 139, \"count_y\": 5300, \"median\": 53.5, \"density\": 0.026226415094339622}, {\"genre\": \"Alternative\", \"popularity\": 63, \"count_x\": 130, \"count_y\": 5300, \"median\": 53.5, \"density\": 0.024528301886792454}, {\"genre\": \"Alternative\", \"popularity\": 62, \"count_x\": 170, \"count_y\": 5300, \"median\": 53.5, \"density\": 0.03207547169811321}, {\"genre\": \"Alternative\", \"popularity\": 60, \"count_x\": 168, \"count_y\": 5300, \"median\": 53.5, \"density\": 0.03169811320754717}, {\"genre\": \"Alternative\", \"popularity\": 37, \"count_x\": 4, \"count_y\": 5300, \"median\": 53.5, \"density\": 0.0007547169811320754}, {\"genre\": \"Alternative\", \"popularity\": 38, \"count_x\": 1, \"count_y\": 5300, \"median\": 53.5, \"density\": 0.00018867924528301886}, {\"genre\": \"Alternative\", \"popularity\": 35, \"count_x\": 2, \"count_y\": 5300, \"median\": 53.5, \"density\": 0.0003773584905660377}, {\"genre\": \"Alternative\", \"popularity\": 79, \"count_x\": 9, \"count_y\": 5300, \"median\": 53.5, \"density\": 0.0016981132075471698}, {\"genre\": \"Alternative\", \"popularity\": 80, \"count_x\": 6, \"count_y\": 5300, \"median\": 53.5, \"density\": 0.0011320754716981133}, {\"genre\": \"Alternative\", \"popularity\": 36, \"count_x\": 6, \"count_y\": 5300, \"median\": 53.5, \"density\": 0.0011320754716981133}, {\"genre\": \"Alternative\", \"popularity\": 81, \"count_x\": 4, \"count_y\": 5300, \"median\": 53.5, \"density\": 0.0007547169811320754}, {\"genre\": \"Alternative\", \"popularity\": 82, \"count_x\": 5, \"count_y\": 5300, \"median\": 53.5, \"density\": 0.0009433962264150943}, {\"genre\": \"Alternative\", \"popularity\": 83, \"count_x\": 1, \"count_y\": 5300, \"median\": 53.5, \"density\": 0.00018867924528301886}, {\"genre\": \"Alternative\", \"popularity\": 84, \"count_x\": 3, \"count_y\": 5300, \"median\": 53.5, \"density\": 0.0005660377358490566}, {\"genre\": \"Alternative\", \"popularity\": 85, \"count_x\": 1, \"count_y\": 5300, \"median\": 53.5, \"density\": 0.00018867924528301886}, {\"genre\": \"Alternative\", \"popularity\": 0, \"count_x\": 8, \"count_y\": 5300, \"median\": 53.5, \"density\": 0.0015094339622641509}, {\"genre\": \"Alternative\", \"popularity\": 16, \"count_x\": 1, \"count_y\": 5300, \"median\": 53.5, \"density\": 0.00018867924528301886}, {\"genre\": \"Alternative\", \"popularity\": 17, \"count_x\": 1, \"count_y\": 5300, \"median\": 53.5, \"density\": 0.00018867924528301886}, {\"genre\": \"Alternative\", \"popularity\": 1, \"count_x\": 1, \"count_y\": 5300, \"median\": 53.5, \"density\": 0.00018867924528301886}, {\"genre\": \"Alternative\", \"popularity\": 22, \"count_x\": 1, \"count_y\": 5300, \"median\": 53.5, \"density\": 0.00018867924528301886}, {\"genre\": \"Alternative\", \"popularity\": 25, \"count_x\": 1, \"count_y\": 5300, \"median\": 53.5, \"density\": 0.00018867924528301886}, {\"genre\": \"Alternative\", \"popularity\": 26, \"count_x\": 1, \"count_y\": 5300, \"median\": 53.5, \"density\": 0.00018867924528301886}, {\"genre\": \"Alternative\", \"popularity\": 27, \"count_x\": 2, \"count_y\": 5300, \"median\": 53.5, \"density\": 0.0003773584905660377}, {\"genre\": \"Alternative\", \"popularity\": 30, \"count_x\": 4, \"count_y\": 5300, \"median\": 53.5, \"density\": 0.0007547169811320754}, {\"genre\": \"Alternative\", \"popularity\": 31, \"count_x\": 3, \"count_y\": 5300, \"median\": 53.5, \"density\": 0.0005660377358490566}, {\"genre\": \"Alternative\", \"popularity\": 32, \"count_x\": 2, \"count_y\": 5300, \"median\": 53.5, \"density\": 0.0003773584905660377}, {\"genre\": \"Alternative\", \"popularity\": 33, \"count_x\": 7, \"count_y\": 5300, \"median\": 53.5, \"density\": 0.0013207547169811322}, {\"genre\": \"Alternative\", \"popularity\": 34, \"count_x\": 5, \"count_y\": 5300, \"median\": 53.5, \"density\": 0.0009433962264150943}, {\"genre\": \"Alternative\", \"popularity\": 18, \"count_x\": 1, \"count_y\": 5300, \"median\": 53.5, \"density\": 0.00018867924528301886}, {\"genre\": \"Indie\", \"popularity\": 78, \"count_x\": 3, \"count_y\": 2783, \"median\": 54.0, \"density\": 0.0010779734099892202}, {\"genre\": \"Indie\", \"popularity\": 61, \"count_x\": 63, \"count_y\": 2783, \"median\": 54.0, \"density\": 0.022637441609773625}, {\"genre\": \"Indie\", \"popularity\": 60, \"count_x\": 70, \"count_y\": 2783, \"median\": 54.0, \"density\": 0.025152712899748474}, {\"genre\": \"Indie\", \"popularity\": 80, \"count_x\": 4, \"count_y\": 2783, \"median\": 54.0, \"density\": 0.001437297879985627}, {\"genre\": \"Indie\", \"popularity\": 79, \"count_x\": 1, \"count_y\": 2783, \"median\": 54.0, \"density\": 0.00035932446999640676}, {\"genre\": \"Indie\", \"popularity\": 77, \"count_x\": 4, \"count_y\": 2783, \"median\": 54.0, \"density\": 0.001437297879985627}, {\"genre\": \"Indie\", \"popularity\": 68, \"count_x\": 12, \"count_y\": 2783, \"median\": 54.0, \"density\": 0.004311893639956881}, {\"genre\": \"Indie\", \"popularity\": 74, \"count_x\": 2, \"count_y\": 2783, \"median\": 54.0, \"density\": 0.0007186489399928135}, {\"genre\": \"Indie\", \"popularity\": 73, \"count_x\": 4, \"count_y\": 2783, \"median\": 54.0, \"density\": 0.001437297879985627}, {\"genre\": \"Indie\", \"popularity\": 72, \"count_x\": 2, \"count_y\": 2783, \"median\": 54.0, \"density\": 0.0007186489399928135}, {\"genre\": \"Indie\", \"popularity\": 71, \"count_x\": 7, \"count_y\": 2783, \"median\": 54.0, \"density\": 0.0025152712899748474}, {\"genre\": \"Indie\", \"popularity\": 70, \"count_x\": 2, \"count_y\": 2783, \"median\": 54.0, \"density\": 0.0007186489399928135}, {\"genre\": \"Indie\", \"popularity\": 69, \"count_x\": 8, \"count_y\": 2783, \"median\": 54.0, \"density\": 0.002874595759971254}, {\"genre\": \"Indie\", \"popularity\": 67, \"count_x\": 13, \"count_y\": 2783, \"median\": 54.0, \"density\": 0.004671218109953288}, {\"genre\": \"Indie\", \"popularity\": 66, \"count_x\": 24, \"count_y\": 2783, \"median\": 54.0, \"density\": 0.008623787279913761}, {\"genre\": \"Indie\", \"popularity\": 65, \"count_x\": 19, \"count_y\": 2783, \"median\": 54.0, \"density\": 0.006827164929931728}, {\"genre\": \"Indie\", \"popularity\": 64, \"count_x\": 43, \"count_y\": 2783, \"median\": 54.0, \"density\": 0.01545095220984549}, {\"genre\": \"Indie\", \"popularity\": 63, \"count_x\": 39, \"count_y\": 2783, \"median\": 54.0, \"density\": 0.014013654329859864}, {\"genre\": \"Indie\", \"popularity\": 62, \"count_x\": 51, \"count_y\": 2783, \"median\": 54.0, \"density\": 0.018325547969816745}, {\"genre\": \"Indie\", \"popularity\": 59, \"count_x\": 75, \"count_y\": 2783, \"median\": 54.0, \"density\": 0.026949335249730505}, {\"genre\": \"Indie\", \"popularity\": 75, \"count_x\": 2, \"count_y\": 2783, \"median\": 54.0, \"density\": 0.0007186489399928135}, {\"genre\": \"Indie\", \"popularity\": 58, \"count_x\": 102, \"count_y\": 2783, \"median\": 54.0, \"density\": 0.03665109593963349}, {\"genre\": \"Indie\", \"popularity\": 81, \"count_x\": 2, \"count_y\": 2783, \"median\": 54.0, \"density\": 0.0007186489399928135}, {\"genre\": \"Indie\", \"popularity\": 47, \"count_x\": 169, \"count_y\": 2783, \"median\": 54.0, \"density\": 0.06072583542939274}, {\"genre\": \"Indie\", \"popularity\": 57, \"count_x\": 128, \"count_y\": 2783, \"median\": 54.0, \"density\": 0.045993532159540065}, {\"genre\": \"Indie\", \"popularity\": 56, \"count_x\": 96, \"count_y\": 2783, \"median\": 54.0, \"density\": 0.034495149119655046}, {\"genre\": \"Indie\", \"popularity\": 55, \"count_x\": 117, \"count_y\": 2783, \"median\": 54.0, \"density\": 0.04204096298957959}, {\"genre\": \"Indie\", \"popularity\": 54, \"count_x\": 129, \"count_y\": 2783, \"median\": 54.0, \"density\": 0.04635285662953647}, {\"genre\": \"Indie\", \"popularity\": 53, \"count_x\": 132, \"count_y\": 2783, \"median\": 54.0, \"density\": 0.04743083003952569}, {\"genre\": \"Indie\", \"popularity\": 52, \"count_x\": 148, \"count_y\": 2783, \"median\": 54.0, \"density\": 0.0531800215594682}, {\"genre\": \"Indie\", \"popularity\": 51, \"count_x\": 161, \"count_y\": 2783, \"median\": 54.0, \"density\": 0.05785123966942149}, {\"genre\": \"Indie\", \"popularity\": 50, \"count_x\": 170, \"count_y\": 2783, \"median\": 54.0, \"density\": 0.061085159899389146}, {\"genre\": \"Indie\", \"popularity\": 49, \"count_x\": 208, \"count_y\": 2783, \"median\": 54.0, \"density\": 0.07473948975925261}, {\"genre\": \"Indie\", \"popularity\": 48, \"count_x\": 169, \"count_y\": 2783, \"median\": 54.0, \"density\": 0.06072583542939274}, {\"genre\": \"Indie\", \"popularity\": 46, \"count_x\": 189, \"count_y\": 2783, \"median\": 54.0, \"density\": 0.06791232482932087}, {\"genre\": \"Indie\", \"popularity\": 45, \"count_x\": 156, \"count_y\": 2783, \"median\": 54.0, \"density\": 0.056054617319439455}, {\"genre\": \"Indie\", \"popularity\": 44, \"count_x\": 126, \"count_y\": 2783, \"median\": 54.0, \"density\": 0.04527488321954725}, {\"genre\": \"Indie\", \"popularity\": 43, \"count_x\": 66, \"count_y\": 2783, \"median\": 54.0, \"density\": 0.023715415019762844}, {\"genre\": \"Indie\", \"popularity\": 42, \"count_x\": 31, \"count_y\": 2783, \"median\": 54.0, \"density\": 0.011139058569888609}, {\"genre\": \"Indie\", \"popularity\": 84, \"count_x\": 1, \"count_y\": 2783, \"median\": 54.0, \"density\": 0.00035932446999640676}, {\"genre\": \"Indie\", \"popularity\": 40, \"count_x\": 5, \"count_y\": 2783, \"median\": 54.0, \"density\": 0.0017966223499820337}, {\"genre\": \"Indie\", \"popularity\": 19, \"count_x\": 1, \"count_y\": 2783, \"median\": 54.0, \"density\": 0.00035932446999640676}, {\"genre\": \"Indie\", \"popularity\": 20, \"count_x\": 3, \"count_y\": 2783, \"median\": 54.0, \"density\": 0.0010779734099892202}, {\"genre\": \"Indie\", \"popularity\": 41, \"count_x\": 7, \"count_y\": 2783, \"median\": 54.0, \"density\": 0.0025152712899748474}, {\"genre\": \"Indie\", \"popularity\": 22, \"count_x\": 1, \"count_y\": 2783, \"median\": 54.0, \"density\": 0.00035932446999640676}, {\"genre\": \"Indie\", \"popularity\": 23, \"count_x\": 2, \"count_y\": 2783, \"median\": 54.0, \"density\": 0.0007186489399928135}, {\"genre\": \"Indie\", \"popularity\": 25, \"count_x\": 1, \"count_y\": 2783, \"median\": 54.0, \"density\": 0.00035932446999640676}, {\"genre\": \"Indie\", \"popularity\": 26, \"count_x\": 2, \"count_y\": 2783, \"median\": 54.0, \"density\": 0.0007186489399928135}, {\"genre\": \"Indie\", \"popularity\": 21, \"count_x\": 3, \"count_y\": 2783, \"median\": 54.0, \"density\": 0.0010779734099892202}, {\"genre\": \"Indie\", \"popularity\": 33, \"count_x\": 1, \"count_y\": 2783, \"median\": 54.0, \"density\": 0.00035932446999640676}, {\"genre\": \"Indie\", \"popularity\": 34, \"count_x\": 2, \"count_y\": 2783, \"median\": 54.0, \"density\": 0.0007186489399928135}, {\"genre\": \"Indie\", \"popularity\": 37, \"count_x\": 1, \"count_y\": 2783, \"median\": 54.0, \"density\": 0.00035932446999640676}, {\"genre\": \"Indie\", \"popularity\": 38, \"count_x\": 3, \"count_y\": 2783, \"median\": 54.0, \"density\": 0.0010779734099892202}, {\"genre\": \"Indie\", \"popularity\": 39, \"count_x\": 2, \"count_y\": 2783, \"median\": 54.0, \"density\": 0.0007186489399928135}, {\"genre\": \"Indie\", \"popularity\": 29, \"count_x\": 1, \"count_y\": 2783, \"median\": 54.0, \"density\": 0.00035932446999640676}, {\"genre\": \"Rock\", \"popularity\": 31, \"count_x\": 2, \"count_y\": 2070, \"median\": 61.0, \"density\": 0.000966183574879227}, {\"genre\": \"Rock\", \"popularity\": 27, \"count_x\": 1, \"count_y\": 2070, \"median\": 61.0, \"density\": 0.0004830917874396135}, {\"genre\": \"Rock\", \"popularity\": 26, \"count_x\": 1, \"count_y\": 2070, \"median\": 61.0, \"density\": 0.0004830917874396135}, {\"genre\": \"Rock\", \"popularity\": 25, \"count_x\": 1, \"count_y\": 2070, \"median\": 61.0, \"density\": 0.0004830917874396135}, {\"genre\": \"Rock\", \"popularity\": 10, \"count_x\": 1, \"count_y\": 2070, \"median\": 61.0, \"density\": 0.0004830917874396135}, {\"genre\": \"Rock\", \"popularity\": 23, \"count_x\": 2, \"count_y\": 2070, \"median\": 61.0, \"density\": 0.000966183574879227}, {\"genre\": \"Rock\", \"popularity\": 3, \"count_x\": 1, \"count_y\": 2070, \"median\": 61.0, \"density\": 0.0004830917874396135}, {\"genre\": \"Rock\", \"popularity\": 0, \"count_x\": 1, \"count_y\": 2070, \"median\": 61.0, \"density\": 0.0004830917874396135}, {\"genre\": \"Rock\", \"popularity\": 33, \"count_x\": 1, \"count_y\": 2070, \"median\": 61.0, \"density\": 0.0004830917874396135}, {\"genre\": \"Rock\", \"popularity\": 24, \"count_x\": 4, \"count_y\": 2070, \"median\": 61.0, \"density\": 0.001932367149758454}, {\"genre\": \"Rock\", \"popularity\": 83, \"count_x\": 1, \"count_y\": 2070, \"median\": 61.0, \"density\": 0.0004830917874396135}, {\"genre\": \"Rock\", \"popularity\": 35, \"count_x\": 1, \"count_y\": 2070, \"median\": 61.0, \"density\": 0.0004830917874396135}, {\"genre\": \"Rock\", \"popularity\": 46, \"count_x\": 6, \"count_y\": 2070, \"median\": 61.0, \"density\": 0.002898550724637681}, {\"genre\": \"Rock\", \"popularity\": 69, \"count_x\": 47, \"count_y\": 2070, \"median\": 61.0, \"density\": 0.022705314009661835}, {\"genre\": \"Rock\", \"popularity\": 70, \"count_x\": 40, \"count_y\": 2070, \"median\": 61.0, \"density\": 0.01932367149758454}, {\"genre\": \"Rock\", \"popularity\": 71, \"count_x\": 30, \"count_y\": 2070, \"median\": 61.0, \"density\": 0.014492753623188406}, {\"genre\": \"Rock\", \"popularity\": 72, \"count_x\": 24, \"count_y\": 2070, \"median\": 61.0, \"density\": 0.011594202898550725}, {\"genre\": \"Rock\", \"popularity\": 73, \"count_x\": 30, \"count_y\": 2070, \"median\": 61.0, \"density\": 0.014492753623188406}, {\"genre\": \"Rock\", \"popularity\": 74, \"count_x\": 23, \"count_y\": 2070, \"median\": 61.0, \"density\": 0.011111111111111112}, {\"genre\": \"Rock\", \"popularity\": 75, \"count_x\": 11, \"count_y\": 2070, \"median\": 61.0, \"density\": 0.005314009661835749}, {\"genre\": \"Rock\", \"popularity\": 76, \"count_x\": 14, \"count_y\": 2070, \"median\": 61.0, \"density\": 0.00676328502415459}, {\"genre\": \"Rock\", \"popularity\": 68, \"count_x\": 49, \"count_y\": 2070, \"median\": 61.0, \"density\": 0.023671497584541065}, {\"genre\": \"Rock\", \"popularity\": 77, \"count_x\": 18, \"count_y\": 2070, \"median\": 61.0, \"density\": 0.008695652173913044}, {\"genre\": \"Rock\", \"popularity\": 79, \"count_x\": 8, \"count_y\": 2070, \"median\": 61.0, \"density\": 0.003864734299516908}, {\"genre\": \"Rock\", \"popularity\": 80, \"count_x\": 3, \"count_y\": 2070, \"median\": 61.0, \"density\": 0.0014492753623188406}, {\"genre\": \"Rock\", \"popularity\": 81, \"count_x\": 4, \"count_y\": 2070, \"median\": 61.0, \"density\": 0.001932367149758454}, {\"genre\": \"Rock\", \"popularity\": 90, \"count_x\": 1, \"count_y\": 2070, \"median\": 61.0, \"density\": 0.0004830917874396135}, {\"genre\": \"Rock\", \"popularity\": 89, \"count_x\": 2, \"count_y\": 2070, \"median\": 61.0, \"density\": 0.000966183574879227}, {\"genre\": \"Rock\", \"popularity\": 88, \"count_x\": 1, \"count_y\": 2070, \"median\": 61.0, \"density\": 0.0004830917874396135}, {\"genre\": \"Rock\", \"popularity\": 85, \"count_x\": 2, \"count_y\": 2070, \"median\": 61.0, \"density\": 0.000966183574879227}, {\"genre\": \"Rock\", \"popularity\": 84, \"count_x\": 2, \"count_y\": 2070, \"median\": 61.0, \"density\": 0.000966183574879227}, {\"genre\": \"Rock\", \"popularity\": 78, \"count_x\": 11, \"count_y\": 2070, \"median\": 61.0, \"density\": 0.005314009661835749}, {\"genre\": \"Rock\", \"popularity\": 38, \"count_x\": 1, \"count_y\": 2070, \"median\": 61.0, \"density\": 0.0004830917874396135}, {\"genre\": \"Rock\", \"popularity\": 67, \"count_x\": 54, \"count_y\": 2070, \"median\": 61.0, \"density\": 0.02608695652173913}, {\"genre\": \"Rock\", \"popularity\": 65, \"count_x\": 64, \"count_y\": 2070, \"median\": 61.0, \"density\": 0.030917874396135265}, {\"genre\": \"Rock\", \"popularity\": 47, \"count_x\": 24, \"count_y\": 2070, \"median\": 61.0, \"density\": 0.011594202898550725}, {\"genre\": \"Rock\", \"popularity\": 48, \"count_x\": 26, \"count_y\": 2070, \"median\": 61.0, \"density\": 0.012560386473429951}, {\"genre\": \"Rock\", \"popularity\": 49, \"count_x\": 35, \"count_y\": 2070, \"median\": 61.0, \"density\": 0.016908212560386472}, {\"genre\": \"Rock\", \"popularity\": 50, \"count_x\": 66, \"count_y\": 2070, \"median\": 61.0, \"density\": 0.03188405797101449}, {\"genre\": \"Rock\", \"popularity\": 51, \"count_x\": 76, \"count_y\": 2070, \"median\": 61.0, \"density\": 0.03671497584541063}, {\"genre\": \"Rock\", \"popularity\": 52, \"count_x\": 124, \"count_y\": 2070, \"median\": 61.0, \"density\": 0.05990338164251208}, {\"genre\": \"Rock\", \"popularity\": 53, \"count_x\": 113, \"count_y\": 2070, \"median\": 61.0, \"density\": 0.05458937198067633}, {\"genre\": \"Rock\", \"popularity\": 54, \"count_x\": 129, \"count_y\": 2070, \"median\": 61.0, \"density\": 0.06231884057971015}, {\"genre\": \"Rock\", \"popularity\": 66, \"count_x\": 43, \"count_y\": 2070, \"median\": 61.0, \"density\": 0.02077294685990338}, {\"genre\": \"Rock\", \"popularity\": 55, \"count_x\": 117, \"count_y\": 2070, \"median\": 61.0, \"density\": 0.05652173913043478}, {\"genre\": \"Rock\", \"popularity\": 57, \"count_x\": 104, \"count_y\": 2070, \"median\": 61.0, \"density\": 0.050241545893719805}, {\"genre\": \"Rock\", \"popularity\": 58, \"count_x\": 110, \"count_y\": 2070, \"median\": 61.0, \"density\": 0.05314009661835749}, {\"genre\": \"Rock\", \"popularity\": 59, \"count_x\": 116, \"count_y\": 2070, \"median\": 61.0, \"density\": 0.05603864734299517}, {\"genre\": \"Rock\", \"popularity\": 60, \"count_x\": 89, \"count_y\": 2070, \"median\": 61.0, \"density\": 0.042995169082125605}, {\"genre\": \"Rock\", \"popularity\": 61, \"count_x\": 95, \"count_y\": 2070, \"median\": 61.0, \"density\": 0.04589371980676329}, {\"genre\": \"Rock\", \"popularity\": 62, \"count_x\": 89, \"count_y\": 2070, \"median\": 61.0, \"density\": 0.042995169082125605}, {\"genre\": \"Rock\", \"popularity\": 63, \"count_x\": 64, \"count_y\": 2070, \"median\": 61.0, \"density\": 0.030917874396135265}, {\"genre\": \"Rock\", \"popularity\": 64, \"count_x\": 67, \"count_y\": 2070, \"median\": 61.0, \"density\": 0.0323671497584541}, {\"genre\": \"Rock\", \"popularity\": 56, \"count_x\": 117, \"count_y\": 2070, \"median\": 61.0, \"density\": 0.05652173913043478}, {\"genre\": \"Rock\", \"popularity\": 82, \"count_x\": 4, \"count_y\": 2070, \"median\": 61.0, \"density\": 0.001932367149758454}, {\"genre\": \"Hip-Hop\", \"popularity\": 73, \"count_x\": 9, \"count_y\": 2285, \"median\": 61.5, \"density\": 0.003938730853391685}, {\"genre\": \"Hip-Hop\", \"popularity\": 35, \"count_x\": 2, \"count_y\": 2285, \"median\": 61.5, \"density\": 0.00087527352297593}, {\"genre\": \"Rap\", \"popularity\": 61, \"count_x\": 129, \"count_y\": 4519, \"median\": 61.5, \"density\": 0.028546138526222616}, {\"genre\": \"Rap\", \"popularity\": 62, \"count_x\": 124, \"count_y\": 4519, \"median\": 61.5, \"density\": 0.02743969904846205}, {\"genre\": \"Rap\", \"popularity\": 63, \"count_x\": 110, \"count_y\": 4519, \"median\": 61.5, \"density\": 0.024341668510732464}, {\"genre\": \"Rap\", \"popularity\": 64, \"count_x\": 75, \"count_y\": 4519, \"median\": 61.5, \"density\": 0.0165965921664085}, {\"genre\": \"Rap\", \"popularity\": 65, \"count_x\": 62, \"count_y\": 4519, \"median\": 61.5, \"density\": 0.013719849524231024}, {\"genre\": \"Rap\", \"popularity\": 66, \"count_x\": 54, \"count_y\": 4519, \"median\": 61.5, \"density\": 0.011949546359814118}, {\"genre\": \"Rap\", \"popularity\": 67, \"count_x\": 48, \"count_y\": 4519, \"median\": 61.5, \"density\": 0.010621818986501438}, {\"genre\": \"Rap\", \"popularity\": 68, \"count_x\": 37, \"count_y\": 4519, \"median\": 61.5, \"density\": 0.008187652135428191}, {\"genre\": \"Rap\", \"popularity\": 69, \"count_x\": 30, \"count_y\": 4519, \"median\": 61.5, \"density\": 0.006638636866563399}, {\"genre\": \"Rap\", \"popularity\": 70, \"count_x\": 40, \"count_y\": 4519, \"median\": 61.5, \"density\": 0.008851515822084531}, {\"genre\": \"Rap\", \"popularity\": 71, \"count_x\": 37, \"count_y\": 4519, \"median\": 61.5, \"density\": 0.008187652135428191}, {\"genre\": \"Rap\", \"popularity\": 72, \"count_x\": 38, \"count_y\": 4519, \"median\": 61.5, \"density\": 0.008408940030980305}, {\"genre\": \"Rap\", \"popularity\": 73, \"count_x\": 32, \"count_y\": 4519, \"median\": 61.5, \"density\": 0.007081212657667626}, {\"genre\": \"Rap\", \"popularity\": 74, \"count_x\": 22, \"count_y\": 4519, \"median\": 61.5, \"density\": 0.004868333702146493}, {\"genre\": \"Rap\", \"popularity\": 75, \"count_x\": 18, \"count_y\": 4519, \"median\": 61.5, \"density\": 0.00398318211993804}, {\"genre\": \"Rap\", \"popularity\": 76, \"count_x\": 18, \"count_y\": 4519, \"median\": 61.5, \"density\": 0.00398318211993804}, {\"genre\": \"Rap\", \"popularity\": 77, \"count_x\": 15, \"count_y\": 4519, \"median\": 61.5, \"density\": 0.0033193184332816995}, {\"genre\": \"Rap\", \"popularity\": 78, \"count_x\": 9, \"count_y\": 4519, \"median\": 61.5, \"density\": 0.00199159105996902}, {\"genre\": \"Rap\", \"popularity\": 79, \"count_x\": 11, \"count_y\": 4519, \"median\": 61.5, \"density\": 0.0024341668510732464}, {\"genre\": \"Rap\", \"popularity\": 80, \"count_x\": 11, \"count_y\": 4519, \"median\": 61.5, \"density\": 0.0024341668510732464}, {\"genre\": \"Rap\", \"popularity\": 81, \"count_x\": 8, \"count_y\": 4519, \"median\": 61.5, \"density\": 0.0017703031644169065}, {\"genre\": \"Rap\", \"popularity\": 82, \"count_x\": 9, \"count_y\": 4519, \"median\": 61.5, \"density\": 0.00199159105996902}, {\"genre\": \"Rap\", \"popularity\": 83, \"count_x\": 11, \"count_y\": 4519, \"median\": 61.5, \"density\": 0.0024341668510732464}, {\"genre\": \"Rap\", \"popularity\": 84, \"count_x\": 5, \"count_y\": 4519, \"median\": 61.5, \"density\": 0.0011064394777605664}, {\"genre\": \"Rap\", \"popularity\": 85, \"count_x\": 5, \"count_y\": 4519, \"median\": 61.5, \"density\": 0.0011064394777605664}, {\"genre\": \"Rap\", \"popularity\": 60, \"count_x\": 213, \"count_y\": 4519, \"median\": 61.5, \"density\": 0.047134321752600135}, {\"genre\": \"Rap\", \"popularity\": 59, \"count_x\": 210, \"count_y\": 4519, \"median\": 61.5, \"density\": 0.04647045806594379}, {\"genre\": \"Rap\", \"popularity\": 58, \"count_x\": 256, \"count_y\": 4519, \"median\": 61.5, \"density\": 0.05664970126134101}, {\"genre\": \"Hip-Hop\", \"popularity\": 33, \"count_x\": 2, \"count_y\": 2285, \"median\": 61.5, \"density\": 0.00087527352297593}, {\"genre\": \"Rap\", \"popularity\": 17, \"count_x\": 1, \"count_y\": 4519, \"median\": 61.5, \"density\": 0.0002212878955521133}, {\"genre\": \"Rap\", \"popularity\": 18, \"count_x\": 1, \"count_y\": 4519, \"median\": 61.5, \"density\": 0.0002212878955521133}, {\"genre\": \"Rap\", \"popularity\": 19, \"count_x\": 1, \"count_y\": 4519, \"median\": 61.5, \"density\": 0.0002212878955521133}, {\"genre\": \"Rap\", \"popularity\": 21, \"count_x\": 1, \"count_y\": 4519, \"median\": 61.5, \"density\": 0.0002212878955521133}, {\"genre\": \"Rap\", \"popularity\": 23, \"count_x\": 1, \"count_y\": 4519, \"median\": 61.5, \"density\": 0.0002212878955521133}, {\"genre\": \"Rap\", \"popularity\": 24, \"count_x\": 2, \"count_y\": 4519, \"median\": 61.5, \"density\": 0.0004425757911042266}, {\"genre\": \"Rap\", \"popularity\": 25, \"count_x\": 3, \"count_y\": 4519, \"median\": 61.5, \"density\": 0.0006638636866563399}, {\"genre\": \"Rap\", \"popularity\": 26, \"count_x\": 2, \"count_y\": 4519, \"median\": 61.5, \"density\": 0.0004425757911042266}, {\"genre\": \"Rap\", \"popularity\": 35, \"count_x\": 2, \"count_y\": 4519, \"median\": 61.5, \"density\": 0.0004425757911042266}, {\"genre\": \"Rap\", \"popularity\": 36, \"count_x\": 1, \"count_y\": 4519, \"median\": 61.5, \"density\": 0.0002212878955521133}, {\"genre\": \"Rap\", \"popularity\": 37, \"count_x\": 3, \"count_y\": 4519, \"median\": 61.5, \"density\": 0.0006638636866563399}, {\"genre\": \"Rap\", \"popularity\": 38, \"count_x\": 3, \"count_y\": 4519, \"median\": 61.5, \"density\": 0.0006638636866563399}, {\"genre\": \"Rap\", \"popularity\": 86, \"count_x\": 5, \"count_y\": 4519, \"median\": 61.5, \"density\": 0.0011064394777605664}, {\"genre\": \"Rap\", \"popularity\": 39, \"count_x\": 1, \"count_y\": 4519, \"median\": 61.5, \"density\": 0.0002212878955521133}, {\"genre\": \"Rap\", \"popularity\": 45, \"count_x\": 1, \"count_y\": 4519, \"median\": 61.5, \"density\": 0.0002212878955521133}, {\"genre\": \"Rap\", \"popularity\": 46, \"count_x\": 15, \"count_y\": 4519, \"median\": 61.5, \"density\": 0.0033193184332816995}, {\"genre\": \"Rap\", \"popularity\": 47, \"count_x\": 41, \"count_y\": 4519, \"median\": 61.5, \"density\": 0.009072803717636645}, {\"genre\": \"Rap\", \"popularity\": 48, \"count_x\": 80, \"count_y\": 4519, \"median\": 61.5, \"density\": 0.017703031644169063}, {\"genre\": \"Rap\", \"popularity\": 49, \"count_x\": 163, \"count_y\": 4519, \"median\": 61.5, \"density\": 0.03606992697499447}, {\"genre\": \"Rap\", \"popularity\": 50, \"count_x\": 225, \"count_y\": 4519, \"median\": 61.5, \"density\": 0.049789776499225495}, {\"genre\": \"Rap\", \"popularity\": 51, \"count_x\": 294, \"count_y\": 4519, \"median\": 61.5, \"density\": 0.0650586412923213}, {\"genre\": \"Rap\", \"popularity\": 52, \"count_x\": 340, \"count_y\": 4519, \"median\": 61.5, \"density\": 0.07523788448771852}, {\"genre\": \"Rap\", \"popularity\": 53, \"count_x\": 343, \"count_y\": 4519, \"median\": 61.5, \"density\": 0.07590174817437487}, {\"genre\": \"Rap\", \"popularity\": 54, \"count_x\": 361, \"count_y\": 4519, \"median\": 61.5, \"density\": 0.0798849302943129}, {\"genre\": \"Rap\", \"popularity\": 55, \"count_x\": 364, \"count_y\": 4519, \"median\": 61.5, \"density\": 0.08054879398096924}, {\"genre\": \"Rap\", \"popularity\": 56, \"count_x\": 329, \"count_y\": 4519, \"median\": 61.5, \"density\": 0.07280371763664528}, {\"genre\": \"Rap\", \"popularity\": 44, \"count_x\": 2, \"count_y\": 4519, \"median\": 61.5, \"density\": 0.0004425757911042266}, {\"genre\": \"Rap\", \"popularity\": 87, \"count_x\": 4, \"count_y\": 4519, \"median\": 61.5, \"density\": 0.0008851515822084533}, {\"genre\": \"Rap\", \"popularity\": 57, \"count_x\": 276, \"count_y\": 4519, \"median\": 61.5, \"density\": 0.06107545917238327}, {\"genre\": \"Rap\", \"popularity\": 89, \"count_x\": 2, \"count_y\": 4519, \"median\": 61.5, \"density\": 0.0004425757911042266}, {\"genre\": \"Hip-Hop\", \"popularity\": 61, \"count_x\": 40, \"count_y\": 2285, \"median\": 61.5, \"density\": 0.0175054704595186}, {\"genre\": \"Hip-Hop\", \"popularity\": 60, \"count_x\": 48, \"count_y\": 2285, \"median\": 61.5, \"density\": 0.02100656455142232}, {\"genre\": \"Hip-Hop\", \"popularity\": 59, \"count_x\": 45, \"count_y\": 2285, \"median\": 61.5, \"density\": 0.019693654266958426}, {\"genre\": \"Hip-Hop\", \"popularity\": 58, \"count_x\": 57, \"count_y\": 2285, \"median\": 61.5, \"density\": 0.024945295404814005}, {\"genre\": \"Hip-Hop\", \"popularity\": 57, \"count_x\": 56, \"count_y\": 2285, \"median\": 61.5, \"density\": 0.02450765864332604}, {\"genre\": \"Hip-Hop\", \"popularity\": 56, \"count_x\": 76, \"count_y\": 2285, \"median\": 61.5, \"density\": 0.03326039387308534}, {\"genre\": \"Hip-Hop\", \"popularity\": 55, \"count_x\": 70, \"count_y\": 2285, \"median\": 61.5, \"density\": 0.030634573304157548}, {\"genre\": \"Hip-Hop\", \"popularity\": 54, \"count_x\": 103, \"count_y\": 2285, \"median\": 61.5, \"density\": 0.045076586433260395}, {\"genre\": \"Hip-Hop\", \"popularity\": 53, \"count_x\": 119, \"count_y\": 2285, \"median\": 61.5, \"density\": 0.052078774617067836}, {\"genre\": \"Hip-Hop\", \"popularity\": 52, \"count_x\": 191, \"count_y\": 2285, \"median\": 61.5, \"density\": 0.08358862144420132}, {\"genre\": \"Hip-Hop\", \"popularity\": 51, \"count_x\": 176, \"count_y\": 2285, \"median\": 61.5, \"density\": 0.07702407002188184}, {\"genre\": \"Hip-Hop\", \"popularity\": 50, \"count_x\": 257, \"count_y\": 2285, \"median\": 61.5, \"density\": 0.112472647702407}, {\"genre\": \"Hip-Hop\", \"popularity\": 62, \"count_x\": 44, \"count_y\": 2285, \"median\": 61.5, \"density\": 0.01925601750547046}, {\"genre\": \"Hip-Hop\", \"popularity\": 49, \"count_x\": 223, \"count_y\": 2285, \"median\": 61.5, \"density\": 0.0975929978118162}, {\"genre\": \"Hip-Hop\", \"popularity\": 47, \"count_x\": 151, \"count_y\": 2285, \"median\": 61.5, \"density\": 0.06608315098468272}, {\"genre\": \"Hip-Hop\", \"popularity\": 46, \"count_x\": 56, \"count_y\": 2285, \"median\": 61.5, \"density\": 0.02450765864332604}, {\"genre\": \"Hip-Hop\", \"popularity\": 45, \"count_x\": 19, \"count_y\": 2285, \"median\": 61.5, \"density\": 0.008315098468271335}, {\"genre\": \"Hip-Hop\", \"popularity\": 44, \"count_x\": 9, \"count_y\": 2285, \"median\": 61.5, \"density\": 0.003938730853391685}, {\"genre\": \"Hip-Hop\", \"popularity\": 43, \"count_x\": 1, \"count_y\": 2285, \"median\": 61.5, \"density\": 0.000437636761487965}, {\"genre\": \"Hip-Hop\", \"popularity\": 42, \"count_x\": 5, \"count_y\": 2285, \"median\": 61.5, \"density\": 0.002188183807439825}, {\"genre\": \"Hip-Hop\", \"popularity\": 41, \"count_x\": 7, \"count_y\": 2285, \"median\": 61.5, \"density\": 0.003063457330415755}, {\"genre\": \"Hip-Hop\", \"popularity\": 40, \"count_x\": 1, \"count_y\": 2285, \"median\": 61.5, \"density\": 0.000437636761487965}, {\"genre\": \"Hip-Hop\", \"popularity\": 39, \"count_x\": 1, \"count_y\": 2285, \"median\": 61.5, \"density\": 0.000437636761487965}, {\"genre\": \"Hip-Hop\", \"popularity\": 38, \"count_x\": 3, \"count_y\": 2285, \"median\": 61.5, \"density\": 0.001312910284463895}, {\"genre\": \"Hip-Hop\", \"popularity\": 36, \"count_x\": 3, \"count_y\": 2285, \"median\": 61.5, \"density\": 0.001312910284463895}, {\"genre\": \"Rap\", \"popularity\": 88, \"count_x\": 4, \"count_y\": 4519, \"median\": 61.5, \"density\": 0.0008851515822084533}, {\"genre\": \"Hip-Hop\", \"popularity\": 48, \"count_x\": 189, \"count_y\": 2285, \"median\": 61.5, \"density\": 0.08271334792122538}, {\"genre\": \"Hip-Hop\", \"popularity\": 63, \"count_x\": 47, \"count_y\": 2285, \"median\": 61.5, \"density\": 0.020568927789934355}, {\"genre\": \"Rap\", \"popularity\": 22, \"count_x\": 2, \"count_y\": 4519, \"median\": 61.5, \"density\": 0.0004425757911042266}, {\"genre\": \"Hip-Hop\", \"popularity\": 65, \"count_x\": 36, \"count_y\": 2285, \"median\": 61.5, \"density\": 0.01575492341356674}, {\"genre\": \"Hip-Hop\", \"popularity\": 64, \"count_x\": 44, \"count_y\": 2285, \"median\": 61.5, \"density\": 0.01925601750547046}, {\"genre\": \"Rap\", \"popularity\": 90, \"count_x\": 2, \"count_y\": 4519, \"median\": 61.5, \"density\": 0.0004425757911042266}, {\"genre\": \"Rap\", \"popularity\": 91, \"count_x\": 4, \"count_y\": 4519, \"median\": 61.5, \"density\": 0.0008851515822084533}, {\"genre\": \"Rap\", \"popularity\": 92, \"count_x\": 2, \"count_y\": 4519, \"median\": 61.5, \"density\": 0.0004425757911042266}, {\"genre\": \"Rap\", \"popularity\": 93, \"count_x\": 1, \"count_y\": 4519, \"median\": 61.5, \"density\": 0.0002212878955521133}, {\"genre\": \"Hip-Hop\", \"popularity\": 95, \"count_x\": 1, \"count_y\": 2285, \"median\": 61.5, \"density\": 0.000437636761487965}, {\"genre\": \"Hip-Hop\", \"popularity\": 90, \"count_x\": 1, \"count_y\": 2285, \"median\": 61.5, \"density\": 0.000437636761487965}, {\"genre\": \"Hip-Hop\", \"popularity\": 85, \"count_x\": 1, \"count_y\": 2285, \"median\": 61.5, \"density\": 0.000437636761487965}, {\"genre\": \"Hip-Hop\", \"popularity\": 84, \"count_x\": 2, \"count_y\": 2285, \"median\": 61.5, \"density\": 0.00087527352297593}, {\"genre\": \"Hip-Hop\", \"popularity\": 83, \"count_x\": 1, \"count_y\": 2285, \"median\": 61.5, \"density\": 0.000437636761487965}, {\"genre\": \"Hip-Hop\", \"popularity\": 82, \"count_x\": 5, \"count_y\": 2285, \"median\": 61.5, \"density\": 0.002188183807439825}, {\"genre\": \"Hip-Hop\", \"popularity\": 81, \"count_x\": 3, \"count_y\": 2285, \"median\": 61.5, \"density\": 0.001312910284463895}, {\"genre\": \"Hip-Hop\", \"popularity\": 80, \"count_x\": 3, \"count_y\": 2285, \"median\": 61.5, \"density\": 0.001312910284463895}, {\"genre\": \"Hip-Hop\", \"popularity\": 87, \"count_x\": 1, \"count_y\": 2285, \"median\": 61.5, \"density\": 0.000437636761487965}, {\"genre\": \"Hip-Hop\", \"popularity\": 78, \"count_x\": 1, \"count_y\": 2285, \"median\": 61.5, \"density\": 0.000437636761487965}, {\"genre\": \"Hip-Hop\", \"popularity\": 67, \"count_x\": 29, \"count_y\": 2285, \"median\": 61.5, \"density\": 0.012691466083150985}, {\"genre\": \"Hip-Hop\", \"popularity\": 79, \"count_x\": 3, \"count_y\": 2285, \"median\": 61.5, \"density\": 0.001312910284463895}, {\"genre\": \"Hip-Hop\", \"popularity\": 66, \"count_x\": 35, \"count_y\": 2285, \"median\": 61.5, \"density\": 0.015317286652078774}, {\"genre\": \"Hip-Hop\", \"popularity\": 68, \"count_x\": 23, \"count_y\": 2285, \"median\": 61.5, \"density\": 0.010065645514223195}, {\"genre\": \"Hip-Hop\", \"popularity\": 69, \"count_x\": 22, \"count_y\": 2285, \"median\": 61.5, \"density\": 0.00962800875273523}, {\"genre\": \"Hip-Hop\", \"popularity\": 71, \"count_x\": 12, \"count_y\": 2285, \"median\": 61.5, \"density\": 0.00525164113785558}, {\"genre\": \"Hip-Hop\", \"popularity\": 70, \"count_x\": 20, \"count_y\": 2285, \"median\": 61.5, \"density\": 0.0087527352297593}, {\"genre\": \"Hip-Hop\", \"popularity\": 74, \"count_x\": 4, \"count_y\": 2285, \"median\": 61.5, \"density\": 0.00175054704595186}, {\"genre\": \"Hip-Hop\", \"popularity\": 75, \"count_x\": 3, \"count_y\": 2285, \"median\": 61.5, \"density\": 0.001312910284463895}, {\"genre\": \"Hip-Hop\", \"popularity\": 76, \"count_x\": 4, \"count_y\": 2285, \"median\": 61.5, \"density\": 0.00175054704595186}, {\"genre\": \"Hip-Hop\", \"popularity\": 77, \"count_x\": 5, \"count_y\": 2285, \"median\": 61.5, \"density\": 0.002188183807439825}, {\"genre\": \"Hip-Hop\", \"popularity\": 72, \"count_x\": 16, \"count_y\": 2285, \"median\": 61.5, \"density\": 0.00700218818380744}, {\"genre\": \"Pop\", \"popularity\": 59, \"count_x\": 217, \"count_y\": 6021, \"median\": 70.0, \"density\": 0.0360405248297625}, {\"genre\": \"Pop\", \"popularity\": 56, \"count_x\": 75, \"count_y\": 6021, \"median\": 70.0, \"density\": 0.01245640259093174}, {\"genre\": \"Pop\", \"popularity\": 57, \"count_x\": 110, \"count_y\": 6021, \"median\": 70.0, \"density\": 0.018269390466699884}, {\"genre\": \"Pop\", \"popularity\": 58, \"count_x\": 179, \"count_y\": 6021, \"median\": 70.0, \"density\": 0.029729280850357084}, {\"genre\": \"Pop\", \"popularity\": 60, \"count_x\": 308, \"count_y\": 6021, \"median\": 70.0, \"density\": 0.05115429330675968}, {\"genre\": \"Pop\", \"popularity\": 65, \"count_x\": 355, \"count_y\": 6021, \"median\": 70.0, \"density\": 0.0589603055970769}, {\"genre\": \"Pop\", \"popularity\": 62, \"count_x\": 387, \"count_y\": 6021, \"median\": 70.0, \"density\": 0.06427503736920777}, {\"genre\": \"Pop\", \"popularity\": 63, \"count_x\": 357, \"count_y\": 6021, \"median\": 70.0, \"density\": 0.059292476332835076}, {\"genre\": \"Pop\", \"popularity\": 64, \"count_x\": 355, \"count_y\": 6021, \"median\": 70.0, \"density\": 0.0589603055970769}, {\"genre\": \"Pop\", \"popularity\": 66, \"count_x\": 360, \"count_y\": 6021, \"median\": 70.0, \"density\": 0.059790732436472344}, {\"genre\": \"Pop\", \"popularity\": 55, \"count_x\": 37, \"count_y\": 6021, \"median\": 70.0, \"density\": 0.006145158611526325}, {\"genre\": \"Pop\", \"popularity\": 61, \"count_x\": 309, \"count_y\": 6021, \"median\": 70.0, \"density\": 0.05132037867463876}, {\"genre\": \"Pop\", \"popularity\": 54, \"count_x\": 20, \"count_y\": 6021, \"median\": 70.0, \"density\": 0.003321707357581797}, {\"genre\": \"Pop\", \"popularity\": 22, \"count_x\": 1, \"count_y\": 6021, \"median\": 70.0, \"density\": 0.00016608536787908985}, {\"genre\": \"Pop\", \"popularity\": 52, \"count_x\": 1, \"count_y\": 6021, \"median\": 70.0, \"density\": 0.00016608536787908985}, {\"genre\": \"Pop\", \"popularity\": 51, \"count_x\": 2, \"count_y\": 6021, \"median\": 70.0, \"density\": 0.0003321707357581797}, {\"genre\": \"Pop\", \"popularity\": 49, \"count_x\": 2, \"count_y\": 6021, \"median\": 70.0, \"density\": 0.0003321707357581797}, {\"genre\": \"Pop\", \"popularity\": 48, \"count_x\": 3, \"count_y\": 6021, \"median\": 70.0, \"density\": 0.0004982561036372695}, {\"genre\": \"Pop\", \"popularity\": 47, \"count_x\": 1, \"count_y\": 6021, \"median\": 70.0, \"density\": 0.00016608536787908985}, {\"genre\": \"Pop\", \"popularity\": 38, \"count_x\": 2, \"count_y\": 6021, \"median\": 70.0, \"density\": 0.0003321707357581797}, {\"genre\": \"Pop\", \"popularity\": 30, \"count_x\": 1, \"count_y\": 6021, \"median\": 70.0, \"density\": 0.00016608536787908985}, {\"genre\": \"Pop\", \"popularity\": 28, \"count_x\": 1, \"count_y\": 6021, \"median\": 70.0, \"density\": 0.00016608536787908985}, {\"genre\": \"Pop\", \"popularity\": 26, \"count_x\": 1, \"count_y\": 6021, \"median\": 70.0, \"density\": 0.00016608536787908985}, {\"genre\": \"Pop\", \"popularity\": 23, \"count_x\": 1, \"count_y\": 6021, \"median\": 70.0, \"density\": 0.00016608536787908985}, {\"genre\": \"Pop\", \"popularity\": 67, \"count_x\": 318, \"count_y\": 6021, \"median\": 70.0, \"density\": 0.05281514698555057}, {\"genre\": \"Pop\", \"popularity\": 20, \"count_x\": 1, \"count_y\": 6021, \"median\": 70.0, \"density\": 0.00016608536787908985}, {\"genre\": \"Pop\", \"popularity\": 3, \"count_x\": 1, \"count_y\": 6021, \"median\": 70.0, \"density\": 0.00016608536787908985}, {\"genre\": \"Pop\", \"popularity\": 53, \"count_x\": 5, \"count_y\": 6021, \"median\": 70.0, \"density\": 0.0008304268393954493}, {\"genre\": \"Pop\", \"popularity\": 68, \"count_x\": 281, \"count_y\": 6021, \"median\": 70.0, \"density\": 0.04666998837402425}, {\"genre\": \"Pop\", \"popularity\": 82, \"count_x\": 47, \"count_y\": 6021, \"median\": 70.0, \"density\": 0.007806012290317223}, {\"genre\": \"Pop\", \"popularity\": 70, \"count_x\": 267, \"count_y\": 6021, \"median\": 70.0, \"density\": 0.04434479322371699}, {\"genre\": \"Pop\", \"popularity\": 100, \"count_x\": 1, \"count_y\": 6021, \"median\": 70.0, \"density\": 0.00016608536787908985}, {\"genre\": \"Pop\", \"popularity\": 99, \"count_x\": 2, \"count_y\": 6021, \"median\": 70.0, \"density\": 0.0003321707357581797}, {\"genre\": \"Pop\", \"popularity\": 98, \"count_x\": 1, \"count_y\": 6021, \"median\": 70.0, \"density\": 0.00016608536787908985}, {\"genre\": \"Pop\", \"popularity\": 96, \"count_x\": 3, \"count_y\": 6021, \"median\": 70.0, \"density\": 0.0004982561036372695}, {\"genre\": \"Pop\", \"popularity\": 95, \"count_x\": 3, \"count_y\": 6021, \"median\": 70.0, \"density\": 0.0004982561036372695}, {\"genre\": \"Pop\", \"popularity\": 94, \"count_x\": 5, \"count_y\": 6021, \"median\": 70.0, \"density\": 0.0008304268393954493}, {\"genre\": \"Pop\", \"popularity\": 93, \"count_x\": 4, \"count_y\": 6021, \"median\": 70.0, \"density\": 0.0006643414715163594}, {\"genre\": \"Pop\", \"popularity\": 92, \"count_x\": 8, \"count_y\": 6021, \"median\": 70.0, \"density\": 0.0013286829430327188}, {\"genre\": \"Pop\", \"popularity\": 91, \"count_x\": 12, \"count_y\": 6021, \"median\": 70.0, \"density\": 0.001993024414549078}, {\"genre\": \"Pop\", \"popularity\": 90, \"count_x\": 7, \"count_y\": 6021, \"median\": 70.0, \"density\": 0.001162597575153629}, {\"genre\": \"Pop\", \"popularity\": 89, \"count_x\": 10, \"count_y\": 6021, \"median\": 70.0, \"density\": 0.0016608536787908986}, {\"genre\": \"Pop\", \"popularity\": 88, \"count_x\": 18, \"count_y\": 6021, \"median\": 70.0, \"density\": 0.0029895366218236174}, {\"genre\": \"Pop\", \"popularity\": 87, \"count_x\": 24, \"count_y\": 6021, \"median\": 70.0, \"density\": 0.003986048829098156}, {\"genre\": \"Pop\", \"popularity\": 69, \"count_x\": 277, \"count_y\": 6021, \"median\": 70.0, \"density\": 0.04600564690250789}, {\"genre\": \"Pop\", \"popularity\": 86, \"count_x\": 33, \"count_y\": 6021, \"median\": 70.0, \"density\": 0.005480817140009965}, {\"genre\": \"Pop\", \"popularity\": 84, \"count_x\": 42, \"count_y\": 6021, \"median\": 70.0, \"density\": 0.006975585450921774}, {\"genre\": \"Pop\", \"popularity\": 83, \"count_x\": 40, \"count_y\": 6021, \"median\": 70.0, \"density\": 0.006643414715163594}, {\"genre\": \"Pop\", \"popularity\": 81, \"count_x\": 52, \"count_y\": 6021, \"median\": 70.0, \"density\": 0.008636439129712672}, {\"genre\": \"Pop\", \"popularity\": 80, \"count_x\": 77, \"count_y\": 6021, \"median\": 70.0, \"density\": 0.01278857332668992}, {\"genre\": \"Pop\", \"popularity\": 79, \"count_x\": 87, \"count_y\": 6021, \"median\": 70.0, \"density\": 0.014449427005480818}, {\"genre\": \"Pop\", \"popularity\": 78, \"count_x\": 96, \"count_y\": 6021, \"median\": 70.0, \"density\": 0.015944195316392625}, {\"genre\": \"Pop\", \"popularity\": 77, \"count_x\": 123, \"count_y\": 6021, \"median\": 70.0, \"density\": 0.02042850024912805}, {\"genre\": \"Pop\", \"popularity\": 76, \"count_x\": 128, \"count_y\": 6021, \"median\": 70.0, \"density\": 0.0212589270885235}, {\"genre\": \"Pop\", \"popularity\": 75, \"count_x\": 125, \"count_y\": 6021, \"median\": 70.0, \"density\": 0.02076067098488623}, {\"genre\": \"Pop\", \"popularity\": 74, \"count_x\": 178, \"count_y\": 6021, \"median\": 70.0, \"density\": 0.029563195482477992}, {\"genre\": \"Pop\", \"popularity\": 73, \"count_x\": 210, \"count_y\": 6021, \"median\": 70.0, \"density\": 0.03487792725460887}, {\"genre\": \"Pop\", \"popularity\": 72, \"count_x\": 180, \"count_y\": 6021, \"median\": 70.0, \"density\": 0.029895366218236172}, {\"genre\": \"Pop\", \"popularity\": 71, \"count_x\": 229, \"count_y\": 6021, \"median\": 70.0, \"density\": 0.03803354924431158}, {\"genre\": \"Pop\", \"popularity\": 85, \"count_x\": 35, \"count_y\": 6021, \"median\": 70.0, \"density\": 0.005812987875768145}, {\"genre\": \"Pop\", \"popularity\": 97, \"count_x\": 6, \"count_y\": 6021, \"median\": 70.0, \"density\": 0.000996512207274539}]}}, {\"mode\": \"vega-lite\"});\n",
       "</script>"
      ],
      "text/plain": [
       "alt.FacetChart(...)"
      ]
     },
     "execution_count": 112,
     "metadata": {},
     "output_type": "execute_result"
    }
   ],
   "source": [
    "dense = alt.Chart(songs_merge).mark_bar().encode(\n",
    "    alt.X(\"popularity\", bin=alt.Bin(maxbins=25)),\n",
    "    y='density',\n",
    ").properties(\n",
    "    width=160,\n",
    "    height=160).facet(\n",
    "    facet='genre', columns = 4\n",
    ").resolve_axis(\n",
    "    x='independent',\n",
    "    y='independent',\n",
    ")\n",
    "\n",
    "dense"
   ]
  },
  {
   "cell_type": "code",
   "execution_count": 113,
   "metadata": {},
   "outputs": [
    {
     "data": {
      "application/vnd.plotly.v1+json": {
       "config": {
        "plotlyServerURL": "https://plot.ly"
       },
       "data": [
        {
         "alignmentgroup": "True",
         "hovertemplate": "genre=%{y}<br>popularity=%{x}<extra></extra>",
         "legendgroup": "A Capella",
         "marker": {
          "color": "#636efa"
         },
         "name": "A Capella",
         "notched": false,
         "offsetgroup": "A Capella",
         "orientation": "h",
         "showlegend": true,
         "type": "box",
         "x": [
          0,
          44,
          33,
          25,
          24,
          23,
          22,
          20,
          19,
          18,
          17,
          16,
          15,
          14,
          26,
          12,
          13,
          1,
          3,
          4,
          5,
          2,
          7,
          8,
          9,
          10,
          11,
          6
         ],
         "x0": " ",
         "xaxis": "x",
         "y": [
          "A Capella",
          "A Capella",
          "A Capella",
          "A Capella",
          "A Capella",
          "A Capella",
          "A Capella",
          "A Capella",
          "A Capella",
          "A Capella",
          "A Capella",
          "A Capella",
          "A Capella",
          "A Capella",
          "A Capella",
          "A Capella",
          "A Capella",
          "A Capella",
          "A Capella",
          "A Capella",
          "A Capella",
          "A Capella",
          "A Capella",
          "A Capella",
          "A Capella",
          "A Capella",
          "A Capella",
          "A Capella"
         ],
         "y0": " ",
         "yaxis": "y"
        },
        {
         "alignmentgroup": "True",
         "hovertemplate": "genre=%{y}<br>popularity=%{x}<extra></extra>",
         "legendgroup": "Opera",
         "marker": {
          "color": "#EF553B"
         },
         "name": "Opera",
         "notched": false,
         "offsetgroup": "Opera",
         "orientation": "h",
         "showlegend": true,
         "type": "box",
         "x": [
          26,
          34,
          27,
          28,
          29,
          30,
          31,
          32,
          33,
          35,
          42,
          37,
          38,
          39,
          40,
          41,
          43,
          44,
          45,
          48,
          25,
          36,
          24,
          10,
          22,
          0,
          1,
          2,
          3,
          4,
          5,
          6,
          7,
          8,
          9,
          23,
          49,
          12,
          13,
          14,
          15,
          16,
          17,
          18,
          19,
          20,
          21,
          11
         ],
         "x0": " ",
         "xaxis": "x",
         "y": [
          "Opera",
          "Opera",
          "Opera",
          "Opera",
          "Opera",
          "Opera",
          "Opera",
          "Opera",
          "Opera",
          "Opera",
          "Opera",
          "Opera",
          "Opera",
          "Opera",
          "Opera",
          "Opera",
          "Opera",
          "Opera",
          "Opera",
          "Opera",
          "Opera",
          "Opera",
          "Opera",
          "Opera",
          "Opera",
          "Opera",
          "Opera",
          "Opera",
          "Opera",
          "Opera",
          "Opera",
          "Opera",
          "Opera",
          "Opera",
          "Opera",
          "Opera",
          "Opera",
          "Opera",
          "Opera",
          "Opera",
          "Opera",
          "Opera",
          "Opera",
          "Opera",
          "Opera",
          "Opera",
          "Opera",
          "Opera"
         ],
         "y0": " ",
         "yaxis": "y"
        },
        {
         "alignmentgroup": "True",
         "hovertemplate": "genre=%{y}<br>popularity=%{x}<extra></extra>",
         "legendgroup": "Comedy",
         "marker": {
          "color": "#00cc96"
         },
         "name": "Comedy",
         "notched": false,
         "offsetgroup": "Comedy",
         "orientation": "h",
         "showlegend": true,
         "type": "box",
         "x": [
          0,
          12,
          25,
          18,
          19,
          20,
          21,
          22,
          23,
          24,
          8,
          26,
          27,
          28,
          29,
          30,
          31,
          32,
          33,
          34,
          35,
          36,
          37,
          38,
          17,
          39,
          16,
          14,
          56,
          55,
          54,
          53,
          52,
          51,
          50,
          49,
          48,
          15,
          47,
          45,
          44,
          43,
          42,
          9,
          10,
          11,
          41,
          13,
          46,
          40
         ],
         "x0": " ",
         "xaxis": "x",
         "y": [
          "Comedy",
          "Comedy",
          "Comedy",
          "Comedy",
          "Comedy",
          "Comedy",
          "Comedy",
          "Comedy",
          "Comedy",
          "Comedy",
          "Comedy",
          "Comedy",
          "Comedy",
          "Comedy",
          "Comedy",
          "Comedy",
          "Comedy",
          "Comedy",
          "Comedy",
          "Comedy",
          "Comedy",
          "Comedy",
          "Comedy",
          "Comedy",
          "Comedy",
          "Comedy",
          "Comedy",
          "Comedy",
          "Comedy",
          "Comedy",
          "Comedy",
          "Comedy",
          "Comedy",
          "Comedy",
          "Comedy",
          "Comedy",
          "Comedy",
          "Comedy",
          "Comedy",
          "Comedy",
          "Comedy",
          "Comedy",
          "Comedy",
          "Comedy",
          "Comedy",
          "Comedy",
          "Comedy",
          "Comedy",
          "Comedy",
          "Comedy"
         ],
         "y0": " ",
         "yaxis": "y"
        },
        {
         "alignmentgroup": "True",
         "hovertemplate": "genre=%{y}<br>popularity=%{x}<extra></extra>",
         "legendgroup": "Classical",
         "marker": {
          "color": "#ab63fa"
         },
         "name": "Classical",
         "notched": false,
         "offsetgroup": "Classical",
         "orientation": "h",
         "showlegend": true,
         "type": "box",
         "x": [
          45,
          28,
          44,
          29,
          30,
          31,
          32,
          33,
          34,
          35,
          36,
          37,
          38,
          39,
          40,
          41,
          42,
          43,
          46,
          47,
          63,
          49,
          69,
          68,
          66,
          65,
          64,
          27,
          62,
          61,
          48,
          59,
          57,
          56,
          55,
          54,
          53,
          52,
          51,
          50,
          58,
          26,
          60,
          24,
          0,
          1,
          2,
          3,
          4,
          5,
          6,
          7,
          8,
          9,
          10,
          11,
          25,
          13,
          23,
          22,
          21,
          20,
          19,
          12,
          17,
          16,
          15,
          14,
          18
         ],
         "x0": " ",
         "xaxis": "x",
         "y": [
          "Classical",
          "Classical",
          "Classical",
          "Classical",
          "Classical",
          "Classical",
          "Classical",
          "Classical",
          "Classical",
          "Classical",
          "Classical",
          "Classical",
          "Classical",
          "Classical",
          "Classical",
          "Classical",
          "Classical",
          "Classical",
          "Classical",
          "Classical",
          "Classical",
          "Classical",
          "Classical",
          "Classical",
          "Classical",
          "Classical",
          "Classical",
          "Classical",
          "Classical",
          "Classical",
          "Classical",
          "Classical",
          "Classical",
          "Classical",
          "Classical",
          "Classical",
          "Classical",
          "Classical",
          "Classical",
          "Classical",
          "Classical",
          "Classical",
          "Classical",
          "Classical",
          "Classical",
          "Classical",
          "Classical",
          "Classical",
          "Classical",
          "Classical",
          "Classical",
          "Classical",
          "Classical",
          "Classical",
          "Classical",
          "Classical",
          "Classical",
          "Classical",
          "Classical",
          "Classical",
          "Classical",
          "Classical",
          "Classical",
          "Classical",
          "Classical",
          "Classical",
          "Classical",
          "Classical",
          "Classical"
         ],
         "y0": " ",
         "yaxis": "y"
        },
        {
         "alignmentgroup": "True",
         "hovertemplate": "genre=%{y}<br>popularity=%{x}<extra></extra>",
         "legendgroup": "Jazz",
         "marker": {
          "color": "#FFA15A"
         },
         "name": "Jazz",
         "notched": false,
         "offsetgroup": "Jazz",
         "orientation": "h",
         "showlegend": true,
         "type": "box",
         "x": [
          51,
          50,
          49,
          48,
          47,
          46,
          43,
          44,
          42,
          41,
          52,
          40,
          39,
          45,
          53,
          58,
          55,
          69,
          68,
          67,
          66,
          65,
          64,
          54,
          63,
          61,
          60,
          59,
          38,
          57,
          56,
          62,
          37,
          31,
          35,
          15,
          14,
          13,
          12,
          11,
          10,
          16,
          9,
          7,
          6,
          5,
          4,
          3,
          2,
          8,
          36,
          17,
          19,
          34,
          33,
          32,
          30,
          29,
          28,
          18,
          27,
          25,
          72,
          23,
          22,
          21,
          20,
          26,
          24,
          0,
          1
         ],
         "x0": " ",
         "xaxis": "x",
         "y": [
          "Jazz",
          "Jazz",
          "Jazz",
          "Jazz",
          "Jazz",
          "Jazz",
          "Jazz",
          "Jazz",
          "Jazz",
          "Jazz",
          "Jazz",
          "Jazz",
          "Jazz",
          "Jazz",
          "Jazz",
          "Jazz",
          "Jazz",
          "Jazz",
          "Jazz",
          "Jazz",
          "Jazz",
          "Jazz",
          "Jazz",
          "Jazz",
          "Jazz",
          "Jazz",
          "Jazz",
          "Jazz",
          "Jazz",
          "Jazz",
          "Jazz",
          "Jazz",
          "Jazz",
          "Jazz",
          "Jazz",
          "Jazz",
          "Jazz",
          "Jazz",
          "Jazz",
          "Jazz",
          "Jazz",
          "Jazz",
          "Jazz",
          "Jazz",
          "Jazz",
          "Jazz",
          "Jazz",
          "Jazz",
          "Jazz",
          "Jazz",
          "Jazz",
          "Jazz",
          "Jazz",
          "Jazz",
          "Jazz",
          "Jazz",
          "Jazz",
          "Jazz",
          "Jazz",
          "Jazz",
          "Jazz",
          "Jazz",
          "Jazz",
          "Jazz",
          "Jazz",
          "Jazz",
          "Jazz",
          "Jazz",
          "Jazz",
          "Jazz",
          "Jazz"
         ],
         "y0": " ",
         "yaxis": "y"
        },
        {
         "alignmentgroup": "True",
         "hovertemplate": "genre=%{y}<br>popularity=%{x}<extra></extra>",
         "legendgroup": "Soundtrack",
         "marker": {
          "color": "#19d3f3"
         },
         "name": "Soundtrack",
         "notched": false,
         "offsetgroup": "Soundtrack",
         "orientation": "h",
         "showlegend": true,
         "type": "box",
         "x": [
          35,
          49,
          48,
          47,
          46,
          45,
          50,
          44,
          42,
          41,
          40,
          39,
          38,
          37,
          43,
          51,
          52,
          53,
          54,
          55,
          56,
          57,
          58,
          59,
          60,
          61,
          62,
          63,
          64,
          65,
          66,
          36,
          72,
          34,
          33,
          0,
          1,
          2,
          3,
          4,
          5,
          6,
          7,
          8,
          10,
          11,
          12,
          13,
          14,
          67,
          15,
          19,
          20,
          21,
          22,
          23,
          24,
          25,
          26,
          27,
          28,
          29,
          30,
          31,
          32,
          18,
          68
         ],
         "x0": " ",
         "xaxis": "x",
         "y": [
          "Soundtrack",
          "Soundtrack",
          "Soundtrack",
          "Soundtrack",
          "Soundtrack",
          "Soundtrack",
          "Soundtrack",
          "Soundtrack",
          "Soundtrack",
          "Soundtrack",
          "Soundtrack",
          "Soundtrack",
          "Soundtrack",
          "Soundtrack",
          "Soundtrack",
          "Soundtrack",
          "Soundtrack",
          "Soundtrack",
          "Soundtrack",
          "Soundtrack",
          "Soundtrack",
          "Soundtrack",
          "Soundtrack",
          "Soundtrack",
          "Soundtrack",
          "Soundtrack",
          "Soundtrack",
          "Soundtrack",
          "Soundtrack",
          "Soundtrack",
          "Soundtrack",
          "Soundtrack",
          "Soundtrack",
          "Soundtrack",
          "Soundtrack",
          "Soundtrack",
          "Soundtrack",
          "Soundtrack",
          "Soundtrack",
          "Soundtrack",
          "Soundtrack",
          "Soundtrack",
          "Soundtrack",
          "Soundtrack",
          "Soundtrack",
          "Soundtrack",
          "Soundtrack",
          "Soundtrack",
          "Soundtrack",
          "Soundtrack",
          "Soundtrack",
          "Soundtrack",
          "Soundtrack",
          "Soundtrack",
          "Soundtrack",
          "Soundtrack",
          "Soundtrack",
          "Soundtrack",
          "Soundtrack",
          "Soundtrack",
          "Soundtrack",
          "Soundtrack",
          "Soundtrack",
          "Soundtrack",
          "Soundtrack",
          "Soundtrack",
          "Soundtrack"
         ],
         "y0": " ",
         "yaxis": "y"
        },
        {
         "alignmentgroup": "True",
         "hovertemplate": "genre=%{y}<br>popularity=%{x}<extra></extra>",
         "legendgroup": "Movie",
         "marker": {
          "color": "#FF6692"
         },
         "name": "Movie",
         "notched": false,
         "offsetgroup": "Movie",
         "orientation": "h",
         "showlegend": true,
         "type": "box",
         "x": [
          72,
          82,
          0,
          1,
          52,
          51,
          50,
          76,
          48,
          47,
          53,
          46,
          44,
          43,
          42,
          40,
          39,
          38,
          45,
          37,
          54,
          56,
          71,
          69,
          68,
          67,
          66,
          65,
          55,
          64,
          62,
          61,
          60,
          59,
          58,
          57,
          63,
          74,
          36,
          34,
          15,
          14,
          13,
          12,
          11,
          10,
          16,
          9,
          7,
          6,
          5,
          4,
          3,
          2,
          8,
          35,
          17,
          19,
          33,
          32,
          31,
          30,
          29,
          28,
          18,
          27,
          25,
          24,
          23,
          22,
          21,
          20,
          26,
          49,
          41
         ],
         "x0": " ",
         "xaxis": "x",
         "y": [
          "Movie",
          "Movie",
          "Movie",
          "Movie",
          "Movie",
          "Movie",
          "Movie",
          "Movie",
          "Movie",
          "Movie",
          "Movie",
          "Movie",
          "Movie",
          "Movie",
          "Movie",
          "Movie",
          "Movie",
          "Movie",
          "Movie",
          "Movie",
          "Movie",
          "Movie",
          "Movie",
          "Movie",
          "Movie",
          "Movie",
          "Movie",
          "Movie",
          "Movie",
          "Movie",
          "Movie",
          "Movie",
          "Movie",
          "Movie",
          "Movie",
          "Movie",
          "Movie",
          "Movie",
          "Movie",
          "Movie",
          "Movie",
          "Movie",
          "Movie",
          "Movie",
          "Movie",
          "Movie",
          "Movie",
          "Movie",
          "Movie",
          "Movie",
          "Movie",
          "Movie",
          "Movie",
          "Movie",
          "Movie",
          "Movie",
          "Movie",
          "Movie",
          "Movie",
          "Movie",
          "Movie",
          "Movie",
          "Movie",
          "Movie",
          "Movie",
          "Movie",
          "Movie",
          "Movie",
          "Movie",
          "Movie",
          "Movie",
          "Movie",
          "Movie",
          "Movie",
          "Movie"
         ],
         "y0": " ",
         "yaxis": "y"
        },
        {
         "alignmentgroup": "True",
         "hovertemplate": "genre=%{y}<br>popularity=%{x}<extra></extra>",
         "legendgroup": "Ska",
         "marker": {
          "color": "#B6E880"
         },
         "name": "Ska",
         "notched": false,
         "offsetgroup": "Ska",
         "orientation": "h",
         "showlegend": true,
         "type": "box",
         "x": [
          25,
          41,
          42,
          43,
          44,
          45,
          46,
          47,
          48,
          49,
          50,
          51,
          52,
          53,
          54,
          55,
          56,
          57,
          58,
          59,
          60,
          61,
          62,
          63,
          64,
          65,
          66,
          68,
          40,
          38,
          39,
          21,
          10,
          11,
          12,
          13,
          14,
          15,
          16,
          17,
          18,
          19,
          20,
          37,
          5,
          22,
          24,
          26,
          27,
          28,
          29,
          30,
          31,
          32,
          33,
          34,
          35,
          36,
          23
         ],
         "x0": " ",
         "xaxis": "x",
         "y": [
          "Ska",
          "Ska",
          "Ska",
          "Ska",
          "Ska",
          "Ska",
          "Ska",
          "Ska",
          "Ska",
          "Ska",
          "Ska",
          "Ska",
          "Ska",
          "Ska",
          "Ska",
          "Ska",
          "Ska",
          "Ska",
          "Ska",
          "Ska",
          "Ska",
          "Ska",
          "Ska",
          "Ska",
          "Ska",
          "Ska",
          "Ska",
          "Ska",
          "Ska",
          "Ska",
          "Ska",
          "Ska",
          "Ska",
          "Ska",
          "Ska",
          "Ska",
          "Ska",
          "Ska",
          "Ska",
          "Ska",
          "Ska",
          "Ska",
          "Ska",
          "Ska",
          "Ska",
          "Ska",
          "Ska",
          "Ska",
          "Ska",
          "Ska",
          "Ska",
          "Ska",
          "Ska",
          "Ska",
          "Ska",
          "Ska",
          "Ska",
          "Ska",
          "Ska"
         ],
         "y0": " ",
         "yaxis": "y"
        },
        {
         "alignmentgroup": "True",
         "hovertemplate": "genre=%{y}<br>popularity=%{x}<extra></extra>",
         "legendgroup": "World",
         "marker": {
          "color": "#FF97FF"
         },
         "name": "World",
         "notched": false,
         "offsetgroup": "World",
         "orientation": "h",
         "showlegend": true,
         "type": "box",
         "x": [
          3,
          4,
          72,
          5,
          76,
          9,
          43,
          44,
          45,
          46,
          47,
          48,
          49,
          50,
          51,
          52,
          53,
          70,
          54,
          42,
          55,
          58,
          59,
          60,
          61,
          62,
          63,
          64,
          65,
          66,
          67,
          68,
          69,
          8,
          56,
          41,
          57,
          39,
          10,
          40,
          11,
          12,
          13,
          14,
          15,
          16,
          18,
          19,
          20,
          21,
          22,
          23,
          17,
          25,
          37,
          24,
          36,
          35,
          34,
          32,
          31,
          33,
          30,
          29,
          28,
          27,
          26,
          38
         ],
         "x0": " ",
         "xaxis": "x",
         "y": [
          "World",
          "World",
          "World",
          "World",
          "World",
          "World",
          "World",
          "World",
          "World",
          "World",
          "World",
          "World",
          "World",
          "World",
          "World",
          "World",
          "World",
          "World",
          "World",
          "World",
          "World",
          "World",
          "World",
          "World",
          "World",
          "World",
          "World",
          "World",
          "World",
          "World",
          "World",
          "World",
          "World",
          "World",
          "World",
          "World",
          "World",
          "World",
          "World",
          "World",
          "World",
          "World",
          "World",
          "World",
          "World",
          "World",
          "World",
          "World",
          "World",
          "World",
          "World",
          "World",
          "World",
          "World",
          "World",
          "World",
          "World",
          "World",
          "World",
          "World",
          "World",
          "World",
          "World",
          "World",
          "World",
          "World",
          "World",
          "World"
         ],
         "y0": " ",
         "yaxis": "y"
        },
        {
         "alignmentgroup": "True",
         "hovertemplate": "genre=%{y}<br>popularity=%{x}<extra></extra>",
         "legendgroup": "Reggae",
         "marker": {
          "color": "#FECB52"
         },
         "name": "Reggae",
         "notched": false,
         "offsetgroup": "Reggae",
         "orientation": "h",
         "showlegend": true,
         "type": "box",
         "x": [
          27,
          23,
          24,
          25,
          26,
          22,
          28,
          34,
          30,
          31,
          32,
          33,
          35,
          21,
          36,
          29,
          20,
          3,
          18,
          37,
          0,
          1,
          2,
          4,
          5,
          6,
          8,
          9,
          10,
          11,
          13,
          14,
          15,
          16,
          19,
          38,
          61,
          40,
          62,
          63,
          64,
          65,
          66,
          67,
          39,
          70,
          71,
          73,
          74,
          75,
          76,
          77,
          78,
          60,
          59,
          68,
          57,
          58,
          41,
          42,
          43,
          44,
          46,
          47,
          48,
          45,
          50,
          51,
          52,
          53,
          54,
          55,
          56,
          49
         ],
         "x0": " ",
         "xaxis": "x",
         "y": [
          "Reggae",
          "Reggae",
          "Reggae",
          "Reggae",
          "Reggae",
          "Reggae",
          "Reggae",
          "Reggae",
          "Reggae",
          "Reggae",
          "Reggae",
          "Reggae",
          "Reggae",
          "Reggae",
          "Reggae",
          "Reggae",
          "Reggae",
          "Reggae",
          "Reggae",
          "Reggae",
          "Reggae",
          "Reggae",
          "Reggae",
          "Reggae",
          "Reggae",
          "Reggae",
          "Reggae",
          "Reggae",
          "Reggae",
          "Reggae",
          "Reggae",
          "Reggae",
          "Reggae",
          "Reggae",
          "Reggae",
          "Reggae",
          "Reggae",
          "Reggae",
          "Reggae",
          "Reggae",
          "Reggae",
          "Reggae",
          "Reggae",
          "Reggae",
          "Reggae",
          "Reggae",
          "Reggae",
          "Reggae",
          "Reggae",
          "Reggae",
          "Reggae",
          "Reggae",
          "Reggae",
          "Reggae",
          "Reggae",
          "Reggae",
          "Reggae",
          "Reggae",
          "Reggae",
          "Reggae",
          "Reggae",
          "Reggae",
          "Reggae",
          "Reggae",
          "Reggae",
          "Reggae",
          "Reggae",
          "Reggae",
          "Reggae",
          "Reggae",
          "Reggae",
          "Reggae",
          "Reggae",
          "Reggae"
         ],
         "y0": " ",
         "yaxis": "y"
        },
        {
         "alignmentgroup": "True",
         "hovertemplate": "genre=%{y}<br>popularity=%{x}<extra></extra>",
         "legendgroup": "Electronic",
         "marker": {
          "color": "#636efa"
         },
         "name": "Electronic",
         "notched": false,
         "offsetgroup": "Electronic",
         "orientation": "h",
         "showlegend": true,
         "type": "box",
         "x": [
          24,
          30,
          29,
          28,
          27,
          26,
          25,
          23,
          31,
          21,
          20,
          19,
          18,
          17,
          3,
          0,
          33,
          22,
          32,
          34,
          35,
          59,
          60,
          61,
          62,
          63,
          64,
          65,
          66,
          58,
          67,
          69,
          70,
          71,
          72,
          73,
          74,
          76,
          79,
          68,
          57,
          36,
          55,
          56,
          37,
          38,
          39,
          40,
          42,
          43,
          44,
          45,
          41,
          47,
          48,
          49,
          50,
          51,
          52,
          53,
          46,
          54
         ],
         "x0": " ",
         "xaxis": "x",
         "y": [
          "Electronic",
          "Electronic",
          "Electronic",
          "Electronic",
          "Electronic",
          "Electronic",
          "Electronic",
          "Electronic",
          "Electronic",
          "Electronic",
          "Electronic",
          "Electronic",
          "Electronic",
          "Electronic",
          "Electronic",
          "Electronic",
          "Electronic",
          "Electronic",
          "Electronic",
          "Electronic",
          "Electronic",
          "Electronic",
          "Electronic",
          "Electronic",
          "Electronic",
          "Electronic",
          "Electronic",
          "Electronic",
          "Electronic",
          "Electronic",
          "Electronic",
          "Electronic",
          "Electronic",
          "Electronic",
          "Electronic",
          "Electronic",
          "Electronic",
          "Electronic",
          "Electronic",
          "Electronic",
          "Electronic",
          "Electronic",
          "Electronic",
          "Electronic",
          "Electronic",
          "Electronic",
          "Electronic",
          "Electronic",
          "Electronic",
          "Electronic",
          "Electronic",
          "Electronic",
          "Electronic",
          "Electronic",
          "Electronic",
          "Electronic",
          "Electronic",
          "Electronic",
          "Electronic",
          "Electronic",
          "Electronic",
          "Electronic"
         ],
         "y0": " ",
         "yaxis": "y"
        },
        {
         "alignmentgroup": "True",
         "hovertemplate": "genre=%{y}<br>popularity=%{x}<extra></extra>",
         "legendgroup": "Reggaeton",
         "marker": {
          "color": "#EF553B"
         },
         "name": "Reggaeton",
         "notched": false,
         "offsetgroup": "Reggaeton",
         "orientation": "h",
         "showlegend": true,
         "type": "box",
         "x": [
          80,
          81,
          82,
          86,
          84,
          85,
          79,
          83,
          78,
          68,
          76,
          75,
          74,
          73,
          72,
          71,
          70,
          69,
          87,
          67,
          77,
          88,
          92,
          51,
          66,
          96,
          95,
          90,
          63,
          28,
          27,
          26,
          25,
          24,
          23,
          22,
          21,
          29,
          20,
          18,
          17,
          16,
          15,
          14,
          13,
          12,
          11,
          19,
          10,
          30,
          32,
          50,
          49,
          48,
          47,
          46,
          45,
          44,
          43,
          31,
          42,
          40,
          39,
          38,
          37,
          36,
          35,
          34,
          33,
          41,
          9,
          8,
          7,
          53,
          55,
          56,
          57,
          58,
          59,
          60,
          61,
          62,
          54,
          5,
          0,
          64,
          65,
          52
         ],
         "x0": " ",
         "xaxis": "x",
         "y": [
          "Reggaeton",
          "Reggaeton",
          "Reggaeton",
          "Reggaeton",
          "Reggaeton",
          "Reggaeton",
          "Reggaeton",
          "Reggaeton",
          "Reggaeton",
          "Reggaeton",
          "Reggaeton",
          "Reggaeton",
          "Reggaeton",
          "Reggaeton",
          "Reggaeton",
          "Reggaeton",
          "Reggaeton",
          "Reggaeton",
          "Reggaeton",
          "Reggaeton",
          "Reggaeton",
          "Reggaeton",
          "Reggaeton",
          "Reggaeton",
          "Reggaeton",
          "Reggaeton",
          "Reggaeton",
          "Reggaeton",
          "Reggaeton",
          "Reggaeton",
          "Reggaeton",
          "Reggaeton",
          "Reggaeton",
          "Reggaeton",
          "Reggaeton",
          "Reggaeton",
          "Reggaeton",
          "Reggaeton",
          "Reggaeton",
          "Reggaeton",
          "Reggaeton",
          "Reggaeton",
          "Reggaeton",
          "Reggaeton",
          "Reggaeton",
          "Reggaeton",
          "Reggaeton",
          "Reggaeton",
          "Reggaeton",
          "Reggaeton",
          "Reggaeton",
          "Reggaeton",
          "Reggaeton",
          "Reggaeton",
          "Reggaeton",
          "Reggaeton",
          "Reggaeton",
          "Reggaeton",
          "Reggaeton",
          "Reggaeton",
          "Reggaeton",
          "Reggaeton",
          "Reggaeton",
          "Reggaeton",
          "Reggaeton",
          "Reggaeton",
          "Reggaeton",
          "Reggaeton",
          "Reggaeton",
          "Reggaeton",
          "Reggaeton",
          "Reggaeton",
          "Reggaeton",
          "Reggaeton",
          "Reggaeton",
          "Reggaeton",
          "Reggaeton",
          "Reggaeton",
          "Reggaeton",
          "Reggaeton",
          "Reggaeton",
          "Reggaeton",
          "Reggaeton",
          "Reggaeton",
          "Reggaeton",
          "Reggaeton",
          "Reggaeton",
          "Reggaeton"
         ],
         "y0": " ",
         "yaxis": "y"
        },
        {
         "alignmentgroup": "True",
         "hovertemplate": "genre=%{y}<br>popularity=%{x}<extra></extra>",
         "legendgroup": "Soul",
         "marker": {
          "color": "#00cc96"
         },
         "name": "Soul",
         "notched": false,
         "offsetgroup": "Soul",
         "orientation": "h",
         "showlegend": true,
         "type": "box",
         "x": [
          47,
          5,
          1,
          36,
          38,
          39,
          40,
          41,
          42,
          43,
          44,
          45,
          46,
          48,
          49,
          50,
          51,
          52,
          0,
          37,
          74,
          75,
          76,
          77,
          78,
          79,
          81,
          73,
          85,
          72,
          71,
          70,
          53,
          54,
          55,
          56,
          57,
          58,
          59,
          60,
          61,
          62,
          63,
          64,
          65,
          66,
          67,
          68,
          69,
          7,
          13,
          18,
          20,
          22,
          25,
          26,
          27,
          12,
          29,
          30,
          31,
          32,
          33,
          34,
          35,
          28
         ],
         "x0": " ",
         "xaxis": "x",
         "y": [
          "Soul",
          "Soul",
          "Soul",
          "Soul",
          "Soul",
          "Soul",
          "Soul",
          "Soul",
          "Soul",
          "Soul",
          "Soul",
          "Soul",
          "Soul",
          "Soul",
          "Soul",
          "Soul",
          "Soul",
          "Soul",
          "Soul",
          "Soul",
          "Soul",
          "Soul",
          "Soul",
          "Soul",
          "Soul",
          "Soul",
          "Soul",
          "Soul",
          "Soul",
          "Soul",
          "Soul",
          "Soul",
          "Soul",
          "Soul",
          "Soul",
          "Soul",
          "Soul",
          "Soul",
          "Soul",
          "Soul",
          "Soul",
          "Soul",
          "Soul",
          "Soul",
          "Soul",
          "Soul",
          "Soul",
          "Soul",
          "Soul",
          "Soul",
          "Soul",
          "Soul",
          "Soul",
          "Soul",
          "Soul",
          "Soul",
          "Soul",
          "Soul",
          "Soul",
          "Soul",
          "Soul",
          "Soul",
          "Soul",
          "Soul",
          "Soul",
          "Soul"
         ],
         "y0": " ",
         "yaxis": "y"
        },
        {
         "alignmentgroup": "True",
         "hovertemplate": "genre=%{y}<br>popularity=%{x}<extra></extra>",
         "legendgroup": "R&B",
         "marker": {
          "color": "#ab63fa"
         },
         "name": "R&B",
         "notched": false,
         "offsetgroup": "R&B",
         "orientation": "h",
         "showlegend": true,
         "type": "box",
         "x": [
          44,
          45,
          46,
          47,
          48,
          49,
          50,
          54,
          52,
          53,
          55,
          56,
          57,
          58,
          43,
          51,
          42,
          20,
          40,
          36,
          35,
          34,
          32,
          31,
          30,
          29,
          41,
          28,
          59,
          18,
          17,
          13,
          12,
          39,
          0,
          27,
          60,
          1,
          62,
          61,
          80,
          79,
          75,
          74,
          73,
          72,
          71,
          38,
          69,
          70,
          64,
          65,
          63,
          67,
          37,
          68,
          66
         ],
         "x0": " ",
         "xaxis": "x",
         "y": [
          "R&B",
          "R&B",
          "R&B",
          "R&B",
          "R&B",
          "R&B",
          "R&B",
          "R&B",
          "R&B",
          "R&B",
          "R&B",
          "R&B",
          "R&B",
          "R&B",
          "R&B",
          "R&B",
          "R&B",
          "R&B",
          "R&B",
          "R&B",
          "R&B",
          "R&B",
          "R&B",
          "R&B",
          "R&B",
          "R&B",
          "R&B",
          "R&B",
          "R&B",
          "R&B",
          "R&B",
          "R&B",
          "R&B",
          "R&B",
          "R&B",
          "R&B",
          "R&B",
          "R&B",
          "R&B",
          "R&B",
          "R&B",
          "R&B",
          "R&B",
          "R&B",
          "R&B",
          "R&B",
          "R&B",
          "R&B",
          "R&B",
          "R&B",
          "R&B",
          "R&B",
          "R&B",
          "R&B",
          "R&B",
          "R&B",
          "R&B"
         ],
         "y0": " ",
         "yaxis": "y"
        },
        {
         "alignmentgroup": "True",
         "hovertemplate": "genre=%{y}<br>popularity=%{x}<extra></extra>",
         "legendgroup": "Folk",
         "marker": {
          "color": "#FFA15A"
         },
         "name": "Folk",
         "notched": false,
         "offsetgroup": "Folk",
         "orientation": "h",
         "showlegend": true,
         "type": "box",
         "x": [
          56,
          62,
          58,
          59,
          60,
          61,
          63,
          68,
          65,
          66,
          67,
          69,
          70,
          71,
          72,
          74,
          64,
          73,
          57,
          75,
          55,
          76,
          77,
          78,
          79,
          80,
          81,
          83,
          84,
          54,
          29,
          52,
          28,
          27,
          26,
          25,
          24,
          23,
          17,
          15,
          14,
          12,
          1,
          53,
          0,
          30,
          13,
          32,
          51,
          31,
          50,
          49,
          48,
          47,
          46,
          44,
          43,
          42,
          41,
          45,
          35,
          39,
          38,
          37,
          36,
          40,
          34,
          33
         ],
         "x0": " ",
         "xaxis": "x",
         "y": [
          "Folk",
          "Folk",
          "Folk",
          "Folk",
          "Folk",
          "Folk",
          "Folk",
          "Folk",
          "Folk",
          "Folk",
          "Folk",
          "Folk",
          "Folk",
          "Folk",
          "Folk",
          "Folk",
          "Folk",
          "Folk",
          "Folk",
          "Folk",
          "Folk",
          "Folk",
          "Folk",
          "Folk",
          "Folk",
          "Folk",
          "Folk",
          "Folk",
          "Folk",
          "Folk",
          "Folk",
          "Folk",
          "Folk",
          "Folk",
          "Folk",
          "Folk",
          "Folk",
          "Folk",
          "Folk",
          "Folk",
          "Folk",
          "Folk",
          "Folk",
          "Folk",
          "Folk",
          "Folk",
          "Folk",
          "Folk",
          "Folk",
          "Folk",
          "Folk",
          "Folk",
          "Folk",
          "Folk",
          "Folk",
          "Folk",
          "Folk",
          "Folk",
          "Folk",
          "Folk",
          "Folk",
          "Folk",
          "Folk",
          "Folk",
          "Folk",
          "Folk",
          "Folk",
          "Folk"
         ],
         "y0": " ",
         "yaxis": "y"
        },
        {
         "alignmentgroup": "True",
         "hovertemplate": "genre=%{y}<br>popularity=%{x}<extra></extra>",
         "legendgroup": "Country",
         "marker": {
          "color": "#19d3f3"
         },
         "name": "Country",
         "notched": false,
         "offsetgroup": "Country",
         "orientation": "h",
         "showlegend": true,
         "type": "box",
         "x": [
          31,
          55,
          56,
          57,
          58,
          59,
          60,
          61,
          62,
          63,
          64,
          65,
          66,
          54,
          67,
          69,
          70,
          71,
          72,
          73,
          74,
          75,
          76,
          77,
          78,
          79,
          82,
          68,
          53,
          51,
          33,
          34,
          35,
          36,
          52,
          37,
          39,
          40,
          41,
          42,
          43,
          44,
          45,
          46,
          47,
          48,
          49,
          50,
          38,
          23,
          22,
          21,
          20,
          19,
          18,
          13,
          11,
          10,
          0,
          30,
          28,
          24
         ],
         "x0": " ",
         "xaxis": "x",
         "y": [
          "Country",
          "Country",
          "Country",
          "Country",
          "Country",
          "Country",
          "Country",
          "Country",
          "Country",
          "Country",
          "Country",
          "Country",
          "Country",
          "Country",
          "Country",
          "Country",
          "Country",
          "Country",
          "Country",
          "Country",
          "Country",
          "Country",
          "Country",
          "Country",
          "Country",
          "Country",
          "Country",
          "Country",
          "Country",
          "Country",
          "Country",
          "Country",
          "Country",
          "Country",
          "Country",
          "Country",
          "Country",
          "Country",
          "Country",
          "Country",
          "Country",
          "Country",
          "Country",
          "Country",
          "Country",
          "Country",
          "Country",
          "Country",
          "Country",
          "Country",
          "Country",
          "Country",
          "Country",
          "Country",
          "Country",
          "Country",
          "Country",
          "Country",
          "Country",
          "Country",
          "Country",
          "Country"
         ],
         "y0": " ",
         "yaxis": "y"
        },
        {
         "alignmentgroup": "True",
         "hovertemplate": "genre=%{y}<br>popularity=%{x}<extra></extra>",
         "legendgroup": "Dance",
         "marker": {
          "color": "#FF6692"
         },
         "name": "Dance",
         "notched": false,
         "offsetgroup": "Dance",
         "orientation": "h",
         "showlegend": true,
         "type": "box",
         "x": [
          61,
          62,
          63,
          64,
          69,
          66,
          67,
          68,
          60,
          65,
          59,
          47,
          57,
          56,
          55,
          54,
          53,
          52,
          51,
          50,
          49,
          48,
          46,
          70,
          58,
          71,
          73,
          45,
          72,
          83,
          82,
          81,
          80,
          79,
          78,
          77,
          76,
          75,
          74,
          44,
          6,
          42,
          43,
          41,
          40,
          39,
          38,
          37,
          36,
          34,
          33,
          32,
          31,
          30,
          29,
          28,
          26,
          24,
          23,
          22,
          21,
          20,
          19,
          15,
          0
         ],
         "x0": " ",
         "xaxis": "x",
         "y": [
          "Dance",
          "Dance",
          "Dance",
          "Dance",
          "Dance",
          "Dance",
          "Dance",
          "Dance",
          "Dance",
          "Dance",
          "Dance",
          "Dance",
          "Dance",
          "Dance",
          "Dance",
          "Dance",
          "Dance",
          "Dance",
          "Dance",
          "Dance",
          "Dance",
          "Dance",
          "Dance",
          "Dance",
          "Dance",
          "Dance",
          "Dance",
          "Dance",
          "Dance",
          "Dance",
          "Dance",
          "Dance",
          "Dance",
          "Dance",
          "Dance",
          "Dance",
          "Dance",
          "Dance",
          "Dance",
          "Dance",
          "Dance",
          "Dance",
          "Dance",
          "Dance",
          "Dance",
          "Dance",
          "Dance",
          "Dance",
          "Dance",
          "Dance",
          "Dance",
          "Dance",
          "Dance",
          "Dance",
          "Dance",
          "Dance",
          "Dance",
          "Dance",
          "Dance",
          "Dance",
          "Dance",
          "Dance",
          "Dance",
          "Dance",
          "Dance"
         ],
         "y0": " ",
         "yaxis": "y"
        },
        {
         "alignmentgroup": "True",
         "hovertemplate": "genre=%{y}<br>popularity=%{x}<extra></extra>",
         "legendgroup": "Blues",
         "marker": {
          "color": "#B6E880"
         },
         "name": "Blues",
         "notched": false,
         "offsetgroup": "Blues",
         "orientation": "h",
         "showlegend": true,
         "type": "box",
         "x": [
          37,
          40,
          39,
          38,
          36,
          34,
          33,
          32,
          31,
          30,
          25,
          23,
          1,
          44,
          45,
          43,
          52,
          53,
          54,
          55,
          56,
          57,
          58,
          59,
          60,
          61,
          62,
          63,
          64,
          65,
          66,
          67,
          68,
          69,
          70,
          71,
          72,
          73,
          75,
          76,
          42,
          51,
          50,
          48,
          0,
          46,
          47,
          49,
          41
         ],
         "x0": " ",
         "xaxis": "x",
         "y": [
          "Blues",
          "Blues",
          "Blues",
          "Blues",
          "Blues",
          "Blues",
          "Blues",
          "Blues",
          "Blues",
          "Blues",
          "Blues",
          "Blues",
          "Blues",
          "Blues",
          "Blues",
          "Blues",
          "Blues",
          "Blues",
          "Blues",
          "Blues",
          "Blues",
          "Blues",
          "Blues",
          "Blues",
          "Blues",
          "Blues",
          "Blues",
          "Blues",
          "Blues",
          "Blues",
          "Blues",
          "Blues",
          "Blues",
          "Blues",
          "Blues",
          "Blues",
          "Blues",
          "Blues",
          "Blues",
          "Blues",
          "Blues",
          "Blues",
          "Blues",
          "Blues",
          "Blues",
          "Blues",
          "Blues",
          "Blues",
          "Blues"
         ],
         "y0": " ",
         "yaxis": "y"
        },
        {
         "alignmentgroup": "True",
         "hovertemplate": "genre=%{y}<br>popularity=%{x}<extra></extra>",
         "legendgroup": "Alternative",
         "marker": {
          "color": "#FF97FF"
         },
         "name": "Alternative",
         "notched": false,
         "offsetgroup": "Alternative",
         "orientation": "h",
         "showlegend": true,
         "type": "box",
         "x": [
          40,
          86,
          57,
          56,
          55,
          54,
          53,
          52,
          51,
          50,
          49,
          48,
          47,
          46,
          45,
          44,
          43,
          42,
          41,
          58,
          39,
          59,
          61,
          78,
          77,
          76,
          75,
          74,
          73,
          72,
          71,
          70,
          69,
          68,
          67,
          66,
          65,
          64,
          63,
          62,
          60,
          37,
          38,
          35,
          79,
          80,
          36,
          81,
          82,
          83,
          84,
          85,
          0,
          16,
          17,
          1,
          22,
          25,
          26,
          27,
          30,
          31,
          32,
          33,
          34,
          18
         ],
         "x0": " ",
         "xaxis": "x",
         "y": [
          "Alternative",
          "Alternative",
          "Alternative",
          "Alternative",
          "Alternative",
          "Alternative",
          "Alternative",
          "Alternative",
          "Alternative",
          "Alternative",
          "Alternative",
          "Alternative",
          "Alternative",
          "Alternative",
          "Alternative",
          "Alternative",
          "Alternative",
          "Alternative",
          "Alternative",
          "Alternative",
          "Alternative",
          "Alternative",
          "Alternative",
          "Alternative",
          "Alternative",
          "Alternative",
          "Alternative",
          "Alternative",
          "Alternative",
          "Alternative",
          "Alternative",
          "Alternative",
          "Alternative",
          "Alternative",
          "Alternative",
          "Alternative",
          "Alternative",
          "Alternative",
          "Alternative",
          "Alternative",
          "Alternative",
          "Alternative",
          "Alternative",
          "Alternative",
          "Alternative",
          "Alternative",
          "Alternative",
          "Alternative",
          "Alternative",
          "Alternative",
          "Alternative",
          "Alternative",
          "Alternative",
          "Alternative",
          "Alternative",
          "Alternative",
          "Alternative",
          "Alternative",
          "Alternative",
          "Alternative",
          "Alternative",
          "Alternative",
          "Alternative",
          "Alternative",
          "Alternative",
          "Alternative"
         ],
         "y0": " ",
         "yaxis": "y"
        },
        {
         "alignmentgroup": "True",
         "hovertemplate": "genre=%{y}<br>popularity=%{x}<extra></extra>",
         "legendgroup": "Indie",
         "marker": {
          "color": "#FECB52"
         },
         "name": "Indie",
         "notched": false,
         "offsetgroup": "Indie",
         "orientation": "h",
         "showlegend": true,
         "type": "box",
         "x": [
          78,
          61,
          60,
          80,
          79,
          77,
          68,
          74,
          73,
          72,
          71,
          70,
          69,
          67,
          66,
          65,
          64,
          63,
          62,
          59,
          75,
          58,
          81,
          47,
          57,
          56,
          55,
          54,
          53,
          52,
          51,
          50,
          49,
          48,
          46,
          45,
          44,
          43,
          42,
          84,
          40,
          19,
          20,
          41,
          22,
          23,
          25,
          26,
          21,
          33,
          34,
          37,
          38,
          39,
          29
         ],
         "x0": " ",
         "xaxis": "x",
         "y": [
          "Indie",
          "Indie",
          "Indie",
          "Indie",
          "Indie",
          "Indie",
          "Indie",
          "Indie",
          "Indie",
          "Indie",
          "Indie",
          "Indie",
          "Indie",
          "Indie",
          "Indie",
          "Indie",
          "Indie",
          "Indie",
          "Indie",
          "Indie",
          "Indie",
          "Indie",
          "Indie",
          "Indie",
          "Indie",
          "Indie",
          "Indie",
          "Indie",
          "Indie",
          "Indie",
          "Indie",
          "Indie",
          "Indie",
          "Indie",
          "Indie",
          "Indie",
          "Indie",
          "Indie",
          "Indie",
          "Indie",
          "Indie",
          "Indie",
          "Indie",
          "Indie",
          "Indie",
          "Indie",
          "Indie",
          "Indie",
          "Indie",
          "Indie",
          "Indie",
          "Indie",
          "Indie",
          "Indie",
          "Indie"
         ],
         "y0": " ",
         "yaxis": "y"
        },
        {
         "alignmentgroup": "True",
         "hovertemplate": "genre=%{y}<br>popularity=%{x}<extra></extra>",
         "legendgroup": "Rock",
         "marker": {
          "color": "#636efa"
         },
         "name": "Rock",
         "notched": false,
         "offsetgroup": "Rock",
         "orientation": "h",
         "showlegend": true,
         "type": "box",
         "x": [
          31,
          27,
          26,
          25,
          10,
          23,
          3,
          0,
          33,
          24,
          83,
          35,
          46,
          69,
          70,
          71,
          72,
          73,
          74,
          75,
          76,
          68,
          77,
          79,
          80,
          81,
          90,
          89,
          88,
          85,
          84,
          78,
          38,
          67,
          65,
          47,
          48,
          49,
          50,
          51,
          52,
          53,
          54,
          66,
          55,
          57,
          58,
          59,
          60,
          61,
          62,
          63,
          64,
          56,
          82
         ],
         "x0": " ",
         "xaxis": "x",
         "y": [
          "Rock",
          "Rock",
          "Rock",
          "Rock",
          "Rock",
          "Rock",
          "Rock",
          "Rock",
          "Rock",
          "Rock",
          "Rock",
          "Rock",
          "Rock",
          "Rock",
          "Rock",
          "Rock",
          "Rock",
          "Rock",
          "Rock",
          "Rock",
          "Rock",
          "Rock",
          "Rock",
          "Rock",
          "Rock",
          "Rock",
          "Rock",
          "Rock",
          "Rock",
          "Rock",
          "Rock",
          "Rock",
          "Rock",
          "Rock",
          "Rock",
          "Rock",
          "Rock",
          "Rock",
          "Rock",
          "Rock",
          "Rock",
          "Rock",
          "Rock",
          "Rock",
          "Rock",
          "Rock",
          "Rock",
          "Rock",
          "Rock",
          "Rock",
          "Rock",
          "Rock",
          "Rock",
          "Rock",
          "Rock"
         ],
         "y0": " ",
         "yaxis": "y"
        },
        {
         "alignmentgroup": "True",
         "hovertemplate": "genre=%{y}<br>popularity=%{x}<extra></extra>",
         "legendgroup": "Hip-Hop",
         "marker": {
          "color": "#EF553B"
         },
         "name": "Hip-Hop",
         "notched": false,
         "offsetgroup": "Hip-Hop",
         "orientation": "h",
         "showlegend": true,
         "type": "box",
         "x": [
          73,
          35,
          33,
          61,
          60,
          59,
          58,
          57,
          56,
          55,
          54,
          53,
          52,
          51,
          50,
          62,
          49,
          47,
          46,
          45,
          44,
          43,
          42,
          41,
          40,
          39,
          38,
          36,
          48,
          63,
          65,
          64,
          95,
          90,
          85,
          84,
          83,
          82,
          81,
          80,
          87,
          78,
          67,
          79,
          66,
          68,
          69,
          71,
          70,
          74,
          75,
          76,
          77,
          72
         ],
         "x0": " ",
         "xaxis": "x",
         "y": [
          "Hip-Hop",
          "Hip-Hop",
          "Hip-Hop",
          "Hip-Hop",
          "Hip-Hop",
          "Hip-Hop",
          "Hip-Hop",
          "Hip-Hop",
          "Hip-Hop",
          "Hip-Hop",
          "Hip-Hop",
          "Hip-Hop",
          "Hip-Hop",
          "Hip-Hop",
          "Hip-Hop",
          "Hip-Hop",
          "Hip-Hop",
          "Hip-Hop",
          "Hip-Hop",
          "Hip-Hop",
          "Hip-Hop",
          "Hip-Hop",
          "Hip-Hop",
          "Hip-Hop",
          "Hip-Hop",
          "Hip-Hop",
          "Hip-Hop",
          "Hip-Hop",
          "Hip-Hop",
          "Hip-Hop",
          "Hip-Hop",
          "Hip-Hop",
          "Hip-Hop",
          "Hip-Hop",
          "Hip-Hop",
          "Hip-Hop",
          "Hip-Hop",
          "Hip-Hop",
          "Hip-Hop",
          "Hip-Hop",
          "Hip-Hop",
          "Hip-Hop",
          "Hip-Hop",
          "Hip-Hop",
          "Hip-Hop",
          "Hip-Hop",
          "Hip-Hop",
          "Hip-Hop",
          "Hip-Hop",
          "Hip-Hop",
          "Hip-Hop",
          "Hip-Hop",
          "Hip-Hop",
          "Hip-Hop"
         ],
         "y0": " ",
         "yaxis": "y"
        },
        {
         "alignmentgroup": "True",
         "hovertemplate": "genre=%{y}<br>popularity=%{x}<extra></extra>",
         "legendgroup": "Rap",
         "marker": {
          "color": "#00cc96"
         },
         "name": "Rap",
         "notched": false,
         "offsetgroup": "Rap",
         "orientation": "h",
         "showlegend": true,
         "type": "box",
         "x": [
          61,
          62,
          63,
          64,
          65,
          66,
          67,
          68,
          69,
          70,
          71,
          72,
          73,
          74,
          75,
          76,
          77,
          78,
          79,
          80,
          81,
          82,
          83,
          84,
          85,
          60,
          59,
          58,
          17,
          18,
          19,
          21,
          23,
          24,
          25,
          26,
          35,
          36,
          37,
          38,
          86,
          39,
          45,
          46,
          47,
          48,
          49,
          50,
          51,
          52,
          53,
          54,
          55,
          56,
          44,
          87,
          57,
          89,
          88,
          22,
          90,
          91,
          92,
          93
         ],
         "x0": " ",
         "xaxis": "x",
         "y": [
          "Rap",
          "Rap",
          "Rap",
          "Rap",
          "Rap",
          "Rap",
          "Rap",
          "Rap",
          "Rap",
          "Rap",
          "Rap",
          "Rap",
          "Rap",
          "Rap",
          "Rap",
          "Rap",
          "Rap",
          "Rap",
          "Rap",
          "Rap",
          "Rap",
          "Rap",
          "Rap",
          "Rap",
          "Rap",
          "Rap",
          "Rap",
          "Rap",
          "Rap",
          "Rap",
          "Rap",
          "Rap",
          "Rap",
          "Rap",
          "Rap",
          "Rap",
          "Rap",
          "Rap",
          "Rap",
          "Rap",
          "Rap",
          "Rap",
          "Rap",
          "Rap",
          "Rap",
          "Rap",
          "Rap",
          "Rap",
          "Rap",
          "Rap",
          "Rap",
          "Rap",
          "Rap",
          "Rap",
          "Rap",
          "Rap",
          "Rap",
          "Rap",
          "Rap",
          "Rap",
          "Rap",
          "Rap",
          "Rap",
          "Rap"
         ],
         "y0": " ",
         "yaxis": "y"
        },
        {
         "alignmentgroup": "True",
         "hovertemplate": "genre=%{y}<br>popularity=%{x}<extra></extra>",
         "legendgroup": "Pop",
         "marker": {
          "color": "#ab63fa"
         },
         "name": "Pop",
         "notched": false,
         "offsetgroup": "Pop",
         "orientation": "h",
         "showlegend": true,
         "type": "box",
         "x": [
          59,
          56,
          57,
          58,
          60,
          65,
          62,
          63,
          64,
          66,
          55,
          61,
          54,
          22,
          52,
          51,
          49,
          48,
          47,
          38,
          30,
          28,
          26,
          23,
          67,
          20,
          3,
          53,
          68,
          82,
          70,
          100,
          99,
          98,
          96,
          95,
          94,
          93,
          92,
          91,
          90,
          89,
          88,
          87,
          69,
          86,
          84,
          83,
          81,
          80,
          79,
          78,
          77,
          76,
          75,
          74,
          73,
          72,
          71,
          85,
          97
         ],
         "x0": " ",
         "xaxis": "x",
         "y": [
          "Pop",
          "Pop",
          "Pop",
          "Pop",
          "Pop",
          "Pop",
          "Pop",
          "Pop",
          "Pop",
          "Pop",
          "Pop",
          "Pop",
          "Pop",
          "Pop",
          "Pop",
          "Pop",
          "Pop",
          "Pop",
          "Pop",
          "Pop",
          "Pop",
          "Pop",
          "Pop",
          "Pop",
          "Pop",
          "Pop",
          "Pop",
          "Pop",
          "Pop",
          "Pop",
          "Pop",
          "Pop",
          "Pop",
          "Pop",
          "Pop",
          "Pop",
          "Pop",
          "Pop",
          "Pop",
          "Pop",
          "Pop",
          "Pop",
          "Pop",
          "Pop",
          "Pop",
          "Pop",
          "Pop",
          "Pop",
          "Pop",
          "Pop",
          "Pop",
          "Pop",
          "Pop",
          "Pop",
          "Pop",
          "Pop",
          "Pop",
          "Pop",
          "Pop",
          "Pop",
          "Pop"
         ],
         "y0": " ",
         "yaxis": "y"
        }
       ],
       "layout": {
        "boxmode": "overlay",
        "height": 950,
        "legend": {
         "title": {
          "text": "genre"
         },
         "tracegroupgap": 0
        },
        "margin": {
         "t": 60
        },
        "showlegend": false,
        "template": {
         "data": {
          "bar": [
           {
            "error_x": {
             "color": "#2a3f5f"
            },
            "error_y": {
             "color": "#2a3f5f"
            },
            "marker": {
             "line": {
              "color": "#E5ECF6",
              "width": 0.5
             },
             "pattern": {
              "fillmode": "overlay",
              "size": 10,
              "solidity": 0.2
             }
            },
            "type": "bar"
           }
          ],
          "barpolar": [
           {
            "marker": {
             "line": {
              "color": "#E5ECF6",
              "width": 0.5
             },
             "pattern": {
              "fillmode": "overlay",
              "size": 10,
              "solidity": 0.2
             }
            },
            "type": "barpolar"
           }
          ],
          "carpet": [
           {
            "aaxis": {
             "endlinecolor": "#2a3f5f",
             "gridcolor": "white",
             "linecolor": "white",
             "minorgridcolor": "white",
             "startlinecolor": "#2a3f5f"
            },
            "baxis": {
             "endlinecolor": "#2a3f5f",
             "gridcolor": "white",
             "linecolor": "white",
             "minorgridcolor": "white",
             "startlinecolor": "#2a3f5f"
            },
            "type": "carpet"
           }
          ],
          "choropleth": [
           {
            "colorbar": {
             "outlinewidth": 0,
             "ticks": ""
            },
            "type": "choropleth"
           }
          ],
          "contour": [
           {
            "colorbar": {
             "outlinewidth": 0,
             "ticks": ""
            },
            "colorscale": [
             [
              0,
              "#0d0887"
             ],
             [
              0.1111111111111111,
              "#46039f"
             ],
             [
              0.2222222222222222,
              "#7201a8"
             ],
             [
              0.3333333333333333,
              "#9c179e"
             ],
             [
              0.4444444444444444,
              "#bd3786"
             ],
             [
              0.5555555555555556,
              "#d8576b"
             ],
             [
              0.6666666666666666,
              "#ed7953"
             ],
             [
              0.7777777777777778,
              "#fb9f3a"
             ],
             [
              0.8888888888888888,
              "#fdca26"
             ],
             [
              1,
              "#f0f921"
             ]
            ],
            "type": "contour"
           }
          ],
          "contourcarpet": [
           {
            "colorbar": {
             "outlinewidth": 0,
             "ticks": ""
            },
            "type": "contourcarpet"
           }
          ],
          "heatmap": [
           {
            "colorbar": {
             "outlinewidth": 0,
             "ticks": ""
            },
            "colorscale": [
             [
              0,
              "#0d0887"
             ],
             [
              0.1111111111111111,
              "#46039f"
             ],
             [
              0.2222222222222222,
              "#7201a8"
             ],
             [
              0.3333333333333333,
              "#9c179e"
             ],
             [
              0.4444444444444444,
              "#bd3786"
             ],
             [
              0.5555555555555556,
              "#d8576b"
             ],
             [
              0.6666666666666666,
              "#ed7953"
             ],
             [
              0.7777777777777778,
              "#fb9f3a"
             ],
             [
              0.8888888888888888,
              "#fdca26"
             ],
             [
              1,
              "#f0f921"
             ]
            ],
            "type": "heatmap"
           }
          ],
          "heatmapgl": [
           {
            "colorbar": {
             "outlinewidth": 0,
             "ticks": ""
            },
            "colorscale": [
             [
              0,
              "#0d0887"
             ],
             [
              0.1111111111111111,
              "#46039f"
             ],
             [
              0.2222222222222222,
              "#7201a8"
             ],
             [
              0.3333333333333333,
              "#9c179e"
             ],
             [
              0.4444444444444444,
              "#bd3786"
             ],
             [
              0.5555555555555556,
              "#d8576b"
             ],
             [
              0.6666666666666666,
              "#ed7953"
             ],
             [
              0.7777777777777778,
              "#fb9f3a"
             ],
             [
              0.8888888888888888,
              "#fdca26"
             ],
             [
              1,
              "#f0f921"
             ]
            ],
            "type": "heatmapgl"
           }
          ],
          "histogram": [
           {
            "marker": {
             "pattern": {
              "fillmode": "overlay",
              "size": 10,
              "solidity": 0.2
             }
            },
            "type": "histogram"
           }
          ],
          "histogram2d": [
           {
            "colorbar": {
             "outlinewidth": 0,
             "ticks": ""
            },
            "colorscale": [
             [
              0,
              "#0d0887"
             ],
             [
              0.1111111111111111,
              "#46039f"
             ],
             [
              0.2222222222222222,
              "#7201a8"
             ],
             [
              0.3333333333333333,
              "#9c179e"
             ],
             [
              0.4444444444444444,
              "#bd3786"
             ],
             [
              0.5555555555555556,
              "#d8576b"
             ],
             [
              0.6666666666666666,
              "#ed7953"
             ],
             [
              0.7777777777777778,
              "#fb9f3a"
             ],
             [
              0.8888888888888888,
              "#fdca26"
             ],
             [
              1,
              "#f0f921"
             ]
            ],
            "type": "histogram2d"
           }
          ],
          "histogram2dcontour": [
           {
            "colorbar": {
             "outlinewidth": 0,
             "ticks": ""
            },
            "colorscale": [
             [
              0,
              "#0d0887"
             ],
             [
              0.1111111111111111,
              "#46039f"
             ],
             [
              0.2222222222222222,
              "#7201a8"
             ],
             [
              0.3333333333333333,
              "#9c179e"
             ],
             [
              0.4444444444444444,
              "#bd3786"
             ],
             [
              0.5555555555555556,
              "#d8576b"
             ],
             [
              0.6666666666666666,
              "#ed7953"
             ],
             [
              0.7777777777777778,
              "#fb9f3a"
             ],
             [
              0.8888888888888888,
              "#fdca26"
             ],
             [
              1,
              "#f0f921"
             ]
            ],
            "type": "histogram2dcontour"
           }
          ],
          "mesh3d": [
           {
            "colorbar": {
             "outlinewidth": 0,
             "ticks": ""
            },
            "type": "mesh3d"
           }
          ],
          "parcoords": [
           {
            "line": {
             "colorbar": {
              "outlinewidth": 0,
              "ticks": ""
             }
            },
            "type": "parcoords"
           }
          ],
          "pie": [
           {
            "automargin": true,
            "type": "pie"
           }
          ],
          "scatter": [
           {
            "marker": {
             "colorbar": {
              "outlinewidth": 0,
              "ticks": ""
             }
            },
            "type": "scatter"
           }
          ],
          "scatter3d": [
           {
            "line": {
             "colorbar": {
              "outlinewidth": 0,
              "ticks": ""
             }
            },
            "marker": {
             "colorbar": {
              "outlinewidth": 0,
              "ticks": ""
             }
            },
            "type": "scatter3d"
           }
          ],
          "scattercarpet": [
           {
            "marker": {
             "colorbar": {
              "outlinewidth": 0,
              "ticks": ""
             }
            },
            "type": "scattercarpet"
           }
          ],
          "scattergeo": [
           {
            "marker": {
             "colorbar": {
              "outlinewidth": 0,
              "ticks": ""
             }
            },
            "type": "scattergeo"
           }
          ],
          "scattergl": [
           {
            "marker": {
             "colorbar": {
              "outlinewidth": 0,
              "ticks": ""
             }
            },
            "type": "scattergl"
           }
          ],
          "scattermapbox": [
           {
            "marker": {
             "colorbar": {
              "outlinewidth": 0,
              "ticks": ""
             }
            },
            "type": "scattermapbox"
           }
          ],
          "scatterpolar": [
           {
            "marker": {
             "colorbar": {
              "outlinewidth": 0,
              "ticks": ""
             }
            },
            "type": "scatterpolar"
           }
          ],
          "scatterpolargl": [
           {
            "marker": {
             "colorbar": {
              "outlinewidth": 0,
              "ticks": ""
             }
            },
            "type": "scatterpolargl"
           }
          ],
          "scatterternary": [
           {
            "marker": {
             "colorbar": {
              "outlinewidth": 0,
              "ticks": ""
             }
            },
            "type": "scatterternary"
           }
          ],
          "surface": [
           {
            "colorbar": {
             "outlinewidth": 0,
             "ticks": ""
            },
            "colorscale": [
             [
              0,
              "#0d0887"
             ],
             [
              0.1111111111111111,
              "#46039f"
             ],
             [
              0.2222222222222222,
              "#7201a8"
             ],
             [
              0.3333333333333333,
              "#9c179e"
             ],
             [
              0.4444444444444444,
              "#bd3786"
             ],
             [
              0.5555555555555556,
              "#d8576b"
             ],
             [
              0.6666666666666666,
              "#ed7953"
             ],
             [
              0.7777777777777778,
              "#fb9f3a"
             ],
             [
              0.8888888888888888,
              "#fdca26"
             ],
             [
              1,
              "#f0f921"
             ]
            ],
            "type": "surface"
           }
          ],
          "table": [
           {
            "cells": {
             "fill": {
              "color": "#EBF0F8"
             },
             "line": {
              "color": "white"
             }
            },
            "header": {
             "fill": {
              "color": "#C8D4E3"
             },
             "line": {
              "color": "white"
             }
            },
            "type": "table"
           }
          ]
         },
         "layout": {
          "annotationdefaults": {
           "arrowcolor": "#2a3f5f",
           "arrowhead": 0,
           "arrowwidth": 1
          },
          "autotypenumbers": "strict",
          "coloraxis": {
           "colorbar": {
            "outlinewidth": 0,
            "ticks": ""
           }
          },
          "colorscale": {
           "diverging": [
            [
             0,
             "#8e0152"
            ],
            [
             0.1,
             "#c51b7d"
            ],
            [
             0.2,
             "#de77ae"
            ],
            [
             0.3,
             "#f1b6da"
            ],
            [
             0.4,
             "#fde0ef"
            ],
            [
             0.5,
             "#f7f7f7"
            ],
            [
             0.6,
             "#e6f5d0"
            ],
            [
             0.7,
             "#b8e186"
            ],
            [
             0.8,
             "#7fbc41"
            ],
            [
             0.9,
             "#4d9221"
            ],
            [
             1,
             "#276419"
            ]
           ],
           "sequential": [
            [
             0,
             "#0d0887"
            ],
            [
             0.1111111111111111,
             "#46039f"
            ],
            [
             0.2222222222222222,
             "#7201a8"
            ],
            [
             0.3333333333333333,
             "#9c179e"
            ],
            [
             0.4444444444444444,
             "#bd3786"
            ],
            [
             0.5555555555555556,
             "#d8576b"
            ],
            [
             0.6666666666666666,
             "#ed7953"
            ],
            [
             0.7777777777777778,
             "#fb9f3a"
            ],
            [
             0.8888888888888888,
             "#fdca26"
            ],
            [
             1,
             "#f0f921"
            ]
           ],
           "sequentialminus": [
            [
             0,
             "#0d0887"
            ],
            [
             0.1111111111111111,
             "#46039f"
            ],
            [
             0.2222222222222222,
             "#7201a8"
            ],
            [
             0.3333333333333333,
             "#9c179e"
            ],
            [
             0.4444444444444444,
             "#bd3786"
            ],
            [
             0.5555555555555556,
             "#d8576b"
            ],
            [
             0.6666666666666666,
             "#ed7953"
            ],
            [
             0.7777777777777778,
             "#fb9f3a"
            ],
            [
             0.8888888888888888,
             "#fdca26"
            ],
            [
             1,
             "#f0f921"
            ]
           ]
          },
          "colorway": [
           "#636efa",
           "#EF553B",
           "#00cc96",
           "#ab63fa",
           "#FFA15A",
           "#19d3f3",
           "#FF6692",
           "#B6E880",
           "#FF97FF",
           "#FECB52"
          ],
          "font": {
           "color": "#2a3f5f"
          },
          "geo": {
           "bgcolor": "white",
           "lakecolor": "white",
           "landcolor": "#E5ECF6",
           "showlakes": true,
           "showland": true,
           "subunitcolor": "white"
          },
          "hoverlabel": {
           "align": "left"
          },
          "hovermode": "closest",
          "mapbox": {
           "style": "light"
          },
          "paper_bgcolor": "white",
          "plot_bgcolor": "#E5ECF6",
          "polar": {
           "angularaxis": {
            "gridcolor": "white",
            "linecolor": "white",
            "ticks": ""
           },
           "bgcolor": "#E5ECF6",
           "radialaxis": {
            "gridcolor": "white",
            "linecolor": "white",
            "ticks": ""
           }
          },
          "scene": {
           "xaxis": {
            "backgroundcolor": "#E5ECF6",
            "gridcolor": "white",
            "gridwidth": 2,
            "linecolor": "white",
            "showbackground": true,
            "ticks": "",
            "zerolinecolor": "white"
           },
           "yaxis": {
            "backgroundcolor": "#E5ECF6",
            "gridcolor": "white",
            "gridwidth": 2,
            "linecolor": "white",
            "showbackground": true,
            "ticks": "",
            "zerolinecolor": "white"
           },
           "zaxis": {
            "backgroundcolor": "#E5ECF6",
            "gridcolor": "white",
            "gridwidth": 2,
            "linecolor": "white",
            "showbackground": true,
            "ticks": "",
            "zerolinecolor": "white"
           }
          },
          "shapedefaults": {
           "line": {
            "color": "#2a3f5f"
           }
          },
          "ternary": {
           "aaxis": {
            "gridcolor": "white",
            "linecolor": "white",
            "ticks": ""
           },
           "baxis": {
            "gridcolor": "white",
            "linecolor": "white",
            "ticks": ""
           },
           "bgcolor": "#E5ECF6",
           "caxis": {
            "gridcolor": "white",
            "linecolor": "white",
            "ticks": ""
           }
          },
          "title": {
           "x": 0.05
          },
          "xaxis": {
           "automargin": true,
           "gridcolor": "white",
           "linecolor": "white",
           "ticks": "",
           "title": {
            "standoff": 15
           },
           "zerolinecolor": "white",
           "zerolinewidth": 2
          },
          "yaxis": {
           "automargin": true,
           "gridcolor": "white",
           "linecolor": "white",
           "ticks": "",
           "title": {
            "standoff": 15
           },
           "zerolinecolor": "white",
           "zerolinewidth": 2
          }
         }
        },
        "width": 950,
        "xaxis": {
         "anchor": "y",
         "domain": [
          0,
          1
         ],
         "title": {
          "text": "popularity"
         }
        },
        "yaxis": {
         "anchor": "x",
         "categoryarray": [
          "Pop",
          "Rap",
          "Hip-Hop",
          "Rock",
          "Indie",
          "Alternative",
          "Blues",
          "Dance",
          "Country",
          "Folk",
          "R&B",
          "Soul",
          "Reggaeton",
          "Electronic",
          "Reggae",
          "World",
          "Ska",
          "Movie",
          "Soundtrack",
          "Jazz",
          "Classical",
          "Comedy",
          "Opera",
          "A Capella"
         ],
         "categoryorder": "array",
         "domain": [
          0,
          1
         ],
         "title": {
          "text": "genre"
         }
        }
       }
      },
      "text/html": [
       "<div>                            <div id=\"502aa4cc-045a-465e-ba05-622722879a09\" class=\"plotly-graph-div\" style=\"height:950px; width:950px;\"></div>            <script type=\"text/javascript\">                require([\"plotly\"], function(Plotly) {                    window.PLOTLYENV=window.PLOTLYENV || {};                                    if (document.getElementById(\"502aa4cc-045a-465e-ba05-622722879a09\")) {                    Plotly.newPlot(                        \"502aa4cc-045a-465e-ba05-622722879a09\",                        [{\"alignmentgroup\":\"True\",\"hovertemplate\":\"genre=%{y}<br>popularity=%{x}<extra></extra>\",\"legendgroup\":\"A Capella\",\"marker\":{\"color\":\"#636efa\"},\"name\":\"A Capella\",\"notched\":false,\"offsetgroup\":\"A Capella\",\"orientation\":\"h\",\"showlegend\":true,\"type\":\"box\",\"x\":[0,44,33,25,24,23,22,20,19,18,17,16,15,14,26,12,13,1,3,4,5,2,7,8,9,10,11,6],\"x0\":\" \",\"xaxis\":\"x\",\"y\":[\"A Capella\",\"A Capella\",\"A Capella\",\"A Capella\",\"A Capella\",\"A Capella\",\"A Capella\",\"A Capella\",\"A Capella\",\"A Capella\",\"A Capella\",\"A Capella\",\"A Capella\",\"A Capella\",\"A Capella\",\"A Capella\",\"A Capella\",\"A Capella\",\"A Capella\",\"A Capella\",\"A Capella\",\"A Capella\",\"A Capella\",\"A Capella\",\"A Capella\",\"A Capella\",\"A Capella\",\"A Capella\"],\"y0\":\" \",\"yaxis\":\"y\"},{\"alignmentgroup\":\"True\",\"hovertemplate\":\"genre=%{y}<br>popularity=%{x}<extra></extra>\",\"legendgroup\":\"Opera\",\"marker\":{\"color\":\"#EF553B\"},\"name\":\"Opera\",\"notched\":false,\"offsetgroup\":\"Opera\",\"orientation\":\"h\",\"showlegend\":true,\"type\":\"box\",\"x\":[26,34,27,28,29,30,31,32,33,35,42,37,38,39,40,41,43,44,45,48,25,36,24,10,22,0,1,2,3,4,5,6,7,8,9,23,49,12,13,14,15,16,17,18,19,20,21,11],\"x0\":\" \",\"xaxis\":\"x\",\"y\":[\"Opera\",\"Opera\",\"Opera\",\"Opera\",\"Opera\",\"Opera\",\"Opera\",\"Opera\",\"Opera\",\"Opera\",\"Opera\",\"Opera\",\"Opera\",\"Opera\",\"Opera\",\"Opera\",\"Opera\",\"Opera\",\"Opera\",\"Opera\",\"Opera\",\"Opera\",\"Opera\",\"Opera\",\"Opera\",\"Opera\",\"Opera\",\"Opera\",\"Opera\",\"Opera\",\"Opera\",\"Opera\",\"Opera\",\"Opera\",\"Opera\",\"Opera\",\"Opera\",\"Opera\",\"Opera\",\"Opera\",\"Opera\",\"Opera\",\"Opera\",\"Opera\",\"Opera\",\"Opera\",\"Opera\",\"Opera\"],\"y0\":\" \",\"yaxis\":\"y\"},{\"alignmentgroup\":\"True\",\"hovertemplate\":\"genre=%{y}<br>popularity=%{x}<extra></extra>\",\"legendgroup\":\"Comedy\",\"marker\":{\"color\":\"#00cc96\"},\"name\":\"Comedy\",\"notched\":false,\"offsetgroup\":\"Comedy\",\"orientation\":\"h\",\"showlegend\":true,\"type\":\"box\",\"x\":[0,12,25,18,19,20,21,22,23,24,8,26,27,28,29,30,31,32,33,34,35,36,37,38,17,39,16,14,56,55,54,53,52,51,50,49,48,15,47,45,44,43,42,9,10,11,41,13,46,40],\"x0\":\" \",\"xaxis\":\"x\",\"y\":[\"Comedy\",\"Comedy\",\"Comedy\",\"Comedy\",\"Comedy\",\"Comedy\",\"Comedy\",\"Comedy\",\"Comedy\",\"Comedy\",\"Comedy\",\"Comedy\",\"Comedy\",\"Comedy\",\"Comedy\",\"Comedy\",\"Comedy\",\"Comedy\",\"Comedy\",\"Comedy\",\"Comedy\",\"Comedy\",\"Comedy\",\"Comedy\",\"Comedy\",\"Comedy\",\"Comedy\",\"Comedy\",\"Comedy\",\"Comedy\",\"Comedy\",\"Comedy\",\"Comedy\",\"Comedy\",\"Comedy\",\"Comedy\",\"Comedy\",\"Comedy\",\"Comedy\",\"Comedy\",\"Comedy\",\"Comedy\",\"Comedy\",\"Comedy\",\"Comedy\",\"Comedy\",\"Comedy\",\"Comedy\",\"Comedy\",\"Comedy\"],\"y0\":\" \",\"yaxis\":\"y\"},{\"alignmentgroup\":\"True\",\"hovertemplate\":\"genre=%{y}<br>popularity=%{x}<extra></extra>\",\"legendgroup\":\"Classical\",\"marker\":{\"color\":\"#ab63fa\"},\"name\":\"Classical\",\"notched\":false,\"offsetgroup\":\"Classical\",\"orientation\":\"h\",\"showlegend\":true,\"type\":\"box\",\"x\":[45,28,44,29,30,31,32,33,34,35,36,37,38,39,40,41,42,43,46,47,63,49,69,68,66,65,64,27,62,61,48,59,57,56,55,54,53,52,51,50,58,26,60,24,0,1,2,3,4,5,6,7,8,9,10,11,25,13,23,22,21,20,19,12,17,16,15,14,18],\"x0\":\" \",\"xaxis\":\"x\",\"y\":[\"Classical\",\"Classical\",\"Classical\",\"Classical\",\"Classical\",\"Classical\",\"Classical\",\"Classical\",\"Classical\",\"Classical\",\"Classical\",\"Classical\",\"Classical\",\"Classical\",\"Classical\",\"Classical\",\"Classical\",\"Classical\",\"Classical\",\"Classical\",\"Classical\",\"Classical\",\"Classical\",\"Classical\",\"Classical\",\"Classical\",\"Classical\",\"Classical\",\"Classical\",\"Classical\",\"Classical\",\"Classical\",\"Classical\",\"Classical\",\"Classical\",\"Classical\",\"Classical\",\"Classical\",\"Classical\",\"Classical\",\"Classical\",\"Classical\",\"Classical\",\"Classical\",\"Classical\",\"Classical\",\"Classical\",\"Classical\",\"Classical\",\"Classical\",\"Classical\",\"Classical\",\"Classical\",\"Classical\",\"Classical\",\"Classical\",\"Classical\",\"Classical\",\"Classical\",\"Classical\",\"Classical\",\"Classical\",\"Classical\",\"Classical\",\"Classical\",\"Classical\",\"Classical\",\"Classical\",\"Classical\"],\"y0\":\" \",\"yaxis\":\"y\"},{\"alignmentgroup\":\"True\",\"hovertemplate\":\"genre=%{y}<br>popularity=%{x}<extra></extra>\",\"legendgroup\":\"Jazz\",\"marker\":{\"color\":\"#FFA15A\"},\"name\":\"Jazz\",\"notched\":false,\"offsetgroup\":\"Jazz\",\"orientation\":\"h\",\"showlegend\":true,\"type\":\"box\",\"x\":[51,50,49,48,47,46,43,44,42,41,52,40,39,45,53,58,55,69,68,67,66,65,64,54,63,61,60,59,38,57,56,62,37,31,35,15,14,13,12,11,10,16,9,7,6,5,4,3,2,8,36,17,19,34,33,32,30,29,28,18,27,25,72,23,22,21,20,26,24,0,1],\"x0\":\" \",\"xaxis\":\"x\",\"y\":[\"Jazz\",\"Jazz\",\"Jazz\",\"Jazz\",\"Jazz\",\"Jazz\",\"Jazz\",\"Jazz\",\"Jazz\",\"Jazz\",\"Jazz\",\"Jazz\",\"Jazz\",\"Jazz\",\"Jazz\",\"Jazz\",\"Jazz\",\"Jazz\",\"Jazz\",\"Jazz\",\"Jazz\",\"Jazz\",\"Jazz\",\"Jazz\",\"Jazz\",\"Jazz\",\"Jazz\",\"Jazz\",\"Jazz\",\"Jazz\",\"Jazz\",\"Jazz\",\"Jazz\",\"Jazz\",\"Jazz\",\"Jazz\",\"Jazz\",\"Jazz\",\"Jazz\",\"Jazz\",\"Jazz\",\"Jazz\",\"Jazz\",\"Jazz\",\"Jazz\",\"Jazz\",\"Jazz\",\"Jazz\",\"Jazz\",\"Jazz\",\"Jazz\",\"Jazz\",\"Jazz\",\"Jazz\",\"Jazz\",\"Jazz\",\"Jazz\",\"Jazz\",\"Jazz\",\"Jazz\",\"Jazz\",\"Jazz\",\"Jazz\",\"Jazz\",\"Jazz\",\"Jazz\",\"Jazz\",\"Jazz\",\"Jazz\",\"Jazz\",\"Jazz\"],\"y0\":\" \",\"yaxis\":\"y\"},{\"alignmentgroup\":\"True\",\"hovertemplate\":\"genre=%{y}<br>popularity=%{x}<extra></extra>\",\"legendgroup\":\"Soundtrack\",\"marker\":{\"color\":\"#19d3f3\"},\"name\":\"Soundtrack\",\"notched\":false,\"offsetgroup\":\"Soundtrack\",\"orientation\":\"h\",\"showlegend\":true,\"type\":\"box\",\"x\":[35,49,48,47,46,45,50,44,42,41,40,39,38,37,43,51,52,53,54,55,56,57,58,59,60,61,62,63,64,65,66,36,72,34,33,0,1,2,3,4,5,6,7,8,10,11,12,13,14,67,15,19,20,21,22,23,24,25,26,27,28,29,30,31,32,18,68],\"x0\":\" \",\"xaxis\":\"x\",\"y\":[\"Soundtrack\",\"Soundtrack\",\"Soundtrack\",\"Soundtrack\",\"Soundtrack\",\"Soundtrack\",\"Soundtrack\",\"Soundtrack\",\"Soundtrack\",\"Soundtrack\",\"Soundtrack\",\"Soundtrack\",\"Soundtrack\",\"Soundtrack\",\"Soundtrack\",\"Soundtrack\",\"Soundtrack\",\"Soundtrack\",\"Soundtrack\",\"Soundtrack\",\"Soundtrack\",\"Soundtrack\",\"Soundtrack\",\"Soundtrack\",\"Soundtrack\",\"Soundtrack\",\"Soundtrack\",\"Soundtrack\",\"Soundtrack\",\"Soundtrack\",\"Soundtrack\",\"Soundtrack\",\"Soundtrack\",\"Soundtrack\",\"Soundtrack\",\"Soundtrack\",\"Soundtrack\",\"Soundtrack\",\"Soundtrack\",\"Soundtrack\",\"Soundtrack\",\"Soundtrack\",\"Soundtrack\",\"Soundtrack\",\"Soundtrack\",\"Soundtrack\",\"Soundtrack\",\"Soundtrack\",\"Soundtrack\",\"Soundtrack\",\"Soundtrack\",\"Soundtrack\",\"Soundtrack\",\"Soundtrack\",\"Soundtrack\",\"Soundtrack\",\"Soundtrack\",\"Soundtrack\",\"Soundtrack\",\"Soundtrack\",\"Soundtrack\",\"Soundtrack\",\"Soundtrack\",\"Soundtrack\",\"Soundtrack\",\"Soundtrack\",\"Soundtrack\"],\"y0\":\" \",\"yaxis\":\"y\"},{\"alignmentgroup\":\"True\",\"hovertemplate\":\"genre=%{y}<br>popularity=%{x}<extra></extra>\",\"legendgroup\":\"Movie\",\"marker\":{\"color\":\"#FF6692\"},\"name\":\"Movie\",\"notched\":false,\"offsetgroup\":\"Movie\",\"orientation\":\"h\",\"showlegend\":true,\"type\":\"box\",\"x\":[72,82,0,1,52,51,50,76,48,47,53,46,44,43,42,40,39,38,45,37,54,56,71,69,68,67,66,65,55,64,62,61,60,59,58,57,63,74,36,34,15,14,13,12,11,10,16,9,7,6,5,4,3,2,8,35,17,19,33,32,31,30,29,28,18,27,25,24,23,22,21,20,26,49,41],\"x0\":\" \",\"xaxis\":\"x\",\"y\":[\"Movie\",\"Movie\",\"Movie\",\"Movie\",\"Movie\",\"Movie\",\"Movie\",\"Movie\",\"Movie\",\"Movie\",\"Movie\",\"Movie\",\"Movie\",\"Movie\",\"Movie\",\"Movie\",\"Movie\",\"Movie\",\"Movie\",\"Movie\",\"Movie\",\"Movie\",\"Movie\",\"Movie\",\"Movie\",\"Movie\",\"Movie\",\"Movie\",\"Movie\",\"Movie\",\"Movie\",\"Movie\",\"Movie\",\"Movie\",\"Movie\",\"Movie\",\"Movie\",\"Movie\",\"Movie\",\"Movie\",\"Movie\",\"Movie\",\"Movie\",\"Movie\",\"Movie\",\"Movie\",\"Movie\",\"Movie\",\"Movie\",\"Movie\",\"Movie\",\"Movie\",\"Movie\",\"Movie\",\"Movie\",\"Movie\",\"Movie\",\"Movie\",\"Movie\",\"Movie\",\"Movie\",\"Movie\",\"Movie\",\"Movie\",\"Movie\",\"Movie\",\"Movie\",\"Movie\",\"Movie\",\"Movie\",\"Movie\",\"Movie\",\"Movie\",\"Movie\",\"Movie\"],\"y0\":\" \",\"yaxis\":\"y\"},{\"alignmentgroup\":\"True\",\"hovertemplate\":\"genre=%{y}<br>popularity=%{x}<extra></extra>\",\"legendgroup\":\"Ska\",\"marker\":{\"color\":\"#B6E880\"},\"name\":\"Ska\",\"notched\":false,\"offsetgroup\":\"Ska\",\"orientation\":\"h\",\"showlegend\":true,\"type\":\"box\",\"x\":[25,41,42,43,44,45,46,47,48,49,50,51,52,53,54,55,56,57,58,59,60,61,62,63,64,65,66,68,40,38,39,21,10,11,12,13,14,15,16,17,18,19,20,37,5,22,24,26,27,28,29,30,31,32,33,34,35,36,23],\"x0\":\" \",\"xaxis\":\"x\",\"y\":[\"Ska\",\"Ska\",\"Ska\",\"Ska\",\"Ska\",\"Ska\",\"Ska\",\"Ska\",\"Ska\",\"Ska\",\"Ska\",\"Ska\",\"Ska\",\"Ska\",\"Ska\",\"Ska\",\"Ska\",\"Ska\",\"Ska\",\"Ska\",\"Ska\",\"Ska\",\"Ska\",\"Ska\",\"Ska\",\"Ska\",\"Ska\",\"Ska\",\"Ska\",\"Ska\",\"Ska\",\"Ska\",\"Ska\",\"Ska\",\"Ska\",\"Ska\",\"Ska\",\"Ska\",\"Ska\",\"Ska\",\"Ska\",\"Ska\",\"Ska\",\"Ska\",\"Ska\",\"Ska\",\"Ska\",\"Ska\",\"Ska\",\"Ska\",\"Ska\",\"Ska\",\"Ska\",\"Ska\",\"Ska\",\"Ska\",\"Ska\",\"Ska\",\"Ska\"],\"y0\":\" \",\"yaxis\":\"y\"},{\"alignmentgroup\":\"True\",\"hovertemplate\":\"genre=%{y}<br>popularity=%{x}<extra></extra>\",\"legendgroup\":\"World\",\"marker\":{\"color\":\"#FF97FF\"},\"name\":\"World\",\"notched\":false,\"offsetgroup\":\"World\",\"orientation\":\"h\",\"showlegend\":true,\"type\":\"box\",\"x\":[3,4,72,5,76,9,43,44,45,46,47,48,49,50,51,52,53,70,54,42,55,58,59,60,61,62,63,64,65,66,67,68,69,8,56,41,57,39,10,40,11,12,13,14,15,16,18,19,20,21,22,23,17,25,37,24,36,35,34,32,31,33,30,29,28,27,26,38],\"x0\":\" \",\"xaxis\":\"x\",\"y\":[\"World\",\"World\",\"World\",\"World\",\"World\",\"World\",\"World\",\"World\",\"World\",\"World\",\"World\",\"World\",\"World\",\"World\",\"World\",\"World\",\"World\",\"World\",\"World\",\"World\",\"World\",\"World\",\"World\",\"World\",\"World\",\"World\",\"World\",\"World\",\"World\",\"World\",\"World\",\"World\",\"World\",\"World\",\"World\",\"World\",\"World\",\"World\",\"World\",\"World\",\"World\",\"World\",\"World\",\"World\",\"World\",\"World\",\"World\",\"World\",\"World\",\"World\",\"World\",\"World\",\"World\",\"World\",\"World\",\"World\",\"World\",\"World\",\"World\",\"World\",\"World\",\"World\",\"World\",\"World\",\"World\",\"World\",\"World\",\"World\"],\"y0\":\" \",\"yaxis\":\"y\"},{\"alignmentgroup\":\"True\",\"hovertemplate\":\"genre=%{y}<br>popularity=%{x}<extra></extra>\",\"legendgroup\":\"Reggae\",\"marker\":{\"color\":\"#FECB52\"},\"name\":\"Reggae\",\"notched\":false,\"offsetgroup\":\"Reggae\",\"orientation\":\"h\",\"showlegend\":true,\"type\":\"box\",\"x\":[27,23,24,25,26,22,28,34,30,31,32,33,35,21,36,29,20,3,18,37,0,1,2,4,5,6,8,9,10,11,13,14,15,16,19,38,61,40,62,63,64,65,66,67,39,70,71,73,74,75,76,77,78,60,59,68,57,58,41,42,43,44,46,47,48,45,50,51,52,53,54,55,56,49],\"x0\":\" \",\"xaxis\":\"x\",\"y\":[\"Reggae\",\"Reggae\",\"Reggae\",\"Reggae\",\"Reggae\",\"Reggae\",\"Reggae\",\"Reggae\",\"Reggae\",\"Reggae\",\"Reggae\",\"Reggae\",\"Reggae\",\"Reggae\",\"Reggae\",\"Reggae\",\"Reggae\",\"Reggae\",\"Reggae\",\"Reggae\",\"Reggae\",\"Reggae\",\"Reggae\",\"Reggae\",\"Reggae\",\"Reggae\",\"Reggae\",\"Reggae\",\"Reggae\",\"Reggae\",\"Reggae\",\"Reggae\",\"Reggae\",\"Reggae\",\"Reggae\",\"Reggae\",\"Reggae\",\"Reggae\",\"Reggae\",\"Reggae\",\"Reggae\",\"Reggae\",\"Reggae\",\"Reggae\",\"Reggae\",\"Reggae\",\"Reggae\",\"Reggae\",\"Reggae\",\"Reggae\",\"Reggae\",\"Reggae\",\"Reggae\",\"Reggae\",\"Reggae\",\"Reggae\",\"Reggae\",\"Reggae\",\"Reggae\",\"Reggae\",\"Reggae\",\"Reggae\",\"Reggae\",\"Reggae\",\"Reggae\",\"Reggae\",\"Reggae\",\"Reggae\",\"Reggae\",\"Reggae\",\"Reggae\",\"Reggae\",\"Reggae\",\"Reggae\"],\"y0\":\" \",\"yaxis\":\"y\"},{\"alignmentgroup\":\"True\",\"hovertemplate\":\"genre=%{y}<br>popularity=%{x}<extra></extra>\",\"legendgroup\":\"Electronic\",\"marker\":{\"color\":\"#636efa\"},\"name\":\"Electronic\",\"notched\":false,\"offsetgroup\":\"Electronic\",\"orientation\":\"h\",\"showlegend\":true,\"type\":\"box\",\"x\":[24,30,29,28,27,26,25,23,31,21,20,19,18,17,3,0,33,22,32,34,35,59,60,61,62,63,64,65,66,58,67,69,70,71,72,73,74,76,79,68,57,36,55,56,37,38,39,40,42,43,44,45,41,47,48,49,50,51,52,53,46,54],\"x0\":\" \",\"xaxis\":\"x\",\"y\":[\"Electronic\",\"Electronic\",\"Electronic\",\"Electronic\",\"Electronic\",\"Electronic\",\"Electronic\",\"Electronic\",\"Electronic\",\"Electronic\",\"Electronic\",\"Electronic\",\"Electronic\",\"Electronic\",\"Electronic\",\"Electronic\",\"Electronic\",\"Electronic\",\"Electronic\",\"Electronic\",\"Electronic\",\"Electronic\",\"Electronic\",\"Electronic\",\"Electronic\",\"Electronic\",\"Electronic\",\"Electronic\",\"Electronic\",\"Electronic\",\"Electronic\",\"Electronic\",\"Electronic\",\"Electronic\",\"Electronic\",\"Electronic\",\"Electronic\",\"Electronic\",\"Electronic\",\"Electronic\",\"Electronic\",\"Electronic\",\"Electronic\",\"Electronic\",\"Electronic\",\"Electronic\",\"Electronic\",\"Electronic\",\"Electronic\",\"Electronic\",\"Electronic\",\"Electronic\",\"Electronic\",\"Electronic\",\"Electronic\",\"Electronic\",\"Electronic\",\"Electronic\",\"Electronic\",\"Electronic\",\"Electronic\",\"Electronic\"],\"y0\":\" \",\"yaxis\":\"y\"},{\"alignmentgroup\":\"True\",\"hovertemplate\":\"genre=%{y}<br>popularity=%{x}<extra></extra>\",\"legendgroup\":\"Reggaeton\",\"marker\":{\"color\":\"#EF553B\"},\"name\":\"Reggaeton\",\"notched\":false,\"offsetgroup\":\"Reggaeton\",\"orientation\":\"h\",\"showlegend\":true,\"type\":\"box\",\"x\":[80,81,82,86,84,85,79,83,78,68,76,75,74,73,72,71,70,69,87,67,77,88,92,51,66,96,95,90,63,28,27,26,25,24,23,22,21,29,20,18,17,16,15,14,13,12,11,19,10,30,32,50,49,48,47,46,45,44,43,31,42,40,39,38,37,36,35,34,33,41,9,8,7,53,55,56,57,58,59,60,61,62,54,5,0,64,65,52],\"x0\":\" \",\"xaxis\":\"x\",\"y\":[\"Reggaeton\",\"Reggaeton\",\"Reggaeton\",\"Reggaeton\",\"Reggaeton\",\"Reggaeton\",\"Reggaeton\",\"Reggaeton\",\"Reggaeton\",\"Reggaeton\",\"Reggaeton\",\"Reggaeton\",\"Reggaeton\",\"Reggaeton\",\"Reggaeton\",\"Reggaeton\",\"Reggaeton\",\"Reggaeton\",\"Reggaeton\",\"Reggaeton\",\"Reggaeton\",\"Reggaeton\",\"Reggaeton\",\"Reggaeton\",\"Reggaeton\",\"Reggaeton\",\"Reggaeton\",\"Reggaeton\",\"Reggaeton\",\"Reggaeton\",\"Reggaeton\",\"Reggaeton\",\"Reggaeton\",\"Reggaeton\",\"Reggaeton\",\"Reggaeton\",\"Reggaeton\",\"Reggaeton\",\"Reggaeton\",\"Reggaeton\",\"Reggaeton\",\"Reggaeton\",\"Reggaeton\",\"Reggaeton\",\"Reggaeton\",\"Reggaeton\",\"Reggaeton\",\"Reggaeton\",\"Reggaeton\",\"Reggaeton\",\"Reggaeton\",\"Reggaeton\",\"Reggaeton\",\"Reggaeton\",\"Reggaeton\",\"Reggaeton\",\"Reggaeton\",\"Reggaeton\",\"Reggaeton\",\"Reggaeton\",\"Reggaeton\",\"Reggaeton\",\"Reggaeton\",\"Reggaeton\",\"Reggaeton\",\"Reggaeton\",\"Reggaeton\",\"Reggaeton\",\"Reggaeton\",\"Reggaeton\",\"Reggaeton\",\"Reggaeton\",\"Reggaeton\",\"Reggaeton\",\"Reggaeton\",\"Reggaeton\",\"Reggaeton\",\"Reggaeton\",\"Reggaeton\",\"Reggaeton\",\"Reggaeton\",\"Reggaeton\",\"Reggaeton\",\"Reggaeton\",\"Reggaeton\",\"Reggaeton\",\"Reggaeton\",\"Reggaeton\"],\"y0\":\" \",\"yaxis\":\"y\"},{\"alignmentgroup\":\"True\",\"hovertemplate\":\"genre=%{y}<br>popularity=%{x}<extra></extra>\",\"legendgroup\":\"Soul\",\"marker\":{\"color\":\"#00cc96\"},\"name\":\"Soul\",\"notched\":false,\"offsetgroup\":\"Soul\",\"orientation\":\"h\",\"showlegend\":true,\"type\":\"box\",\"x\":[47,5,1,36,38,39,40,41,42,43,44,45,46,48,49,50,51,52,0,37,74,75,76,77,78,79,81,73,85,72,71,70,53,54,55,56,57,58,59,60,61,62,63,64,65,66,67,68,69,7,13,18,20,22,25,26,27,12,29,30,31,32,33,34,35,28],\"x0\":\" \",\"xaxis\":\"x\",\"y\":[\"Soul\",\"Soul\",\"Soul\",\"Soul\",\"Soul\",\"Soul\",\"Soul\",\"Soul\",\"Soul\",\"Soul\",\"Soul\",\"Soul\",\"Soul\",\"Soul\",\"Soul\",\"Soul\",\"Soul\",\"Soul\",\"Soul\",\"Soul\",\"Soul\",\"Soul\",\"Soul\",\"Soul\",\"Soul\",\"Soul\",\"Soul\",\"Soul\",\"Soul\",\"Soul\",\"Soul\",\"Soul\",\"Soul\",\"Soul\",\"Soul\",\"Soul\",\"Soul\",\"Soul\",\"Soul\",\"Soul\",\"Soul\",\"Soul\",\"Soul\",\"Soul\",\"Soul\",\"Soul\",\"Soul\",\"Soul\",\"Soul\",\"Soul\",\"Soul\",\"Soul\",\"Soul\",\"Soul\",\"Soul\",\"Soul\",\"Soul\",\"Soul\",\"Soul\",\"Soul\",\"Soul\",\"Soul\",\"Soul\",\"Soul\",\"Soul\",\"Soul\"],\"y0\":\" \",\"yaxis\":\"y\"},{\"alignmentgroup\":\"True\",\"hovertemplate\":\"genre=%{y}<br>popularity=%{x}<extra></extra>\",\"legendgroup\":\"R&B\",\"marker\":{\"color\":\"#ab63fa\"},\"name\":\"R&B\",\"notched\":false,\"offsetgroup\":\"R&B\",\"orientation\":\"h\",\"showlegend\":true,\"type\":\"box\",\"x\":[44,45,46,47,48,49,50,54,52,53,55,56,57,58,43,51,42,20,40,36,35,34,32,31,30,29,41,28,59,18,17,13,12,39,0,27,60,1,62,61,80,79,75,74,73,72,71,38,69,70,64,65,63,67,37,68,66],\"x0\":\" \",\"xaxis\":\"x\",\"y\":[\"R&B\",\"R&B\",\"R&B\",\"R&B\",\"R&B\",\"R&B\",\"R&B\",\"R&B\",\"R&B\",\"R&B\",\"R&B\",\"R&B\",\"R&B\",\"R&B\",\"R&B\",\"R&B\",\"R&B\",\"R&B\",\"R&B\",\"R&B\",\"R&B\",\"R&B\",\"R&B\",\"R&B\",\"R&B\",\"R&B\",\"R&B\",\"R&B\",\"R&B\",\"R&B\",\"R&B\",\"R&B\",\"R&B\",\"R&B\",\"R&B\",\"R&B\",\"R&B\",\"R&B\",\"R&B\",\"R&B\",\"R&B\",\"R&B\",\"R&B\",\"R&B\",\"R&B\",\"R&B\",\"R&B\",\"R&B\",\"R&B\",\"R&B\",\"R&B\",\"R&B\",\"R&B\",\"R&B\",\"R&B\",\"R&B\",\"R&B\"],\"y0\":\" \",\"yaxis\":\"y\"},{\"alignmentgroup\":\"True\",\"hovertemplate\":\"genre=%{y}<br>popularity=%{x}<extra></extra>\",\"legendgroup\":\"Folk\",\"marker\":{\"color\":\"#FFA15A\"},\"name\":\"Folk\",\"notched\":false,\"offsetgroup\":\"Folk\",\"orientation\":\"h\",\"showlegend\":true,\"type\":\"box\",\"x\":[56,62,58,59,60,61,63,68,65,66,67,69,70,71,72,74,64,73,57,75,55,76,77,78,79,80,81,83,84,54,29,52,28,27,26,25,24,23,17,15,14,12,1,53,0,30,13,32,51,31,50,49,48,47,46,44,43,42,41,45,35,39,38,37,36,40,34,33],\"x0\":\" \",\"xaxis\":\"x\",\"y\":[\"Folk\",\"Folk\",\"Folk\",\"Folk\",\"Folk\",\"Folk\",\"Folk\",\"Folk\",\"Folk\",\"Folk\",\"Folk\",\"Folk\",\"Folk\",\"Folk\",\"Folk\",\"Folk\",\"Folk\",\"Folk\",\"Folk\",\"Folk\",\"Folk\",\"Folk\",\"Folk\",\"Folk\",\"Folk\",\"Folk\",\"Folk\",\"Folk\",\"Folk\",\"Folk\",\"Folk\",\"Folk\",\"Folk\",\"Folk\",\"Folk\",\"Folk\",\"Folk\",\"Folk\",\"Folk\",\"Folk\",\"Folk\",\"Folk\",\"Folk\",\"Folk\",\"Folk\",\"Folk\",\"Folk\",\"Folk\",\"Folk\",\"Folk\",\"Folk\",\"Folk\",\"Folk\",\"Folk\",\"Folk\",\"Folk\",\"Folk\",\"Folk\",\"Folk\",\"Folk\",\"Folk\",\"Folk\",\"Folk\",\"Folk\",\"Folk\",\"Folk\",\"Folk\",\"Folk\"],\"y0\":\" \",\"yaxis\":\"y\"},{\"alignmentgroup\":\"True\",\"hovertemplate\":\"genre=%{y}<br>popularity=%{x}<extra></extra>\",\"legendgroup\":\"Country\",\"marker\":{\"color\":\"#19d3f3\"},\"name\":\"Country\",\"notched\":false,\"offsetgroup\":\"Country\",\"orientation\":\"h\",\"showlegend\":true,\"type\":\"box\",\"x\":[31,55,56,57,58,59,60,61,62,63,64,65,66,54,67,69,70,71,72,73,74,75,76,77,78,79,82,68,53,51,33,34,35,36,52,37,39,40,41,42,43,44,45,46,47,48,49,50,38,23,22,21,20,19,18,13,11,10,0,30,28,24],\"x0\":\" \",\"xaxis\":\"x\",\"y\":[\"Country\",\"Country\",\"Country\",\"Country\",\"Country\",\"Country\",\"Country\",\"Country\",\"Country\",\"Country\",\"Country\",\"Country\",\"Country\",\"Country\",\"Country\",\"Country\",\"Country\",\"Country\",\"Country\",\"Country\",\"Country\",\"Country\",\"Country\",\"Country\",\"Country\",\"Country\",\"Country\",\"Country\",\"Country\",\"Country\",\"Country\",\"Country\",\"Country\",\"Country\",\"Country\",\"Country\",\"Country\",\"Country\",\"Country\",\"Country\",\"Country\",\"Country\",\"Country\",\"Country\",\"Country\",\"Country\",\"Country\",\"Country\",\"Country\",\"Country\",\"Country\",\"Country\",\"Country\",\"Country\",\"Country\",\"Country\",\"Country\",\"Country\",\"Country\",\"Country\",\"Country\",\"Country\"],\"y0\":\" \",\"yaxis\":\"y\"},{\"alignmentgroup\":\"True\",\"hovertemplate\":\"genre=%{y}<br>popularity=%{x}<extra></extra>\",\"legendgroup\":\"Dance\",\"marker\":{\"color\":\"#FF6692\"},\"name\":\"Dance\",\"notched\":false,\"offsetgroup\":\"Dance\",\"orientation\":\"h\",\"showlegend\":true,\"type\":\"box\",\"x\":[61,62,63,64,69,66,67,68,60,65,59,47,57,56,55,54,53,52,51,50,49,48,46,70,58,71,73,45,72,83,82,81,80,79,78,77,76,75,74,44,6,42,43,41,40,39,38,37,36,34,33,32,31,30,29,28,26,24,23,22,21,20,19,15,0],\"x0\":\" \",\"xaxis\":\"x\",\"y\":[\"Dance\",\"Dance\",\"Dance\",\"Dance\",\"Dance\",\"Dance\",\"Dance\",\"Dance\",\"Dance\",\"Dance\",\"Dance\",\"Dance\",\"Dance\",\"Dance\",\"Dance\",\"Dance\",\"Dance\",\"Dance\",\"Dance\",\"Dance\",\"Dance\",\"Dance\",\"Dance\",\"Dance\",\"Dance\",\"Dance\",\"Dance\",\"Dance\",\"Dance\",\"Dance\",\"Dance\",\"Dance\",\"Dance\",\"Dance\",\"Dance\",\"Dance\",\"Dance\",\"Dance\",\"Dance\",\"Dance\",\"Dance\",\"Dance\",\"Dance\",\"Dance\",\"Dance\",\"Dance\",\"Dance\",\"Dance\",\"Dance\",\"Dance\",\"Dance\",\"Dance\",\"Dance\",\"Dance\",\"Dance\",\"Dance\",\"Dance\",\"Dance\",\"Dance\",\"Dance\",\"Dance\",\"Dance\",\"Dance\",\"Dance\",\"Dance\"],\"y0\":\" \",\"yaxis\":\"y\"},{\"alignmentgroup\":\"True\",\"hovertemplate\":\"genre=%{y}<br>popularity=%{x}<extra></extra>\",\"legendgroup\":\"Blues\",\"marker\":{\"color\":\"#B6E880\"},\"name\":\"Blues\",\"notched\":false,\"offsetgroup\":\"Blues\",\"orientation\":\"h\",\"showlegend\":true,\"type\":\"box\",\"x\":[37,40,39,38,36,34,33,32,31,30,25,23,1,44,45,43,52,53,54,55,56,57,58,59,60,61,62,63,64,65,66,67,68,69,70,71,72,73,75,76,42,51,50,48,0,46,47,49,41],\"x0\":\" \",\"xaxis\":\"x\",\"y\":[\"Blues\",\"Blues\",\"Blues\",\"Blues\",\"Blues\",\"Blues\",\"Blues\",\"Blues\",\"Blues\",\"Blues\",\"Blues\",\"Blues\",\"Blues\",\"Blues\",\"Blues\",\"Blues\",\"Blues\",\"Blues\",\"Blues\",\"Blues\",\"Blues\",\"Blues\",\"Blues\",\"Blues\",\"Blues\",\"Blues\",\"Blues\",\"Blues\",\"Blues\",\"Blues\",\"Blues\",\"Blues\",\"Blues\",\"Blues\",\"Blues\",\"Blues\",\"Blues\",\"Blues\",\"Blues\",\"Blues\",\"Blues\",\"Blues\",\"Blues\",\"Blues\",\"Blues\",\"Blues\",\"Blues\",\"Blues\",\"Blues\"],\"y0\":\" \",\"yaxis\":\"y\"},{\"alignmentgroup\":\"True\",\"hovertemplate\":\"genre=%{y}<br>popularity=%{x}<extra></extra>\",\"legendgroup\":\"Alternative\",\"marker\":{\"color\":\"#FF97FF\"},\"name\":\"Alternative\",\"notched\":false,\"offsetgroup\":\"Alternative\",\"orientation\":\"h\",\"showlegend\":true,\"type\":\"box\",\"x\":[40,86,57,56,55,54,53,52,51,50,49,48,47,46,45,44,43,42,41,58,39,59,61,78,77,76,75,74,73,72,71,70,69,68,67,66,65,64,63,62,60,37,38,35,79,80,36,81,82,83,84,85,0,16,17,1,22,25,26,27,30,31,32,33,34,18],\"x0\":\" \",\"xaxis\":\"x\",\"y\":[\"Alternative\",\"Alternative\",\"Alternative\",\"Alternative\",\"Alternative\",\"Alternative\",\"Alternative\",\"Alternative\",\"Alternative\",\"Alternative\",\"Alternative\",\"Alternative\",\"Alternative\",\"Alternative\",\"Alternative\",\"Alternative\",\"Alternative\",\"Alternative\",\"Alternative\",\"Alternative\",\"Alternative\",\"Alternative\",\"Alternative\",\"Alternative\",\"Alternative\",\"Alternative\",\"Alternative\",\"Alternative\",\"Alternative\",\"Alternative\",\"Alternative\",\"Alternative\",\"Alternative\",\"Alternative\",\"Alternative\",\"Alternative\",\"Alternative\",\"Alternative\",\"Alternative\",\"Alternative\",\"Alternative\",\"Alternative\",\"Alternative\",\"Alternative\",\"Alternative\",\"Alternative\",\"Alternative\",\"Alternative\",\"Alternative\",\"Alternative\",\"Alternative\",\"Alternative\",\"Alternative\",\"Alternative\",\"Alternative\",\"Alternative\",\"Alternative\",\"Alternative\",\"Alternative\",\"Alternative\",\"Alternative\",\"Alternative\",\"Alternative\",\"Alternative\",\"Alternative\",\"Alternative\"],\"y0\":\" \",\"yaxis\":\"y\"},{\"alignmentgroup\":\"True\",\"hovertemplate\":\"genre=%{y}<br>popularity=%{x}<extra></extra>\",\"legendgroup\":\"Indie\",\"marker\":{\"color\":\"#FECB52\"},\"name\":\"Indie\",\"notched\":false,\"offsetgroup\":\"Indie\",\"orientation\":\"h\",\"showlegend\":true,\"type\":\"box\",\"x\":[78,61,60,80,79,77,68,74,73,72,71,70,69,67,66,65,64,63,62,59,75,58,81,47,57,56,55,54,53,52,51,50,49,48,46,45,44,43,42,84,40,19,20,41,22,23,25,26,21,33,34,37,38,39,29],\"x0\":\" \",\"xaxis\":\"x\",\"y\":[\"Indie\",\"Indie\",\"Indie\",\"Indie\",\"Indie\",\"Indie\",\"Indie\",\"Indie\",\"Indie\",\"Indie\",\"Indie\",\"Indie\",\"Indie\",\"Indie\",\"Indie\",\"Indie\",\"Indie\",\"Indie\",\"Indie\",\"Indie\",\"Indie\",\"Indie\",\"Indie\",\"Indie\",\"Indie\",\"Indie\",\"Indie\",\"Indie\",\"Indie\",\"Indie\",\"Indie\",\"Indie\",\"Indie\",\"Indie\",\"Indie\",\"Indie\",\"Indie\",\"Indie\",\"Indie\",\"Indie\",\"Indie\",\"Indie\",\"Indie\",\"Indie\",\"Indie\",\"Indie\",\"Indie\",\"Indie\",\"Indie\",\"Indie\",\"Indie\",\"Indie\",\"Indie\",\"Indie\",\"Indie\"],\"y0\":\" \",\"yaxis\":\"y\"},{\"alignmentgroup\":\"True\",\"hovertemplate\":\"genre=%{y}<br>popularity=%{x}<extra></extra>\",\"legendgroup\":\"Rock\",\"marker\":{\"color\":\"#636efa\"},\"name\":\"Rock\",\"notched\":false,\"offsetgroup\":\"Rock\",\"orientation\":\"h\",\"showlegend\":true,\"type\":\"box\",\"x\":[31,27,26,25,10,23,3,0,33,24,83,35,46,69,70,71,72,73,74,75,76,68,77,79,80,81,90,89,88,85,84,78,38,67,65,47,48,49,50,51,52,53,54,66,55,57,58,59,60,61,62,63,64,56,82],\"x0\":\" \",\"xaxis\":\"x\",\"y\":[\"Rock\",\"Rock\",\"Rock\",\"Rock\",\"Rock\",\"Rock\",\"Rock\",\"Rock\",\"Rock\",\"Rock\",\"Rock\",\"Rock\",\"Rock\",\"Rock\",\"Rock\",\"Rock\",\"Rock\",\"Rock\",\"Rock\",\"Rock\",\"Rock\",\"Rock\",\"Rock\",\"Rock\",\"Rock\",\"Rock\",\"Rock\",\"Rock\",\"Rock\",\"Rock\",\"Rock\",\"Rock\",\"Rock\",\"Rock\",\"Rock\",\"Rock\",\"Rock\",\"Rock\",\"Rock\",\"Rock\",\"Rock\",\"Rock\",\"Rock\",\"Rock\",\"Rock\",\"Rock\",\"Rock\",\"Rock\",\"Rock\",\"Rock\",\"Rock\",\"Rock\",\"Rock\",\"Rock\",\"Rock\"],\"y0\":\" \",\"yaxis\":\"y\"},{\"alignmentgroup\":\"True\",\"hovertemplate\":\"genre=%{y}<br>popularity=%{x}<extra></extra>\",\"legendgroup\":\"Hip-Hop\",\"marker\":{\"color\":\"#EF553B\"},\"name\":\"Hip-Hop\",\"notched\":false,\"offsetgroup\":\"Hip-Hop\",\"orientation\":\"h\",\"showlegend\":true,\"type\":\"box\",\"x\":[73,35,33,61,60,59,58,57,56,55,54,53,52,51,50,62,49,47,46,45,44,43,42,41,40,39,38,36,48,63,65,64,95,90,85,84,83,82,81,80,87,78,67,79,66,68,69,71,70,74,75,76,77,72],\"x0\":\" \",\"xaxis\":\"x\",\"y\":[\"Hip-Hop\",\"Hip-Hop\",\"Hip-Hop\",\"Hip-Hop\",\"Hip-Hop\",\"Hip-Hop\",\"Hip-Hop\",\"Hip-Hop\",\"Hip-Hop\",\"Hip-Hop\",\"Hip-Hop\",\"Hip-Hop\",\"Hip-Hop\",\"Hip-Hop\",\"Hip-Hop\",\"Hip-Hop\",\"Hip-Hop\",\"Hip-Hop\",\"Hip-Hop\",\"Hip-Hop\",\"Hip-Hop\",\"Hip-Hop\",\"Hip-Hop\",\"Hip-Hop\",\"Hip-Hop\",\"Hip-Hop\",\"Hip-Hop\",\"Hip-Hop\",\"Hip-Hop\",\"Hip-Hop\",\"Hip-Hop\",\"Hip-Hop\",\"Hip-Hop\",\"Hip-Hop\",\"Hip-Hop\",\"Hip-Hop\",\"Hip-Hop\",\"Hip-Hop\",\"Hip-Hop\",\"Hip-Hop\",\"Hip-Hop\",\"Hip-Hop\",\"Hip-Hop\",\"Hip-Hop\",\"Hip-Hop\",\"Hip-Hop\",\"Hip-Hop\",\"Hip-Hop\",\"Hip-Hop\",\"Hip-Hop\",\"Hip-Hop\",\"Hip-Hop\",\"Hip-Hop\",\"Hip-Hop\"],\"y0\":\" \",\"yaxis\":\"y\"},{\"alignmentgroup\":\"True\",\"hovertemplate\":\"genre=%{y}<br>popularity=%{x}<extra></extra>\",\"legendgroup\":\"Rap\",\"marker\":{\"color\":\"#00cc96\"},\"name\":\"Rap\",\"notched\":false,\"offsetgroup\":\"Rap\",\"orientation\":\"h\",\"showlegend\":true,\"type\":\"box\",\"x\":[61,62,63,64,65,66,67,68,69,70,71,72,73,74,75,76,77,78,79,80,81,82,83,84,85,60,59,58,17,18,19,21,23,24,25,26,35,36,37,38,86,39,45,46,47,48,49,50,51,52,53,54,55,56,44,87,57,89,88,22,90,91,92,93],\"x0\":\" \",\"xaxis\":\"x\",\"y\":[\"Rap\",\"Rap\",\"Rap\",\"Rap\",\"Rap\",\"Rap\",\"Rap\",\"Rap\",\"Rap\",\"Rap\",\"Rap\",\"Rap\",\"Rap\",\"Rap\",\"Rap\",\"Rap\",\"Rap\",\"Rap\",\"Rap\",\"Rap\",\"Rap\",\"Rap\",\"Rap\",\"Rap\",\"Rap\",\"Rap\",\"Rap\",\"Rap\",\"Rap\",\"Rap\",\"Rap\",\"Rap\",\"Rap\",\"Rap\",\"Rap\",\"Rap\",\"Rap\",\"Rap\",\"Rap\",\"Rap\",\"Rap\",\"Rap\",\"Rap\",\"Rap\",\"Rap\",\"Rap\",\"Rap\",\"Rap\",\"Rap\",\"Rap\",\"Rap\",\"Rap\",\"Rap\",\"Rap\",\"Rap\",\"Rap\",\"Rap\",\"Rap\",\"Rap\",\"Rap\",\"Rap\",\"Rap\",\"Rap\",\"Rap\"],\"y0\":\" \",\"yaxis\":\"y\"},{\"alignmentgroup\":\"True\",\"hovertemplate\":\"genre=%{y}<br>popularity=%{x}<extra></extra>\",\"legendgroup\":\"Pop\",\"marker\":{\"color\":\"#ab63fa\"},\"name\":\"Pop\",\"notched\":false,\"offsetgroup\":\"Pop\",\"orientation\":\"h\",\"showlegend\":true,\"type\":\"box\",\"x\":[59,56,57,58,60,65,62,63,64,66,55,61,54,22,52,51,49,48,47,38,30,28,26,23,67,20,3,53,68,82,70,100,99,98,96,95,94,93,92,91,90,89,88,87,69,86,84,83,81,80,79,78,77,76,75,74,73,72,71,85,97],\"x0\":\" \",\"xaxis\":\"x\",\"y\":[\"Pop\",\"Pop\",\"Pop\",\"Pop\",\"Pop\",\"Pop\",\"Pop\",\"Pop\",\"Pop\",\"Pop\",\"Pop\",\"Pop\",\"Pop\",\"Pop\",\"Pop\",\"Pop\",\"Pop\",\"Pop\",\"Pop\",\"Pop\",\"Pop\",\"Pop\",\"Pop\",\"Pop\",\"Pop\",\"Pop\",\"Pop\",\"Pop\",\"Pop\",\"Pop\",\"Pop\",\"Pop\",\"Pop\",\"Pop\",\"Pop\",\"Pop\",\"Pop\",\"Pop\",\"Pop\",\"Pop\",\"Pop\",\"Pop\",\"Pop\",\"Pop\",\"Pop\",\"Pop\",\"Pop\",\"Pop\",\"Pop\",\"Pop\",\"Pop\",\"Pop\",\"Pop\",\"Pop\",\"Pop\",\"Pop\",\"Pop\",\"Pop\",\"Pop\",\"Pop\",\"Pop\"],\"y0\":\" \",\"yaxis\":\"y\"}],                        {\"boxmode\":\"overlay\",\"height\":950,\"legend\":{\"title\":{\"text\":\"genre\"},\"tracegroupgap\":0},\"margin\":{\"t\":60},\"showlegend\":false,\"template\":{\"data\":{\"bar\":[{\"error_x\":{\"color\":\"#2a3f5f\"},\"error_y\":{\"color\":\"#2a3f5f\"},\"marker\":{\"line\":{\"color\":\"#E5ECF6\",\"width\":0.5},\"pattern\":{\"fillmode\":\"overlay\",\"size\":10,\"solidity\":0.2}},\"type\":\"bar\"}],\"barpolar\":[{\"marker\":{\"line\":{\"color\":\"#E5ECF6\",\"width\":0.5},\"pattern\":{\"fillmode\":\"overlay\",\"size\":10,\"solidity\":0.2}},\"type\":\"barpolar\"}],\"carpet\":[{\"aaxis\":{\"endlinecolor\":\"#2a3f5f\",\"gridcolor\":\"white\",\"linecolor\":\"white\",\"minorgridcolor\":\"white\",\"startlinecolor\":\"#2a3f5f\"},\"baxis\":{\"endlinecolor\":\"#2a3f5f\",\"gridcolor\":\"white\",\"linecolor\":\"white\",\"minorgridcolor\":\"white\",\"startlinecolor\":\"#2a3f5f\"},\"type\":\"carpet\"}],\"choropleth\":[{\"colorbar\":{\"outlinewidth\":0,\"ticks\":\"\"},\"type\":\"choropleth\"}],\"contour\":[{\"colorbar\":{\"outlinewidth\":0,\"ticks\":\"\"},\"colorscale\":[[0.0,\"#0d0887\"],[0.1111111111111111,\"#46039f\"],[0.2222222222222222,\"#7201a8\"],[0.3333333333333333,\"#9c179e\"],[0.4444444444444444,\"#bd3786\"],[0.5555555555555556,\"#d8576b\"],[0.6666666666666666,\"#ed7953\"],[0.7777777777777778,\"#fb9f3a\"],[0.8888888888888888,\"#fdca26\"],[1.0,\"#f0f921\"]],\"type\":\"contour\"}],\"contourcarpet\":[{\"colorbar\":{\"outlinewidth\":0,\"ticks\":\"\"},\"type\":\"contourcarpet\"}],\"heatmap\":[{\"colorbar\":{\"outlinewidth\":0,\"ticks\":\"\"},\"colorscale\":[[0.0,\"#0d0887\"],[0.1111111111111111,\"#46039f\"],[0.2222222222222222,\"#7201a8\"],[0.3333333333333333,\"#9c179e\"],[0.4444444444444444,\"#bd3786\"],[0.5555555555555556,\"#d8576b\"],[0.6666666666666666,\"#ed7953\"],[0.7777777777777778,\"#fb9f3a\"],[0.8888888888888888,\"#fdca26\"],[1.0,\"#f0f921\"]],\"type\":\"heatmap\"}],\"heatmapgl\":[{\"colorbar\":{\"outlinewidth\":0,\"ticks\":\"\"},\"colorscale\":[[0.0,\"#0d0887\"],[0.1111111111111111,\"#46039f\"],[0.2222222222222222,\"#7201a8\"],[0.3333333333333333,\"#9c179e\"],[0.4444444444444444,\"#bd3786\"],[0.5555555555555556,\"#d8576b\"],[0.6666666666666666,\"#ed7953\"],[0.7777777777777778,\"#fb9f3a\"],[0.8888888888888888,\"#fdca26\"],[1.0,\"#f0f921\"]],\"type\":\"heatmapgl\"}],\"histogram\":[{\"marker\":{\"pattern\":{\"fillmode\":\"overlay\",\"size\":10,\"solidity\":0.2}},\"type\":\"histogram\"}],\"histogram2d\":[{\"colorbar\":{\"outlinewidth\":0,\"ticks\":\"\"},\"colorscale\":[[0.0,\"#0d0887\"],[0.1111111111111111,\"#46039f\"],[0.2222222222222222,\"#7201a8\"],[0.3333333333333333,\"#9c179e\"],[0.4444444444444444,\"#bd3786\"],[0.5555555555555556,\"#d8576b\"],[0.6666666666666666,\"#ed7953\"],[0.7777777777777778,\"#fb9f3a\"],[0.8888888888888888,\"#fdca26\"],[1.0,\"#f0f921\"]],\"type\":\"histogram2d\"}],\"histogram2dcontour\":[{\"colorbar\":{\"outlinewidth\":0,\"ticks\":\"\"},\"colorscale\":[[0.0,\"#0d0887\"],[0.1111111111111111,\"#46039f\"],[0.2222222222222222,\"#7201a8\"],[0.3333333333333333,\"#9c179e\"],[0.4444444444444444,\"#bd3786\"],[0.5555555555555556,\"#d8576b\"],[0.6666666666666666,\"#ed7953\"],[0.7777777777777778,\"#fb9f3a\"],[0.8888888888888888,\"#fdca26\"],[1.0,\"#f0f921\"]],\"type\":\"histogram2dcontour\"}],\"mesh3d\":[{\"colorbar\":{\"outlinewidth\":0,\"ticks\":\"\"},\"type\":\"mesh3d\"}],\"parcoords\":[{\"line\":{\"colorbar\":{\"outlinewidth\":0,\"ticks\":\"\"}},\"type\":\"parcoords\"}],\"pie\":[{\"automargin\":true,\"type\":\"pie\"}],\"scatter\":[{\"marker\":{\"colorbar\":{\"outlinewidth\":0,\"ticks\":\"\"}},\"type\":\"scatter\"}],\"scatter3d\":[{\"line\":{\"colorbar\":{\"outlinewidth\":0,\"ticks\":\"\"}},\"marker\":{\"colorbar\":{\"outlinewidth\":0,\"ticks\":\"\"}},\"type\":\"scatter3d\"}],\"scattercarpet\":[{\"marker\":{\"colorbar\":{\"outlinewidth\":0,\"ticks\":\"\"}},\"type\":\"scattercarpet\"}],\"scattergeo\":[{\"marker\":{\"colorbar\":{\"outlinewidth\":0,\"ticks\":\"\"}},\"type\":\"scattergeo\"}],\"scattergl\":[{\"marker\":{\"colorbar\":{\"outlinewidth\":0,\"ticks\":\"\"}},\"type\":\"scattergl\"}],\"scattermapbox\":[{\"marker\":{\"colorbar\":{\"outlinewidth\":0,\"ticks\":\"\"}},\"type\":\"scattermapbox\"}],\"scatterpolar\":[{\"marker\":{\"colorbar\":{\"outlinewidth\":0,\"ticks\":\"\"}},\"type\":\"scatterpolar\"}],\"scatterpolargl\":[{\"marker\":{\"colorbar\":{\"outlinewidth\":0,\"ticks\":\"\"}},\"type\":\"scatterpolargl\"}],\"scatterternary\":[{\"marker\":{\"colorbar\":{\"outlinewidth\":0,\"ticks\":\"\"}},\"type\":\"scatterternary\"}],\"surface\":[{\"colorbar\":{\"outlinewidth\":0,\"ticks\":\"\"},\"colorscale\":[[0.0,\"#0d0887\"],[0.1111111111111111,\"#46039f\"],[0.2222222222222222,\"#7201a8\"],[0.3333333333333333,\"#9c179e\"],[0.4444444444444444,\"#bd3786\"],[0.5555555555555556,\"#d8576b\"],[0.6666666666666666,\"#ed7953\"],[0.7777777777777778,\"#fb9f3a\"],[0.8888888888888888,\"#fdca26\"],[1.0,\"#f0f921\"]],\"type\":\"surface\"}],\"table\":[{\"cells\":{\"fill\":{\"color\":\"#EBF0F8\"},\"line\":{\"color\":\"white\"}},\"header\":{\"fill\":{\"color\":\"#C8D4E3\"},\"line\":{\"color\":\"white\"}},\"type\":\"table\"}]},\"layout\":{\"annotationdefaults\":{\"arrowcolor\":\"#2a3f5f\",\"arrowhead\":0,\"arrowwidth\":1},\"autotypenumbers\":\"strict\",\"coloraxis\":{\"colorbar\":{\"outlinewidth\":0,\"ticks\":\"\"}},\"colorscale\":{\"diverging\":[[0,\"#8e0152\"],[0.1,\"#c51b7d\"],[0.2,\"#de77ae\"],[0.3,\"#f1b6da\"],[0.4,\"#fde0ef\"],[0.5,\"#f7f7f7\"],[0.6,\"#e6f5d0\"],[0.7,\"#b8e186\"],[0.8,\"#7fbc41\"],[0.9,\"#4d9221\"],[1,\"#276419\"]],\"sequential\":[[0.0,\"#0d0887\"],[0.1111111111111111,\"#46039f\"],[0.2222222222222222,\"#7201a8\"],[0.3333333333333333,\"#9c179e\"],[0.4444444444444444,\"#bd3786\"],[0.5555555555555556,\"#d8576b\"],[0.6666666666666666,\"#ed7953\"],[0.7777777777777778,\"#fb9f3a\"],[0.8888888888888888,\"#fdca26\"],[1.0,\"#f0f921\"]],\"sequentialminus\":[[0.0,\"#0d0887\"],[0.1111111111111111,\"#46039f\"],[0.2222222222222222,\"#7201a8\"],[0.3333333333333333,\"#9c179e\"],[0.4444444444444444,\"#bd3786\"],[0.5555555555555556,\"#d8576b\"],[0.6666666666666666,\"#ed7953\"],[0.7777777777777778,\"#fb9f3a\"],[0.8888888888888888,\"#fdca26\"],[1.0,\"#f0f921\"]]},\"colorway\":[\"#636efa\",\"#EF553B\",\"#00cc96\",\"#ab63fa\",\"#FFA15A\",\"#19d3f3\",\"#FF6692\",\"#B6E880\",\"#FF97FF\",\"#FECB52\"],\"font\":{\"color\":\"#2a3f5f\"},\"geo\":{\"bgcolor\":\"white\",\"lakecolor\":\"white\",\"landcolor\":\"#E5ECF6\",\"showlakes\":true,\"showland\":true,\"subunitcolor\":\"white\"},\"hoverlabel\":{\"align\":\"left\"},\"hovermode\":\"closest\",\"mapbox\":{\"style\":\"light\"},\"paper_bgcolor\":\"white\",\"plot_bgcolor\":\"#E5ECF6\",\"polar\":{\"angularaxis\":{\"gridcolor\":\"white\",\"linecolor\":\"white\",\"ticks\":\"\"},\"bgcolor\":\"#E5ECF6\",\"radialaxis\":{\"gridcolor\":\"white\",\"linecolor\":\"white\",\"ticks\":\"\"}},\"scene\":{\"xaxis\":{\"backgroundcolor\":\"#E5ECF6\",\"gridcolor\":\"white\",\"gridwidth\":2,\"linecolor\":\"white\",\"showbackground\":true,\"ticks\":\"\",\"zerolinecolor\":\"white\"},\"yaxis\":{\"backgroundcolor\":\"#E5ECF6\",\"gridcolor\":\"white\",\"gridwidth\":2,\"linecolor\":\"white\",\"showbackground\":true,\"ticks\":\"\",\"zerolinecolor\":\"white\"},\"zaxis\":{\"backgroundcolor\":\"#E5ECF6\",\"gridcolor\":\"white\",\"gridwidth\":2,\"linecolor\":\"white\",\"showbackground\":true,\"ticks\":\"\",\"zerolinecolor\":\"white\"}},\"shapedefaults\":{\"line\":{\"color\":\"#2a3f5f\"}},\"ternary\":{\"aaxis\":{\"gridcolor\":\"white\",\"linecolor\":\"white\",\"ticks\":\"\"},\"baxis\":{\"gridcolor\":\"white\",\"linecolor\":\"white\",\"ticks\":\"\"},\"bgcolor\":\"#E5ECF6\",\"caxis\":{\"gridcolor\":\"white\",\"linecolor\":\"white\",\"ticks\":\"\"}},\"title\":{\"x\":0.05},\"xaxis\":{\"automargin\":true,\"gridcolor\":\"white\",\"linecolor\":\"white\",\"ticks\":\"\",\"title\":{\"standoff\":15},\"zerolinecolor\":\"white\",\"zerolinewidth\":2},\"yaxis\":{\"automargin\":true,\"gridcolor\":\"white\",\"linecolor\":\"white\",\"ticks\":\"\",\"title\":{\"standoff\":15},\"zerolinecolor\":\"white\",\"zerolinewidth\":2}}},\"width\":950,\"xaxis\":{\"anchor\":\"y\",\"domain\":[0.0,1.0],\"title\":{\"text\":\"popularity\"}},\"yaxis\":{\"anchor\":\"x\",\"categoryarray\":[\"Pop\",\"Rap\",\"Hip-Hop\",\"Rock\",\"Indie\",\"Alternative\",\"Blues\",\"Dance\",\"Country\",\"Folk\",\"R&B\",\"Soul\",\"Reggaeton\",\"Electronic\",\"Reggae\",\"World\",\"Ska\",\"Movie\",\"Soundtrack\",\"Jazz\",\"Classical\",\"Comedy\",\"Opera\",\"A Capella\"],\"categoryorder\":\"array\",\"domain\":[0.0,1.0],\"title\":{\"text\":\"genre\"}}},                        {\"responsive\": true}                    ).then(function(){\n",
       "                            \n",
       "var gd = document.getElementById('502aa4cc-045a-465e-ba05-622722879a09');\n",
       "var x = new MutationObserver(function (mutations, observer) {{\n",
       "        var display = window.getComputedStyle(gd).display;\n",
       "        if (!display || display === 'none') {{\n",
       "            console.log([gd, 'removed!']);\n",
       "            Plotly.purge(gd);\n",
       "            observer.disconnect();\n",
       "        }}\n",
       "}});\n",
       "\n",
       "// Listen for the removal of the full notebook cells\n",
       "var notebookContainer = gd.closest('#notebook-container');\n",
       "if (notebookContainer) {{\n",
       "    x.observe(notebookContainer, {childList: true});\n",
       "}}\n",
       "\n",
       "// Listen for the clearing of the current output cell\n",
       "var outputEl = gd.closest('.output');\n",
       "if (outputEl) {{\n",
       "    x.observe(outputEl, {childList: true});\n",
       "}}\n",
       "\n",
       "                        })                };                });            </script>        </div>"
      ]
     },
     "metadata": {},
     "output_type": "display_data"
    }
   ],
   "source": [
    "bars = px.box(songs_merge, x=\"popularity\", y=\"genre\", color = 'genre', width=950, height=950)\n",
    "bars.layout.update(showlegend=False)\n",
    "bars"
   ]
  },
  {
   "cell_type": "markdown",
   "metadata": {},
   "source": [
    "While the density histogram gives us an overarching shape of popularity (which is similar to that of a normal shape), when we facet by genre, we see that this shape is not consistant for all the genres. Genres like movies and classical has a large proportion of their songs with 0 popularity. A lot of the genres however do follow the holistic shape of popularity distribution of being similar to a normal distribution, with a right or left skew for certain individual genres. For example, we have a right skew for pop songs as most songs in this genre are generally above average popularity, but only a few songs can really break that barrier and become a top hit."
   ]
  },
  {
   "cell_type": "code",
   "execution_count": 9,
   "metadata": {},
   "outputs": [],
   "source": [
    "### SOMEONE PLS ADD CODE AND VISUALIZATION FOR CORRELATION HEATMAP"
   ]
  },
  {
   "cell_type": "markdown",
   "metadata": {},
   "source": [
    "pls add explanation for corr heatmap"
   ]
  },
  {
   "cell_type": "markdown",
   "metadata": {},
   "source": [
    "Now we want to look at a correlation heatmap within each individual genres. Thus we will be creating a dataframe of each variable that have a numerical value and find it's correlation coefficient against each of the other variable. The difference here is that this is done for each individual genre."
   ]
  },
  {
   "cell_type": "code",
   "execution_count": 124,
   "metadata": {
    "scrolled": true
   },
   "outputs": [],
   "source": [
    "# correlation by genre\n",
    "corrs = songs.groupby(['genre']).corr().reset_index()\n",
    "corrs = pd.melt(corrs, id_vars=['genre', 'level_1'], var_name = 'col', value_name = 'Correlation').rename({'level_1':'row'}, axis=1)\n",
    "corrs['order'] = (corrs['row'] != 'popularity').astype(int)"
   ]
  },
  {
   "cell_type": "markdown",
   "metadata": {},
   "source": [
    "Next we will be creating our correlation heatmap facetted by genres. We have sorted and put the popularity variable in the beginning so it is easier to compare that variable against all the other variables due to it being our variable of interest."
   ]
  },
  {
   "cell_type": "code",
   "execution_count": 128,
   "metadata": {},
   "outputs": [
    {
     "data": {
      "text/html": [
       "\n",
       "<div id=\"altair-viz-40fd1d14d6594f689a414eed49957eaa\"></div>\n",
       "<script type=\"text/javascript\">\n",
       "  (function(spec, embedOpt){\n",
       "    let outputDiv = document.currentScript.previousElementSibling;\n",
       "    if (outputDiv.id !== \"altair-viz-40fd1d14d6594f689a414eed49957eaa\") {\n",
       "      outputDiv = document.getElementById(\"altair-viz-40fd1d14d6594f689a414eed49957eaa\");\n",
       "    }\n",
       "    const paths = {\n",
       "      \"vega\": \"https://cdn.jsdelivr.net/npm//vega@5?noext\",\n",
       "      \"vega-lib\": \"https://cdn.jsdelivr.net/npm//vega-lib?noext\",\n",
       "      \"vega-lite\": \"https://cdn.jsdelivr.net/npm//vega-lite@4.8.1?noext\",\n",
       "      \"vega-embed\": \"https://cdn.jsdelivr.net/npm//vega-embed@6?noext\",\n",
       "    };\n",
       "\n",
       "    function loadScript(lib) {\n",
       "      return new Promise(function(resolve, reject) {\n",
       "        var s = document.createElement('script');\n",
       "        s.src = paths[lib];\n",
       "        s.async = true;\n",
       "        s.onload = () => resolve(paths[lib]);\n",
       "        s.onerror = () => reject(`Error loading script: ${paths[lib]}`);\n",
       "        document.getElementsByTagName(\"head\")[0].appendChild(s);\n",
       "      });\n",
       "    }\n",
       "\n",
       "    function showError(err) {\n",
       "      outputDiv.innerHTML = `<div class=\"error\" style=\"color:red;\">${err}</div>`;\n",
       "      throw err;\n",
       "    }\n",
       "\n",
       "    function displayChart(vegaEmbed) {\n",
       "      vegaEmbed(outputDiv, spec, embedOpt)\n",
       "        .catch(err => showError(`Javascript Error: ${err.message}<br>This usually means there's a typo in your chart specification. See the javascript console for the full traceback.`));\n",
       "    }\n",
       "\n",
       "    if(typeof define === \"function\" && define.amd) {\n",
       "      requirejs.config({paths});\n",
       "      require([\"vega-embed\"], displayChart, err => showError(`Error loading script: ${err.message}`));\n",
       "    } else if (typeof vegaEmbed === \"function\") {\n",
       "      displayChart(vegaEmbed);\n",
       "    } else {\n",
       "      loadScript(\"vega\")\n",
       "        .then(() => loadScript(\"vega-lite\"))\n",
       "        .then(() => loadScript(\"vega-embed\"))\n",
       "        .catch(showError)\n",
       "        .then(() => displayChart(vegaEmbed));\n",
       "    }\n",
       "  })({\"config\": {\"view\": {\"continuousWidth\": 400, \"continuousHeight\": 300}}, \"data\": {\"name\": \"data-862b2b4e2e415d74ec2269bcb3ea62ae\"}, \"facet\": {\"type\": \"nominal\", \"field\": \"genre\"}, \"spec\": {\"mark\": \"rect\", \"encoding\": {\"color\": {\"type\": \"quantitative\", \"field\": \"Correlation\", \"scale\": {\"scheme\": \"blueorange\"}}, \"x\": {\"type\": \"nominal\", \"field\": \"row\", \"sort\": {\"field\": \"order\", \"order\": \"ascending\"}}, \"y\": {\"type\": \"nominal\", \"field\": \"col\", \"sort\": {\"field\": \"order\", \"order\": \"ascending\"}}}, \"height\": 170, \"width\": 170}, \"columns\": 3, \"resolve\": {\"axis\": {\"x\": \"independent\", \"y\": \"independent\"}}, \"$schema\": \"https://vega.github.io/schema/vega-lite/v4.8.1.json\", \"datasets\": {\"data-862b2b4e2e415d74ec2269bcb3ea62ae\": [{\"genre\": \"A Capella\", \"row\": \"popularity\", \"col\": \"popularity\", \"Correlation\": 1.0, \"order\": 0}, {\"genre\": \"A Capella\", \"row\": \"acousticness\", \"col\": \"popularity\", \"Correlation\": -0.02406777970357694, \"order\": 1}, {\"genre\": \"A Capella\", \"row\": \"danceability\", \"col\": \"popularity\", \"Correlation\": 0.13112244620187946, \"order\": 1}, {\"genre\": \"A Capella\", \"row\": \"duration_ms\", \"col\": \"popularity\", \"Correlation\": -0.2838784254786648, \"order\": 1}, {\"genre\": \"A Capella\", \"row\": \"energy\", \"col\": \"popularity\", \"Correlation\": 0.0045905736978370535, \"order\": 1}, {\"genre\": \"A Capella\", \"row\": \"instrumentalness\", \"col\": \"popularity\", \"Correlation\": -0.05288857057092097, \"order\": 1}, {\"genre\": \"A Capella\", \"row\": \"liveness\", \"col\": \"popularity\", \"Correlation\": 0.04157941640036958, \"order\": 1}, {\"genre\": \"A Capella\", \"row\": \"loudness\", \"col\": \"popularity\", \"Correlation\": 0.14353044519965863, \"order\": 1}, {\"genre\": \"A Capella\", \"row\": \"speechiness\", \"col\": \"popularity\", \"Correlation\": 0.04754049997334924, \"order\": 1}, {\"genre\": \"A Capella\", \"row\": \"tempo\", \"col\": \"popularity\", \"Correlation\": -0.16366981096001745, \"order\": 1}, {\"genre\": \"A Capella\", \"row\": \"valence\", \"col\": \"popularity\", \"Correlation\": 0.17628061021310643, \"order\": 1}, {\"genre\": \"Alternative\", \"row\": \"popularity\", \"col\": \"popularity\", \"Correlation\": 1.0, \"order\": 0}, {\"genre\": \"Alternative\", \"row\": \"acousticness\", \"col\": \"popularity\", \"Correlation\": -0.005007556123444228, \"order\": 1}, {\"genre\": \"Alternative\", \"row\": \"danceability\", \"col\": \"popularity\", \"Correlation\": 0.07758189865269975, \"order\": 1}, {\"genre\": \"Alternative\", \"row\": \"duration_ms\", \"col\": \"popularity\", \"Correlation\": 0.013193559340535564, \"order\": 1}, {\"genre\": \"Alternative\", \"row\": \"energy\", \"col\": \"popularity\", \"Correlation\": 0.0018248504527305293, \"order\": 1}, {\"genre\": \"Alternative\", \"row\": \"instrumentalness\", \"col\": \"popularity\", \"Correlation\": -0.04522266051080028, \"order\": 1}, {\"genre\": \"Alternative\", \"row\": \"liveness\", \"col\": \"popularity\", \"Correlation\": -0.03728510824304608, \"order\": 1}, {\"genre\": \"Alternative\", \"row\": \"loudness\", \"col\": \"popularity\", \"Correlation\": 0.037731512965958065, \"order\": 1}, {\"genre\": \"Alternative\", \"row\": \"speechiness\", \"col\": \"popularity\", \"Correlation\": -0.04574516239473141, \"order\": 1}, {\"genre\": \"Alternative\", \"row\": \"tempo\", \"col\": \"popularity\", \"Correlation\": -0.053699936181020806, \"order\": 1}, {\"genre\": \"Alternative\", \"row\": \"valence\", \"col\": \"popularity\", \"Correlation\": 0.07303059997318881, \"order\": 1}, {\"genre\": \"Blues\", \"row\": \"popularity\", \"col\": \"popularity\", \"Correlation\": 1.0, \"order\": 0}, {\"genre\": \"Blues\", \"row\": \"acousticness\", \"col\": \"popularity\", \"Correlation\": 0.046783243687260515, \"order\": 1}, {\"genre\": \"Blues\", \"row\": \"danceability\", \"col\": \"popularity\", \"Correlation\": 0.08695062177360564, \"order\": 1}, {\"genre\": \"Blues\", \"row\": \"duration_ms\", \"col\": \"popularity\", \"Correlation\": 0.02288916974557308, \"order\": 1}, {\"genre\": \"Blues\", \"row\": \"energy\", \"col\": \"popularity\", \"Correlation\": -0.05186259706195924, \"order\": 1}, {\"genre\": \"Blues\", \"row\": \"instrumentalness\", \"col\": \"popularity\", \"Correlation\": -0.02475788619231678, \"order\": 1}, {\"genre\": \"Blues\", \"row\": \"liveness\", \"col\": \"popularity\", \"Correlation\": -0.025043226748699694, \"order\": 1}, {\"genre\": \"Blues\", \"row\": \"loudness\", \"col\": \"popularity\", \"Correlation\": -0.01885407345873003, \"order\": 1}, {\"genre\": \"Blues\", \"row\": \"speechiness\", \"col\": \"popularity\", \"Correlation\": 0.01616577714236089, \"order\": 1}, {\"genre\": \"Blues\", \"row\": \"tempo\", \"col\": \"popularity\", \"Correlation\": -0.02921194425655905, \"order\": 1}, {\"genre\": \"Blues\", \"row\": \"valence\", \"col\": \"popularity\", \"Correlation\": 0.05655640788835162, \"order\": 1}, {\"genre\": \"Classical\", \"row\": \"popularity\", \"col\": \"popularity\", \"Correlation\": 1.0, \"order\": 0}, {\"genre\": \"Classical\", \"row\": \"acousticness\", \"col\": \"popularity\", \"Correlation\": -0.18001209958708972, \"order\": 1}, {\"genre\": \"Classical\", \"row\": \"danceability\", \"col\": \"popularity\", \"Correlation\": -0.01811766607189244, \"order\": 1}, {\"genre\": \"Classical\", \"row\": \"duration_ms\", \"col\": \"popularity\", \"Correlation\": 0.0046358881316571395, \"order\": 1}, {\"genre\": \"Classical\", \"row\": \"energy\", \"col\": \"popularity\", \"Correlation\": 0.1435951530792326, \"order\": 1}, {\"genre\": \"Classical\", \"row\": \"instrumentalness\", \"col\": \"popularity\", \"Correlation\": 0.15095990145964838, \"order\": 1}, {\"genre\": \"Classical\", \"row\": \"liveness\", \"col\": \"popularity\", \"Correlation\": -0.22004740748228774, \"order\": 1}, {\"genre\": \"Classical\", \"row\": \"loudness\", \"col\": \"popularity\", \"Correlation\": 0.07904250090228375, \"order\": 1}, {\"genre\": \"Classical\", \"row\": \"speechiness\", \"col\": \"popularity\", \"Correlation\": -0.1417757947554891, \"order\": 1}, {\"genre\": \"Classical\", \"row\": \"tempo\", \"col\": \"popularity\", \"Correlation\": -0.00853420494422047, \"order\": 1}, {\"genre\": \"Classical\", \"row\": \"valence\", \"col\": \"popularity\", \"Correlation\": -0.04708548649326753, \"order\": 1}, {\"genre\": \"Comedy\", \"row\": \"popularity\", \"col\": \"popularity\", \"Correlation\": 1.0, \"order\": 0}, {\"genre\": \"Comedy\", \"row\": \"acousticness\", \"col\": \"popularity\", \"Correlation\": -0.023020013354307957, \"order\": 1}, {\"genre\": \"Comedy\", \"row\": \"danceability\", \"col\": \"popularity\", \"Correlation\": -0.03016873804855896, \"order\": 1}, {\"genre\": \"Comedy\", \"row\": \"duration_ms\", \"col\": \"popularity\", \"Correlation\": 0.0681811178862556, \"order\": 1}, {\"genre\": \"Comedy\", \"row\": \"energy\", \"col\": \"popularity\", \"Correlation\": 0.19151158786436942, \"order\": 1}, {\"genre\": \"Comedy\", \"row\": \"instrumentalness\", \"col\": \"popularity\", \"Correlation\": -0.013642399148316064, \"order\": 1}, {\"genre\": \"Comedy\", \"row\": \"liveness\", \"col\": \"popularity\", \"Correlation\": 0.01775786642070331, \"order\": 1}, {\"genre\": \"Comedy\", \"row\": \"loudness\", \"col\": \"popularity\", \"Correlation\": 0.21440203984133233, \"order\": 1}, {\"genre\": \"Comedy\", \"row\": \"speechiness\", \"col\": \"popularity\", \"Correlation\": -0.06027626754772091, \"order\": 1}, {\"genre\": \"Comedy\", \"row\": \"tempo\", \"col\": \"popularity\", \"Correlation\": 0.02931704516531205, \"order\": 1}, {\"genre\": \"Comedy\", \"row\": \"valence\", \"col\": \"popularity\", \"Correlation\": -0.11970791089734609, \"order\": 1}, {\"genre\": \"Country\", \"row\": \"popularity\", \"col\": \"popularity\", \"Correlation\": 1.0, \"order\": 0}, {\"genre\": \"Country\", \"row\": \"acousticness\", \"col\": \"popularity\", \"Correlation\": -0.0373976394476371, \"order\": 1}, {\"genre\": \"Country\", \"row\": \"danceability\", \"col\": \"popularity\", \"Correlation\": 0.023092563788347505, \"order\": 1}, {\"genre\": \"Country\", \"row\": \"duration_ms\", \"col\": \"popularity\", \"Correlation\": -0.011501056098724073, \"order\": 1}, {\"genre\": \"Country\", \"row\": \"energy\", \"col\": \"popularity\", \"Correlation\": 0.05719657808914108, \"order\": 1}, {\"genre\": \"Country\", \"row\": \"instrumentalness\", \"col\": \"popularity\", \"Correlation\": -0.018870636276679145, \"order\": 1}, {\"genre\": \"Country\", \"row\": \"liveness\", \"col\": \"popularity\", \"Correlation\": -0.07125380625524126, \"order\": 1}, {\"genre\": \"Country\", \"row\": \"loudness\", \"col\": \"popularity\", \"Correlation\": 0.05850089242569388, \"order\": 1}, {\"genre\": \"Country\", \"row\": \"speechiness\", \"col\": \"popularity\", \"Correlation\": -0.0594015249773101, \"order\": 1}, {\"genre\": \"Country\", \"row\": \"tempo\", \"col\": \"popularity\", \"Correlation\": -0.025647128570006415, \"order\": 1}, {\"genre\": \"Country\", \"row\": \"valence\", \"col\": \"popularity\", \"Correlation\": 0.053405580885932814, \"order\": 1}, {\"genre\": \"Dance\", \"row\": \"popularity\", \"col\": \"popularity\", \"Correlation\": 1.0, \"order\": 0}, {\"genre\": \"Dance\", \"row\": \"acousticness\", \"col\": \"popularity\", \"Correlation\": 0.038361557017217704, \"order\": 1}, {\"genre\": \"Dance\", \"row\": \"danceability\", \"col\": \"popularity\", \"Correlation\": 0.04258150619920097, \"order\": 1}, {\"genre\": \"Dance\", \"row\": \"duration_ms\", \"col\": \"popularity\", \"Correlation\": -0.06402835441753002, \"order\": 1}, {\"genre\": \"Dance\", \"row\": \"energy\", \"col\": \"popularity\", \"Correlation\": -0.02112027972283756, \"order\": 1}, {\"genre\": \"Dance\", \"row\": \"instrumentalness\", \"col\": \"popularity\", \"Correlation\": -0.07804048065672262, \"order\": 1}, {\"genre\": \"Dance\", \"row\": \"liveness\", \"col\": \"popularity\", \"Correlation\": -0.05342965313430804, \"order\": 1}, {\"genre\": \"Dance\", \"row\": \"loudness\", \"col\": \"popularity\", \"Correlation\": 0.046978670503280646, \"order\": 1}, {\"genre\": \"Dance\", \"row\": \"speechiness\", \"col\": \"popularity\", \"Correlation\": 0.0022464283349597006, \"order\": 1}, {\"genre\": \"Dance\", \"row\": \"tempo\", \"col\": \"popularity\", \"Correlation\": -0.013736710519213817, \"order\": 1}, {\"genre\": \"Dance\", \"row\": \"valence\", \"col\": \"popularity\", \"Correlation\": 0.02546425997189351, \"order\": 1}, {\"genre\": \"Electronic\", \"row\": \"popularity\", \"col\": \"popularity\", \"Correlation\": 1.0, \"order\": 0}, {\"genre\": \"Electronic\", \"row\": \"acousticness\", \"col\": \"popularity\", \"Correlation\": 0.019028728602833826, \"order\": 1}, {\"genre\": \"Electronic\", \"row\": \"danceability\", \"col\": \"popularity\", \"Correlation\": 0.05238605991542273, \"order\": 1}, {\"genre\": \"Electronic\", \"row\": \"duration_ms\", \"col\": \"popularity\", \"Correlation\": 0.015246014993283721, \"order\": 1}, {\"genre\": \"Electronic\", \"row\": \"energy\", \"col\": \"popularity\", \"Correlation\": -0.04871464223394798, \"order\": 1}, {\"genre\": \"Electronic\", \"row\": \"instrumentalness\", \"col\": \"popularity\", \"Correlation\": -0.058352569732610514, \"order\": 1}, {\"genre\": \"Electronic\", \"row\": \"liveness\", \"col\": \"popularity\", \"Correlation\": -0.057518209632836964, \"order\": 1}, {\"genre\": \"Electronic\", \"row\": \"loudness\", \"col\": \"popularity\", \"Correlation\": -0.014567355883472063, \"order\": 1}, {\"genre\": \"Electronic\", \"row\": \"speechiness\", \"col\": \"popularity\", \"Correlation\": -0.08220689765831006, \"order\": 1}, {\"genre\": \"Electronic\", \"row\": \"tempo\", \"col\": \"popularity\", \"Correlation\": -0.020987216826904805, \"order\": 1}, {\"genre\": \"Electronic\", \"row\": \"valence\", \"col\": \"popularity\", \"Correlation\": 0.014460247179264127, \"order\": 1}, {\"genre\": \"Folk\", \"row\": \"popularity\", \"col\": \"popularity\", \"Correlation\": 1.0, \"order\": 0}, {\"genre\": \"Folk\", \"row\": \"acousticness\", \"col\": \"popularity\", \"Correlation\": -0.00393572356138681, \"order\": 1}, {\"genre\": \"Folk\", \"row\": \"danceability\", \"col\": \"popularity\", \"Correlation\": 0.033796534768000125, \"order\": 1}, {\"genre\": \"Folk\", \"row\": \"duration_ms\", \"col\": \"popularity\", \"Correlation\": 0.002991223676837859, \"order\": 1}, {\"genre\": \"Folk\", \"row\": \"energy\", \"col\": \"popularity\", \"Correlation\": 0.027926104761501376, \"order\": 1}, {\"genre\": \"Folk\", \"row\": \"instrumentalness\", \"col\": \"popularity\", \"Correlation\": -0.05203334004155729, \"order\": 1}, {\"genre\": \"Folk\", \"row\": \"liveness\", \"col\": \"popularity\", \"Correlation\": -0.06849751052425143, \"order\": 1}, {\"genre\": \"Folk\", \"row\": \"loudness\", \"col\": \"popularity\", \"Correlation\": -0.003441537155169669, \"order\": 1}, {\"genre\": \"Folk\", \"row\": \"speechiness\", \"col\": \"popularity\", \"Correlation\": -0.013348177514754348, \"order\": 1}, {\"genre\": \"Folk\", \"row\": \"tempo\", \"col\": \"popularity\", \"Correlation\": 0.005450772812922808, \"order\": 1}, {\"genre\": \"Folk\", \"row\": \"valence\", \"col\": \"popularity\", \"Correlation\": 0.03789918745228672, \"order\": 1}, {\"genre\": \"Hip-Hop\", \"row\": \"popularity\", \"col\": \"popularity\", \"Correlation\": 1.0, \"order\": 0}, {\"genre\": \"Hip-Hop\", \"row\": \"acousticness\", \"col\": \"popularity\", \"Correlation\": 0.1022200842086133, \"order\": 1}, {\"genre\": \"Hip-Hop\", \"row\": \"danceability\", \"col\": \"popularity\", \"Correlation\": 0.08653333053267641, \"order\": 1}, {\"genre\": \"Hip-Hop\", \"row\": \"duration_ms\", \"col\": \"popularity\", \"Correlation\": 0.02801284598430065, \"order\": 1}, {\"genre\": \"Hip-Hop\", \"row\": \"energy\", \"col\": \"popularity\", \"Correlation\": 0.0863578782932154, \"order\": 1}, {\"genre\": \"Hip-Hop\", \"row\": \"instrumentalness\", \"col\": \"popularity\", \"Correlation\": -0.015978303972644374, \"order\": 1}, {\"genre\": \"Hip-Hop\", \"row\": \"liveness\", \"col\": \"popularity\", \"Correlation\": -0.1036744701207771, \"order\": 1}, {\"genre\": \"Hip-Hop\", \"row\": \"loudness\", \"col\": \"popularity\", \"Correlation\": 0.17162830977288876, \"order\": 1}, {\"genre\": \"Hip-Hop\", \"row\": \"speechiness\", \"col\": \"popularity\", \"Correlation\": -0.1640023030335394, \"order\": 1}, {\"genre\": \"Hip-Hop\", \"row\": \"tempo\", \"col\": \"popularity\", \"Correlation\": 0.01639242839450389, \"order\": 1}, {\"genre\": \"Hip-Hop\", \"row\": \"valence\", \"col\": \"popularity\", \"Correlation\": 0.212312796608187, \"order\": 1}, {\"genre\": \"Indie\", \"row\": \"popularity\", \"col\": \"popularity\", \"Correlation\": 1.0, \"order\": 0}, {\"genre\": \"Indie\", \"row\": \"acousticness\", \"col\": \"popularity\", \"Correlation\": 0.11733429874902009, \"order\": 1}, {\"genre\": \"Indie\", \"row\": \"danceability\", \"col\": \"popularity\", \"Correlation\": 0.05500011151328753, \"order\": 1}, {\"genre\": \"Indie\", \"row\": \"duration_ms\", \"col\": \"popularity\", \"Correlation\": -0.0003824708098918881, \"order\": 1}, {\"genre\": \"Indie\", \"row\": \"energy\", \"col\": \"popularity\", \"Correlation\": -0.11649362054822769, \"order\": 1}, {\"genre\": \"Indie\", \"row\": \"instrumentalness\", \"col\": \"popularity\", \"Correlation\": -0.038258135245736596, \"order\": 1}, {\"genre\": \"Indie\", \"row\": \"liveness\", \"col\": \"popularity\", \"Correlation\": -0.07436740495989713, \"order\": 1}, {\"genre\": \"Indie\", \"row\": \"loudness\", \"col\": \"popularity\", \"Correlation\": -0.012227369669965635, \"order\": 1}, {\"genre\": \"Indie\", \"row\": \"speechiness\", \"col\": \"popularity\", \"Correlation\": -0.07620210251781862, \"order\": 1}, {\"genre\": \"Indie\", \"row\": \"tempo\", \"col\": \"popularity\", \"Correlation\": -0.036534339676327146, \"order\": 1}, {\"genre\": \"Indie\", \"row\": \"valence\", \"col\": \"popularity\", \"Correlation\": -0.03328302523128632, \"order\": 1}, {\"genre\": \"Jazz\", \"row\": \"popularity\", \"col\": \"popularity\", \"Correlation\": 1.0, \"order\": 0}, {\"genre\": \"Jazz\", \"row\": \"acousticness\", \"col\": \"popularity\", \"Correlation\": 0.09123872582913939, \"order\": 1}, {\"genre\": \"Jazz\", \"row\": \"danceability\", \"col\": \"popularity\", \"Correlation\": 0.0030167489901681424, \"order\": 1}, {\"genre\": \"Jazz\", \"row\": \"duration_ms\", \"col\": \"popularity\", \"Correlation\": 0.000810958911043613, \"order\": 1}, {\"genre\": \"Jazz\", \"row\": \"energy\", \"col\": \"popularity\", \"Correlation\": -0.11035469581541364, \"order\": 1}, {\"genre\": \"Jazz\", \"row\": \"instrumentalness\", \"col\": \"popularity\", \"Correlation\": -0.11099919929140016, \"order\": 1}, {\"genre\": \"Jazz\", \"row\": \"liveness\", \"col\": \"popularity\", \"Correlation\": -0.05469219764979394, \"order\": 1}, {\"genre\": \"Jazz\", \"row\": \"loudness\", \"col\": \"popularity\", \"Correlation\": -0.05949703095255816, \"order\": 1}, {\"genre\": \"Jazz\", \"row\": \"speechiness\", \"col\": \"popularity\", \"Correlation\": -0.0730319681495646, \"order\": 1}, {\"genre\": \"Jazz\", \"row\": \"tempo\", \"col\": \"popularity\", \"Correlation\": -0.014783042848355413, \"order\": 1}, {\"genre\": \"Jazz\", \"row\": \"valence\", \"col\": \"popularity\", \"Correlation\": -0.07041701446420832, \"order\": 1}, {\"genre\": \"Movie\", \"row\": \"popularity\", \"col\": \"popularity\", \"Correlation\": 1.0, \"order\": 0}, {\"genre\": \"Movie\", \"row\": \"acousticness\", \"col\": \"popularity\", \"Correlation\": 0.07727949890464395, \"order\": 1}, {\"genre\": \"Movie\", \"row\": \"danceability\", \"col\": \"popularity\", \"Correlation\": -0.1763686209890238, \"order\": 1}, {\"genre\": \"Movie\", \"row\": \"duration_ms\", \"col\": \"popularity\", \"Correlation\": -0.04364747045441466, \"order\": 1}, {\"genre\": \"Movie\", \"row\": \"energy\", \"col\": \"popularity\", \"Correlation\": -0.08695061763616425, \"order\": 1}, {\"genre\": \"Movie\", \"row\": \"instrumentalness\", \"col\": \"popularity\", \"Correlation\": 0.0064855419974398035, \"order\": 1}, {\"genre\": \"Movie\", \"row\": \"liveness\", \"col\": \"popularity\", \"Correlation\": -0.056075566919435695, \"order\": 1}, {\"genre\": \"Movie\", \"row\": \"loudness\", \"col\": \"popularity\", \"Correlation\": -0.0022450518055900973, \"order\": 1}, {\"genre\": \"Movie\", \"row\": \"speechiness\", \"col\": \"popularity\", \"Correlation\": -0.10910798662784404, \"order\": 1}, {\"genre\": \"Movie\", \"row\": \"tempo\", \"col\": \"popularity\", \"Correlation\": -0.05350922730561565, \"order\": 1}, {\"genre\": \"Movie\", \"row\": \"valence\", \"col\": \"popularity\", \"Correlation\": -0.18610680039382393, \"order\": 1}, {\"genre\": \"Opera\", \"row\": \"popularity\", \"col\": \"popularity\", \"Correlation\": 1.0, \"order\": 0}, {\"genre\": \"Opera\", \"row\": \"acousticness\", \"col\": \"popularity\", \"Correlation\": -0.03732318381004515, \"order\": 1}, {\"genre\": \"Opera\", \"row\": \"danceability\", \"col\": \"popularity\", \"Correlation\": -0.07759280912266774, \"order\": 1}, {\"genre\": \"Opera\", \"row\": \"duration_ms\", \"col\": \"popularity\", \"Correlation\": 0.013420095641401753, \"order\": 1}, {\"genre\": \"Opera\", \"row\": \"energy\", \"col\": \"popularity\", \"Correlation\": 0.045076630498608335, \"order\": 1}, {\"genre\": \"Opera\", \"row\": \"instrumentalness\", \"col\": \"popularity\", \"Correlation\": -0.004144678965145578, \"order\": 1}, {\"genre\": \"Opera\", \"row\": \"liveness\", \"col\": \"popularity\", \"Correlation\": -0.03552163937436453, \"order\": 1}, {\"genre\": \"Opera\", \"row\": \"loudness\", \"col\": \"popularity\", \"Correlation\": 0.09671407279986162, \"order\": 1}, {\"genre\": \"Opera\", \"row\": \"speechiness\", \"col\": \"popularity\", \"Correlation\": -0.08479455773232483, \"order\": 1}, {\"genre\": \"Opera\", \"row\": \"tempo\", \"col\": \"popularity\", \"Correlation\": -0.019668562206130794, \"order\": 1}, {\"genre\": \"Opera\", \"row\": \"valence\", \"col\": \"popularity\", \"Correlation\": -0.02412491897413935, \"order\": 1}, {\"genre\": \"Pop\", \"row\": \"popularity\", \"col\": \"popularity\", \"Correlation\": 1.0, \"order\": 0}, {\"genre\": \"Pop\", \"row\": \"acousticness\", \"col\": \"popularity\", \"Correlation\": -0.041117143125976266, \"order\": 1}, {\"genre\": \"Pop\", \"row\": \"danceability\", \"col\": \"popularity\", \"Correlation\": 0.14530420008296355, \"order\": 1}, {\"genre\": \"Pop\", \"row\": \"duration_ms\", \"col\": \"popularity\", \"Correlation\": -0.03195086940839425, \"order\": 1}, {\"genre\": \"Pop\", \"row\": \"energy\", \"col\": \"popularity\", \"Correlation\": 0.0029813483679392598, \"order\": 1}, {\"genre\": \"Pop\", \"row\": \"instrumentalness\", \"col\": \"popularity\", \"Correlation\": -0.08808979692348368, \"order\": 1}, {\"genre\": \"Pop\", \"row\": \"liveness\", \"col\": \"popularity\", \"Correlation\": -0.035048824083277974, \"order\": 1}, {\"genre\": \"Pop\", \"row\": \"loudness\", \"col\": \"popularity\", \"Correlation\": 0.07730463289383192, \"order\": 1}, {\"genre\": \"Pop\", \"row\": \"speechiness\", \"col\": \"popularity\", \"Correlation\": -0.018074519000148597, \"order\": 1}, {\"genre\": \"Pop\", \"row\": \"tempo\", \"col\": \"popularity\", \"Correlation\": -0.007109415249170992, \"order\": 1}, {\"genre\": \"Pop\", \"row\": \"valence\", \"col\": \"popularity\", \"Correlation\": 0.04069662246167224, \"order\": 1}, {\"genre\": \"R&B\", \"row\": \"popularity\", \"col\": \"popularity\", \"Correlation\": 1.0, \"order\": 0}, {\"genre\": \"R&B\", \"row\": \"acousticness\", \"col\": \"popularity\", \"Correlation\": 0.053680080103013283, \"order\": 1}, {\"genre\": \"R&B\", \"row\": \"danceability\", \"col\": \"popularity\", \"Correlation\": 0.03979420174434275, \"order\": 1}, {\"genre\": \"R&B\", \"row\": \"duration_ms\", \"col\": \"popularity\", \"Correlation\": 0.015883993620129145, \"order\": 1}, {\"genre\": \"R&B\", \"row\": \"energy\", \"col\": \"popularity\", \"Correlation\": -0.023175064825013747, \"order\": 1}, {\"genre\": \"R&B\", \"row\": \"instrumentalness\", \"col\": \"popularity\", \"Correlation\": 0.0002331800842784098, \"order\": 1}, {\"genre\": \"R&B\", \"row\": \"liveness\", \"col\": \"popularity\", \"Correlation\": -0.04493898072438597, \"order\": 1}, {\"genre\": \"R&B\", \"row\": \"loudness\", \"col\": \"popularity\", \"Correlation\": 0.01764186748558474, \"order\": 1}, {\"genre\": \"R&B\", \"row\": \"speechiness\", \"col\": \"popularity\", \"Correlation\": -0.037136492374896864, \"order\": 1}, {\"genre\": \"R&B\", \"row\": \"tempo\", \"col\": \"popularity\", \"Correlation\": -0.009961823797745857, \"order\": 1}, {\"genre\": \"R&B\", \"row\": \"valence\", \"col\": \"popularity\", \"Correlation\": 0.019337075591349007, \"order\": 1}, {\"genre\": \"Rap\", \"row\": \"popularity\", \"col\": \"popularity\", \"Correlation\": 1.0, \"order\": 0}, {\"genre\": \"Rap\", \"row\": \"acousticness\", \"col\": \"popularity\", \"Correlation\": 0.0640169724459473, \"order\": 1}, {\"genre\": \"Rap\", \"row\": \"danceability\", \"col\": \"popularity\", \"Correlation\": 0.07955429366977551, \"order\": 1}, {\"genre\": \"Rap\", \"row\": \"duration_ms\", \"col\": \"popularity\", \"Correlation\": -0.13788232835479647, \"order\": 1}, {\"genre\": \"Rap\", \"row\": \"energy\", \"col\": \"popularity\", \"Correlation\": -0.061967755934981106, \"order\": 1}, {\"genre\": \"Rap\", \"row\": \"instrumentalness\", \"col\": \"popularity\", \"Correlation\": 0.04120114515941217, \"order\": 1}, {\"genre\": \"Rap\", \"row\": \"liveness\", \"col\": \"popularity\", \"Correlation\": -0.07618677054986284, \"order\": 1}, {\"genre\": \"Rap\", \"row\": \"loudness\", \"col\": \"popularity\", \"Correlation\": 0.012249248289268511, \"order\": 1}, {\"genre\": \"Rap\", \"row\": \"speechiness\", \"col\": \"popularity\", \"Correlation\": -0.050115873898834054, \"order\": 1}, {\"genre\": \"Rap\", \"row\": \"tempo\", \"col\": \"popularity\", \"Correlation\": -0.0033133726477601985, \"order\": 1}, {\"genre\": \"Rap\", \"row\": \"valence\", \"col\": \"popularity\", \"Correlation\": -0.019084743352913033, \"order\": 1}, {\"genre\": \"Reggae\", \"row\": \"popularity\", \"col\": \"popularity\", \"Correlation\": 1.0, \"order\": 0}, {\"genre\": \"Reggae\", \"row\": \"acousticness\", \"col\": \"popularity\", \"Correlation\": 0.019237033373978973, \"order\": 1}, {\"genre\": \"Reggae\", \"row\": \"danceability\", \"col\": \"popularity\", \"Correlation\": 0.06494086250573644, \"order\": 1}, {\"genre\": \"Reggae\", \"row\": \"duration_ms\", \"col\": \"popularity\", \"Correlation\": -0.003383823130489473, \"order\": 1}, {\"genre\": \"Reggae\", \"row\": \"energy\", \"col\": \"popularity\", \"Correlation\": -0.005635211785738654, \"order\": 1}, {\"genre\": \"Reggae\", \"row\": \"instrumentalness\", \"col\": \"popularity\", \"Correlation\": -0.052665059719801996, \"order\": 1}, {\"genre\": \"Reggae\", \"row\": \"liveness\", \"col\": \"popularity\", \"Correlation\": -0.020852822998887584, \"order\": 1}, {\"genre\": \"Reggae\", \"row\": \"loudness\", \"col\": \"popularity\", \"Correlation\": 0.04751634578586325, \"order\": 1}, {\"genre\": \"Reggae\", \"row\": \"speechiness\", \"col\": \"popularity\", \"Correlation\": -0.01075829360018525, \"order\": 1}, {\"genre\": \"Reggae\", \"row\": \"tempo\", \"col\": \"popularity\", \"Correlation\": 0.0013506906841612354, \"order\": 1}, {\"genre\": \"Reggae\", \"row\": \"valence\", \"col\": \"popularity\", \"Correlation\": 0.009175866013604136, \"order\": 1}, {\"genre\": \"Reggaeton\", \"row\": \"popularity\", \"col\": \"popularity\", \"Correlation\": 1.0, \"order\": 0}, {\"genre\": \"Reggaeton\", \"row\": \"acousticness\", \"col\": \"popularity\", \"Correlation\": 0.03589030873370104, \"order\": 1}, {\"genre\": \"Reggaeton\", \"row\": \"danceability\", \"col\": \"popularity\", \"Correlation\": 0.08782854029955296, \"order\": 1}, {\"genre\": \"Reggaeton\", \"row\": \"duration_ms\", \"col\": \"popularity\", \"Correlation\": 0.004409543597926719, \"order\": 1}, {\"genre\": \"Reggaeton\", \"row\": \"energy\", \"col\": \"popularity\", \"Correlation\": -0.09888294652725002, \"order\": 1}, {\"genre\": \"Reggaeton\", \"row\": \"instrumentalness\", \"col\": \"popularity\", \"Correlation\": -0.012685674925705962, \"order\": 1}, {\"genre\": \"Reggaeton\", \"row\": \"liveness\", \"col\": \"popularity\", \"Correlation\": -0.0785508609613241, \"order\": 1}, {\"genre\": \"Reggaeton\", \"row\": \"loudness\", \"col\": \"popularity\", \"Correlation\": 0.10296188196473466, \"order\": 1}, {\"genre\": \"Reggaeton\", \"row\": \"speechiness\", \"col\": \"popularity\", \"Correlation\": -0.015926824361361582, \"order\": 1}, {\"genre\": \"Reggaeton\", \"row\": \"tempo\", \"col\": \"popularity\", \"Correlation\": 0.05317526190407802, \"order\": 1}, {\"genre\": \"Reggaeton\", \"row\": \"valence\", \"col\": \"popularity\", \"Correlation\": -0.06873762315507427, \"order\": 1}, {\"genre\": \"Rock\", \"row\": \"popularity\", \"col\": \"popularity\", \"Correlation\": 1.0, \"order\": 0}, {\"genre\": \"Rock\", \"row\": \"acousticness\", \"col\": \"popularity\", \"Correlation\": 0.03507472996984017, \"order\": 1}, {\"genre\": \"Rock\", \"row\": \"danceability\", \"col\": \"popularity\", \"Correlation\": 0.0851660628402641, \"order\": 1}, {\"genre\": \"Rock\", \"row\": \"duration_ms\", \"col\": \"popularity\", \"Correlation\": -0.03503578272357382, \"order\": 1}, {\"genre\": \"Rock\", \"row\": \"energy\", \"col\": \"popularity\", \"Correlation\": -0.05044028209696064, \"order\": 1}, {\"genre\": \"Rock\", \"row\": \"instrumentalness\", \"col\": \"popularity\", \"Correlation\": -0.05647647571553367, \"order\": 1}, {\"genre\": \"Rock\", \"row\": \"liveness\", \"col\": \"popularity\", \"Correlation\": -0.015860740255770642, \"order\": 1}, {\"genre\": \"Rock\", \"row\": \"loudness\", \"col\": \"popularity\", \"Correlation\": -0.027692811966278423, \"order\": 1}, {\"genre\": \"Rock\", \"row\": \"speechiness\", \"col\": \"popularity\", \"Correlation\": 0.030577129918893328, \"order\": 1}, {\"genre\": \"Rock\", \"row\": \"tempo\", \"col\": \"popularity\", \"Correlation\": -0.000865896692504546, \"order\": 1}, {\"genre\": \"Rock\", \"row\": \"valence\", \"col\": \"popularity\", \"Correlation\": 0.032761263518935, \"order\": 1}, {\"genre\": \"Ska\", \"row\": \"popularity\", \"col\": \"popularity\", \"Correlation\": 1.0, \"order\": 0}, {\"genre\": \"Ska\", \"row\": \"acousticness\", \"col\": \"popularity\", \"Correlation\": -0.02850632729829283, \"order\": 1}, {\"genre\": \"Ska\", \"row\": \"danceability\", \"col\": \"popularity\", \"Correlation\": 0.03259877532417993, \"order\": 1}, {\"genre\": \"Ska\", \"row\": \"duration_ms\", \"col\": \"popularity\", \"Correlation\": 0.12497262820060544, \"order\": 1}, {\"genre\": \"Ska\", \"row\": \"energy\", \"col\": \"popularity\", \"Correlation\": 0.02420058467651062, \"order\": 1}, {\"genre\": \"Ska\", \"row\": \"instrumentalness\", \"col\": \"popularity\", \"Correlation\": -0.058385785115816824, \"order\": 1}, {\"genre\": \"Ska\", \"row\": \"liveness\", \"col\": \"popularity\", \"Correlation\": 0.08272917875619748, \"order\": 1}, {\"genre\": \"Ska\", \"row\": \"loudness\", \"col\": \"popularity\", \"Correlation\": 0.01479419326965812, \"order\": 1}, {\"genre\": \"Ska\", \"row\": \"speechiness\", \"col\": \"popularity\", \"Correlation\": -0.10428854509984666, \"order\": 1}, {\"genre\": \"Ska\", \"row\": \"tempo\", \"col\": \"popularity\", \"Correlation\": 0.017081899278490877, \"order\": 1}, {\"genre\": \"Ska\", \"row\": \"valence\", \"col\": \"popularity\", \"Correlation\": -0.002416400406230368, \"order\": 1}, {\"genre\": \"Soul\", \"row\": \"popularity\", \"col\": \"popularity\", \"Correlation\": 1.0, \"order\": 0}, {\"genre\": \"Soul\", \"row\": \"acousticness\", \"col\": \"popularity\", \"Correlation\": 0.04969593203223328, \"order\": 1}, {\"genre\": \"Soul\", \"row\": \"danceability\", \"col\": \"popularity\", \"Correlation\": 0.0026610450967740223, \"order\": 1}, {\"genre\": \"Soul\", \"row\": \"duration_ms\", \"col\": \"popularity\", \"Correlation\": -0.04833974098443314, \"order\": 1}, {\"genre\": \"Soul\", \"row\": \"energy\", \"col\": \"popularity\", \"Correlation\": 0.008346084539661791, \"order\": 1}, {\"genre\": \"Soul\", \"row\": \"instrumentalness\", \"col\": \"popularity\", \"Correlation\": 0.04343832995809452, \"order\": 1}, {\"genre\": \"Soul\", \"row\": \"liveness\", \"col\": \"popularity\", \"Correlation\": -0.06258076039821206, \"order\": 1}, {\"genre\": \"Soul\", \"row\": \"loudness\", \"col\": \"popularity\", \"Correlation\": -0.030986187901764748, \"order\": 1}, {\"genre\": \"Soul\", \"row\": \"speechiness\", \"col\": \"popularity\", \"Correlation\": -0.045245271343945535, \"order\": 1}, {\"genre\": \"Soul\", \"row\": \"tempo\", \"col\": \"popularity\", \"Correlation\": -0.02169944838315152, \"order\": 1}, {\"genre\": \"Soul\", \"row\": \"valence\", \"col\": \"popularity\", \"Correlation\": 0.03419190790999544, \"order\": 1}, {\"genre\": \"Soundtrack\", \"row\": \"popularity\", \"col\": \"popularity\", \"Correlation\": 1.0, \"order\": 0}, {\"genre\": \"Soundtrack\", \"row\": \"acousticness\", \"col\": \"popularity\", \"Correlation\": -0.03499434278663145, \"order\": 1}, {\"genre\": \"Soundtrack\", \"row\": \"danceability\", \"col\": \"popularity\", \"Correlation\": -0.030587919112126303, \"order\": 1}, {\"genre\": \"Soundtrack\", \"row\": \"duration_ms\", \"col\": \"popularity\", \"Correlation\": 0.07009837051234045, \"order\": 1}, {\"genre\": \"Soundtrack\", \"row\": \"energy\", \"col\": \"popularity\", \"Correlation\": 0.03623750569349544, \"order\": 1}, {\"genre\": \"Soundtrack\", \"row\": \"instrumentalness\", \"col\": \"popularity\", \"Correlation\": -0.003446270914828821, \"order\": 1}, {\"genre\": \"Soundtrack\", \"row\": \"liveness\", \"col\": \"popularity\", \"Correlation\": 0.011882170873352903, \"order\": 1}, {\"genre\": \"Soundtrack\", \"row\": \"loudness\", \"col\": \"popularity\", \"Correlation\": 0.01262029677353798, \"order\": 1}, {\"genre\": \"Soundtrack\", \"row\": \"speechiness\", \"col\": \"popularity\", \"Correlation\": -0.007464571625493185, \"order\": 1}, {\"genre\": \"Soundtrack\", \"row\": \"tempo\", \"col\": \"popularity\", \"Correlation\": -0.020771010444074867, \"order\": 1}, {\"genre\": \"Soundtrack\", \"row\": \"valence\", \"col\": \"popularity\", \"Correlation\": -0.0042294635581378, \"order\": 1}, {\"genre\": \"World\", \"row\": \"popularity\", \"col\": \"popularity\", \"Correlation\": 1.0, \"order\": 0}, {\"genre\": \"World\", \"row\": \"acousticness\", \"col\": \"popularity\", \"Correlation\": -0.0267529890367198, \"order\": 1}, {\"genre\": \"World\", \"row\": \"danceability\", \"col\": \"popularity\", \"Correlation\": -0.04894216535656981, \"order\": 1}, {\"genre\": \"World\", \"row\": \"duration_ms\", \"col\": \"popularity\", \"Correlation\": 0.007503916662051679, \"order\": 1}, {\"genre\": \"World\", \"row\": \"energy\", \"col\": \"popularity\", \"Correlation\": -0.016851485707500617, \"order\": 1}, {\"genre\": \"World\", \"row\": \"instrumentalness\", \"col\": \"popularity\", \"Correlation\": -0.13174840642734695, \"order\": 1}, {\"genre\": \"World\", \"row\": \"liveness\", \"col\": \"popularity\", \"Correlation\": 0.04470886696456533, \"order\": 1}, {\"genre\": \"World\", \"row\": \"loudness\", \"col\": \"popularity\", \"Correlation\": 0.07119541510359056, \"order\": 1}, {\"genre\": \"World\", \"row\": \"speechiness\", \"col\": \"popularity\", \"Correlation\": -0.07632467715364731, \"order\": 1}, {\"genre\": \"World\", \"row\": \"tempo\", \"col\": \"popularity\", \"Correlation\": 0.03632778070039329, \"order\": 1}, {\"genre\": \"World\", \"row\": \"valence\", \"col\": \"popularity\", \"Correlation\": -0.07962589425076062, \"order\": 1}, {\"genre\": \"A Capella\", \"row\": \"popularity\", \"col\": \"acousticness\", \"Correlation\": -0.02406777970357694, \"order\": 0}, {\"genre\": \"A Capella\", \"row\": \"acousticness\", \"col\": \"acousticness\", \"Correlation\": 1.0, \"order\": 1}, {\"genre\": \"A Capella\", \"row\": \"danceability\", \"col\": \"acousticness\", \"Correlation\": -0.5873854604604303, \"order\": 1}, {\"genre\": \"A Capella\", \"row\": \"duration_ms\", \"col\": \"acousticness\", \"Correlation\": -0.0075471350004750245, \"order\": 1}, {\"genre\": \"A Capella\", \"row\": \"energy\", \"col\": \"acousticness\", \"Correlation\": -0.7737453848793069, \"order\": 1}, {\"genre\": \"A Capella\", \"row\": \"instrumentalness\", \"col\": \"acousticness\", \"Correlation\": 0.11905185466981594, \"order\": 1}, {\"genre\": \"A Capella\", \"row\": \"liveness\", \"col\": \"acousticness\", \"Correlation\": 0.02740158415877502, \"order\": 1}, {\"genre\": \"A Capella\", \"row\": \"loudness\", \"col\": \"acousticness\", \"Correlation\": -0.7029474991069554, \"order\": 1}, {\"genre\": \"A Capella\", \"row\": \"speechiness\", \"col\": \"acousticness\", \"Correlation\": -0.38996986922428595, \"order\": 1}, {\"genre\": \"A Capella\", \"row\": \"tempo\", \"col\": \"acousticness\", \"Correlation\": -0.1622315050019196, \"order\": 1}, {\"genre\": \"A Capella\", \"row\": \"valence\", \"col\": \"acousticness\", \"Correlation\": -0.6264030079754401, \"order\": 1}, {\"genre\": \"Alternative\", \"row\": \"popularity\", \"col\": \"acousticness\", \"Correlation\": -0.005007556123444228, \"order\": 0}, {\"genre\": \"Alternative\", \"row\": \"acousticness\", \"col\": \"acousticness\", \"Correlation\": 1.0, \"order\": 1}, {\"genre\": \"Alternative\", \"row\": \"danceability\", \"col\": \"acousticness\", \"Correlation\": 0.1460775736858211, \"order\": 1}, {\"genre\": \"Alternative\", \"row\": \"duration_ms\", \"col\": \"acousticness\", \"Correlation\": -0.05749216386552248, \"order\": 1}, {\"genre\": \"Alternative\", \"row\": \"energy\", \"col\": \"acousticness\", \"Correlation\": -0.688570968163845, \"order\": 1}, {\"genre\": \"Alternative\", \"row\": \"instrumentalness\", \"col\": \"acousticness\", \"Correlation\": 0.006198975128340076, \"order\": 1}, {\"genre\": \"Alternative\", \"row\": \"liveness\", \"col\": \"acousticness\", \"Correlation\": -0.06883277767122385, \"order\": 1}, {\"genre\": \"Alternative\", \"row\": \"loudness\", \"col\": \"acousticness\", \"Correlation\": -0.5817613126539898, \"order\": 1}, {\"genre\": \"Alternative\", \"row\": \"speechiness\", \"col\": \"acousticness\", \"Correlation\": 0.09881620739697214, \"order\": 1}, {\"genre\": \"Alternative\", \"row\": \"tempo\", \"col\": \"acousticness\", \"Correlation\": -0.15312955850517965, \"order\": 1}, {\"genre\": \"Alternative\", \"row\": \"valence\", \"col\": \"acousticness\", \"Correlation\": -0.13296544145682676, \"order\": 1}, {\"genre\": \"Blues\", \"row\": \"popularity\", \"col\": \"acousticness\", \"Correlation\": 0.046783243687260515, \"order\": 0}, {\"genre\": \"Blues\", \"row\": \"acousticness\", \"col\": \"acousticness\", \"Correlation\": 1.0, \"order\": 1}, {\"genre\": \"Blues\", \"row\": \"danceability\", \"col\": \"acousticness\", \"Correlation\": 0.16092614155785742, \"order\": 1}, {\"genre\": \"Blues\", \"row\": \"duration_ms\", \"col\": \"acousticness\", \"Correlation\": -0.06279203088685101, \"order\": 1}, {\"genre\": \"Blues\", \"row\": \"energy\", \"col\": \"acousticness\", \"Correlation\": -0.6726299450458881, \"order\": 1}, {\"genre\": \"Blues\", \"row\": \"instrumentalness\", \"col\": \"acousticness\", \"Correlation\": 0.0025270430450332108, \"order\": 1}, {\"genre\": \"Blues\", \"row\": \"liveness\", \"col\": \"acousticness\", \"Correlation\": -0.06496509692938021, \"order\": 1}, {\"genre\": \"Blues\", \"row\": \"loudness\", \"col\": \"acousticness\", \"Correlation\": -0.5405509139914012, \"order\": 1}, {\"genre\": \"Blues\", \"row\": \"speechiness\", \"col\": \"acousticness\", \"Correlation\": 0.08143862309368459, \"order\": 1}, {\"genre\": \"Blues\", \"row\": \"tempo\", \"col\": \"acousticness\", \"Correlation\": -0.1756627939389088, \"order\": 1}, {\"genre\": \"Blues\", \"row\": \"valence\", \"col\": \"acousticness\", \"Correlation\": -0.10510396567251504, \"order\": 1}, {\"genre\": \"Classical\", \"row\": \"popularity\", \"col\": \"acousticness\", \"Correlation\": -0.18001209958708972, \"order\": 0}, {\"genre\": \"Classical\", \"row\": \"acousticness\", \"col\": \"acousticness\", \"Correlation\": 1.0, \"order\": 1}, {\"genre\": \"Classical\", \"row\": \"danceability\", \"col\": \"acousticness\", \"Correlation\": -0.20516813710880924, \"order\": 1}, {\"genre\": \"Classical\", \"row\": \"duration_ms\", \"col\": \"acousticness\", \"Correlation\": -0.005126902632576094, \"order\": 1}, {\"genre\": \"Classical\", \"row\": \"energy\", \"col\": \"acousticness\", \"Correlation\": -0.871402379188462, \"order\": 1}, {\"genre\": \"Classical\", \"row\": \"instrumentalness\", \"col\": \"acousticness\", \"Correlation\": 0.3292031099749122, \"order\": 1}, {\"genre\": \"Classical\", \"row\": \"liveness\", \"col\": \"acousticness\", \"Correlation\": -0.13022412292455735, \"order\": 1}, {\"genre\": \"Classical\", \"row\": \"loudness\", \"col\": \"acousticness\", \"Correlation\": -0.6312019332886719, \"order\": 1}, {\"genre\": \"Classical\", \"row\": \"speechiness\", \"col\": \"acousticness\", \"Correlation\": -0.12271305267052426, \"order\": 1}, {\"genre\": \"Classical\", \"row\": \"tempo\", \"col\": \"acousticness\", \"Correlation\": -0.245659854405039, \"order\": 1}, {\"genre\": \"Classical\", \"row\": \"valence\", \"col\": \"acousticness\", \"Correlation\": -0.17576236443814758, \"order\": 1}, {\"genre\": \"Comedy\", \"row\": \"popularity\", \"col\": \"acousticness\", \"Correlation\": -0.023020013354307957, \"order\": 0}, {\"genre\": \"Comedy\", \"row\": \"acousticness\", \"col\": \"acousticness\", \"Correlation\": 1.0, \"order\": 1}, {\"genre\": \"Comedy\", \"row\": \"danceability\", \"col\": \"acousticness\", \"Correlation\": -0.08500035502290071, \"order\": 1}, {\"genre\": \"Comedy\", \"row\": \"duration_ms\", \"col\": \"acousticness\", \"Correlation\": 0.027664560802176306, \"order\": 1}, {\"genre\": \"Comedy\", \"row\": \"energy\", \"col\": \"acousticness\", \"Correlation\": 0.028646668838457307, \"order\": 1}, {\"genre\": \"Comedy\", \"row\": \"instrumentalness\", \"col\": \"acousticness\", \"Correlation\": 0.02272520396146375, \"order\": 1}, {\"genre\": \"Comedy\", \"row\": \"liveness\", \"col\": \"acousticness\", \"Correlation\": 0.22724806604976416, \"order\": 1}, {\"genre\": \"Comedy\", \"row\": \"loudness\", \"col\": \"acousticness\", \"Correlation\": -0.0753370270438821, \"order\": 1}, {\"genre\": \"Comedy\", \"row\": \"speechiness\", \"col\": \"acousticness\", \"Correlation\": 0.4123330994455857, \"order\": 1}, {\"genre\": \"Comedy\", \"row\": \"tempo\", \"col\": \"acousticness\", \"Correlation\": -0.09719800297735616, \"order\": 1}, {\"genre\": \"Comedy\", \"row\": \"valence\", \"col\": \"acousticness\", \"Correlation\": -0.11169246140854446, \"order\": 1}, {\"genre\": \"Country\", \"row\": \"popularity\", \"col\": \"acousticness\", \"Correlation\": -0.0373976394476371, \"order\": 0}, {\"genre\": \"Country\", \"row\": \"acousticness\", \"col\": \"acousticness\", \"Correlation\": 1.0, \"order\": 1}, {\"genre\": \"Country\", \"row\": \"danceability\", \"col\": \"acousticness\", \"Correlation\": -0.03439546269231375, \"order\": 1}, {\"genre\": \"Country\", \"row\": \"duration_ms\", \"col\": \"acousticness\", \"Correlation\": -0.059250335837686255, \"order\": 1}, {\"genre\": \"Country\", \"row\": \"energy\", \"col\": \"acousticness\", \"Correlation\": -0.6906557814607692, \"order\": 1}, {\"genre\": \"Country\", \"row\": \"instrumentalness\", \"col\": \"acousticness\", \"Correlation\": 0.04029211074278063, \"order\": 1}, {\"genre\": \"Country\", \"row\": \"liveness\", \"col\": \"acousticness\", \"Correlation\": -0.04445867207636043, \"order\": 1}, {\"genre\": \"Country\", \"row\": \"loudness\", \"col\": \"acousticness\", \"Correlation\": -0.5243942842088058, \"order\": 1}, {\"genre\": \"Country\", \"row\": \"speechiness\", \"col\": \"acousticness\", \"Correlation\": -0.06688336432344456, \"order\": 1}, {\"genre\": \"Country\", \"row\": \"tempo\", \"col\": \"acousticness\", \"Correlation\": -0.13716235453732661, \"order\": 1}, {\"genre\": \"Country\", \"row\": \"valence\", \"col\": \"acousticness\", \"Correlation\": -0.22193166596267563, \"order\": 1}, {\"genre\": \"Dance\", \"row\": \"popularity\", \"col\": \"acousticness\", \"Correlation\": 0.038361557017217704, \"order\": 0}, {\"genre\": \"Dance\", \"row\": \"acousticness\", \"col\": \"acousticness\", \"Correlation\": 1.0, \"order\": 1}, {\"genre\": \"Dance\", \"row\": \"danceability\", \"col\": \"acousticness\", \"Correlation\": -0.043494524019657185, \"order\": 1}, {\"genre\": \"Dance\", \"row\": \"duration_ms\", \"col\": \"acousticness\", \"Correlation\": 0.012616956033172104, \"order\": 1}, {\"genre\": \"Dance\", \"row\": \"energy\", \"col\": \"acousticness\", \"Correlation\": -0.4880927423047653, \"order\": 1}, {\"genre\": \"Dance\", \"row\": \"instrumentalness\", \"col\": \"acousticness\", \"Correlation\": -0.012585748581194463, \"order\": 1}, {\"genre\": \"Dance\", \"row\": \"liveness\", \"col\": \"acousticness\", \"Correlation\": -0.07368147405156873, \"order\": 1}, {\"genre\": \"Dance\", \"row\": \"loudness\", \"col\": \"acousticness\", \"Correlation\": -0.32347906136452587, \"order\": 1}, {\"genre\": \"Dance\", \"row\": \"speechiness\", \"col\": \"acousticness\", \"Correlation\": 0.010851142815576732, \"order\": 1}, {\"genre\": \"Dance\", \"row\": \"tempo\", \"col\": \"acousticness\", \"Correlation\": -0.07953363896249606, \"order\": 1}, {\"genre\": \"Dance\", \"row\": \"valence\", \"col\": \"acousticness\", \"Correlation\": -0.13044696220514143, \"order\": 1}, {\"genre\": \"Electronic\", \"row\": \"popularity\", \"col\": \"acousticness\", \"Correlation\": 0.019028728602833826, \"order\": 0}, {\"genre\": \"Electronic\", \"row\": \"acousticness\", \"col\": \"acousticness\", \"Correlation\": 1.0, \"order\": 1}, {\"genre\": \"Electronic\", \"row\": \"danceability\", \"col\": \"acousticness\", \"Correlation\": -0.07806860848979466, \"order\": 1}, {\"genre\": \"Electronic\", \"row\": \"duration_ms\", \"col\": \"acousticness\", \"Correlation\": 0.037362601255033094, \"order\": 1}, {\"genre\": \"Electronic\", \"row\": \"energy\", \"col\": \"acousticness\", \"Correlation\": -0.5292198770577445, \"order\": 1}, {\"genre\": \"Electronic\", \"row\": \"instrumentalness\", \"col\": \"acousticness\", \"Correlation\": 0.17626783982916416, \"order\": 1}, {\"genre\": \"Electronic\", \"row\": \"liveness\", \"col\": \"acousticness\", \"Correlation\": -0.09431572434102783, \"order\": 1}, {\"genre\": \"Electronic\", \"row\": \"loudness\", \"col\": \"acousticness\", \"Correlation\": -0.5036528858396995, \"order\": 1}, {\"genre\": \"Electronic\", \"row\": \"speechiness\", \"col\": \"acousticness\", \"Correlation\": -0.11011048953754403, \"order\": 1}, {\"genre\": \"Electronic\", \"row\": \"tempo\", \"col\": \"acousticness\", \"Correlation\": -0.1100863177992117, \"order\": 1}, {\"genre\": \"Electronic\", \"row\": \"valence\", \"col\": \"acousticness\", \"Correlation\": -0.05549916674735238, \"order\": 1}, {\"genre\": \"Folk\", \"row\": \"popularity\", \"col\": \"acousticness\", \"Correlation\": -0.00393572356138681, \"order\": 0}, {\"genre\": \"Folk\", \"row\": \"acousticness\", \"col\": \"acousticness\", \"Correlation\": 1.0, \"order\": 1}, {\"genre\": \"Folk\", \"row\": \"danceability\", \"col\": \"acousticness\", \"Correlation\": -0.08332155553755777, \"order\": 1}, {\"genre\": \"Folk\", \"row\": \"duration_ms\", \"col\": \"acousticness\", \"Correlation\": -0.0880560908057719, \"order\": 1}, {\"genre\": \"Folk\", \"row\": \"energy\", \"col\": \"acousticness\", \"Correlation\": -0.7436031852916982, \"order\": 1}, {\"genre\": \"Folk\", \"row\": \"instrumentalness\", \"col\": \"acousticness\", \"Correlation\": 0.0665082844197819, \"order\": 1}, {\"genre\": \"Folk\", \"row\": \"liveness\", \"col\": \"acousticness\", \"Correlation\": -0.10306224336460433, \"order\": 1}, {\"genre\": \"Folk\", \"row\": \"loudness\", \"col\": \"acousticness\", \"Correlation\": -0.584427527359538, \"order\": 1}, {\"genre\": \"Folk\", \"row\": \"speechiness\", \"col\": \"acousticness\", \"Correlation\": -0.024384077005999708, \"order\": 1}, {\"genre\": \"Folk\", \"row\": \"tempo\", \"col\": \"acousticness\", \"Correlation\": -0.09756693448303634, \"order\": 1}, {\"genre\": \"Folk\", \"row\": \"valence\", \"col\": \"acousticness\", \"Correlation\": -0.3281881107184374, \"order\": 1}, {\"genre\": \"Hip-Hop\", \"row\": \"popularity\", \"col\": \"acousticness\", \"Correlation\": 0.1022200842086133, \"order\": 0}, {\"genre\": \"Hip-Hop\", \"row\": \"acousticness\", \"col\": \"acousticness\", \"Correlation\": 1.0, \"order\": 1}, {\"genre\": \"Hip-Hop\", \"row\": \"danceability\", \"col\": \"acousticness\", \"Correlation\": -0.18957358396776658, \"order\": 1}, {\"genre\": \"Hip-Hop\", \"row\": \"duration_ms\", \"col\": \"acousticness\", \"Correlation\": 0.0845040171720334, \"order\": 1}, {\"genre\": \"Hip-Hop\", \"row\": \"energy\", \"col\": \"acousticness\", \"Correlation\": -0.22620351000111574, \"order\": 1}, {\"genre\": \"Hip-Hop\", \"row\": \"instrumentalness\", \"col\": \"acousticness\", \"Correlation\": -0.012612362240366225, \"order\": 1}, {\"genre\": \"Hip-Hop\", \"row\": \"liveness\", \"col\": \"acousticness\", \"Correlation\": -0.04113090965832065, \"order\": 1}, {\"genre\": \"Hip-Hop\", \"row\": \"loudness\", \"col\": \"acousticness\", \"Correlation\": -0.22061754074755965, \"order\": 1}, {\"genre\": \"Hip-Hop\", \"row\": \"speechiness\", \"col\": \"acousticness\", \"Correlation\": 0.08790069588539177, \"order\": 1}, {\"genre\": \"Hip-Hop\", \"row\": \"tempo\", \"col\": \"acousticness\", \"Correlation\": -0.08187634894309846, \"order\": 1}, {\"genre\": \"Hip-Hop\", \"row\": \"valence\", \"col\": \"acousticness\", \"Correlation\": 0.0425250463033227, \"order\": 1}, {\"genre\": \"Indie\", \"row\": \"popularity\", \"col\": \"acousticness\", \"Correlation\": 0.11733429874902009, \"order\": 0}, {\"genre\": \"Indie\", \"row\": \"acousticness\", \"col\": \"acousticness\", \"Correlation\": 1.0, \"order\": 1}, {\"genre\": \"Indie\", \"row\": \"danceability\", \"col\": \"acousticness\", \"Correlation\": 0.0038221374661037604, \"order\": 1}, {\"genre\": \"Indie\", \"row\": \"duration_ms\", \"col\": \"acousticness\", \"Correlation\": -0.011431273347542986, \"order\": 1}, {\"genre\": \"Indie\", \"row\": \"energy\", \"col\": \"acousticness\", \"Correlation\": -0.7285341490875608, \"order\": 1}, {\"genre\": \"Indie\", \"row\": \"instrumentalness\", \"col\": \"acousticness\", \"Correlation\": 0.05626090746899155, \"order\": 1}, {\"genre\": \"Indie\", \"row\": \"liveness\", \"col\": \"acousticness\", \"Correlation\": -0.08257559746302934, \"order\": 1}, {\"genre\": \"Indie\", \"row\": \"loudness\", \"col\": \"acousticness\", \"Correlation\": -0.5976067211817101, \"order\": 1}, {\"genre\": \"Indie\", \"row\": \"speechiness\", \"col\": \"acousticness\", \"Correlation\": -0.051283728161586606, \"order\": 1}, {\"genre\": \"Indie\", \"row\": \"tempo\", \"col\": \"acousticness\", \"Correlation\": -0.11607039180920982, \"order\": 1}, {\"genre\": \"Indie\", \"row\": \"valence\", \"col\": \"acousticness\", \"Correlation\": -0.2758553620295401, \"order\": 1}, {\"genre\": \"Jazz\", \"row\": \"popularity\", \"col\": \"acousticness\", \"Correlation\": 0.09123872582913939, \"order\": 0}, {\"genre\": \"Jazz\", \"row\": \"acousticness\", \"col\": \"acousticness\", \"Correlation\": 1.0, \"order\": 1}, {\"genre\": \"Jazz\", \"row\": \"danceability\", \"col\": \"acousticness\", \"Correlation\": -0.28881602055041, \"order\": 1}, {\"genre\": \"Jazz\", \"row\": \"duration_ms\", \"col\": \"acousticness\", \"Correlation\": -0.0811650675381785, \"order\": 1}, {\"genre\": \"Jazz\", \"row\": \"energy\", \"col\": \"acousticness\", \"Correlation\": -0.6970988729322102, \"order\": 1}, {\"genre\": \"Jazz\", \"row\": \"instrumentalness\", \"col\": \"acousticness\", \"Correlation\": -0.055379318142384684, \"order\": 1}, {\"genre\": \"Jazz\", \"row\": \"liveness\", \"col\": \"acousticness\", \"Correlation\": -0.037005845090872326, \"order\": 1}, {\"genre\": \"Jazz\", \"row\": \"loudness\", \"col\": \"acousticness\", \"Correlation\": -0.5642757523824851, \"order\": 1}, {\"genre\": \"Jazz\", \"row\": \"speechiness\", \"col\": \"acousticness\", \"Correlation\": -0.12860208517022512, \"order\": 1}, {\"genre\": \"Jazz\", \"row\": \"tempo\", \"col\": \"acousticness\", \"Correlation\": -0.07821608417703528, \"order\": 1}, {\"genre\": \"Jazz\", \"row\": \"valence\", \"col\": \"acousticness\", \"Correlation\": -0.28278439154209767, \"order\": 1}, {\"genre\": \"Movie\", \"row\": \"popularity\", \"col\": \"acousticness\", \"Correlation\": 0.07727949890464395, \"order\": 0}, {\"genre\": \"Movie\", \"row\": \"acousticness\", \"col\": \"acousticness\", \"Correlation\": 1.0, \"order\": 1}, {\"genre\": \"Movie\", \"row\": \"danceability\", \"col\": \"acousticness\", \"Correlation\": -0.34874528376905056, \"order\": 1}, {\"genre\": \"Movie\", \"row\": \"duration_ms\", \"col\": \"acousticness\", \"Correlation\": -0.02692727256175414, \"order\": 1}, {\"genre\": \"Movie\", \"row\": \"energy\", \"col\": \"acousticness\", \"Correlation\": -0.6990232186000035, \"order\": 1}, {\"genre\": \"Movie\", \"row\": \"instrumentalness\", \"col\": \"acousticness\", \"Correlation\": 0.2560750763201416, \"order\": 1}, {\"genre\": \"Movie\", \"row\": \"liveness\", \"col\": \"acousticness\", \"Correlation\": -0.07723959725143176, \"order\": 1}, {\"genre\": \"Movie\", \"row\": \"loudness\", \"col\": \"acousticness\", \"Correlation\": -0.5088383939502302, \"order\": 1}, {\"genre\": \"Movie\", \"row\": \"speechiness\", \"col\": \"acousticness\", \"Correlation\": 0.018783817406567694, \"order\": 1}, {\"genre\": \"Movie\", \"row\": \"tempo\", \"col\": \"acousticness\", \"Correlation\": -0.18134924211115794, \"order\": 1}, {\"genre\": \"Movie\", \"row\": \"valence\", \"col\": \"acousticness\", \"Correlation\": -0.35549820856536635, \"order\": 1}, {\"genre\": \"Opera\", \"row\": \"popularity\", \"col\": \"acousticness\", \"Correlation\": -0.03732318381004515, \"order\": 0}, {\"genre\": \"Opera\", \"row\": \"acousticness\", \"col\": \"acousticness\", \"Correlation\": 1.0, \"order\": 1}, {\"genre\": \"Opera\", \"row\": \"danceability\", \"col\": \"acousticness\", \"Correlation\": -0.03503680262498623, \"order\": 1}, {\"genre\": \"Opera\", \"row\": \"duration_ms\", \"col\": \"acousticness\", \"Correlation\": 0.06648044078797494, \"order\": 1}, {\"genre\": \"Opera\", \"row\": \"energy\", \"col\": \"acousticness\", \"Correlation\": -0.1735032877032937, \"order\": 1}, {\"genre\": \"Opera\", \"row\": \"instrumentalness\", \"col\": \"acousticness\", \"Correlation\": -0.13763306826245905, \"order\": 1}, {\"genre\": \"Opera\", \"row\": \"liveness\", \"col\": \"acousticness\", \"Correlation\": -0.03295398349815727, \"order\": 1}, {\"genre\": \"Opera\", \"row\": \"loudness\", \"col\": \"acousticness\", \"Correlation\": -0.029875563808339004, \"order\": 1}, {\"genre\": \"Opera\", \"row\": \"speechiness\", \"col\": \"acousticness\", \"Correlation\": 0.005205516572814206, \"order\": 1}, {\"genre\": \"Opera\", \"row\": \"tempo\", \"col\": \"acousticness\", \"Correlation\": -0.06295509536223609, \"order\": 1}, {\"genre\": \"Opera\", \"row\": \"valence\", \"col\": \"acousticness\", \"Correlation\": -0.21890311826534878, \"order\": 1}, {\"genre\": \"Pop\", \"row\": \"popularity\", \"col\": \"acousticness\", \"Correlation\": -0.041117143125976266, \"order\": 0}, {\"genre\": \"Pop\", \"row\": \"acousticness\", \"col\": \"acousticness\", \"Correlation\": 1.0, \"order\": 1}, {\"genre\": \"Pop\", \"row\": \"danceability\", \"col\": \"acousticness\", \"Correlation\": -0.234071813359285, \"order\": 1}, {\"genre\": \"Pop\", \"row\": \"duration_ms\", \"col\": \"acousticness\", \"Correlation\": 0.011988926651154426, \"order\": 1}, {\"genre\": \"Pop\", \"row\": \"energy\", \"col\": \"acousticness\", \"Correlation\": -0.6214312417827723, \"order\": 1}, {\"genre\": \"Pop\", \"row\": \"instrumentalness\", \"col\": \"acousticness\", \"Correlation\": 0.182080102490088, \"order\": 1}, {\"genre\": \"Pop\", \"row\": \"liveness\", \"col\": \"acousticness\", \"Correlation\": -0.11964473354695561, \"order\": 1}, {\"genre\": \"Pop\", \"row\": \"loudness\", \"col\": \"acousticness\", \"Correlation\": -0.5171334811398757, \"order\": 1}, {\"genre\": \"Pop\", \"row\": \"speechiness\", \"col\": \"acousticness\", \"Correlation\": -0.16328452778654756, \"order\": 1}, {\"genre\": \"Pop\", \"row\": \"tempo\", \"col\": \"acousticness\", \"Correlation\": -0.11574324191991865, \"order\": 1}, {\"genre\": \"Pop\", \"row\": \"valence\", \"col\": \"acousticness\", \"Correlation\": -0.1507187225706974, \"order\": 1}, {\"genre\": \"R&B\", \"row\": \"popularity\", \"col\": \"acousticness\", \"Correlation\": 0.053680080103013283, \"order\": 0}, {\"genre\": \"R&B\", \"row\": \"acousticness\", \"col\": \"acousticness\", \"Correlation\": 1.0, \"order\": 1}, {\"genre\": \"R&B\", \"row\": \"danceability\", \"col\": \"acousticness\", \"Correlation\": -0.269236366459359, \"order\": 1}, {\"genre\": \"R&B\", \"row\": \"duration_ms\", \"col\": \"acousticness\", \"Correlation\": -0.057786238834203175, \"order\": 1}, {\"genre\": \"R&B\", \"row\": \"energy\", \"col\": \"acousticness\", \"Correlation\": -0.5447643805426723, \"order\": 1}, {\"genre\": \"R&B\", \"row\": \"instrumentalness\", \"col\": \"acousticness\", \"Correlation\": 0.0892626889844336, \"order\": 1}, {\"genre\": \"R&B\", \"row\": \"liveness\", \"col\": \"acousticness\", \"Correlation\": -0.05502037293757404, \"order\": 1}, {\"genre\": \"R&B\", \"row\": \"loudness\", \"col\": \"acousticness\", \"Correlation\": -0.4057046834472027, \"order\": 1}, {\"genre\": \"R&B\", \"row\": \"speechiness\", \"col\": \"acousticness\", \"Correlation\": -0.05079344048346262, \"order\": 1}, {\"genre\": \"R&B\", \"row\": \"tempo\", \"col\": \"acousticness\", \"Correlation\": -0.10013239141129333, \"order\": 1}, {\"genre\": \"R&B\", \"row\": \"valence\", \"col\": \"acousticness\", \"Correlation\": -0.1784007599455089, \"order\": 1}, {\"genre\": \"Rap\", \"row\": \"popularity\", \"col\": \"acousticness\", \"Correlation\": 0.0640169724459473, \"order\": 0}, {\"genre\": \"Rap\", \"row\": \"acousticness\", \"col\": \"acousticness\", \"Correlation\": 1.0, \"order\": 1}, {\"genre\": \"Rap\", \"row\": \"danceability\", \"col\": \"acousticness\", \"Correlation\": -0.11806286294733369, \"order\": 1}, {\"genre\": \"Rap\", \"row\": \"duration_ms\", \"col\": \"acousticness\", \"Correlation\": -0.07861157224267815, \"order\": 1}, {\"genre\": \"Rap\", \"row\": \"energy\", \"col\": \"acousticness\", \"Correlation\": -0.27461675487028175, \"order\": 1}, {\"genre\": \"Rap\", \"row\": \"instrumentalness\", \"col\": \"acousticness\", \"Correlation\": 0.13823442652498324, \"order\": 1}, {\"genre\": \"Rap\", \"row\": \"liveness\", \"col\": \"acousticness\", \"Correlation\": -0.03971543926717942, \"order\": 1}, {\"genre\": \"Rap\", \"row\": \"loudness\", \"col\": \"acousticness\", \"Correlation\": -0.2710219719230445, \"order\": 1}, {\"genre\": \"Rap\", \"row\": \"speechiness\", \"col\": \"acousticness\", \"Correlation\": 0.03010459116910482, \"order\": 1}, {\"genre\": \"Rap\", \"row\": \"tempo\", \"col\": \"acousticness\", \"Correlation\": -0.09193904163057678, \"order\": 1}, {\"genre\": \"Rap\", \"row\": \"valence\", \"col\": \"acousticness\", \"Correlation\": 0.014501604654660667, \"order\": 1}, {\"genre\": \"Reggae\", \"row\": \"popularity\", \"col\": \"acousticness\", \"Correlation\": 0.019237033373978973, \"order\": 0}, {\"genre\": \"Reggae\", \"row\": \"acousticness\", \"col\": \"acousticness\", \"Correlation\": 1.0, \"order\": 1}, {\"genre\": \"Reggae\", \"row\": \"danceability\", \"col\": \"acousticness\", \"Correlation\": -0.04252817848430318, \"order\": 1}, {\"genre\": \"Reggae\", \"row\": \"duration_ms\", \"col\": \"acousticness\", \"Correlation\": -0.054602997734257176, \"order\": 1}, {\"genre\": \"Reggae\", \"row\": \"energy\", \"col\": \"acousticness\", \"Correlation\": -0.31178077067160515, \"order\": 1}, {\"genre\": \"Reggae\", \"row\": \"instrumentalness\", \"col\": \"acousticness\", \"Correlation\": -0.015016777152209582, \"order\": 1}, {\"genre\": \"Reggae\", \"row\": \"liveness\", \"col\": \"acousticness\", \"Correlation\": 0.025354069359346424, \"order\": 1}, {\"genre\": \"Reggae\", \"row\": \"loudness\", \"col\": \"acousticness\", \"Correlation\": -0.1828522405449707, \"order\": 1}, {\"genre\": \"Reggae\", \"row\": \"speechiness\", \"col\": \"acousticness\", \"Correlation\": 0.031911282991232554, \"order\": 1}, {\"genre\": \"Reggae\", \"row\": \"tempo\", \"col\": \"acousticness\", \"Correlation\": 0.0027844166478151315, \"order\": 1}, {\"genre\": \"Reggae\", \"row\": \"valence\", \"col\": \"acousticness\", \"Correlation\": -0.028988852894974767, \"order\": 1}, {\"genre\": \"Reggaeton\", \"row\": \"popularity\", \"col\": \"acousticness\", \"Correlation\": 0.03589030873370104, \"order\": 0}, {\"genre\": \"Reggaeton\", \"row\": \"acousticness\", \"col\": \"acousticness\", \"Correlation\": 1.0, \"order\": 1}, {\"genre\": \"Reggaeton\", \"row\": \"danceability\", \"col\": \"acousticness\", \"Correlation\": -0.13162506985554442, \"order\": 1}, {\"genre\": \"Reggaeton\", \"row\": \"duration_ms\", \"col\": \"acousticness\", \"Correlation\": 0.027305704578276427, \"order\": 1}, {\"genre\": \"Reggaeton\", \"row\": \"energy\", \"col\": \"acousticness\", \"Correlation\": -0.21811839748757222, \"order\": 1}, {\"genre\": \"Reggaeton\", \"row\": \"instrumentalness\", \"col\": \"acousticness\", \"Correlation\": -0.04813515982892095, \"order\": 1}, {\"genre\": \"Reggaeton\", \"row\": \"liveness\", \"col\": \"acousticness\", \"Correlation\": -0.029188930523381822, \"order\": 1}, {\"genre\": \"Reggaeton\", \"row\": \"loudness\", \"col\": \"acousticness\", \"Correlation\": -0.09533895744169925, \"order\": 1}, {\"genre\": \"Reggaeton\", \"row\": \"speechiness\", \"col\": \"acousticness\", \"Correlation\": 0.049689720992791335, \"order\": 1}, {\"genre\": \"Reggaeton\", \"row\": \"tempo\", \"col\": \"acousticness\", \"Correlation\": 0.023318712648756533, \"order\": 1}, {\"genre\": \"Reggaeton\", \"row\": \"valence\", \"col\": \"acousticness\", \"Correlation\": 0.008679096358824452, \"order\": 1}, {\"genre\": \"Rock\", \"row\": \"popularity\", \"col\": \"acousticness\", \"Correlation\": 0.03507472996984017, \"order\": 0}, {\"genre\": \"Rock\", \"row\": \"acousticness\", \"col\": \"acousticness\", \"Correlation\": 1.0, \"order\": 1}, {\"genre\": \"Rock\", \"row\": \"danceability\", \"col\": \"acousticness\", \"Correlation\": -0.027495618649759038, \"order\": 1}, {\"genre\": \"Rock\", \"row\": \"duration_ms\", \"col\": \"acousticness\", \"Correlation\": -0.09510329245534686, \"order\": 1}, {\"genre\": \"Rock\", \"row\": \"energy\", \"col\": \"acousticness\", \"Correlation\": -0.6653948345302843, \"order\": 1}, {\"genre\": \"Rock\", \"row\": \"instrumentalness\", \"col\": \"acousticness\", \"Correlation\": 0.169966772478979, \"order\": 1}, {\"genre\": \"Rock\", \"row\": \"liveness\", \"col\": \"acousticness\", \"Correlation\": -0.05778453402360593, \"order\": 1}, {\"genre\": \"Rock\", \"row\": \"loudness\", \"col\": \"acousticness\", \"Correlation\": -0.4950307404813065, \"order\": 1}, {\"genre\": \"Rock\", \"row\": \"speechiness\", \"col\": \"acousticness\", \"Correlation\": -0.12066745547841745, \"order\": 1}, {\"genre\": \"Rock\", \"row\": \"tempo\", \"col\": \"acousticness\", \"Correlation\": -0.14653644587220113, \"order\": 1}, {\"genre\": \"Rock\", \"row\": \"valence\", \"col\": \"acousticness\", \"Correlation\": -0.17700931672681244, \"order\": 1}, {\"genre\": \"Ska\", \"row\": \"popularity\", \"col\": \"acousticness\", \"Correlation\": -0.02850632729829283, \"order\": 0}, {\"genre\": \"Ska\", \"row\": \"acousticness\", \"col\": \"acousticness\", \"Correlation\": 1.0, \"order\": 1}, {\"genre\": \"Ska\", \"row\": \"danceability\", \"col\": \"acousticness\", \"Correlation\": 0.343512850653773, \"order\": 1}, {\"genre\": \"Ska\", \"row\": \"duration_ms\", \"col\": \"acousticness\", \"Correlation\": 0.10014753951762195, \"order\": 1}, {\"genre\": \"Ska\", \"row\": \"energy\", \"col\": \"acousticness\", \"Correlation\": -0.5274340660845626, \"order\": 1}, {\"genre\": \"Ska\", \"row\": \"instrumentalness\", \"col\": \"acousticness\", \"Correlation\": 0.08222174615711912, \"order\": 1}, {\"genre\": \"Ska\", \"row\": \"liveness\", \"col\": \"acousticness\", \"Correlation\": 0.01877644839248743, \"order\": 1}, {\"genre\": \"Ska\", \"row\": \"loudness\", \"col\": \"acousticness\", \"Correlation\": -0.3025323167259847, \"order\": 1}, {\"genre\": \"Ska\", \"row\": \"speechiness\", \"col\": \"acousticness\", \"Correlation\": 0.030947643044913327, \"order\": 1}, {\"genre\": \"Ska\", \"row\": \"tempo\", \"col\": \"acousticness\", \"Correlation\": -0.10583433300920159, \"order\": 1}, {\"genre\": \"Ska\", \"row\": \"valence\", \"col\": \"acousticness\", \"Correlation\": 0.13242348272459975, \"order\": 1}, {\"genre\": \"Soul\", \"row\": \"popularity\", \"col\": \"acousticness\", \"Correlation\": 0.04969593203223328, \"order\": 0}, {\"genre\": \"Soul\", \"row\": \"acousticness\", \"col\": \"acousticness\", \"Correlation\": 1.0, \"order\": 1}, {\"genre\": \"Soul\", \"row\": \"danceability\", \"col\": \"acousticness\", \"Correlation\": -0.243124532613451, \"order\": 1}, {\"genre\": \"Soul\", \"row\": \"duration_ms\", \"col\": \"acousticness\", \"Correlation\": -0.11475787643661858, \"order\": 1}, {\"genre\": \"Soul\", \"row\": \"energy\", \"col\": \"acousticness\", \"Correlation\": -0.5753673943487517, \"order\": 1}, {\"genre\": \"Soul\", \"row\": \"instrumentalness\", \"col\": \"acousticness\", \"Correlation\": 0.02391949155941231, \"order\": 1}, {\"genre\": \"Soul\", \"row\": \"liveness\", \"col\": \"acousticness\", \"Correlation\": -0.019774389209639354, \"order\": 1}, {\"genre\": \"Soul\", \"row\": \"loudness\", \"col\": \"acousticness\", \"Correlation\": -0.437928853991827, \"order\": 1}, {\"genre\": \"Soul\", \"row\": \"speechiness\", \"col\": \"acousticness\", \"Correlation\": -0.05942762886026574, \"order\": 1}, {\"genre\": \"Soul\", \"row\": \"tempo\", \"col\": \"acousticness\", \"Correlation\": -0.053648989530870654, \"order\": 1}, {\"genre\": \"Soul\", \"row\": \"valence\", \"col\": \"acousticness\", \"Correlation\": -0.16182527274593256, \"order\": 1}, {\"genre\": \"Soundtrack\", \"row\": \"popularity\", \"col\": \"acousticness\", \"Correlation\": -0.03499434278663145, \"order\": 0}, {\"genre\": \"Soundtrack\", \"row\": \"acousticness\", \"col\": \"acousticness\", \"Correlation\": 1.0, \"order\": 1}, {\"genre\": \"Soundtrack\", \"row\": \"danceability\", \"col\": \"acousticness\", \"Correlation\": -0.11904649733453239, \"order\": 1}, {\"genre\": \"Soundtrack\", \"row\": \"duration_ms\", \"col\": \"acousticness\", \"Correlation\": -0.12603742181393213, \"order\": 1}, {\"genre\": \"Soundtrack\", \"row\": \"energy\", \"col\": \"acousticness\", \"Correlation\": -0.6295787667221626, \"order\": 1}, {\"genre\": \"Soundtrack\", \"row\": \"instrumentalness\", \"col\": \"acousticness\", \"Correlation\": 0.06262286082830941, \"order\": 1}, {\"genre\": \"Soundtrack\", \"row\": \"liveness\", \"col\": \"acousticness\", \"Correlation\": -0.11024520904128161, \"order\": 1}, {\"genre\": \"Soundtrack\", \"row\": \"loudness\", \"col\": \"acousticness\", \"Correlation\": -0.45624413831816923, \"order\": 1}, {\"genre\": \"Soundtrack\", \"row\": \"speechiness\", \"col\": \"acousticness\", \"Correlation\": -0.07612390171268137, \"order\": 1}, {\"genre\": \"Soundtrack\", \"row\": \"tempo\", \"col\": \"acousticness\", \"Correlation\": -0.14322522500366472, \"order\": 1}, {\"genre\": \"Soundtrack\", \"row\": \"valence\", \"col\": \"acousticness\", \"Correlation\": -0.09424385399783015, \"order\": 1}, {\"genre\": \"World\", \"row\": \"popularity\", \"col\": \"acousticness\", \"Correlation\": -0.0267529890367198, \"order\": 0}, {\"genre\": \"World\", \"row\": \"acousticness\", \"col\": \"acousticness\", \"Correlation\": 1.0, \"order\": 1}, {\"genre\": \"World\", \"row\": \"danceability\", \"col\": \"acousticness\", \"Correlation\": -0.23273466840874013, \"order\": 1}, {\"genre\": \"World\", \"row\": \"duration_ms\", \"col\": \"acousticness\", \"Correlation\": -0.004922185620708966, \"order\": 1}, {\"genre\": \"World\", \"row\": \"energy\", \"col\": \"acousticness\", \"Correlation\": -0.7364274054675599, \"order\": 1}, {\"genre\": \"World\", \"row\": \"instrumentalness\", \"col\": \"acousticness\", \"Correlation\": 0.44027751669163434, \"order\": 1}, {\"genre\": \"World\", \"row\": \"liveness\", \"col\": \"acousticness\", \"Correlation\": -0.27394219407944326, \"order\": 1}, {\"genre\": \"World\", \"row\": \"loudness\", \"col\": \"acousticness\", \"Correlation\": -0.6657223365285655, \"order\": 1}, {\"genre\": \"World\", \"row\": \"speechiness\", \"col\": \"acousticness\", \"Correlation\": -0.031149494285756082, \"order\": 1}, {\"genre\": \"World\", \"row\": \"tempo\", \"col\": \"acousticness\", \"Correlation\": -0.24269131924743467, \"order\": 1}, {\"genre\": \"World\", \"row\": \"valence\", \"col\": \"acousticness\", \"Correlation\": -0.10204678661349005, \"order\": 1}, {\"genre\": \"A Capella\", \"row\": \"popularity\", \"col\": \"danceability\", \"Correlation\": 0.13112244620187946, \"order\": 0}, {\"genre\": \"A Capella\", \"row\": \"acousticness\", \"col\": \"danceability\", \"Correlation\": -0.5873854604604303, \"order\": 1}, {\"genre\": \"A Capella\", \"row\": \"danceability\", \"col\": \"danceability\", \"Correlation\": 1.0, \"order\": 1}, {\"genre\": \"A Capella\", \"row\": \"duration_ms\", \"col\": \"danceability\", \"Correlation\": -0.27624641006329254, \"order\": 1}, {\"genre\": \"A Capella\", \"row\": \"energy\", \"col\": \"danceability\", \"Correlation\": 0.6405129753782447, \"order\": 1}, {\"genre\": \"A Capella\", \"row\": \"instrumentalness\", \"col\": \"danceability\", \"Correlation\": -0.12906762551312156, \"order\": 1}, {\"genre\": \"A Capella\", \"row\": \"liveness\", \"col\": \"danceability\", \"Correlation\": 0.07792040861007654, \"order\": 1}, {\"genre\": \"A Capella\", \"row\": \"loudness\", \"col\": \"danceability\", \"Correlation\": 0.46448768224029907, \"order\": 1}, {\"genre\": \"A Capella\", \"row\": \"speechiness\", \"col\": \"danceability\", \"Correlation\": 0.6099482084148709, \"order\": 1}, {\"genre\": \"A Capella\", \"row\": \"tempo\", \"col\": \"danceability\", \"Correlation\": 0.05563416327649388, \"order\": 1}, {\"genre\": \"A Capella\", \"row\": \"valence\", \"col\": \"danceability\", \"Correlation\": 0.8014684985775831, \"order\": 1}, {\"genre\": \"Alternative\", \"row\": \"popularity\", \"col\": \"danceability\", \"Correlation\": 0.07758189865269975, \"order\": 0}, {\"genre\": \"Alternative\", \"row\": \"acousticness\", \"col\": \"danceability\", \"Correlation\": 0.1460775736858211, \"order\": 1}, {\"genre\": \"Alternative\", \"row\": \"danceability\", \"col\": \"danceability\", \"Correlation\": 1.0, \"order\": 1}, {\"genre\": \"Alternative\", \"row\": \"duration_ms\", \"col\": \"danceability\", \"Correlation\": -0.21021838988600672, \"order\": 1}, {\"genre\": \"Alternative\", \"row\": \"energy\", \"col\": \"danceability\", \"Correlation\": -0.2246798316110038, \"order\": 1}, {\"genre\": \"Alternative\", \"row\": \"instrumentalness\", \"col\": \"danceability\", \"Correlation\": -0.03558233720140672, \"order\": 1}, {\"genre\": \"Alternative\", \"row\": \"liveness\", \"col\": \"danceability\", \"Correlation\": -0.08835474156952519, \"order\": 1}, {\"genre\": \"Alternative\", \"row\": \"loudness\", \"col\": \"danceability\", \"Correlation\": -0.166039839983523, \"order\": 1}, {\"genre\": \"Alternative\", \"row\": \"speechiness\", \"col\": \"danceability\", \"Correlation\": 0.17647003916935028, \"order\": 1}, {\"genre\": \"Alternative\", \"row\": \"tempo\", \"col\": \"danceability\", \"Correlation\": -0.2538599749285715, \"order\": 1}, {\"genre\": \"Alternative\", \"row\": \"valence\", \"col\": \"danceability\", \"Correlation\": 0.38831410222842866, \"order\": 1}, {\"genre\": \"Blues\", \"row\": \"popularity\", \"col\": \"danceability\", \"Correlation\": 0.08695062177360564, \"order\": 0}, {\"genre\": \"Blues\", \"row\": \"acousticness\", \"col\": \"danceability\", \"Correlation\": 0.16092614155785742, \"order\": 1}, {\"genre\": \"Blues\", \"row\": \"danceability\", \"col\": \"danceability\", \"Correlation\": 1.0, \"order\": 1}, {\"genre\": \"Blues\", \"row\": \"duration_ms\", \"col\": \"danceability\", \"Correlation\": -0.2113364007640095, \"order\": 1}, {\"genre\": \"Blues\", \"row\": \"energy\", \"col\": \"danceability\", \"Correlation\": -0.2595563035757881, \"order\": 1}, {\"genre\": \"Blues\", \"row\": \"instrumentalness\", \"col\": \"danceability\", \"Correlation\": -0.047801131683616556, \"order\": 1}, {\"genre\": \"Blues\", \"row\": \"liveness\", \"col\": \"danceability\", \"Correlation\": -0.09012924422494535, \"order\": 1}, {\"genre\": \"Blues\", \"row\": \"loudness\", \"col\": \"danceability\", \"Correlation\": -0.18516667938534692, \"order\": 1}, {\"genre\": \"Blues\", \"row\": \"speechiness\", \"col\": \"danceability\", \"Correlation\": 0.16139142046424923, \"order\": 1}, {\"genre\": \"Blues\", \"row\": \"tempo\", \"col\": \"danceability\", \"Correlation\": -0.27679443295961437, \"order\": 1}, {\"genre\": \"Blues\", \"row\": \"valence\", \"col\": \"danceability\", \"Correlation\": 0.3514954002600073, \"order\": 1}, {\"genre\": \"Classical\", \"row\": \"popularity\", \"col\": \"danceability\", \"Correlation\": -0.01811766607189244, \"order\": 0}, {\"genre\": \"Classical\", \"row\": \"acousticness\", \"col\": \"danceability\", \"Correlation\": -0.20516813710880924, \"order\": 1}, {\"genre\": \"Classical\", \"row\": \"danceability\", \"col\": \"danceability\", \"Correlation\": 1.0, \"order\": 1}, {\"genre\": \"Classical\", \"row\": \"duration_ms\", \"col\": \"danceability\", \"Correlation\": -0.21511868039238552, \"order\": 1}, {\"genre\": \"Classical\", \"row\": \"energy\", \"col\": \"danceability\", \"Correlation\": 0.3126357860157919, \"order\": 1}, {\"genre\": \"Classical\", \"row\": \"instrumentalness\", \"col\": \"danceability\", \"Correlation\": -0.13094936439683633, \"order\": 1}, {\"genre\": \"Classical\", \"row\": \"liveness\", \"col\": \"danceability\", \"Correlation\": 0.07225414279976629, \"order\": 1}, {\"genre\": \"Classical\", \"row\": \"loudness\", \"col\": \"danceability\", \"Correlation\": 0.25885911596586164, \"order\": 1}, {\"genre\": \"Classical\", \"row\": \"speechiness\", \"col\": \"danceability\", \"Correlation\": 0.21800430231467507, \"order\": 1}, {\"genre\": \"Classical\", \"row\": \"tempo\", \"col\": \"danceability\", \"Correlation\": 0.199517690291202, \"order\": 1}, {\"genre\": \"Classical\", \"row\": \"valence\", \"col\": \"danceability\", \"Correlation\": 0.6058213504330436, \"order\": 1}, {\"genre\": \"Comedy\", \"row\": \"popularity\", \"col\": \"danceability\", \"Correlation\": -0.03016873804855896, \"order\": 0}, {\"genre\": \"Comedy\", \"row\": \"acousticness\", \"col\": \"danceability\", \"Correlation\": -0.08500035502290071, \"order\": 1}, {\"genre\": \"Comedy\", \"row\": \"danceability\", \"col\": \"danceability\", \"Correlation\": 1.0, \"order\": 1}, {\"genre\": \"Comedy\", \"row\": \"duration_ms\", \"col\": \"danceability\", \"Correlation\": -0.06255400485758589, \"order\": 1}, {\"genre\": \"Comedy\", \"row\": \"energy\", \"col\": \"danceability\", \"Correlation\": -0.3754998083795253, \"order\": 1}, {\"genre\": \"Comedy\", \"row\": \"instrumentalness\", \"col\": \"danceability\", \"Correlation\": -0.03867655985328258, \"order\": 1}, {\"genre\": \"Comedy\", \"row\": \"liveness\", \"col\": \"danceability\", \"Correlation\": -0.2247545590913609, \"order\": 1}, {\"genre\": \"Comedy\", \"row\": \"loudness\", \"col\": \"danceability\", \"Correlation\": -0.0396454241269325, \"order\": 1}, {\"genre\": \"Comedy\", \"row\": \"speechiness\", \"col\": \"danceability\", \"Correlation\": 0.03871054477649526, \"order\": 1}, {\"genre\": \"Comedy\", \"row\": \"tempo\", \"col\": \"danceability\", \"Correlation\": 0.004730480790439104, \"order\": 1}, {\"genre\": \"Comedy\", \"row\": \"valence\", \"col\": \"danceability\", \"Correlation\": 0.4196110709183133, \"order\": 1}, {\"genre\": \"Country\", \"row\": \"popularity\", \"col\": \"danceability\", \"Correlation\": 0.023092563788347505, \"order\": 0}, {\"genre\": \"Country\", \"row\": \"acousticness\", \"col\": \"danceability\", \"Correlation\": -0.03439546269231375, \"order\": 1}, {\"genre\": \"Country\", \"row\": \"danceability\", \"col\": \"danceability\", \"Correlation\": 1.0, \"order\": 1}, {\"genre\": \"Country\", \"row\": \"duration_ms\", \"col\": \"danceability\", \"Correlation\": -0.1851435725359527, \"order\": 1}, {\"genre\": \"Country\", \"row\": \"energy\", \"col\": \"danceability\", \"Correlation\": 0.03524092962056019, \"order\": 1}, {\"genre\": \"Country\", \"row\": \"instrumentalness\", \"col\": \"danceability\", \"Correlation\": -0.009498025636801282, \"order\": 1}, {\"genre\": \"Country\", \"row\": \"liveness\", \"col\": \"danceability\", \"Correlation\": -0.07234838800283598, \"order\": 1}, {\"genre\": \"Country\", \"row\": \"loudness\", \"col\": \"danceability\", \"Correlation\": -0.08861720631573096, \"order\": 1}, {\"genre\": \"Country\", \"row\": \"speechiness\", \"col\": \"danceability\", \"Correlation\": 0.1274059322444703, \"order\": 1}, {\"genre\": \"Country\", \"row\": \"tempo\", \"col\": \"danceability\", \"Correlation\": -0.2528790038251563, \"order\": 1}, {\"genre\": \"Country\", \"row\": \"valence\", \"col\": \"danceability\", \"Correlation\": 0.3501246413492516, \"order\": 1}, {\"genre\": \"Dance\", \"row\": \"popularity\", \"col\": \"danceability\", \"Correlation\": 0.04258150619920097, \"order\": 0}, {\"genre\": \"Dance\", \"row\": \"acousticness\", \"col\": \"danceability\", \"Correlation\": -0.043494524019657185, \"order\": 1}, {\"genre\": \"Dance\", \"row\": \"danceability\", \"col\": \"danceability\", \"Correlation\": 1.0, \"order\": 1}, {\"genre\": \"Dance\", \"row\": \"duration_ms\", \"col\": \"danceability\", \"Correlation\": -0.09365136365712967, \"order\": 1}, {\"genre\": \"Dance\", \"row\": \"energy\", \"col\": \"danceability\", \"Correlation\": -0.037332794622437736, \"order\": 1}, {\"genre\": \"Dance\", \"row\": \"instrumentalness\", \"col\": \"danceability\", \"Correlation\": -0.04833505877081478, \"order\": 1}, {\"genre\": \"Dance\", \"row\": \"liveness\", \"col\": \"danceability\", \"Correlation\": -0.09289419378469194, \"order\": 1}, {\"genre\": \"Dance\", \"row\": \"loudness\", \"col\": \"danceability\", \"Correlation\": -0.004251915412446624, \"order\": 1}, {\"genre\": \"Dance\", \"row\": \"speechiness\", \"col\": \"danceability\", \"Correlation\": 0.04085752889361911, \"order\": 1}, {\"genre\": \"Dance\", \"row\": \"tempo\", \"col\": \"danceability\", \"Correlation\": -0.20900738014730447, \"order\": 1}, {\"genre\": \"Dance\", \"row\": \"valence\", \"col\": \"danceability\", \"Correlation\": 0.3960880661749094, \"order\": 1}, {\"genre\": \"Electronic\", \"row\": \"popularity\", \"col\": \"danceability\", \"Correlation\": 0.05238605991542273, \"order\": 0}, {\"genre\": \"Electronic\", \"row\": \"acousticness\", \"col\": \"danceability\", \"Correlation\": -0.07806860848979466, \"order\": 1}, {\"genre\": \"Electronic\", \"row\": \"danceability\", \"col\": \"danceability\", \"Correlation\": 1.0, \"order\": 1}, {\"genre\": \"Electronic\", \"row\": \"duration_ms\", \"col\": \"danceability\", \"Correlation\": 0.01650258500307583, \"order\": 1}, {\"genre\": \"Electronic\", \"row\": \"energy\", \"col\": \"danceability\", \"Correlation\": -0.05851910127694361, \"order\": 1}, {\"genre\": \"Electronic\", \"row\": \"instrumentalness\", \"col\": \"danceability\", \"Correlation\": 0.03404792480254869, \"order\": 1}, {\"genre\": \"Electronic\", \"row\": \"liveness\", \"col\": \"danceability\", \"Correlation\": -0.12307170751614334, \"order\": 1}, {\"genre\": \"Electronic\", \"row\": \"loudness\", \"col\": \"danceability\", \"Correlation\": -0.020909629786097107, \"order\": 1}, {\"genre\": \"Electronic\", \"row\": \"speechiness\", \"col\": \"danceability\", \"Correlation\": 0.04349818613249527, \"order\": 1}, {\"genre\": \"Electronic\", \"row\": \"tempo\", \"col\": \"danceability\", \"Correlation\": -0.130829049760358, \"order\": 1}, {\"genre\": \"Electronic\", \"row\": \"valence\", \"col\": \"danceability\", \"Correlation\": 0.3831212800552504, \"order\": 1}, {\"genre\": \"Folk\", \"row\": \"popularity\", \"col\": \"danceability\", \"Correlation\": 0.033796534768000125, \"order\": 0}, {\"genre\": \"Folk\", \"row\": \"acousticness\", \"col\": \"danceability\", \"Correlation\": -0.08332155553755777, \"order\": 1}, {\"genre\": \"Folk\", \"row\": \"danceability\", \"col\": \"danceability\", \"Correlation\": 1.0, \"order\": 1}, {\"genre\": \"Folk\", \"row\": \"duration_ms\", \"col\": \"danceability\", \"Correlation\": -0.14079034017332068, \"order\": 1}, {\"genre\": \"Folk\", \"row\": \"energy\", \"col\": \"danceability\", \"Correlation\": 0.1227844413618983, \"order\": 1}, {\"genre\": \"Folk\", \"row\": \"instrumentalness\", \"col\": \"danceability\", \"Correlation\": -0.11612816860531272, \"order\": 1}, {\"genre\": \"Folk\", \"row\": \"liveness\", \"col\": \"danceability\", \"Correlation\": -0.07720787053402302, \"order\": 1}, {\"genre\": \"Folk\", \"row\": \"loudness\", \"col\": \"danceability\", \"Correlation\": 0.06672433320658973, \"order\": 1}, {\"genre\": \"Folk\", \"row\": \"speechiness\", \"col\": \"danceability\", \"Correlation\": 0.08137536513010633, \"order\": 1}, {\"genre\": \"Folk\", \"row\": \"tempo\", \"col\": \"danceability\", \"Correlation\": -0.11450919475815702, \"order\": 1}, {\"genre\": \"Folk\", \"row\": \"valence\", \"col\": \"danceability\", \"Correlation\": 0.4529147964881028, \"order\": 1}, {\"genre\": \"Hip-Hop\", \"row\": \"popularity\", \"col\": \"danceability\", \"Correlation\": 0.08653333053267641, \"order\": 0}, {\"genre\": \"Hip-Hop\", \"row\": \"acousticness\", \"col\": \"danceability\", \"Correlation\": -0.18957358396776658, \"order\": 1}, {\"genre\": \"Hip-Hop\", \"row\": \"danceability\", \"col\": \"danceability\", \"Correlation\": 1.0, \"order\": 1}, {\"genre\": \"Hip-Hop\", \"row\": \"duration_ms\", \"col\": \"danceability\", \"Correlation\": -0.14458820430257555, \"order\": 1}, {\"genre\": \"Hip-Hop\", \"row\": \"energy\", \"col\": \"danceability\", \"Correlation\": -0.1264208941003355, \"order\": 1}, {\"genre\": \"Hip-Hop\", \"row\": \"instrumentalness\", \"col\": \"danceability\", \"Correlation\": -0.054321258967841214, \"order\": 1}, {\"genre\": \"Hip-Hop\", \"row\": \"liveness\", \"col\": \"danceability\", \"Correlation\": -0.18313292951367832, \"order\": 1}, {\"genre\": \"Hip-Hop\", \"row\": \"loudness\", \"col\": \"danceability\", \"Correlation\": 0.04504445006674044, \"order\": 1}, {\"genre\": \"Hip-Hop\", \"row\": \"speechiness\", \"col\": \"danceability\", \"Correlation\": -0.097484277327044, \"order\": 1}, {\"genre\": \"Hip-Hop\", \"row\": \"tempo\", \"col\": \"danceability\", \"Correlation\": -0.0385598761673755, \"order\": 1}, {\"genre\": \"Hip-Hop\", \"row\": \"valence\", \"col\": \"danceability\", \"Correlation\": 0.16539577993735163, \"order\": 1}, {\"genre\": \"Indie\", \"row\": \"popularity\", \"col\": \"danceability\", \"Correlation\": 0.05500011151328753, \"order\": 0}, {\"genre\": \"Indie\", \"row\": \"acousticness\", \"col\": \"danceability\", \"Correlation\": 0.0038221374661037604, \"order\": 1}, {\"genre\": \"Indie\", \"row\": \"danceability\", \"col\": \"danceability\", \"Correlation\": 1.0, \"order\": 1}, {\"genre\": \"Indie\", \"row\": \"duration_ms\", \"col\": \"danceability\", \"Correlation\": -0.19737990703467959, \"order\": 1}, {\"genre\": \"Indie\", \"row\": \"energy\", \"col\": \"danceability\", \"Correlation\": -0.052642515494581106, \"order\": 1}, {\"genre\": \"Indie\", \"row\": \"instrumentalness\", \"col\": \"danceability\", \"Correlation\": -0.06973812587975058, \"order\": 1}, {\"genre\": \"Indie\", \"row\": \"liveness\", \"col\": \"danceability\", \"Correlation\": -0.063873579895378, \"order\": 1}, {\"genre\": \"Indie\", \"row\": \"loudness\", \"col\": \"danceability\", \"Correlation\": -0.0018202632444980994, \"order\": 1}, {\"genre\": \"Indie\", \"row\": \"speechiness\", \"col\": \"danceability\", \"Correlation\": 0.09635496565238223, \"order\": 1}, {\"genre\": \"Indie\", \"row\": \"tempo\", \"col\": \"danceability\", \"Correlation\": -0.23481813084923328, \"order\": 1}, {\"genre\": \"Indie\", \"row\": \"valence\", \"col\": \"danceability\", \"Correlation\": 0.3730302153823397, \"order\": 1}, {\"genre\": \"Jazz\", \"row\": \"popularity\", \"col\": \"danceability\", \"Correlation\": 0.0030167489901681424, \"order\": 0}, {\"genre\": \"Jazz\", \"row\": \"acousticness\", \"col\": \"danceability\", \"Correlation\": -0.28881602055041, \"order\": 1}, {\"genre\": \"Jazz\", \"row\": \"danceability\", \"col\": \"danceability\", \"Correlation\": 1.0, \"order\": 1}, {\"genre\": \"Jazz\", \"row\": \"duration_ms\", \"col\": \"danceability\", \"Correlation\": -0.20282359888102205, \"order\": 1}, {\"genre\": \"Jazz\", \"row\": \"energy\", \"col\": \"danceability\", \"Correlation\": 0.2662523823673074, \"order\": 1}, {\"genre\": \"Jazz\", \"row\": \"instrumentalness\", \"col\": \"danceability\", \"Correlation\": 0.03316098750267006, \"order\": 1}, {\"genre\": \"Jazz\", \"row\": \"liveness\", \"col\": \"danceability\", \"Correlation\": -0.09370588059910653, \"order\": 1}, {\"genre\": \"Jazz\", \"row\": \"loudness\", \"col\": \"danceability\", \"Correlation\": 0.313069107969594, \"order\": 1}, {\"genre\": \"Jazz\", \"row\": \"speechiness\", \"col\": \"danceability\", \"Correlation\": 0.21512862983671446, \"order\": 1}, {\"genre\": \"Jazz\", \"row\": \"tempo\", \"col\": \"danceability\", \"Correlation\": -0.08400485539202443, \"order\": 1}, {\"genre\": \"Jazz\", \"row\": \"valence\", \"col\": \"danceability\", \"Correlation\": 0.5487982059904233, \"order\": 1}, {\"genre\": \"Movie\", \"row\": \"popularity\", \"col\": \"danceability\", \"Correlation\": -0.1763686209890238, \"order\": 0}, {\"genre\": \"Movie\", \"row\": \"acousticness\", \"col\": \"danceability\", \"Correlation\": -0.34874528376905056, \"order\": 1}, {\"genre\": \"Movie\", \"row\": \"danceability\", \"col\": \"danceability\", \"Correlation\": 1.0, \"order\": 1}, {\"genre\": \"Movie\", \"row\": \"duration_ms\", \"col\": \"danceability\", \"Correlation\": -0.017714305581603543, \"order\": 1}, {\"genre\": \"Movie\", \"row\": \"energy\", \"col\": \"danceability\", \"Correlation\": 0.42426785292792885, \"order\": 1}, {\"genre\": \"Movie\", \"row\": \"instrumentalness\", \"col\": \"danceability\", \"Correlation\": -0.3848585633365804, \"order\": 1}, {\"genre\": \"Movie\", \"row\": \"liveness\", \"col\": \"danceability\", \"Correlation\": -0.0005208277184571627, \"order\": 1}, {\"genre\": \"Movie\", \"row\": \"loudness\", \"col\": \"danceability\", \"Correlation\": 0.32568919140450275, \"order\": 1}, {\"genre\": \"Movie\", \"row\": \"speechiness\", \"col\": \"danceability\", \"Correlation\": 0.2539345793714588, \"order\": 1}, {\"genre\": \"Movie\", \"row\": \"tempo\", \"col\": \"danceability\", \"Correlation\": 0.14223463404715525, \"order\": 1}, {\"genre\": \"Movie\", \"row\": \"valence\", \"col\": \"danceability\", \"Correlation\": 0.7167551826183903, \"order\": 1}, {\"genre\": \"Opera\", \"row\": \"popularity\", \"col\": \"danceability\", \"Correlation\": -0.07759280912266774, \"order\": 0}, {\"genre\": \"Opera\", \"row\": \"acousticness\", \"col\": \"danceability\", \"Correlation\": -0.03503680262498623, \"order\": 1}, {\"genre\": \"Opera\", \"row\": \"danceability\", \"col\": \"danceability\", \"Correlation\": 1.0, \"order\": 1}, {\"genre\": \"Opera\", \"row\": \"duration_ms\", \"col\": \"danceability\", \"Correlation\": -0.2814121477734844, \"order\": 1}, {\"genre\": \"Opera\", \"row\": \"energy\", \"col\": \"danceability\", \"Correlation\": 0.20481740723662928, \"order\": 1}, {\"genre\": \"Opera\", \"row\": \"instrumentalness\", \"col\": \"danceability\", \"Correlation\": -0.20991725651126414, \"order\": 1}, {\"genre\": \"Opera\", \"row\": \"liveness\", \"col\": \"danceability\", \"Correlation\": 0.1278509664375507, \"order\": 1}, {\"genre\": \"Opera\", \"row\": \"loudness\", \"col\": \"danceability\", \"Correlation\": 0.1317394605973322, \"order\": 1}, {\"genre\": \"Opera\", \"row\": \"speechiness\", \"col\": \"danceability\", \"Correlation\": 0.29019259368395267, \"order\": 1}, {\"genre\": \"Opera\", \"row\": \"tempo\", \"col\": \"danceability\", \"Correlation\": 0.16467688359853044, \"order\": 1}, {\"genre\": \"Opera\", \"row\": \"valence\", \"col\": \"danceability\", \"Correlation\": 0.6408263632756348, \"order\": 1}, {\"genre\": \"Pop\", \"row\": \"popularity\", \"col\": \"danceability\", \"Correlation\": 0.14530420008296355, \"order\": 0}, {\"genre\": \"Pop\", \"row\": \"acousticness\", \"col\": \"danceability\", \"Correlation\": -0.234071813359285, \"order\": 1}, {\"genre\": \"Pop\", \"row\": \"danceability\", \"col\": \"danceability\", \"Correlation\": 1.0, \"order\": 1}, {\"genre\": \"Pop\", \"row\": \"duration_ms\", \"col\": \"danceability\", \"Correlation\": -0.15685956302896717, \"order\": 1}, {\"genre\": \"Pop\", \"row\": \"energy\", \"col\": \"danceability\", \"Correlation\": 0.070048445939889, \"order\": 1}, {\"genre\": \"Pop\", \"row\": \"instrumentalness\", \"col\": \"danceability\", \"Correlation\": -0.14955136962104168, \"order\": 1}, {\"genre\": \"Pop\", \"row\": \"liveness\", \"col\": \"danceability\", \"Correlation\": -0.05122161146651961, \"order\": 1}, {\"genre\": \"Pop\", \"row\": \"loudness\", \"col\": \"danceability\", \"Correlation\": 0.1508720676873953, \"order\": 1}, {\"genre\": \"Pop\", \"row\": \"speechiness\", \"col\": \"danceability\", \"Correlation\": 0.23734714021979736, \"order\": 1}, {\"genre\": \"Pop\", \"row\": \"tempo\", \"col\": \"danceability\", \"Correlation\": -0.09442532490887787, \"order\": 1}, {\"genre\": \"Pop\", \"row\": \"valence\", \"col\": \"danceability\", \"Correlation\": 0.2695328767520074, \"order\": 1}, {\"genre\": \"R&B\", \"row\": \"popularity\", \"col\": \"danceability\", \"Correlation\": 0.03979420174434275, \"order\": 0}, {\"genre\": \"R&B\", \"row\": \"acousticness\", \"col\": \"danceability\", \"Correlation\": -0.269236366459359, \"order\": 1}, {\"genre\": \"R&B\", \"row\": \"danceability\", \"col\": \"danceability\", \"Correlation\": 1.0, \"order\": 1}, {\"genre\": \"R&B\", \"row\": \"duration_ms\", \"col\": \"danceability\", \"Correlation\": -0.14459516819943272, \"order\": 1}, {\"genre\": \"R&B\", \"row\": \"energy\", \"col\": \"danceability\", \"Correlation\": 0.10659397770273463, \"order\": 1}, {\"genre\": \"R&B\", \"row\": \"instrumentalness\", \"col\": \"danceability\", \"Correlation\": 0.0008852709285526651, \"order\": 1}, {\"genre\": \"R&B\", \"row\": \"liveness\", \"col\": \"danceability\", \"Correlation\": -0.11346828268917501, \"order\": 1}, {\"genre\": \"R&B\", \"row\": \"loudness\", \"col\": \"danceability\", \"Correlation\": 0.10326142754382468, \"order\": 1}, {\"genre\": \"R&B\", \"row\": \"speechiness\", \"col\": \"danceability\", \"Correlation\": 0.09755503709321692, \"order\": 1}, {\"genre\": \"R&B\", \"row\": \"tempo\", \"col\": \"danceability\", \"Correlation\": -0.05813856311499577, \"order\": 1}, {\"genre\": \"R&B\", \"row\": \"valence\", \"col\": \"danceability\", \"Correlation\": 0.364728991775498, \"order\": 1}, {\"genre\": \"Rap\", \"row\": \"popularity\", \"col\": \"danceability\", \"Correlation\": 0.07955429366977551, \"order\": 0}, {\"genre\": \"Rap\", \"row\": \"acousticness\", \"col\": \"danceability\", \"Correlation\": -0.11806286294733369, \"order\": 1}, {\"genre\": \"Rap\", \"row\": \"danceability\", \"col\": \"danceability\", \"Correlation\": 1.0, \"order\": 1}, {\"genre\": \"Rap\", \"row\": \"duration_ms\", \"col\": \"danceability\", \"Correlation\": -0.12638738760777923, \"order\": 1}, {\"genre\": \"Rap\", \"row\": \"energy\", \"col\": \"danceability\", \"Correlation\": -0.1832870140470427, \"order\": 1}, {\"genre\": \"Rap\", \"row\": \"instrumentalness\", \"col\": \"danceability\", \"Correlation\": -0.04175673711482266, \"order\": 1}, {\"genre\": \"Rap\", \"row\": \"liveness\", \"col\": \"danceability\", \"Correlation\": -0.17309257451818838, \"order\": 1}, {\"genre\": \"Rap\", \"row\": \"loudness\", \"col\": \"danceability\", \"Correlation\": -0.043717786911220004, \"order\": 1}, {\"genre\": \"Rap\", \"row\": \"speechiness\", \"col\": \"danceability\", \"Correlation\": -0.00950144847621037, \"order\": 1}, {\"genre\": \"Rap\", \"row\": \"tempo\", \"col\": \"danceability\", \"Correlation\": -0.025933045240624324, \"order\": 1}, {\"genre\": \"Rap\", \"row\": \"valence\", \"col\": \"danceability\", \"Correlation\": 0.1689624520455069, \"order\": 1}, {\"genre\": \"Reggae\", \"row\": \"popularity\", \"col\": \"danceability\", \"Correlation\": 0.06494086250573644, \"order\": 0}, {\"genre\": \"Reggae\", \"row\": \"acousticness\", \"col\": \"danceability\", \"Correlation\": -0.04252817848430318, \"order\": 1}, {\"genre\": \"Reggae\", \"row\": \"danceability\", \"col\": \"danceability\", \"Correlation\": 1.0, \"order\": 1}, {\"genre\": \"Reggae\", \"row\": \"duration_ms\", \"col\": \"danceability\", \"Correlation\": -0.05255957356260426, \"order\": 1}, {\"genre\": \"Reggae\", \"row\": \"energy\", \"col\": \"danceability\", \"Correlation\": -0.23873639234940086, \"order\": 1}, {\"genre\": \"Reggae\", \"row\": \"instrumentalness\", \"col\": \"danceability\", \"Correlation\": 0.021891902491140227, \"order\": 1}, {\"genre\": \"Reggae\", \"row\": \"liveness\", \"col\": \"danceability\", \"Correlation\": -0.2254774460760145, \"order\": 1}, {\"genre\": \"Reggae\", \"row\": \"loudness\", \"col\": \"danceability\", \"Correlation\": -0.1512060547615482, \"order\": 1}, {\"genre\": \"Reggae\", \"row\": \"speechiness\", \"col\": \"danceability\", \"Correlation\": 0.018409501022657083, \"order\": 1}, {\"genre\": \"Reggae\", \"row\": \"tempo\", \"col\": \"danceability\", \"Correlation\": -0.1245169424582874, \"order\": 1}, {\"genre\": \"Reggae\", \"row\": \"valence\", \"col\": \"danceability\", \"Correlation\": 0.3686259197108043, \"order\": 1}, {\"genre\": \"Reggaeton\", \"row\": \"popularity\", \"col\": \"danceability\", \"Correlation\": 0.08782854029955296, \"order\": 0}, {\"genre\": \"Reggaeton\", \"row\": \"acousticness\", \"col\": \"danceability\", \"Correlation\": -0.13162506985554442, \"order\": 1}, {\"genre\": \"Reggaeton\", \"row\": \"danceability\", \"col\": \"danceability\", \"Correlation\": 1.0, \"order\": 1}, {\"genre\": \"Reggaeton\", \"row\": \"duration_ms\", \"col\": \"danceability\", \"Correlation\": -0.11014877551009028, \"order\": 1}, {\"genre\": \"Reggaeton\", \"row\": \"energy\", \"col\": \"danceability\", \"Correlation\": -0.02594520174555222, \"order\": 1}, {\"genre\": \"Reggaeton\", \"row\": \"instrumentalness\", \"col\": \"danceability\", \"Correlation\": 0.03849468328046548, \"order\": 1}, {\"genre\": \"Reggaeton\", \"row\": \"liveness\", \"col\": \"danceability\", \"Correlation\": -0.13155697202995764, \"order\": 1}, {\"genre\": \"Reggaeton\", \"row\": \"loudness\", \"col\": \"danceability\", \"Correlation\": 0.004450476803574558, \"order\": 1}, {\"genre\": \"Reggaeton\", \"row\": \"speechiness\", \"col\": \"danceability\", \"Correlation\": 0.005888236345170362, \"order\": 1}, {\"genre\": \"Reggaeton\", \"row\": \"tempo\", \"col\": \"danceability\", \"Correlation\": -0.26133382515162284, \"order\": 1}, {\"genre\": \"Reggaeton\", \"row\": \"valence\", \"col\": \"danceability\", \"Correlation\": 0.13858549570824646, \"order\": 1}, {\"genre\": \"Rock\", \"row\": \"popularity\", \"col\": \"danceability\", \"Correlation\": 0.0851660628402641, \"order\": 0}, {\"genre\": \"Rock\", \"row\": \"acousticness\", \"col\": \"danceability\", \"Correlation\": -0.027495618649759038, \"order\": 1}, {\"genre\": \"Rock\", \"row\": \"danceability\", \"col\": \"danceability\", \"Correlation\": 1.0, \"order\": 1}, {\"genre\": \"Rock\", \"row\": \"duration_ms\", \"col\": \"danceability\", \"Correlation\": -0.22266895150075944, \"order\": 1}, {\"genre\": \"Rock\", \"row\": \"energy\", \"col\": \"danceability\", \"Correlation\": -0.009643560023173632, \"order\": 1}, {\"genre\": \"Rock\", \"row\": \"instrumentalness\", \"col\": \"danceability\", \"Correlation\": -0.20256559755788822, \"order\": 1}, {\"genre\": \"Rock\", \"row\": \"liveness\", \"col\": \"danceability\", \"Correlation\": -0.12762887386645966, \"order\": 1}, {\"genre\": \"Rock\", \"row\": \"loudness\", \"col\": \"danceability\", \"Correlation\": 0.01995563561152638, \"order\": 1}, {\"genre\": \"Rock\", \"row\": \"speechiness\", \"col\": \"danceability\", \"Correlation\": -0.11613605601656544, \"order\": 1}, {\"genre\": \"Rock\", \"row\": \"tempo\", \"col\": \"danceability\", \"Correlation\": -0.1631764302899944, \"order\": 1}, {\"genre\": \"Rock\", \"row\": \"valence\", \"col\": \"danceability\", \"Correlation\": 0.48217384142990394, \"order\": 1}, {\"genre\": \"Ska\", \"row\": \"popularity\", \"col\": \"danceability\", \"Correlation\": 0.03259877532417993, \"order\": 0}, {\"genre\": \"Ska\", \"row\": \"acousticness\", \"col\": \"danceability\", \"Correlation\": 0.343512850653773, \"order\": 1}, {\"genre\": \"Ska\", \"row\": \"danceability\", \"col\": \"danceability\", \"Correlation\": 1.0, \"order\": 1}, {\"genre\": \"Ska\", \"row\": \"duration_ms\", \"col\": \"danceability\", \"Correlation\": 0.18624961194878628, \"order\": 1}, {\"genre\": \"Ska\", \"row\": \"energy\", \"col\": \"danceability\", \"Correlation\": -0.4955809525656167, \"order\": 1}, {\"genre\": \"Ska\", \"row\": \"instrumentalness\", \"col\": \"danceability\", \"Correlation\": 0.09048021625946587, \"order\": 1}, {\"genre\": \"Ska\", \"row\": \"liveness\", \"col\": \"danceability\", \"Correlation\": -0.15816671904406093, \"order\": 1}, {\"genre\": \"Ska\", \"row\": \"loudness\", \"col\": \"danceability\", \"Correlation\": -0.23913608750350898, \"order\": 1}, {\"genre\": \"Ska\", \"row\": \"speechiness\", \"col\": \"danceability\", \"Correlation\": -0.20627119876994754, \"order\": 1}, {\"genre\": \"Ska\", \"row\": \"tempo\", \"col\": \"danceability\", \"Correlation\": -0.3066977059478587, \"order\": 1}, {\"genre\": \"Ska\", \"row\": \"valence\", \"col\": \"danceability\", \"Correlation\": 0.5223922649448117, \"order\": 1}, {\"genre\": \"Soul\", \"row\": \"popularity\", \"col\": \"danceability\", \"Correlation\": 0.0026610450967740223, \"order\": 0}, {\"genre\": \"Soul\", \"row\": \"acousticness\", \"col\": \"danceability\", \"Correlation\": -0.243124532613451, \"order\": 1}, {\"genre\": \"Soul\", \"row\": \"danceability\", \"col\": \"danceability\", \"Correlation\": 1.0, \"order\": 1}, {\"genre\": \"Soul\", \"row\": \"duration_ms\", \"col\": \"danceability\", \"Correlation\": -0.04267741415771328, \"order\": 1}, {\"genre\": \"Soul\", \"row\": \"energy\", \"col\": \"danceability\", \"Correlation\": 0.16243096513990143, \"order\": 1}, {\"genre\": \"Soul\", \"row\": \"instrumentalness\", \"col\": \"danceability\", \"Correlation\": 0.006407784478475024, \"order\": 1}, {\"genre\": \"Soul\", \"row\": \"liveness\", \"col\": \"danceability\", \"Correlation\": -0.12253377343001792, \"order\": 1}, {\"genre\": \"Soul\", \"row\": \"loudness\", \"col\": \"danceability\", \"Correlation\": 0.10444123058050771, \"order\": 1}, {\"genre\": \"Soul\", \"row\": \"speechiness\", \"col\": \"danceability\", \"Correlation\": 0.09680236278740903, \"order\": 1}, {\"genre\": \"Soul\", \"row\": \"tempo\", \"col\": \"danceability\", \"Correlation\": -0.14636831797875088, \"order\": 1}, {\"genre\": \"Soul\", \"row\": \"valence\", \"col\": \"danceability\", \"Correlation\": 0.3493080511340122, \"order\": 1}, {\"genre\": \"Soundtrack\", \"row\": \"popularity\", \"col\": \"danceability\", \"Correlation\": -0.030587919112126303, \"order\": 0}, {\"genre\": \"Soundtrack\", \"row\": \"acousticness\", \"col\": \"danceability\", \"Correlation\": -0.11904649733453239, \"order\": 1}, {\"genre\": \"Soundtrack\", \"row\": \"danceability\", \"col\": \"danceability\", \"Correlation\": 1.0, \"order\": 1}, {\"genre\": \"Soundtrack\", \"row\": \"duration_ms\", \"col\": \"danceability\", \"Correlation\": -0.1627419530248973, \"order\": 1}, {\"genre\": \"Soundtrack\", \"row\": \"energy\", \"col\": \"danceability\", \"Correlation\": 0.3352950578215547, \"order\": 1}, {\"genre\": \"Soundtrack\", \"row\": \"instrumentalness\", \"col\": \"danceability\", \"Correlation\": -0.15411026909432565, \"order\": 1}, {\"genre\": \"Soundtrack\", \"row\": \"liveness\", \"col\": \"danceability\", \"Correlation\": 0.05437132850265156, \"order\": 1}, {\"genre\": \"Soundtrack\", \"row\": \"loudness\", \"col\": \"danceability\", \"Correlation\": 0.25699089837610867, \"order\": 1}, {\"genre\": \"Soundtrack\", \"row\": \"speechiness\", \"col\": \"danceability\", \"Correlation\": 0.10636742282876127, \"order\": 1}, {\"genre\": \"Soundtrack\", \"row\": \"tempo\", \"col\": \"danceability\", \"Correlation\": 0.2437171233887738, \"order\": 1}, {\"genre\": \"Soundtrack\", \"row\": \"valence\", \"col\": \"danceability\", \"Correlation\": 0.5676128438150104, \"order\": 1}, {\"genre\": \"World\", \"row\": \"popularity\", \"col\": \"danceability\", \"Correlation\": -0.04894216535656981, \"order\": 0}, {\"genre\": \"World\", \"row\": \"acousticness\", \"col\": \"danceability\", \"Correlation\": -0.23273466840874013, \"order\": 1}, {\"genre\": \"World\", \"row\": \"danceability\", \"col\": \"danceability\", \"Correlation\": 1.0, \"order\": 1}, {\"genre\": \"World\", \"row\": \"duration_ms\", \"col\": \"danceability\", \"Correlation\": -0.14206767475945753, \"order\": 1}, {\"genre\": \"World\", \"row\": \"energy\", \"col\": \"danceability\", \"Correlation\": 0.41061443106812473, \"order\": 1}, {\"genre\": \"World\", \"row\": \"instrumentalness\", \"col\": \"danceability\", \"Correlation\": -0.16180531251144026, \"order\": 1}, {\"genre\": \"World\", \"row\": \"liveness\", \"col\": \"danceability\", \"Correlation\": -0.015280769364674358, \"order\": 1}, {\"genre\": \"World\", \"row\": \"loudness\", \"col\": \"danceability\", \"Correlation\": 0.3695501832347003, \"order\": 1}, {\"genre\": \"World\", \"row\": \"speechiness\", \"col\": \"danceability\", \"Correlation\": 0.15555938925785506, \"order\": 1}, {\"genre\": \"World\", \"row\": \"tempo\", \"col\": \"danceability\", \"Correlation\": 0.03762052115913719, \"order\": 1}, {\"genre\": \"World\", \"row\": \"valence\", \"col\": \"danceability\", \"Correlation\": 0.6240358389183365, \"order\": 1}, {\"genre\": \"A Capella\", \"row\": \"popularity\", \"col\": \"duration_ms\", \"Correlation\": -0.2838784254786648, \"order\": 0}, {\"genre\": \"A Capella\", \"row\": \"acousticness\", \"col\": \"duration_ms\", \"Correlation\": -0.0075471350004750245, \"order\": 1}, {\"genre\": \"A Capella\", \"row\": \"danceability\", \"col\": \"duration_ms\", \"Correlation\": -0.27624641006329254, \"order\": 1}, {\"genre\": \"A Capella\", \"row\": \"duration_ms\", \"col\": \"duration_ms\", \"Correlation\": 1.0, \"order\": 1}, {\"genre\": \"A Capella\", \"row\": \"energy\", \"col\": \"duration_ms\", \"Correlation\": -0.06861137023640636, \"order\": 1}, {\"genre\": \"A Capella\", \"row\": \"instrumentalness\", \"col\": \"duration_ms\", \"Correlation\": -0.036806583401419686, \"order\": 1}, {\"genre\": \"A Capella\", \"row\": \"liveness\", \"col\": \"duration_ms\", \"Correlation\": -0.12010595536142384, \"order\": 1}, {\"genre\": \"A Capella\", \"row\": \"loudness\", \"col\": \"duration_ms\", \"Correlation\": 0.07992011063662297, \"order\": 1}, {\"genre\": \"A Capella\", \"row\": \"speechiness\", \"col\": \"duration_ms\", \"Correlation\": -0.33861468027849434, \"order\": 1}, {\"genre\": \"A Capella\", \"row\": \"tempo\", \"col\": \"duration_ms\", \"Correlation\": 0.0930936452609697, \"order\": 1}, {\"genre\": \"A Capella\", \"row\": \"valence\", \"col\": \"duration_ms\", \"Correlation\": -0.3385028728163913, \"order\": 1}, {\"genre\": \"Alternative\", \"row\": \"popularity\", \"col\": \"duration_ms\", \"Correlation\": 0.013193559340535564, \"order\": 0}, {\"genre\": \"Alternative\", \"row\": \"acousticness\", \"col\": \"duration_ms\", \"Correlation\": -0.05749216386552248, \"order\": 1}, {\"genre\": \"Alternative\", \"row\": \"danceability\", \"col\": \"duration_ms\", \"Correlation\": -0.21021838988600672, \"order\": 1}, {\"genre\": \"Alternative\", \"row\": \"duration_ms\", \"col\": \"duration_ms\", \"Correlation\": 1.0, \"order\": 1}, {\"genre\": \"Alternative\", \"row\": \"energy\", \"col\": \"duration_ms\", \"Correlation\": -0.06810635362244023, \"order\": 1}, {\"genre\": \"Alternative\", \"row\": \"instrumentalness\", \"col\": \"duration_ms\", \"Correlation\": 0.03455046510354111, \"order\": 1}, {\"genre\": \"Alternative\", \"row\": \"liveness\", \"col\": \"duration_ms\", \"Correlation\": -0.031117173261720695, \"order\": 1}, {\"genre\": \"Alternative\", \"row\": \"loudness\", \"col\": \"duration_ms\", \"Correlation\": -0.07232069133922207, \"order\": 1}, {\"genre\": \"Alternative\", \"row\": \"speechiness\", \"col\": \"duration_ms\", \"Correlation\": -0.16203410986766648, \"order\": 1}, {\"genre\": \"Alternative\", \"row\": \"tempo\", \"col\": \"duration_ms\", \"Correlation\": 0.02259554973887908, \"order\": 1}, {\"genre\": \"Alternative\", \"row\": \"valence\", \"col\": \"duration_ms\", \"Correlation\": -0.2740842281067689, \"order\": 1}, {\"genre\": \"Blues\", \"row\": \"popularity\", \"col\": \"duration_ms\", \"Correlation\": 0.02288916974557308, \"order\": 0}, {\"genre\": \"Blues\", \"row\": \"acousticness\", \"col\": \"duration_ms\", \"Correlation\": -0.06279203088685101, \"order\": 1}, {\"genre\": \"Blues\", \"row\": \"danceability\", \"col\": \"duration_ms\", \"Correlation\": -0.2113364007640095, \"order\": 1}, {\"genre\": \"Blues\", \"row\": \"duration_ms\", \"col\": \"duration_ms\", \"Correlation\": 1.0, \"order\": 1}, {\"genre\": \"Blues\", \"row\": \"energy\", \"col\": \"duration_ms\", \"Correlation\": -0.02641141340760125, \"order\": 1}, {\"genre\": \"Blues\", \"row\": \"instrumentalness\", \"col\": \"duration_ms\", \"Correlation\": 0.05492361377860943, \"order\": 1}, {\"genre\": \"Blues\", \"row\": \"liveness\", \"col\": \"duration_ms\", \"Correlation\": -0.018624032771367895, \"order\": 1}, {\"genre\": \"Blues\", \"row\": \"loudness\", \"col\": \"duration_ms\", \"Correlation\": -0.06280207508660125, \"order\": 1}, {\"genre\": \"Blues\", \"row\": \"speechiness\", \"col\": \"duration_ms\", \"Correlation\": -0.12865796388834375, \"order\": 1}, {\"genre\": \"Blues\", \"row\": \"tempo\", \"col\": \"duration_ms\", \"Correlation\": 0.019857863288326852, \"order\": 1}, {\"genre\": \"Blues\", \"row\": \"valence\", \"col\": \"duration_ms\", \"Correlation\": -0.2448581566638061, \"order\": 1}, {\"genre\": \"Classical\", \"row\": \"popularity\", \"col\": \"duration_ms\", \"Correlation\": 0.0046358881316571395, \"order\": 0}, {\"genre\": \"Classical\", \"row\": \"acousticness\", \"col\": \"duration_ms\", \"Correlation\": -0.005126902632576094, \"order\": 1}, {\"genre\": \"Classical\", \"row\": \"danceability\", \"col\": \"duration_ms\", \"Correlation\": -0.21511868039238552, \"order\": 1}, {\"genre\": \"Classical\", \"row\": \"duration_ms\", \"col\": \"duration_ms\", \"Correlation\": 1.0, \"order\": 1}, {\"genre\": \"Classical\", \"row\": \"energy\", \"col\": \"duration_ms\", \"Correlation\": -0.008396298689460303, \"order\": 1}, {\"genre\": \"Classical\", \"row\": \"instrumentalness\", \"col\": \"duration_ms\", \"Correlation\": 0.0435932022559263, \"order\": 1}, {\"genre\": \"Classical\", \"row\": \"liveness\", \"col\": \"duration_ms\", \"Correlation\": 0.003903865672501766, \"order\": 1}, {\"genre\": \"Classical\", \"row\": \"loudness\", \"col\": \"duration_ms\", \"Correlation\": 0.07079230266495704, \"order\": 1}, {\"genre\": \"Classical\", \"row\": \"speechiness\", \"col\": \"duration_ms\", \"Correlation\": -0.08084502399623578, \"order\": 1}, {\"genre\": \"Classical\", \"row\": \"tempo\", \"col\": \"duration_ms\", \"Correlation\": -0.03126152982907449, \"order\": 1}, {\"genre\": \"Classical\", \"row\": \"valence\", \"col\": \"duration_ms\", \"Correlation\": -0.24971493293778538, \"order\": 1}, {\"genre\": \"Comedy\", \"row\": \"popularity\", \"col\": \"duration_ms\", \"Correlation\": 0.0681811178862556, \"order\": 0}, {\"genre\": \"Comedy\", \"row\": \"acousticness\", \"col\": \"duration_ms\", \"Correlation\": 0.027664560802176306, \"order\": 1}, {\"genre\": \"Comedy\", \"row\": \"danceability\", \"col\": \"duration_ms\", \"Correlation\": -0.06255400485758589, \"order\": 1}, {\"genre\": \"Comedy\", \"row\": \"duration_ms\", \"col\": \"duration_ms\", \"Correlation\": 1.0, \"order\": 1}, {\"genre\": \"Comedy\", \"row\": \"energy\", \"col\": \"duration_ms\", \"Correlation\": 0.008499003229006118, \"order\": 1}, {\"genre\": \"Comedy\", \"row\": \"instrumentalness\", \"col\": \"duration_ms\", \"Correlation\": -0.020172934632873767, \"order\": 1}, {\"genre\": \"Comedy\", \"row\": \"liveness\", \"col\": \"duration_ms\", \"Correlation\": -0.02742327945349975, \"order\": 1}, {\"genre\": \"Comedy\", \"row\": \"loudness\", \"col\": \"duration_ms\", \"Correlation\": 0.038800941226235244, \"order\": 1}, {\"genre\": \"Comedy\", \"row\": \"speechiness\", \"col\": \"duration_ms\", \"Correlation\": 0.046070057510816026, \"order\": 1}, {\"genre\": \"Comedy\", \"row\": \"tempo\", \"col\": \"duration_ms\", \"Correlation\": -0.03651859378101631, \"order\": 1}, {\"genre\": \"Comedy\", \"row\": \"valence\", \"col\": \"duration_ms\", \"Correlation\": -0.06392504914042836, \"order\": 1}, {\"genre\": \"Country\", \"row\": \"popularity\", \"col\": \"duration_ms\", \"Correlation\": -0.011501056098724073, \"order\": 0}, {\"genre\": \"Country\", \"row\": \"acousticness\", \"col\": \"duration_ms\", \"Correlation\": -0.059250335837686255, \"order\": 1}, {\"genre\": \"Country\", \"row\": \"danceability\", \"col\": \"duration_ms\", \"Correlation\": -0.1851435725359527, \"order\": 1}, {\"genre\": \"Country\", \"row\": \"duration_ms\", \"col\": \"duration_ms\", \"Correlation\": 1.0, \"order\": 1}, {\"genre\": \"Country\", \"row\": \"energy\", \"col\": \"duration_ms\", \"Correlation\": -0.05682577241181788, \"order\": 1}, {\"genre\": \"Country\", \"row\": \"instrumentalness\", \"col\": \"duration_ms\", \"Correlation\": 0.031890937441573494, \"order\": 1}, {\"genre\": \"Country\", \"row\": \"liveness\", \"col\": \"duration_ms\", \"Correlation\": 0.04804781036400437, \"order\": 1}, {\"genre\": \"Country\", \"row\": \"loudness\", \"col\": \"duration_ms\", \"Correlation\": 0.019637806578063802, \"order\": 1}, {\"genre\": \"Country\", \"row\": \"speechiness\", \"col\": \"duration_ms\", \"Correlation\": -0.037429580141033945, \"order\": 1}, {\"genre\": \"Country\", \"row\": \"tempo\", \"col\": \"duration_ms\", \"Correlation\": -0.0032615244344364764, \"order\": 1}, {\"genre\": \"Country\", \"row\": \"valence\", \"col\": \"duration_ms\", \"Correlation\": -0.3138959914125543, \"order\": 1}, {\"genre\": \"Dance\", \"row\": \"popularity\", \"col\": \"duration_ms\", \"Correlation\": -0.06402835441753002, \"order\": 0}, {\"genre\": \"Dance\", \"row\": \"acousticness\", \"col\": \"duration_ms\", \"Correlation\": 0.012616956033172104, \"order\": 1}, {\"genre\": \"Dance\", \"row\": \"danceability\", \"col\": \"duration_ms\", \"Correlation\": -0.09365136365712967, \"order\": 1}, {\"genre\": \"Dance\", \"row\": \"duration_ms\", \"col\": \"duration_ms\", \"Correlation\": 1.0, \"order\": 1}, {\"genre\": \"Dance\", \"row\": \"energy\", \"col\": \"duration_ms\", \"Correlation\": -0.057226696133131624, \"order\": 1}, {\"genre\": \"Dance\", \"row\": \"instrumentalness\", \"col\": \"duration_ms\", \"Correlation\": 0.18334132092393363, \"order\": 1}, {\"genre\": \"Dance\", \"row\": \"liveness\", \"col\": \"duration_ms\", \"Correlation\": 0.037079311227100356, \"order\": 1}, {\"genre\": \"Dance\", \"row\": \"loudness\", \"col\": \"duration_ms\", \"Correlation\": -0.21778958522150105, \"order\": 1}, {\"genre\": \"Dance\", \"row\": \"speechiness\", \"col\": \"duration_ms\", \"Correlation\": -0.06752607414221398, \"order\": 1}, {\"genre\": \"Dance\", \"row\": \"tempo\", \"col\": \"duration_ms\", \"Correlation\": -0.012012769599845593, \"order\": 1}, {\"genre\": \"Dance\", \"row\": \"valence\", \"col\": \"duration_ms\", \"Correlation\": -0.08243291525026551, \"order\": 1}, {\"genre\": \"Electronic\", \"row\": \"popularity\", \"col\": \"duration_ms\", \"Correlation\": 0.015246014993283721, \"order\": 0}, {\"genre\": \"Electronic\", \"row\": \"acousticness\", \"col\": \"duration_ms\", \"Correlation\": 0.037362601255033094, \"order\": 1}, {\"genre\": \"Electronic\", \"row\": \"danceability\", \"col\": \"duration_ms\", \"Correlation\": 0.01650258500307583, \"order\": 1}, {\"genre\": \"Electronic\", \"row\": \"duration_ms\", \"col\": \"duration_ms\", \"Correlation\": 1.0, \"order\": 1}, {\"genre\": \"Electronic\", \"row\": \"energy\", \"col\": \"duration_ms\", \"Correlation\": -0.1363460205889159, \"order\": 1}, {\"genre\": \"Electronic\", \"row\": \"instrumentalness\", \"col\": \"duration_ms\", \"Correlation\": 0.2159812436782326, \"order\": 1}, {\"genre\": \"Electronic\", \"row\": \"liveness\", \"col\": \"duration_ms\", \"Correlation\": -0.0674555282816021, \"order\": 1}, {\"genre\": \"Electronic\", \"row\": \"loudness\", \"col\": \"duration_ms\", \"Correlation\": -0.24231325943026957, \"order\": 1}, {\"genre\": \"Electronic\", \"row\": \"speechiness\", \"col\": \"duration_ms\", \"Correlation\": -0.1313117307895342, \"order\": 1}, {\"genre\": \"Electronic\", \"row\": \"tempo\", \"col\": \"duration_ms\", \"Correlation\": -0.043307308549265074, \"order\": 1}, {\"genre\": \"Electronic\", \"row\": \"valence\", \"col\": \"duration_ms\", \"Correlation\": -0.05522988542062349, \"order\": 1}, {\"genre\": \"Folk\", \"row\": \"popularity\", \"col\": \"duration_ms\", \"Correlation\": 0.002991223676837859, \"order\": 0}, {\"genre\": \"Folk\", \"row\": \"acousticness\", \"col\": \"duration_ms\", \"Correlation\": -0.0880560908057719, \"order\": 1}, {\"genre\": \"Folk\", \"row\": \"danceability\", \"col\": \"duration_ms\", \"Correlation\": -0.14079034017332068, \"order\": 1}, {\"genre\": \"Folk\", \"row\": \"duration_ms\", \"col\": \"duration_ms\", \"Correlation\": 1.0, \"order\": 1}, {\"genre\": \"Folk\", \"row\": \"energy\", \"col\": \"duration_ms\", \"Correlation\": 0.0429373785025711, \"order\": 1}, {\"genre\": \"Folk\", \"row\": \"instrumentalness\", \"col\": \"duration_ms\", \"Correlation\": 0.1444947403968233, \"order\": 1}, {\"genre\": \"Folk\", \"row\": \"liveness\", \"col\": \"duration_ms\", \"Correlation\": 0.04877929738921589, \"order\": 1}, {\"genre\": \"Folk\", \"row\": \"loudness\", \"col\": \"duration_ms\", \"Correlation\": 0.015291263895621523, \"order\": 1}, {\"genre\": \"Folk\", \"row\": \"speechiness\", \"col\": \"duration_ms\", \"Correlation\": -0.07065818567286374, \"order\": 1}, {\"genre\": \"Folk\", \"row\": \"tempo\", \"col\": \"duration_ms\", \"Correlation\": 0.00012441692948422198, \"order\": 1}, {\"genre\": \"Folk\", \"row\": \"valence\", \"col\": \"duration_ms\", \"Correlation\": -0.18780515395108383, \"order\": 1}, {\"genre\": \"Hip-Hop\", \"row\": \"popularity\", \"col\": \"duration_ms\", \"Correlation\": 0.02801284598430065, \"order\": 0}, {\"genre\": \"Hip-Hop\", \"row\": \"acousticness\", \"col\": \"duration_ms\", \"Correlation\": 0.0845040171720334, \"order\": 1}, {\"genre\": \"Hip-Hop\", \"row\": \"danceability\", \"col\": \"duration_ms\", \"Correlation\": -0.14458820430257555, \"order\": 1}, {\"genre\": \"Hip-Hop\", \"row\": \"duration_ms\", \"col\": \"duration_ms\", \"Correlation\": 1.0, \"order\": 1}, {\"genre\": \"Hip-Hop\", \"row\": \"energy\", \"col\": \"duration_ms\", \"Correlation\": 0.1270485333307241, \"order\": 1}, {\"genre\": \"Hip-Hop\", \"row\": \"instrumentalness\", \"col\": \"duration_ms\", \"Correlation\": -0.05767986938476606, \"order\": 1}, {\"genre\": \"Hip-Hop\", \"row\": \"liveness\", \"col\": \"duration_ms\", \"Correlation\": 0.08557902130929254, \"order\": 1}, {\"genre\": \"Hip-Hop\", \"row\": \"loudness\", \"col\": \"duration_ms\", \"Correlation\": 0.08439211922215045, \"order\": 1}, {\"genre\": \"Hip-Hop\", \"row\": \"speechiness\", \"col\": \"duration_ms\", \"Correlation\": 0.012871858624939034, \"order\": 1}, {\"genre\": \"Hip-Hop\", \"row\": \"tempo\", \"col\": \"duration_ms\", \"Correlation\": -0.0913224523952125, \"order\": 1}, {\"genre\": \"Hip-Hop\", \"row\": \"valence\", \"col\": \"duration_ms\", \"Correlation\": 0.045061779622964766, \"order\": 1}, {\"genre\": \"Indie\", \"row\": \"popularity\", \"col\": \"duration_ms\", \"Correlation\": -0.0003824708098918881, \"order\": 0}, {\"genre\": \"Indie\", \"row\": \"acousticness\", \"col\": \"duration_ms\", \"Correlation\": -0.011431273347542986, \"order\": 1}, {\"genre\": \"Indie\", \"row\": \"danceability\", \"col\": \"duration_ms\", \"Correlation\": -0.19737990703467959, \"order\": 1}, {\"genre\": \"Indie\", \"row\": \"duration_ms\", \"col\": \"duration_ms\", \"Correlation\": 1.0, \"order\": 1}, {\"genre\": \"Indie\", \"row\": \"energy\", \"col\": \"duration_ms\", \"Correlation\": -0.014407622338952758, \"order\": 1}, {\"genre\": \"Indie\", \"row\": \"instrumentalness\", \"col\": \"duration_ms\", \"Correlation\": 0.056402581616794074, \"order\": 1}, {\"genre\": \"Indie\", \"row\": \"liveness\", \"col\": \"duration_ms\", \"Correlation\": -0.04814728988894929, \"order\": 1}, {\"genre\": \"Indie\", \"row\": \"loudness\", \"col\": \"duration_ms\", \"Correlation\": -0.01627387088923075, \"order\": 1}, {\"genre\": \"Indie\", \"row\": \"speechiness\", \"col\": \"duration_ms\", \"Correlation\": -0.09573234152860381, \"order\": 1}, {\"genre\": \"Indie\", \"row\": \"tempo\", \"col\": \"duration_ms\", \"Correlation\": 0.0462150949952219, \"order\": 1}, {\"genre\": \"Indie\", \"row\": \"valence\", \"col\": \"duration_ms\", \"Correlation\": -0.223117576758022, \"order\": 1}, {\"genre\": \"Jazz\", \"row\": \"popularity\", \"col\": \"duration_ms\", \"Correlation\": 0.000810958911043613, \"order\": 0}, {\"genre\": \"Jazz\", \"row\": \"acousticness\", \"col\": \"duration_ms\", \"Correlation\": -0.0811650675381785, \"order\": 1}, {\"genre\": \"Jazz\", \"row\": \"danceability\", \"col\": \"duration_ms\", \"Correlation\": -0.20282359888102205, \"order\": 1}, {\"genre\": \"Jazz\", \"row\": \"duration_ms\", \"col\": \"duration_ms\", \"Correlation\": 1.0, \"order\": 1}, {\"genre\": \"Jazz\", \"row\": \"energy\", \"col\": \"duration_ms\", \"Correlation\": 0.11395581899969402, \"order\": 1}, {\"genre\": \"Jazz\", \"row\": \"instrumentalness\", \"col\": \"duration_ms\", \"Correlation\": 0.03548752173086445, \"order\": 1}, {\"genre\": \"Jazz\", \"row\": \"liveness\", \"col\": \"duration_ms\", \"Correlation\": 0.08924052074129757, \"order\": 1}, {\"genre\": \"Jazz\", \"row\": \"loudness\", \"col\": \"duration_ms\", \"Correlation\": -0.034037769699654094, \"order\": 1}, {\"genre\": \"Jazz\", \"row\": \"speechiness\", \"col\": \"duration_ms\", \"Correlation\": -0.1822408493291889, \"order\": 1}, {\"genre\": \"Jazz\", \"row\": \"tempo\", \"col\": \"duration_ms\", \"Correlation\": 0.05815221872068694, \"order\": 1}, {\"genre\": \"Jazz\", \"row\": \"valence\", \"col\": \"duration_ms\", \"Correlation\": -0.12044861788073588, \"order\": 1}, {\"genre\": \"Movie\", \"row\": \"popularity\", \"col\": \"duration_ms\", \"Correlation\": -0.04364747045441466, \"order\": 0}, {\"genre\": \"Movie\", \"row\": \"acousticness\", \"col\": \"duration_ms\", \"Correlation\": -0.02692727256175414, \"order\": 1}, {\"genre\": \"Movie\", \"row\": \"danceability\", \"col\": \"duration_ms\", \"Correlation\": -0.017714305581603543, \"order\": 1}, {\"genre\": \"Movie\", \"row\": \"duration_ms\", \"col\": \"duration_ms\", \"Correlation\": 1.0, \"order\": 1}, {\"genre\": \"Movie\", \"row\": \"energy\", \"col\": \"duration_ms\", \"Correlation\": 0.05201675431049382, \"order\": 1}, {\"genre\": \"Movie\", \"row\": \"instrumentalness\", \"col\": \"duration_ms\", \"Correlation\": -0.047557476148298604, \"order\": 1}, {\"genre\": \"Movie\", \"row\": \"liveness\", \"col\": \"duration_ms\", \"Correlation\": 0.04745625787761545, \"order\": 1}, {\"genre\": \"Movie\", \"row\": \"loudness\", \"col\": \"duration_ms\", \"Correlation\": 0.02534007060998641, \"order\": 1}, {\"genre\": \"Movie\", \"row\": \"speechiness\", \"col\": \"duration_ms\", \"Correlation\": 0.2634206922227255, \"order\": 1}, {\"genre\": \"Movie\", \"row\": \"tempo\", \"col\": \"duration_ms\", \"Correlation\": -0.053698341109133824, \"order\": 1}, {\"genre\": \"Movie\", \"row\": \"valence\", \"col\": \"duration_ms\", \"Correlation\": -0.06997790639573517, \"order\": 1}, {\"genre\": \"Opera\", \"row\": \"popularity\", \"col\": \"duration_ms\", \"Correlation\": 0.013420095641401753, \"order\": 0}, {\"genre\": \"Opera\", \"row\": \"acousticness\", \"col\": \"duration_ms\", \"Correlation\": 0.06648044078797494, \"order\": 1}, {\"genre\": \"Opera\", \"row\": \"danceability\", \"col\": \"duration_ms\", \"Correlation\": -0.2814121477734844, \"order\": 1}, {\"genre\": \"Opera\", \"row\": \"duration_ms\", \"col\": \"duration_ms\", \"Correlation\": 1.0, \"order\": 1}, {\"genre\": \"Opera\", \"row\": \"energy\", \"col\": \"duration_ms\", \"Correlation\": -0.09527936649533403, \"order\": 1}, {\"genre\": \"Opera\", \"row\": \"instrumentalness\", \"col\": \"duration_ms\", \"Correlation\": 0.11720463194683393, \"order\": 1}, {\"genre\": \"Opera\", \"row\": \"liveness\", \"col\": \"duration_ms\", \"Correlation\": -0.10623838066628463, \"order\": 1}, {\"genre\": \"Opera\", \"row\": \"loudness\", \"col\": \"duration_ms\", \"Correlation\": -0.0058608343741120535, \"order\": 1}, {\"genre\": \"Opera\", \"row\": \"speechiness\", \"col\": \"duration_ms\", \"Correlation\": -0.04526982899665166, \"order\": 1}, {\"genre\": \"Opera\", \"row\": \"tempo\", \"col\": \"duration_ms\", \"Correlation\": -0.07341497816329312, \"order\": 1}, {\"genre\": \"Opera\", \"row\": \"valence\", \"col\": \"duration_ms\", \"Correlation\": -0.3219638773895544, \"order\": 1}, {\"genre\": \"Pop\", \"row\": \"popularity\", \"col\": \"duration_ms\", \"Correlation\": -0.03195086940839425, \"order\": 0}, {\"genre\": \"Pop\", \"row\": \"acousticness\", \"col\": \"duration_ms\", \"Correlation\": 0.011988926651154426, \"order\": 1}, {\"genre\": \"Pop\", \"row\": \"danceability\", \"col\": \"duration_ms\", \"Correlation\": -0.15685956302896717, \"order\": 1}, {\"genre\": \"Pop\", \"row\": \"duration_ms\", \"col\": \"duration_ms\", \"Correlation\": 1.0, \"order\": 1}, {\"genre\": \"Pop\", \"row\": \"energy\", \"col\": \"duration_ms\", \"Correlation\": -0.03308132495209003, \"order\": 1}, {\"genre\": \"Pop\", \"row\": \"instrumentalness\", \"col\": \"duration_ms\", \"Correlation\": 0.02829738016176603, \"order\": 1}, {\"genre\": \"Pop\", \"row\": \"liveness\", \"col\": \"duration_ms\", \"Correlation\": 0.027632184959673005, \"order\": 1}, {\"genre\": \"Pop\", \"row\": \"loudness\", \"col\": \"duration_ms\", \"Correlation\": -0.08115823327891153, \"order\": 1}, {\"genre\": \"Pop\", \"row\": \"speechiness\", \"col\": \"duration_ms\", \"Correlation\": 0.0043933330987838476, \"order\": 1}, {\"genre\": \"Pop\", \"row\": \"tempo\", \"col\": \"duration_ms\", \"Correlation\": -0.04923719316142861, \"order\": 1}, {\"genre\": \"Pop\", \"row\": \"valence\", \"col\": \"duration_ms\", \"Correlation\": -0.16031289543463292, \"order\": 1}, {\"genre\": \"R&B\", \"row\": \"popularity\", \"col\": \"duration_ms\", \"Correlation\": 0.015883993620129145, \"order\": 0}, {\"genre\": \"R&B\", \"row\": \"acousticness\", \"col\": \"duration_ms\", \"Correlation\": -0.057786238834203175, \"order\": 1}, {\"genre\": \"R&B\", \"row\": \"danceability\", \"col\": \"duration_ms\", \"Correlation\": -0.14459516819943272, \"order\": 1}, {\"genre\": \"R&B\", \"row\": \"duration_ms\", \"col\": \"duration_ms\", \"Correlation\": 1.0, \"order\": 1}, {\"genre\": \"R&B\", \"row\": \"energy\", \"col\": \"duration_ms\", \"Correlation\": 0.015129435622312408, \"order\": 1}, {\"genre\": \"R&B\", \"row\": \"instrumentalness\", \"col\": \"duration_ms\", \"Correlation\": -0.007862101268529738, \"order\": 1}, {\"genre\": \"R&B\", \"row\": \"liveness\", \"col\": \"duration_ms\", \"Correlation\": 0.03511488735815063, \"order\": 1}, {\"genre\": \"R&B\", \"row\": \"loudness\", \"col\": \"duration_ms\", \"Correlation\": -0.012335636289633614, \"order\": 1}, {\"genre\": \"R&B\", \"row\": \"speechiness\", \"col\": \"duration_ms\", \"Correlation\": -0.11873844776387003, \"order\": 1}, {\"genre\": \"R&B\", \"row\": \"tempo\", \"col\": \"duration_ms\", \"Correlation\": -0.008539803389594824, \"order\": 1}, {\"genre\": \"R&B\", \"row\": \"valence\", \"col\": \"duration_ms\", \"Correlation\": -0.08661222438489896, \"order\": 1}, {\"genre\": \"Rap\", \"row\": \"popularity\", \"col\": \"duration_ms\", \"Correlation\": -0.13788232835479647, \"order\": 0}, {\"genre\": \"Rap\", \"row\": \"acousticness\", \"col\": \"duration_ms\", \"Correlation\": -0.07861157224267815, \"order\": 1}, {\"genre\": \"Rap\", \"row\": \"danceability\", \"col\": \"duration_ms\", \"Correlation\": -0.12638738760777923, \"order\": 1}, {\"genre\": \"Rap\", \"row\": \"duration_ms\", \"col\": \"duration_ms\", \"Correlation\": 1.0, \"order\": 1}, {\"genre\": \"Rap\", \"row\": \"energy\", \"col\": \"duration_ms\", \"Correlation\": 0.19168284483365786, \"order\": 1}, {\"genre\": \"Rap\", \"row\": \"instrumentalness\", \"col\": \"duration_ms\", \"Correlation\": -0.07465988451455985, \"order\": 1}, {\"genre\": \"Rap\", \"row\": \"liveness\", \"col\": \"duration_ms\", \"Correlation\": 0.08170539582839681, \"order\": 1}, {\"genre\": \"Rap\", \"row\": \"loudness\", \"col\": \"duration_ms\", \"Correlation\": 0.15926710480765285, \"order\": 1}, {\"genre\": \"Rap\", \"row\": \"speechiness\", \"col\": \"duration_ms\", \"Correlation\": 0.04523724450189869, \"order\": 1}, {\"genre\": \"Rap\", \"row\": \"tempo\", \"col\": \"duration_ms\", \"Correlation\": -0.09217400234267094, \"order\": 1}, {\"genre\": \"Rap\", \"row\": \"valence\", \"col\": \"duration_ms\", \"Correlation\": 0.04157325909119343, \"order\": 1}, {\"genre\": \"Reggae\", \"row\": \"popularity\", \"col\": \"duration_ms\", \"Correlation\": -0.003383823130489473, \"order\": 0}, {\"genre\": \"Reggae\", \"row\": \"acousticness\", \"col\": \"duration_ms\", \"Correlation\": -0.054602997734257176, \"order\": 1}, {\"genre\": \"Reggae\", \"row\": \"danceability\", \"col\": \"duration_ms\", \"Correlation\": -0.05255957356260426, \"order\": 1}, {\"genre\": \"Reggae\", \"row\": \"duration_ms\", \"col\": \"duration_ms\", \"Correlation\": 1.0, \"order\": 1}, {\"genre\": \"Reggae\", \"row\": \"energy\", \"col\": \"duration_ms\", \"Correlation\": -0.047027433200226544, \"order\": 1}, {\"genre\": \"Reggae\", \"row\": \"instrumentalness\", \"col\": \"duration_ms\", \"Correlation\": 0.05762974406209138, \"order\": 1}, {\"genre\": \"Reggae\", \"row\": \"liveness\", \"col\": \"duration_ms\", \"Correlation\": 0.1326969368475954, \"order\": 1}, {\"genre\": \"Reggae\", \"row\": \"loudness\", \"col\": \"duration_ms\", \"Correlation\": -0.08309037725302755, \"order\": 1}, {\"genre\": \"Reggae\", \"row\": \"speechiness\", \"col\": \"duration_ms\", \"Correlation\": -0.10987400285857253, \"order\": 1}, {\"genre\": \"Reggae\", \"row\": \"tempo\", \"col\": \"duration_ms\", \"Correlation\": 0.04343962132299093, \"order\": 1}, {\"genre\": \"Reggae\", \"row\": \"valence\", \"col\": \"duration_ms\", \"Correlation\": -0.08332184589110765, \"order\": 1}, {\"genre\": \"Reggaeton\", \"row\": \"popularity\", \"col\": \"duration_ms\", \"Correlation\": 0.004409543597926719, \"order\": 0}, {\"genre\": \"Reggaeton\", \"row\": \"acousticness\", \"col\": \"duration_ms\", \"Correlation\": 0.027305704578276427, \"order\": 1}, {\"genre\": \"Reggaeton\", \"row\": \"danceability\", \"col\": \"duration_ms\", \"Correlation\": -0.11014877551009028, \"order\": 1}, {\"genre\": \"Reggaeton\", \"row\": \"duration_ms\", \"col\": \"duration_ms\", \"Correlation\": 1.0, \"order\": 1}, {\"genre\": \"Reggaeton\", \"row\": \"energy\", \"col\": \"duration_ms\", \"Correlation\": -0.004347010933479991, \"order\": 1}, {\"genre\": \"Reggaeton\", \"row\": \"instrumentalness\", \"col\": \"duration_ms\", \"Correlation\": -0.0323570301325774, \"order\": 1}, {\"genre\": \"Reggaeton\", \"row\": \"liveness\", \"col\": \"duration_ms\", \"Correlation\": 0.06871466127267052, \"order\": 1}, {\"genre\": \"Reggaeton\", \"row\": \"loudness\", \"col\": \"duration_ms\", \"Correlation\": -0.03188035132287867, \"order\": 1}, {\"genre\": \"Reggaeton\", \"row\": \"speechiness\", \"col\": \"duration_ms\", \"Correlation\": 0.024323530028631593, \"order\": 1}, {\"genre\": \"Reggaeton\", \"row\": \"tempo\", \"col\": \"duration_ms\", \"Correlation\": 0.009208024437169369, \"order\": 1}, {\"genre\": \"Reggaeton\", \"row\": \"valence\", \"col\": \"duration_ms\", \"Correlation\": -0.025124335483069516, \"order\": 1}, {\"genre\": \"Rock\", \"row\": \"popularity\", \"col\": \"duration_ms\", \"Correlation\": -0.03503578272357382, \"order\": 0}, {\"genre\": \"Rock\", \"row\": \"acousticness\", \"col\": \"duration_ms\", \"Correlation\": -0.09510329245534686, \"order\": 1}, {\"genre\": \"Rock\", \"row\": \"danceability\", \"col\": \"duration_ms\", \"Correlation\": -0.22266895150075944, \"order\": 1}, {\"genre\": \"Rock\", \"row\": \"duration_ms\", \"col\": \"duration_ms\", \"Correlation\": 1.0, \"order\": 1}, {\"genre\": \"Rock\", \"row\": \"energy\", \"col\": \"duration_ms\", \"Correlation\": 0.0011905044087025041, \"order\": 1}, {\"genre\": \"Rock\", \"row\": \"instrumentalness\", \"col\": \"duration_ms\", \"Correlation\": 0.1073719346970002, \"order\": 1}, {\"genre\": \"Rock\", \"row\": \"liveness\", \"col\": \"duration_ms\", \"Correlation\": -0.0036700618698035817, \"order\": 1}, {\"genre\": \"Rock\", \"row\": \"loudness\", \"col\": \"duration_ms\", \"Correlation\": -0.06156406539911021, \"order\": 1}, {\"genre\": \"Rock\", \"row\": \"speechiness\", \"col\": \"duration_ms\", \"Correlation\": -0.042917878298620274, \"order\": 1}, {\"genre\": \"Rock\", \"row\": \"tempo\", \"col\": \"duration_ms\", \"Correlation\": -0.012229167551998979, \"order\": 1}, {\"genre\": \"Rock\", \"row\": \"valence\", \"col\": \"duration_ms\", \"Correlation\": -0.2615496751678658, \"order\": 1}, {\"genre\": \"Ska\", \"row\": \"popularity\", \"col\": \"duration_ms\", \"Correlation\": 0.12497262820060544, \"order\": 0}, {\"genre\": \"Ska\", \"row\": \"acousticness\", \"col\": \"duration_ms\", \"Correlation\": 0.10014753951762195, \"order\": 1}, {\"genre\": \"Ska\", \"row\": \"danceability\", \"col\": \"duration_ms\", \"Correlation\": 0.18624961194878628, \"order\": 1}, {\"genre\": \"Ska\", \"row\": \"duration_ms\", \"col\": \"duration_ms\", \"Correlation\": 1.0, \"order\": 1}, {\"genre\": \"Ska\", \"row\": \"energy\", \"col\": \"duration_ms\", \"Correlation\": -0.28650471112233733, \"order\": 1}, {\"genre\": \"Ska\", \"row\": \"instrumentalness\", \"col\": \"duration_ms\", \"Correlation\": 0.04154528385902793, \"order\": 1}, {\"genre\": \"Ska\", \"row\": \"liveness\", \"col\": \"duration_ms\", \"Correlation\": 0.0413066630262132, \"order\": 1}, {\"genre\": \"Ska\", \"row\": \"loudness\", \"col\": \"duration_ms\", \"Correlation\": -0.171240672174089, \"order\": 1}, {\"genre\": \"Ska\", \"row\": \"speechiness\", \"col\": \"duration_ms\", \"Correlation\": -0.06278160303519244, \"order\": 1}, {\"genre\": \"Ska\", \"row\": \"tempo\", \"col\": \"duration_ms\", \"Correlation\": -0.03281339147478643, \"order\": 1}, {\"genre\": \"Ska\", \"row\": \"valence\", \"col\": \"duration_ms\", \"Correlation\": -0.023049420669586127, \"order\": 1}, {\"genre\": \"Soul\", \"row\": \"popularity\", \"col\": \"duration_ms\", \"Correlation\": -0.04833974098443314, \"order\": 0}, {\"genre\": \"Soul\", \"row\": \"acousticness\", \"col\": \"duration_ms\", \"Correlation\": -0.11475787643661858, \"order\": 1}, {\"genre\": \"Soul\", \"row\": \"danceability\", \"col\": \"duration_ms\", \"Correlation\": -0.04267741415771328, \"order\": 1}, {\"genre\": \"Soul\", \"row\": \"duration_ms\", \"col\": \"duration_ms\", \"Correlation\": 1.0, \"order\": 1}, {\"genre\": \"Soul\", \"row\": \"energy\", \"col\": \"duration_ms\", \"Correlation\": 0.05542812152289652, \"order\": 1}, {\"genre\": \"Soul\", \"row\": \"instrumentalness\", \"col\": \"duration_ms\", \"Correlation\": 0.04256500331492339, \"order\": 1}, {\"genre\": \"Soul\", \"row\": \"liveness\", \"col\": \"duration_ms\", \"Correlation\": 0.0221830427737401, \"order\": 1}, {\"genre\": \"Soul\", \"row\": \"loudness\", \"col\": \"duration_ms\", \"Correlation\": -0.03928971607614039, \"order\": 1}, {\"genre\": \"Soul\", \"row\": \"speechiness\", \"col\": \"duration_ms\", \"Correlation\": -0.07118222781578776, \"order\": 1}, {\"genre\": \"Soul\", \"row\": \"tempo\", \"col\": \"duration_ms\", \"Correlation\": -0.008869512309657223, \"order\": 1}, {\"genre\": \"Soul\", \"row\": \"valence\", \"col\": \"duration_ms\", \"Correlation\": -0.05068914354022512, \"order\": 1}, {\"genre\": \"Soundtrack\", \"row\": \"popularity\", \"col\": \"duration_ms\", \"Correlation\": 0.07009837051234045, \"order\": 0}, {\"genre\": \"Soundtrack\", \"row\": \"acousticness\", \"col\": \"duration_ms\", \"Correlation\": -0.12603742181393213, \"order\": 1}, {\"genre\": \"Soundtrack\", \"row\": \"danceability\", \"col\": \"duration_ms\", \"Correlation\": -0.1627419530248973, \"order\": 1}, {\"genre\": \"Soundtrack\", \"row\": \"duration_ms\", \"col\": \"duration_ms\", \"Correlation\": 1.0, \"order\": 1}, {\"genre\": \"Soundtrack\", \"row\": \"energy\", \"col\": \"duration_ms\", \"Correlation\": 0.08252842379630229, \"order\": 1}, {\"genre\": \"Soundtrack\", \"row\": \"instrumentalness\", \"col\": \"duration_ms\", \"Correlation\": 0.014601803855297787, \"order\": 1}, {\"genre\": \"Soundtrack\", \"row\": \"liveness\", \"col\": \"duration_ms\", \"Correlation\": 0.021833702456059447, \"order\": 1}, {\"genre\": \"Soundtrack\", \"row\": \"loudness\", \"col\": \"duration_ms\", \"Correlation\": 0.12464340895245116, \"order\": 1}, {\"genre\": \"Soundtrack\", \"row\": \"speechiness\", \"col\": \"duration_ms\", \"Correlation\": -0.015652734006455032, \"order\": 1}, {\"genre\": \"Soundtrack\", \"row\": \"tempo\", \"col\": \"duration_ms\", \"Correlation\": -0.005703062617258149, \"order\": 1}, {\"genre\": \"Soundtrack\", \"row\": \"valence\", \"col\": \"duration_ms\", \"Correlation\": -0.15565077607967562, \"order\": 1}, {\"genre\": \"World\", \"row\": \"popularity\", \"col\": \"duration_ms\", \"Correlation\": 0.007503916662051679, \"order\": 0}, {\"genre\": \"World\", \"row\": \"acousticness\", \"col\": \"duration_ms\", \"Correlation\": -0.004922185620708966, \"order\": 1}, {\"genre\": \"World\", \"row\": \"danceability\", \"col\": \"duration_ms\", \"Correlation\": -0.14206767475945753, \"order\": 1}, {\"genre\": \"World\", \"row\": \"duration_ms\", \"col\": \"duration_ms\", \"Correlation\": 1.0, \"order\": 1}, {\"genre\": \"World\", \"row\": \"energy\", \"col\": \"duration_ms\", \"Correlation\": -0.048177402811254766, \"order\": 1}, {\"genre\": \"World\", \"row\": \"instrumentalness\", \"col\": \"duration_ms\", \"Correlation\": 0.08213362961169081, \"order\": 1}, {\"genre\": \"World\", \"row\": \"liveness\", \"col\": \"duration_ms\", \"Correlation\": 0.009328033287988865, \"order\": 1}, {\"genre\": \"World\", \"row\": \"loudness\", \"col\": \"duration_ms\", \"Correlation\": -0.07581213316368932, \"order\": 1}, {\"genre\": \"World\", \"row\": \"speechiness\", \"col\": \"duration_ms\", \"Correlation\": -0.03377955875938413, \"order\": 1}, {\"genre\": \"World\", \"row\": \"tempo\", \"col\": \"duration_ms\", \"Correlation\": -0.0019054397348952398, \"order\": 1}, {\"genre\": \"World\", \"row\": \"valence\", \"col\": \"duration_ms\", \"Correlation\": -0.14282979018840078, \"order\": 1}, {\"genre\": \"A Capella\", \"row\": \"popularity\", \"col\": \"energy\", \"Correlation\": 0.0045905736978370535, \"order\": 0}, {\"genre\": \"A Capella\", \"row\": \"acousticness\", \"col\": \"energy\", \"Correlation\": -0.7737453848793069, \"order\": 1}, {\"genre\": \"A Capella\", \"row\": \"danceability\", \"col\": \"energy\", \"Correlation\": 0.6405129753782447, \"order\": 1}, {\"genre\": \"A Capella\", \"row\": \"duration_ms\", \"col\": \"energy\", \"Correlation\": -0.06861137023640636, \"order\": 1}, {\"genre\": \"A Capella\", \"row\": \"energy\", \"col\": \"energy\", \"Correlation\": 1.0, \"order\": 1}, {\"genre\": \"A Capella\", \"row\": \"instrumentalness\", \"col\": \"energy\", \"Correlation\": -0.09168513303797984, \"order\": 1}, {\"genre\": \"A Capella\", \"row\": \"liveness\", \"col\": \"energy\", \"Correlation\": -0.0053747114880992675, \"order\": 1}, {\"genre\": \"A Capella\", \"row\": \"loudness\", \"col\": \"energy\", \"Correlation\": 0.8314471061102126, \"order\": 1}, {\"genre\": \"A Capella\", \"row\": \"speechiness\", \"col\": \"energy\", \"Correlation\": 0.5338458352427035, \"order\": 1}, {\"genre\": \"A Capella\", \"row\": \"tempo\", \"col\": \"energy\", \"Correlation\": 0.15401664056775624, \"order\": 1}, {\"genre\": \"A Capella\", \"row\": \"valence\", \"col\": \"energy\", \"Correlation\": 0.771960631960259, \"order\": 1}, {\"genre\": \"Alternative\", \"row\": \"popularity\", \"col\": \"energy\", \"Correlation\": 0.0018248504527305293, \"order\": 0}, {\"genre\": \"Alternative\", \"row\": \"acousticness\", \"col\": \"energy\", \"Correlation\": -0.688570968163845, \"order\": 1}, {\"genre\": \"Alternative\", \"row\": \"danceability\", \"col\": \"energy\", \"Correlation\": -0.2246798316110038, \"order\": 1}, {\"genre\": \"Alternative\", \"row\": \"duration_ms\", \"col\": \"energy\", \"Correlation\": -0.06810635362244023, \"order\": 1}, {\"genre\": \"Alternative\", \"row\": \"energy\", \"col\": \"energy\", \"Correlation\": 1.0, \"order\": 1}, {\"genre\": \"Alternative\", \"row\": \"instrumentalness\", \"col\": \"energy\", \"Correlation\": -0.05878530746735684, \"order\": 1}, {\"genre\": \"Alternative\", \"row\": \"liveness\", \"col\": \"energy\", \"Correlation\": 0.14833294905865343, \"order\": 1}, {\"genre\": \"Alternative\", \"row\": \"loudness\", \"col\": \"energy\", \"Correlation\": 0.7856238888007766, \"order\": 1}, {\"genre\": \"Alternative\", \"row\": \"speechiness\", \"col\": \"energy\", \"Correlation\": 0.0007383987560006772, \"order\": 1}, {\"genre\": \"Alternative\", \"row\": \"tempo\", \"col\": \"energy\", \"Correlation\": 0.19199580512168052, \"order\": 1}, {\"genre\": \"Alternative\", \"row\": \"valence\", \"col\": \"energy\", \"Correlation\": 0.2663890479200309, \"order\": 1}, {\"genre\": \"Blues\", \"row\": \"popularity\", \"col\": \"energy\", \"Correlation\": -0.05186259706195924, \"order\": 0}, {\"genre\": \"Blues\", \"row\": \"acousticness\", \"col\": \"energy\", \"Correlation\": -0.6726299450458881, \"order\": 1}, {\"genre\": \"Blues\", \"row\": \"danceability\", \"col\": \"energy\", \"Correlation\": -0.2595563035757881, \"order\": 1}, {\"genre\": \"Blues\", \"row\": \"duration_ms\", \"col\": \"energy\", \"Correlation\": -0.02641141340760125, \"order\": 1}, {\"genre\": \"Blues\", \"row\": \"energy\", \"col\": \"energy\", \"Correlation\": 1.0, \"order\": 1}, {\"genre\": \"Blues\", \"row\": \"instrumentalness\", \"col\": \"energy\", \"Correlation\": -0.02971051870228204, \"order\": 1}, {\"genre\": \"Blues\", \"row\": \"liveness\", \"col\": \"energy\", \"Correlation\": 0.13740040401976933, \"order\": 1}, {\"genre\": \"Blues\", \"row\": \"loudness\", \"col\": \"energy\", \"Correlation\": 0.7723405609161055, \"order\": 1}, {\"genre\": \"Blues\", \"row\": \"speechiness\", \"col\": \"energy\", \"Correlation\": 0.019225670839725977, \"order\": 1}, {\"genre\": \"Blues\", \"row\": \"tempo\", \"col\": \"energy\", \"Correlation\": 0.2159812263275464, \"order\": 1}, {\"genre\": \"Blues\", \"row\": \"valence\", \"col\": \"energy\", \"Correlation\": 0.23768674449492624, \"order\": 1}, {\"genre\": \"Classical\", \"row\": \"popularity\", \"col\": \"energy\", \"Correlation\": 0.1435951530792326, \"order\": 0}, {\"genre\": \"Classical\", \"row\": \"acousticness\", \"col\": \"energy\", \"Correlation\": -0.871402379188462, \"order\": 1}, {\"genre\": \"Classical\", \"row\": \"danceability\", \"col\": \"energy\", \"Correlation\": 0.3126357860157919, \"order\": 1}, {\"genre\": \"Classical\", \"row\": \"duration_ms\", \"col\": \"energy\", \"Correlation\": -0.008396298689460303, \"order\": 1}, {\"genre\": \"Classical\", \"row\": \"energy\", \"col\": \"energy\", \"Correlation\": 1.0, \"order\": 1}, {\"genre\": \"Classical\", \"row\": \"instrumentalness\", \"col\": \"energy\", \"Correlation\": -0.3352255199865705, \"order\": 1}, {\"genre\": \"Classical\", \"row\": \"liveness\", \"col\": \"energy\", \"Correlation\": 0.20682816510207583, \"order\": 1}, {\"genre\": \"Classical\", \"row\": \"loudness\", \"col\": \"energy\", \"Correlation\": 0.8071523067343327, \"order\": 1}, {\"genre\": \"Classical\", \"row\": \"speechiness\", \"col\": \"energy\", \"Correlation\": 0.1684223364348176, \"order\": 1}, {\"genre\": \"Classical\", \"row\": \"tempo\", \"col\": \"energy\", \"Correlation\": 0.28684627519345557, \"order\": 1}, {\"genre\": \"Classical\", \"row\": \"valence\", \"col\": \"energy\", \"Correlation\": 0.3335425217495649, \"order\": 1}, {\"genre\": \"Comedy\", \"row\": \"popularity\", \"col\": \"energy\", \"Correlation\": 0.19151158786436942, \"order\": 0}, {\"genre\": \"Comedy\", \"row\": \"acousticness\", \"col\": \"energy\", \"Correlation\": 0.028646668838457307, \"order\": 1}, {\"genre\": \"Comedy\", \"row\": \"danceability\", \"col\": \"energy\", \"Correlation\": -0.3754998083795253, \"order\": 1}, {\"genre\": \"Comedy\", \"row\": \"duration_ms\", \"col\": \"energy\", \"Correlation\": 0.008499003229006118, \"order\": 1}, {\"genre\": \"Comedy\", \"row\": \"energy\", \"col\": \"energy\", \"Correlation\": 1.0, \"order\": 1}, {\"genre\": \"Comedy\", \"row\": \"instrumentalness\", \"col\": \"energy\", \"Correlation\": -0.034280915553692684, \"order\": 1}, {\"genre\": \"Comedy\", \"row\": \"liveness\", \"col\": \"energy\", \"Correlation\": 0.35744068512831206, \"order\": 1}, {\"genre\": \"Comedy\", \"row\": \"loudness\", \"col\": \"energy\", \"Correlation\": 0.6790252493834628, \"order\": 1}, {\"genre\": \"Comedy\", \"row\": \"speechiness\", \"col\": \"energy\", \"Correlation\": 0.16783950569504977, \"order\": 1}, {\"genre\": \"Comedy\", \"row\": \"tempo\", \"col\": \"energy\", \"Correlation\": -0.031332868527312846, \"order\": 1}, {\"genre\": \"Comedy\", \"row\": \"valence\", \"col\": \"energy\", \"Correlation\": -0.36688686168231566, \"order\": 1}, {\"genre\": \"Country\", \"row\": \"popularity\", \"col\": \"energy\", \"Correlation\": 0.05719657808914108, \"order\": 0}, {\"genre\": \"Country\", \"row\": \"acousticness\", \"col\": \"energy\", \"Correlation\": -0.6906557814607692, \"order\": 1}, {\"genre\": \"Country\", \"row\": \"danceability\", \"col\": \"energy\", \"Correlation\": 0.03524092962056019, \"order\": 1}, {\"genre\": \"Country\", \"row\": \"duration_ms\", \"col\": \"energy\", \"Correlation\": -0.05682577241181788, \"order\": 1}, {\"genre\": \"Country\", \"row\": \"energy\", \"col\": \"energy\", \"Correlation\": 1.0, \"order\": 1}, {\"genre\": \"Country\", \"row\": \"instrumentalness\", \"col\": \"energy\", \"Correlation\": -0.018111450388335917, \"order\": 1}, {\"genre\": \"Country\", \"row\": \"liveness\", \"col\": \"energy\", \"Correlation\": 0.1567476251899118, \"order\": 1}, {\"genre\": \"Country\", \"row\": \"loudness\", \"col\": \"energy\", \"Correlation\": 0.7614113256395463, \"order\": 1}, {\"genre\": \"Country\", \"row\": \"speechiness\", \"col\": \"energy\", \"Correlation\": 0.163849265717384, \"order\": 1}, {\"genre\": \"Country\", \"row\": \"tempo\", \"col\": \"energy\", \"Correlation\": 0.20964265008678062, \"order\": 1}, {\"genre\": \"Country\", \"row\": \"valence\", \"col\": \"energy\", \"Correlation\": 0.45699943429645373, \"order\": 1}, {\"genre\": \"Dance\", \"row\": \"popularity\", \"col\": \"energy\", \"Correlation\": -0.02112027972283756, \"order\": 0}, {\"genre\": \"Dance\", \"row\": \"acousticness\", \"col\": \"energy\", \"Correlation\": -0.4880927423047653, \"order\": 1}, {\"genre\": \"Dance\", \"row\": \"danceability\", \"col\": \"energy\", \"Correlation\": -0.037332794622437736, \"order\": 1}, {\"genre\": \"Dance\", \"row\": \"duration_ms\", \"col\": \"energy\", \"Correlation\": -0.057226696133131624, \"order\": 1}, {\"genre\": \"Dance\", \"row\": \"energy\", \"col\": \"energy\", \"Correlation\": 1.0, \"order\": 1}, {\"genre\": \"Dance\", \"row\": \"instrumentalness\", \"col\": \"energy\", \"Correlation\": 0.060677471757927266, \"order\": 1}, {\"genre\": \"Dance\", \"row\": \"liveness\", \"col\": \"energy\", \"Correlation\": 0.16045164183635433, \"order\": 1}, {\"genre\": \"Dance\", \"row\": \"loudness\", \"col\": \"energy\", \"Correlation\": 0.6253376261981983, \"order\": 1}, {\"genre\": \"Dance\", \"row\": \"speechiness\", \"col\": \"energy\", \"Correlation\": 0.03129492094393032, \"order\": 1}, {\"genre\": \"Dance\", \"row\": \"tempo\", \"col\": \"energy\", \"Correlation\": 0.11515080789517614, \"order\": 1}, {\"genre\": \"Dance\", \"row\": \"valence\", \"col\": \"energy\", \"Correlation\": 0.30940271474569014, \"order\": 1}, {\"genre\": \"Electronic\", \"row\": \"popularity\", \"col\": \"energy\", \"Correlation\": -0.04871464223394798, \"order\": 0}, {\"genre\": \"Electronic\", \"row\": \"acousticness\", \"col\": \"energy\", \"Correlation\": -0.5292198770577445, \"order\": 1}, {\"genre\": \"Electronic\", \"row\": \"danceability\", \"col\": \"energy\", \"Correlation\": -0.05851910127694361, \"order\": 1}, {\"genre\": \"Electronic\", \"row\": \"duration_ms\", \"col\": \"energy\", \"Correlation\": -0.1363460205889159, \"order\": 1}, {\"genre\": \"Electronic\", \"row\": \"energy\", \"col\": \"energy\", \"Correlation\": 1.0, \"order\": 1}, {\"genre\": \"Electronic\", \"row\": \"instrumentalness\", \"col\": \"energy\", \"Correlation\": -0.2091885323208596, \"order\": 1}, {\"genre\": \"Electronic\", \"row\": \"liveness\", \"col\": \"energy\", \"Correlation\": 0.2071514441368312, \"order\": 1}, {\"genre\": \"Electronic\", \"row\": \"loudness\", \"col\": \"energy\", \"Correlation\": 0.7583649545386315, \"order\": 1}, {\"genre\": \"Electronic\", \"row\": \"speechiness\", \"col\": \"energy\", \"Correlation\": 0.2384781296015606, \"order\": 1}, {\"genre\": \"Electronic\", \"row\": \"tempo\", \"col\": \"energy\", \"Correlation\": 0.19920185965097448, \"order\": 1}, {\"genre\": \"Electronic\", \"row\": \"valence\", \"col\": \"energy\", \"Correlation\": 0.1229968685243033, \"order\": 1}, {\"genre\": \"Folk\", \"row\": \"popularity\", \"col\": \"energy\", \"Correlation\": 0.027926104761501376, \"order\": 0}, {\"genre\": \"Folk\", \"row\": \"acousticness\", \"col\": \"energy\", \"Correlation\": -0.7436031852916982, \"order\": 1}, {\"genre\": \"Folk\", \"row\": \"danceability\", \"col\": \"energy\", \"Correlation\": 0.1227844413618983, \"order\": 1}, {\"genre\": \"Folk\", \"row\": \"duration_ms\", \"col\": \"energy\", \"Correlation\": 0.0429373785025711, \"order\": 1}, {\"genre\": \"Folk\", \"row\": \"energy\", \"col\": \"energy\", \"Correlation\": 1.0, \"order\": 1}, {\"genre\": \"Folk\", \"row\": \"instrumentalness\", \"col\": \"energy\", \"Correlation\": -0.004341227697532862, \"order\": 1}, {\"genre\": \"Folk\", \"row\": \"liveness\", \"col\": \"energy\", \"Correlation\": 0.1597383482072667, \"order\": 1}, {\"genre\": \"Folk\", \"row\": \"loudness\", \"col\": \"energy\", \"Correlation\": 0.7730978375393777, \"order\": 1}, {\"genre\": \"Folk\", \"row\": \"speechiness\", \"col\": \"energy\", \"Correlation\": 0.13215040850180548, \"order\": 1}, {\"genre\": \"Folk\", \"row\": \"tempo\", \"col\": \"energy\", \"Correlation\": 0.14314447991458976, \"order\": 1}, {\"genre\": \"Folk\", \"row\": \"valence\", \"col\": \"energy\", \"Correlation\": 0.47330868306620033, \"order\": 1}, {\"genre\": \"Hip-Hop\", \"row\": \"popularity\", \"col\": \"energy\", \"Correlation\": 0.0863578782932154, \"order\": 0}, {\"genre\": \"Hip-Hop\", \"row\": \"acousticness\", \"col\": \"energy\", \"Correlation\": -0.22620351000111574, \"order\": 1}, {\"genre\": \"Hip-Hop\", \"row\": \"danceability\", \"col\": \"energy\", \"Correlation\": -0.1264208941003355, \"order\": 1}, {\"genre\": \"Hip-Hop\", \"row\": \"duration_ms\", \"col\": \"energy\", \"Correlation\": 0.1270485333307241, \"order\": 1}, {\"genre\": \"Hip-Hop\", \"row\": \"energy\", \"col\": \"energy\", \"Correlation\": 1.0, \"order\": 1}, {\"genre\": \"Hip-Hop\", \"row\": \"instrumentalness\", \"col\": \"energy\", \"Correlation\": -0.08013046459580245, \"order\": 1}, {\"genre\": \"Hip-Hop\", \"row\": \"liveness\", \"col\": \"energy\", \"Correlation\": 0.18958695471643963, \"order\": 1}, {\"genre\": \"Hip-Hop\", \"row\": \"loudness\", \"col\": \"energy\", \"Correlation\": 0.6946193831038878, \"order\": 1}, {\"genre\": \"Hip-Hop\", \"row\": \"speechiness\", \"col\": \"energy\", \"Correlation\": -0.07157285890453491, \"order\": 1}, {\"genre\": \"Hip-Hop\", \"row\": \"tempo\", \"col\": \"energy\", \"Correlation\": -0.020400958099737743, \"order\": 1}, {\"genre\": \"Hip-Hop\", \"row\": \"valence\", \"col\": \"energy\", \"Correlation\": 0.3681937977562097, \"order\": 1}, {\"genre\": \"Indie\", \"row\": \"popularity\", \"col\": \"energy\", \"Correlation\": -0.11649362054822769, \"order\": 0}, {\"genre\": \"Indie\", \"row\": \"acousticness\", \"col\": \"energy\", \"Correlation\": -0.7285341490875608, \"order\": 1}, {\"genre\": \"Indie\", \"row\": \"danceability\", \"col\": \"energy\", \"Correlation\": -0.052642515494581106, \"order\": 1}, {\"genre\": \"Indie\", \"row\": \"duration_ms\", \"col\": \"energy\", \"Correlation\": -0.014407622338952758, \"order\": 1}, {\"genre\": \"Indie\", \"row\": \"energy\", \"col\": \"energy\", \"Correlation\": 1.0, \"order\": 1}, {\"genre\": \"Indie\", \"row\": \"instrumentalness\", \"col\": \"energy\", \"Correlation\": -0.03521982684563326, \"order\": 1}, {\"genre\": \"Indie\", \"row\": \"liveness\", \"col\": \"energy\", \"Correlation\": 0.11612927126646902, \"order\": 1}, {\"genre\": \"Indie\", \"row\": \"loudness\", \"col\": \"energy\", \"Correlation\": 0.7786342981214491, \"order\": 1}, {\"genre\": \"Indie\", \"row\": \"speechiness\", \"col\": \"energy\", \"Correlation\": 0.13544681407057876, \"order\": 1}, {\"genre\": \"Indie\", \"row\": \"tempo\", \"col\": \"energy\", \"Correlation\": 0.17210935104172848, \"order\": 1}, {\"genre\": \"Indie\", \"row\": \"valence\", \"col\": \"energy\", \"Correlation\": 0.38448627511544703, \"order\": 1}, {\"genre\": \"Jazz\", \"row\": \"popularity\", \"col\": \"energy\", \"Correlation\": -0.11035469581541364, \"order\": 0}, {\"genre\": \"Jazz\", \"row\": \"acousticness\", \"col\": \"energy\", \"Correlation\": -0.6970988729322102, \"order\": 1}, {\"genre\": \"Jazz\", \"row\": \"danceability\", \"col\": \"energy\", \"Correlation\": 0.2662523823673074, \"order\": 1}, {\"genre\": \"Jazz\", \"row\": \"duration_ms\", \"col\": \"energy\", \"Correlation\": 0.11395581899969402, \"order\": 1}, {\"genre\": \"Jazz\", \"row\": \"energy\", \"col\": \"energy\", \"Correlation\": 1.0, \"order\": 1}, {\"genre\": \"Jazz\", \"row\": \"instrumentalness\", \"col\": \"energy\", \"Correlation\": -0.02854243811310106, \"order\": 1}, {\"genre\": \"Jazz\", \"row\": \"liveness\", \"col\": \"energy\", \"Correlation\": 0.12353377215411918, \"order\": 1}, {\"genre\": \"Jazz\", \"row\": \"loudness\", \"col\": \"energy\", \"Correlation\": 0.7832613188762466, \"order\": 1}, {\"genre\": \"Jazz\", \"row\": \"speechiness\", \"col\": \"energy\", \"Correlation\": 0.14429610251274097, \"order\": 1}, {\"genre\": \"Jazz\", \"row\": \"tempo\", \"col\": \"energy\", \"Correlation\": 0.11963096531872448, \"order\": 1}, {\"genre\": \"Jazz\", \"row\": \"valence\", \"col\": \"energy\", \"Correlation\": 0.47298553007909694, \"order\": 1}, {\"genre\": \"Movie\", \"row\": \"popularity\", \"col\": \"energy\", \"Correlation\": -0.08695061763616425, \"order\": 0}, {\"genre\": \"Movie\", \"row\": \"acousticness\", \"col\": \"energy\", \"Correlation\": -0.6990232186000035, \"order\": 1}, {\"genre\": \"Movie\", \"row\": \"danceability\", \"col\": \"energy\", \"Correlation\": 0.42426785292792885, \"order\": 1}, {\"genre\": \"Movie\", \"row\": \"duration_ms\", \"col\": \"energy\", \"Correlation\": 0.05201675431049382, \"order\": 1}, {\"genre\": \"Movie\", \"row\": \"energy\", \"col\": \"energy\", \"Correlation\": 1.0, \"order\": 1}, {\"genre\": \"Movie\", \"row\": \"instrumentalness\", \"col\": \"energy\", \"Correlation\": -0.32854722622995525, \"order\": 1}, {\"genre\": \"Movie\", \"row\": \"liveness\", \"col\": \"energy\", \"Correlation\": 0.19160130846383225, \"order\": 1}, {\"genre\": \"Movie\", \"row\": \"loudness\", \"col\": \"energy\", \"Correlation\": 0.7717925919814579, \"order\": 1}, {\"genre\": \"Movie\", \"row\": \"speechiness\", \"col\": \"energy\", \"Correlation\": -0.00716373148943685, \"order\": 1}, {\"genre\": \"Movie\", \"row\": \"tempo\", \"col\": \"energy\", \"Correlation\": 0.24470703984568976, \"order\": 1}, {\"genre\": \"Movie\", \"row\": \"valence\", \"col\": \"energy\", \"Correlation\": 0.5603211830744897, \"order\": 1}, {\"genre\": \"Opera\", \"row\": \"popularity\", \"col\": \"energy\", \"Correlation\": 0.045076630498608335, \"order\": 0}, {\"genre\": \"Opera\", \"row\": \"acousticness\", \"col\": \"energy\", \"Correlation\": -0.1735032877032937, \"order\": 1}, {\"genre\": \"Opera\", \"row\": \"danceability\", \"col\": \"energy\", \"Correlation\": 0.20481740723662928, \"order\": 1}, {\"genre\": \"Opera\", \"row\": \"duration_ms\", \"col\": \"energy\", \"Correlation\": -0.09527936649533403, \"order\": 1}, {\"genre\": \"Opera\", \"row\": \"energy\", \"col\": \"energy\", \"Correlation\": 1.0, \"order\": 1}, {\"genre\": \"Opera\", \"row\": \"instrumentalness\", \"col\": \"energy\", \"Correlation\": -0.07197995623385979, \"order\": 1}, {\"genre\": \"Opera\", \"row\": \"liveness\", \"col\": \"energy\", \"Correlation\": 0.25526204992378954, \"order\": 1}, {\"genre\": \"Opera\", \"row\": \"loudness\", \"col\": \"energy\", \"Correlation\": 0.7712485608034849, \"order\": 1}, {\"genre\": \"Opera\", \"row\": \"speechiness\", \"col\": \"energy\", \"Correlation\": 0.14785984913233538, \"order\": 1}, {\"genre\": \"Opera\", \"row\": \"tempo\", \"col\": \"energy\", \"Correlation\": 0.033753612687009146, \"order\": 1}, {\"genre\": \"Opera\", \"row\": \"valence\", \"col\": \"energy\", \"Correlation\": 0.38570058021645304, \"order\": 1}, {\"genre\": \"Pop\", \"row\": \"popularity\", \"col\": \"energy\", \"Correlation\": 0.0029813483679392598, \"order\": 0}, {\"genre\": \"Pop\", \"row\": \"acousticness\", \"col\": \"energy\", \"Correlation\": -0.6214312417827723, \"order\": 1}, {\"genre\": \"Pop\", \"row\": \"danceability\", \"col\": \"energy\", \"Correlation\": 0.070048445939889, \"order\": 1}, {\"genre\": \"Pop\", \"row\": \"duration_ms\", \"col\": \"energy\", \"Correlation\": -0.03308132495209003, \"order\": 1}, {\"genre\": \"Pop\", \"row\": \"energy\", \"col\": \"energy\", \"Correlation\": 1.0, \"order\": 1}, {\"genre\": \"Pop\", \"row\": \"instrumentalness\", \"col\": \"energy\", \"Correlation\": -0.14499997109942045, \"order\": 1}, {\"genre\": \"Pop\", \"row\": \"liveness\", \"col\": \"energy\", \"Correlation\": 0.18695053725489133, \"order\": 1}, {\"genre\": \"Pop\", \"row\": \"loudness\", \"col\": \"energy\", \"Correlation\": 0.7501694165968174, \"order\": 1}, {\"genre\": \"Pop\", \"row\": \"speechiness\", \"col\": \"energy\", \"Correlation\": 0.06733971735032925, \"order\": 1}, {\"genre\": \"Pop\", \"row\": \"tempo\", \"col\": \"energy\", \"Correlation\": 0.13467651735078154, \"order\": 1}, {\"genre\": \"Pop\", \"row\": \"valence\", \"col\": \"energy\", \"Correlation\": 0.4066935279365256, \"order\": 1}, {\"genre\": \"R&B\", \"row\": \"popularity\", \"col\": \"energy\", \"Correlation\": -0.023175064825013747, \"order\": 0}, {\"genre\": \"R&B\", \"row\": \"acousticness\", \"col\": \"energy\", \"Correlation\": -0.5447643805426723, \"order\": 1}, {\"genre\": \"R&B\", \"row\": \"danceability\", \"col\": \"energy\", \"Correlation\": 0.10659397770273463, \"order\": 1}, {\"genre\": \"R&B\", \"row\": \"duration_ms\", \"col\": \"energy\", \"Correlation\": 0.015129435622312408, \"order\": 1}, {\"genre\": \"R&B\", \"row\": \"energy\", \"col\": \"energy\", \"Correlation\": 1.0, \"order\": 1}, {\"genre\": \"R&B\", \"row\": \"instrumentalness\", \"col\": \"energy\", \"Correlation\": -0.07439263536878676, \"order\": 1}, {\"genre\": \"R&B\", \"row\": \"liveness\", \"col\": \"energy\", \"Correlation\": 0.1574239697525717, \"order\": 1}, {\"genre\": \"R&B\", \"row\": \"loudness\", \"col\": \"energy\", \"Correlation\": 0.7071848517024246, \"order\": 1}, {\"genre\": \"R&B\", \"row\": \"speechiness\", \"col\": \"energy\", \"Correlation\": 0.10886657114785246, \"order\": 1}, {\"genre\": \"R&B\", \"row\": \"tempo\", \"col\": \"energy\", \"Correlation\": 0.10118944247211675, \"order\": 1}, {\"genre\": \"R&B\", \"row\": \"valence\", \"col\": \"energy\", \"Correlation\": 0.38086530688233866, \"order\": 1}, {\"genre\": \"Rap\", \"row\": \"popularity\", \"col\": \"energy\", \"Correlation\": -0.061967755934981106, \"order\": 0}, {\"genre\": \"Rap\", \"row\": \"acousticness\", \"col\": \"energy\", \"Correlation\": -0.27461675487028175, \"order\": 1}, {\"genre\": \"Rap\", \"row\": \"danceability\", \"col\": \"energy\", \"Correlation\": -0.1832870140470427, \"order\": 1}, {\"genre\": \"Rap\", \"row\": \"duration_ms\", \"col\": \"energy\", \"Correlation\": 0.19168284483365786, \"order\": 1}, {\"genre\": \"Rap\", \"row\": \"energy\", \"col\": \"energy\", \"Correlation\": 1.0, \"order\": 1}, {\"genre\": \"Rap\", \"row\": \"instrumentalness\", \"col\": \"energy\", \"Correlation\": -0.17984200354203808, \"order\": 1}, {\"genre\": \"Rap\", \"row\": \"liveness\", \"col\": \"energy\", \"Correlation\": 0.19474710699573428, \"order\": 1}, {\"genre\": \"Rap\", \"row\": \"loudness\", \"col\": \"energy\", \"Correlation\": 0.7084848509692652, \"order\": 1}, {\"genre\": \"Rap\", \"row\": \"speechiness\", \"col\": \"energy\", \"Correlation\": 0.020713128623234475, \"order\": 1}, {\"genre\": \"Rap\", \"row\": \"tempo\", \"col\": \"energy\", \"Correlation\": 0.019544527584863948, \"order\": 1}, {\"genre\": \"Rap\", \"row\": \"valence\", \"col\": \"energy\", \"Correlation\": 0.31736184029627057, \"order\": 1}, {\"genre\": \"Reggae\", \"row\": \"popularity\", \"col\": \"energy\", \"Correlation\": -0.005635211785738654, \"order\": 0}, {\"genre\": \"Reggae\", \"row\": \"acousticness\", \"col\": \"energy\", \"Correlation\": -0.31178077067160515, \"order\": 1}, {\"genre\": \"Reggae\", \"row\": \"danceability\", \"col\": \"energy\", \"Correlation\": -0.23873639234940086, \"order\": 1}, {\"genre\": \"Reggae\", \"row\": \"duration_ms\", \"col\": \"energy\", \"Correlation\": -0.047027433200226544, \"order\": 1}, {\"genre\": \"Reggae\", \"row\": \"energy\", \"col\": \"energy\", \"Correlation\": 1.0, \"order\": 1}, {\"genre\": \"Reggae\", \"row\": \"instrumentalness\", \"col\": \"energy\", \"Correlation\": -0.11072689439441362, \"order\": 1}, {\"genre\": \"Reggae\", \"row\": \"liveness\", \"col\": \"energy\", \"Correlation\": 0.17907540879197903, \"order\": 1}, {\"genre\": \"Reggae\", \"row\": \"loudness\", \"col\": \"energy\", \"Correlation\": 0.717437268522544, \"order\": 1}, {\"genre\": \"Reggae\", \"row\": \"speechiness\", \"col\": \"energy\", \"Correlation\": 0.005105165406476962, \"order\": 1}, {\"genre\": \"Reggae\", \"row\": \"tempo\", \"col\": \"energy\", \"Correlation\": 0.02638199544681492, \"order\": 1}, {\"genre\": \"Reggae\", \"row\": \"valence\", \"col\": \"energy\", \"Correlation\": 0.11185762469133843, \"order\": 1}, {\"genre\": \"Reggaeton\", \"row\": \"popularity\", \"col\": \"energy\", \"Correlation\": -0.09888294652725002, \"order\": 0}, {\"genre\": \"Reggaeton\", \"row\": \"acousticness\", \"col\": \"energy\", \"Correlation\": -0.21811839748757222, \"order\": 1}, {\"genre\": \"Reggaeton\", \"row\": \"danceability\", \"col\": \"energy\", \"Correlation\": -0.02594520174555222, \"order\": 1}, {\"genre\": \"Reggaeton\", \"row\": \"duration_ms\", \"col\": \"energy\", \"Correlation\": -0.004347010933479991, \"order\": 1}, {\"genre\": \"Reggaeton\", \"row\": \"energy\", \"col\": \"energy\", \"Correlation\": 1.0, \"order\": 1}, {\"genre\": \"Reggaeton\", \"row\": \"instrumentalness\", \"col\": \"energy\", \"Correlation\": 0.03305407914824703, \"order\": 1}, {\"genre\": \"Reggaeton\", \"row\": \"liveness\", \"col\": \"energy\", \"Correlation\": 0.13875473385296755, \"order\": 1}, {\"genre\": \"Reggaeton\", \"row\": \"loudness\", \"col\": \"energy\", \"Correlation\": 0.5889920956120056, \"order\": 1}, {\"genre\": \"Reggaeton\", \"row\": \"speechiness\", \"col\": \"energy\", \"Correlation\": -0.16781826933553345, \"order\": 1}, {\"genre\": \"Reggaeton\", \"row\": \"tempo\", \"col\": \"energy\", \"Correlation\": -0.04057567715360419, \"order\": 1}, {\"genre\": \"Reggaeton\", \"row\": \"valence\", \"col\": \"energy\", \"Correlation\": 0.3998992683295523, \"order\": 1}, {\"genre\": \"Rock\", \"row\": \"popularity\", \"col\": \"energy\", \"Correlation\": -0.05044028209696064, \"order\": 0}, {\"genre\": \"Rock\", \"row\": \"acousticness\", \"col\": \"energy\", \"Correlation\": -0.6653948345302843, \"order\": 1}, {\"genre\": \"Rock\", \"row\": \"danceability\", \"col\": \"energy\", \"Correlation\": -0.009643560023173632, \"order\": 1}, {\"genre\": \"Rock\", \"row\": \"duration_ms\", \"col\": \"energy\", \"Correlation\": 0.0011905044087025041, \"order\": 1}, {\"genre\": \"Rock\", \"row\": \"energy\", \"col\": \"energy\", \"Correlation\": 1.0, \"order\": 1}, {\"genre\": \"Rock\", \"row\": \"instrumentalness\", \"col\": \"energy\", \"Correlation\": -0.189672537145778, \"order\": 1}, {\"genre\": \"Rock\", \"row\": \"liveness\", \"col\": \"energy\", \"Correlation\": 0.14706631786995134, \"order\": 1}, {\"genre\": \"Rock\", \"row\": \"loudness\", \"col\": \"energy\", \"Correlation\": 0.7792927607029191, \"order\": 1}, {\"genre\": \"Rock\", \"row\": \"speechiness\", \"col\": \"energy\", \"Correlation\": 0.3198824847752172, \"order\": 1}, {\"genre\": \"Rock\", \"row\": \"tempo\", \"col\": \"energy\", \"Correlation\": 0.2141207438265255, \"order\": 1}, {\"genre\": \"Rock\", \"row\": \"valence\", \"col\": \"energy\", \"Correlation\": 0.32007463899121835, \"order\": 1}, {\"genre\": \"Ska\", \"row\": \"popularity\", \"col\": \"energy\", \"Correlation\": 0.02420058467651062, \"order\": 0}, {\"genre\": \"Ska\", \"row\": \"acousticness\", \"col\": \"energy\", \"Correlation\": -0.5274340660845626, \"order\": 1}, {\"genre\": \"Ska\", \"row\": \"danceability\", \"col\": \"energy\", \"Correlation\": -0.4955809525656167, \"order\": 1}, {\"genre\": \"Ska\", \"row\": \"duration_ms\", \"col\": \"energy\", \"Correlation\": -0.28650471112233733, \"order\": 1}, {\"genre\": \"Ska\", \"row\": \"energy\", \"col\": \"energy\", \"Correlation\": 1.0, \"order\": 1}, {\"genre\": \"Ska\", \"row\": \"instrumentalness\", \"col\": \"energy\", \"Correlation\": -0.13389776935640244, \"order\": 1}, {\"genre\": \"Ska\", \"row\": \"liveness\", \"col\": \"energy\", \"Correlation\": 0.10718726423570588, \"order\": 1}, {\"genre\": \"Ska\", \"row\": \"loudness\", \"col\": \"energy\", \"Correlation\": 0.6616963556154457, \"order\": 1}, {\"genre\": \"Ska\", \"row\": \"speechiness\", \"col\": \"energy\", \"Correlation\": 0.12850723848602882, \"order\": 1}, {\"genre\": \"Ska\", \"row\": \"tempo\", \"col\": \"energy\", \"Correlation\": 0.16877111919218912, \"order\": 1}, {\"genre\": \"Ska\", \"row\": \"valence\", \"col\": \"energy\", \"Correlation\": -0.16423495846997227, \"order\": 1}, {\"genre\": \"Soul\", \"row\": \"popularity\", \"col\": \"energy\", \"Correlation\": 0.008346084539661791, \"order\": 0}, {\"genre\": \"Soul\", \"row\": \"acousticness\", \"col\": \"energy\", \"Correlation\": -0.5753673943487517, \"order\": 1}, {\"genre\": \"Soul\", \"row\": \"danceability\", \"col\": \"energy\", \"Correlation\": 0.16243096513990143, \"order\": 1}, {\"genre\": \"Soul\", \"row\": \"duration_ms\", \"col\": \"energy\", \"Correlation\": 0.05542812152289652, \"order\": 1}, {\"genre\": \"Soul\", \"row\": \"energy\", \"col\": \"energy\", \"Correlation\": 1.0, \"order\": 1}, {\"genre\": \"Soul\", \"row\": \"instrumentalness\", \"col\": \"energy\", \"Correlation\": 0.004933408186828305, \"order\": 1}, {\"genre\": \"Soul\", \"row\": \"liveness\", \"col\": \"energy\", \"Correlation\": 0.11651607761509264, \"order\": 1}, {\"genre\": \"Soul\", \"row\": \"loudness\", \"col\": \"energy\", \"Correlation\": 0.700656641542869, \"order\": 1}, {\"genre\": \"Soul\", \"row\": \"speechiness\", \"col\": \"energy\", \"Correlation\": 0.09633922137726837, \"order\": 1}, {\"genre\": \"Soul\", \"row\": \"tempo\", \"col\": \"energy\", \"Correlation\": 0.07333113061853588, \"order\": 1}, {\"genre\": \"Soul\", \"row\": \"valence\", \"col\": \"energy\", \"Correlation\": 0.3808892258754179, \"order\": 1}, {\"genre\": \"Soundtrack\", \"row\": \"popularity\", \"col\": \"energy\", \"Correlation\": 0.03623750569349544, \"order\": 0}, {\"genre\": \"Soundtrack\", \"row\": \"acousticness\", \"col\": \"energy\", \"Correlation\": -0.6295787667221626, \"order\": 1}, {\"genre\": \"Soundtrack\", \"row\": \"danceability\", \"col\": \"energy\", \"Correlation\": 0.3352950578215547, \"order\": 1}, {\"genre\": \"Soundtrack\", \"row\": \"duration_ms\", \"col\": \"energy\", \"Correlation\": 0.08252842379630229, \"order\": 1}, {\"genre\": \"Soundtrack\", \"row\": \"energy\", \"col\": \"energy\", \"Correlation\": 1.0, \"order\": 1}, {\"genre\": \"Soundtrack\", \"row\": \"instrumentalness\", \"col\": \"energy\", \"Correlation\": -0.07218954708468117, \"order\": 1}, {\"genre\": \"Soundtrack\", \"row\": \"liveness\", \"col\": \"energy\", \"Correlation\": 0.15179791888357802, \"order\": 1}, {\"genre\": \"Soundtrack\", \"row\": \"loudness\", \"col\": \"energy\", \"Correlation\": 0.7681201421075564, \"order\": 1}, {\"genre\": \"Soundtrack\", \"row\": \"speechiness\", \"col\": \"energy\", \"Correlation\": 0.18778125899079576, \"order\": 1}, {\"genre\": \"Soundtrack\", \"row\": \"tempo\", \"col\": \"energy\", \"Correlation\": 0.23052170570649247, \"order\": 1}, {\"genre\": \"Soundtrack\", \"row\": \"valence\", \"col\": \"energy\", \"Correlation\": 0.3482548150789491, \"order\": 1}, {\"genre\": \"World\", \"row\": \"popularity\", \"col\": \"energy\", \"Correlation\": -0.016851485707500617, \"order\": 0}, {\"genre\": \"World\", \"row\": \"acousticness\", \"col\": \"energy\", \"Correlation\": -0.7364274054675599, \"order\": 1}, {\"genre\": \"World\", \"row\": \"danceability\", \"col\": \"energy\", \"Correlation\": 0.41061443106812473, \"order\": 1}, {\"genre\": \"World\", \"row\": \"duration_ms\", \"col\": \"energy\", \"Correlation\": -0.048177402811254766, \"order\": 1}, {\"genre\": \"World\", \"row\": \"energy\", \"col\": \"energy\", \"Correlation\": 1.0, \"order\": 1}, {\"genre\": \"World\", \"row\": \"instrumentalness\", \"col\": \"energy\", \"Correlation\": -0.41468223594703674, \"order\": 1}, {\"genre\": \"World\", \"row\": \"liveness\", \"col\": \"energy\", \"Correlation\": 0.34936518240911907, \"order\": 1}, {\"genre\": \"World\", \"row\": \"loudness\", \"col\": \"energy\", \"Correlation\": 0.7776174858481095, \"order\": 1}, {\"genre\": \"World\", \"row\": \"speechiness\", \"col\": \"energy\", \"Correlation\": 0.18133744566553045, \"order\": 1}, {\"genre\": \"World\", \"row\": \"tempo\", \"col\": \"energy\", \"Correlation\": 0.24624666999228087, \"order\": 1}, {\"genre\": \"World\", \"row\": \"valence\", \"col\": \"energy\", \"Correlation\": 0.4407189002632742, \"order\": 1}, {\"genre\": \"A Capella\", \"row\": \"popularity\", \"col\": \"instrumentalness\", \"Correlation\": -0.05288857057092097, \"order\": 0}, {\"genre\": \"A Capella\", \"row\": \"acousticness\", \"col\": \"instrumentalness\", \"Correlation\": 0.11905185466981594, \"order\": 1}, {\"genre\": \"A Capella\", \"row\": \"danceability\", \"col\": \"instrumentalness\", \"Correlation\": -0.12906762551312156, \"order\": 1}, {\"genre\": \"A Capella\", \"row\": \"duration_ms\", \"col\": \"instrumentalness\", \"Correlation\": -0.036806583401419686, \"order\": 1}, {\"genre\": \"A Capella\", \"row\": \"energy\", \"col\": \"instrumentalness\", \"Correlation\": -0.09168513303797984, \"order\": 1}, {\"genre\": \"A Capella\", \"row\": \"instrumentalness\", \"col\": \"instrumentalness\", \"Correlation\": 1.0, \"order\": 1}, {\"genre\": \"A Capella\", \"row\": \"liveness\", \"col\": \"instrumentalness\", \"Correlation\": -0.048118289234287404, \"order\": 1}, {\"genre\": \"A Capella\", \"row\": \"loudness\", \"col\": \"instrumentalness\", \"Correlation\": -0.07820475475820184, \"order\": 1}, {\"genre\": \"A Capella\", \"row\": \"speechiness\", \"col\": \"instrumentalness\", \"Correlation\": -0.0834273658777635, \"order\": 1}, {\"genre\": \"A Capella\", \"row\": \"tempo\", \"col\": \"instrumentalness\", \"Correlation\": -0.08361315834035178, \"order\": 1}, {\"genre\": \"A Capella\", \"row\": \"valence\", \"col\": \"instrumentalness\", \"Correlation\": -0.13501047071661965, \"order\": 1}, {\"genre\": \"Alternative\", \"row\": \"popularity\", \"col\": \"instrumentalness\", \"Correlation\": -0.04522266051080028, \"order\": 0}, {\"genre\": \"Alternative\", \"row\": \"acousticness\", \"col\": \"instrumentalness\", \"Correlation\": 0.006198975128340076, \"order\": 1}, {\"genre\": \"Alternative\", \"row\": \"danceability\", \"col\": \"instrumentalness\", \"Correlation\": -0.03558233720140672, \"order\": 1}, {\"genre\": \"Alternative\", \"row\": \"duration_ms\", \"col\": \"instrumentalness\", \"Correlation\": 0.03455046510354111, \"order\": 1}, {\"genre\": \"Alternative\", \"row\": \"energy\", \"col\": \"instrumentalness\", \"Correlation\": -0.05878530746735684, \"order\": 1}, {\"genre\": \"Alternative\", \"row\": \"instrumentalness\", \"col\": \"instrumentalness\", \"Correlation\": 1.0, \"order\": 1}, {\"genre\": \"Alternative\", \"row\": \"liveness\", \"col\": \"instrumentalness\", \"Correlation\": -0.005527998672325157, \"order\": 1}, {\"genre\": \"Alternative\", \"row\": \"loudness\", \"col\": \"instrumentalness\", \"Correlation\": -0.1472026541942368, \"order\": 1}, {\"genre\": \"Alternative\", \"row\": \"speechiness\", \"col\": \"instrumentalness\", \"Correlation\": -0.07429256015694162, \"order\": 1}, {\"genre\": \"Alternative\", \"row\": \"tempo\", \"col\": \"instrumentalness\", \"Correlation\": -0.03569489017801114, \"order\": 1}, {\"genre\": \"Alternative\", \"row\": \"valence\", \"col\": \"instrumentalness\", \"Correlation\": -0.030923726432114048, \"order\": 1}, {\"genre\": \"Blues\", \"row\": \"popularity\", \"col\": \"instrumentalness\", \"Correlation\": -0.02475788619231678, \"order\": 0}, {\"genre\": \"Blues\", \"row\": \"acousticness\", \"col\": \"instrumentalness\", \"Correlation\": 0.0025270430450332108, \"order\": 1}, {\"genre\": \"Blues\", \"row\": \"danceability\", \"col\": \"instrumentalness\", \"Correlation\": -0.047801131683616556, \"order\": 1}, {\"genre\": \"Blues\", \"row\": \"duration_ms\", \"col\": \"instrumentalness\", \"Correlation\": 0.05492361377860943, \"order\": 1}, {\"genre\": \"Blues\", \"row\": \"energy\", \"col\": \"instrumentalness\", \"Correlation\": -0.02971051870228204, \"order\": 1}, {\"genre\": \"Blues\", \"row\": \"instrumentalness\", \"col\": \"instrumentalness\", \"Correlation\": 1.0, \"order\": 1}, {\"genre\": \"Blues\", \"row\": \"liveness\", \"col\": \"instrumentalness\", \"Correlation\": -0.015597656347785134, \"order\": 1}, {\"genre\": \"Blues\", \"row\": \"loudness\", \"col\": \"instrumentalness\", \"Correlation\": -0.1421063377160458, \"order\": 1}, {\"genre\": \"Blues\", \"row\": \"speechiness\", \"col\": \"instrumentalness\", \"Correlation\": -0.08042705224668026, \"order\": 1}, {\"genre\": \"Blues\", \"row\": \"tempo\", \"col\": \"instrumentalness\", \"Correlation\": -0.00011206887200576036, \"order\": 1}, {\"genre\": \"Blues\", \"row\": \"valence\", \"col\": \"instrumentalness\", \"Correlation\": -0.0587168974747336, \"order\": 1}, {\"genre\": \"Classical\", \"row\": \"popularity\", \"col\": \"instrumentalness\", \"Correlation\": 0.15095990145964838, \"order\": 0}, {\"genre\": \"Classical\", \"row\": \"acousticness\", \"col\": \"instrumentalness\", \"Correlation\": 0.3292031099749122, \"order\": 1}, {\"genre\": \"Classical\", \"row\": \"danceability\", \"col\": \"instrumentalness\", \"Correlation\": -0.13094936439683633, \"order\": 1}, {\"genre\": \"Classical\", \"row\": \"duration_ms\", \"col\": \"instrumentalness\", \"Correlation\": 0.0435932022559263, \"order\": 1}, {\"genre\": \"Classical\", \"row\": \"energy\", \"col\": \"instrumentalness\", \"Correlation\": -0.3352255199865705, \"order\": 1}, {\"genre\": \"Classical\", \"row\": \"instrumentalness\", \"col\": \"instrumentalness\", \"Correlation\": 1.0, \"order\": 1}, {\"genre\": \"Classical\", \"row\": \"liveness\", \"col\": \"instrumentalness\", \"Correlation\": -0.2764595912055401, \"order\": 1}, {\"genre\": \"Classical\", \"row\": \"loudness\", \"col\": \"instrumentalness\", \"Correlation\": -0.3357050844333231, \"order\": 1}, {\"genre\": \"Classical\", \"row\": \"speechiness\", \"col\": \"instrumentalness\", \"Correlation\": -0.22542918600659803, \"order\": 1}, {\"genre\": \"Classical\", \"row\": \"tempo\", \"col\": \"instrumentalness\", \"Correlation\": -0.11857864154608784, \"order\": 1}, {\"genre\": \"Classical\", \"row\": \"valence\", \"col\": \"instrumentalness\", \"Correlation\": -0.10960865570891025, \"order\": 1}, {\"genre\": \"Comedy\", \"row\": \"popularity\", \"col\": \"instrumentalness\", \"Correlation\": -0.013642399148316064, \"order\": 0}, {\"genre\": \"Comedy\", \"row\": \"acousticness\", \"col\": \"instrumentalness\", \"Correlation\": 0.02272520396146375, \"order\": 1}, {\"genre\": \"Comedy\", \"row\": \"danceability\", \"col\": \"instrumentalness\", \"Correlation\": -0.03867655985328258, \"order\": 1}, {\"genre\": \"Comedy\", \"row\": \"duration_ms\", \"col\": \"instrumentalness\", \"Correlation\": -0.020172934632873767, \"order\": 1}, {\"genre\": \"Comedy\", \"row\": \"energy\", \"col\": \"instrumentalness\", \"Correlation\": -0.034280915553692684, \"order\": 1}, {\"genre\": \"Comedy\", \"row\": \"instrumentalness\", \"col\": \"instrumentalness\", \"Correlation\": 1.0, \"order\": 1}, {\"genre\": \"Comedy\", \"row\": \"liveness\", \"col\": \"instrumentalness\", \"Correlation\": -0.07157050578175536, \"order\": 1}, {\"genre\": \"Comedy\", \"row\": \"loudness\", \"col\": \"instrumentalness\", \"Correlation\": -0.02358396574868922, \"order\": 1}, {\"genre\": \"Comedy\", \"row\": \"speechiness\", \"col\": \"instrumentalness\", \"Correlation\": -0.13139634553341897, \"order\": 1}, {\"genre\": \"Comedy\", \"row\": \"tempo\", \"col\": \"instrumentalness\", \"Correlation\": 0.00351452027138462, \"order\": 1}, {\"genre\": \"Comedy\", \"row\": \"valence\", \"col\": \"instrumentalness\", \"Correlation\": -0.01697342285095471, \"order\": 1}, {\"genre\": \"Country\", \"row\": \"popularity\", \"col\": \"instrumentalness\", \"Correlation\": -0.018870636276679145, \"order\": 0}, {\"genre\": \"Country\", \"row\": \"acousticness\", \"col\": \"instrumentalness\", \"Correlation\": 0.04029211074278063, \"order\": 1}, {\"genre\": \"Country\", \"row\": \"danceability\", \"col\": \"instrumentalness\", \"Correlation\": -0.009498025636801282, \"order\": 1}, {\"genre\": \"Country\", \"row\": \"duration_ms\", \"col\": \"instrumentalness\", \"Correlation\": 0.031890937441573494, \"order\": 1}, {\"genre\": \"Country\", \"row\": \"energy\", \"col\": \"instrumentalness\", \"Correlation\": -0.018111450388335917, \"order\": 1}, {\"genre\": \"Country\", \"row\": \"instrumentalness\", \"col\": \"instrumentalness\", \"Correlation\": 1.0, \"order\": 1}, {\"genre\": \"Country\", \"row\": \"liveness\", \"col\": \"instrumentalness\", \"Correlation\": 0.017485736261908993, \"order\": 1}, {\"genre\": \"Country\", \"row\": \"loudness\", \"col\": \"instrumentalness\", \"Correlation\": -0.09034790073842536, \"order\": 1}, {\"genre\": \"Country\", \"row\": \"speechiness\", \"col\": \"instrumentalness\", \"Correlation\": -0.010869370474331057, \"order\": 1}, {\"genre\": \"Country\", \"row\": \"tempo\", \"col\": \"instrumentalness\", \"Correlation\": -0.03416015173417048, \"order\": 1}, {\"genre\": \"Country\", \"row\": \"valence\", \"col\": \"instrumentalness\", \"Correlation\": 0.012586898678277706, \"order\": 1}, {\"genre\": \"Dance\", \"row\": \"popularity\", \"col\": \"instrumentalness\", \"Correlation\": -0.07804048065672262, \"order\": 0}, {\"genre\": \"Dance\", \"row\": \"acousticness\", \"col\": \"instrumentalness\", \"Correlation\": -0.012585748581194463, \"order\": 1}, {\"genre\": \"Dance\", \"row\": \"danceability\", \"col\": \"instrumentalness\", \"Correlation\": -0.04833505877081478, \"order\": 1}, {\"genre\": \"Dance\", \"row\": \"duration_ms\", \"col\": \"instrumentalness\", \"Correlation\": 0.18334132092393363, \"order\": 1}, {\"genre\": \"Dance\", \"row\": \"energy\", \"col\": \"instrumentalness\", \"Correlation\": 0.060677471757927266, \"order\": 1}, {\"genre\": \"Dance\", \"row\": \"instrumentalness\", \"col\": \"instrumentalness\", \"Correlation\": 1.0, \"order\": 1}, {\"genre\": \"Dance\", \"row\": \"liveness\", \"col\": \"instrumentalness\", \"Correlation\": 0.03470633301668132, \"order\": 1}, {\"genre\": \"Dance\", \"row\": \"loudness\", \"col\": \"instrumentalness\", \"Correlation\": -0.13966419818286702, \"order\": 1}, {\"genre\": \"Dance\", \"row\": \"speechiness\", \"col\": \"instrumentalness\", \"Correlation\": -0.08706168287534055, \"order\": 1}, {\"genre\": \"Dance\", \"row\": \"tempo\", \"col\": \"instrumentalness\", \"Correlation\": 0.031059753224203287, \"order\": 1}, {\"genre\": \"Dance\", \"row\": \"valence\", \"col\": \"instrumentalness\", \"Correlation\": -0.04646929381918244, \"order\": 1}, {\"genre\": \"Electronic\", \"row\": \"popularity\", \"col\": \"instrumentalness\", \"Correlation\": -0.058352569732610514, \"order\": 0}, {\"genre\": \"Electronic\", \"row\": \"acousticness\", \"col\": \"instrumentalness\", \"Correlation\": 0.17626783982916416, \"order\": 1}, {\"genre\": \"Electronic\", \"row\": \"danceability\", \"col\": \"instrumentalness\", \"Correlation\": 0.03404792480254869, \"order\": 1}, {\"genre\": \"Electronic\", \"row\": \"duration_ms\", \"col\": \"instrumentalness\", \"Correlation\": 0.2159812436782326, \"order\": 1}, {\"genre\": \"Electronic\", \"row\": \"energy\", \"col\": \"instrumentalness\", \"Correlation\": -0.2091885323208596, \"order\": 1}, {\"genre\": \"Electronic\", \"row\": \"instrumentalness\", \"col\": \"instrumentalness\", \"Correlation\": 1.0, \"order\": 1}, {\"genre\": \"Electronic\", \"row\": \"liveness\", \"col\": \"instrumentalness\", \"Correlation\": -0.0821550104412527, \"order\": 1}, {\"genre\": \"Electronic\", \"row\": \"loudness\", \"col\": \"instrumentalness\", \"Correlation\": -0.4141995044471726, \"order\": 1}, {\"genre\": \"Electronic\", \"row\": \"speechiness\", \"col\": \"instrumentalness\", \"Correlation\": -0.2397591936214325, \"order\": 1}, {\"genre\": \"Electronic\", \"row\": \"tempo\", \"col\": \"instrumentalness\", \"Correlation\": -0.02278695392576628, \"order\": 1}, {\"genre\": \"Electronic\", \"row\": \"valence\", \"col\": \"instrumentalness\", \"Correlation\": -0.07972331882623446, \"order\": 1}, {\"genre\": \"Folk\", \"row\": \"popularity\", \"col\": \"instrumentalness\", \"Correlation\": -0.05203334004155729, \"order\": 0}, {\"genre\": \"Folk\", \"row\": \"acousticness\", \"col\": \"instrumentalness\", \"Correlation\": 0.0665082844197819, \"order\": 1}, {\"genre\": \"Folk\", \"row\": \"danceability\", \"col\": \"instrumentalness\", \"Correlation\": -0.11612816860531272, \"order\": 1}, {\"genre\": \"Folk\", \"row\": \"duration_ms\", \"col\": \"instrumentalness\", \"Correlation\": 0.1444947403968233, \"order\": 1}, {\"genre\": \"Folk\", \"row\": \"energy\", \"col\": \"instrumentalness\", \"Correlation\": -0.004341227697532862, \"order\": 1}, {\"genre\": \"Folk\", \"row\": \"instrumentalness\", \"col\": \"instrumentalness\", \"Correlation\": 1.0, \"order\": 1}, {\"genre\": \"Folk\", \"row\": \"liveness\", \"col\": \"instrumentalness\", \"Correlation\": -0.03771576881901609, \"order\": 1}, {\"genre\": \"Folk\", \"row\": \"loudness\", \"col\": \"instrumentalness\", \"Correlation\": -0.13876664115416118, \"order\": 1}, {\"genre\": \"Folk\", \"row\": \"speechiness\", \"col\": \"instrumentalness\", \"Correlation\": -0.0377208096534841, \"order\": 1}, {\"genre\": \"Folk\", \"row\": \"tempo\", \"col\": \"instrumentalness\", \"Correlation\": -0.006927256217844447, \"order\": 1}, {\"genre\": \"Folk\", \"row\": \"valence\", \"col\": \"instrumentalness\", \"Correlation\": -0.13990116615342088, \"order\": 1}, {\"genre\": \"Hip-Hop\", \"row\": \"popularity\", \"col\": \"instrumentalness\", \"Correlation\": -0.015978303972644374, \"order\": 0}, {\"genre\": \"Hip-Hop\", \"row\": \"acousticness\", \"col\": \"instrumentalness\", \"Correlation\": -0.012612362240366225, \"order\": 1}, {\"genre\": \"Hip-Hop\", \"row\": \"danceability\", \"col\": \"instrumentalness\", \"Correlation\": -0.054321258967841214, \"order\": 1}, {\"genre\": \"Hip-Hop\", \"row\": \"duration_ms\", \"col\": \"instrumentalness\", \"Correlation\": -0.05767986938476606, \"order\": 1}, {\"genre\": \"Hip-Hop\", \"row\": \"energy\", \"col\": \"instrumentalness\", \"Correlation\": -0.08013046459580245, \"order\": 1}, {\"genre\": \"Hip-Hop\", \"row\": \"instrumentalness\", \"col\": \"instrumentalness\", \"Correlation\": 1.0, \"order\": 1}, {\"genre\": \"Hip-Hop\", \"row\": \"liveness\", \"col\": \"instrumentalness\", \"Correlation\": -0.033753472143212254, \"order\": 1}, {\"genre\": \"Hip-Hop\", \"row\": \"loudness\", \"col\": \"instrumentalness\", \"Correlation\": -0.09906557971659835, \"order\": 1}, {\"genre\": \"Hip-Hop\", \"row\": \"speechiness\", \"col\": \"instrumentalness\", \"Correlation\": -0.09834606680788464, \"order\": 1}, {\"genre\": \"Hip-Hop\", \"row\": \"tempo\", \"col\": \"instrumentalness\", \"Correlation\": 0.022483182241321356, \"order\": 1}, {\"genre\": \"Hip-Hop\", \"row\": \"valence\", \"col\": \"instrumentalness\", \"Correlation\": -0.10941716523129948, \"order\": 1}, {\"genre\": \"Indie\", \"row\": \"popularity\", \"col\": \"instrumentalness\", \"Correlation\": -0.038258135245736596, \"order\": 0}, {\"genre\": \"Indie\", \"row\": \"acousticness\", \"col\": \"instrumentalness\", \"Correlation\": 0.05626090746899155, \"order\": 1}, {\"genre\": \"Indie\", \"row\": \"danceability\", \"col\": \"instrumentalness\", \"Correlation\": -0.06973812587975058, \"order\": 1}, {\"genre\": \"Indie\", \"row\": \"duration_ms\", \"col\": \"instrumentalness\", \"Correlation\": 0.056402581616794074, \"order\": 1}, {\"genre\": \"Indie\", \"row\": \"energy\", \"col\": \"instrumentalness\", \"Correlation\": -0.03521982684563326, \"order\": 1}, {\"genre\": \"Indie\", \"row\": \"instrumentalness\", \"col\": \"instrumentalness\", \"Correlation\": 1.0, \"order\": 1}, {\"genre\": \"Indie\", \"row\": \"liveness\", \"col\": \"instrumentalness\", \"Correlation\": 0.015595086368255535, \"order\": 1}, {\"genre\": \"Indie\", \"row\": \"loudness\", \"col\": \"instrumentalness\", \"Correlation\": -0.21660705393996585, \"order\": 1}, {\"genre\": \"Indie\", \"row\": \"speechiness\", \"col\": \"instrumentalness\", \"Correlation\": -0.08728310755907887, \"order\": 1}, {\"genre\": \"Indie\", \"row\": \"tempo\", \"col\": \"instrumentalness\", \"Correlation\": 0.02558878103787679, \"order\": 1}, {\"genre\": \"Indie\", \"row\": \"valence\", \"col\": \"instrumentalness\", \"Correlation\": -0.09138057552177266, \"order\": 1}, {\"genre\": \"Jazz\", \"row\": \"popularity\", \"col\": \"instrumentalness\", \"Correlation\": -0.11099919929140016, \"order\": 0}, {\"genre\": \"Jazz\", \"row\": \"acousticness\", \"col\": \"instrumentalness\", \"Correlation\": -0.055379318142384684, \"order\": 1}, {\"genre\": \"Jazz\", \"row\": \"danceability\", \"col\": \"instrumentalness\", \"Correlation\": 0.03316098750267006, \"order\": 1}, {\"genre\": \"Jazz\", \"row\": \"duration_ms\", \"col\": \"instrumentalness\", \"Correlation\": 0.03548752173086445, \"order\": 1}, {\"genre\": \"Jazz\", \"row\": \"energy\", \"col\": \"instrumentalness\", \"Correlation\": -0.02854243811310106, \"order\": 1}, {\"genre\": \"Jazz\", \"row\": \"instrumentalness\", \"col\": \"instrumentalness\", \"Correlation\": 1.0, \"order\": 1}, {\"genre\": \"Jazz\", \"row\": \"liveness\", \"col\": \"instrumentalness\", \"Correlation\": -0.09505846817123069, \"order\": 1}, {\"genre\": \"Jazz\", \"row\": \"loudness\", \"col\": \"instrumentalness\", \"Correlation\": -0.1618345971516764, \"order\": 1}, {\"genre\": \"Jazz\", \"row\": \"speechiness\", \"col\": \"instrumentalness\", \"Correlation\": -0.08918400277571778, \"order\": 1}, {\"genre\": \"Jazz\", \"row\": \"tempo\", \"col\": \"instrumentalness\", \"Correlation\": -0.012251628886826899, \"order\": 1}, {\"genre\": \"Jazz\", \"row\": \"valence\", \"col\": \"instrumentalness\", \"Correlation\": -0.10695799941542872, \"order\": 1}, {\"genre\": \"Movie\", \"row\": \"popularity\", \"col\": \"instrumentalness\", \"Correlation\": 0.0064855419974398035, \"order\": 0}, {\"genre\": \"Movie\", \"row\": \"acousticness\", \"col\": \"instrumentalness\", \"Correlation\": 0.2560750763201416, \"order\": 1}, {\"genre\": \"Movie\", \"row\": \"danceability\", \"col\": \"instrumentalness\", \"Correlation\": -0.3848585633365804, \"order\": 1}, {\"genre\": \"Movie\", \"row\": \"duration_ms\", \"col\": \"instrumentalness\", \"Correlation\": -0.047557476148298604, \"order\": 1}, {\"genre\": \"Movie\", \"row\": \"energy\", \"col\": \"instrumentalness\", \"Correlation\": -0.32854722622995525, \"order\": 1}, {\"genre\": \"Movie\", \"row\": \"instrumentalness\", \"col\": \"instrumentalness\", \"Correlation\": 1.0, \"order\": 1}, {\"genre\": \"Movie\", \"row\": \"liveness\", \"col\": \"instrumentalness\", \"Correlation\": -0.09925898901171065, \"order\": 1}, {\"genre\": \"Movie\", \"row\": \"loudness\", \"col\": \"instrumentalness\", \"Correlation\": -0.38576475971826507, \"order\": 1}, {\"genre\": \"Movie\", \"row\": \"speechiness\", \"col\": \"instrumentalness\", \"Correlation\": -0.1481756210994964, \"order\": 1}, {\"genre\": \"Movie\", \"row\": \"tempo\", \"col\": \"instrumentalness\", \"Correlation\": -0.10248859362859256, \"order\": 1}, {\"genre\": \"Movie\", \"row\": \"valence\", \"col\": \"instrumentalness\", \"Correlation\": -0.33987463692560893, \"order\": 1}, {\"genre\": \"Opera\", \"row\": \"popularity\", \"col\": \"instrumentalness\", \"Correlation\": -0.004144678965145578, \"order\": 0}, {\"genre\": \"Opera\", \"row\": \"acousticness\", \"col\": \"instrumentalness\", \"Correlation\": -0.13763306826245905, \"order\": 1}, {\"genre\": \"Opera\", \"row\": \"danceability\", \"col\": \"instrumentalness\", \"Correlation\": -0.20991725651126414, \"order\": 1}, {\"genre\": \"Opera\", \"row\": \"duration_ms\", \"col\": \"instrumentalness\", \"Correlation\": 0.11720463194683393, \"order\": 1}, {\"genre\": \"Opera\", \"row\": \"energy\", \"col\": \"instrumentalness\", \"Correlation\": -0.07197995623385979, \"order\": 1}, {\"genre\": \"Opera\", \"row\": \"instrumentalness\", \"col\": \"instrumentalness\", \"Correlation\": 1.0, \"order\": 1}, {\"genre\": \"Opera\", \"row\": \"liveness\", \"col\": \"instrumentalness\", \"Correlation\": -0.16302049935509938, \"order\": 1}, {\"genre\": \"Opera\", \"row\": \"loudness\", \"col\": \"instrumentalness\", \"Correlation\": -0.1549604240018077, \"order\": 1}, {\"genre\": \"Opera\", \"row\": \"speechiness\", \"col\": \"instrumentalness\", \"Correlation\": -0.15699022953629205, \"order\": 1}, {\"genre\": \"Opera\", \"row\": \"tempo\", \"col\": \"instrumentalness\", \"Correlation\": -0.003106044401267202, \"order\": 1}, {\"genre\": \"Opera\", \"row\": \"valence\", \"col\": \"instrumentalness\", \"Correlation\": 0.016698659972173322, \"order\": 1}, {\"genre\": \"Pop\", \"row\": \"popularity\", \"col\": \"instrumentalness\", \"Correlation\": -0.08808979692348368, \"order\": 0}, {\"genre\": \"Pop\", \"row\": \"acousticness\", \"col\": \"instrumentalness\", \"Correlation\": 0.182080102490088, \"order\": 1}, {\"genre\": \"Pop\", \"row\": \"danceability\", \"col\": \"instrumentalness\", \"Correlation\": -0.14955136962104168, \"order\": 1}, {\"genre\": \"Pop\", \"row\": \"duration_ms\", \"col\": \"instrumentalness\", \"Correlation\": 0.02829738016176603, \"order\": 1}, {\"genre\": \"Pop\", \"row\": \"energy\", \"col\": \"instrumentalness\", \"Correlation\": -0.14499997109942045, \"order\": 1}, {\"genre\": \"Pop\", \"row\": \"instrumentalness\", \"col\": \"instrumentalness\", \"Correlation\": 1.0, \"order\": 1}, {\"genre\": \"Pop\", \"row\": \"liveness\", \"col\": \"instrumentalness\", \"Correlation\": -0.023140139572948693, \"order\": 1}, {\"genre\": \"Pop\", \"row\": \"loudness\", \"col\": \"instrumentalness\", \"Correlation\": -0.31322501499634864, \"order\": 1}, {\"genre\": \"Pop\", \"row\": \"speechiness\", \"col\": \"instrumentalness\", \"Correlation\": -0.11206216643390646, \"order\": 1}, {\"genre\": \"Pop\", \"row\": \"tempo\", \"col\": \"instrumentalness\", \"Correlation\": -0.017878416589422255, \"order\": 1}, {\"genre\": \"Pop\", \"row\": \"valence\", \"col\": \"instrumentalness\", \"Correlation\": -0.11650309005814578, \"order\": 1}, {\"genre\": \"R&B\", \"row\": \"popularity\", \"col\": \"instrumentalness\", \"Correlation\": 0.0002331800842784098, \"order\": 0}, {\"genre\": \"R&B\", \"row\": \"acousticness\", \"col\": \"instrumentalness\", \"Correlation\": 0.0892626889844336, \"order\": 1}, {\"genre\": \"R&B\", \"row\": \"danceability\", \"col\": \"instrumentalness\", \"Correlation\": 0.0008852709285526651, \"order\": 1}, {\"genre\": \"R&B\", \"row\": \"duration_ms\", \"col\": \"instrumentalness\", \"Correlation\": -0.007862101268529738, \"order\": 1}, {\"genre\": \"R&B\", \"row\": \"energy\", \"col\": \"instrumentalness\", \"Correlation\": -0.07439263536878676, \"order\": 1}, {\"genre\": \"R&B\", \"row\": \"instrumentalness\", \"col\": \"instrumentalness\", \"Correlation\": 1.0, \"order\": 1}, {\"genre\": \"R&B\", \"row\": \"liveness\", \"col\": \"instrumentalness\", \"Correlation\": -0.02249414915887688, \"order\": 1}, {\"genre\": \"R&B\", \"row\": \"loudness\", \"col\": \"instrumentalness\", \"Correlation\": -0.211058515393107, \"order\": 1}, {\"genre\": \"R&B\", \"row\": \"speechiness\", \"col\": \"instrumentalness\", \"Correlation\": -0.05655605856682878, \"order\": 1}, {\"genre\": \"R&B\", \"row\": \"tempo\", \"col\": \"instrumentalness\", \"Correlation\": -0.004858107272632063, \"order\": 1}, {\"genre\": \"R&B\", \"row\": \"valence\", \"col\": \"instrumentalness\", \"Correlation\": -0.01931656767310518, \"order\": 1}, {\"genre\": \"Rap\", \"row\": \"popularity\", \"col\": \"instrumentalness\", \"Correlation\": 0.04120114515941217, \"order\": 0}, {\"genre\": \"Rap\", \"row\": \"acousticness\", \"col\": \"instrumentalness\", \"Correlation\": 0.13823442652498324, \"order\": 1}, {\"genre\": \"Rap\", \"row\": \"danceability\", \"col\": \"instrumentalness\", \"Correlation\": -0.04175673711482266, \"order\": 1}, {\"genre\": \"Rap\", \"row\": \"duration_ms\", \"col\": \"instrumentalness\", \"Correlation\": -0.07465988451455985, \"order\": 1}, {\"genre\": \"Rap\", \"row\": \"energy\", \"col\": \"instrumentalness\", \"Correlation\": -0.17984200354203808, \"order\": 1}, {\"genre\": \"Rap\", \"row\": \"instrumentalness\", \"col\": \"instrumentalness\", \"Correlation\": 1.0, \"order\": 1}, {\"genre\": \"Rap\", \"row\": \"liveness\", \"col\": \"instrumentalness\", \"Correlation\": -0.020248470204579167, \"order\": 1}, {\"genre\": \"Rap\", \"row\": \"loudness\", \"col\": \"instrumentalness\", \"Correlation\": -0.2387299135444112, \"order\": 1}, {\"genre\": \"Rap\", \"row\": \"speechiness\", \"col\": \"instrumentalness\", \"Correlation\": -0.13319666290303606, \"order\": 1}, {\"genre\": \"Rap\", \"row\": \"tempo\", \"col\": \"instrumentalness\", \"Correlation\": -0.005164881372699011, \"order\": 1}, {\"genre\": \"Rap\", \"row\": \"valence\", \"col\": \"instrumentalness\", \"Correlation\": -0.09125529563901276, \"order\": 1}, {\"genre\": \"Reggae\", \"row\": \"popularity\", \"col\": \"instrumentalness\", \"Correlation\": -0.052665059719801996, \"order\": 0}, {\"genre\": \"Reggae\", \"row\": \"acousticness\", \"col\": \"instrumentalness\", \"Correlation\": -0.015016777152209582, \"order\": 1}, {\"genre\": \"Reggae\", \"row\": \"danceability\", \"col\": \"instrumentalness\", \"Correlation\": 0.021891902491140227, \"order\": 1}, {\"genre\": \"Reggae\", \"row\": \"duration_ms\", \"col\": \"instrumentalness\", \"Correlation\": 0.05762974406209138, \"order\": 1}, {\"genre\": \"Reggae\", \"row\": \"energy\", \"col\": \"instrumentalness\", \"Correlation\": -0.11072689439441362, \"order\": 1}, {\"genre\": \"Reggae\", \"row\": \"instrumentalness\", \"col\": \"instrumentalness\", \"Correlation\": 1.0, \"order\": 1}, {\"genre\": \"Reggae\", \"row\": \"liveness\", \"col\": \"instrumentalness\", \"Correlation\": -0.017932492952835482, \"order\": 1}, {\"genre\": \"Reggae\", \"row\": \"loudness\", \"col\": \"instrumentalness\", \"Correlation\": -0.1956079094547146, \"order\": 1}, {\"genre\": \"Reggae\", \"row\": \"speechiness\", \"col\": \"instrumentalness\", \"Correlation\": -0.09390874129406337, \"order\": 1}, {\"genre\": \"Reggae\", \"row\": \"tempo\", \"col\": \"instrumentalness\", \"Correlation\": 0.013771356749871148, \"order\": 1}, {\"genre\": \"Reggae\", \"row\": \"valence\", \"col\": \"instrumentalness\", \"Correlation\": -0.04317550133745921, \"order\": 1}, {\"genre\": \"Reggaeton\", \"row\": \"popularity\", \"col\": \"instrumentalness\", \"Correlation\": -0.012685674925705962, \"order\": 0}, {\"genre\": \"Reggaeton\", \"row\": \"acousticness\", \"col\": \"instrumentalness\", \"Correlation\": -0.04813515982892095, \"order\": 1}, {\"genre\": \"Reggaeton\", \"row\": \"danceability\", \"col\": \"instrumentalness\", \"Correlation\": 0.03849468328046548, \"order\": 1}, {\"genre\": \"Reggaeton\", \"row\": \"duration_ms\", \"col\": \"instrumentalness\", \"Correlation\": -0.0323570301325774, \"order\": 1}, {\"genre\": \"Reggaeton\", \"row\": \"energy\", \"col\": \"instrumentalness\", \"Correlation\": 0.03305407914824703, \"order\": 1}, {\"genre\": \"Reggaeton\", \"row\": \"instrumentalness\", \"col\": \"instrumentalness\", \"Correlation\": 1.0, \"order\": 1}, {\"genre\": \"Reggaeton\", \"row\": \"liveness\", \"col\": \"instrumentalness\", \"Correlation\": 0.004142748991141894, \"order\": 1}, {\"genre\": \"Reggaeton\", \"row\": \"loudness\", \"col\": \"instrumentalness\", \"Correlation\": -0.0023107908007988127, \"order\": 1}, {\"genre\": \"Reggaeton\", \"row\": \"speechiness\", \"col\": \"instrumentalness\", \"Correlation\": -0.04171606386908841, \"order\": 1}, {\"genre\": \"Reggaeton\", \"row\": \"tempo\", \"col\": \"instrumentalness\", \"Correlation\": 0.008104846228892989, \"order\": 1}, {\"genre\": \"Reggaeton\", \"row\": \"valence\", \"col\": \"instrumentalness\", \"Correlation\": -0.044295879708600834, \"order\": 1}, {\"genre\": \"Rock\", \"row\": \"popularity\", \"col\": \"instrumentalness\", \"Correlation\": -0.05647647571553367, \"order\": 0}, {\"genre\": \"Rock\", \"row\": \"acousticness\", \"col\": \"instrumentalness\", \"Correlation\": 0.169966772478979, \"order\": 1}, {\"genre\": \"Rock\", \"row\": \"danceability\", \"col\": \"instrumentalness\", \"Correlation\": -0.20256559755788822, \"order\": 1}, {\"genre\": \"Rock\", \"row\": \"duration_ms\", \"col\": \"instrumentalness\", \"Correlation\": 0.1073719346970002, \"order\": 1}, {\"genre\": \"Rock\", \"row\": \"energy\", \"col\": \"instrumentalness\", \"Correlation\": -0.189672537145778, \"order\": 1}, {\"genre\": \"Rock\", \"row\": \"instrumentalness\", \"col\": \"instrumentalness\", \"Correlation\": 1.0, \"order\": 1}, {\"genre\": \"Rock\", \"row\": \"liveness\", \"col\": \"instrumentalness\", \"Correlation\": -0.017418705862548043, \"order\": 1}, {\"genre\": \"Rock\", \"row\": \"loudness\", \"col\": \"instrumentalness\", \"Correlation\": -0.30636894657048197, \"order\": 1}, {\"genre\": \"Rock\", \"row\": \"speechiness\", \"col\": \"instrumentalness\", \"Correlation\": -0.030744760913243716, \"order\": 1}, {\"genre\": \"Rock\", \"row\": \"tempo\", \"col\": \"instrumentalness\", \"Correlation\": -0.06554682839965206, \"order\": 1}, {\"genre\": \"Rock\", \"row\": \"valence\", \"col\": \"instrumentalness\", \"Correlation\": -0.24381042760836916, \"order\": 1}, {\"genre\": \"Ska\", \"row\": \"popularity\", \"col\": \"instrumentalness\", \"Correlation\": -0.058385785115816824, \"order\": 0}, {\"genre\": \"Ska\", \"row\": \"acousticness\", \"col\": \"instrumentalness\", \"Correlation\": 0.08222174615711912, \"order\": 1}, {\"genre\": \"Ska\", \"row\": \"danceability\", \"col\": \"instrumentalness\", \"Correlation\": 0.09048021625946587, \"order\": 1}, {\"genre\": \"Ska\", \"row\": \"duration_ms\", \"col\": \"instrumentalness\", \"Correlation\": 0.04154528385902793, \"order\": 1}, {\"genre\": \"Ska\", \"row\": \"energy\", \"col\": \"instrumentalness\", \"Correlation\": -0.13389776935640244, \"order\": 1}, {\"genre\": \"Ska\", \"row\": \"instrumentalness\", \"col\": \"instrumentalness\", \"Correlation\": 1.0, \"order\": 1}, {\"genre\": \"Ska\", \"row\": \"liveness\", \"col\": \"instrumentalness\", \"Correlation\": -0.036466346220910655, \"order\": 1}, {\"genre\": \"Ska\", \"row\": \"loudness\", \"col\": \"instrumentalness\", \"Correlation\": -0.16095287814056738, \"order\": 1}, {\"genre\": \"Ska\", \"row\": \"speechiness\", \"col\": \"instrumentalness\", \"Correlation\": -0.030325640689127437, \"order\": 1}, {\"genre\": \"Ska\", \"row\": \"tempo\", \"col\": \"instrumentalness\", \"Correlation\": -0.0530067894393599, \"order\": 1}, {\"genre\": \"Ska\", \"row\": \"valence\", \"col\": \"instrumentalness\", \"Correlation\": 0.0035678294610385023, \"order\": 1}, {\"genre\": \"Soul\", \"row\": \"popularity\", \"col\": \"instrumentalness\", \"Correlation\": 0.04343832995809452, \"order\": 0}, {\"genre\": \"Soul\", \"row\": \"acousticness\", \"col\": \"instrumentalness\", \"Correlation\": 0.02391949155941231, \"order\": 1}, {\"genre\": \"Soul\", \"row\": \"danceability\", \"col\": \"instrumentalness\", \"Correlation\": 0.006407784478475024, \"order\": 1}, {\"genre\": \"Soul\", \"row\": \"duration_ms\", \"col\": \"instrumentalness\", \"Correlation\": 0.04256500331492339, \"order\": 1}, {\"genre\": \"Soul\", \"row\": \"energy\", \"col\": \"instrumentalness\", \"Correlation\": 0.004933408186828305, \"order\": 1}, {\"genre\": \"Soul\", \"row\": \"instrumentalness\", \"col\": \"instrumentalness\", \"Correlation\": 1.0, \"order\": 1}, {\"genre\": \"Soul\", \"row\": \"liveness\", \"col\": \"instrumentalness\", \"Correlation\": -0.04301721350939709, \"order\": 1}, {\"genre\": \"Soul\", \"row\": \"loudness\", \"col\": \"instrumentalness\", \"Correlation\": -0.12959772853455337, \"order\": 1}, {\"genre\": \"Soul\", \"row\": \"speechiness\", \"col\": \"instrumentalness\", \"Correlation\": -0.0659119191600803, \"order\": 1}, {\"genre\": \"Soul\", \"row\": \"tempo\", \"col\": \"instrumentalness\", \"Correlation\": 0.014404247538258015, \"order\": 1}, {\"genre\": \"Soul\", \"row\": \"valence\", \"col\": \"instrumentalness\", \"Correlation\": -0.16282318684797273, \"order\": 1}, {\"genre\": \"Soundtrack\", \"row\": \"popularity\", \"col\": \"instrumentalness\", \"Correlation\": -0.003446270914828821, \"order\": 0}, {\"genre\": \"Soundtrack\", \"row\": \"acousticness\", \"col\": \"instrumentalness\", \"Correlation\": 0.06262286082830941, \"order\": 1}, {\"genre\": \"Soundtrack\", \"row\": \"danceability\", \"col\": \"instrumentalness\", \"Correlation\": -0.15411026909432565, \"order\": 1}, {\"genre\": \"Soundtrack\", \"row\": \"duration_ms\", \"col\": \"instrumentalness\", \"Correlation\": 0.014601803855297787, \"order\": 1}, {\"genre\": \"Soundtrack\", \"row\": \"energy\", \"col\": \"instrumentalness\", \"Correlation\": -0.07218954708468117, \"order\": 1}, {\"genre\": \"Soundtrack\", \"row\": \"instrumentalness\", \"col\": \"instrumentalness\", \"Correlation\": 1.0, \"order\": 1}, {\"genre\": \"Soundtrack\", \"row\": \"liveness\", \"col\": \"instrumentalness\", \"Correlation\": -0.11120880870214002, \"order\": 1}, {\"genre\": \"Soundtrack\", \"row\": \"loudness\", \"col\": \"instrumentalness\", \"Correlation\": -0.13151266581499588, \"order\": 1}, {\"genre\": \"Soundtrack\", \"row\": \"speechiness\", \"col\": \"instrumentalness\", \"Correlation\": -0.10432788581086527, \"order\": 1}, {\"genre\": \"Soundtrack\", \"row\": \"tempo\", \"col\": \"instrumentalness\", \"Correlation\": -0.034314387721642046, \"order\": 1}, {\"genre\": \"Soundtrack\", \"row\": \"valence\", \"col\": \"instrumentalness\", \"Correlation\": -0.2334521989100107, \"order\": 1}, {\"genre\": \"World\", \"row\": \"popularity\", \"col\": \"instrumentalness\", \"Correlation\": -0.13174840642734695, \"order\": 0}, {\"genre\": \"World\", \"row\": \"acousticness\", \"col\": \"instrumentalness\", \"Correlation\": 0.44027751669163434, \"order\": 1}, {\"genre\": \"World\", \"row\": \"danceability\", \"col\": \"instrumentalness\", \"Correlation\": -0.16180531251144026, \"order\": 1}, {\"genre\": \"World\", \"row\": \"duration_ms\", \"col\": \"instrumentalness\", \"Correlation\": 0.08213362961169081, \"order\": 1}, {\"genre\": \"World\", \"row\": \"energy\", \"col\": \"instrumentalness\", \"Correlation\": -0.41468223594703674, \"order\": 1}, {\"genre\": \"World\", \"row\": \"instrumentalness\", \"col\": \"instrumentalness\", \"Correlation\": 1.0, \"order\": 1}, {\"genre\": \"World\", \"row\": \"liveness\", \"col\": \"instrumentalness\", \"Correlation\": -0.20979944381112528, \"order\": 1}, {\"genre\": \"World\", \"row\": \"loudness\", \"col\": \"instrumentalness\", \"Correlation\": -0.6579386625342859, \"order\": 1}, {\"genre\": \"World\", \"row\": \"speechiness\", \"col\": \"instrumentalness\", \"Correlation\": 0.03154708986948237, \"order\": 1}, {\"genre\": \"World\", \"row\": \"tempo\", \"col\": \"instrumentalness\", \"Correlation\": -0.19244447975329543, \"order\": 1}, {\"genre\": \"World\", \"row\": \"valence\", \"col\": \"instrumentalness\", \"Correlation\": -0.09735546665354468, \"order\": 1}, {\"genre\": \"A Capella\", \"row\": \"popularity\", \"col\": \"liveness\", \"Correlation\": 0.04157941640036958, \"order\": 0}, {\"genre\": \"A Capella\", \"row\": \"acousticness\", \"col\": \"liveness\", \"Correlation\": 0.02740158415877502, \"order\": 1}, {\"genre\": \"A Capella\", \"row\": \"danceability\", \"col\": \"liveness\", \"Correlation\": 0.07792040861007654, \"order\": 1}, {\"genre\": \"A Capella\", \"row\": \"duration_ms\", \"col\": \"liveness\", \"Correlation\": -0.12010595536142384, \"order\": 1}, {\"genre\": \"A Capella\", \"row\": \"energy\", \"col\": \"liveness\", \"Correlation\": -0.0053747114880992675, \"order\": 1}, {\"genre\": \"A Capella\", \"row\": \"instrumentalness\", \"col\": \"liveness\", \"Correlation\": -0.048118289234287404, \"order\": 1}, {\"genre\": \"A Capella\", \"row\": \"liveness\", \"col\": \"liveness\", \"Correlation\": 1.0, \"order\": 1}, {\"genre\": \"A Capella\", \"row\": \"loudness\", \"col\": \"liveness\", \"Correlation\": 0.028509386356893075, \"order\": 1}, {\"genre\": \"A Capella\", \"row\": \"speechiness\", \"col\": \"liveness\", \"Correlation\": -0.005267949950346678, \"order\": 1}, {\"genre\": \"A Capella\", \"row\": \"tempo\", \"col\": \"liveness\", \"Correlation\": 0.005491421548919964, \"order\": 1}, {\"genre\": \"A Capella\", \"row\": \"valence\", \"col\": \"liveness\", \"Correlation\": 0.13995407179641656, \"order\": 1}, {\"genre\": \"Alternative\", \"row\": \"popularity\", \"col\": \"liveness\", \"Correlation\": -0.03728510824304608, \"order\": 0}, {\"genre\": \"Alternative\", \"row\": \"acousticness\", \"col\": \"liveness\", \"Correlation\": -0.06883277767122385, \"order\": 1}, {\"genre\": \"Alternative\", \"row\": \"danceability\", \"col\": \"liveness\", \"Correlation\": -0.08835474156952519, \"order\": 1}, {\"genre\": \"Alternative\", \"row\": \"duration_ms\", \"col\": \"liveness\", \"Correlation\": -0.031117173261720695, \"order\": 1}, {\"genre\": \"Alternative\", \"row\": \"energy\", \"col\": \"liveness\", \"Correlation\": 0.14833294905865343, \"order\": 1}, {\"genre\": \"Alternative\", \"row\": \"instrumentalness\", \"col\": \"liveness\", \"Correlation\": -0.005527998672325157, \"order\": 1}, {\"genre\": \"Alternative\", \"row\": \"liveness\", \"col\": \"liveness\", \"Correlation\": 1.0, \"order\": 1}, {\"genre\": \"Alternative\", \"row\": \"loudness\", \"col\": \"liveness\", \"Correlation\": 0.09685771058484671, \"order\": 1}, {\"genre\": \"Alternative\", \"row\": \"speechiness\", \"col\": \"liveness\", \"Correlation\": 0.10380581217794753, \"order\": 1}, {\"genre\": \"Alternative\", \"row\": \"tempo\", \"col\": \"liveness\", \"Correlation\": 0.005895556406389366, \"order\": 1}, {\"genre\": \"Alternative\", \"row\": \"valence\", \"col\": \"liveness\", \"Correlation\": 0.04971836264505916, \"order\": 1}, {\"genre\": \"Blues\", \"row\": \"popularity\", \"col\": \"liveness\", \"Correlation\": -0.025043226748699694, \"order\": 0}, {\"genre\": \"Blues\", \"row\": \"acousticness\", \"col\": \"liveness\", \"Correlation\": -0.06496509692938021, \"order\": 1}, {\"genre\": \"Blues\", \"row\": \"danceability\", \"col\": \"liveness\", \"Correlation\": -0.09012924422494535, \"order\": 1}, {\"genre\": \"Blues\", \"row\": \"duration_ms\", \"col\": \"liveness\", \"Correlation\": -0.018624032771367895, \"order\": 1}, {\"genre\": \"Blues\", \"row\": \"energy\", \"col\": \"liveness\", \"Correlation\": 0.13740040401976933, \"order\": 1}, {\"genre\": \"Blues\", \"row\": \"instrumentalness\", \"col\": \"liveness\", \"Correlation\": -0.015597656347785134, \"order\": 1}, {\"genre\": \"Blues\", \"row\": \"liveness\", \"col\": \"liveness\", \"Correlation\": 1.0, \"order\": 1}, {\"genre\": \"Blues\", \"row\": \"loudness\", \"col\": \"liveness\", \"Correlation\": 0.09058445892409535, \"order\": 1}, {\"genre\": \"Blues\", \"row\": \"speechiness\", \"col\": \"liveness\", \"Correlation\": 0.06163141549592022, \"order\": 1}, {\"genre\": \"Blues\", \"row\": \"tempo\", \"col\": \"liveness\", \"Correlation\": 0.0019882397478638604, \"order\": 1}, {\"genre\": \"Blues\", \"row\": \"valence\", \"col\": \"liveness\", \"Correlation\": 0.045218016952553716, \"order\": 1}, {\"genre\": \"Classical\", \"row\": \"popularity\", \"col\": \"liveness\", \"Correlation\": -0.22004740748228774, \"order\": 0}, {\"genre\": \"Classical\", \"row\": \"acousticness\", \"col\": \"liveness\", \"Correlation\": -0.13022412292455735, \"order\": 1}, {\"genre\": \"Classical\", \"row\": \"danceability\", \"col\": \"liveness\", \"Correlation\": 0.07225414279976629, \"order\": 1}, {\"genre\": \"Classical\", \"row\": \"duration_ms\", \"col\": \"liveness\", \"Correlation\": 0.003903865672501766, \"order\": 1}, {\"genre\": \"Classical\", \"row\": \"energy\", \"col\": \"liveness\", \"Correlation\": 0.20682816510207583, \"order\": 1}, {\"genre\": \"Classical\", \"row\": \"instrumentalness\", \"col\": \"liveness\", \"Correlation\": -0.2764595912055401, \"order\": 1}, {\"genre\": \"Classical\", \"row\": \"liveness\", \"col\": \"liveness\", \"Correlation\": 1.0, \"order\": 1}, {\"genre\": \"Classical\", \"row\": \"loudness\", \"col\": \"liveness\", \"Correlation\": 0.19202922543916306, \"order\": 1}, {\"genre\": \"Classical\", \"row\": \"speechiness\", \"col\": \"liveness\", \"Correlation\": 0.27512295105162093, \"order\": 1}, {\"genre\": \"Classical\", \"row\": \"tempo\", \"col\": \"liveness\", \"Correlation\": 0.04836905869444292, \"order\": 1}, {\"genre\": \"Classical\", \"row\": \"valence\", \"col\": \"liveness\", \"Correlation\": 0.10945753727435396, \"order\": 1}, {\"genre\": \"Comedy\", \"row\": \"popularity\", \"col\": \"liveness\", \"Correlation\": 0.01775786642070331, \"order\": 0}, {\"genre\": \"Comedy\", \"row\": \"acousticness\", \"col\": \"liveness\", \"Correlation\": 0.22724806604976416, \"order\": 1}, {\"genre\": \"Comedy\", \"row\": \"danceability\", \"col\": \"liveness\", \"Correlation\": -0.2247545590913609, \"order\": 1}, {\"genre\": \"Comedy\", \"row\": \"duration_ms\", \"col\": \"liveness\", \"Correlation\": -0.02742327945349975, \"order\": 1}, {\"genre\": \"Comedy\", \"row\": \"energy\", \"col\": \"liveness\", \"Correlation\": 0.35744068512831206, \"order\": 1}, {\"genre\": \"Comedy\", \"row\": \"instrumentalness\", \"col\": \"liveness\", \"Correlation\": -0.07157050578175536, \"order\": 1}, {\"genre\": \"Comedy\", \"row\": \"liveness\", \"col\": \"liveness\", \"Correlation\": 1.0, \"order\": 1}, {\"genre\": \"Comedy\", \"row\": \"loudness\", \"col\": \"liveness\", \"Correlation\": 0.06486846729419847, \"order\": 1}, {\"genre\": \"Comedy\", \"row\": \"speechiness\", \"col\": \"liveness\", \"Correlation\": 0.42581128449555716, \"order\": 1}, {\"genre\": \"Comedy\", \"row\": \"tempo\", \"col\": \"liveness\", \"Correlation\": -0.09010612769330928, \"order\": 1}, {\"genre\": \"Comedy\", \"row\": \"valence\", \"col\": \"liveness\", \"Correlation\": -0.22087243117803748, \"order\": 1}, {\"genre\": \"Country\", \"row\": \"popularity\", \"col\": \"liveness\", \"Correlation\": -0.07125380625524126, \"order\": 0}, {\"genre\": \"Country\", \"row\": \"acousticness\", \"col\": \"liveness\", \"Correlation\": -0.04445867207636043, \"order\": 1}, {\"genre\": \"Country\", \"row\": \"danceability\", \"col\": \"liveness\", \"Correlation\": -0.07234838800283598, \"order\": 1}, {\"genre\": \"Country\", \"row\": \"duration_ms\", \"col\": \"liveness\", \"Correlation\": 0.04804781036400437, \"order\": 1}, {\"genre\": \"Country\", \"row\": \"energy\", \"col\": \"liveness\", \"Correlation\": 0.1567476251899118, \"order\": 1}, {\"genre\": \"Country\", \"row\": \"instrumentalness\", \"col\": \"liveness\", \"Correlation\": 0.017485736261908993, \"order\": 1}, {\"genre\": \"Country\", \"row\": \"liveness\", \"col\": \"liveness\", \"Correlation\": 1.0, \"order\": 1}, {\"genre\": \"Country\", \"row\": \"loudness\", \"col\": \"liveness\", \"Correlation\": 0.056335801300191515, \"order\": 1}, {\"genre\": \"Country\", \"row\": \"speechiness\", \"col\": \"liveness\", \"Correlation\": 0.15915847138652237, \"order\": 1}, {\"genre\": \"Country\", \"row\": \"tempo\", \"col\": \"liveness\", \"Correlation\": 0.01684922803576025, \"order\": 1}, {\"genre\": \"Country\", \"row\": \"valence\", \"col\": \"liveness\", \"Correlation\": 0.08036355571555236, \"order\": 1}, {\"genre\": \"Dance\", \"row\": \"popularity\", \"col\": \"liveness\", \"Correlation\": -0.05342965313430804, \"order\": 0}, {\"genre\": \"Dance\", \"row\": \"acousticness\", \"col\": \"liveness\", \"Correlation\": -0.07368147405156873, \"order\": 1}, {\"genre\": \"Dance\", \"row\": \"danceability\", \"col\": \"liveness\", \"Correlation\": -0.09289419378469194, \"order\": 1}, {\"genre\": \"Dance\", \"row\": \"duration_ms\", \"col\": \"liveness\", \"Correlation\": 0.037079311227100356, \"order\": 1}, {\"genre\": \"Dance\", \"row\": \"energy\", \"col\": \"liveness\", \"Correlation\": 0.16045164183635433, \"order\": 1}, {\"genre\": \"Dance\", \"row\": \"instrumentalness\", \"col\": \"liveness\", \"Correlation\": 0.03470633301668132, \"order\": 1}, {\"genre\": \"Dance\", \"row\": \"liveness\", \"col\": \"liveness\", \"Correlation\": 1.0, \"order\": 1}, {\"genre\": \"Dance\", \"row\": \"loudness\", \"col\": \"liveness\", \"Correlation\": 0.08000070823112548, \"order\": 1}, {\"genre\": \"Dance\", \"row\": \"speechiness\", \"col\": \"liveness\", \"Correlation\": 0.07531469848459213, \"order\": 1}, {\"genre\": \"Dance\", \"row\": \"tempo\", \"col\": \"liveness\", \"Correlation\": 0.03571745710397358, \"order\": 1}, {\"genre\": \"Dance\", \"row\": \"valence\", \"col\": \"liveness\", \"Correlation\": 0.0129502259796281, \"order\": 1}, {\"genre\": \"Electronic\", \"row\": \"popularity\", \"col\": \"liveness\", \"Correlation\": -0.057518209632836964, \"order\": 0}, {\"genre\": \"Electronic\", \"row\": \"acousticness\", \"col\": \"liveness\", \"Correlation\": -0.09431572434102783, \"order\": 1}, {\"genre\": \"Electronic\", \"row\": \"danceability\", \"col\": \"liveness\", \"Correlation\": -0.12307170751614334, \"order\": 1}, {\"genre\": \"Electronic\", \"row\": \"duration_ms\", \"col\": \"liveness\", \"Correlation\": -0.0674555282816021, \"order\": 1}, {\"genre\": \"Electronic\", \"row\": \"energy\", \"col\": \"liveness\", \"Correlation\": 0.2071514441368312, \"order\": 1}, {\"genre\": \"Electronic\", \"row\": \"instrumentalness\", \"col\": \"liveness\", \"Correlation\": -0.0821550104412527, \"order\": 1}, {\"genre\": \"Electronic\", \"row\": \"liveness\", \"col\": \"liveness\", \"Correlation\": 1.0, \"order\": 1}, {\"genre\": \"Electronic\", \"row\": \"loudness\", \"col\": \"liveness\", \"Correlation\": 0.16907164573320374, \"order\": 1}, {\"genre\": \"Electronic\", \"row\": \"speechiness\", \"col\": \"liveness\", \"Correlation\": 0.15022331192247404, \"order\": 1}, {\"genre\": \"Electronic\", \"row\": \"tempo\", \"col\": \"liveness\", \"Correlation\": 0.0397346209915718, \"order\": 1}, {\"genre\": \"Electronic\", \"row\": \"valence\", \"col\": \"liveness\", \"Correlation\": -0.032733711596267, \"order\": 1}, {\"genre\": \"Folk\", \"row\": \"popularity\", \"col\": \"liveness\", \"Correlation\": -0.06849751052425143, \"order\": 0}, {\"genre\": \"Folk\", \"row\": \"acousticness\", \"col\": \"liveness\", \"Correlation\": -0.10306224336460433, \"order\": 1}, {\"genre\": \"Folk\", \"row\": \"danceability\", \"col\": \"liveness\", \"Correlation\": -0.07720787053402302, \"order\": 1}, {\"genre\": \"Folk\", \"row\": \"duration_ms\", \"col\": \"liveness\", \"Correlation\": 0.04877929738921589, \"order\": 1}, {\"genre\": \"Folk\", \"row\": \"energy\", \"col\": \"liveness\", \"Correlation\": 0.1597383482072667, \"order\": 1}, {\"genre\": \"Folk\", \"row\": \"instrumentalness\", \"col\": \"liveness\", \"Correlation\": -0.03771576881901609, \"order\": 1}, {\"genre\": \"Folk\", \"row\": \"liveness\", \"col\": \"liveness\", \"Correlation\": 1.0, \"order\": 1}, {\"genre\": \"Folk\", \"row\": \"loudness\", \"col\": \"liveness\", \"Correlation\": 0.09157708893838168, \"order\": 1}, {\"genre\": \"Folk\", \"row\": \"speechiness\", \"col\": \"liveness\", \"Correlation\": 0.11200867303301977, \"order\": 1}, {\"genre\": \"Folk\", \"row\": \"tempo\", \"col\": \"liveness\", \"Correlation\": 0.01584762853636845, \"order\": 1}, {\"genre\": \"Folk\", \"row\": \"valence\", \"col\": \"liveness\", \"Correlation\": 0.09121089734303314, \"order\": 1}, {\"genre\": \"Hip-Hop\", \"row\": \"popularity\", \"col\": \"liveness\", \"Correlation\": -0.1036744701207771, \"order\": 0}, {\"genre\": \"Hip-Hop\", \"row\": \"acousticness\", \"col\": \"liveness\", \"Correlation\": -0.04113090965832065, \"order\": 1}, {\"genre\": \"Hip-Hop\", \"row\": \"danceability\", \"col\": \"liveness\", \"Correlation\": -0.18313292951367832, \"order\": 1}, {\"genre\": \"Hip-Hop\", \"row\": \"duration_ms\", \"col\": \"liveness\", \"Correlation\": 0.08557902130929254, \"order\": 1}, {\"genre\": \"Hip-Hop\", \"row\": \"energy\", \"col\": \"liveness\", \"Correlation\": 0.18958695471643963, \"order\": 1}, {\"genre\": \"Hip-Hop\", \"row\": \"instrumentalness\", \"col\": \"liveness\", \"Correlation\": -0.033753472143212254, \"order\": 1}, {\"genre\": \"Hip-Hop\", \"row\": \"liveness\", \"col\": \"liveness\", \"Correlation\": 1.0, \"order\": 1}, {\"genre\": \"Hip-Hop\", \"row\": \"loudness\", \"col\": \"liveness\", \"Correlation\": 0.06336299155729314, \"order\": 1}, {\"genre\": \"Hip-Hop\", \"row\": \"speechiness\", \"col\": \"liveness\", \"Correlation\": 0.11493878770512489, \"order\": 1}, {\"genre\": \"Hip-Hop\", \"row\": \"tempo\", \"col\": \"liveness\", \"Correlation\": -0.06042843659035642, \"order\": 1}, {\"genre\": \"Hip-Hop\", \"row\": \"valence\", \"col\": \"liveness\", \"Correlation\": 0.05772840401339625, \"order\": 1}, {\"genre\": \"Indie\", \"row\": \"popularity\", \"col\": \"liveness\", \"Correlation\": -0.07436740495989713, \"order\": 0}, {\"genre\": \"Indie\", \"row\": \"acousticness\", \"col\": \"liveness\", \"Correlation\": -0.08257559746302934, \"order\": 1}, {\"genre\": \"Indie\", \"row\": \"danceability\", \"col\": \"liveness\", \"Correlation\": -0.063873579895378, \"order\": 1}, {\"genre\": \"Indie\", \"row\": \"duration_ms\", \"col\": \"liveness\", \"Correlation\": -0.04814728988894929, \"order\": 1}, {\"genre\": \"Indie\", \"row\": \"energy\", \"col\": \"liveness\", \"Correlation\": 0.11612927126646902, \"order\": 1}, {\"genre\": \"Indie\", \"row\": \"instrumentalness\", \"col\": \"liveness\", \"Correlation\": 0.015595086368255535, \"order\": 1}, {\"genre\": \"Indie\", \"row\": \"liveness\", \"col\": \"liveness\", \"Correlation\": 1.0, \"order\": 1}, {\"genre\": \"Indie\", \"row\": \"loudness\", \"col\": \"liveness\", \"Correlation\": 0.0624972633744959, \"order\": 1}, {\"genre\": \"Indie\", \"row\": \"speechiness\", \"col\": \"liveness\", \"Correlation\": 0.08149989488875246, \"order\": 1}, {\"genre\": \"Indie\", \"row\": \"tempo\", \"col\": \"liveness\", \"Correlation\": 0.02500383384762854, \"order\": 1}, {\"genre\": \"Indie\", \"row\": \"valence\", \"col\": \"liveness\", \"Correlation\": 0.046612013748128116, \"order\": 1}, {\"genre\": \"Jazz\", \"row\": \"popularity\", \"col\": \"liveness\", \"Correlation\": -0.05469219764979394, \"order\": 0}, {\"genre\": \"Jazz\", \"row\": \"acousticness\", \"col\": \"liveness\", \"Correlation\": -0.037005845090872326, \"order\": 1}, {\"genre\": \"Jazz\", \"row\": \"danceability\", \"col\": \"liveness\", \"Correlation\": -0.09370588059910653, \"order\": 1}, {\"genre\": \"Jazz\", \"row\": \"duration_ms\", \"col\": \"liveness\", \"Correlation\": 0.08924052074129757, \"order\": 1}, {\"genre\": \"Jazz\", \"row\": \"energy\", \"col\": \"liveness\", \"Correlation\": 0.12353377215411918, \"order\": 1}, {\"genre\": \"Jazz\", \"row\": \"instrumentalness\", \"col\": \"liveness\", \"Correlation\": -0.09505846817123069, \"order\": 1}, {\"genre\": \"Jazz\", \"row\": \"liveness\", \"col\": \"liveness\", \"Correlation\": 1.0, \"order\": 1}, {\"genre\": \"Jazz\", \"row\": \"loudness\", \"col\": \"liveness\", \"Correlation\": 0.06388496129599955, \"order\": 1}, {\"genre\": \"Jazz\", \"row\": \"speechiness\", \"col\": \"liveness\", \"Correlation\": 0.12205258124441161, \"order\": 1}, {\"genre\": \"Jazz\", \"row\": \"tempo\", \"col\": \"liveness\", \"Correlation\": 0.015437040438851173, \"order\": 1}, {\"genre\": \"Jazz\", \"row\": \"valence\", \"col\": \"liveness\", \"Correlation\": 0.035609719659991323, \"order\": 1}, {\"genre\": \"Movie\", \"row\": \"popularity\", \"col\": \"liveness\", \"Correlation\": -0.056075566919435695, \"order\": 0}, {\"genre\": \"Movie\", \"row\": \"acousticness\", \"col\": \"liveness\", \"Correlation\": -0.07723959725143176, \"order\": 1}, {\"genre\": \"Movie\", \"row\": \"danceability\", \"col\": \"liveness\", \"Correlation\": -0.0005208277184571627, \"order\": 1}, {\"genre\": \"Movie\", \"row\": \"duration_ms\", \"col\": \"liveness\", \"Correlation\": 0.04745625787761545, \"order\": 1}, {\"genre\": \"Movie\", \"row\": \"energy\", \"col\": \"liveness\", \"Correlation\": 0.19160130846383225, \"order\": 1}, {\"genre\": \"Movie\", \"row\": \"instrumentalness\", \"col\": \"liveness\", \"Correlation\": -0.09925898901171065, \"order\": 1}, {\"genre\": \"Movie\", \"row\": \"liveness\", \"col\": \"liveness\", \"Correlation\": 1.0, \"order\": 1}, {\"genre\": \"Movie\", \"row\": \"loudness\", \"col\": \"liveness\", \"Correlation\": 0.07829040779848377, \"order\": 1}, {\"genre\": \"Movie\", \"row\": \"speechiness\", \"col\": \"liveness\", \"Correlation\": 0.23671269111799065, \"order\": 1}, {\"genre\": \"Movie\", \"row\": \"tempo\", \"col\": \"liveness\", \"Correlation\": 0.031076714309584363, \"order\": 1}, {\"genre\": \"Movie\", \"row\": \"valence\", \"col\": \"liveness\", \"Correlation\": 0.07297129742407713, \"order\": 1}, {\"genre\": \"Opera\", \"row\": \"popularity\", \"col\": \"liveness\", \"Correlation\": -0.03552163937436453, \"order\": 0}, {\"genre\": \"Opera\", \"row\": \"acousticness\", \"col\": \"liveness\", \"Correlation\": -0.03295398349815727, \"order\": 1}, {\"genre\": \"Opera\", \"row\": \"danceability\", \"col\": \"liveness\", \"Correlation\": 0.1278509664375507, \"order\": 1}, {\"genre\": \"Opera\", \"row\": \"duration_ms\", \"col\": \"liveness\", \"Correlation\": -0.10623838066628463, \"order\": 1}, {\"genre\": \"Opera\", \"row\": \"energy\", \"col\": \"liveness\", \"Correlation\": 0.25526204992378954, \"order\": 1}, {\"genre\": \"Opera\", \"row\": \"instrumentalness\", \"col\": \"liveness\", \"Correlation\": -0.16302049935509938, \"order\": 1}, {\"genre\": \"Opera\", \"row\": \"liveness\", \"col\": \"liveness\", \"Correlation\": 1.0, \"order\": 1}, {\"genre\": \"Opera\", \"row\": \"loudness\", \"col\": \"liveness\", \"Correlation\": 0.1119844244166768, \"order\": 1}, {\"genre\": \"Opera\", \"row\": \"speechiness\", \"col\": \"liveness\", \"Correlation\": 0.22533784146229183, \"order\": 1}, {\"genre\": \"Opera\", \"row\": \"tempo\", \"col\": \"liveness\", \"Correlation\": -0.015660500554359236, \"order\": 1}, {\"genre\": \"Opera\", \"row\": \"valence\", \"col\": \"liveness\", \"Correlation\": 0.13558454238851222, \"order\": 1}, {\"genre\": \"Pop\", \"row\": \"popularity\", \"col\": \"liveness\", \"Correlation\": -0.035048824083277974, \"order\": 0}, {\"genre\": \"Pop\", \"row\": \"acousticness\", \"col\": \"liveness\", \"Correlation\": -0.11964473354695561, \"order\": 1}, {\"genre\": \"Pop\", \"row\": \"danceability\", \"col\": \"liveness\", \"Correlation\": -0.05122161146651961, \"order\": 1}, {\"genre\": \"Pop\", \"row\": \"duration_ms\", \"col\": \"liveness\", \"Correlation\": 0.027632184959673005, \"order\": 1}, {\"genre\": \"Pop\", \"row\": \"energy\", \"col\": \"liveness\", \"Correlation\": 0.18695053725489133, \"order\": 1}, {\"genre\": \"Pop\", \"row\": \"instrumentalness\", \"col\": \"liveness\", \"Correlation\": -0.023140139572948693, \"order\": 1}, {\"genre\": \"Pop\", \"row\": \"liveness\", \"col\": \"liveness\", \"Correlation\": 1.0, \"order\": 1}, {\"genre\": \"Pop\", \"row\": \"loudness\", \"col\": \"liveness\", \"Correlation\": 0.11399816649740527, \"order\": 1}, {\"genre\": \"Pop\", \"row\": \"speechiness\", \"col\": \"liveness\", \"Correlation\": 0.12183413453998478, \"order\": 1}, {\"genre\": \"Pop\", \"row\": \"tempo\", \"col\": \"liveness\", \"Correlation\": 0.028632574780277243, \"order\": 1}, {\"genre\": \"Pop\", \"row\": \"valence\", \"col\": \"liveness\", \"Correlation\": 0.05343330551783136, \"order\": 1}, {\"genre\": \"R&B\", \"row\": \"popularity\", \"col\": \"liveness\", \"Correlation\": -0.04493898072438597, \"order\": 0}, {\"genre\": \"R&B\", \"row\": \"acousticness\", \"col\": \"liveness\", \"Correlation\": -0.05502037293757404, \"order\": 1}, {\"genre\": \"R&B\", \"row\": \"danceability\", \"col\": \"liveness\", \"Correlation\": -0.11346828268917501, \"order\": 1}, {\"genre\": \"R&B\", \"row\": \"duration_ms\", \"col\": \"liveness\", \"Correlation\": 0.03511488735815063, \"order\": 1}, {\"genre\": \"R&B\", \"row\": \"energy\", \"col\": \"liveness\", \"Correlation\": 0.1574239697525717, \"order\": 1}, {\"genre\": \"R&B\", \"row\": \"instrumentalness\", \"col\": \"liveness\", \"Correlation\": -0.02249414915887688, \"order\": 1}, {\"genre\": \"R&B\", \"row\": \"liveness\", \"col\": \"liveness\", \"Correlation\": 1.0, \"order\": 1}, {\"genre\": \"R&B\", \"row\": \"loudness\", \"col\": \"liveness\", \"Correlation\": 0.0668859848476611, \"order\": 1}, {\"genre\": \"R&B\", \"row\": \"speechiness\", \"col\": \"liveness\", \"Correlation\": 0.07634980789628835, \"order\": 1}, {\"genre\": \"R&B\", \"row\": \"tempo\", \"col\": \"liveness\", \"Correlation\": -0.008954348582230284, \"order\": 1}, {\"genre\": \"R&B\", \"row\": \"valence\", \"col\": \"liveness\", \"Correlation\": 0.051218658964197056, \"order\": 1}, {\"genre\": \"Rap\", \"row\": \"popularity\", \"col\": \"liveness\", \"Correlation\": -0.07618677054986284, \"order\": 0}, {\"genre\": \"Rap\", \"row\": \"acousticness\", \"col\": \"liveness\", \"Correlation\": -0.03971543926717942, \"order\": 1}, {\"genre\": \"Rap\", \"row\": \"danceability\", \"col\": \"liveness\", \"Correlation\": -0.17309257451818838, \"order\": 1}, {\"genre\": \"Rap\", \"row\": \"duration_ms\", \"col\": \"liveness\", \"Correlation\": 0.08170539582839681, \"order\": 1}, {\"genre\": \"Rap\", \"row\": \"energy\", \"col\": \"liveness\", \"Correlation\": 0.19474710699573428, \"order\": 1}, {\"genre\": \"Rap\", \"row\": \"instrumentalness\", \"col\": \"liveness\", \"Correlation\": -0.020248470204579167, \"order\": 1}, {\"genre\": \"Rap\", \"row\": \"liveness\", \"col\": \"liveness\", \"Correlation\": 1.0, \"order\": 1}, {\"genre\": \"Rap\", \"row\": \"loudness\", \"col\": \"liveness\", \"Correlation\": 0.08642885240899852, \"order\": 1}, {\"genre\": \"Rap\", \"row\": \"speechiness\", \"col\": \"liveness\", \"Correlation\": 0.1062481360233807, \"order\": 1}, {\"genre\": \"Rap\", \"row\": \"tempo\", \"col\": \"liveness\", \"Correlation\": -0.0012023208157948377, \"order\": 1}, {\"genre\": \"Rap\", \"row\": \"valence\", \"col\": \"liveness\", \"Correlation\": 0.06165203293939601, \"order\": 1}, {\"genre\": \"Reggae\", \"row\": \"popularity\", \"col\": \"liveness\", \"Correlation\": -0.020852822998887584, \"order\": 0}, {\"genre\": \"Reggae\", \"row\": \"acousticness\", \"col\": \"liveness\", \"Correlation\": 0.025354069359346424, \"order\": 1}, {\"genre\": \"Reggae\", \"row\": \"danceability\", \"col\": \"liveness\", \"Correlation\": -0.2254774460760145, \"order\": 1}, {\"genre\": \"Reggae\", \"row\": \"duration_ms\", \"col\": \"liveness\", \"Correlation\": 0.1326969368475954, \"order\": 1}, {\"genre\": \"Reggae\", \"row\": \"energy\", \"col\": \"liveness\", \"Correlation\": 0.17907540879197903, \"order\": 1}, {\"genre\": \"Reggae\", \"row\": \"instrumentalness\", \"col\": \"liveness\", \"Correlation\": -0.017932492952835482, \"order\": 1}, {\"genre\": \"Reggae\", \"row\": \"liveness\", \"col\": \"liveness\", \"Correlation\": 1.0, \"order\": 1}, {\"genre\": \"Reggae\", \"row\": \"loudness\", \"col\": \"liveness\", \"Correlation\": 0.05604889730292262, \"order\": 1}, {\"genre\": \"Reggae\", \"row\": \"speechiness\", \"col\": \"liveness\", \"Correlation\": 0.01326525602860895, \"order\": 1}, {\"genre\": \"Reggae\", \"row\": \"tempo\", \"col\": \"liveness\", \"Correlation\": -0.021077824691664634, \"order\": 1}, {\"genre\": \"Reggae\", \"row\": \"valence\", \"col\": \"liveness\", \"Correlation\": -0.07227581577284146, \"order\": 1}, {\"genre\": \"Reggaeton\", \"row\": \"popularity\", \"col\": \"liveness\", \"Correlation\": -0.0785508609613241, \"order\": 0}, {\"genre\": \"Reggaeton\", \"row\": \"acousticness\", \"col\": \"liveness\", \"Correlation\": -0.029188930523381822, \"order\": 1}, {\"genre\": \"Reggaeton\", \"row\": \"danceability\", \"col\": \"liveness\", \"Correlation\": -0.13155697202995764, \"order\": 1}, {\"genre\": \"Reggaeton\", \"row\": \"duration_ms\", \"col\": \"liveness\", \"Correlation\": 0.06871466127267052, \"order\": 1}, {\"genre\": \"Reggaeton\", \"row\": \"energy\", \"col\": \"liveness\", \"Correlation\": 0.13875473385296755, \"order\": 1}, {\"genre\": \"Reggaeton\", \"row\": \"instrumentalness\", \"col\": \"liveness\", \"Correlation\": 0.004142748991141894, \"order\": 1}, {\"genre\": \"Reggaeton\", \"row\": \"liveness\", \"col\": \"liveness\", \"Correlation\": 1.0, \"order\": 1}, {\"genre\": \"Reggaeton\", \"row\": \"loudness\", \"col\": \"liveness\", \"Correlation\": 0.0386570918460271, \"order\": 1}, {\"genre\": \"Reggaeton\", \"row\": \"speechiness\", \"col\": \"liveness\", \"Correlation\": 0.07446428792173497, \"order\": 1}, {\"genre\": \"Reggaeton\", \"row\": \"tempo\", \"col\": \"liveness\", \"Correlation\": -0.012648807759200636, \"order\": 1}, {\"genre\": \"Reggaeton\", \"row\": \"valence\", \"col\": \"liveness\", \"Correlation\": -0.0024851374750347586, \"order\": 1}, {\"genre\": \"Rock\", \"row\": \"popularity\", \"col\": \"liveness\", \"Correlation\": -0.015860740255770642, \"order\": 0}, {\"genre\": \"Rock\", \"row\": \"acousticness\", \"col\": \"liveness\", \"Correlation\": -0.05778453402360593, \"order\": 1}, {\"genre\": \"Rock\", \"row\": \"danceability\", \"col\": \"liveness\", \"Correlation\": -0.12762887386645966, \"order\": 1}, {\"genre\": \"Rock\", \"row\": \"duration_ms\", \"col\": \"liveness\", \"Correlation\": -0.0036700618698035817, \"order\": 1}, {\"genre\": \"Rock\", \"row\": \"energy\", \"col\": \"liveness\", \"Correlation\": 0.14706631786995134, \"order\": 1}, {\"genre\": \"Rock\", \"row\": \"instrumentalness\", \"col\": \"liveness\", \"Correlation\": -0.017418705862548043, \"order\": 1}, {\"genre\": \"Rock\", \"row\": \"liveness\", \"col\": \"liveness\", \"Correlation\": 1.0, \"order\": 1}, {\"genre\": \"Rock\", \"row\": \"loudness\", \"col\": \"liveness\", \"Correlation\": 0.07917677363981351, \"order\": 1}, {\"genre\": \"Rock\", \"row\": \"speechiness\", \"col\": \"liveness\", \"Correlation\": 0.15068490001440157, \"order\": 1}, {\"genre\": \"Rock\", \"row\": \"tempo\", \"col\": \"liveness\", \"Correlation\": 0.03873900134624026, \"order\": 1}, {\"genre\": \"Rock\", \"row\": \"valence\", \"col\": \"liveness\", \"Correlation\": -0.017397445851506405, \"order\": 1}, {\"genre\": \"Ska\", \"row\": \"popularity\", \"col\": \"liveness\", \"Correlation\": 0.08272917875619748, \"order\": 0}, {\"genre\": \"Ska\", \"row\": \"acousticness\", \"col\": \"liveness\", \"Correlation\": 0.01877644839248743, \"order\": 1}, {\"genre\": \"Ska\", \"row\": \"danceability\", \"col\": \"liveness\", \"Correlation\": -0.15816671904406093, \"order\": 1}, {\"genre\": \"Ska\", \"row\": \"duration_ms\", \"col\": \"liveness\", \"Correlation\": 0.0413066630262132, \"order\": 1}, {\"genre\": \"Ska\", \"row\": \"energy\", \"col\": \"liveness\", \"Correlation\": 0.10718726423570588, \"order\": 1}, {\"genre\": \"Ska\", \"row\": \"instrumentalness\", \"col\": \"liveness\", \"Correlation\": -0.036466346220910655, \"order\": 1}, {\"genre\": \"Ska\", \"row\": \"liveness\", \"col\": \"liveness\", \"Correlation\": 1.0, \"order\": 1}, {\"genre\": \"Ska\", \"row\": \"loudness\", \"col\": \"liveness\", \"Correlation\": 0.004100934869781682, \"order\": 1}, {\"genre\": \"Ska\", \"row\": \"speechiness\", \"col\": \"liveness\", \"Correlation\": 0.15666579751393175, \"order\": 1}, {\"genre\": \"Ska\", \"row\": \"tempo\", \"col\": \"liveness\", \"Correlation\": -0.014639030959322858, \"order\": 1}, {\"genre\": \"Ska\", \"row\": \"valence\", \"col\": \"liveness\", \"Correlation\": -0.1733927647327037, \"order\": 1}, {\"genre\": \"Soul\", \"row\": \"popularity\", \"col\": \"liveness\", \"Correlation\": -0.06258076039821206, \"order\": 0}, {\"genre\": \"Soul\", \"row\": \"acousticness\", \"col\": \"liveness\", \"Correlation\": -0.019774389209639354, \"order\": 1}, {\"genre\": \"Soul\", \"row\": \"danceability\", \"col\": \"liveness\", \"Correlation\": -0.12253377343001792, \"order\": 1}, {\"genre\": \"Soul\", \"row\": \"duration_ms\", \"col\": \"liveness\", \"Correlation\": 0.0221830427737401, \"order\": 1}, {\"genre\": \"Soul\", \"row\": \"energy\", \"col\": \"liveness\", \"Correlation\": 0.11651607761509264, \"order\": 1}, {\"genre\": \"Soul\", \"row\": \"instrumentalness\", \"col\": \"liveness\", \"Correlation\": -0.04301721350939709, \"order\": 1}, {\"genre\": \"Soul\", \"row\": \"liveness\", \"col\": \"liveness\", \"Correlation\": 1.0, \"order\": 1}, {\"genre\": \"Soul\", \"row\": \"loudness\", \"col\": \"liveness\", \"Correlation\": 0.0535867347304406, \"order\": 1}, {\"genre\": \"Soul\", \"row\": \"speechiness\", \"col\": \"liveness\", \"Correlation\": 0.06504075951298081, \"order\": 1}, {\"genre\": \"Soul\", \"row\": \"tempo\", \"col\": \"liveness\", \"Correlation\": 0.00462146832123039, \"order\": 1}, {\"genre\": \"Soul\", \"row\": \"valence\", \"col\": \"liveness\", \"Correlation\": 0.055455785817188796, \"order\": 1}, {\"genre\": \"Soundtrack\", \"row\": \"popularity\", \"col\": \"liveness\", \"Correlation\": 0.011882170873352903, \"order\": 0}, {\"genre\": \"Soundtrack\", \"row\": \"acousticness\", \"col\": \"liveness\", \"Correlation\": -0.11024520904128161, \"order\": 1}, {\"genre\": \"Soundtrack\", \"row\": \"danceability\", \"col\": \"liveness\", \"Correlation\": 0.05437132850265156, \"order\": 1}, {\"genre\": \"Soundtrack\", \"row\": \"duration_ms\", \"col\": \"liveness\", \"Correlation\": 0.021833702456059447, \"order\": 1}, {\"genre\": \"Soundtrack\", \"row\": \"energy\", \"col\": \"liveness\", \"Correlation\": 0.15179791888357802, \"order\": 1}, {\"genre\": \"Soundtrack\", \"row\": \"instrumentalness\", \"col\": \"liveness\", \"Correlation\": -0.11120880870214002, \"order\": 1}, {\"genre\": \"Soundtrack\", \"row\": \"liveness\", \"col\": \"liveness\", \"Correlation\": 1.0, \"order\": 1}, {\"genre\": \"Soundtrack\", \"row\": \"loudness\", \"col\": \"liveness\", \"Correlation\": 0.14119710369033409, \"order\": 1}, {\"genre\": \"Soundtrack\", \"row\": \"speechiness\", \"col\": \"liveness\", \"Correlation\": 0.08646782135118769, \"order\": 1}, {\"genre\": \"Soundtrack\", \"row\": \"tempo\", \"col\": \"liveness\", \"Correlation\": 0.03576484254904791, \"order\": 1}, {\"genre\": \"Soundtrack\", \"row\": \"valence\", \"col\": \"liveness\", \"Correlation\": 0.11558842524587905, \"order\": 1}, {\"genre\": \"World\", \"row\": \"popularity\", \"col\": \"liveness\", \"Correlation\": 0.04470886696456533, \"order\": 0}, {\"genre\": \"World\", \"row\": \"acousticness\", \"col\": \"liveness\", \"Correlation\": -0.27394219407944326, \"order\": 1}, {\"genre\": \"World\", \"row\": \"danceability\", \"col\": \"liveness\", \"Correlation\": -0.015280769364674358, \"order\": 1}, {\"genre\": \"World\", \"row\": \"duration_ms\", \"col\": \"liveness\", \"Correlation\": 0.009328033287988865, \"order\": 1}, {\"genre\": \"World\", \"row\": \"energy\", \"col\": \"liveness\", \"Correlation\": 0.34936518240911907, \"order\": 1}, {\"genre\": \"World\", \"row\": \"instrumentalness\", \"col\": \"liveness\", \"Correlation\": -0.20979944381112528, \"order\": 1}, {\"genre\": \"World\", \"row\": \"liveness\", \"col\": \"liveness\", \"Correlation\": 1.0, \"order\": 1}, {\"genre\": \"World\", \"row\": \"loudness\", \"col\": \"liveness\", \"Correlation\": 0.25129788196591263, \"order\": 1}, {\"genre\": \"World\", \"row\": \"speechiness\", \"col\": \"liveness\", \"Correlation\": 0.14757413575351372, \"order\": 1}, {\"genre\": \"World\", \"row\": \"tempo\", \"col\": \"liveness\", \"Correlation\": 0.07620111849503208, \"order\": 1}, {\"genre\": \"World\", \"row\": \"valence\", \"col\": \"liveness\", \"Correlation\": 0.02548533683041299, \"order\": 1}, {\"genre\": \"A Capella\", \"row\": \"popularity\", \"col\": \"loudness\", \"Correlation\": 0.14353044519965863, \"order\": 0}, {\"genre\": \"A Capella\", \"row\": \"acousticness\", \"col\": \"loudness\", \"Correlation\": -0.7029474991069554, \"order\": 1}, {\"genre\": \"A Capella\", \"row\": \"danceability\", \"col\": \"loudness\", \"Correlation\": 0.46448768224029907, \"order\": 1}, {\"genre\": \"A Capella\", \"row\": \"duration_ms\", \"col\": \"loudness\", \"Correlation\": 0.07992011063662297, \"order\": 1}, {\"genre\": \"A Capella\", \"row\": \"energy\", \"col\": \"loudness\", \"Correlation\": 0.8314471061102126, \"order\": 1}, {\"genre\": \"A Capella\", \"row\": \"instrumentalness\", \"col\": \"loudness\", \"Correlation\": -0.07820475475820184, \"order\": 1}, {\"genre\": \"A Capella\", \"row\": \"liveness\", \"col\": \"loudness\", \"Correlation\": 0.028509386356893075, \"order\": 1}, {\"genre\": \"A Capella\", \"row\": \"loudness\", \"col\": \"loudness\", \"Correlation\": 1.0, \"order\": 1}, {\"genre\": \"A Capella\", \"row\": \"speechiness\", \"col\": \"loudness\", \"Correlation\": 0.22796237820480564, \"order\": 1}, {\"genre\": \"A Capella\", \"row\": \"tempo\", \"col\": \"loudness\", \"Correlation\": 0.12771252742668962, \"order\": 1}, {\"genre\": \"A Capella\", \"row\": \"valence\", \"col\": \"loudness\", \"Correlation\": 0.6039283765770537, \"order\": 1}, {\"genre\": \"Alternative\", \"row\": \"popularity\", \"col\": \"loudness\", \"Correlation\": 0.037731512965958065, \"order\": 0}, {\"genre\": \"Alternative\", \"row\": \"acousticness\", \"col\": \"loudness\", \"Correlation\": -0.5817613126539898, \"order\": 1}, {\"genre\": \"Alternative\", \"row\": \"danceability\", \"col\": \"loudness\", \"Correlation\": -0.166039839983523, \"order\": 1}, {\"genre\": \"Alternative\", \"row\": \"duration_ms\", \"col\": \"loudness\", \"Correlation\": -0.07232069133922207, \"order\": 1}, {\"genre\": \"Alternative\", \"row\": \"energy\", \"col\": \"loudness\", \"Correlation\": 0.7856238888007766, \"order\": 1}, {\"genre\": \"Alternative\", \"row\": \"instrumentalness\", \"col\": \"loudness\", \"Correlation\": -0.1472026541942368, \"order\": 1}, {\"genre\": \"Alternative\", \"row\": \"liveness\", \"col\": \"loudness\", \"Correlation\": 0.09685771058484671, \"order\": 1}, {\"genre\": \"Alternative\", \"row\": \"loudness\", \"col\": \"loudness\", \"Correlation\": 1.0, \"order\": 1}, {\"genre\": \"Alternative\", \"row\": \"speechiness\", \"col\": \"loudness\", \"Correlation\": -0.0988114242460249, \"order\": 1}, {\"genre\": \"Alternative\", \"row\": \"tempo\", \"col\": \"loudness\", \"Correlation\": 0.15543887986079796, \"order\": 1}, {\"genre\": \"Alternative\", \"row\": \"valence\", \"col\": \"loudness\", \"Correlation\": 0.19194876960212934, \"order\": 1}, {\"genre\": \"Blues\", \"row\": \"popularity\", \"col\": \"loudness\", \"Correlation\": -0.01885407345873003, \"order\": 0}, {\"genre\": \"Blues\", \"row\": \"acousticness\", \"col\": \"loudness\", \"Correlation\": -0.5405509139914012, \"order\": 1}, {\"genre\": \"Blues\", \"row\": \"danceability\", \"col\": \"loudness\", \"Correlation\": -0.18516667938534692, \"order\": 1}, {\"genre\": \"Blues\", \"row\": \"duration_ms\", \"col\": \"loudness\", \"Correlation\": -0.06280207508660125, \"order\": 1}, {\"genre\": \"Blues\", \"row\": \"energy\", \"col\": \"loudness\", \"Correlation\": 0.7723405609161055, \"order\": 1}, {\"genre\": \"Blues\", \"row\": \"instrumentalness\", \"col\": \"loudness\", \"Correlation\": -0.1421063377160458, \"order\": 1}, {\"genre\": \"Blues\", \"row\": \"liveness\", \"col\": \"loudness\", \"Correlation\": 0.09058445892409535, \"order\": 1}, {\"genre\": \"Blues\", \"row\": \"loudness\", \"col\": \"loudness\", \"Correlation\": 1.0, \"order\": 1}, {\"genre\": \"Blues\", \"row\": \"speechiness\", \"col\": \"loudness\", \"Correlation\": -0.06854609106059692, \"order\": 1}, {\"genre\": \"Blues\", \"row\": \"tempo\", \"col\": \"loudness\", \"Correlation\": 0.16632692830863544, \"order\": 1}, {\"genre\": \"Blues\", \"row\": \"valence\", \"col\": \"loudness\", \"Correlation\": 0.16461235063911112, \"order\": 1}, {\"genre\": \"Classical\", \"row\": \"popularity\", \"col\": \"loudness\", \"Correlation\": 0.07904250090228375, \"order\": 0}, {\"genre\": \"Classical\", \"row\": \"acousticness\", \"col\": \"loudness\", \"Correlation\": -0.6312019332886719, \"order\": 1}, {\"genre\": \"Classical\", \"row\": \"danceability\", \"col\": \"loudness\", \"Correlation\": 0.25885911596586164, \"order\": 1}, {\"genre\": \"Classical\", \"row\": \"duration_ms\", \"col\": \"loudness\", \"Correlation\": 0.07079230266495704, \"order\": 1}, {\"genre\": \"Classical\", \"row\": \"energy\", \"col\": \"loudness\", \"Correlation\": 0.8071523067343327, \"order\": 1}, {\"genre\": \"Classical\", \"row\": \"instrumentalness\", \"col\": \"loudness\", \"Correlation\": -0.3357050844333231, \"order\": 1}, {\"genre\": \"Classical\", \"row\": \"liveness\", \"col\": \"loudness\", \"Correlation\": 0.19202922543916306, \"order\": 1}, {\"genre\": \"Classical\", \"row\": \"loudness\", \"col\": \"loudness\", \"Correlation\": 1.0, \"order\": 1}, {\"genre\": \"Classical\", \"row\": \"speechiness\", \"col\": \"loudness\", \"Correlation\": 0.06503898574015132, \"order\": 1}, {\"genre\": \"Classical\", \"row\": \"tempo\", \"col\": \"loudness\", \"Correlation\": 0.24979011231196793, \"order\": 1}, {\"genre\": \"Classical\", \"row\": \"valence\", \"col\": \"loudness\", \"Correlation\": 0.2747192833186448, \"order\": 1}, {\"genre\": \"Comedy\", \"row\": \"popularity\", \"col\": \"loudness\", \"Correlation\": 0.21440203984133233, \"order\": 0}, {\"genre\": \"Comedy\", \"row\": \"acousticness\", \"col\": \"loudness\", \"Correlation\": -0.0753370270438821, \"order\": 1}, {\"genre\": \"Comedy\", \"row\": \"danceability\", \"col\": \"loudness\", \"Correlation\": -0.0396454241269325, \"order\": 1}, {\"genre\": \"Comedy\", \"row\": \"duration_ms\", \"col\": \"loudness\", \"Correlation\": 0.038800941226235244, \"order\": 1}, {\"genre\": \"Comedy\", \"row\": \"energy\", \"col\": \"loudness\", \"Correlation\": 0.6790252493834628, \"order\": 1}, {\"genre\": \"Comedy\", \"row\": \"instrumentalness\", \"col\": \"loudness\", \"Correlation\": -0.02358396574868922, \"order\": 1}, {\"genre\": \"Comedy\", \"row\": \"liveness\", \"col\": \"loudness\", \"Correlation\": 0.06486846729419847, \"order\": 1}, {\"genre\": \"Comedy\", \"row\": \"loudness\", \"col\": \"loudness\", \"Correlation\": 1.0, \"order\": 1}, {\"genre\": \"Comedy\", \"row\": \"speechiness\", \"col\": \"loudness\", \"Correlation\": -0.13908688597755353, \"order\": 1}, {\"genre\": \"Comedy\", \"row\": \"tempo\", \"col\": \"loudness\", \"Correlation\": 0.021780177793370246, \"order\": 1}, {\"genre\": \"Comedy\", \"row\": \"valence\", \"col\": \"loudness\", \"Correlation\": 0.05924261896345622, \"order\": 1}, {\"genre\": \"Country\", \"row\": \"popularity\", \"col\": \"loudness\", \"Correlation\": 0.05850089242569388, \"order\": 0}, {\"genre\": \"Country\", \"row\": \"acousticness\", \"col\": \"loudness\", \"Correlation\": -0.5243942842088058, \"order\": 1}, {\"genre\": \"Country\", \"row\": \"danceability\", \"col\": \"loudness\", \"Correlation\": -0.08861720631573096, \"order\": 1}, {\"genre\": \"Country\", \"row\": \"duration_ms\", \"col\": \"loudness\", \"Correlation\": 0.019637806578063802, \"order\": 1}, {\"genre\": \"Country\", \"row\": \"energy\", \"col\": \"loudness\", \"Correlation\": 0.7614113256395463, \"order\": 1}, {\"genre\": \"Country\", \"row\": \"instrumentalness\", \"col\": \"loudness\", \"Correlation\": -0.09034790073842536, \"order\": 1}, {\"genre\": \"Country\", \"row\": \"liveness\", \"col\": \"loudness\", \"Correlation\": 0.056335801300191515, \"order\": 1}, {\"genre\": \"Country\", \"row\": \"loudness\", \"col\": \"loudness\", \"Correlation\": 1.0, \"order\": 1}, {\"genre\": \"Country\", \"row\": \"speechiness\", \"col\": \"loudness\", \"Correlation\": 0.024941048193286956, \"order\": 1}, {\"genre\": \"Country\", \"row\": \"tempo\", \"col\": \"loudness\", \"Correlation\": 0.17384217719605874, \"order\": 1}, {\"genre\": \"Country\", \"row\": \"valence\", \"col\": \"loudness\", \"Correlation\": 0.1358024631820378, \"order\": 1}, {\"genre\": \"Dance\", \"row\": \"popularity\", \"col\": \"loudness\", \"Correlation\": 0.046978670503280646, \"order\": 0}, {\"genre\": \"Dance\", \"row\": \"acousticness\", \"col\": \"loudness\", \"Correlation\": -0.32347906136452587, \"order\": 1}, {\"genre\": \"Dance\", \"row\": \"danceability\", \"col\": \"loudness\", \"Correlation\": -0.004251915412446624, \"order\": 1}, {\"genre\": \"Dance\", \"row\": \"duration_ms\", \"col\": \"loudness\", \"Correlation\": -0.21778958522150105, \"order\": 1}, {\"genre\": \"Dance\", \"row\": \"energy\", \"col\": \"loudness\", \"Correlation\": 0.6253376261981983, \"order\": 1}, {\"genre\": \"Dance\", \"row\": \"instrumentalness\", \"col\": \"loudness\", \"Correlation\": -0.13966419818286702, \"order\": 1}, {\"genre\": \"Dance\", \"row\": \"liveness\", \"col\": \"loudness\", \"Correlation\": 0.08000070823112548, \"order\": 1}, {\"genre\": \"Dance\", \"row\": \"loudness\", \"col\": \"loudness\", \"Correlation\": 1.0, \"order\": 1}, {\"genre\": \"Dance\", \"row\": \"speechiness\", \"col\": \"loudness\", \"Correlation\": 0.031561679976508515, \"order\": 1}, {\"genre\": \"Dance\", \"row\": \"tempo\", \"col\": \"loudness\", \"Correlation\": 0.05153659551605683, \"order\": 1}, {\"genre\": \"Dance\", \"row\": \"valence\", \"col\": \"loudness\", \"Correlation\": 0.11013066425319103, \"order\": 1}, {\"genre\": \"Electronic\", \"row\": \"popularity\", \"col\": \"loudness\", \"Correlation\": -0.014567355883472063, \"order\": 0}, {\"genre\": \"Electronic\", \"row\": \"acousticness\", \"col\": \"loudness\", \"Correlation\": -0.5036528858396995, \"order\": 1}, {\"genre\": \"Electronic\", \"row\": \"danceability\", \"col\": \"loudness\", \"Correlation\": -0.020909629786097107, \"order\": 1}, {\"genre\": \"Electronic\", \"row\": \"duration_ms\", \"col\": \"loudness\", \"Correlation\": -0.24231325943026957, \"order\": 1}, {\"genre\": \"Electronic\", \"row\": \"energy\", \"col\": \"loudness\", \"Correlation\": 0.7583649545386315, \"order\": 1}, {\"genre\": \"Electronic\", \"row\": \"instrumentalness\", \"col\": \"loudness\", \"Correlation\": -0.4141995044471726, \"order\": 1}, {\"genre\": \"Electronic\", \"row\": \"liveness\", \"col\": \"loudness\", \"Correlation\": 0.16907164573320374, \"order\": 1}, {\"genre\": \"Electronic\", \"row\": \"loudness\", \"col\": \"loudness\", \"Correlation\": 1.0, \"order\": 1}, {\"genre\": \"Electronic\", \"row\": \"speechiness\", \"col\": \"loudness\", \"Correlation\": 0.27162009212249066, \"order\": 1}, {\"genre\": \"Electronic\", \"row\": \"tempo\", \"col\": \"loudness\", \"Correlation\": 0.1512128782780828, \"order\": 1}, {\"genre\": \"Electronic\", \"row\": \"valence\", \"col\": \"loudness\", \"Correlation\": 0.048695969138366164, \"order\": 1}, {\"genre\": \"Folk\", \"row\": \"popularity\", \"col\": \"loudness\", \"Correlation\": -0.003441537155169669, \"order\": 0}, {\"genre\": \"Folk\", \"row\": \"acousticness\", \"col\": \"loudness\", \"Correlation\": -0.584427527359538, \"order\": 1}, {\"genre\": \"Folk\", \"row\": \"danceability\", \"col\": \"loudness\", \"Correlation\": 0.06672433320658973, \"order\": 1}, {\"genre\": \"Folk\", \"row\": \"duration_ms\", \"col\": \"loudness\", \"Correlation\": 0.015291263895621523, \"order\": 1}, {\"genre\": \"Folk\", \"row\": \"energy\", \"col\": \"loudness\", \"Correlation\": 0.7730978375393777, \"order\": 1}, {\"genre\": \"Folk\", \"row\": \"instrumentalness\", \"col\": \"loudness\", \"Correlation\": -0.13876664115416118, \"order\": 1}, {\"genre\": \"Folk\", \"row\": \"liveness\", \"col\": \"loudness\", \"Correlation\": 0.09157708893838168, \"order\": 1}, {\"genre\": \"Folk\", \"row\": \"loudness\", \"col\": \"loudness\", \"Correlation\": 1.0, \"order\": 1}, {\"genre\": \"Folk\", \"row\": \"speechiness\", \"col\": \"loudness\", \"Correlation\": 0.028104061201255713, \"order\": 1}, {\"genre\": \"Folk\", \"row\": \"tempo\", \"col\": \"loudness\", \"Correlation\": 0.09580426004913797, \"order\": 1}, {\"genre\": \"Folk\", \"row\": \"valence\", \"col\": \"loudness\", \"Correlation\": 0.25050654752008256, \"order\": 1}, {\"genre\": \"Hip-Hop\", \"row\": \"popularity\", \"col\": \"loudness\", \"Correlation\": 0.17162830977288876, \"order\": 0}, {\"genre\": \"Hip-Hop\", \"row\": \"acousticness\", \"col\": \"loudness\", \"Correlation\": -0.22061754074755965, \"order\": 1}, {\"genre\": \"Hip-Hop\", \"row\": \"danceability\", \"col\": \"loudness\", \"Correlation\": 0.04504445006674044, \"order\": 1}, {\"genre\": \"Hip-Hop\", \"row\": \"duration_ms\", \"col\": \"loudness\", \"Correlation\": 0.08439211922215045, \"order\": 1}, {\"genre\": \"Hip-Hop\", \"row\": \"energy\", \"col\": \"loudness\", \"Correlation\": 0.6946193831038878, \"order\": 1}, {\"genre\": \"Hip-Hop\", \"row\": \"instrumentalness\", \"col\": \"loudness\", \"Correlation\": -0.09906557971659835, \"order\": 1}, {\"genre\": \"Hip-Hop\", \"row\": \"liveness\", \"col\": \"loudness\", \"Correlation\": 0.06336299155729314, \"order\": 1}, {\"genre\": \"Hip-Hop\", \"row\": \"loudness\", \"col\": \"loudness\", \"Correlation\": 1.0, \"order\": 1}, {\"genre\": \"Hip-Hop\", \"row\": \"speechiness\", \"col\": \"loudness\", \"Correlation\": -0.19260670874733674, \"order\": 1}, {\"genre\": \"Hip-Hop\", \"row\": \"tempo\", \"col\": \"loudness\", \"Correlation\": 0.008951660298675395, \"order\": 1}, {\"genre\": \"Hip-Hop\", \"row\": \"valence\", \"col\": \"loudness\", \"Correlation\": 0.22317596584532873, \"order\": 1}, {\"genre\": \"Indie\", \"row\": \"popularity\", \"col\": \"loudness\", \"Correlation\": -0.012227369669965635, \"order\": 0}, {\"genre\": \"Indie\", \"row\": \"acousticness\", \"col\": \"loudness\", \"Correlation\": -0.5976067211817101, \"order\": 1}, {\"genre\": \"Indie\", \"row\": \"danceability\", \"col\": \"loudness\", \"Correlation\": -0.0018202632444980994, \"order\": 1}, {\"genre\": \"Indie\", \"row\": \"duration_ms\", \"col\": \"loudness\", \"Correlation\": -0.01627387088923075, \"order\": 1}, {\"genre\": \"Indie\", \"row\": \"energy\", \"col\": \"loudness\", \"Correlation\": 0.7786342981214491, \"order\": 1}, {\"genre\": \"Indie\", \"row\": \"instrumentalness\", \"col\": \"loudness\", \"Correlation\": -0.21660705393996585, \"order\": 1}, {\"genre\": \"Indie\", \"row\": \"liveness\", \"col\": \"loudness\", \"Correlation\": 0.0624972633744959, \"order\": 1}, {\"genre\": \"Indie\", \"row\": \"loudness\", \"col\": \"loudness\", \"Correlation\": 1.0, \"order\": 1}, {\"genre\": \"Indie\", \"row\": \"speechiness\", \"col\": \"loudness\", \"Correlation\": 0.06758128494524747, \"order\": 1}, {\"genre\": \"Indie\", \"row\": \"tempo\", \"col\": \"loudness\", \"Correlation\": 0.11502899950008695, \"order\": 1}, {\"genre\": \"Indie\", \"row\": \"valence\", \"col\": \"loudness\", \"Correlation\": 0.29902698019014057, \"order\": 1}, {\"genre\": \"Jazz\", \"row\": \"popularity\", \"col\": \"loudness\", \"Correlation\": -0.05949703095255816, \"order\": 0}, {\"genre\": \"Jazz\", \"row\": \"acousticness\", \"col\": \"loudness\", \"Correlation\": -0.5642757523824851, \"order\": 1}, {\"genre\": \"Jazz\", \"row\": \"danceability\", \"col\": \"loudness\", \"Correlation\": 0.313069107969594, \"order\": 1}, {\"genre\": \"Jazz\", \"row\": \"duration_ms\", \"col\": \"loudness\", \"Correlation\": -0.034037769699654094, \"order\": 1}, {\"genre\": \"Jazz\", \"row\": \"energy\", \"col\": \"loudness\", \"Correlation\": 0.7832613188762466, \"order\": 1}, {\"genre\": \"Jazz\", \"row\": \"instrumentalness\", \"col\": \"loudness\", \"Correlation\": -0.1618345971516764, \"order\": 1}, {\"genre\": \"Jazz\", \"row\": \"liveness\", \"col\": \"loudness\", \"Correlation\": 0.06388496129599955, \"order\": 1}, {\"genre\": \"Jazz\", \"row\": \"loudness\", \"col\": \"loudness\", \"Correlation\": 1.0, \"order\": 1}, {\"genre\": \"Jazz\", \"row\": \"speechiness\", \"col\": \"loudness\", \"Correlation\": 0.15574012759129, \"order\": 1}, {\"genre\": \"Jazz\", \"row\": \"tempo\", \"col\": \"loudness\", \"Correlation\": 0.08380129803965783, \"order\": 1}, {\"genre\": \"Jazz\", \"row\": \"valence\", \"col\": \"loudness\", \"Correlation\": 0.39649459165955697, \"order\": 1}, {\"genre\": \"Movie\", \"row\": \"popularity\", \"col\": \"loudness\", \"Correlation\": -0.0022450518055900973, \"order\": 0}, {\"genre\": \"Movie\", \"row\": \"acousticness\", \"col\": \"loudness\", \"Correlation\": -0.5088383939502302, \"order\": 1}, {\"genre\": \"Movie\", \"row\": \"danceability\", \"col\": \"loudness\", \"Correlation\": 0.32568919140450275, \"order\": 1}, {\"genre\": \"Movie\", \"row\": \"duration_ms\", \"col\": \"loudness\", \"Correlation\": 0.02534007060998641, \"order\": 1}, {\"genre\": \"Movie\", \"row\": \"energy\", \"col\": \"loudness\", \"Correlation\": 0.7717925919814579, \"order\": 1}, {\"genre\": \"Movie\", \"row\": \"instrumentalness\", \"col\": \"loudness\", \"Correlation\": -0.38576475971826507, \"order\": 1}, {\"genre\": \"Movie\", \"row\": \"liveness\", \"col\": \"loudness\", \"Correlation\": 0.07829040779848377, \"order\": 1}, {\"genre\": \"Movie\", \"row\": \"loudness\", \"col\": \"loudness\", \"Correlation\": 1.0, \"order\": 1}, {\"genre\": \"Movie\", \"row\": \"speechiness\", \"col\": \"loudness\", \"Correlation\": -0.17226636193728534, \"order\": 1}, {\"genre\": \"Movie\", \"row\": \"tempo\", \"col\": \"loudness\", \"Correlation\": 0.20372798492209934, \"order\": 1}, {\"genre\": \"Movie\", \"row\": \"valence\", \"col\": \"loudness\", \"Correlation\": 0.39267252145325965, \"order\": 1}, {\"genre\": \"Opera\", \"row\": \"popularity\", \"col\": \"loudness\", \"Correlation\": 0.09671407279986162, \"order\": 0}, {\"genre\": \"Opera\", \"row\": \"acousticness\", \"col\": \"loudness\", \"Correlation\": -0.029875563808339004, \"order\": 1}, {\"genre\": \"Opera\", \"row\": \"danceability\", \"col\": \"loudness\", \"Correlation\": 0.1317394605973322, \"order\": 1}, {\"genre\": \"Opera\", \"row\": \"duration_ms\", \"col\": \"loudness\", \"Correlation\": -0.0058608343741120535, \"order\": 1}, {\"genre\": \"Opera\", \"row\": \"energy\", \"col\": \"loudness\", \"Correlation\": 0.7712485608034849, \"order\": 1}, {\"genre\": \"Opera\", \"row\": \"instrumentalness\", \"col\": \"loudness\", \"Correlation\": -0.1549604240018077, \"order\": 1}, {\"genre\": \"Opera\", \"row\": \"liveness\", \"col\": \"loudness\", \"Correlation\": 0.1119844244166768, \"order\": 1}, {\"genre\": \"Opera\", \"row\": \"loudness\", \"col\": \"loudness\", \"Correlation\": 1.0, \"order\": 1}, {\"genre\": \"Opera\", \"row\": \"speechiness\", \"col\": \"loudness\", \"Correlation\": -0.007225877965491324, \"order\": 1}, {\"genre\": \"Opera\", \"row\": \"tempo\", \"col\": \"loudness\", \"Correlation\": 0.010421074413792121, \"order\": 1}, {\"genre\": \"Opera\", \"row\": \"valence\", \"col\": \"loudness\", \"Correlation\": 0.20275753516902198, \"order\": 1}, {\"genre\": \"Pop\", \"row\": \"popularity\", \"col\": \"loudness\", \"Correlation\": 0.07730463289383192, \"order\": 0}, {\"genre\": \"Pop\", \"row\": \"acousticness\", \"col\": \"loudness\", \"Correlation\": -0.5171334811398757, \"order\": 1}, {\"genre\": \"Pop\", \"row\": \"danceability\", \"col\": \"loudness\", \"Correlation\": 0.1508720676873953, \"order\": 1}, {\"genre\": \"Pop\", \"row\": \"duration_ms\", \"col\": \"loudness\", \"Correlation\": -0.08115823327891153, \"order\": 1}, {\"genre\": \"Pop\", \"row\": \"energy\", \"col\": \"loudness\", \"Correlation\": 0.7501694165968174, \"order\": 1}, {\"genre\": \"Pop\", \"row\": \"instrumentalness\", \"col\": \"loudness\", \"Correlation\": -0.31322501499634864, \"order\": 1}, {\"genre\": \"Pop\", \"row\": \"liveness\", \"col\": \"loudness\", \"Correlation\": 0.11399816649740527, \"order\": 1}, {\"genre\": \"Pop\", \"row\": \"loudness\", \"col\": \"loudness\", \"Correlation\": 1.0, \"order\": 1}, {\"genre\": \"Pop\", \"row\": \"speechiness\", \"col\": \"loudness\", \"Correlation\": 0.03195856410064607, \"order\": 1}, {\"genre\": \"Pop\", \"row\": \"tempo\", \"col\": \"loudness\", \"Correlation\": 0.09509065169900792, \"order\": 1}, {\"genre\": \"Pop\", \"row\": \"valence\", \"col\": \"loudness\", \"Correlation\": 0.2960424543196599, \"order\": 1}, {\"genre\": \"R&B\", \"row\": \"popularity\", \"col\": \"loudness\", \"Correlation\": 0.01764186748558474, \"order\": 0}, {\"genre\": \"R&B\", \"row\": \"acousticness\", \"col\": \"loudness\", \"Correlation\": -0.4057046834472027, \"order\": 1}, {\"genre\": \"R&B\", \"row\": \"danceability\", \"col\": \"loudness\", \"Correlation\": 0.10326142754382468, \"order\": 1}, {\"genre\": \"R&B\", \"row\": \"duration_ms\", \"col\": \"loudness\", \"Correlation\": -0.012335636289633614, \"order\": 1}, {\"genre\": \"R&B\", \"row\": \"energy\", \"col\": \"loudness\", \"Correlation\": 0.7071848517024246, \"order\": 1}, {\"genre\": \"R&B\", \"row\": \"instrumentalness\", \"col\": \"loudness\", \"Correlation\": -0.211058515393107, \"order\": 1}, {\"genre\": \"R&B\", \"row\": \"liveness\", \"col\": \"loudness\", \"Correlation\": 0.0668859848476611, \"order\": 1}, {\"genre\": \"R&B\", \"row\": \"loudness\", \"col\": \"loudness\", \"Correlation\": 1.0, \"order\": 1}, {\"genre\": \"R&B\", \"row\": \"speechiness\", \"col\": \"loudness\", \"Correlation\": -0.02340944968286701, \"order\": 1}, {\"genre\": \"R&B\", \"row\": \"tempo\", \"col\": \"loudness\", \"Correlation\": 0.06688736492243477, \"order\": 1}, {\"genre\": \"R&B\", \"row\": \"valence\", \"col\": \"loudness\", \"Correlation\": 0.249599290355041, \"order\": 1}, {\"genre\": \"Rap\", \"row\": \"popularity\", \"col\": \"loudness\", \"Correlation\": 0.012249248289268511, \"order\": 0}, {\"genre\": \"Rap\", \"row\": \"acousticness\", \"col\": \"loudness\", \"Correlation\": -0.2710219719230445, \"order\": 1}, {\"genre\": \"Rap\", \"row\": \"danceability\", \"col\": \"loudness\", \"Correlation\": -0.043717786911220004, \"order\": 1}, {\"genre\": \"Rap\", \"row\": \"duration_ms\", \"col\": \"loudness\", \"Correlation\": 0.15926710480765285, \"order\": 1}, {\"genre\": \"Rap\", \"row\": \"energy\", \"col\": \"loudness\", \"Correlation\": 0.7084848509692652, \"order\": 1}, {\"genre\": \"Rap\", \"row\": \"instrumentalness\", \"col\": \"loudness\", \"Correlation\": -0.2387299135444112, \"order\": 1}, {\"genre\": \"Rap\", \"row\": \"liveness\", \"col\": \"loudness\", \"Correlation\": 0.08642885240899852, \"order\": 1}, {\"genre\": \"Rap\", \"row\": \"loudness\", \"col\": \"loudness\", \"Correlation\": 1.0, \"order\": 1}, {\"genre\": \"Rap\", \"row\": \"speechiness\", \"col\": \"loudness\", \"Correlation\": -0.0697148627931603, \"order\": 1}, {\"genre\": \"Rap\", \"row\": \"tempo\", \"col\": \"loudness\", \"Correlation\": 0.03892553349016356, \"order\": 1}, {\"genre\": \"Rap\", \"row\": \"valence\", \"col\": \"loudness\", \"Correlation\": 0.1909962207388917, \"order\": 1}, {\"genre\": \"Reggae\", \"row\": \"popularity\", \"col\": \"loudness\", \"Correlation\": 0.04751634578586325, \"order\": 0}, {\"genre\": \"Reggae\", \"row\": \"acousticness\", \"col\": \"loudness\", \"Correlation\": -0.1828522405449707, \"order\": 1}, {\"genre\": \"Reggae\", \"row\": \"danceability\", \"col\": \"loudness\", \"Correlation\": -0.1512060547615482, \"order\": 1}, {\"genre\": \"Reggae\", \"row\": \"duration_ms\", \"col\": \"loudness\", \"Correlation\": -0.08309037725302755, \"order\": 1}, {\"genre\": \"Reggae\", \"row\": \"energy\", \"col\": \"loudness\", \"Correlation\": 0.717437268522544, \"order\": 1}, {\"genre\": \"Reggae\", \"row\": \"instrumentalness\", \"col\": \"loudness\", \"Correlation\": -0.1956079094547146, \"order\": 1}, {\"genre\": \"Reggae\", \"row\": \"liveness\", \"col\": \"loudness\", \"Correlation\": 0.05604889730292262, \"order\": 1}, {\"genre\": \"Reggae\", \"row\": \"loudness\", \"col\": \"loudness\", \"Correlation\": 1.0, \"order\": 1}, {\"genre\": \"Reggae\", \"row\": \"speechiness\", \"col\": \"loudness\", \"Correlation\": -0.037626069600691515, \"order\": 1}, {\"genre\": \"Reggae\", \"row\": \"tempo\", \"col\": \"loudness\", \"Correlation\": -0.01262964942970897, \"order\": 1}, {\"genre\": \"Reggae\", \"row\": \"valence\", \"col\": \"loudness\", \"Correlation\": 0.018972152755133753, \"order\": 1}, {\"genre\": \"Reggaeton\", \"row\": \"popularity\", \"col\": \"loudness\", \"Correlation\": 0.10296188196473466, \"order\": 0}, {\"genre\": \"Reggaeton\", \"row\": \"acousticness\", \"col\": \"loudness\", \"Correlation\": -0.09533895744169925, \"order\": 1}, {\"genre\": \"Reggaeton\", \"row\": \"danceability\", \"col\": \"loudness\", \"Correlation\": 0.004450476803574558, \"order\": 1}, {\"genre\": \"Reggaeton\", \"row\": \"duration_ms\", \"col\": \"loudness\", \"Correlation\": -0.03188035132287867, \"order\": 1}, {\"genre\": \"Reggaeton\", \"row\": \"energy\", \"col\": \"loudness\", \"Correlation\": 0.5889920956120056, \"order\": 1}, {\"genre\": \"Reggaeton\", \"row\": \"instrumentalness\", \"col\": \"loudness\", \"Correlation\": -0.0023107908007988127, \"order\": 1}, {\"genre\": \"Reggaeton\", \"row\": \"liveness\", \"col\": \"loudness\", \"Correlation\": 0.0386570918460271, \"order\": 1}, {\"genre\": \"Reggaeton\", \"row\": \"loudness\", \"col\": \"loudness\", \"Correlation\": 1.0, \"order\": 1}, {\"genre\": \"Reggaeton\", \"row\": \"speechiness\", \"col\": \"loudness\", \"Correlation\": -0.07262700642159017, \"order\": 1}, {\"genre\": \"Reggaeton\", \"row\": \"tempo\", \"col\": \"loudness\", \"Correlation\": 0.04333557028739459, \"order\": 1}, {\"genre\": \"Reggaeton\", \"row\": \"valence\", \"col\": \"loudness\", \"Correlation\": 0.12861398909851363, \"order\": 1}, {\"genre\": \"Rock\", \"row\": \"popularity\", \"col\": \"loudness\", \"Correlation\": -0.027692811966278423, \"order\": 0}, {\"genre\": \"Rock\", \"row\": \"acousticness\", \"col\": \"loudness\", \"Correlation\": -0.4950307404813065, \"order\": 1}, {\"genre\": \"Rock\", \"row\": \"danceability\", \"col\": \"loudness\", \"Correlation\": 0.01995563561152638, \"order\": 1}, {\"genre\": \"Rock\", \"row\": \"duration_ms\", \"col\": \"loudness\", \"Correlation\": -0.06156406539911021, \"order\": 1}, {\"genre\": \"Rock\", \"row\": \"energy\", \"col\": \"loudness\", \"Correlation\": 0.7792927607029191, \"order\": 1}, {\"genre\": \"Rock\", \"row\": \"instrumentalness\", \"col\": \"loudness\", \"Correlation\": -0.30636894657048197, \"order\": 1}, {\"genre\": \"Rock\", \"row\": \"liveness\", \"col\": \"loudness\", \"Correlation\": 0.07917677363981351, \"order\": 1}, {\"genre\": \"Rock\", \"row\": \"loudness\", \"col\": \"loudness\", \"Correlation\": 1.0, \"order\": 1}, {\"genre\": \"Rock\", \"row\": \"speechiness\", \"col\": \"loudness\", \"Correlation\": 0.21480207483807073, \"order\": 1}, {\"genre\": \"Rock\", \"row\": \"tempo\", \"col\": \"loudness\", \"Correlation\": 0.18243177614906003, \"order\": 1}, {\"genre\": \"Rock\", \"row\": \"valence\", \"col\": \"loudness\", \"Correlation\": 0.18962227794696768, \"order\": 1}, {\"genre\": \"Ska\", \"row\": \"popularity\", \"col\": \"loudness\", \"Correlation\": 0.01479419326965812, \"order\": 0}, {\"genre\": \"Ska\", \"row\": \"acousticness\", \"col\": \"loudness\", \"Correlation\": -0.3025323167259847, \"order\": 1}, {\"genre\": \"Ska\", \"row\": \"danceability\", \"col\": \"loudness\", \"Correlation\": -0.23913608750350898, \"order\": 1}, {\"genre\": \"Ska\", \"row\": \"duration_ms\", \"col\": \"loudness\", \"Correlation\": -0.171240672174089, \"order\": 1}, {\"genre\": \"Ska\", \"row\": \"energy\", \"col\": \"loudness\", \"Correlation\": 0.6616963556154457, \"order\": 1}, {\"genre\": \"Ska\", \"row\": \"instrumentalness\", \"col\": \"loudness\", \"Correlation\": -0.16095287814056738, \"order\": 1}, {\"genre\": \"Ska\", \"row\": \"liveness\", \"col\": \"loudness\", \"Correlation\": 0.004100934869781682, \"order\": 1}, {\"genre\": \"Ska\", \"row\": \"loudness\", \"col\": \"loudness\", \"Correlation\": 1.0, \"order\": 1}, {\"genre\": \"Ska\", \"row\": \"speechiness\", \"col\": \"loudness\", \"Correlation\": 0.01968772760895978, \"order\": 1}, {\"genre\": \"Ska\", \"row\": \"tempo\", \"col\": \"loudness\", \"Correlation\": 0.10476140466296172, \"order\": 1}, {\"genre\": \"Ska\", \"row\": \"valence\", \"col\": \"loudness\", \"Correlation\": -0.03146789980725416, \"order\": 1}, {\"genre\": \"Soul\", \"row\": \"popularity\", \"col\": \"loudness\", \"Correlation\": -0.030986187901764748, \"order\": 0}, {\"genre\": \"Soul\", \"row\": \"acousticness\", \"col\": \"loudness\", \"Correlation\": -0.437928853991827, \"order\": 1}, {\"genre\": \"Soul\", \"row\": \"danceability\", \"col\": \"loudness\", \"Correlation\": 0.10444123058050771, \"order\": 1}, {\"genre\": \"Soul\", \"row\": \"duration_ms\", \"col\": \"loudness\", \"Correlation\": -0.03928971607614039, \"order\": 1}, {\"genre\": \"Soul\", \"row\": \"energy\", \"col\": \"loudness\", \"Correlation\": 0.700656641542869, \"order\": 1}, {\"genre\": \"Soul\", \"row\": \"instrumentalness\", \"col\": \"loudness\", \"Correlation\": -0.12959772853455337, \"order\": 1}, {\"genre\": \"Soul\", \"row\": \"liveness\", \"col\": \"loudness\", \"Correlation\": 0.0535867347304406, \"order\": 1}, {\"genre\": \"Soul\", \"row\": \"loudness\", \"col\": \"loudness\", \"Correlation\": 1.0, \"order\": 1}, {\"genre\": \"Soul\", \"row\": \"speechiness\", \"col\": \"loudness\", \"Correlation\": 0.05268847758662011, \"order\": 1}, {\"genre\": \"Soul\", \"row\": \"tempo\", \"col\": \"loudness\", \"Correlation\": 0.049392801675857516, \"order\": 1}, {\"genre\": \"Soul\", \"row\": \"valence\", \"col\": \"loudness\", \"Correlation\": 0.15090610903525187, \"order\": 1}, {\"genre\": \"Soundtrack\", \"row\": \"popularity\", \"col\": \"loudness\", \"Correlation\": 0.01262029677353798, \"order\": 0}, {\"genre\": \"Soundtrack\", \"row\": \"acousticness\", \"col\": \"loudness\", \"Correlation\": -0.45624413831816923, \"order\": 1}, {\"genre\": \"Soundtrack\", \"row\": \"danceability\", \"col\": \"loudness\", \"Correlation\": 0.25699089837610867, \"order\": 1}, {\"genre\": \"Soundtrack\", \"row\": \"duration_ms\", \"col\": \"loudness\", \"Correlation\": 0.12464340895245116, \"order\": 1}, {\"genre\": \"Soundtrack\", \"row\": \"energy\", \"col\": \"loudness\", \"Correlation\": 0.7681201421075564, \"order\": 1}, {\"genre\": \"Soundtrack\", \"row\": \"instrumentalness\", \"col\": \"loudness\", \"Correlation\": -0.13151266581499588, \"order\": 1}, {\"genre\": \"Soundtrack\", \"row\": \"liveness\", \"col\": \"loudness\", \"Correlation\": 0.14119710369033409, \"order\": 1}, {\"genre\": \"Soundtrack\", \"row\": \"loudness\", \"col\": \"loudness\", \"Correlation\": 1.0, \"order\": 1}, {\"genre\": \"Soundtrack\", \"row\": \"speechiness\", \"col\": \"loudness\", \"Correlation\": 0.04032032297649128, \"order\": 1}, {\"genre\": \"Soundtrack\", \"row\": \"tempo\", \"col\": \"loudness\", \"Correlation\": 0.17493683808172944, \"order\": 1}, {\"genre\": \"Soundtrack\", \"row\": \"valence\", \"col\": \"loudness\", \"Correlation\": 0.2745132811016584, \"order\": 1}, {\"genre\": \"World\", \"row\": \"popularity\", \"col\": \"loudness\", \"Correlation\": 0.07119541510359056, \"order\": 0}, {\"genre\": \"World\", \"row\": \"acousticness\", \"col\": \"loudness\", \"Correlation\": -0.6657223365285655, \"order\": 1}, {\"genre\": \"World\", \"row\": \"danceability\", \"col\": \"loudness\", \"Correlation\": 0.3695501832347003, \"order\": 1}, {\"genre\": \"World\", \"row\": \"duration_ms\", \"col\": \"loudness\", \"Correlation\": -0.07581213316368932, \"order\": 1}, {\"genre\": \"World\", \"row\": \"energy\", \"col\": \"loudness\", \"Correlation\": 0.7776174858481095, \"order\": 1}, {\"genre\": \"World\", \"row\": \"instrumentalness\", \"col\": \"loudness\", \"Correlation\": -0.6579386625342859, \"order\": 1}, {\"genre\": \"World\", \"row\": \"liveness\", \"col\": \"loudness\", \"Correlation\": 0.25129788196591263, \"order\": 1}, {\"genre\": \"World\", \"row\": \"loudness\", \"col\": \"loudness\", \"Correlation\": 1.0, \"order\": 1}, {\"genre\": \"World\", \"row\": \"speechiness\", \"col\": \"loudness\", \"Correlation\": -0.002319744047795122, \"order\": 1}, {\"genre\": \"World\", \"row\": \"tempo\", \"col\": \"loudness\", \"Correlation\": 0.26967222240959093, \"order\": 1}, {\"genre\": \"World\", \"row\": \"valence\", \"col\": \"loudness\", \"Correlation\": 0.2699883089236052, \"order\": 1}, {\"genre\": \"A Capella\", \"row\": \"popularity\", \"col\": \"speechiness\", \"Correlation\": 0.04754049997334924, \"order\": 0}, {\"genre\": \"A Capella\", \"row\": \"acousticness\", \"col\": \"speechiness\", \"Correlation\": -0.38996986922428595, \"order\": 1}, {\"genre\": \"A Capella\", \"row\": \"danceability\", \"col\": \"speechiness\", \"Correlation\": 0.6099482084148709, \"order\": 1}, {\"genre\": \"A Capella\", \"row\": \"duration_ms\", \"col\": \"speechiness\", \"Correlation\": -0.33861468027849434, \"order\": 1}, {\"genre\": \"A Capella\", \"row\": \"energy\", \"col\": \"speechiness\", \"Correlation\": 0.5338458352427035, \"order\": 1}, {\"genre\": \"A Capella\", \"row\": \"instrumentalness\", \"col\": \"speechiness\", \"Correlation\": -0.0834273658777635, \"order\": 1}, {\"genre\": \"A Capella\", \"row\": \"liveness\", \"col\": \"speechiness\", \"Correlation\": -0.005267949950346678, \"order\": 1}, {\"genre\": \"A Capella\", \"row\": \"loudness\", \"col\": \"speechiness\", \"Correlation\": 0.22796237820480564, \"order\": 1}, {\"genre\": \"A Capella\", \"row\": \"speechiness\", \"col\": \"speechiness\", \"Correlation\": 1.0, \"order\": 1}, {\"genre\": \"A Capella\", \"row\": \"tempo\", \"col\": \"speechiness\", \"Correlation\": 0.04155231395179999, \"order\": 1}, {\"genre\": \"A Capella\", \"row\": \"valence\", \"col\": \"speechiness\", \"Correlation\": 0.6233579492158718, \"order\": 1}, {\"genre\": \"Alternative\", \"row\": \"popularity\", \"col\": \"speechiness\", \"Correlation\": -0.04574516239473141, \"order\": 0}, {\"genre\": \"Alternative\", \"row\": \"acousticness\", \"col\": \"speechiness\", \"Correlation\": 0.09881620739697214, \"order\": 1}, {\"genre\": \"Alternative\", \"row\": \"danceability\", \"col\": \"speechiness\", \"Correlation\": 0.17647003916935028, \"order\": 1}, {\"genre\": \"Alternative\", \"row\": \"duration_ms\", \"col\": \"speechiness\", \"Correlation\": -0.16203410986766648, \"order\": 1}, {\"genre\": \"Alternative\", \"row\": \"energy\", \"col\": \"speechiness\", \"Correlation\": 0.0007383987560006772, \"order\": 1}, {\"genre\": \"Alternative\", \"row\": \"instrumentalness\", \"col\": \"speechiness\", \"Correlation\": -0.07429256015694162, \"order\": 1}, {\"genre\": \"Alternative\", \"row\": \"liveness\", \"col\": \"speechiness\", \"Correlation\": 0.10380581217794753, \"order\": 1}, {\"genre\": \"Alternative\", \"row\": \"loudness\", \"col\": \"speechiness\", \"Correlation\": -0.0988114242460249, \"order\": 1}, {\"genre\": \"Alternative\", \"row\": \"speechiness\", \"col\": \"speechiness\", \"Correlation\": 1.0, \"order\": 1}, {\"genre\": \"Alternative\", \"row\": \"tempo\", \"col\": \"speechiness\", \"Correlation\": -0.013975301347368017, \"order\": 1}, {\"genre\": \"Alternative\", \"row\": \"valence\", \"col\": \"speechiness\", \"Correlation\": 0.09341180260579772, \"order\": 1}, {\"genre\": \"Blues\", \"row\": \"popularity\", \"col\": \"speechiness\", \"Correlation\": 0.01616577714236089, \"order\": 0}, {\"genre\": \"Blues\", \"row\": \"acousticness\", \"col\": \"speechiness\", \"Correlation\": 0.08143862309368459, \"order\": 1}, {\"genre\": \"Blues\", \"row\": \"danceability\", \"col\": \"speechiness\", \"Correlation\": 0.16139142046424923, \"order\": 1}, {\"genre\": \"Blues\", \"row\": \"duration_ms\", \"col\": \"speechiness\", \"Correlation\": -0.12865796388834375, \"order\": 1}, {\"genre\": \"Blues\", \"row\": \"energy\", \"col\": \"speechiness\", \"Correlation\": 0.019225670839725977, \"order\": 1}, {\"genre\": \"Blues\", \"row\": \"instrumentalness\", \"col\": \"speechiness\", \"Correlation\": -0.08042705224668026, \"order\": 1}, {\"genre\": \"Blues\", \"row\": \"liveness\", \"col\": \"speechiness\", \"Correlation\": 0.06163141549592022, \"order\": 1}, {\"genre\": \"Blues\", \"row\": \"loudness\", \"col\": \"speechiness\", \"Correlation\": -0.06854609106059692, \"order\": 1}, {\"genre\": \"Blues\", \"row\": \"speechiness\", \"col\": \"speechiness\", \"Correlation\": 1.0, \"order\": 1}, {\"genre\": \"Blues\", \"row\": \"tempo\", \"col\": \"speechiness\", \"Correlation\": -0.03897120783232088, \"order\": 1}, {\"genre\": \"Blues\", \"row\": \"valence\", \"col\": \"speechiness\", \"Correlation\": 0.11053223742169203, \"order\": 1}, {\"genre\": \"Classical\", \"row\": \"popularity\", \"col\": \"speechiness\", \"Correlation\": -0.1417757947554891, \"order\": 0}, {\"genre\": \"Classical\", \"row\": \"acousticness\", \"col\": \"speechiness\", \"Correlation\": -0.12271305267052426, \"order\": 1}, {\"genre\": \"Classical\", \"row\": \"danceability\", \"col\": \"speechiness\", \"Correlation\": 0.21800430231467507, \"order\": 1}, {\"genre\": \"Classical\", \"row\": \"duration_ms\", \"col\": \"speechiness\", \"Correlation\": -0.08084502399623578, \"order\": 1}, {\"genre\": \"Classical\", \"row\": \"energy\", \"col\": \"speechiness\", \"Correlation\": 0.1684223364348176, \"order\": 1}, {\"genre\": \"Classical\", \"row\": \"instrumentalness\", \"col\": \"speechiness\", \"Correlation\": -0.22542918600659803, \"order\": 1}, {\"genre\": \"Classical\", \"row\": \"liveness\", \"col\": \"speechiness\", \"Correlation\": 0.27512295105162093, \"order\": 1}, {\"genre\": \"Classical\", \"row\": \"loudness\", \"col\": \"speechiness\", \"Correlation\": 0.06503898574015132, \"order\": 1}, {\"genre\": \"Classical\", \"row\": \"speechiness\", \"col\": \"speechiness\", \"Correlation\": 1.0, \"order\": 1}, {\"genre\": \"Classical\", \"row\": \"tempo\", \"col\": \"speechiness\", \"Correlation\": 0.07226429783913955, \"order\": 1}, {\"genre\": \"Classical\", \"row\": \"valence\", \"col\": \"speechiness\", \"Correlation\": 0.11344162500795774, \"order\": 1}, {\"genre\": \"Comedy\", \"row\": \"popularity\", \"col\": \"speechiness\", \"Correlation\": -0.06027626754772091, \"order\": 0}, {\"genre\": \"Comedy\", \"row\": \"acousticness\", \"col\": \"speechiness\", \"Correlation\": 0.4123330994455857, \"order\": 1}, {\"genre\": \"Comedy\", \"row\": \"danceability\", \"col\": \"speechiness\", \"Correlation\": 0.03871054477649526, \"order\": 1}, {\"genre\": \"Comedy\", \"row\": \"duration_ms\", \"col\": \"speechiness\", \"Correlation\": 0.046070057510816026, \"order\": 1}, {\"genre\": \"Comedy\", \"row\": \"energy\", \"col\": \"speechiness\", \"Correlation\": 0.16783950569504977, \"order\": 1}, {\"genre\": \"Comedy\", \"row\": \"instrumentalness\", \"col\": \"speechiness\", \"Correlation\": -0.13139634553341897, \"order\": 1}, {\"genre\": \"Comedy\", \"row\": \"liveness\", \"col\": \"speechiness\", \"Correlation\": 0.42581128449555716, \"order\": 1}, {\"genre\": \"Comedy\", \"row\": \"loudness\", \"col\": \"speechiness\", \"Correlation\": -0.13908688597755353, \"order\": 1}, {\"genre\": \"Comedy\", \"row\": \"speechiness\", \"col\": \"speechiness\", \"Correlation\": 1.0, \"order\": 1}, {\"genre\": \"Comedy\", \"row\": \"tempo\", \"col\": \"speechiness\", \"Correlation\": -0.18454679362938273, \"order\": 1}, {\"genre\": \"Comedy\", \"row\": \"valence\", \"col\": \"speechiness\", \"Correlation\": -0.23149227625123467, \"order\": 1}, {\"genre\": \"Country\", \"row\": \"popularity\", \"col\": \"speechiness\", \"Correlation\": -0.0594015249773101, \"order\": 0}, {\"genre\": \"Country\", \"row\": \"acousticness\", \"col\": \"speechiness\", \"Correlation\": -0.06688336432344456, \"order\": 1}, {\"genre\": \"Country\", \"row\": \"danceability\", \"col\": \"speechiness\", \"Correlation\": 0.1274059322444703, \"order\": 1}, {\"genre\": \"Country\", \"row\": \"duration_ms\", \"col\": \"speechiness\", \"Correlation\": -0.037429580141033945, \"order\": 1}, {\"genre\": \"Country\", \"row\": \"energy\", \"col\": \"speechiness\", \"Correlation\": 0.163849265717384, \"order\": 1}, {\"genre\": \"Country\", \"row\": \"instrumentalness\", \"col\": \"speechiness\", \"Correlation\": -0.010869370474331057, \"order\": 1}, {\"genre\": \"Country\", \"row\": \"liveness\", \"col\": \"speechiness\", \"Correlation\": 0.15915847138652237, \"order\": 1}, {\"genre\": \"Country\", \"row\": \"loudness\", \"col\": \"speechiness\", \"Correlation\": 0.024941048193286956, \"order\": 1}, {\"genre\": \"Country\", \"row\": \"speechiness\", \"col\": \"speechiness\", \"Correlation\": 1.0, \"order\": 1}, {\"genre\": \"Country\", \"row\": \"tempo\", \"col\": \"speechiness\", \"Correlation\": 0.09610688637820727, \"order\": 1}, {\"genre\": \"Country\", \"row\": \"valence\", \"col\": \"speechiness\", \"Correlation\": 0.06267844893800581, \"order\": 1}, {\"genre\": \"Dance\", \"row\": \"popularity\", \"col\": \"speechiness\", \"Correlation\": 0.0022464283349597006, \"order\": 0}, {\"genre\": \"Dance\", \"row\": \"acousticness\", \"col\": \"speechiness\", \"Correlation\": 0.010851142815576732, \"order\": 1}, {\"genre\": \"Dance\", \"row\": \"danceability\", \"col\": \"speechiness\", \"Correlation\": 0.04085752889361911, \"order\": 1}, {\"genre\": \"Dance\", \"row\": \"duration_ms\", \"col\": \"speechiness\", \"Correlation\": -0.06752607414221398, \"order\": 1}, {\"genre\": \"Dance\", \"row\": \"energy\", \"col\": \"speechiness\", \"Correlation\": 0.03129492094393032, \"order\": 1}, {\"genre\": \"Dance\", \"row\": \"instrumentalness\", \"col\": \"speechiness\", \"Correlation\": -0.08706168287534055, \"order\": 1}, {\"genre\": \"Dance\", \"row\": \"liveness\", \"col\": \"speechiness\", \"Correlation\": 0.07531469848459213, \"order\": 1}, {\"genre\": \"Dance\", \"row\": \"loudness\", \"col\": \"speechiness\", \"Correlation\": 0.031561679976508515, \"order\": 1}, {\"genre\": \"Dance\", \"row\": \"speechiness\", \"col\": \"speechiness\", \"Correlation\": 1.0, \"order\": 1}, {\"genre\": \"Dance\", \"row\": \"tempo\", \"col\": \"speechiness\", \"Correlation\": 0.07537477483838945, \"order\": 1}, {\"genre\": \"Dance\", \"row\": \"valence\", \"col\": \"speechiness\", \"Correlation\": 0.04495061642752209, \"order\": 1}, {\"genre\": \"Electronic\", \"row\": \"popularity\", \"col\": \"speechiness\", \"Correlation\": -0.08220689765831006, \"order\": 0}, {\"genre\": \"Electronic\", \"row\": \"acousticness\", \"col\": \"speechiness\", \"Correlation\": -0.11011048953754403, \"order\": 1}, {\"genre\": \"Electronic\", \"row\": \"danceability\", \"col\": \"speechiness\", \"Correlation\": 0.04349818613249527, \"order\": 1}, {\"genre\": \"Electronic\", \"row\": \"duration_ms\", \"col\": \"speechiness\", \"Correlation\": -0.1313117307895342, \"order\": 1}, {\"genre\": \"Electronic\", \"row\": \"energy\", \"col\": \"speechiness\", \"Correlation\": 0.2384781296015606, \"order\": 1}, {\"genre\": \"Electronic\", \"row\": \"instrumentalness\", \"col\": \"speechiness\", \"Correlation\": -0.2397591936214325, \"order\": 1}, {\"genre\": \"Electronic\", \"row\": \"liveness\", \"col\": \"speechiness\", \"Correlation\": 0.15022331192247404, \"order\": 1}, {\"genre\": \"Electronic\", \"row\": \"loudness\", \"col\": \"speechiness\", \"Correlation\": 0.27162009212249066, \"order\": 1}, {\"genre\": \"Electronic\", \"row\": \"speechiness\", \"col\": \"speechiness\", \"Correlation\": 1.0, \"order\": 1}, {\"genre\": \"Electronic\", \"row\": \"tempo\", \"col\": \"speechiness\", \"Correlation\": 0.09761026277118956, \"order\": 1}, {\"genre\": \"Electronic\", \"row\": \"valence\", \"col\": \"speechiness\", \"Correlation\": 0.006400810049474776, \"order\": 1}, {\"genre\": \"Folk\", \"row\": \"popularity\", \"col\": \"speechiness\", \"Correlation\": -0.013348177514754348, \"order\": 0}, {\"genre\": \"Folk\", \"row\": \"acousticness\", \"col\": \"speechiness\", \"Correlation\": -0.024384077005999708, \"order\": 1}, {\"genre\": \"Folk\", \"row\": \"danceability\", \"col\": \"speechiness\", \"Correlation\": 0.08137536513010633, \"order\": 1}, {\"genre\": \"Folk\", \"row\": \"duration_ms\", \"col\": \"speechiness\", \"Correlation\": -0.07065818567286374, \"order\": 1}, {\"genre\": \"Folk\", \"row\": \"energy\", \"col\": \"speechiness\", \"Correlation\": 0.13215040850180548, \"order\": 1}, {\"genre\": \"Folk\", \"row\": \"instrumentalness\", \"col\": \"speechiness\", \"Correlation\": -0.0377208096534841, \"order\": 1}, {\"genre\": \"Folk\", \"row\": \"liveness\", \"col\": \"speechiness\", \"Correlation\": 0.11200867303301977, \"order\": 1}, {\"genre\": \"Folk\", \"row\": \"loudness\", \"col\": \"speechiness\", \"Correlation\": 0.028104061201255713, \"order\": 1}, {\"genre\": \"Folk\", \"row\": \"speechiness\", \"col\": \"speechiness\", \"Correlation\": 1.0, \"order\": 1}, {\"genre\": \"Folk\", \"row\": \"tempo\", \"col\": \"speechiness\", \"Correlation\": 0.090490978881676, \"order\": 1}, {\"genre\": \"Folk\", \"row\": \"valence\", \"col\": \"speechiness\", \"Correlation\": 0.10942750043267173, \"order\": 1}, {\"genre\": \"Hip-Hop\", \"row\": \"popularity\", \"col\": \"speechiness\", \"Correlation\": -0.1640023030335394, \"order\": 0}, {\"genre\": \"Hip-Hop\", \"row\": \"acousticness\", \"col\": \"speechiness\", \"Correlation\": 0.08790069588539177, \"order\": 1}, {\"genre\": \"Hip-Hop\", \"row\": \"danceability\", \"col\": \"speechiness\", \"Correlation\": -0.097484277327044, \"order\": 1}, {\"genre\": \"Hip-Hop\", \"row\": \"duration_ms\", \"col\": \"speechiness\", \"Correlation\": 0.012871858624939034, \"order\": 1}, {\"genre\": \"Hip-Hop\", \"row\": \"energy\", \"col\": \"speechiness\", \"Correlation\": -0.07157285890453491, \"order\": 1}, {\"genre\": \"Hip-Hop\", \"row\": \"instrumentalness\", \"col\": \"speechiness\", \"Correlation\": -0.09834606680788464, \"order\": 1}, {\"genre\": \"Hip-Hop\", \"row\": \"liveness\", \"col\": \"speechiness\", \"Correlation\": 0.11493878770512489, \"order\": 1}, {\"genre\": \"Hip-Hop\", \"row\": \"loudness\", \"col\": \"speechiness\", \"Correlation\": -0.19260670874733674, \"order\": 1}, {\"genre\": \"Hip-Hop\", \"row\": \"speechiness\", \"col\": \"speechiness\", \"Correlation\": 1.0, \"order\": 1}, {\"genre\": \"Hip-Hop\", \"row\": \"tempo\", \"col\": \"speechiness\", \"Correlation\": 0.07637719834821288, \"order\": 1}, {\"genre\": \"Hip-Hop\", \"row\": \"valence\", \"col\": \"speechiness\", \"Correlation\": 0.029175673289675862, \"order\": 1}, {\"genre\": \"Indie\", \"row\": \"popularity\", \"col\": \"speechiness\", \"Correlation\": -0.07620210251781862, \"order\": 0}, {\"genre\": \"Indie\", \"row\": \"acousticness\", \"col\": \"speechiness\", \"Correlation\": -0.051283728161586606, \"order\": 1}, {\"genre\": \"Indie\", \"row\": \"danceability\", \"col\": \"speechiness\", \"Correlation\": 0.09635496565238223, \"order\": 1}, {\"genre\": \"Indie\", \"row\": \"duration_ms\", \"col\": \"speechiness\", \"Correlation\": -0.09573234152860381, \"order\": 1}, {\"genre\": \"Indie\", \"row\": \"energy\", \"col\": \"speechiness\", \"Correlation\": 0.13544681407057876, \"order\": 1}, {\"genre\": \"Indie\", \"row\": \"instrumentalness\", \"col\": \"speechiness\", \"Correlation\": -0.08728310755907887, \"order\": 1}, {\"genre\": \"Indie\", \"row\": \"liveness\", \"col\": \"speechiness\", \"Correlation\": 0.08149989488875246, \"order\": 1}, {\"genre\": \"Indie\", \"row\": \"loudness\", \"col\": \"speechiness\", \"Correlation\": 0.06758128494524747, \"order\": 1}, {\"genre\": \"Indie\", \"row\": \"speechiness\", \"col\": \"speechiness\", \"Correlation\": 1.0, \"order\": 1}, {\"genre\": \"Indie\", \"row\": \"tempo\", \"col\": \"speechiness\", \"Correlation\": 0.07876582064488001, \"order\": 1}, {\"genre\": \"Indie\", \"row\": \"valence\", \"col\": \"speechiness\", \"Correlation\": 0.04277598423976733, \"order\": 1}, {\"genre\": \"Jazz\", \"row\": \"popularity\", \"col\": \"speechiness\", \"Correlation\": -0.0730319681495646, \"order\": 0}, {\"genre\": \"Jazz\", \"row\": \"acousticness\", \"col\": \"speechiness\", \"Correlation\": -0.12860208517022512, \"order\": 1}, {\"genre\": \"Jazz\", \"row\": \"danceability\", \"col\": \"speechiness\", \"Correlation\": 0.21512862983671446, \"order\": 1}, {\"genre\": \"Jazz\", \"row\": \"duration_ms\", \"col\": \"speechiness\", \"Correlation\": -0.1822408493291889, \"order\": 1}, {\"genre\": \"Jazz\", \"row\": \"energy\", \"col\": \"speechiness\", \"Correlation\": 0.14429610251274097, \"order\": 1}, {\"genre\": \"Jazz\", \"row\": \"instrumentalness\", \"col\": \"speechiness\", \"Correlation\": -0.08918400277571778, \"order\": 1}, {\"genre\": \"Jazz\", \"row\": \"liveness\", \"col\": \"speechiness\", \"Correlation\": 0.12205258124441161, \"order\": 1}, {\"genre\": \"Jazz\", \"row\": \"loudness\", \"col\": \"speechiness\", \"Correlation\": 0.15574012759129, \"order\": 1}, {\"genre\": \"Jazz\", \"row\": \"speechiness\", \"col\": \"speechiness\", \"Correlation\": 1.0, \"order\": 1}, {\"genre\": \"Jazz\", \"row\": \"tempo\", \"col\": \"speechiness\", \"Correlation\": 0.04605153024538247, \"order\": 1}, {\"genre\": \"Jazz\", \"row\": \"valence\", \"col\": \"speechiness\", \"Correlation\": 0.1414635054361441, \"order\": 1}, {\"genre\": \"Movie\", \"row\": \"popularity\", \"col\": \"speechiness\", \"Correlation\": -0.10910798662784404, \"order\": 0}, {\"genre\": \"Movie\", \"row\": \"acousticness\", \"col\": \"speechiness\", \"Correlation\": 0.018783817406567694, \"order\": 1}, {\"genre\": \"Movie\", \"row\": \"danceability\", \"col\": \"speechiness\", \"Correlation\": 0.2539345793714588, \"order\": 1}, {\"genre\": \"Movie\", \"row\": \"duration_ms\", \"col\": \"speechiness\", \"Correlation\": 0.2634206922227255, \"order\": 1}, {\"genre\": \"Movie\", \"row\": \"energy\", \"col\": \"speechiness\", \"Correlation\": -0.00716373148943685, \"order\": 1}, {\"genre\": \"Movie\", \"row\": \"instrumentalness\", \"col\": \"speechiness\", \"Correlation\": -0.1481756210994964, \"order\": 1}, {\"genre\": \"Movie\", \"row\": \"liveness\", \"col\": \"speechiness\", \"Correlation\": 0.23671269111799065, \"order\": 1}, {\"genre\": \"Movie\", \"row\": \"loudness\", \"col\": \"speechiness\", \"Correlation\": -0.17226636193728534, \"order\": 1}, {\"genre\": \"Movie\", \"row\": \"speechiness\", \"col\": \"speechiness\", \"Correlation\": 1.0, \"order\": 1}, {\"genre\": \"Movie\", \"row\": \"tempo\", \"col\": \"speechiness\", \"Correlation\": -0.010122814698931724, \"order\": 1}, {\"genre\": \"Movie\", \"row\": \"valence\", \"col\": \"speechiness\", \"Correlation\": 0.15059256398236787, \"order\": 1}, {\"genre\": \"Opera\", \"row\": \"popularity\", \"col\": \"speechiness\", \"Correlation\": -0.08479455773232483, \"order\": 0}, {\"genre\": \"Opera\", \"row\": \"acousticness\", \"col\": \"speechiness\", \"Correlation\": 0.005205516572814206, \"order\": 1}, {\"genre\": \"Opera\", \"row\": \"danceability\", \"col\": \"speechiness\", \"Correlation\": 0.29019259368395267, \"order\": 1}, {\"genre\": \"Opera\", \"row\": \"duration_ms\", \"col\": \"speechiness\", \"Correlation\": -0.04526982899665166, \"order\": 1}, {\"genre\": \"Opera\", \"row\": \"energy\", \"col\": \"speechiness\", \"Correlation\": 0.14785984913233538, \"order\": 1}, {\"genre\": \"Opera\", \"row\": \"instrumentalness\", \"col\": \"speechiness\", \"Correlation\": -0.15699022953629205, \"order\": 1}, {\"genre\": \"Opera\", \"row\": \"liveness\", \"col\": \"speechiness\", \"Correlation\": 0.22533784146229183, \"order\": 1}, {\"genre\": \"Opera\", \"row\": \"loudness\", \"col\": \"speechiness\", \"Correlation\": -0.007225877965491324, \"order\": 1}, {\"genre\": \"Opera\", \"row\": \"speechiness\", \"col\": \"speechiness\", \"Correlation\": 1.0, \"order\": 1}, {\"genre\": \"Opera\", \"row\": \"tempo\", \"col\": \"speechiness\", \"Correlation\": 0.016578394803001495, \"order\": 1}, {\"genre\": \"Opera\", \"row\": \"valence\", \"col\": \"speechiness\", \"Correlation\": 0.10571374741559499, \"order\": 1}, {\"genre\": \"Pop\", \"row\": \"popularity\", \"col\": \"speechiness\", \"Correlation\": -0.018074519000148597, \"order\": 0}, {\"genre\": \"Pop\", \"row\": \"acousticness\", \"col\": \"speechiness\", \"Correlation\": -0.16328452778654756, \"order\": 1}, {\"genre\": \"Pop\", \"row\": \"danceability\", \"col\": \"speechiness\", \"Correlation\": 0.23734714021979736, \"order\": 1}, {\"genre\": \"Pop\", \"row\": \"duration_ms\", \"col\": \"speechiness\", \"Correlation\": 0.0043933330987838476, \"order\": 1}, {\"genre\": \"Pop\", \"row\": \"energy\", \"col\": \"speechiness\", \"Correlation\": 0.06733971735032925, \"order\": 1}, {\"genre\": \"Pop\", \"row\": \"instrumentalness\", \"col\": \"speechiness\", \"Correlation\": -0.11206216643390646, \"order\": 1}, {\"genre\": \"Pop\", \"row\": \"liveness\", \"col\": \"speechiness\", \"Correlation\": 0.12183413453998478, \"order\": 1}, {\"genre\": \"Pop\", \"row\": \"loudness\", \"col\": \"speechiness\", \"Correlation\": 0.03195856410064607, \"order\": 1}, {\"genre\": \"Pop\", \"row\": \"speechiness\", \"col\": \"speechiness\", \"Correlation\": 1.0, \"order\": 1}, {\"genre\": \"Pop\", \"row\": \"tempo\", \"col\": \"speechiness\", \"Correlation\": 0.09854140434279887, \"order\": 1}, {\"genre\": \"Pop\", \"row\": \"valence\", \"col\": \"speechiness\", \"Correlation\": 0.02212386030063454, \"order\": 1}, {\"genre\": \"R&B\", \"row\": \"popularity\", \"col\": \"speechiness\", \"Correlation\": -0.037136492374896864, \"order\": 0}, {\"genre\": \"R&B\", \"row\": \"acousticness\", \"col\": \"speechiness\", \"Correlation\": -0.05079344048346262, \"order\": 1}, {\"genre\": \"R&B\", \"row\": \"danceability\", \"col\": \"speechiness\", \"Correlation\": 0.09755503709321692, \"order\": 1}, {\"genre\": \"R&B\", \"row\": \"duration_ms\", \"col\": \"speechiness\", \"Correlation\": -0.11873844776387003, \"order\": 1}, {\"genre\": \"R&B\", \"row\": \"energy\", \"col\": \"speechiness\", \"Correlation\": 0.10886657114785246, \"order\": 1}, {\"genre\": \"R&B\", \"row\": \"instrumentalness\", \"col\": \"speechiness\", \"Correlation\": -0.05655605856682878, \"order\": 1}, {\"genre\": \"R&B\", \"row\": \"liveness\", \"col\": \"speechiness\", \"Correlation\": 0.07634980789628835, \"order\": 1}, {\"genre\": \"R&B\", \"row\": \"loudness\", \"col\": \"speechiness\", \"Correlation\": -0.02340944968286701, \"order\": 1}, {\"genre\": \"R&B\", \"row\": \"speechiness\", \"col\": \"speechiness\", \"Correlation\": 1.0, \"order\": 1}, {\"genre\": \"R&B\", \"row\": \"tempo\", \"col\": \"speechiness\", \"Correlation\": 0.0640306909549102, \"order\": 1}, {\"genre\": \"R&B\", \"row\": \"valence\", \"col\": \"speechiness\", \"Correlation\": 0.13821668788082114, \"order\": 1}, {\"genre\": \"Rap\", \"row\": \"popularity\", \"col\": \"speechiness\", \"Correlation\": -0.050115873898834054, \"order\": 0}, {\"genre\": \"Rap\", \"row\": \"acousticness\", \"col\": \"speechiness\", \"Correlation\": 0.03010459116910482, \"order\": 1}, {\"genre\": \"Rap\", \"row\": \"danceability\", \"col\": \"speechiness\", \"Correlation\": -0.00950144847621037, \"order\": 1}, {\"genre\": \"Rap\", \"row\": \"duration_ms\", \"col\": \"speechiness\", \"Correlation\": 0.04523724450189869, \"order\": 1}, {\"genre\": \"Rap\", \"row\": \"energy\", \"col\": \"speechiness\", \"Correlation\": 0.020713128623234475, \"order\": 1}, {\"genre\": \"Rap\", \"row\": \"instrumentalness\", \"col\": \"speechiness\", \"Correlation\": -0.13319666290303606, \"order\": 1}, {\"genre\": \"Rap\", \"row\": \"liveness\", \"col\": \"speechiness\", \"Correlation\": 0.1062481360233807, \"order\": 1}, {\"genre\": \"Rap\", \"row\": \"loudness\", \"col\": \"speechiness\", \"Correlation\": -0.0697148627931603, \"order\": 1}, {\"genre\": \"Rap\", \"row\": \"speechiness\", \"col\": \"speechiness\", \"Correlation\": 1.0, \"order\": 1}, {\"genre\": \"Rap\", \"row\": \"tempo\", \"col\": \"speechiness\", \"Correlation\": 0.013309881713030177, \"order\": 1}, {\"genre\": \"Rap\", \"row\": \"valence\", \"col\": \"speechiness\", \"Correlation\": 0.14815517320430957, \"order\": 1}, {\"genre\": \"Reggae\", \"row\": \"popularity\", \"col\": \"speechiness\", \"Correlation\": -0.01075829360018525, \"order\": 0}, {\"genre\": \"Reggae\", \"row\": \"acousticness\", \"col\": \"speechiness\", \"Correlation\": 0.031911282991232554, \"order\": 1}, {\"genre\": \"Reggae\", \"row\": \"danceability\", \"col\": \"speechiness\", \"Correlation\": 0.018409501022657083, \"order\": 1}, {\"genre\": \"Reggae\", \"row\": \"duration_ms\", \"col\": \"speechiness\", \"Correlation\": -0.10987400285857253, \"order\": 1}, {\"genre\": \"Reggae\", \"row\": \"energy\", \"col\": \"speechiness\", \"Correlation\": 0.005105165406476962, \"order\": 1}, {\"genre\": \"Reggae\", \"row\": \"instrumentalness\", \"col\": \"speechiness\", \"Correlation\": -0.09390874129406337, \"order\": 1}, {\"genre\": \"Reggae\", \"row\": \"liveness\", \"col\": \"speechiness\", \"Correlation\": 0.01326525602860895, \"order\": 1}, {\"genre\": \"Reggae\", \"row\": \"loudness\", \"col\": \"speechiness\", \"Correlation\": -0.037626069600691515, \"order\": 1}, {\"genre\": \"Reggae\", \"row\": \"speechiness\", \"col\": \"speechiness\", \"Correlation\": 1.0, \"order\": 1}, {\"genre\": \"Reggae\", \"row\": \"tempo\", \"col\": \"speechiness\", \"Correlation\": -0.013520753660558592, \"order\": 1}, {\"genre\": \"Reggae\", \"row\": \"valence\", \"col\": \"speechiness\", \"Correlation\": 0.027533052675416902, \"order\": 1}, {\"genre\": \"Reggaeton\", \"row\": \"popularity\", \"col\": \"speechiness\", \"Correlation\": -0.015926824361361582, \"order\": 0}, {\"genre\": \"Reggaeton\", \"row\": \"acousticness\", \"col\": \"speechiness\", \"Correlation\": 0.049689720992791335, \"order\": 1}, {\"genre\": \"Reggaeton\", \"row\": \"danceability\", \"col\": \"speechiness\", \"Correlation\": 0.005888236345170362, \"order\": 1}, {\"genre\": \"Reggaeton\", \"row\": \"duration_ms\", \"col\": \"speechiness\", \"Correlation\": 0.024323530028631593, \"order\": 1}, {\"genre\": \"Reggaeton\", \"row\": \"energy\", \"col\": \"speechiness\", \"Correlation\": -0.16781826933553345, \"order\": 1}, {\"genre\": \"Reggaeton\", \"row\": \"instrumentalness\", \"col\": \"speechiness\", \"Correlation\": -0.04171606386908841, \"order\": 1}, {\"genre\": \"Reggaeton\", \"row\": \"liveness\", \"col\": \"speechiness\", \"Correlation\": 0.07446428792173497, \"order\": 1}, {\"genre\": \"Reggaeton\", \"row\": \"loudness\", \"col\": \"speechiness\", \"Correlation\": -0.07262700642159017, \"order\": 1}, {\"genre\": \"Reggaeton\", \"row\": \"speechiness\", \"col\": \"speechiness\", \"Correlation\": 1.0, \"order\": 1}, {\"genre\": \"Reggaeton\", \"row\": \"tempo\", \"col\": \"speechiness\", \"Correlation\": 0.11241117100619982, \"order\": 1}, {\"genre\": \"Reggaeton\", \"row\": \"valence\", \"col\": \"speechiness\", \"Correlation\": -0.11767356539545946, \"order\": 1}, {\"genre\": \"Rock\", \"row\": \"popularity\", \"col\": \"speechiness\", \"Correlation\": 0.030577129918893328, \"order\": 0}, {\"genre\": \"Rock\", \"row\": \"acousticness\", \"col\": \"speechiness\", \"Correlation\": -0.12066745547841745, \"order\": 1}, {\"genre\": \"Rock\", \"row\": \"danceability\", \"col\": \"speechiness\", \"Correlation\": -0.11613605601656544, \"order\": 1}, {\"genre\": \"Rock\", \"row\": \"duration_ms\", \"col\": \"speechiness\", \"Correlation\": -0.042917878298620274, \"order\": 1}, {\"genre\": \"Rock\", \"row\": \"energy\", \"col\": \"speechiness\", \"Correlation\": 0.3198824847752172, \"order\": 1}, {\"genre\": \"Rock\", \"row\": \"instrumentalness\", \"col\": \"speechiness\", \"Correlation\": -0.030744760913243716, \"order\": 1}, {\"genre\": \"Rock\", \"row\": \"liveness\", \"col\": \"speechiness\", \"Correlation\": 0.15068490001440157, \"order\": 1}, {\"genre\": \"Rock\", \"row\": \"loudness\", \"col\": \"speechiness\", \"Correlation\": 0.21480207483807073, \"order\": 1}, {\"genre\": \"Rock\", \"row\": \"speechiness\", \"col\": \"speechiness\", \"Correlation\": 1.0, \"order\": 1}, {\"genre\": \"Rock\", \"row\": \"tempo\", \"col\": \"speechiness\", \"Correlation\": 0.14727773290343593, \"order\": 1}, {\"genre\": \"Rock\", \"row\": \"valence\", \"col\": \"speechiness\", \"Correlation\": -0.01134525405657562, \"order\": 1}, {\"genre\": \"Ska\", \"row\": \"popularity\", \"col\": \"speechiness\", \"Correlation\": -0.10428854509984666, \"order\": 0}, {\"genre\": \"Ska\", \"row\": \"acousticness\", \"col\": \"speechiness\", \"Correlation\": 0.030947643044913327, \"order\": 1}, {\"genre\": \"Ska\", \"row\": \"danceability\", \"col\": \"speechiness\", \"Correlation\": -0.20627119876994754, \"order\": 1}, {\"genre\": \"Ska\", \"row\": \"duration_ms\", \"col\": \"speechiness\", \"Correlation\": -0.06278160303519244, \"order\": 1}, {\"genre\": \"Ska\", \"row\": \"energy\", \"col\": \"speechiness\", \"Correlation\": 0.12850723848602882, \"order\": 1}, {\"genre\": \"Ska\", \"row\": \"instrumentalness\", \"col\": \"speechiness\", \"Correlation\": -0.030325640689127437, \"order\": 1}, {\"genre\": \"Ska\", \"row\": \"liveness\", \"col\": \"speechiness\", \"Correlation\": 0.15666579751393175, \"order\": 1}, {\"genre\": \"Ska\", \"row\": \"loudness\", \"col\": \"speechiness\", \"Correlation\": 0.01968772760895978, \"order\": 1}, {\"genre\": \"Ska\", \"row\": \"speechiness\", \"col\": \"speechiness\", \"Correlation\": 1.0, \"order\": 1}, {\"genre\": \"Ska\", \"row\": \"tempo\", \"col\": \"speechiness\", \"Correlation\": 0.11198725030770071, \"order\": 1}, {\"genre\": \"Ska\", \"row\": \"valence\", \"col\": \"speechiness\", \"Correlation\": -0.29518475471150785, \"order\": 1}, {\"genre\": \"Soul\", \"row\": \"popularity\", \"col\": \"speechiness\", \"Correlation\": -0.045245271343945535, \"order\": 0}, {\"genre\": \"Soul\", \"row\": \"acousticness\", \"col\": \"speechiness\", \"Correlation\": -0.05942762886026574, \"order\": 1}, {\"genre\": \"Soul\", \"row\": \"danceability\", \"col\": \"speechiness\", \"Correlation\": 0.09680236278740903, \"order\": 1}, {\"genre\": \"Soul\", \"row\": \"duration_ms\", \"col\": \"speechiness\", \"Correlation\": -0.07118222781578776, \"order\": 1}, {\"genre\": \"Soul\", \"row\": \"energy\", \"col\": \"speechiness\", \"Correlation\": 0.09633922137726837, \"order\": 1}, {\"genre\": \"Soul\", \"row\": \"instrumentalness\", \"col\": \"speechiness\", \"Correlation\": -0.0659119191600803, \"order\": 1}, {\"genre\": \"Soul\", \"row\": \"liveness\", \"col\": \"speechiness\", \"Correlation\": 0.06504075951298081, \"order\": 1}, {\"genre\": \"Soul\", \"row\": \"loudness\", \"col\": \"speechiness\", \"Correlation\": 0.05268847758662011, \"order\": 1}, {\"genre\": \"Soul\", \"row\": \"speechiness\", \"col\": \"speechiness\", \"Correlation\": 1.0, \"order\": 1}, {\"genre\": \"Soul\", \"row\": \"tempo\", \"col\": \"speechiness\", \"Correlation\": 0.05692491937457497, \"order\": 1}, {\"genre\": \"Soul\", \"row\": \"valence\", \"col\": \"speechiness\", \"Correlation\": 0.016342915884259755, \"order\": 1}, {\"genre\": \"Soundtrack\", \"row\": \"popularity\", \"col\": \"speechiness\", \"Correlation\": -0.007464571625493185, \"order\": 0}, {\"genre\": \"Soundtrack\", \"row\": \"acousticness\", \"col\": \"speechiness\", \"Correlation\": -0.07612390171268137, \"order\": 1}, {\"genre\": \"Soundtrack\", \"row\": \"danceability\", \"col\": \"speechiness\", \"Correlation\": 0.10636742282876127, \"order\": 1}, {\"genre\": \"Soundtrack\", \"row\": \"duration_ms\", \"col\": \"speechiness\", \"Correlation\": -0.015652734006455032, \"order\": 1}, {\"genre\": \"Soundtrack\", \"row\": \"energy\", \"col\": \"speechiness\", \"Correlation\": 0.18778125899079576, \"order\": 1}, {\"genre\": \"Soundtrack\", \"row\": \"instrumentalness\", \"col\": \"speechiness\", \"Correlation\": -0.10432788581086527, \"order\": 1}, {\"genre\": \"Soundtrack\", \"row\": \"liveness\", \"col\": \"speechiness\", \"Correlation\": 0.08646782135118769, \"order\": 1}, {\"genre\": \"Soundtrack\", \"row\": \"loudness\", \"col\": \"speechiness\", \"Correlation\": 0.04032032297649128, \"order\": 1}, {\"genre\": \"Soundtrack\", \"row\": \"speechiness\", \"col\": \"speechiness\", \"Correlation\": 1.0, \"order\": 1}, {\"genre\": \"Soundtrack\", \"row\": \"tempo\", \"col\": \"speechiness\", \"Correlation\": 0.09323964481028477, \"order\": 1}, {\"genre\": \"Soundtrack\", \"row\": \"valence\", \"col\": \"speechiness\", \"Correlation\": 0.10136565279953692, \"order\": 1}, {\"genre\": \"World\", \"row\": \"popularity\", \"col\": \"speechiness\", \"Correlation\": -0.07632467715364731, \"order\": 0}, {\"genre\": \"World\", \"row\": \"acousticness\", \"col\": \"speechiness\", \"Correlation\": -0.031149494285756082, \"order\": 1}, {\"genre\": \"World\", \"row\": \"danceability\", \"col\": \"speechiness\", \"Correlation\": 0.15555938925785506, \"order\": 1}, {\"genre\": \"World\", \"row\": \"duration_ms\", \"col\": \"speechiness\", \"Correlation\": -0.03377955875938413, \"order\": 1}, {\"genre\": \"World\", \"row\": \"energy\", \"col\": \"speechiness\", \"Correlation\": 0.18133744566553045, \"order\": 1}, {\"genre\": \"World\", \"row\": \"instrumentalness\", \"col\": \"speechiness\", \"Correlation\": 0.03154708986948237, \"order\": 1}, {\"genre\": \"World\", \"row\": \"liveness\", \"col\": \"speechiness\", \"Correlation\": 0.14757413575351372, \"order\": 1}, {\"genre\": \"World\", \"row\": \"loudness\", \"col\": \"speechiness\", \"Correlation\": -0.002319744047795122, \"order\": 1}, {\"genre\": \"World\", \"row\": \"speechiness\", \"col\": \"speechiness\", \"Correlation\": 1.0, \"order\": 1}, {\"genre\": \"World\", \"row\": \"tempo\", \"col\": \"speechiness\", \"Correlation\": 0.05522854830806723, \"order\": 1}, {\"genre\": \"World\", \"row\": \"valence\", \"col\": \"speechiness\", \"Correlation\": 0.21785257427926927, \"order\": 1}, {\"genre\": \"A Capella\", \"row\": \"popularity\", \"col\": \"tempo\", \"Correlation\": -0.16366981096001745, \"order\": 0}, {\"genre\": \"A Capella\", \"row\": \"acousticness\", \"col\": \"tempo\", \"Correlation\": -0.1622315050019196, \"order\": 1}, {\"genre\": \"A Capella\", \"row\": \"danceability\", \"col\": \"tempo\", \"Correlation\": 0.05563416327649388, \"order\": 1}, {\"genre\": \"A Capella\", \"row\": \"duration_ms\", \"col\": \"tempo\", \"Correlation\": 0.0930936452609697, \"order\": 1}, {\"genre\": \"A Capella\", \"row\": \"energy\", \"col\": \"tempo\", \"Correlation\": 0.15401664056775624, \"order\": 1}, {\"genre\": \"A Capella\", \"row\": \"instrumentalness\", \"col\": \"tempo\", \"Correlation\": -0.08361315834035178, \"order\": 1}, {\"genre\": \"A Capella\", \"row\": \"liveness\", \"col\": \"tempo\", \"Correlation\": 0.005491421548919964, \"order\": 1}, {\"genre\": \"A Capella\", \"row\": \"loudness\", \"col\": \"tempo\", \"Correlation\": 0.12771252742668962, \"order\": 1}, {\"genre\": \"A Capella\", \"row\": \"speechiness\", \"col\": \"tempo\", \"Correlation\": 0.04155231395179999, \"order\": 1}, {\"genre\": \"A Capella\", \"row\": \"tempo\", \"col\": \"tempo\", \"Correlation\": 1.0, \"order\": 1}, {\"genre\": \"A Capella\", \"row\": \"valence\", \"col\": \"tempo\", \"Correlation\": 0.09802932344030116, \"order\": 1}, {\"genre\": \"Alternative\", \"row\": \"popularity\", \"col\": \"tempo\", \"Correlation\": -0.053699936181020806, \"order\": 0}, {\"genre\": \"Alternative\", \"row\": \"acousticness\", \"col\": \"tempo\", \"Correlation\": -0.15312955850517965, \"order\": 1}, {\"genre\": \"Alternative\", \"row\": \"danceability\", \"col\": \"tempo\", \"Correlation\": -0.2538599749285715, \"order\": 1}, {\"genre\": \"Alternative\", \"row\": \"duration_ms\", \"col\": \"tempo\", \"Correlation\": 0.02259554973887908, \"order\": 1}, {\"genre\": \"Alternative\", \"row\": \"energy\", \"col\": \"tempo\", \"Correlation\": 0.19199580512168052, \"order\": 1}, {\"genre\": \"Alternative\", \"row\": \"instrumentalness\", \"col\": \"tempo\", \"Correlation\": -0.03569489017801114, \"order\": 1}, {\"genre\": \"Alternative\", \"row\": \"liveness\", \"col\": \"tempo\", \"Correlation\": 0.005895556406389366, \"order\": 1}, {\"genre\": \"Alternative\", \"row\": \"loudness\", \"col\": \"tempo\", \"Correlation\": 0.15543887986079796, \"order\": 1}, {\"genre\": \"Alternative\", \"row\": \"speechiness\", \"col\": \"tempo\", \"Correlation\": -0.013975301347368017, \"order\": 1}, {\"genre\": \"Alternative\", \"row\": \"tempo\", \"col\": \"tempo\", \"Correlation\": 1.0, \"order\": 1}, {\"genre\": \"Alternative\", \"row\": \"valence\", \"col\": \"tempo\", \"Correlation\": -0.017888393013074575, \"order\": 1}, {\"genre\": \"Blues\", \"row\": \"popularity\", \"col\": \"tempo\", \"Correlation\": -0.02921194425655905, \"order\": 0}, {\"genre\": \"Blues\", \"row\": \"acousticness\", \"col\": \"tempo\", \"Correlation\": -0.1756627939389088, \"order\": 1}, {\"genre\": \"Blues\", \"row\": \"danceability\", \"col\": \"tempo\", \"Correlation\": -0.27679443295961437, \"order\": 1}, {\"genre\": \"Blues\", \"row\": \"duration_ms\", \"col\": \"tempo\", \"Correlation\": 0.019857863288326852, \"order\": 1}, {\"genre\": \"Blues\", \"row\": \"energy\", \"col\": \"tempo\", \"Correlation\": 0.2159812263275464, \"order\": 1}, {\"genre\": \"Blues\", \"row\": \"instrumentalness\", \"col\": \"tempo\", \"Correlation\": -0.00011206887200576036, \"order\": 1}, {\"genre\": \"Blues\", \"row\": \"liveness\", \"col\": \"tempo\", \"Correlation\": 0.0019882397478638604, \"order\": 1}, {\"genre\": \"Blues\", \"row\": \"loudness\", \"col\": \"tempo\", \"Correlation\": 0.16632692830863544, \"order\": 1}, {\"genre\": \"Blues\", \"row\": \"speechiness\", \"col\": \"tempo\", \"Correlation\": -0.03897120783232088, \"order\": 1}, {\"genre\": \"Blues\", \"row\": \"tempo\", \"col\": \"tempo\", \"Correlation\": 1.0, \"order\": 1}, {\"genre\": \"Blues\", \"row\": \"valence\", \"col\": \"tempo\", \"Correlation\": 0.021545415844417402, \"order\": 1}, {\"genre\": \"Classical\", \"row\": \"popularity\", \"col\": \"tempo\", \"Correlation\": -0.00853420494422047, \"order\": 0}, {\"genre\": \"Classical\", \"row\": \"acousticness\", \"col\": \"tempo\", \"Correlation\": -0.245659854405039, \"order\": 1}, {\"genre\": \"Classical\", \"row\": \"danceability\", \"col\": \"tempo\", \"Correlation\": 0.199517690291202, \"order\": 1}, {\"genre\": \"Classical\", \"row\": \"duration_ms\", \"col\": \"tempo\", \"Correlation\": -0.03126152982907449, \"order\": 1}, {\"genre\": \"Classical\", \"row\": \"energy\", \"col\": \"tempo\", \"Correlation\": 0.28684627519345557, \"order\": 1}, {\"genre\": \"Classical\", \"row\": \"instrumentalness\", \"col\": \"tempo\", \"Correlation\": -0.11857864154608784, \"order\": 1}, {\"genre\": \"Classical\", \"row\": \"liveness\", \"col\": \"tempo\", \"Correlation\": 0.04836905869444292, \"order\": 1}, {\"genre\": \"Classical\", \"row\": \"loudness\", \"col\": \"tempo\", \"Correlation\": 0.24979011231196793, \"order\": 1}, {\"genre\": \"Classical\", \"row\": \"speechiness\", \"col\": \"tempo\", \"Correlation\": 0.07226429783913955, \"order\": 1}, {\"genre\": \"Classical\", \"row\": \"tempo\", \"col\": \"tempo\", \"Correlation\": 1.0, \"order\": 1}, {\"genre\": \"Classical\", \"row\": \"valence\", \"col\": \"tempo\", \"Correlation\": 0.2337964487591555, \"order\": 1}, {\"genre\": \"Comedy\", \"row\": \"popularity\", \"col\": \"tempo\", \"Correlation\": 0.02931704516531205, \"order\": 0}, {\"genre\": \"Comedy\", \"row\": \"acousticness\", \"col\": \"tempo\", \"Correlation\": -0.09719800297735616, \"order\": 1}, {\"genre\": \"Comedy\", \"row\": \"danceability\", \"col\": \"tempo\", \"Correlation\": 0.004730480790439104, \"order\": 1}, {\"genre\": \"Comedy\", \"row\": \"duration_ms\", \"col\": \"tempo\", \"Correlation\": -0.03651859378101631, \"order\": 1}, {\"genre\": \"Comedy\", \"row\": \"energy\", \"col\": \"tempo\", \"Correlation\": -0.031332868527312846, \"order\": 1}, {\"genre\": \"Comedy\", \"row\": \"instrumentalness\", \"col\": \"tempo\", \"Correlation\": 0.00351452027138462, \"order\": 1}, {\"genre\": \"Comedy\", \"row\": \"liveness\", \"col\": \"tempo\", \"Correlation\": -0.09010612769330928, \"order\": 1}, {\"genre\": \"Comedy\", \"row\": \"loudness\", \"col\": \"tempo\", \"Correlation\": 0.021780177793370246, \"order\": 1}, {\"genre\": \"Comedy\", \"row\": \"speechiness\", \"col\": \"tempo\", \"Correlation\": -0.18454679362938273, \"order\": 1}, {\"genre\": \"Comedy\", \"row\": \"tempo\", \"col\": \"tempo\", \"Correlation\": 1.0, \"order\": 1}, {\"genre\": \"Comedy\", \"row\": \"valence\", \"col\": \"tempo\", \"Correlation\": 0.017540865178814046, \"order\": 1}, {\"genre\": \"Country\", \"row\": \"popularity\", \"col\": \"tempo\", \"Correlation\": -0.025647128570006415, \"order\": 0}, {\"genre\": \"Country\", \"row\": \"acousticness\", \"col\": \"tempo\", \"Correlation\": -0.13716235453732661, \"order\": 1}, {\"genre\": \"Country\", \"row\": \"danceability\", \"col\": \"tempo\", \"Correlation\": -0.2528790038251563, \"order\": 1}, {\"genre\": \"Country\", \"row\": \"duration_ms\", \"col\": \"tempo\", \"Correlation\": -0.0032615244344364764, \"order\": 1}, {\"genre\": \"Country\", \"row\": \"energy\", \"col\": \"tempo\", \"Correlation\": 0.20964265008678062, \"order\": 1}, {\"genre\": \"Country\", \"row\": \"instrumentalness\", \"col\": \"tempo\", \"Correlation\": -0.03416015173417048, \"order\": 1}, {\"genre\": \"Country\", \"row\": \"liveness\", \"col\": \"tempo\", \"Correlation\": 0.01684922803576025, \"order\": 1}, {\"genre\": \"Country\", \"row\": \"loudness\", \"col\": \"tempo\", \"Correlation\": 0.17384217719605874, \"order\": 1}, {\"genre\": \"Country\", \"row\": \"speechiness\", \"col\": \"tempo\", \"Correlation\": 0.09610688637820727, \"order\": 1}, {\"genre\": \"Country\", \"row\": \"tempo\", \"col\": \"tempo\", \"Correlation\": 1.0, \"order\": 1}, {\"genre\": \"Country\", \"row\": \"valence\", \"col\": \"tempo\", \"Correlation\": 0.11424167046656417, \"order\": 1}, {\"genre\": \"Dance\", \"row\": \"popularity\", \"col\": \"tempo\", \"Correlation\": -0.013736710519213817, \"order\": 0}, {\"genre\": \"Dance\", \"row\": \"acousticness\", \"col\": \"tempo\", \"Correlation\": -0.07953363896249606, \"order\": 1}, {\"genre\": \"Dance\", \"row\": \"danceability\", \"col\": \"tempo\", \"Correlation\": -0.20900738014730447, \"order\": 1}, {\"genre\": \"Dance\", \"row\": \"duration_ms\", \"col\": \"tempo\", \"Correlation\": -0.012012769599845593, \"order\": 1}, {\"genre\": \"Dance\", \"row\": \"energy\", \"col\": \"tempo\", \"Correlation\": 0.11515080789517614, \"order\": 1}, {\"genre\": \"Dance\", \"row\": \"instrumentalness\", \"col\": \"tempo\", \"Correlation\": 0.031059753224203287, \"order\": 1}, {\"genre\": \"Dance\", \"row\": \"liveness\", \"col\": \"tempo\", \"Correlation\": 0.03571745710397358, \"order\": 1}, {\"genre\": \"Dance\", \"row\": \"loudness\", \"col\": \"tempo\", \"Correlation\": 0.05153659551605683, \"order\": 1}, {\"genre\": \"Dance\", \"row\": \"speechiness\", \"col\": \"tempo\", \"Correlation\": 0.07537477483838945, \"order\": 1}, {\"genre\": \"Dance\", \"row\": \"tempo\", \"col\": \"tempo\", \"Correlation\": 1.0, \"order\": 1}, {\"genre\": \"Dance\", \"row\": \"valence\", \"col\": \"tempo\", \"Correlation\": 0.00670550378983388, \"order\": 1}, {\"genre\": \"Electronic\", \"row\": \"popularity\", \"col\": \"tempo\", \"Correlation\": -0.020987216826904805, \"order\": 0}, {\"genre\": \"Electronic\", \"row\": \"acousticness\", \"col\": \"tempo\", \"Correlation\": -0.1100863177992117, \"order\": 1}, {\"genre\": \"Electronic\", \"row\": \"danceability\", \"col\": \"tempo\", \"Correlation\": -0.130829049760358, \"order\": 1}, {\"genre\": \"Electronic\", \"row\": \"duration_ms\", \"col\": \"tempo\", \"Correlation\": -0.043307308549265074, \"order\": 1}, {\"genre\": \"Electronic\", \"row\": \"energy\", \"col\": \"tempo\", \"Correlation\": 0.19920185965097448, \"order\": 1}, {\"genre\": \"Electronic\", \"row\": \"instrumentalness\", \"col\": \"tempo\", \"Correlation\": -0.02278695392576628, \"order\": 1}, {\"genre\": \"Electronic\", \"row\": \"liveness\", \"col\": \"tempo\", \"Correlation\": 0.0397346209915718, \"order\": 1}, {\"genre\": \"Electronic\", \"row\": \"loudness\", \"col\": \"tempo\", \"Correlation\": 0.1512128782780828, \"order\": 1}, {\"genre\": \"Electronic\", \"row\": \"speechiness\", \"col\": \"tempo\", \"Correlation\": 0.09761026277118956, \"order\": 1}, {\"genre\": \"Electronic\", \"row\": \"tempo\", \"col\": \"tempo\", \"Correlation\": 1.0, \"order\": 1}, {\"genre\": \"Electronic\", \"row\": \"valence\", \"col\": \"tempo\", \"Correlation\": -0.01780378630118436, \"order\": 1}, {\"genre\": \"Folk\", \"row\": \"popularity\", \"col\": \"tempo\", \"Correlation\": 0.005450772812922808, \"order\": 0}, {\"genre\": \"Folk\", \"row\": \"acousticness\", \"col\": \"tempo\", \"Correlation\": -0.09756693448303634, \"order\": 1}, {\"genre\": \"Folk\", \"row\": \"danceability\", \"col\": \"tempo\", \"Correlation\": -0.11450919475815702, \"order\": 1}, {\"genre\": \"Folk\", \"row\": \"duration_ms\", \"col\": \"tempo\", \"Correlation\": 0.00012441692948422198, \"order\": 1}, {\"genre\": \"Folk\", \"row\": \"energy\", \"col\": \"tempo\", \"Correlation\": 0.14314447991458976, \"order\": 1}, {\"genre\": \"Folk\", \"row\": \"instrumentalness\", \"col\": \"tempo\", \"Correlation\": -0.006927256217844447, \"order\": 1}, {\"genre\": \"Folk\", \"row\": \"liveness\", \"col\": \"tempo\", \"Correlation\": 0.01584762853636845, \"order\": 1}, {\"genre\": \"Folk\", \"row\": \"loudness\", \"col\": \"tempo\", \"Correlation\": 0.09580426004913797, \"order\": 1}, {\"genre\": \"Folk\", \"row\": \"speechiness\", \"col\": \"tempo\", \"Correlation\": 0.090490978881676, \"order\": 1}, {\"genre\": \"Folk\", \"row\": \"tempo\", \"col\": \"tempo\", \"Correlation\": 1.0, \"order\": 1}, {\"genre\": \"Folk\", \"row\": \"valence\", \"col\": \"tempo\", \"Correlation\": 0.11287576085761564, \"order\": 1}, {\"genre\": \"Hip-Hop\", \"row\": \"popularity\", \"col\": \"tempo\", \"Correlation\": 0.01639242839450389, \"order\": 0}, {\"genre\": \"Hip-Hop\", \"row\": \"acousticness\", \"col\": \"tempo\", \"Correlation\": -0.08187634894309846, \"order\": 1}, {\"genre\": \"Hip-Hop\", \"row\": \"danceability\", \"col\": \"tempo\", \"Correlation\": -0.0385598761673755, \"order\": 1}, {\"genre\": \"Hip-Hop\", \"row\": \"duration_ms\", \"col\": \"tempo\", \"Correlation\": -0.0913224523952125, \"order\": 1}, {\"genre\": \"Hip-Hop\", \"row\": \"energy\", \"col\": \"tempo\", \"Correlation\": -0.020400958099737743, \"order\": 1}, {\"genre\": \"Hip-Hop\", \"row\": \"instrumentalness\", \"col\": \"tempo\", \"Correlation\": 0.022483182241321356, \"order\": 1}, {\"genre\": \"Hip-Hop\", \"row\": \"liveness\", \"col\": \"tempo\", \"Correlation\": -0.06042843659035642, \"order\": 1}, {\"genre\": \"Hip-Hop\", \"row\": \"loudness\", \"col\": \"tempo\", \"Correlation\": 0.008951660298675395, \"order\": 1}, {\"genre\": \"Hip-Hop\", \"row\": \"speechiness\", \"col\": \"tempo\", \"Correlation\": 0.07637719834821288, \"order\": 1}, {\"genre\": \"Hip-Hop\", \"row\": \"tempo\", \"col\": \"tempo\", \"Correlation\": 1.0, \"order\": 1}, {\"genre\": \"Hip-Hop\", \"row\": \"valence\", \"col\": \"tempo\", \"Correlation\": -0.03678098718480423, \"order\": 1}, {\"genre\": \"Indie\", \"row\": \"popularity\", \"col\": \"tempo\", \"Correlation\": -0.036534339676327146, \"order\": 0}, {\"genre\": \"Indie\", \"row\": \"acousticness\", \"col\": \"tempo\", \"Correlation\": -0.11607039180920982, \"order\": 1}, {\"genre\": \"Indie\", \"row\": \"danceability\", \"col\": \"tempo\", \"Correlation\": -0.23481813084923328, \"order\": 1}, {\"genre\": \"Indie\", \"row\": \"duration_ms\", \"col\": \"tempo\", \"Correlation\": 0.0462150949952219, \"order\": 1}, {\"genre\": \"Indie\", \"row\": \"energy\", \"col\": \"tempo\", \"Correlation\": 0.17210935104172848, \"order\": 1}, {\"genre\": \"Indie\", \"row\": \"instrumentalness\", \"col\": \"tempo\", \"Correlation\": 0.02558878103787679, \"order\": 1}, {\"genre\": \"Indie\", \"row\": \"liveness\", \"col\": \"tempo\", \"Correlation\": 0.02500383384762854, \"order\": 1}, {\"genre\": \"Indie\", \"row\": \"loudness\", \"col\": \"tempo\", \"Correlation\": 0.11502899950008695, \"order\": 1}, {\"genre\": \"Indie\", \"row\": \"speechiness\", \"col\": \"tempo\", \"Correlation\": 0.07876582064488001, \"order\": 1}, {\"genre\": \"Indie\", \"row\": \"tempo\", \"col\": \"tempo\", \"Correlation\": 1.0, \"order\": 1}, {\"genre\": \"Indie\", \"row\": \"valence\", \"col\": \"tempo\", \"Correlation\": 0.0417151306221826, \"order\": 1}, {\"genre\": \"Jazz\", \"row\": \"popularity\", \"col\": \"tempo\", \"Correlation\": -0.014783042848355413, \"order\": 0}, {\"genre\": \"Jazz\", \"row\": \"acousticness\", \"col\": \"tempo\", \"Correlation\": -0.07821608417703528, \"order\": 1}, {\"genre\": \"Jazz\", \"row\": \"danceability\", \"col\": \"tempo\", \"Correlation\": -0.08400485539202443, \"order\": 1}, {\"genre\": \"Jazz\", \"row\": \"duration_ms\", \"col\": \"tempo\", \"Correlation\": 0.05815221872068694, \"order\": 1}, {\"genre\": \"Jazz\", \"row\": \"energy\", \"col\": \"tempo\", \"Correlation\": 0.11963096531872448, \"order\": 1}, {\"genre\": \"Jazz\", \"row\": \"instrumentalness\", \"col\": \"tempo\", \"Correlation\": -0.012251628886826899, \"order\": 1}, {\"genre\": \"Jazz\", \"row\": \"liveness\", \"col\": \"tempo\", \"Correlation\": 0.015437040438851173, \"order\": 1}, {\"genre\": \"Jazz\", \"row\": \"loudness\", \"col\": \"tempo\", \"Correlation\": 0.08380129803965783, \"order\": 1}, {\"genre\": \"Jazz\", \"row\": \"speechiness\", \"col\": \"tempo\", \"Correlation\": 0.04605153024538247, \"order\": 1}, {\"genre\": \"Jazz\", \"row\": \"tempo\", \"col\": \"tempo\", \"Correlation\": 1.0, \"order\": 1}, {\"genre\": \"Jazz\", \"row\": \"valence\", \"col\": \"tempo\", \"Correlation\": 0.08939896254622537, \"order\": 1}, {\"genre\": \"Movie\", \"row\": \"popularity\", \"col\": \"tempo\", \"Correlation\": -0.05350922730561565, \"order\": 0}, {\"genre\": \"Movie\", \"row\": \"acousticness\", \"col\": \"tempo\", \"Correlation\": -0.18134924211115794, \"order\": 1}, {\"genre\": \"Movie\", \"row\": \"danceability\", \"col\": \"tempo\", \"Correlation\": 0.14223463404715525, \"order\": 1}, {\"genre\": \"Movie\", \"row\": \"duration_ms\", \"col\": \"tempo\", \"Correlation\": -0.053698341109133824, \"order\": 1}, {\"genre\": \"Movie\", \"row\": \"energy\", \"col\": \"tempo\", \"Correlation\": 0.24470703984568976, \"order\": 1}, {\"genre\": \"Movie\", \"row\": \"instrumentalness\", \"col\": \"tempo\", \"Correlation\": -0.10248859362859256, \"order\": 1}, {\"genre\": \"Movie\", \"row\": \"liveness\", \"col\": \"tempo\", \"Correlation\": 0.031076714309584363, \"order\": 1}, {\"genre\": \"Movie\", \"row\": \"loudness\", \"col\": \"tempo\", \"Correlation\": 0.20372798492209934, \"order\": 1}, {\"genre\": \"Movie\", \"row\": \"speechiness\", \"col\": \"tempo\", \"Correlation\": -0.010122814698931724, \"order\": 1}, {\"genre\": \"Movie\", \"row\": \"tempo\", \"col\": \"tempo\", \"Correlation\": 1.0, \"order\": 1}, {\"genre\": \"Movie\", \"row\": \"valence\", \"col\": \"tempo\", \"Correlation\": 0.2647265252071481, \"order\": 1}, {\"genre\": \"Opera\", \"row\": \"popularity\", \"col\": \"tempo\", \"Correlation\": -0.019668562206130794, \"order\": 0}, {\"genre\": \"Opera\", \"row\": \"acousticness\", \"col\": \"tempo\", \"Correlation\": -0.06295509536223609, \"order\": 1}, {\"genre\": \"Opera\", \"row\": \"danceability\", \"col\": \"tempo\", \"Correlation\": 0.16467688359853044, \"order\": 1}, {\"genre\": \"Opera\", \"row\": \"duration_ms\", \"col\": \"tempo\", \"Correlation\": -0.07341497816329312, \"order\": 1}, {\"genre\": \"Opera\", \"row\": \"energy\", \"col\": \"tempo\", \"Correlation\": 0.033753612687009146, \"order\": 1}, {\"genre\": \"Opera\", \"row\": \"instrumentalness\", \"col\": \"tempo\", \"Correlation\": -0.003106044401267202, \"order\": 1}, {\"genre\": \"Opera\", \"row\": \"liveness\", \"col\": \"tempo\", \"Correlation\": -0.015660500554359236, \"order\": 1}, {\"genre\": \"Opera\", \"row\": \"loudness\", \"col\": \"tempo\", \"Correlation\": 0.010421074413792121, \"order\": 1}, {\"genre\": \"Opera\", \"row\": \"speechiness\", \"col\": \"tempo\", \"Correlation\": 0.016578394803001495, \"order\": 1}, {\"genre\": \"Opera\", \"row\": \"tempo\", \"col\": \"tempo\", \"Correlation\": 1.0, \"order\": 1}, {\"genre\": \"Opera\", \"row\": \"valence\", \"col\": \"tempo\", \"Correlation\": 0.1520803486974214, \"order\": 1}, {\"genre\": \"Pop\", \"row\": \"popularity\", \"col\": \"tempo\", \"Correlation\": -0.007109415249170992, \"order\": 0}, {\"genre\": \"Pop\", \"row\": \"acousticness\", \"col\": \"tempo\", \"Correlation\": -0.11574324191991865, \"order\": 1}, {\"genre\": \"Pop\", \"row\": \"danceability\", \"col\": \"tempo\", \"Correlation\": -0.09442532490887787, \"order\": 1}, {\"genre\": \"Pop\", \"row\": \"duration_ms\", \"col\": \"tempo\", \"Correlation\": -0.04923719316142861, \"order\": 1}, {\"genre\": \"Pop\", \"row\": \"energy\", \"col\": \"tempo\", \"Correlation\": 0.13467651735078154, \"order\": 1}, {\"genre\": \"Pop\", \"row\": \"instrumentalness\", \"col\": \"tempo\", \"Correlation\": -0.017878416589422255, \"order\": 1}, {\"genre\": \"Pop\", \"row\": \"liveness\", \"col\": \"tempo\", \"Correlation\": 0.028632574780277243, \"order\": 1}, {\"genre\": \"Pop\", \"row\": \"loudness\", \"col\": \"tempo\", \"Correlation\": 0.09509065169900792, \"order\": 1}, {\"genre\": \"Pop\", \"row\": \"speechiness\", \"col\": \"tempo\", \"Correlation\": 0.09854140434279887, \"order\": 1}, {\"genre\": \"Pop\", \"row\": \"tempo\", \"col\": \"tempo\", \"Correlation\": 1.0, \"order\": 1}, {\"genre\": \"Pop\", \"row\": \"valence\", \"col\": \"tempo\", \"Correlation\": 0.029659002405730637, \"order\": 1}, {\"genre\": \"R&B\", \"row\": \"popularity\", \"col\": \"tempo\", \"Correlation\": -0.009961823797745857, \"order\": 0}, {\"genre\": \"R&B\", \"row\": \"acousticness\", \"col\": \"tempo\", \"Correlation\": -0.10013239141129333, \"order\": 1}, {\"genre\": \"R&B\", \"row\": \"danceability\", \"col\": \"tempo\", \"Correlation\": -0.05813856311499577, \"order\": 1}, {\"genre\": \"R&B\", \"row\": \"duration_ms\", \"col\": \"tempo\", \"Correlation\": -0.008539803389594824, \"order\": 1}, {\"genre\": \"R&B\", \"row\": \"energy\", \"col\": \"tempo\", \"Correlation\": 0.10118944247211675, \"order\": 1}, {\"genre\": \"R&B\", \"row\": \"instrumentalness\", \"col\": \"tempo\", \"Correlation\": -0.004858107272632063, \"order\": 1}, {\"genre\": \"R&B\", \"row\": \"liveness\", \"col\": \"tempo\", \"Correlation\": -0.008954348582230284, \"order\": 1}, {\"genre\": \"R&B\", \"row\": \"loudness\", \"col\": \"tempo\", \"Correlation\": 0.06688736492243477, \"order\": 1}, {\"genre\": \"R&B\", \"row\": \"speechiness\", \"col\": \"tempo\", \"Correlation\": 0.0640306909549102, \"order\": 1}, {\"genre\": \"R&B\", \"row\": \"tempo\", \"col\": \"tempo\", \"Correlation\": 1.0, \"order\": 1}, {\"genre\": \"R&B\", \"row\": \"valence\", \"col\": \"tempo\", \"Correlation\": 0.00650800855672263, \"order\": 1}, {\"genre\": \"Rap\", \"row\": \"popularity\", \"col\": \"tempo\", \"Correlation\": -0.0033133726477601985, \"order\": 0}, {\"genre\": \"Rap\", \"row\": \"acousticness\", \"col\": \"tempo\", \"Correlation\": -0.09193904163057678, \"order\": 1}, {\"genre\": \"Rap\", \"row\": \"danceability\", \"col\": \"tempo\", \"Correlation\": -0.025933045240624324, \"order\": 1}, {\"genre\": \"Rap\", \"row\": \"duration_ms\", \"col\": \"tempo\", \"Correlation\": -0.09217400234267094, \"order\": 1}, {\"genre\": \"Rap\", \"row\": \"energy\", \"col\": \"tempo\", \"Correlation\": 0.019544527584863948, \"order\": 1}, {\"genre\": \"Rap\", \"row\": \"instrumentalness\", \"col\": \"tempo\", \"Correlation\": -0.005164881372699011, \"order\": 1}, {\"genre\": \"Rap\", \"row\": \"liveness\", \"col\": \"tempo\", \"Correlation\": -0.0012023208157948377, \"order\": 1}, {\"genre\": \"Rap\", \"row\": \"loudness\", \"col\": \"tempo\", \"Correlation\": 0.03892553349016356, \"order\": 1}, {\"genre\": \"Rap\", \"row\": \"speechiness\", \"col\": \"tempo\", \"Correlation\": 0.013309881713030177, \"order\": 1}, {\"genre\": \"Rap\", \"row\": \"tempo\", \"col\": \"tempo\", \"Correlation\": 1.0, \"order\": 1}, {\"genre\": \"Rap\", \"row\": \"valence\", \"col\": \"tempo\", \"Correlation\": -0.03174192272659955, \"order\": 1}, {\"genre\": \"Reggae\", \"row\": \"popularity\", \"col\": \"tempo\", \"Correlation\": 0.0013506906841612354, \"order\": 0}, {\"genre\": \"Reggae\", \"row\": \"acousticness\", \"col\": \"tempo\", \"Correlation\": 0.0027844166478151315, \"order\": 1}, {\"genre\": \"Reggae\", \"row\": \"danceability\", \"col\": \"tempo\", \"Correlation\": -0.1245169424582874, \"order\": 1}, {\"genre\": \"Reggae\", \"row\": \"duration_ms\", \"col\": \"tempo\", \"Correlation\": 0.04343962132299093, \"order\": 1}, {\"genre\": \"Reggae\", \"row\": \"energy\", \"col\": \"tempo\", \"Correlation\": 0.02638199544681492, \"order\": 1}, {\"genre\": \"Reggae\", \"row\": \"instrumentalness\", \"col\": \"tempo\", \"Correlation\": 0.013771356749871148, \"order\": 1}, {\"genre\": \"Reggae\", \"row\": \"liveness\", \"col\": \"tempo\", \"Correlation\": -0.021077824691664634, \"order\": 1}, {\"genre\": \"Reggae\", \"row\": \"loudness\", \"col\": \"tempo\", \"Correlation\": -0.01262964942970897, \"order\": 1}, {\"genre\": \"Reggae\", \"row\": \"speechiness\", \"col\": \"tempo\", \"Correlation\": -0.013520753660558592, \"order\": 1}, {\"genre\": \"Reggae\", \"row\": \"tempo\", \"col\": \"tempo\", \"Correlation\": 1.0, \"order\": 1}, {\"genre\": \"Reggae\", \"row\": \"valence\", \"col\": \"tempo\", \"Correlation\": 0.060020320952363766, \"order\": 1}, {\"genre\": \"Reggaeton\", \"row\": \"popularity\", \"col\": \"tempo\", \"Correlation\": 0.05317526190407802, \"order\": 0}, {\"genre\": \"Reggaeton\", \"row\": \"acousticness\", \"col\": \"tempo\", \"Correlation\": 0.023318712648756533, \"order\": 1}, {\"genre\": \"Reggaeton\", \"row\": \"danceability\", \"col\": \"tempo\", \"Correlation\": -0.26133382515162284, \"order\": 1}, {\"genre\": \"Reggaeton\", \"row\": \"duration_ms\", \"col\": \"tempo\", \"Correlation\": 0.009208024437169369, \"order\": 1}, {\"genre\": \"Reggaeton\", \"row\": \"energy\", \"col\": \"tempo\", \"Correlation\": -0.04057567715360419, \"order\": 1}, {\"genre\": \"Reggaeton\", \"row\": \"instrumentalness\", \"col\": \"tempo\", \"Correlation\": 0.008104846228892989, \"order\": 1}, {\"genre\": \"Reggaeton\", \"row\": \"liveness\", \"col\": \"tempo\", \"Correlation\": -0.012648807759200636, \"order\": 1}, {\"genre\": \"Reggaeton\", \"row\": \"loudness\", \"col\": \"tempo\", \"Correlation\": 0.04333557028739459, \"order\": 1}, {\"genre\": \"Reggaeton\", \"row\": \"speechiness\", \"col\": \"tempo\", \"Correlation\": 0.11241117100619982, \"order\": 1}, {\"genre\": \"Reggaeton\", \"row\": \"tempo\", \"col\": \"tempo\", \"Correlation\": 1.0, \"order\": 1}, {\"genre\": \"Reggaeton\", \"row\": \"valence\", \"col\": \"tempo\", \"Correlation\": -0.016833800485100067, \"order\": 1}, {\"genre\": \"Rock\", \"row\": \"popularity\", \"col\": \"tempo\", \"Correlation\": -0.000865896692504546, \"order\": 0}, {\"genre\": \"Rock\", \"row\": \"acousticness\", \"col\": \"tempo\", \"Correlation\": -0.14653644587220113, \"order\": 1}, {\"genre\": \"Rock\", \"row\": \"danceability\", \"col\": \"tempo\", \"Correlation\": -0.1631764302899944, \"order\": 1}, {\"genre\": \"Rock\", \"row\": \"duration_ms\", \"col\": \"tempo\", \"Correlation\": -0.012229167551998979, \"order\": 1}, {\"genre\": \"Rock\", \"row\": \"energy\", \"col\": \"tempo\", \"Correlation\": 0.2141207438265255, \"order\": 1}, {\"genre\": \"Rock\", \"row\": \"instrumentalness\", \"col\": \"tempo\", \"Correlation\": -0.06554682839965206, \"order\": 1}, {\"genre\": \"Rock\", \"row\": \"liveness\", \"col\": \"tempo\", \"Correlation\": 0.03873900134624026, \"order\": 1}, {\"genre\": \"Rock\", \"row\": \"loudness\", \"col\": \"tempo\", \"Correlation\": 0.18243177614906003, \"order\": 1}, {\"genre\": \"Rock\", \"row\": \"speechiness\", \"col\": \"tempo\", \"Correlation\": 0.14727773290343593, \"order\": 1}, {\"genre\": \"Rock\", \"row\": \"tempo\", \"col\": \"tempo\", \"Correlation\": 1.0, \"order\": 1}, {\"genre\": \"Rock\", \"row\": \"valence\", \"col\": \"tempo\", \"Correlation\": 0.0687441457915149, \"order\": 1}, {\"genre\": \"Ska\", \"row\": \"popularity\", \"col\": \"tempo\", \"Correlation\": 0.017081899278490877, \"order\": 0}, {\"genre\": \"Ska\", \"row\": \"acousticness\", \"col\": \"tempo\", \"Correlation\": -0.10583433300920159, \"order\": 1}, {\"genre\": \"Ska\", \"row\": \"danceability\", \"col\": \"tempo\", \"Correlation\": -0.3066977059478587, \"order\": 1}, {\"genre\": \"Ska\", \"row\": \"duration_ms\", \"col\": \"tempo\", \"Correlation\": -0.03281339147478643, \"order\": 1}, {\"genre\": \"Ska\", \"row\": \"energy\", \"col\": \"tempo\", \"Correlation\": 0.16877111919218912, \"order\": 1}, {\"genre\": \"Ska\", \"row\": \"instrumentalness\", \"col\": \"tempo\", \"Correlation\": -0.0530067894393599, \"order\": 1}, {\"genre\": \"Ska\", \"row\": \"liveness\", \"col\": \"tempo\", \"Correlation\": -0.014639030959322858, \"order\": 1}, {\"genre\": \"Ska\", \"row\": \"loudness\", \"col\": \"tempo\", \"Correlation\": 0.10476140466296172, \"order\": 1}, {\"genre\": \"Ska\", \"row\": \"speechiness\", \"col\": \"tempo\", \"Correlation\": 0.11198725030770071, \"order\": 1}, {\"genre\": \"Ska\", \"row\": \"tempo\", \"col\": \"tempo\", \"Correlation\": 1.0, \"order\": 1}, {\"genre\": \"Ska\", \"row\": \"valence\", \"col\": \"tempo\", \"Correlation\": 0.035565464459830214, \"order\": 1}, {\"genre\": \"Soul\", \"row\": \"popularity\", \"col\": \"tempo\", \"Correlation\": -0.02169944838315152, \"order\": 0}, {\"genre\": \"Soul\", \"row\": \"acousticness\", \"col\": \"tempo\", \"Correlation\": -0.053648989530870654, \"order\": 1}, {\"genre\": \"Soul\", \"row\": \"danceability\", \"col\": \"tempo\", \"Correlation\": -0.14636831797875088, \"order\": 1}, {\"genre\": \"Soul\", \"row\": \"duration_ms\", \"col\": \"tempo\", \"Correlation\": -0.008869512309657223, \"order\": 1}, {\"genre\": \"Soul\", \"row\": \"energy\", \"col\": \"tempo\", \"Correlation\": 0.07333113061853588, \"order\": 1}, {\"genre\": \"Soul\", \"row\": \"instrumentalness\", \"col\": \"tempo\", \"Correlation\": 0.014404247538258015, \"order\": 1}, {\"genre\": \"Soul\", \"row\": \"liveness\", \"col\": \"tempo\", \"Correlation\": 0.00462146832123039, \"order\": 1}, {\"genre\": \"Soul\", \"row\": \"loudness\", \"col\": \"tempo\", \"Correlation\": 0.049392801675857516, \"order\": 1}, {\"genre\": \"Soul\", \"row\": \"speechiness\", \"col\": \"tempo\", \"Correlation\": 0.05692491937457497, \"order\": 1}, {\"genre\": \"Soul\", \"row\": \"tempo\", \"col\": \"tempo\", \"Correlation\": 1.0, \"order\": 1}, {\"genre\": \"Soul\", \"row\": \"valence\", \"col\": \"tempo\", \"Correlation\": 0.034249725653876996, \"order\": 1}, {\"genre\": \"Soundtrack\", \"row\": \"popularity\", \"col\": \"tempo\", \"Correlation\": -0.020771010444074867, \"order\": 0}, {\"genre\": \"Soundtrack\", \"row\": \"acousticness\", \"col\": \"tempo\", \"Correlation\": -0.14322522500366472, \"order\": 1}, {\"genre\": \"Soundtrack\", \"row\": \"danceability\", \"col\": \"tempo\", \"Correlation\": 0.2437171233887738, \"order\": 1}, {\"genre\": \"Soundtrack\", \"row\": \"duration_ms\", \"col\": \"tempo\", \"Correlation\": -0.005703062617258149, \"order\": 1}, {\"genre\": \"Soundtrack\", \"row\": \"energy\", \"col\": \"tempo\", \"Correlation\": 0.23052170570649247, \"order\": 1}, {\"genre\": \"Soundtrack\", \"row\": \"instrumentalness\", \"col\": \"tempo\", \"Correlation\": -0.034314387721642046, \"order\": 1}, {\"genre\": \"Soundtrack\", \"row\": \"liveness\", \"col\": \"tempo\", \"Correlation\": 0.03576484254904791, \"order\": 1}, {\"genre\": \"Soundtrack\", \"row\": \"loudness\", \"col\": \"tempo\", \"Correlation\": 0.17493683808172944, \"order\": 1}, {\"genre\": \"Soundtrack\", \"row\": \"speechiness\", \"col\": \"tempo\", \"Correlation\": 0.09323964481028477, \"order\": 1}, {\"genre\": \"Soundtrack\", \"row\": \"tempo\", \"col\": \"tempo\", \"Correlation\": 1.0, \"order\": 1}, {\"genre\": \"Soundtrack\", \"row\": \"valence\", \"col\": \"tempo\", \"Correlation\": 0.18380141775448736, \"order\": 1}, {\"genre\": \"World\", \"row\": \"popularity\", \"col\": \"tempo\", \"Correlation\": 0.03632778070039329, \"order\": 0}, {\"genre\": \"World\", \"row\": \"acousticness\", \"col\": \"tempo\", \"Correlation\": -0.24269131924743467, \"order\": 1}, {\"genre\": \"World\", \"row\": \"danceability\", \"col\": \"tempo\", \"Correlation\": 0.03762052115913719, \"order\": 1}, {\"genre\": \"World\", \"row\": \"duration_ms\", \"col\": \"tempo\", \"Correlation\": -0.0019054397348952398, \"order\": 1}, {\"genre\": \"World\", \"row\": \"energy\", \"col\": \"tempo\", \"Correlation\": 0.24624666999228087, \"order\": 1}, {\"genre\": \"World\", \"row\": \"instrumentalness\", \"col\": \"tempo\", \"Correlation\": -0.19244447975329543, \"order\": 1}, {\"genre\": \"World\", \"row\": \"liveness\", \"col\": \"tempo\", \"Correlation\": 0.07620111849503208, \"order\": 1}, {\"genre\": \"World\", \"row\": \"loudness\", \"col\": \"tempo\", \"Correlation\": 0.26967222240959093, \"order\": 1}, {\"genre\": \"World\", \"row\": \"speechiness\", \"col\": \"tempo\", \"Correlation\": 0.05522854830806723, \"order\": 1}, {\"genre\": \"World\", \"row\": \"tempo\", \"col\": \"tempo\", \"Correlation\": 1.0, \"order\": 1}, {\"genre\": \"World\", \"row\": \"valence\", \"col\": \"tempo\", \"Correlation\": 0.04668541952799873, \"order\": 1}, {\"genre\": \"A Capella\", \"row\": \"popularity\", \"col\": \"valence\", \"Correlation\": 0.17628061021310643, \"order\": 0}, {\"genre\": \"A Capella\", \"row\": \"acousticness\", \"col\": \"valence\", \"Correlation\": -0.6264030079754401, \"order\": 1}, {\"genre\": \"A Capella\", \"row\": \"danceability\", \"col\": \"valence\", \"Correlation\": 0.8014684985775831, \"order\": 1}, {\"genre\": \"A Capella\", \"row\": \"duration_ms\", \"col\": \"valence\", \"Correlation\": -0.3385028728163913, \"order\": 1}, {\"genre\": \"A Capella\", \"row\": \"energy\", \"col\": \"valence\", \"Correlation\": 0.771960631960259, \"order\": 1}, {\"genre\": \"A Capella\", \"row\": \"instrumentalness\", \"col\": \"valence\", \"Correlation\": -0.13501047071661965, \"order\": 1}, {\"genre\": \"A Capella\", \"row\": \"liveness\", \"col\": \"valence\", \"Correlation\": 0.13995407179641656, \"order\": 1}, {\"genre\": \"A Capella\", \"row\": \"loudness\", \"col\": \"valence\", \"Correlation\": 0.6039283765770537, \"order\": 1}, {\"genre\": \"A Capella\", \"row\": \"speechiness\", \"col\": \"valence\", \"Correlation\": 0.6233579492158718, \"order\": 1}, {\"genre\": \"A Capella\", \"row\": \"tempo\", \"col\": \"valence\", \"Correlation\": 0.09802932344030116, \"order\": 1}, {\"genre\": \"A Capella\", \"row\": \"valence\", \"col\": \"valence\", \"Correlation\": 1.0, \"order\": 1}, {\"genre\": \"Alternative\", \"row\": \"popularity\", \"col\": \"valence\", \"Correlation\": 0.07303059997318881, \"order\": 0}, {\"genre\": \"Alternative\", \"row\": \"acousticness\", \"col\": \"valence\", \"Correlation\": -0.13296544145682676, \"order\": 1}, {\"genre\": \"Alternative\", \"row\": \"danceability\", \"col\": \"valence\", \"Correlation\": 0.38831410222842866, \"order\": 1}, {\"genre\": \"Alternative\", \"row\": \"duration_ms\", \"col\": \"valence\", \"Correlation\": -0.2740842281067689, \"order\": 1}, {\"genre\": \"Alternative\", \"row\": \"energy\", \"col\": \"valence\", \"Correlation\": 0.2663890479200309, \"order\": 1}, {\"genre\": \"Alternative\", \"row\": \"instrumentalness\", \"col\": \"valence\", \"Correlation\": -0.030923726432114048, \"order\": 1}, {\"genre\": \"Alternative\", \"row\": \"liveness\", \"col\": \"valence\", \"Correlation\": 0.04971836264505916, \"order\": 1}, {\"genre\": \"Alternative\", \"row\": \"loudness\", \"col\": \"valence\", \"Correlation\": 0.19194876960212934, \"order\": 1}, {\"genre\": \"Alternative\", \"row\": \"speechiness\", \"col\": \"valence\", \"Correlation\": 0.09341180260579772, \"order\": 1}, {\"genre\": \"Alternative\", \"row\": \"tempo\", \"col\": \"valence\", \"Correlation\": -0.017888393013074575, \"order\": 1}, {\"genre\": \"Alternative\", \"row\": \"valence\", \"col\": \"valence\", \"Correlation\": 1.0, \"order\": 1}, {\"genre\": \"Blues\", \"row\": \"popularity\", \"col\": \"valence\", \"Correlation\": 0.05655640788835162, \"order\": 0}, {\"genre\": \"Blues\", \"row\": \"acousticness\", \"col\": \"valence\", \"Correlation\": -0.10510396567251504, \"order\": 1}, {\"genre\": \"Blues\", \"row\": \"danceability\", \"col\": \"valence\", \"Correlation\": 0.3514954002600073, \"order\": 1}, {\"genre\": \"Blues\", \"row\": \"duration_ms\", \"col\": \"valence\", \"Correlation\": -0.2448581566638061, \"order\": 1}, {\"genre\": \"Blues\", \"row\": \"energy\", \"col\": \"valence\", \"Correlation\": 0.23768674449492624, \"order\": 1}, {\"genre\": \"Blues\", \"row\": \"instrumentalness\", \"col\": \"valence\", \"Correlation\": -0.0587168974747336, \"order\": 1}, {\"genre\": \"Blues\", \"row\": \"liveness\", \"col\": \"valence\", \"Correlation\": 0.045218016952553716, \"order\": 1}, {\"genre\": \"Blues\", \"row\": \"loudness\", \"col\": \"valence\", \"Correlation\": 0.16461235063911112, \"order\": 1}, {\"genre\": \"Blues\", \"row\": \"speechiness\", \"col\": \"valence\", \"Correlation\": 0.11053223742169203, \"order\": 1}, {\"genre\": \"Blues\", \"row\": \"tempo\", \"col\": \"valence\", \"Correlation\": 0.021545415844417402, \"order\": 1}, {\"genre\": \"Blues\", \"row\": \"valence\", \"col\": \"valence\", \"Correlation\": 1.0, \"order\": 1}, {\"genre\": \"Classical\", \"row\": \"popularity\", \"col\": \"valence\", \"Correlation\": -0.04708548649326753, \"order\": 0}, {\"genre\": \"Classical\", \"row\": \"acousticness\", \"col\": \"valence\", \"Correlation\": -0.17576236443814758, \"order\": 1}, {\"genre\": \"Classical\", \"row\": \"danceability\", \"col\": \"valence\", \"Correlation\": 0.6058213504330436, \"order\": 1}, {\"genre\": \"Classical\", \"row\": \"duration_ms\", \"col\": \"valence\", \"Correlation\": -0.24971493293778538, \"order\": 1}, {\"genre\": \"Classical\", \"row\": \"energy\", \"col\": \"valence\", \"Correlation\": 0.3335425217495649, \"order\": 1}, {\"genre\": \"Classical\", \"row\": \"instrumentalness\", \"col\": \"valence\", \"Correlation\": -0.10960865570891025, \"order\": 1}, {\"genre\": \"Classical\", \"row\": \"liveness\", \"col\": \"valence\", \"Correlation\": 0.10945753727435396, \"order\": 1}, {\"genre\": \"Classical\", \"row\": \"loudness\", \"col\": \"valence\", \"Correlation\": 0.2747192833186448, \"order\": 1}, {\"genre\": \"Classical\", \"row\": \"speechiness\", \"col\": \"valence\", \"Correlation\": 0.11344162500795774, \"order\": 1}, {\"genre\": \"Classical\", \"row\": \"tempo\", \"col\": \"valence\", \"Correlation\": 0.2337964487591555, \"order\": 1}, {\"genre\": \"Classical\", \"row\": \"valence\", \"col\": \"valence\", \"Correlation\": 1.0, \"order\": 1}, {\"genre\": \"Comedy\", \"row\": \"popularity\", \"col\": \"valence\", \"Correlation\": -0.11970791089734609, \"order\": 0}, {\"genre\": \"Comedy\", \"row\": \"acousticness\", \"col\": \"valence\", \"Correlation\": -0.11169246140854446, \"order\": 1}, {\"genre\": \"Comedy\", \"row\": \"danceability\", \"col\": \"valence\", \"Correlation\": 0.4196110709183133, \"order\": 1}, {\"genre\": \"Comedy\", \"row\": \"duration_ms\", \"col\": \"valence\", \"Correlation\": -0.06392504914042836, \"order\": 1}, {\"genre\": \"Comedy\", \"row\": \"energy\", \"col\": \"valence\", \"Correlation\": -0.36688686168231566, \"order\": 1}, {\"genre\": \"Comedy\", \"row\": \"instrumentalness\", \"col\": \"valence\", \"Correlation\": -0.01697342285095471, \"order\": 1}, {\"genre\": \"Comedy\", \"row\": \"liveness\", \"col\": \"valence\", \"Correlation\": -0.22087243117803748, \"order\": 1}, {\"genre\": \"Comedy\", \"row\": \"loudness\", \"col\": \"valence\", \"Correlation\": 0.05924261896345622, \"order\": 1}, {\"genre\": \"Comedy\", \"row\": \"speechiness\", \"col\": \"valence\", \"Correlation\": -0.23149227625123467, \"order\": 1}, {\"genre\": \"Comedy\", \"row\": \"tempo\", \"col\": \"valence\", \"Correlation\": 0.017540865178814046, \"order\": 1}, {\"genre\": \"Comedy\", \"row\": \"valence\", \"col\": \"valence\", \"Correlation\": 1.0, \"order\": 1}, {\"genre\": \"Country\", \"row\": \"popularity\", \"col\": \"valence\", \"Correlation\": 0.053405580885932814, \"order\": 0}, {\"genre\": \"Country\", \"row\": \"acousticness\", \"col\": \"valence\", \"Correlation\": -0.22193166596267563, \"order\": 1}, {\"genre\": \"Country\", \"row\": \"danceability\", \"col\": \"valence\", \"Correlation\": 0.3501246413492516, \"order\": 1}, {\"genre\": \"Country\", \"row\": \"duration_ms\", \"col\": \"valence\", \"Correlation\": -0.3138959914125543, \"order\": 1}, {\"genre\": \"Country\", \"row\": \"energy\", \"col\": \"valence\", \"Correlation\": 0.45699943429645373, \"order\": 1}, {\"genre\": \"Country\", \"row\": \"instrumentalness\", \"col\": \"valence\", \"Correlation\": 0.012586898678277706, \"order\": 1}, {\"genre\": \"Country\", \"row\": \"liveness\", \"col\": \"valence\", \"Correlation\": 0.08036355571555236, \"order\": 1}, {\"genre\": \"Country\", \"row\": \"loudness\", \"col\": \"valence\", \"Correlation\": 0.1358024631820378, \"order\": 1}, {\"genre\": \"Country\", \"row\": \"speechiness\", \"col\": \"valence\", \"Correlation\": 0.06267844893800581, \"order\": 1}, {\"genre\": \"Country\", \"row\": \"tempo\", \"col\": \"valence\", \"Correlation\": 0.11424167046656417, \"order\": 1}, {\"genre\": \"Country\", \"row\": \"valence\", \"col\": \"valence\", \"Correlation\": 1.0, \"order\": 1}, {\"genre\": \"Dance\", \"row\": \"popularity\", \"col\": \"valence\", \"Correlation\": 0.02546425997189351, \"order\": 0}, {\"genre\": \"Dance\", \"row\": \"acousticness\", \"col\": \"valence\", \"Correlation\": -0.13044696220514143, \"order\": 1}, {\"genre\": \"Dance\", \"row\": \"danceability\", \"col\": \"valence\", \"Correlation\": 0.3960880661749094, \"order\": 1}, {\"genre\": \"Dance\", \"row\": \"duration_ms\", \"col\": \"valence\", \"Correlation\": -0.08243291525026551, \"order\": 1}, {\"genre\": \"Dance\", \"row\": \"energy\", \"col\": \"valence\", \"Correlation\": 0.30940271474569014, \"order\": 1}, {\"genre\": \"Dance\", \"row\": \"instrumentalness\", \"col\": \"valence\", \"Correlation\": -0.04646929381918244, \"order\": 1}, {\"genre\": \"Dance\", \"row\": \"liveness\", \"col\": \"valence\", \"Correlation\": 0.0129502259796281, \"order\": 1}, {\"genre\": \"Dance\", \"row\": \"loudness\", \"col\": \"valence\", \"Correlation\": 0.11013066425319103, \"order\": 1}, {\"genre\": \"Dance\", \"row\": \"speechiness\", \"col\": \"valence\", \"Correlation\": 0.04495061642752209, \"order\": 1}, {\"genre\": \"Dance\", \"row\": \"tempo\", \"col\": \"valence\", \"Correlation\": 0.00670550378983388, \"order\": 1}, {\"genre\": \"Dance\", \"row\": \"valence\", \"col\": \"valence\", \"Correlation\": 1.0, \"order\": 1}, {\"genre\": \"Electronic\", \"row\": \"popularity\", \"col\": \"valence\", \"Correlation\": 0.014460247179264127, \"order\": 0}, {\"genre\": \"Electronic\", \"row\": \"acousticness\", \"col\": \"valence\", \"Correlation\": -0.05549916674735238, \"order\": 1}, {\"genre\": \"Electronic\", \"row\": \"danceability\", \"col\": \"valence\", \"Correlation\": 0.3831212800552504, \"order\": 1}, {\"genre\": \"Electronic\", \"row\": \"duration_ms\", \"col\": \"valence\", \"Correlation\": -0.05522988542062349, \"order\": 1}, {\"genre\": \"Electronic\", \"row\": \"energy\", \"col\": \"valence\", \"Correlation\": 0.1229968685243033, \"order\": 1}, {\"genre\": \"Electronic\", \"row\": \"instrumentalness\", \"col\": \"valence\", \"Correlation\": -0.07972331882623446, \"order\": 1}, {\"genre\": \"Electronic\", \"row\": \"liveness\", \"col\": \"valence\", \"Correlation\": -0.032733711596267, \"order\": 1}, {\"genre\": \"Electronic\", \"row\": \"loudness\", \"col\": \"valence\", \"Correlation\": 0.048695969138366164, \"order\": 1}, {\"genre\": \"Electronic\", \"row\": \"speechiness\", \"col\": \"valence\", \"Correlation\": 0.006400810049474776, \"order\": 1}, {\"genre\": \"Electronic\", \"row\": \"tempo\", \"col\": \"valence\", \"Correlation\": -0.01780378630118436, \"order\": 1}, {\"genre\": \"Electronic\", \"row\": \"valence\", \"col\": \"valence\", \"Correlation\": 1.0, \"order\": 1}, {\"genre\": \"Folk\", \"row\": \"popularity\", \"col\": \"valence\", \"Correlation\": 0.03789918745228672, \"order\": 0}, {\"genre\": \"Folk\", \"row\": \"acousticness\", \"col\": \"valence\", \"Correlation\": -0.3281881107184374, \"order\": 1}, {\"genre\": \"Folk\", \"row\": \"danceability\", \"col\": \"valence\", \"Correlation\": 0.4529147964881028, \"order\": 1}, {\"genre\": \"Folk\", \"row\": \"duration_ms\", \"col\": \"valence\", \"Correlation\": -0.18780515395108383, \"order\": 1}, {\"genre\": \"Folk\", \"row\": \"energy\", \"col\": \"valence\", \"Correlation\": 0.47330868306620033, \"order\": 1}, {\"genre\": \"Folk\", \"row\": \"instrumentalness\", \"col\": \"valence\", \"Correlation\": -0.13990116615342088, \"order\": 1}, {\"genre\": \"Folk\", \"row\": \"liveness\", \"col\": \"valence\", \"Correlation\": 0.09121089734303314, \"order\": 1}, {\"genre\": \"Folk\", \"row\": \"loudness\", \"col\": \"valence\", \"Correlation\": 0.25050654752008256, \"order\": 1}, {\"genre\": \"Folk\", \"row\": \"speechiness\", \"col\": \"valence\", \"Correlation\": 0.10942750043267173, \"order\": 1}, {\"genre\": \"Folk\", \"row\": \"tempo\", \"col\": \"valence\", \"Correlation\": 0.11287576085761564, \"order\": 1}, {\"genre\": \"Folk\", \"row\": \"valence\", \"col\": \"valence\", \"Correlation\": 1.0, \"order\": 1}, {\"genre\": \"Hip-Hop\", \"row\": \"popularity\", \"col\": \"valence\", \"Correlation\": 0.212312796608187, \"order\": 0}, {\"genre\": \"Hip-Hop\", \"row\": \"acousticness\", \"col\": \"valence\", \"Correlation\": 0.0425250463033227, \"order\": 1}, {\"genre\": \"Hip-Hop\", \"row\": \"danceability\", \"col\": \"valence\", \"Correlation\": 0.16539577993735163, \"order\": 1}, {\"genre\": \"Hip-Hop\", \"row\": \"duration_ms\", \"col\": \"valence\", \"Correlation\": 0.045061779622964766, \"order\": 1}, {\"genre\": \"Hip-Hop\", \"row\": \"energy\", \"col\": \"valence\", \"Correlation\": 0.3681937977562097, \"order\": 1}, {\"genre\": \"Hip-Hop\", \"row\": \"instrumentalness\", \"col\": \"valence\", \"Correlation\": -0.10941716523129948, \"order\": 1}, {\"genre\": \"Hip-Hop\", \"row\": \"liveness\", \"col\": \"valence\", \"Correlation\": 0.05772840401339625, \"order\": 1}, {\"genre\": \"Hip-Hop\", \"row\": \"loudness\", \"col\": \"valence\", \"Correlation\": 0.22317596584532873, \"order\": 1}, {\"genre\": \"Hip-Hop\", \"row\": \"speechiness\", \"col\": \"valence\", \"Correlation\": 0.029175673289675862, \"order\": 1}, {\"genre\": \"Hip-Hop\", \"row\": \"tempo\", \"col\": \"valence\", \"Correlation\": -0.03678098718480423, \"order\": 1}, {\"genre\": \"Hip-Hop\", \"row\": \"valence\", \"col\": \"valence\", \"Correlation\": 1.0, \"order\": 1}, {\"genre\": \"Indie\", \"row\": \"popularity\", \"col\": \"valence\", \"Correlation\": -0.03328302523128632, \"order\": 0}, {\"genre\": \"Indie\", \"row\": \"acousticness\", \"col\": \"valence\", \"Correlation\": -0.2758553620295401, \"order\": 1}, {\"genre\": \"Indie\", \"row\": \"danceability\", \"col\": \"valence\", \"Correlation\": 0.3730302153823397, \"order\": 1}, {\"genre\": \"Indie\", \"row\": \"duration_ms\", \"col\": \"valence\", \"Correlation\": -0.223117576758022, \"order\": 1}, {\"genre\": \"Indie\", \"row\": \"energy\", \"col\": \"valence\", \"Correlation\": 0.38448627511544703, \"order\": 1}, {\"genre\": \"Indie\", \"row\": \"instrumentalness\", \"col\": \"valence\", \"Correlation\": -0.09138057552177266, \"order\": 1}, {\"genre\": \"Indie\", \"row\": \"liveness\", \"col\": \"valence\", \"Correlation\": 0.046612013748128116, \"order\": 1}, {\"genre\": \"Indie\", \"row\": \"loudness\", \"col\": \"valence\", \"Correlation\": 0.29902698019014057, \"order\": 1}, {\"genre\": \"Indie\", \"row\": \"speechiness\", \"col\": \"valence\", \"Correlation\": 0.04277598423976733, \"order\": 1}, {\"genre\": \"Indie\", \"row\": \"tempo\", \"col\": \"valence\", \"Correlation\": 0.0417151306221826, \"order\": 1}, {\"genre\": \"Indie\", \"row\": \"valence\", \"col\": \"valence\", \"Correlation\": 1.0, \"order\": 1}, {\"genre\": \"Jazz\", \"row\": \"popularity\", \"col\": \"valence\", \"Correlation\": -0.07041701446420832, \"order\": 0}, {\"genre\": \"Jazz\", \"row\": \"acousticness\", \"col\": \"valence\", \"Correlation\": -0.28278439154209767, \"order\": 1}, {\"genre\": \"Jazz\", \"row\": \"danceability\", \"col\": \"valence\", \"Correlation\": 0.5487982059904233, \"order\": 1}, {\"genre\": \"Jazz\", \"row\": \"duration_ms\", \"col\": \"valence\", \"Correlation\": -0.12044861788073588, \"order\": 1}, {\"genre\": \"Jazz\", \"row\": \"energy\", \"col\": \"valence\", \"Correlation\": 0.47298553007909694, \"order\": 1}, {\"genre\": \"Jazz\", \"row\": \"instrumentalness\", \"col\": \"valence\", \"Correlation\": -0.10695799941542872, \"order\": 1}, {\"genre\": \"Jazz\", \"row\": \"liveness\", \"col\": \"valence\", \"Correlation\": 0.035609719659991323, \"order\": 1}, {\"genre\": \"Jazz\", \"row\": \"loudness\", \"col\": \"valence\", \"Correlation\": 0.39649459165955697, \"order\": 1}, {\"genre\": \"Jazz\", \"row\": \"speechiness\", \"col\": \"valence\", \"Correlation\": 0.1414635054361441, \"order\": 1}, {\"genre\": \"Jazz\", \"row\": \"tempo\", \"col\": \"valence\", \"Correlation\": 0.08939896254622537, \"order\": 1}, {\"genre\": \"Jazz\", \"row\": \"valence\", \"col\": \"valence\", \"Correlation\": 1.0, \"order\": 1}, {\"genre\": \"Movie\", \"row\": \"popularity\", \"col\": \"valence\", \"Correlation\": -0.18610680039382393, \"order\": 0}, {\"genre\": \"Movie\", \"row\": \"acousticness\", \"col\": \"valence\", \"Correlation\": -0.35549820856536635, \"order\": 1}, {\"genre\": \"Movie\", \"row\": \"danceability\", \"col\": \"valence\", \"Correlation\": 0.7167551826183903, \"order\": 1}, {\"genre\": \"Movie\", \"row\": \"duration_ms\", \"col\": \"valence\", \"Correlation\": -0.06997790639573517, \"order\": 1}, {\"genre\": \"Movie\", \"row\": \"energy\", \"col\": \"valence\", \"Correlation\": 0.5603211830744897, \"order\": 1}, {\"genre\": \"Movie\", \"row\": \"instrumentalness\", \"col\": \"valence\", \"Correlation\": -0.33987463692560893, \"order\": 1}, {\"genre\": \"Movie\", \"row\": \"liveness\", \"col\": \"valence\", \"Correlation\": 0.07297129742407713, \"order\": 1}, {\"genre\": \"Movie\", \"row\": \"loudness\", \"col\": \"valence\", \"Correlation\": 0.39267252145325965, \"order\": 1}, {\"genre\": \"Movie\", \"row\": \"speechiness\", \"col\": \"valence\", \"Correlation\": 0.15059256398236787, \"order\": 1}, {\"genre\": \"Movie\", \"row\": \"tempo\", \"col\": \"valence\", \"Correlation\": 0.2647265252071481, \"order\": 1}, {\"genre\": \"Movie\", \"row\": \"valence\", \"col\": \"valence\", \"Correlation\": 1.0, \"order\": 1}, {\"genre\": \"Opera\", \"row\": \"popularity\", \"col\": \"valence\", \"Correlation\": -0.02412491897413935, \"order\": 0}, {\"genre\": \"Opera\", \"row\": \"acousticness\", \"col\": \"valence\", \"Correlation\": -0.21890311826534878, \"order\": 1}, {\"genre\": \"Opera\", \"row\": \"danceability\", \"col\": \"valence\", \"Correlation\": 0.6408263632756348, \"order\": 1}, {\"genre\": \"Opera\", \"row\": \"duration_ms\", \"col\": \"valence\", \"Correlation\": -0.3219638773895544, \"order\": 1}, {\"genre\": \"Opera\", \"row\": \"energy\", \"col\": \"valence\", \"Correlation\": 0.38570058021645304, \"order\": 1}, {\"genre\": \"Opera\", \"row\": \"instrumentalness\", \"col\": \"valence\", \"Correlation\": 0.016698659972173322, \"order\": 1}, {\"genre\": \"Opera\", \"row\": \"liveness\", \"col\": \"valence\", \"Correlation\": 0.13558454238851222, \"order\": 1}, {\"genre\": \"Opera\", \"row\": \"loudness\", \"col\": \"valence\", \"Correlation\": 0.20275753516902198, \"order\": 1}, {\"genre\": \"Opera\", \"row\": \"speechiness\", \"col\": \"valence\", \"Correlation\": 0.10571374741559499, \"order\": 1}, {\"genre\": \"Opera\", \"row\": \"tempo\", \"col\": \"valence\", \"Correlation\": 0.1520803486974214, \"order\": 1}, {\"genre\": \"Opera\", \"row\": \"valence\", \"col\": \"valence\", \"Correlation\": 1.0, \"order\": 1}, {\"genre\": \"Pop\", \"row\": \"popularity\", \"col\": \"valence\", \"Correlation\": 0.04069662246167224, \"order\": 0}, {\"genre\": \"Pop\", \"row\": \"acousticness\", \"col\": \"valence\", \"Correlation\": -0.1507187225706974, \"order\": 1}, {\"genre\": \"Pop\", \"row\": \"danceability\", \"col\": \"valence\", \"Correlation\": 0.2695328767520074, \"order\": 1}, {\"genre\": \"Pop\", \"row\": \"duration_ms\", \"col\": \"valence\", \"Correlation\": -0.16031289543463292, \"order\": 1}, {\"genre\": \"Pop\", \"row\": \"energy\", \"col\": \"valence\", \"Correlation\": 0.4066935279365256, \"order\": 1}, {\"genre\": \"Pop\", \"row\": \"instrumentalness\", \"col\": \"valence\", \"Correlation\": -0.11650309005814578, \"order\": 1}, {\"genre\": \"Pop\", \"row\": \"liveness\", \"col\": \"valence\", \"Correlation\": 0.05343330551783136, \"order\": 1}, {\"genre\": \"Pop\", \"row\": \"loudness\", \"col\": \"valence\", \"Correlation\": 0.2960424543196599, \"order\": 1}, {\"genre\": \"Pop\", \"row\": \"speechiness\", \"col\": \"valence\", \"Correlation\": 0.02212386030063454, \"order\": 1}, {\"genre\": \"Pop\", \"row\": \"tempo\", \"col\": \"valence\", \"Correlation\": 0.029659002405730637, \"order\": 1}, {\"genre\": \"Pop\", \"row\": \"valence\", \"col\": \"valence\", \"Correlation\": 1.0, \"order\": 1}, {\"genre\": \"R&B\", \"row\": \"popularity\", \"col\": \"valence\", \"Correlation\": 0.019337075591349007, \"order\": 0}, {\"genre\": \"R&B\", \"row\": \"acousticness\", \"col\": \"valence\", \"Correlation\": -0.1784007599455089, \"order\": 1}, {\"genre\": \"R&B\", \"row\": \"danceability\", \"col\": \"valence\", \"Correlation\": 0.364728991775498, \"order\": 1}, {\"genre\": \"R&B\", \"row\": \"duration_ms\", \"col\": \"valence\", \"Correlation\": -0.08661222438489896, \"order\": 1}, {\"genre\": \"R&B\", \"row\": \"energy\", \"col\": \"valence\", \"Correlation\": 0.38086530688233866, \"order\": 1}, {\"genre\": \"R&B\", \"row\": \"instrumentalness\", \"col\": \"valence\", \"Correlation\": -0.01931656767310518, \"order\": 1}, {\"genre\": \"R&B\", \"row\": \"liveness\", \"col\": \"valence\", \"Correlation\": 0.051218658964197056, \"order\": 1}, {\"genre\": \"R&B\", \"row\": \"loudness\", \"col\": \"valence\", \"Correlation\": 0.249599290355041, \"order\": 1}, {\"genre\": \"R&B\", \"row\": \"speechiness\", \"col\": \"valence\", \"Correlation\": 0.13821668788082114, \"order\": 1}, {\"genre\": \"R&B\", \"row\": \"tempo\", \"col\": \"valence\", \"Correlation\": 0.00650800855672263, \"order\": 1}, {\"genre\": \"R&B\", \"row\": \"valence\", \"col\": \"valence\", \"Correlation\": 1.0, \"order\": 1}, {\"genre\": \"Rap\", \"row\": \"popularity\", \"col\": \"valence\", \"Correlation\": -0.019084743352913033, \"order\": 0}, {\"genre\": \"Rap\", \"row\": \"acousticness\", \"col\": \"valence\", \"Correlation\": 0.014501604654660667, \"order\": 1}, {\"genre\": \"Rap\", \"row\": \"danceability\", \"col\": \"valence\", \"Correlation\": 0.1689624520455069, \"order\": 1}, {\"genre\": \"Rap\", \"row\": \"duration_ms\", \"col\": \"valence\", \"Correlation\": 0.04157325909119343, \"order\": 1}, {\"genre\": \"Rap\", \"row\": \"energy\", \"col\": \"valence\", \"Correlation\": 0.31736184029627057, \"order\": 1}, {\"genre\": \"Rap\", \"row\": \"instrumentalness\", \"col\": \"valence\", \"Correlation\": -0.09125529563901276, \"order\": 1}, {\"genre\": \"Rap\", \"row\": \"liveness\", \"col\": \"valence\", \"Correlation\": 0.06165203293939601, \"order\": 1}, {\"genre\": \"Rap\", \"row\": \"loudness\", \"col\": \"valence\", \"Correlation\": 0.1909962207388917, \"order\": 1}, {\"genre\": \"Rap\", \"row\": \"speechiness\", \"col\": \"valence\", \"Correlation\": 0.14815517320430957, \"order\": 1}, {\"genre\": \"Rap\", \"row\": \"tempo\", \"col\": \"valence\", \"Correlation\": -0.03174192272659955, \"order\": 1}, {\"genre\": \"Rap\", \"row\": \"valence\", \"col\": \"valence\", \"Correlation\": 1.0, \"order\": 1}, {\"genre\": \"Reggae\", \"row\": \"popularity\", \"col\": \"valence\", \"Correlation\": 0.009175866013604136, \"order\": 0}, {\"genre\": \"Reggae\", \"row\": \"acousticness\", \"col\": \"valence\", \"Correlation\": -0.028988852894974767, \"order\": 1}, {\"genre\": \"Reggae\", \"row\": \"danceability\", \"col\": \"valence\", \"Correlation\": 0.3686259197108043, \"order\": 1}, {\"genre\": \"Reggae\", \"row\": \"duration_ms\", \"col\": \"valence\", \"Correlation\": -0.08332184589110765, \"order\": 1}, {\"genre\": \"Reggae\", \"row\": \"energy\", \"col\": \"valence\", \"Correlation\": 0.11185762469133843, \"order\": 1}, {\"genre\": \"Reggae\", \"row\": \"instrumentalness\", \"col\": \"valence\", \"Correlation\": -0.04317550133745921, \"order\": 1}, {\"genre\": \"Reggae\", \"row\": \"liveness\", \"col\": \"valence\", \"Correlation\": -0.07227581577284146, \"order\": 1}, {\"genre\": \"Reggae\", \"row\": \"loudness\", \"col\": \"valence\", \"Correlation\": 0.018972152755133753, \"order\": 1}, {\"genre\": \"Reggae\", \"row\": \"speechiness\", \"col\": \"valence\", \"Correlation\": 0.027533052675416902, \"order\": 1}, {\"genre\": \"Reggae\", \"row\": \"tempo\", \"col\": \"valence\", \"Correlation\": 0.060020320952363766, \"order\": 1}, {\"genre\": \"Reggae\", \"row\": \"valence\", \"col\": \"valence\", \"Correlation\": 1.0, \"order\": 1}, {\"genre\": \"Reggaeton\", \"row\": \"popularity\", \"col\": \"valence\", \"Correlation\": -0.06873762315507427, \"order\": 0}, {\"genre\": \"Reggaeton\", \"row\": \"acousticness\", \"col\": \"valence\", \"Correlation\": 0.008679096358824452, \"order\": 1}, {\"genre\": \"Reggaeton\", \"row\": \"danceability\", \"col\": \"valence\", \"Correlation\": 0.13858549570824646, \"order\": 1}, {\"genre\": \"Reggaeton\", \"row\": \"duration_ms\", \"col\": \"valence\", \"Correlation\": -0.025124335483069516, \"order\": 1}, {\"genre\": \"Reggaeton\", \"row\": \"energy\", \"col\": \"valence\", \"Correlation\": 0.3998992683295523, \"order\": 1}, {\"genre\": \"Reggaeton\", \"row\": \"instrumentalness\", \"col\": \"valence\", \"Correlation\": -0.044295879708600834, \"order\": 1}, {\"genre\": \"Reggaeton\", \"row\": \"liveness\", \"col\": \"valence\", \"Correlation\": -0.0024851374750347586, \"order\": 1}, {\"genre\": \"Reggaeton\", \"row\": \"loudness\", \"col\": \"valence\", \"Correlation\": 0.12861398909851363, \"order\": 1}, {\"genre\": \"Reggaeton\", \"row\": \"speechiness\", \"col\": \"valence\", \"Correlation\": -0.11767356539545946, \"order\": 1}, {\"genre\": \"Reggaeton\", \"row\": \"tempo\", \"col\": \"valence\", \"Correlation\": -0.016833800485100067, \"order\": 1}, {\"genre\": \"Reggaeton\", \"row\": \"valence\", \"col\": \"valence\", \"Correlation\": 1.0, \"order\": 1}, {\"genre\": \"Rock\", \"row\": \"popularity\", \"col\": \"valence\", \"Correlation\": 0.032761263518935, \"order\": 0}, {\"genre\": \"Rock\", \"row\": \"acousticness\", \"col\": \"valence\", \"Correlation\": -0.17700931672681244, \"order\": 1}, {\"genre\": \"Rock\", \"row\": \"danceability\", \"col\": \"valence\", \"Correlation\": 0.48217384142990394, \"order\": 1}, {\"genre\": \"Rock\", \"row\": \"duration_ms\", \"col\": \"valence\", \"Correlation\": -0.2615496751678658, \"order\": 1}, {\"genre\": \"Rock\", \"row\": \"energy\", \"col\": \"valence\", \"Correlation\": 0.32007463899121835, \"order\": 1}, {\"genre\": \"Rock\", \"row\": \"instrumentalness\", \"col\": \"valence\", \"Correlation\": -0.24381042760836916, \"order\": 1}, {\"genre\": \"Rock\", \"row\": \"liveness\", \"col\": \"valence\", \"Correlation\": -0.017397445851506405, \"order\": 1}, {\"genre\": \"Rock\", \"row\": \"loudness\", \"col\": \"valence\", \"Correlation\": 0.18962227794696768, \"order\": 1}, {\"genre\": \"Rock\", \"row\": \"speechiness\", \"col\": \"valence\", \"Correlation\": -0.01134525405657562, \"order\": 1}, {\"genre\": \"Rock\", \"row\": \"tempo\", \"col\": \"valence\", \"Correlation\": 0.0687441457915149, \"order\": 1}, {\"genre\": \"Rock\", \"row\": \"valence\", \"col\": \"valence\", \"Correlation\": 1.0, \"order\": 1}, {\"genre\": \"Ska\", \"row\": \"popularity\", \"col\": \"valence\", \"Correlation\": -0.002416400406230368, \"order\": 0}, {\"genre\": \"Ska\", \"row\": \"acousticness\", \"col\": \"valence\", \"Correlation\": 0.13242348272459975, \"order\": 1}, {\"genre\": \"Ska\", \"row\": \"danceability\", \"col\": \"valence\", \"Correlation\": 0.5223922649448117, \"order\": 1}, {\"genre\": \"Ska\", \"row\": \"duration_ms\", \"col\": \"valence\", \"Correlation\": -0.023049420669586127, \"order\": 1}, {\"genre\": \"Ska\", \"row\": \"energy\", \"col\": \"valence\", \"Correlation\": -0.16423495846997227, \"order\": 1}, {\"genre\": \"Ska\", \"row\": \"instrumentalness\", \"col\": \"valence\", \"Correlation\": 0.0035678294610385023, \"order\": 1}, {\"genre\": \"Ska\", \"row\": \"liveness\", \"col\": \"valence\", \"Correlation\": -0.1733927647327037, \"order\": 1}, {\"genre\": \"Ska\", \"row\": \"loudness\", \"col\": \"valence\", \"Correlation\": -0.03146789980725416, \"order\": 1}, {\"genre\": \"Ska\", \"row\": \"speechiness\", \"col\": \"valence\", \"Correlation\": -0.29518475471150785, \"order\": 1}, {\"genre\": \"Ska\", \"row\": \"tempo\", \"col\": \"valence\", \"Correlation\": 0.035565464459830214, \"order\": 1}, {\"genre\": \"Ska\", \"row\": \"valence\", \"col\": \"valence\", \"Correlation\": 1.0, \"order\": 1}, {\"genre\": \"Soul\", \"row\": \"popularity\", \"col\": \"valence\", \"Correlation\": 0.03419190790999544, \"order\": 0}, {\"genre\": \"Soul\", \"row\": \"acousticness\", \"col\": \"valence\", \"Correlation\": -0.16182527274593256, \"order\": 1}, {\"genre\": \"Soul\", \"row\": \"danceability\", \"col\": \"valence\", \"Correlation\": 0.3493080511340122, \"order\": 1}, {\"genre\": \"Soul\", \"row\": \"duration_ms\", \"col\": \"valence\", \"Correlation\": -0.05068914354022512, \"order\": 1}, {\"genre\": \"Soul\", \"row\": \"energy\", \"col\": \"valence\", \"Correlation\": 0.3808892258754179, \"order\": 1}, {\"genre\": \"Soul\", \"row\": \"instrumentalness\", \"col\": \"valence\", \"Correlation\": -0.16282318684797273, \"order\": 1}, {\"genre\": \"Soul\", \"row\": \"liveness\", \"col\": \"valence\", \"Correlation\": 0.055455785817188796, \"order\": 1}, {\"genre\": \"Soul\", \"row\": \"loudness\", \"col\": \"valence\", \"Correlation\": 0.15090610903525187, \"order\": 1}, {\"genre\": \"Soul\", \"row\": \"speechiness\", \"col\": \"valence\", \"Correlation\": 0.016342915884259755, \"order\": 1}, {\"genre\": \"Soul\", \"row\": \"tempo\", \"col\": \"valence\", \"Correlation\": 0.034249725653876996, \"order\": 1}, {\"genre\": \"Soul\", \"row\": \"valence\", \"col\": \"valence\", \"Correlation\": 1.0, \"order\": 1}, {\"genre\": \"Soundtrack\", \"row\": \"popularity\", \"col\": \"valence\", \"Correlation\": -0.0042294635581378, \"order\": 0}, {\"genre\": \"Soundtrack\", \"row\": \"acousticness\", \"col\": \"valence\", \"Correlation\": -0.09424385399783015, \"order\": 1}, {\"genre\": \"Soundtrack\", \"row\": \"danceability\", \"col\": \"valence\", \"Correlation\": 0.5676128438150104, \"order\": 1}, {\"genre\": \"Soundtrack\", \"row\": \"duration_ms\", \"col\": \"valence\", \"Correlation\": -0.15565077607967562, \"order\": 1}, {\"genre\": \"Soundtrack\", \"row\": \"energy\", \"col\": \"valence\", \"Correlation\": 0.3482548150789491, \"order\": 1}, {\"genre\": \"Soundtrack\", \"row\": \"instrumentalness\", \"col\": \"valence\", \"Correlation\": -0.2334521989100107, \"order\": 1}, {\"genre\": \"Soundtrack\", \"row\": \"liveness\", \"col\": \"valence\", \"Correlation\": 0.11558842524587905, \"order\": 1}, {\"genre\": \"Soundtrack\", \"row\": \"loudness\", \"col\": \"valence\", \"Correlation\": 0.2745132811016584, \"order\": 1}, {\"genre\": \"Soundtrack\", \"row\": \"speechiness\", \"col\": \"valence\", \"Correlation\": 0.10136565279953692, \"order\": 1}, {\"genre\": \"Soundtrack\", \"row\": \"tempo\", \"col\": \"valence\", \"Correlation\": 0.18380141775448736, \"order\": 1}, {\"genre\": \"Soundtrack\", \"row\": \"valence\", \"col\": \"valence\", \"Correlation\": 1.0, \"order\": 1}, {\"genre\": \"World\", \"row\": \"popularity\", \"col\": \"valence\", \"Correlation\": -0.07962589425076062, \"order\": 0}, {\"genre\": \"World\", \"row\": \"acousticness\", \"col\": \"valence\", \"Correlation\": -0.10204678661349005, \"order\": 1}, {\"genre\": \"World\", \"row\": \"danceability\", \"col\": \"valence\", \"Correlation\": 0.6240358389183365, \"order\": 1}, {\"genre\": \"World\", \"row\": \"duration_ms\", \"col\": \"valence\", \"Correlation\": -0.14282979018840078, \"order\": 1}, {\"genre\": \"World\", \"row\": \"energy\", \"col\": \"valence\", \"Correlation\": 0.4407189002632742, \"order\": 1}, {\"genre\": \"World\", \"row\": \"instrumentalness\", \"col\": \"valence\", \"Correlation\": -0.09735546665354468, \"order\": 1}, {\"genre\": \"World\", \"row\": \"liveness\", \"col\": \"valence\", \"Correlation\": 0.02548533683041299, \"order\": 1}, {\"genre\": \"World\", \"row\": \"loudness\", \"col\": \"valence\", \"Correlation\": 0.2699883089236052, \"order\": 1}, {\"genre\": \"World\", \"row\": \"speechiness\", \"col\": \"valence\", \"Correlation\": 0.21785257427926927, \"order\": 1}, {\"genre\": \"World\", \"row\": \"tempo\", \"col\": \"valence\", \"Correlation\": 0.04668541952799873, \"order\": 1}, {\"genre\": \"World\", \"row\": \"valence\", \"col\": \"valence\", \"Correlation\": 1.0, \"order\": 1}]}}, {\"mode\": \"vega-lite\"});\n",
       "</script>"
      ],
      "text/plain": [
       "alt.FacetChart(...)"
      ]
     },
     "execution_count": 128,
     "metadata": {},
     "output_type": "execute_result"
    }
   ],
   "source": [
    "alt.Chart(corrs).mark_rect().encode(\n",
    "    x= alt.X('row', sort=alt.EncodingSortField(field='order', order='ascending')),\n",
    "    y= alt.Y('col', sort=alt.EncodingSortField(field='order', order='ascending')),\n",
    "    color = alt.Color('Correlation', \n",
    "                      scale = alt.Scale(scheme = 'blueorange'))\n",
    ").properties(\n",
    "    width=170,\n",
    "    height=170\n",
    ").facet(\n",
    "    facet='genre', columns = 3\n",
    ").resolve_axis(\n",
    "    x='independent',\n",
    "    y='independent',\n",
    ")\n"
   ]
  },
  {
   "cell_type": "markdown",
   "metadata": {},
   "source": [
    "Songs of different genres would have a different composition in how the music is constructed and made. Thus, it would make sense to facet the correlation matrix by genres to see whether these variables are correlated differently depending on the genres. We are most interested in seeing if any variable is correlated to popularity, and even after faceting by genres, no singular variable seems to be associated with it. Thus, we are hypothesizing that our linear regression model would have a lot of error."
   ]
  },
  {
   "cell_type": "markdown",
   "metadata": {
    "cell_id": "c69f3025-f3f6-4a74-a1e6-3f3715873c38",
    "deepnote_cell_height": 62,
    "deepnote_cell_type": "text-cell-h3",
    "is_collapsed": false,
    "tags": []
   },
   "source": [
    "### Multiple Linear Regression"
   ]
  },
  {
   "cell_type": "markdown",
   "metadata": {},
   "source": [
    "Because the target variable we were interested in predicting was the quantitative 'popularity' variable, we began our approach by attempting a multiple linear regression model. To begin with, we made sure that all the categorical predictors could be treated as category."
   ]
  },
  {
   "cell_type": "code",
   "execution_count": 129,
   "metadata": {},
   "outputs": [
    {
     "data": {
      "text/plain": [
       "{int64: ['popularity', 'duration_ms'], float64: ['acousticness', 'danceability', 'energy', 'instrumentalness', 'liveness', 'loudness', 'speechiness', 'tempo', 'valence'], object: ['genre', 'artist_name', 'track_name', 'track_id', 'key', 'mode', 'time_signature']}"
      ]
     },
     "execution_count": 129,
     "metadata": {},
     "output_type": "execute_result"
    }
   ],
   "source": [
    "songs.columns.to_series().groupby(songs.dtypes).groups"
   ]
  },
  {
   "cell_type": "markdown",
   "metadata": {},
   "source": [
    "As we can see, the columns 'genre', 'artist_name', 'track_name', 'track_id', 'key', 'mode', 'time_signature' are categorical. Thus, we cast them as numerical categories and save the respective keys for reference later."
   ]
  },
  {
   "cell_type": "code",
   "execution_count": 130,
   "metadata": {},
   "outputs": [
    {
     "name": "stdout",
     "output_type": "stream",
     "text": [
      "   genre  artist_name  key  mode  time_signature\n",
      "0     13         4398    4     0               3\n",
      "1     13         4343    6     0               3\n",
      "2     13         4343    3     0               2\n",
      "3     13         4398    5     0               3\n",
      "4     13         4398    5     0               3\n",
      "   genre      artist_name key   mode time_signature\n",
      "0  Opera   Giuseppe Verdi  C#  Major            4/4\n",
      "1  Opera  Giacomo Puccini  D#  Major            4/4\n",
      "2  Opera  Giacomo Puccini   C  Major            3/4\n",
      "3  Opera   Giuseppe Verdi   D  Major            4/4\n",
      "4  Opera   Giuseppe Verdi   D  Major            4/4\n"
     ]
    }
   ],
   "source": [
    "## Extract to-be-hashed values for reference later\n",
    "\n",
    "unhashed = pd.DataFrame({'genre': songs['genre'],\n",
    "                         'artist_name': songs['artist_name'],\n",
    "                         'key': songs['key'],\n",
    "                         'mode': songs['mode'],\n",
    "                         'time_signature': songs['time_signature']}) ## Add other categorical values here if need to be hashed\n",
    "\n",
    "## Any Categorical Data Can be converted, just enter it under this section (Automize if you wish)\n",
    "songs['genre'] = songs['genre'].astype('category')\n",
    "songs['artist_name'] = songs['artist_name'].astype('category')\n",
    "songs['key'] = songs['key'].astype('category')\n",
    "songs['mode'] = songs['mode'].astype('category')\n",
    "songs['time_signature'] = songs['time_signature'].astype('category')\n",
    "\n",
    "cat_columns = songs.select_dtypes(['category']).columns\n",
    "\n",
    "songs[cat_columns] = songs[cat_columns].apply(lambda x: x.cat.codes)\n",
    "\n",
    "print(songs[cat_columns].head()) # Altered Columns\n",
    "print(unhashed.head()) #Original Columns"
   ]
  },
  {
   "cell_type": "markdown",
   "metadata": {},
   "source": [
    "Because we want to provide our popularity prediction model with information on all the musical features of the songs, we want to use all potential predictors."
   ]
  },
  {
   "cell_type": "code",
   "execution_count": 40,
   "metadata": {},
   "outputs": [],
   "source": [
    "predictors = ['acousticness', 'danceability', 'duration_ms', 'energy',\n",
    "              'instrumentalness', 'key', 'liveness', 'loudness', 'mode',\n",
    "              'speechiness', 'tempo', 'time_signature', 'valence']"
   ]
  },
  {
   "cell_type": "code",
   "execution_count": 41,
   "metadata": {},
   "outputs": [],
   "source": [
    "x = songs[predictors]\n",
    "\n",
    "y = songs['popularity']"
   ]
  },
  {
   "cell_type": "markdown",
   "metadata": {},
   "source": [
    "Next, we split the data with 80% for training the model and 20% for testing. "
   ]
  },
  {
   "cell_type": "code",
   "execution_count": 42,
   "metadata": {},
   "outputs": [],
   "source": [
    "# splitting the data\n",
    "x_train, x_test, y_train, y_test = train_test_split(x, y, test_size = 0.2, random_state = 131)"
   ]
  },
  {
   "cell_type": "markdown",
   "metadata": {},
   "source": [
    "Now, we can create the multiple linear regression model using the LinearRegression package from scikit-learn."
   ]
  },
  {
   "cell_type": "code",
   "execution_count": 43,
   "metadata": {},
   "outputs": [
    {
     "data": {
      "text/plain": [
       "LinearRegression(copy_X=True, fit_intercept=True, n_jobs=None, normalize=False)"
      ]
     },
     "execution_count": 43,
     "metadata": {},
     "output_type": "execute_result"
    }
   ],
   "source": [
    "LR = linear_model.LinearRegression()\n",
    "LR.fit(x_train, y_train)"
   ]
  },
  {
   "cell_type": "markdown",
   "metadata": {},
   "source": [
    "If we test our new model on the data we trained it with, we get the following results:"
   ]
  },
  {
   "cell_type": "code",
   "execution_count": 44,
   "metadata": {},
   "outputs": [
    {
     "data": {
      "text/plain": [
       "array([19.74014291, 27.29746322, 35.20446637, ..., 40.84928674,\n",
       "       45.6604543 , 35.3011991 ])"
      ]
     },
     "execution_count": 44,
     "metadata": {},
     "output_type": "execute_result"
    }
   ],
   "source": [
    "y_prediction_train = LR.predict(x_train)\n",
    "y_prediction_train"
   ]
  },
  {
   "cell_type": "code",
   "execution_count": 45,
   "metadata": {},
   "outputs": [
    {
     "name": "stdout",
     "output_type": "stream",
     "text": [
      "R2 Score: 0.2478093221653337\n",
      "MSE 219.93298360525154\n",
      "RMSE 14.83013767991557\n"
     ]
    }
   ],
   "source": [
    "score_tr=r2_score(y_train,y_prediction_train)\n",
    "\n",
    "print('R2 Score:',score_tr)\n",
    "print('MSE',mean_squared_error(y_train,y_prediction_train))\n",
    "print('RMSE',np.sqrt(mean_squared_error(y_train,y_prediction_train)))"
   ]
  },
  {
   "cell_type": "markdown",
   "metadata": {},
   "source": [
    "As we can see, the R^2 of this model on its own training data is quite low at 0.2478093221653337. This suggest that there is no or very little proportion of the variance for popularity that is explained by the features present in our dataset."
   ]
  },
  {
   "cell_type": "markdown",
   "metadata": {},
   "source": [
    "This is quite concerning, as if there was a clear linear correlation between the popularity score and its song feature predictors detected by the model, it would be expected to have a higher R2 score. If we look at the model predictions on the test set..."
   ]
  },
  {
   "cell_type": "code",
   "execution_count": 46,
   "metadata": {},
   "outputs": [
    {
     "data": {
      "text/plain": [
       "array([49.32253191, 28.48024438, 32.41642049, ..., 43.32229663,\n",
       "       47.18795201, 38.66244374])"
      ]
     },
     "execution_count": 46,
     "metadata": {},
     "output_type": "execute_result"
    }
   ],
   "source": [
    "y_prediction =  LR.predict(x_test)\n",
    "y_prediction"
   ]
  },
  {
   "cell_type": "code",
   "execution_count": 47,
   "metadata": {},
   "outputs": [
    {
     "name": "stdout",
     "output_type": "stream",
     "text": [
      "R2 Score: 0.2542533160241466\n",
      "MSE 219.75412970104685\n",
      "RMSE 14.824106371078388\n"
     ]
    }
   ],
   "source": [
    "score=r2_score(y_test,y_prediction)\n",
    "\n",
    "print('R2 Score:',score)\n",
    "print('MSE',mean_squared_error(y_test,y_prediction))\n",
    "print('RMSE',np.sqrt(mean_squared_error(y_test,y_prediction)))"
   ]
  },
  {
   "cell_type": "markdown",
   "metadata": {},
   "source": [
    "We see that the R^2 of this model on the testing data is at 0.25425331602397294. While it is slightly higher than the training R2,this still suggests that there is no or very little proportion of the variance for popularity that is explained by the features present in our dataset. At the very least, we can see that this model is not overfit, as the training accuracy and the testing accuracy are quite similar."
   ]
  },
  {
   "cell_type": "code",
   "execution_count": 48,
   "metadata": {},
   "outputs": [
    {
     "data": {
      "text/html": [
       "<div>\n",
       "<style scoped>\n",
       "    .dataframe tbody tr th:only-of-type {\n",
       "        vertical-align: middle;\n",
       "    }\n",
       "\n",
       "    .dataframe tbody tr th {\n",
       "        vertical-align: top;\n",
       "    }\n",
       "\n",
       "    .dataframe thead th {\n",
       "        text-align: right;\n",
       "    }\n",
       "</style>\n",
       "<table border=\"1\" class=\"dataframe\">\n",
       "  <thead>\n",
       "    <tr style=\"text-align: right;\">\n",
       "      <th></th>\n",
       "      <th>R2</th>\n",
       "      <th>MSE</th>\n",
       "      <th>RMSE</th>\n",
       "    </tr>\n",
       "    <tr>\n",
       "      <th>Data</th>\n",
       "      <th></th>\n",
       "      <th></th>\n",
       "      <th></th>\n",
       "    </tr>\n",
       "  </thead>\n",
       "  <tbody>\n",
       "    <tr>\n",
       "      <th>train</th>\n",
       "      <td>0.247809</td>\n",
       "      <td>219.932984</td>\n",
       "      <td>14.830138</td>\n",
       "    </tr>\n",
       "    <tr>\n",
       "      <th>test</th>\n",
       "      <td>0.254253</td>\n",
       "      <td>219.754130</td>\n",
       "      <td>14.824106</td>\n",
       "    </tr>\n",
       "  </tbody>\n",
       "</table>\n",
       "</div>"
      ],
      "text/plain": [
       "             R2         MSE       RMSE\n",
       "Data                                  \n",
       "train  0.247809  219.932984  14.830138\n",
       "test   0.254253  219.754130  14.824106"
      ]
     },
     "execution_count": 48,
     "metadata": {},
     "output_type": "execute_result"
    }
   ],
   "source": [
    "MLR_scores_df = pd.DataFrame()\n",
    "MLR_scores_df = MLR_scores_df.append({'Data': 'train', \n",
    "                                      'R2': score_tr, \n",
    "                 'MSE': mean_squared_error(y_train,y_prediction_train), \n",
    "                 'RMSE': np.sqrt(mean_squared_error(y_train,y_prediction_train))}, ignore_index = True)\n",
    "MLR_scores_df = MLR_scores_df.append({'Data': 'test',\n",
    "                                      'R2': score, \n",
    "                                      'MSE': mean_squared_error(y_test,y_prediction), \n",
    "                                      'RMSE': np.sqrt(mean_squared_error(y_test,y_prediction))}, ignore_index = True)\n",
    "MLR_scores_df.set_index('Data')"
   ]
  },
  {
   "cell_type": "markdown",
   "metadata": {},
   "source": [
    "It's possible that each genre has it's own combination of features that make a song popular — that is, it's possible that creating a model with song features from every genre creates too much variance and noise. Therefore, we decided to create a multiple linear regression model for each individual genre."
   ]
  },
  {
   "cell_type": "markdown",
   "metadata": {},
   "source": [
    "To do this, we have a function to create an multiple linear regression model on a specific genre and run it over all the genres available in the dataset. "
   ]
  },
  {
   "cell_type": "code",
   "execution_count": 49,
   "metadata": {},
   "outputs": [],
   "source": [
    "def genre_MLR_score(genre, songs, unhashed, predictors):\n",
    "    # params:\n",
    "        # genre: string representing genre as listed in the dataset to analyze\n",
    "        # songs: total song dataset\n",
    "    \n",
    "    genre_indices = unhashed[unhashed['genre'] == genre].index.values.tolist()\n",
    "    genre_songs = songs.iloc[genre_indices]\n",
    "    \n",
    "    x = genre_songs[predictors] \n",
    "    y = genre_songs['popularity']\n",
    "\n",
    "    x_train, x_test, y_train, y_test = train_test_split(x, y, test_size = 0.2, random_state = 131)\n",
    "    \n",
    "    LR = linear_model.LinearRegression()\n",
    "    LR.fit(x_train, y_train)\n",
    "    \n",
    "    y_prediction_train = LR.predict(x_train)\n",
    "    y_prediction =  LR.predict(x_test)\n",
    "    \n",
    "    score_train = r2_score(y_train,y_prediction_train)\n",
    "    \n",
    "    score=r2_score(y_test,y_prediction)\n",
    "    \n",
    "    genre_df = {'Genre': genre, 'Count': len(genre_songs),\n",
    "                'R2_train': score_train, 'MSE_train': mean_squared_error(y_train,y_prediction_train), 'RMSE_train': np.sqrt(mean_squared_error(y_train,y_prediction_train)),\n",
    "                'R2': score, 'MSE': mean_squared_error(y_test,y_prediction), 'RMSE': np.sqrt(mean_squared_error(y_test,y_prediction))}\n",
    "    \n",
    "    return genre_df"
   ]
  },
  {
   "cell_type": "code",
   "execution_count": 50,
   "metadata": {},
   "outputs": [],
   "source": [
    "genres = list(unhashed.genre.unique())\n",
    "genre_scores_df = pd.DataFrame()\n",
    "\n",
    "for genre in genres:\n",
    "    genre_df = genre_MLR_score(genre, songs, unhashed, predictors)\n",
    "    genre_scores_df = genre_scores_df.append(genre_df, ignore_index = True)"
   ]
  },
  {
   "cell_type": "markdown",
   "metadata": {},
   "source": [
    "With this, we can see the results of our model. For example, the figure below shows the R2 scores for each model:"
   ]
  },
  {
   "cell_type": "code",
   "execution_count": 24,
   "metadata": {},
   "outputs": [
    {
     "data": {
      "text/html": [
       "<div>\n",
       "<style scoped>\n",
       "    .dataframe tbody tr th:only-of-type {\n",
       "        vertical-align: middle;\n",
       "    }\n",
       "\n",
       "    .dataframe tbody tr th {\n",
       "        vertical-align: top;\n",
       "    }\n",
       "\n",
       "    .dataframe thead th {\n",
       "        text-align: right;\n",
       "    }\n",
       "</style>\n",
       "<table border=\"1\" class=\"dataframe\">\n",
       "  <thead>\n",
       "    <tr style=\"text-align: right;\">\n",
       "      <th></th>\n",
       "      <th>Genre</th>\n",
       "      <th>Count</th>\n",
       "      <th>R2_train</th>\n",
       "      <th>MSE_train</th>\n",
       "      <th>RMSE_train</th>\n",
       "      <th>R2</th>\n",
       "      <th>MSE</th>\n",
       "      <th>RMSE</th>\n",
       "    </tr>\n",
       "  </thead>\n",
       "  <tbody>\n",
       "    <tr>\n",
       "      <th>18</th>\n",
       "      <td>Rock</td>\n",
       "      <td>2070.0</td>\n",
       "      <td>0.021583</td>\n",
       "      <td>64.866597</td>\n",
       "      <td>8.053980</td>\n",
       "      <td>-0.002771</td>\n",
       "      <td>67.885755</td>\n",
       "      <td>8.239281</td>\n",
       "    </tr>\n",
       "    <tr>\n",
       "      <th>17</th>\n",
       "      <td>Indie</td>\n",
       "      <td>2783.0</td>\n",
       "      <td>0.051729</td>\n",
       "      <td>44.768716</td>\n",
       "      <td>6.690943</td>\n",
       "      <td>-0.001511</td>\n",
       "      <td>46.482416</td>\n",
       "      <td>6.817801</td>\n",
       "    </tr>\n",
       "    <tr>\n",
       "      <th>7</th>\n",
       "      <td>R&amp;B</td>\n",
       "      <td>4870.0</td>\n",
       "      <td>0.013289</td>\n",
       "      <td>43.932592</td>\n",
       "      <td>6.628167</td>\n",
       "      <td>0.005954</td>\n",
       "      <td>50.677112</td>\n",
       "      <td>7.118786</td>\n",
       "    </tr>\n",
       "    <tr>\n",
       "      <th>11</th>\n",
       "      <td>Reggae</td>\n",
       "      <td>8711.0</td>\n",
       "      <td>0.014118</td>\n",
       "      <td>111.263260</td>\n",
       "      <td>10.548140</td>\n",
       "      <td>0.008744</td>\n",
       "      <td>111.965010</td>\n",
       "      <td>10.581352</td>\n",
       "    </tr>\n",
       "    <tr>\n",
       "      <th>8</th>\n",
       "      <td>Folk</td>\n",
       "      <td>7801.0</td>\n",
       "      <td>0.016157</td>\n",
       "      <td>49.570443</td>\n",
       "      <td>7.040628</td>\n",
       "      <td>0.009194</td>\n",
       "      <td>56.171086</td>\n",
       "      <td>7.494737</td>\n",
       "    </tr>\n",
       "  </tbody>\n",
       "</table>\n",
       "</div>"
      ],
      "text/plain": [
       "     Genre   Count  R2_train   MSE_train  RMSE_train        R2         MSE  \\\n",
       "18    Rock  2070.0  0.021583   64.866597    8.053980 -0.002771   67.885755   \n",
       "17   Indie  2783.0  0.051729   44.768716    6.690943 -0.001511   46.482416   \n",
       "7      R&B  4870.0  0.013289   43.932592    6.628167  0.005954   50.677112   \n",
       "11  Reggae  8711.0  0.014118  111.263260   10.548140  0.008744  111.965010   \n",
       "8     Folk  7801.0  0.016157   49.570443    7.040628  0.009194   56.171086   \n",
       "\n",
       "         RMSE  \n",
       "18   8.239281  \n",
       "17   6.817801  \n",
       "7    7.118786  \n",
       "11  10.581352  \n",
       "8    7.494737  "
      ]
     },
     "execution_count": 24,
     "metadata": {},
     "output_type": "execute_result"
    }
   ],
   "source": [
    "genre_scores_df_R2 = genre_scores_df.sort_values(by = 'R2', ascending = True)\n",
    "genre_scores_df_R2.head()"
   ]
  },
  {
   "cell_type": "code",
   "execution_count": 25,
   "metadata": {},
   "outputs": [
    {
     "data": {
      "image/png": "[encoded data removed]",
      "text/plain": [
       "<Figure size 432x288 with 1 Axes>"
      ]
     },
     "metadata": {},
     "output_type": "display_data"
    }
   ],
   "source": [
    "ax = genre_scores_df_R2.plot.barh(x='Genre', y='R2', rot=0, title = 'R2 of MLR Models Predicting Popularity of Songs Using Features')"
   ]
  },
  {
   "cell_type": "markdown",
   "metadata": {},
   "source": [
    "As we can see, the genres Hip-Hop and Classical seem to have the highest R2 scores, although they are still quite low around 0.12. With genres such as rock where there may be a higher variance in the features in a popular song, there is a R2 closer to 0, indicating that there is likely no proportion of the variance in popularity score explained by our song features."
   ]
  },
  {
   "cell_type": "code",
   "execution_count": 26,
   "metadata": {},
   "outputs": [
    {
     "data": {
      "text/html": [
       "<div>\n",
       "<style scoped>\n",
       "    .dataframe tbody tr th:only-of-type {\n",
       "        vertical-align: middle;\n",
       "    }\n",
       "\n",
       "    .dataframe tbody tr th {\n",
       "        vertical-align: top;\n",
       "    }\n",
       "\n",
       "    .dataframe thead th {\n",
       "        text-align: right;\n",
       "    }\n",
       "</style>\n",
       "<table border=\"1\" class=\"dataframe\">\n",
       "  <thead>\n",
       "    <tr style=\"text-align: right;\">\n",
       "      <th></th>\n",
       "      <th>Genre</th>\n",
       "      <th>Count</th>\n",
       "      <th>R2_train</th>\n",
       "      <th>MSE_train</th>\n",
       "      <th>RMSE_train</th>\n",
       "      <th>R2</th>\n",
       "      <th>MSE</th>\n",
       "      <th>RMSE</th>\n",
       "    </tr>\n",
       "  </thead>\n",
       "  <tbody>\n",
       "    <tr>\n",
       "      <th>10</th>\n",
       "      <td>Classical</td>\n",
       "      <td>9250.0</td>\n",
       "      <td>0.137986</td>\n",
       "      <td>172.009988</td>\n",
       "      <td>13.115258</td>\n",
       "      <td>0.127709</td>\n",
       "      <td>172.839843</td>\n",
       "      <td>13.146857</td>\n",
       "    </tr>\n",
       "    <tr>\n",
       "      <th>23</th>\n",
       "      <td>Movie</td>\n",
       "      <td>7555.0</td>\n",
       "      <td>0.059795</td>\n",
       "      <td>158.966571</td>\n",
       "      <td>12.608195</td>\n",
       "      <td>0.063064</td>\n",
       "      <td>165.746325</td>\n",
       "      <td>12.874250</td>\n",
       "    </tr>\n",
       "    <tr>\n",
       "      <th>15</th>\n",
       "      <td>Reggaeton</td>\n",
       "      <td>8537.0</td>\n",
       "      <td>0.066926</td>\n",
       "      <td>140.096140</td>\n",
       "      <td>11.836222</td>\n",
       "      <td>0.068689</td>\n",
       "      <td>134.615680</td>\n",
       "      <td>11.602400</td>\n",
       "    </tr>\n",
       "    <tr>\n",
       "      <th>11</th>\n",
       "      <td>Reggae</td>\n",
       "      <td>8711.0</td>\n",
       "      <td>0.014118</td>\n",
       "      <td>111.263260</td>\n",
       "      <td>10.548140</td>\n",
       "      <td>0.008744</td>\n",
       "      <td>111.965010</td>\n",
       "      <td>10.581352</td>\n",
       "    </tr>\n",
       "    <tr>\n",
       "      <th>4</th>\n",
       "      <td>Dance</td>\n",
       "      <td>8298.0</td>\n",
       "      <td>0.018658</td>\n",
       "      <td>105.893483</td>\n",
       "      <td>10.290456</td>\n",
       "      <td>0.010177</td>\n",
       "      <td>101.369572</td>\n",
       "      <td>10.068246</td>\n",
       "    </tr>\n",
       "  </tbody>\n",
       "</table>\n",
       "</div>"
      ],
      "text/plain": [
       "        Genre   Count  R2_train   MSE_train  RMSE_train        R2         MSE  \\\n",
       "10  Classical  9250.0  0.137986  172.009988   13.115258  0.127709  172.839843   \n",
       "23      Movie  7555.0  0.059795  158.966571   12.608195  0.063064  165.746325   \n",
       "15  Reggaeton  8537.0  0.066926  140.096140   11.836222  0.068689  134.615680   \n",
       "11     Reggae  8711.0  0.014118  111.263260   10.548140  0.008744  111.965010   \n",
       "4       Dance  8298.0  0.018658  105.893483   10.290456  0.010177  101.369572   \n",
       "\n",
       "         RMSE  \n",
       "10  13.146857  \n",
       "23  12.874250  \n",
       "15  11.602400  \n",
       "11  10.581352  \n",
       "4   10.068246  "
      ]
     },
     "execution_count": 26,
     "metadata": {},
     "output_type": "execute_result"
    }
   ],
   "source": [
    "genre_scores_df_RMSE = genre_scores_df.sort_values(by = 'RMSE', ascending = False)\n",
    "genre_scores_df_RMSE.head()"
   ]
  },
  {
   "cell_type": "code",
   "execution_count": 27,
   "metadata": {},
   "outputs": [
    {
     "data": {
      "image/png": "[encoded data removed]",
      "text/plain": [
       "<Figure size 432x288 with 1 Axes>"
      ]
     },
     "metadata": {},
     "output_type": "display_data"
    }
   ],
   "source": [
    "ax = genre_scores_df_RMSE.plot.barh(x='Genre', y='RMSE', rot=0, title = 'RMSE of MLR Models Predicting Popularity of Songs Using Features')"
   ]
  },
  {
   "cell_type": "markdown",
   "metadata": {},
   "source": [
    "We can see from this plot that the genres with lowest RMSE are Blues, Hip-Hop, A Capella, and so on. Interestingly, these are some of the genres with density plots in popularity with most of the density centered at the middle around 50 popularity. This may attribute to the lower RMSE. The opposite is also true, as genres with high densities focused around the lower end of the plot had higher RMSE, such as with Classical or Movie. "
   ]
  },
  {
   "cell_type": "markdown",
   "metadata": {
    "cell_id": "04072d02-e51e-4b9a-8a0e-1fac0d562825",
    "deepnote_cell_height": 62,
    "deepnote_cell_type": "text-cell-h3",
    "is_collapsed": false,
    "tags": []
   },
   "source": [
    "### Principal Component Analysis (PCA)"
   ]
  },
  {
   "cell_type": "markdown",
   "metadata": {},
   "source": [
    "In order to fit our data into a PCA model for dimension reduction, we first need to remove our target variable popularity, and then remove all non-numerical columns within our dataset."
   ]
  },
  {
   "cell_type": "code",
   "execution_count": 133,
   "metadata": {},
   "outputs": [],
   "source": [
    "# define which predictor variables are numerical\n",
    "numerical = ['acousticness', 'danceability', 'duration_ms', 'energy', 'instrumentalness', 'liveness', 'loudness',\n",
    "              'speechiness', 'tempo', 'valence']\n",
    "\n",
    "# select only numerical data\n",
    "songs_numerical = songs[numerical]"
   ]
  },
  {
   "cell_type": "markdown",
   "metadata": {},
   "source": [
    "Next we scaled our data to have a mean of 0 and a standard deviation of 1 to make sure that each predictor variable holds the same weight if they are measured in different units. "
   ]
  },
  {
   "cell_type": "code",
   "execution_count": 134,
   "metadata": {},
   "outputs": [],
   "source": [
    "# center and scale data\n",
    "songs_ctr = (songs_numerical - songs_numerical.mean())/songs_numerical.std()"
   ]
  },
  {
   "cell_type": "markdown",
   "metadata": {},
   "source": [
    "Then we defined our PCA model and fit our scaled data."
   ]
  },
  {
   "cell_type": "code",
   "execution_count": 135,
   "metadata": {},
   "outputs": [
    {
     "data": {
      "text/plain": [
       "PCA(copy=True, iterated_power='auto', n_components=10, random_state=None,\n",
       "    svd_solver='auto', tol=0.0, whiten=False)"
      ]
     },
     "execution_count": 135,
     "metadata": {},
     "output_type": "execute_result"
    }
   ],
   "source": [
    "# PCA fitting \n",
    "pca = PCA(n_components = songs_ctr.shape[1]) \n",
    "pca.fit(songs_ctr)"
   ]
  },
  {
   "cell_type": "markdown",
   "metadata": {},
   "source": [
    "Lastly, we created a dataframe to visualize our principal component variation. Thus we have a column for each prinicipal component (we have 10 since we have 10 predictors), a column for the proportion of variartion explained by that principal component, and lastly a column for the cumulative proportion of variance explained."
   ]
  },
  {
   "cell_type": "code",
   "execution_count": 139,
   "metadata": {
    "scrolled": true
   },
   "outputs": [
    {
     "data": {
      "text/html": [
       "<div>\n",
       "<style scoped>\n",
       "    .dataframe tbody tr th:only-of-type {\n",
       "        vertical-align: middle;\n",
       "    }\n",
       "\n",
       "    .dataframe tbody tr th {\n",
       "        vertical-align: top;\n",
       "    }\n",
       "\n",
       "    .dataframe thead th {\n",
       "        text-align: right;\n",
       "    }\n",
       "</style>\n",
       "<table border=\"1\" class=\"dataframe\">\n",
       "  <thead>\n",
       "    <tr style=\"text-align: right;\">\n",
       "      <th></th>\n",
       "      <th>Component</th>\n",
       "      <th>Proportion of variance explained</th>\n",
       "      <th>Cumulative variance explained</th>\n",
       "    </tr>\n",
       "  </thead>\n",
       "  <tbody>\n",
       "    <tr>\n",
       "      <th>0</th>\n",
       "      <td>1</td>\n",
       "      <td>0.366477</td>\n",
       "      <td>0.366477</td>\n",
       "    </tr>\n",
       "    <tr>\n",
       "      <th>1</th>\n",
       "      <td>2</td>\n",
       "      <td>0.173992</td>\n",
       "      <td>0.540469</td>\n",
       "    </tr>\n",
       "    <tr>\n",
       "      <th>2</th>\n",
       "      <td>3</td>\n",
       "      <td>0.106308</td>\n",
       "      <td>0.646777</td>\n",
       "    </tr>\n",
       "    <tr>\n",
       "      <th>3</th>\n",
       "      <td>4</td>\n",
       "      <td>0.093662</td>\n",
       "      <td>0.740439</td>\n",
       "    </tr>\n",
       "    <tr>\n",
       "      <th>4</th>\n",
       "      <td>5</td>\n",
       "      <td>0.075999</td>\n",
       "      <td>0.816438</td>\n",
       "    </tr>\n",
       "  </tbody>\n",
       "</table>\n",
       "</div>"
      ],
      "text/plain": [
       "   Component  Proportion of variance explained  Cumulative variance explained\n",
       "0          1                          0.366477                       0.366477\n",
       "1          2                          0.173992                       0.540469\n",
       "2          3                          0.106308                       0.646777\n",
       "3          4                          0.093662                       0.740439\n",
       "4          5                          0.075999                       0.816438"
      ]
     },
     "execution_count": 139,
     "metadata": {},
     "output_type": "execute_result"
    }
   ],
   "source": [
    "# store proportion of variance explained as a dataframe\n",
    "pca_var_explained = pd.DataFrame({'Proportion of variance explained': pca.explained_variance_ratio_})\n",
    "\n",
    "# add component number as a new column\n",
    "pca_var_explained['Component'] = np.arange(1, 11)\n",
    "\n",
    "# add cumulative variance explained as a new column\n",
    "pca_var_explained['Cumulative variance explained'] = pca_var_explained.iloc[:, 0].cumsum(axis = 0)\n",
    "\n",
    "# reordering columns\n",
    "pca_var_explained = pca_var_explained[['Component', 'Proportion of variance explained', 'Cumulative variance explained']]\n",
    "\n",
    "# print\n",
    "pca_var_explained.head()"
   ]
  },
  {
   "cell_type": "markdown",
   "metadata": {},
   "source": [
    "From our results, we see that we need at least 5 principal components to explain around 80% of the variation in our data.Thus, let's only focus on visualizing the first 5 principal component."
   ]
  },
  {
   "cell_type": "markdown",
   "metadata": {},
   "source": [
    "Here we are constructing a dataframe to showcase the first five principal components against each predictor variable to see what weight each variable has."
   ]
  },
  {
   "cell_type": "code",
   "execution_count": 140,
   "metadata": {
    "scrolled": true
   },
   "outputs": [
    {
     "data": {
      "text/html": [
       "<div>\n",
       "<style scoped>\n",
       "    .dataframe tbody tr th:only-of-type {\n",
       "        vertical-align: middle;\n",
       "    }\n",
       "\n",
       "    .dataframe tbody tr th {\n",
       "        vertical-align: top;\n",
       "    }\n",
       "\n",
       "    .dataframe thead th {\n",
       "        text-align: right;\n",
       "    }\n",
       "</style>\n",
       "<table border=\"1\" class=\"dataframe\">\n",
       "  <thead>\n",
       "    <tr style=\"text-align: right;\">\n",
       "      <th></th>\n",
       "      <th>PC1</th>\n",
       "      <th>PC2</th>\n",
       "      <th>PC3</th>\n",
       "      <th>PC4</th>\n",
       "      <th>PC5</th>\n",
       "      <th>Variable</th>\n",
       "    </tr>\n",
       "  </thead>\n",
       "  <tbody>\n",
       "    <tr>\n",
       "      <th>0</th>\n",
       "      <td>0.406951</td>\n",
       "      <td>0.247598</td>\n",
       "      <td>-0.190143</td>\n",
       "      <td>-0.014101</td>\n",
       "      <td>0.327060</td>\n",
       "      <td>acousticness</td>\n",
       "    </tr>\n",
       "    <tr>\n",
       "      <th>1</th>\n",
       "      <td>-0.369851</td>\n",
       "      <td>0.014786</td>\n",
       "      <td>-0.324629</td>\n",
       "      <td>0.324669</td>\n",
       "      <td>0.323884</td>\n",
       "      <td>danceability</td>\n",
       "    </tr>\n",
       "    <tr>\n",
       "      <th>2</th>\n",
       "      <td>0.072330</td>\n",
       "      <td>-0.004129</td>\n",
       "      <td>0.737252</td>\n",
       "      <td>0.586755</td>\n",
       "      <td>0.321876</td>\n",
       "      <td>duration_ms</td>\n",
       "    </tr>\n",
       "    <tr>\n",
       "      <th>3</th>\n",
       "      <td>-0.455539</td>\n",
       "      <td>0.064463</td>\n",
       "      <td>0.213262</td>\n",
       "      <td>-0.059186</td>\n",
       "      <td>-0.281278</td>\n",
       "      <td>energy</td>\n",
       "    </tr>\n",
       "    <tr>\n",
       "      <th>4</th>\n",
       "      <td>0.327114</td>\n",
       "      <td>-0.182810</td>\n",
       "      <td>0.066059</td>\n",
       "      <td>-0.019773</td>\n",
       "      <td>-0.071946</td>\n",
       "      <td>instrumentalness</td>\n",
       "    </tr>\n",
       "    <tr>\n",
       "      <th>5</th>\n",
       "      <td>-0.061303</td>\n",
       "      <td>0.637898</td>\n",
       "      <td>0.180533</td>\n",
       "      <td>-0.179891</td>\n",
       "      <td>-0.079596</td>\n",
       "      <td>liveness</td>\n",
       "    </tr>\n",
       "    <tr>\n",
       "      <th>6</th>\n",
       "      <td>-0.462699</td>\n",
       "      <td>-0.057874</td>\n",
       "      <td>0.148974</td>\n",
       "      <td>0.006397</td>\n",
       "      <td>-0.247264</td>\n",
       "      <td>loudness</td>\n",
       "    </tr>\n",
       "    <tr>\n",
       "      <th>7</th>\n",
       "      <td>-0.060873</td>\n",
       "      <td>0.664109</td>\n",
       "      <td>0.015008</td>\n",
       "      <td>-0.047589</td>\n",
       "      <td>0.141837</td>\n",
       "      <td>speechiness</td>\n",
       "    </tr>\n",
       "    <tr>\n",
       "      <th>8</th>\n",
       "      <td>-0.166620</td>\n",
       "      <td>-0.220869</td>\n",
       "      <td>0.327400</td>\n",
       "      <td>-0.692923</td>\n",
       "      <td>0.564892</td>\n",
       "      <td>tempo</td>\n",
       "    </tr>\n",
       "    <tr>\n",
       "      <th>9</th>\n",
       "      <td>-0.358516</td>\n",
       "      <td>-0.028240</td>\n",
       "      <td>-0.320743</td>\n",
       "      <td>0.177220</td>\n",
       "      <td>0.439928</td>\n",
       "      <td>valence</td>\n",
       "    </tr>\n",
       "  </tbody>\n",
       "</table>\n",
       "</div>"
      ],
      "text/plain": [
       "        PC1       PC2       PC3       PC4       PC5          Variable\n",
       "0  0.406951  0.247598 -0.190143 -0.014101  0.327060      acousticness\n",
       "1 -0.369851  0.014786 -0.324629  0.324669  0.323884      danceability\n",
       "2  0.072330 -0.004129  0.737252  0.586755  0.321876       duration_ms\n",
       "3 -0.455539  0.064463  0.213262 -0.059186 -0.281278            energy\n",
       "4  0.327114 -0.182810  0.066059 -0.019773 -0.071946  instrumentalness\n",
       "5 -0.061303  0.637898  0.180533 -0.179891 -0.079596          liveness\n",
       "6 -0.462699 -0.057874  0.148974  0.006397 -0.247264          loudness\n",
       "7 -0.060873  0.664109  0.015008 -0.047589  0.141837       speechiness\n",
       "8 -0.166620 -0.220869  0.327400 -0.692923  0.564892             tempo\n",
       "9 -0.358516 -0.028240 -0.320743  0.177220  0.439928           valence"
      ]
     },
     "execution_count": 140,
     "metadata": {},
     "output_type": "execute_result"
    }
   ],
   "source": [
    "# store the pca variation as a data frame with appropriate names\n",
    "PCA_df = pd.DataFrame(pca.components_).transpose().rename(\n",
    "    columns = {0: 'PC1', 1: 'PC2', 2: 'PC3', 3: 'PC4', 4: 'PC5'} # add entries for each selected component\n",
    ").loc[:, ['PC1', 'PC2', 'PC3', 'PC4', 'PC5']] # slice just components of interest\n",
    "\n",
    "# add a column with the variable names\n",
    "PCA_df['Variable'] = songs_numerical.columns.values\n",
    "\n",
    "PCA_df"
   ]
  },
  {
   "cell_type": "markdown",
   "metadata": {},
   "source": [
    "We can visualize this dataframe as:"
   ]
  },
  {
   "cell_type": "code",
   "execution_count": 141,
   "metadata": {},
   "outputs": [
    {
     "data": {
      "text/html": [
       "\n",
       "<div id=\"altair-viz-95816b49a66b4413bb2e29b18aac414b\"></div>\n",
       "<script type=\"text/javascript\">\n",
       "  (function(spec, embedOpt){\n",
       "    let outputDiv = document.currentScript.previousElementSibling;\n",
       "    if (outputDiv.id !== \"altair-viz-95816b49a66b4413bb2e29b18aac414b\") {\n",
       "      outputDiv = document.getElementById(\"altair-viz-95816b49a66b4413bb2e29b18aac414b\");\n",
       "    }\n",
       "    const paths = {\n",
       "      \"vega\": \"https://cdn.jsdelivr.net/npm//vega@5?noext\",\n",
       "      \"vega-lib\": \"https://cdn.jsdelivr.net/npm//vega-lib?noext\",\n",
       "      \"vega-lite\": \"https://cdn.jsdelivr.net/npm//vega-lite@4.8.1?noext\",\n",
       "      \"vega-embed\": \"https://cdn.jsdelivr.net/npm//vega-embed@6?noext\",\n",
       "    };\n",
       "\n",
       "    function loadScript(lib) {\n",
       "      return new Promise(function(resolve, reject) {\n",
       "        var s = document.createElement('script');\n",
       "        s.src = paths[lib];\n",
       "        s.async = true;\n",
       "        s.onload = () => resolve(paths[lib]);\n",
       "        s.onerror = () => reject(`Error loading script: ${paths[lib]}`);\n",
       "        document.getElementsByTagName(\"head\")[0].appendChild(s);\n",
       "      });\n",
       "    }\n",
       "\n",
       "    function showError(err) {\n",
       "      outputDiv.innerHTML = `<div class=\"error\" style=\"color:red;\">${err}</div>`;\n",
       "      throw err;\n",
       "    }\n",
       "\n",
       "    function displayChart(vegaEmbed) {\n",
       "      vegaEmbed(outputDiv, spec, embedOpt)\n",
       "        .catch(err => showError(`Javascript Error: ${err.message}<br>This usually means there's a typo in your chart specification. See the javascript console for the full traceback.`));\n",
       "    }\n",
       "\n",
       "    if(typeof define === \"function\" && define.amd) {\n",
       "      requirejs.config({paths});\n",
       "      require([\"vega-embed\"], displayChart, err => showError(`Error loading script: ${err.message}`));\n",
       "    } else if (typeof vegaEmbed === \"function\") {\n",
       "      displayChart(vegaEmbed);\n",
       "    } else {\n",
       "      loadScript(\"vega\")\n",
       "        .then(() => loadScript(\"vega-lite\"))\n",
       "        .then(() => loadScript(\"vega-embed\"))\n",
       "        .catch(showError)\n",
       "        .then(() => displayChart(vegaEmbed));\n",
       "    }\n",
       "  })({\"config\": {\"view\": {\"continuousWidth\": 400, \"continuousHeight\": 300}}, \"data\": {\"name\": \"data-f150a50709350927f07090a9271c9e7b\"}, \"facet\": {\"column\": {\"type\": \"nominal\", \"field\": \"Principal Component\", \"title\": \"\"}}, \"spec\": {\"layer\": [{\"mark\": {\"type\": \"line\", \"point\": true}, \"encoding\": {\"color\": {\"type\": \"nominal\", \"field\": \"Principal Component\"}, \"x\": {\"type\": \"quantitative\", \"field\": \"Loading\"}, \"y\": {\"type\": \"nominal\", \"field\": \"Variable\", \"title\": \"\"}}}, {\"mark\": \"rule\", \"encoding\": {\"size\": {\"value\": 0.05}, \"x\": {\"type\": \"quantitative\", \"field\": \"zero\", \"title\": \"Value\"}}}], \"width\": 120}, \"$schema\": \"https://vega.github.io/schema/vega-lite/v4.8.1.json\", \"datasets\": {\"data-f150a50709350927f07090a9271c9e7b\": [{\"Variable\": \"acousticness\", \"Principal Component\": \"PC1\", \"Loading\": 0.40695111970373765, \"zero\": 0}, {\"Variable\": \"danceability\", \"Principal Component\": \"PC1\", \"Loading\": -0.369850777602811, \"zero\": 0}, {\"Variable\": \"duration_ms\", \"Principal Component\": \"PC1\", \"Loading\": 0.07233045041440857, \"zero\": 0}, {\"Variable\": \"energy\", \"Principal Component\": \"PC1\", \"Loading\": -0.45553944241651884, \"zero\": 0}, {\"Variable\": \"instrumentalness\", \"Principal Component\": \"PC1\", \"Loading\": 0.32711402857319166, \"zero\": 0}, {\"Variable\": \"liveness\", \"Principal Component\": \"PC1\", \"Loading\": -0.06130286134190628, \"zero\": 0}, {\"Variable\": \"loudness\", \"Principal Component\": \"PC1\", \"Loading\": -0.4626992116107649, \"zero\": 0}, {\"Variable\": \"speechiness\", \"Principal Component\": \"PC1\", \"Loading\": -0.06087302959595348, \"zero\": 0}, {\"Variable\": \"tempo\", \"Principal Component\": \"PC1\", \"Loading\": -0.1666199532209085, \"zero\": 0}, {\"Variable\": \"valence\", \"Principal Component\": \"PC1\", \"Loading\": -0.35851553293731425, \"zero\": 0}, {\"Variable\": \"acousticness\", \"Principal Component\": \"PC2\", \"Loading\": 0.24759751894697452, \"zero\": 0}, {\"Variable\": \"danceability\", \"Principal Component\": \"PC2\", \"Loading\": 0.01478601048864598, \"zero\": 0}, {\"Variable\": \"duration_ms\", \"Principal Component\": \"PC2\", \"Loading\": -0.0041287871098077585, \"zero\": 0}, {\"Variable\": \"energy\", \"Principal Component\": \"PC2\", \"Loading\": 0.06446311509989111, \"zero\": 0}, {\"Variable\": \"instrumentalness\", \"Principal Component\": \"PC2\", \"Loading\": -0.1828100507605744, \"zero\": 0}, {\"Variable\": \"liveness\", \"Principal Component\": \"PC2\", \"Loading\": 0.6378980198397547, \"zero\": 0}, {\"Variable\": \"loudness\", \"Principal Component\": \"PC2\", \"Loading\": -0.05787372037936598, \"zero\": 0}, {\"Variable\": \"speechiness\", \"Principal Component\": \"PC2\", \"Loading\": 0.6641090948552417, \"zero\": 0}, {\"Variable\": \"tempo\", \"Principal Component\": \"PC2\", \"Loading\": -0.2208691152672336, \"zero\": 0}, {\"Variable\": \"valence\", \"Principal Component\": \"PC2\", \"Loading\": -0.028239698657378555, \"zero\": 0}, {\"Variable\": \"acousticness\", \"Principal Component\": \"PC3\", \"Loading\": -0.19014323982399178, \"zero\": 0}, {\"Variable\": \"danceability\", \"Principal Component\": \"PC3\", \"Loading\": -0.32462852263039715, \"zero\": 0}, {\"Variable\": \"duration_ms\", \"Principal Component\": \"PC3\", \"Loading\": 0.7372518424069856, \"zero\": 0}, {\"Variable\": \"energy\", \"Principal Component\": \"PC3\", \"Loading\": 0.2132617277527619, \"zero\": 0}, {\"Variable\": \"instrumentalness\", \"Principal Component\": \"PC3\", \"Loading\": 0.06605946090514099, \"zero\": 0}, {\"Variable\": \"liveness\", \"Principal Component\": \"PC3\", \"Loading\": 0.18053274974465214, \"zero\": 0}, {\"Variable\": \"loudness\", \"Principal Component\": \"PC3\", \"Loading\": 0.14897376369946405, \"zero\": 0}, {\"Variable\": \"speechiness\", \"Principal Component\": \"PC3\", \"Loading\": 0.015007626732394566, \"zero\": 0}, {\"Variable\": \"tempo\", \"Principal Component\": \"PC3\", \"Loading\": 0.3273996833541511, \"zero\": 0}, {\"Variable\": \"valence\", \"Principal Component\": \"PC3\", \"Loading\": -0.3207431013922043, \"zero\": 0}, {\"Variable\": \"acousticness\", \"Principal Component\": \"PC4\", \"Loading\": -0.01410125252300435, \"zero\": 0}, {\"Variable\": \"danceability\", \"Principal Component\": \"PC4\", \"Loading\": 0.32466859639750745, \"zero\": 0}, {\"Variable\": \"duration_ms\", \"Principal Component\": \"PC4\", \"Loading\": 0.5867550157802723, \"zero\": 0}, {\"Variable\": \"energy\", \"Principal Component\": \"PC4\", \"Loading\": -0.059186342673161176, \"zero\": 0}, {\"Variable\": \"instrumentalness\", \"Principal Component\": \"PC4\", \"Loading\": -0.01977304456368398, \"zero\": 0}, {\"Variable\": \"liveness\", \"Principal Component\": \"PC4\", \"Loading\": -0.17989054304429053, \"zero\": 0}, {\"Variable\": \"loudness\", \"Principal Component\": \"PC4\", \"Loading\": 0.006396895674239462, \"zero\": 0}, {\"Variable\": \"speechiness\", \"Principal Component\": \"PC4\", \"Loading\": -0.0475894504879183, \"zero\": 0}, {\"Variable\": \"tempo\", \"Principal Component\": \"PC4\", \"Loading\": -0.6929233138176554, \"zero\": 0}, {\"Variable\": \"valence\", \"Principal Component\": \"PC4\", \"Loading\": 0.17722022970328563, \"zero\": 0}, {\"Variable\": \"acousticness\", \"Principal Component\": \"PC5\", \"Loading\": 0.3270599968676606, \"zero\": 0}, {\"Variable\": \"danceability\", \"Principal Component\": \"PC5\", \"Loading\": 0.3238840355337079, \"zero\": 0}, {\"Variable\": \"duration_ms\", \"Principal Component\": \"PC5\", \"Loading\": 0.3218764734516383, \"zero\": 0}, {\"Variable\": \"energy\", \"Principal Component\": \"PC5\", \"Loading\": -0.2812783688328889, \"zero\": 0}, {\"Variable\": \"instrumentalness\", \"Principal Component\": \"PC5\", \"Loading\": -0.0719459663423271, \"zero\": 0}, {\"Variable\": \"liveness\", \"Principal Component\": \"PC5\", \"Loading\": -0.07959581977882611, \"zero\": 0}, {\"Variable\": \"loudness\", \"Principal Component\": \"PC5\", \"Loading\": -0.24726413927448562, \"zero\": 0}, {\"Variable\": \"speechiness\", \"Principal Component\": \"PC5\", \"Loading\": 0.14183667973569378, \"zero\": 0}, {\"Variable\": \"tempo\", \"Principal Component\": \"PC5\", \"Loading\": 0.564892375994175, \"zero\": 0}, {\"Variable\": \"valence\", \"Principal Component\": \"PC5\", \"Loading\": 0.43992794148046144, \"zero\": 0}]}}, {\"mode\": \"vega-lite\"});\n",
       "</script>"
      ],
      "text/plain": [
       "alt.FacetChart(...)"
      ]
     },
     "execution_count": 141,
     "metadata": {},
     "output_type": "execute_result"
    }
   ],
   "source": [
    "# melt from wide to long\n",
    "PCA_plot_df = PCA_df.melt(\n",
    "    id_vars = 'Variable',\n",
    "    var_name = 'Principal Component',\n",
    "    value_name = 'Loading'\n",
    ")\n",
    "\n",
    "# add a column of zeros to encode for x = 0 line to plot\n",
    "PCA_plot_df['zero'] = np.repeat(0, len(PCA_plot_df))\n",
    "\n",
    "# # create base layer\n",
    "base = alt.Chart(PCA_plot_df)\n",
    "\n",
    "# create lines + points for loadings\n",
    "loadings = base.mark_line(point = True).encode(\n",
    "    y = alt.X('Variable', title = ''),\n",
    "    x = 'Loading',\n",
    "    color = 'Principal Component'\n",
    ")\n",
    "\n",
    "# create line at zero\n",
    "rule = base.mark_rule().encode(x = alt.X('zero', title = 'Value'), size = alt.value(0.05))\n",
    "\n",
    "# layer\n",
    "PCA_plot = (loadings + rule).properties(width = 120)\n",
    "\n",
    "# show\n",
    "PCA_plot.facet(column = alt.Column('Principal Component', title = ''))"
   ]
  },
  {
   "cell_type": "markdown",
   "metadata": {},
   "source": [
    "We lose a lot of interpretability due to principal component analysis, but we can infer what the first two principal components might represent.\n",
    "\n",
    "#### PC1\n",
    "Positives: acousticness, instrumentalness\n",
    "\n",
    "Negatives: dancebility, energy, koudness, valence\n",
    "\n",
    "Interpretation: PC1 seems to be kinda depressing with the valance and energy being pretty negative. The lack of loudness and energy makes us assume that in addition to being kinda depressing, we are in some sort of emo phase of not wanting to be heard or seen and the only thing that can be represented in the song is the musical instruments. \n",
    "\n",
    "However, in a more serious interpretation, a lot of songs are constructed by the songwriter's emotions. And a lot more songs are about hardship and pain to try and connect with listeners and relate with whatever issue they may have. Thus, it makes sense for a lot of songs to be more sad and have the first principal component represent that.\n",
    "\n",
    "#### PC2\n",
    "Positives: liveness, speechiness\n",
    "\n",
    "Negatives (weaker values): instrumentalness, tempo\n",
    "\n",
    "Interpretation: PC2 seems to be more of the opposite of PC1 where things are very extroverted with a lot of spoken language and the song being more in a live setting then a studio setting. Most songs are written on some sort of strong emotion, and if there exists sad songs, there also exists more lighthearted and happier songs. Thus, PC2 may represent the construction of songs with a happier meaning and its song composition is constructed in tune with that idea."
   ]
  },
  {
   "cell_type": "markdown",
   "metadata": {},
   "source": [
    "### PCA Regression"
   ]
  },
  {
   "cell_type": "markdown",
   "metadata": {},
   "source": [
    "We want to perform some sort of PCA Regression and thus, we first need to split our numerical predictor variables and store them into X and store our response variable popularity as y."
   ]
  },
  {
   "cell_type": "code",
   "execution_count": 142,
   "metadata": {},
   "outputs": [],
   "source": [
    "# split dataset into X and y for PCA\n",
    "X = songs_numerical.copy()\n",
    "y = songs[['popularity']]"
   ]
  },
  {
   "cell_type": "markdown",
   "metadata": {},
   "source": [
    "Then we construct our PCA model and fit it using our scaled X data."
   ]
  },
  {
   "cell_type": "code",
   "execution_count": 143,
   "metadata": {},
   "outputs": [],
   "source": [
    "# fit a scaled PCA model \n",
    "pca = PCA()\n",
    "X_reduced = pca.fit_transform(scale(X))"
   ]
  },
  {
   "cell_type": "markdown",
   "metadata": {},
   "source": [
    "Here we are defining our cross validation method as using 10 folds and repeating it 3 times to evaluate the performance of our PCA regression model. We chose a repeat of 3 to ensure a balance of both model accuracy but also minimize run time."
   ]
  },
  {
   "cell_type": "code",
   "execution_count": 144,
   "metadata": {},
   "outputs": [],
   "source": [
    "# define cross validation method\n",
    "cv = RepeatedKFold(n_splits=10, n_repeats=3, random_state=131)"
   ]
  },
  {
   "cell_type": "markdown",
   "metadata": {},
   "source": [
    "Next we define a linear regression model to test our pca model on."
   ]
  },
  {
   "cell_type": "code",
   "execution_count": 145,
   "metadata": {},
   "outputs": [],
   "source": [
    "# create linear regression model for PCA and to compute MSE\n",
    "PCA_lr = LinearRegression()"
   ]
  },
  {
   "cell_type": "markdown",
   "metadata": {},
   "source": [
    "In order to evaluate our model's performance, we've create an empty list to append each models' mean squared error after each cross validation. Then we store that mse into our list."
   ]
  },
  {
   "cell_type": "code",
   "execution_count": 149,
   "metadata": {},
   "outputs": [],
   "source": [
    "# list to store PCA mse\n",
    "PCA_mse = []\n",
    "\n",
    "# Calculate MSE for each CV model\n",
    "score = -1*model_selection.cross_val_score(PCA_lr,\n",
    "           np.ones((len(X_reduced),1)), y, cv=cv,\n",
    "           scoring='neg_mean_squared_error').mean()\n",
    "\n",
    "PCA_mse.append(score)"
   ]
  },
  {
   "cell_type": "markdown",
   "metadata": {},
   "source": [
    "Lastly, we've implimented a for loop to check the cross validation MSE for each individual principal component."
   ]
  },
  {
   "cell_type": "code",
   "execution_count": 150,
   "metadata": {},
   "outputs": [],
   "source": [
    "# for loop to check cross validation MSE\n",
    "for i in np.arange(1, 11):\n",
    "    score = -1*model_selection.cross_val_score(PCA_lr,\n",
    "               X_reduced[:,:i], y, cv=cv, scoring='neg_mean_squared_error').mean()\n",
    "    PCA_mse.append(score)"
   ]
  },
  {
   "cell_type": "markdown",
   "metadata": {},
   "source": [
    "In order to visualize the performance of our model, we've created a dataframe of each principal component and the corresponding mse after using that many components for that model."
   ]
  },
  {
   "cell_type": "code",
   "execution_count": 151,
   "metadata": {},
   "outputs": [],
   "source": [
    "# converting PCA_mse into dataframe for plottng\n",
    "PCA_mse_df = pd.DataFrame({'PCA': [i for i in np.arange(0,11)],\n",
    "                     'mse': PCA_mse})"
   ]
  },
  {
   "cell_type": "markdown",
   "metadata": {},
   "source": [
    "Our plot is as follows:"
   ]
  },
  {
   "cell_type": "code",
   "execution_count": 152,
   "metadata": {},
   "outputs": [
    {
     "data": {
      "application/vnd.plotly.v1+json": {
       "config": {
        "plotlyServerURL": "https://plot.ly"
       },
       "data": [
        {
         "hovertemplate": "PCA=%{x}<br>mse=%{y}<extra></extra>",
         "legendgroup": "",
         "line": {
          "color": "#636efa",
          "dash": "solid"
         },
         "marker": {
          "symbol": "circle"
         },
         "mode": "markers+lines",
         "name": "",
         "orientation": "v",
         "showlegend": false,
         "type": "scatter",
         "x": [
          0,
          1,
          2,
          3,
          4,
          5,
          6,
          7,
          8,
          9,
          10
         ],
         "xaxis": "x",
         "y": [
          292.85048948511087,
          259.5650938519721,
          236.50135659805517,
          236.40350596777733,
          235.33683545566439,
          232.56918738259685,
          231.73218591223466,
          225.12871548843776,
          221.5854923069094,
          221.27615619501213,
          220.3313868755155
         ],
         "yaxis": "y"
        }
       ],
       "layout": {
        "legend": {
         "tracegroupgap": 0
        },
        "template": {
         "data": {
          "bar": [
           {
            "error_x": {
             "color": "#2a3f5f"
            },
            "error_y": {
             "color": "#2a3f5f"
            },
            "marker": {
             "line": {
              "color": "#E5ECF6",
              "width": 0.5
             },
             "pattern": {
              "fillmode": "overlay",
              "size": 10,
              "solidity": 0.2
             }
            },
            "type": "bar"
           }
          ],
          "barpolar": [
           {
            "marker": {
             "line": {
              "color": "#E5ECF6",
              "width": 0.5
             },
             "pattern": {
              "fillmode": "overlay",
              "size": 10,
              "solidity": 0.2
             }
            },
            "type": "barpolar"
           }
          ],
          "carpet": [
           {
            "aaxis": {
             "endlinecolor": "#2a3f5f",
             "gridcolor": "white",
             "linecolor": "white",
             "minorgridcolor": "white",
             "startlinecolor": "#2a3f5f"
            },
            "baxis": {
             "endlinecolor": "#2a3f5f",
             "gridcolor": "white",
             "linecolor": "white",
             "minorgridcolor": "white",
             "startlinecolor": "#2a3f5f"
            },
            "type": "carpet"
           }
          ],
          "choropleth": [
           {
            "colorbar": {
             "outlinewidth": 0,
             "ticks": ""
            },
            "type": "choropleth"
           }
          ],
          "contour": [
           {
            "colorbar": {
             "outlinewidth": 0,
             "ticks": ""
            },
            "colorscale": [
             [
              0,
              "#0d0887"
             ],
             [
              0.1111111111111111,
              "#46039f"
             ],
             [
              0.2222222222222222,
              "#7201a8"
             ],
             [
              0.3333333333333333,
              "#9c179e"
             ],
             [
              0.4444444444444444,
              "#bd3786"
             ],
             [
              0.5555555555555556,
              "#d8576b"
             ],
             [
              0.6666666666666666,
              "#ed7953"
             ],
             [
              0.7777777777777778,
              "#fb9f3a"
             ],
             [
              0.8888888888888888,
              "#fdca26"
             ],
             [
              1,
              "#f0f921"
             ]
            ],
            "type": "contour"
           }
          ],
          "contourcarpet": [
           {
            "colorbar": {
             "outlinewidth": 0,
             "ticks": ""
            },
            "type": "contourcarpet"
           }
          ],
          "heatmap": [
           {
            "colorbar": {
             "outlinewidth": 0,
             "ticks": ""
            },
            "colorscale": [
             [
              0,
              "#0d0887"
             ],
             [
              0.1111111111111111,
              "#46039f"
             ],
             [
              0.2222222222222222,
              "#7201a8"
             ],
             [
              0.3333333333333333,
              "#9c179e"
             ],
             [
              0.4444444444444444,
              "#bd3786"
             ],
             [
              0.5555555555555556,
              "#d8576b"
             ],
             [
              0.6666666666666666,
              "#ed7953"
             ],
             [
              0.7777777777777778,
              "#fb9f3a"
             ],
             [
              0.8888888888888888,
              "#fdca26"
             ],
             [
              1,
              "#f0f921"
             ]
            ],
            "type": "heatmap"
           }
          ],
          "heatmapgl": [
           {
            "colorbar": {
             "outlinewidth": 0,
             "ticks": ""
            },
            "colorscale": [
             [
              0,
              "#0d0887"
             ],
             [
              0.1111111111111111,
              "#46039f"
             ],
             [
              0.2222222222222222,
              "#7201a8"
             ],
             [
              0.3333333333333333,
              "#9c179e"
             ],
             [
              0.4444444444444444,
              "#bd3786"
             ],
             [
              0.5555555555555556,
              "#d8576b"
             ],
             [
              0.6666666666666666,
              "#ed7953"
             ],
             [
              0.7777777777777778,
              "#fb9f3a"
             ],
             [
              0.8888888888888888,
              "#fdca26"
             ],
             [
              1,
              "#f0f921"
             ]
            ],
            "type": "heatmapgl"
           }
          ],
          "histogram": [
           {
            "marker": {
             "pattern": {
              "fillmode": "overlay",
              "size": 10,
              "solidity": 0.2
             }
            },
            "type": "histogram"
           }
          ],
          "histogram2d": [
           {
            "colorbar": {
             "outlinewidth": 0,
             "ticks": ""
            },
            "colorscale": [
             [
              0,
              "#0d0887"
             ],
             [
              0.1111111111111111,
              "#46039f"
             ],
             [
              0.2222222222222222,
              "#7201a8"
             ],
             [
              0.3333333333333333,
              "#9c179e"
             ],
             [
              0.4444444444444444,
              "#bd3786"
             ],
             [
              0.5555555555555556,
              "#d8576b"
             ],
             [
              0.6666666666666666,
              "#ed7953"
             ],
             [
              0.7777777777777778,
              "#fb9f3a"
             ],
             [
              0.8888888888888888,
              "#fdca26"
             ],
             [
              1,
              "#f0f921"
             ]
            ],
            "type": "histogram2d"
           }
          ],
          "histogram2dcontour": [
           {
            "colorbar": {
             "outlinewidth": 0,
             "ticks": ""
            },
            "colorscale": [
             [
              0,
              "#0d0887"
             ],
             [
              0.1111111111111111,
              "#46039f"
             ],
             [
              0.2222222222222222,
              "#7201a8"
             ],
             [
              0.3333333333333333,
              "#9c179e"
             ],
             [
              0.4444444444444444,
              "#bd3786"
             ],
             [
              0.5555555555555556,
              "#d8576b"
             ],
             [
              0.6666666666666666,
              "#ed7953"
             ],
             [
              0.7777777777777778,
              "#fb9f3a"
             ],
             [
              0.8888888888888888,
              "#fdca26"
             ],
             [
              1,
              "#f0f921"
             ]
            ],
            "type": "histogram2dcontour"
           }
          ],
          "mesh3d": [
           {
            "colorbar": {
             "outlinewidth": 0,
             "ticks": ""
            },
            "type": "mesh3d"
           }
          ],
          "parcoords": [
           {
            "line": {
             "colorbar": {
              "outlinewidth": 0,
              "ticks": ""
             }
            },
            "type": "parcoords"
           }
          ],
          "pie": [
           {
            "automargin": true,
            "type": "pie"
           }
          ],
          "scatter": [
           {
            "marker": {
             "colorbar": {
              "outlinewidth": 0,
              "ticks": ""
             }
            },
            "type": "scatter"
           }
          ],
          "scatter3d": [
           {
            "line": {
             "colorbar": {
              "outlinewidth": 0,
              "ticks": ""
             }
            },
            "marker": {
             "colorbar": {
              "outlinewidth": 0,
              "ticks": ""
             }
            },
            "type": "scatter3d"
           }
          ],
          "scattercarpet": [
           {
            "marker": {
             "colorbar": {
              "outlinewidth": 0,
              "ticks": ""
             }
            },
            "type": "scattercarpet"
           }
          ],
          "scattergeo": [
           {
            "marker": {
             "colorbar": {
              "outlinewidth": 0,
              "ticks": ""
             }
            },
            "type": "scattergeo"
           }
          ],
          "scattergl": [
           {
            "marker": {
             "colorbar": {
              "outlinewidth": 0,
              "ticks": ""
             }
            },
            "type": "scattergl"
           }
          ],
          "scattermapbox": [
           {
            "marker": {
             "colorbar": {
              "outlinewidth": 0,
              "ticks": ""
             }
            },
            "type": "scattermapbox"
           }
          ],
          "scatterpolar": [
           {
            "marker": {
             "colorbar": {
              "outlinewidth": 0,
              "ticks": ""
             }
            },
            "type": "scatterpolar"
           }
          ],
          "scatterpolargl": [
           {
            "marker": {
             "colorbar": {
              "outlinewidth": 0,
              "ticks": ""
             }
            },
            "type": "scatterpolargl"
           }
          ],
          "scatterternary": [
           {
            "marker": {
             "colorbar": {
              "outlinewidth": 0,
              "ticks": ""
             }
            },
            "type": "scatterternary"
           }
          ],
          "surface": [
           {
            "colorbar": {
             "outlinewidth": 0,
             "ticks": ""
            },
            "colorscale": [
             [
              0,
              "#0d0887"
             ],
             [
              0.1111111111111111,
              "#46039f"
             ],
             [
              0.2222222222222222,
              "#7201a8"
             ],
             [
              0.3333333333333333,
              "#9c179e"
             ],
             [
              0.4444444444444444,
              "#bd3786"
             ],
             [
              0.5555555555555556,
              "#d8576b"
             ],
             [
              0.6666666666666666,
              "#ed7953"
             ],
             [
              0.7777777777777778,
              "#fb9f3a"
             ],
             [
              0.8888888888888888,
              "#fdca26"
             ],
             [
              1,
              "#f0f921"
             ]
            ],
            "type": "surface"
           }
          ],
          "table": [
           {
            "cells": {
             "fill": {
              "color": "#EBF0F8"
             },
             "line": {
              "color": "white"
             }
            },
            "header": {
             "fill": {
              "color": "#C8D4E3"
             },
             "line": {
              "color": "white"
             }
            },
            "type": "table"
           }
          ]
         },
         "layout": {
          "annotationdefaults": {
           "arrowcolor": "#2a3f5f",
           "arrowhead": 0,
           "arrowwidth": 1
          },
          "autotypenumbers": "strict",
          "coloraxis": {
           "colorbar": {
            "outlinewidth": 0,
            "ticks": ""
           }
          },
          "colorscale": {
           "diverging": [
            [
             0,
             "#8e0152"
            ],
            [
             0.1,
             "#c51b7d"
            ],
            [
             0.2,
             "#de77ae"
            ],
            [
             0.3,
             "#f1b6da"
            ],
            [
             0.4,
             "#fde0ef"
            ],
            [
             0.5,
             "#f7f7f7"
            ],
            [
             0.6,
             "#e6f5d0"
            ],
            [
             0.7,
             "#b8e186"
            ],
            [
             0.8,
             "#7fbc41"
            ],
            [
             0.9,
             "#4d9221"
            ],
            [
             1,
             "#276419"
            ]
           ],
           "sequential": [
            [
             0,
             "#0d0887"
            ],
            [
             0.1111111111111111,
             "#46039f"
            ],
            [
             0.2222222222222222,
             "#7201a8"
            ],
            [
             0.3333333333333333,
             "#9c179e"
            ],
            [
             0.4444444444444444,
             "#bd3786"
            ],
            [
             0.5555555555555556,
             "#d8576b"
            ],
            [
             0.6666666666666666,
             "#ed7953"
            ],
            [
             0.7777777777777778,
             "#fb9f3a"
            ],
            [
             0.8888888888888888,
             "#fdca26"
            ],
            [
             1,
             "#f0f921"
            ]
           ],
           "sequentialminus": [
            [
             0,
             "#0d0887"
            ],
            [
             0.1111111111111111,
             "#46039f"
            ],
            [
             0.2222222222222222,
             "#7201a8"
            ],
            [
             0.3333333333333333,
             "#9c179e"
            ],
            [
             0.4444444444444444,
             "#bd3786"
            ],
            [
             0.5555555555555556,
             "#d8576b"
            ],
            [
             0.6666666666666666,
             "#ed7953"
            ],
            [
             0.7777777777777778,
             "#fb9f3a"
            ],
            [
             0.8888888888888888,
             "#fdca26"
            ],
            [
             1,
             "#f0f921"
            ]
           ]
          },
          "colorway": [
           "#636efa",
           "#EF553B",
           "#00cc96",
           "#ab63fa",
           "#FFA15A",
           "#19d3f3",
           "#FF6692",
           "#B6E880",
           "#FF97FF",
           "#FECB52"
          ],
          "font": {
           "color": "#2a3f5f"
          },
          "geo": {
           "bgcolor": "white",
           "lakecolor": "white",
           "landcolor": "#E5ECF6",
           "showlakes": true,
           "showland": true,
           "subunitcolor": "white"
          },
          "hoverlabel": {
           "align": "left"
          },
          "hovermode": "closest",
          "mapbox": {
           "style": "light"
          },
          "paper_bgcolor": "white",
          "plot_bgcolor": "#E5ECF6",
          "polar": {
           "angularaxis": {
            "gridcolor": "white",
            "linecolor": "white",
            "ticks": ""
           },
           "bgcolor": "#E5ECF6",
           "radialaxis": {
            "gridcolor": "white",
            "linecolor": "white",
            "ticks": ""
           }
          },
          "scene": {
           "xaxis": {
            "backgroundcolor": "#E5ECF6",
            "gridcolor": "white",
            "gridwidth": 2,
            "linecolor": "white",
            "showbackground": true,
            "ticks": "",
            "zerolinecolor": "white"
           },
           "yaxis": {
            "backgroundcolor": "#E5ECF6",
            "gridcolor": "white",
            "gridwidth": 2,
            "linecolor": "white",
            "showbackground": true,
            "ticks": "",
            "zerolinecolor": "white"
           },
           "zaxis": {
            "backgroundcolor": "#E5ECF6",
            "gridcolor": "white",
            "gridwidth": 2,
            "linecolor": "white",
            "showbackground": true,
            "ticks": "",
            "zerolinecolor": "white"
           }
          },
          "shapedefaults": {
           "line": {
            "color": "#2a3f5f"
           }
          },
          "ternary": {
           "aaxis": {
            "gridcolor": "white",
            "linecolor": "white",
            "ticks": ""
           },
           "baxis": {
            "gridcolor": "white",
            "linecolor": "white",
            "ticks": ""
           },
           "bgcolor": "#E5ECF6",
           "caxis": {
            "gridcolor": "white",
            "linecolor": "white",
            "ticks": ""
           }
          },
          "title": {
           "x": 0.05
          },
          "xaxis": {
           "automargin": true,
           "gridcolor": "white",
           "linecolor": "white",
           "ticks": "",
           "title": {
            "standoff": 15
           },
           "zerolinecolor": "white",
           "zerolinewidth": 2
          },
          "yaxis": {
           "automargin": true,
           "gridcolor": "white",
           "linecolor": "white",
           "ticks": "",
           "title": {
            "standoff": 15
           },
           "zerolinecolor": "white",
           "zerolinewidth": 2
          }
         }
        },
        "title": {
         "text": "PCA mse"
        },
        "xaxis": {
         "anchor": "y",
         "domain": [
          0,
          1
         ],
         "title": {
          "text": "PCA"
         }
        },
        "yaxis": {
         "anchor": "x",
         "domain": [
          0,
          1
         ],
         "title": {
          "text": "mse"
         }
        }
       }
      },
      "text/html": [
       "<div>                            <div id=\"5da22d55-fc23-4589-8740-62e92e5c80a2\" class=\"plotly-graph-div\" style=\"height:525px; width:100%;\"></div>            <script type=\"text/javascript\">                require([\"plotly\"], function(Plotly) {                    window.PLOTLYENV=window.PLOTLYENV || {};                                    if (document.getElementById(\"5da22d55-fc23-4589-8740-62e92e5c80a2\")) {                    Plotly.newPlot(                        \"5da22d55-fc23-4589-8740-62e92e5c80a2\",                        [{\"hovertemplate\":\"PCA=%{x}<br>mse=%{y}<extra></extra>\",\"legendgroup\":\"\",\"line\":{\"color\":\"#636efa\",\"dash\":\"solid\"},\"marker\":{\"symbol\":\"circle\"},\"mode\":\"markers+lines\",\"name\":\"\",\"orientation\":\"v\",\"showlegend\":false,\"type\":\"scatter\",\"x\":[0,1,2,3,4,5,6,7,8,9,10],\"xaxis\":\"x\",\"y\":[292.85048948511087,259.5650938519721,236.50135659805517,236.40350596777733,235.33683545566439,232.56918738259685,231.73218591223466,225.12871548843776,221.5854923069094,221.27615619501213,220.3313868755155],\"yaxis\":\"y\"}],                        {\"legend\":{\"tracegroupgap\":0},\"template\":{\"data\":{\"bar\":[{\"error_x\":{\"color\":\"#2a3f5f\"},\"error_y\":{\"color\":\"#2a3f5f\"},\"marker\":{\"line\":{\"color\":\"#E5ECF6\",\"width\":0.5},\"pattern\":{\"fillmode\":\"overlay\",\"size\":10,\"solidity\":0.2}},\"type\":\"bar\"}],\"barpolar\":[{\"marker\":{\"line\":{\"color\":\"#E5ECF6\",\"width\":0.5},\"pattern\":{\"fillmode\":\"overlay\",\"size\":10,\"solidity\":0.2}},\"type\":\"barpolar\"}],\"carpet\":[{\"aaxis\":{\"endlinecolor\":\"#2a3f5f\",\"gridcolor\":\"white\",\"linecolor\":\"white\",\"minorgridcolor\":\"white\",\"startlinecolor\":\"#2a3f5f\"},\"baxis\":{\"endlinecolor\":\"#2a3f5f\",\"gridcolor\":\"white\",\"linecolor\":\"white\",\"minorgridcolor\":\"white\",\"startlinecolor\":\"#2a3f5f\"},\"type\":\"carpet\"}],\"choropleth\":[{\"colorbar\":{\"outlinewidth\":0,\"ticks\":\"\"},\"type\":\"choropleth\"}],\"contour\":[{\"colorbar\":{\"outlinewidth\":0,\"ticks\":\"\"},\"colorscale\":[[0.0,\"#0d0887\"],[0.1111111111111111,\"#46039f\"],[0.2222222222222222,\"#7201a8\"],[0.3333333333333333,\"#9c179e\"],[0.4444444444444444,\"#bd3786\"],[0.5555555555555556,\"#d8576b\"],[0.6666666666666666,\"#ed7953\"],[0.7777777777777778,\"#fb9f3a\"],[0.8888888888888888,\"#fdca26\"],[1.0,\"#f0f921\"]],\"type\":\"contour\"}],\"contourcarpet\":[{\"colorbar\":{\"outlinewidth\":0,\"ticks\":\"\"},\"type\":\"contourcarpet\"}],\"heatmap\":[{\"colorbar\":{\"outlinewidth\":0,\"ticks\":\"\"},\"colorscale\":[[0.0,\"#0d0887\"],[0.1111111111111111,\"#46039f\"],[0.2222222222222222,\"#7201a8\"],[0.3333333333333333,\"#9c179e\"],[0.4444444444444444,\"#bd3786\"],[0.5555555555555556,\"#d8576b\"],[0.6666666666666666,\"#ed7953\"],[0.7777777777777778,\"#fb9f3a\"],[0.8888888888888888,\"#fdca26\"],[1.0,\"#f0f921\"]],\"type\":\"heatmap\"}],\"heatmapgl\":[{\"colorbar\":{\"outlinewidth\":0,\"ticks\":\"\"},\"colorscale\":[[0.0,\"#0d0887\"],[0.1111111111111111,\"#46039f\"],[0.2222222222222222,\"#7201a8\"],[0.3333333333333333,\"#9c179e\"],[0.4444444444444444,\"#bd3786\"],[0.5555555555555556,\"#d8576b\"],[0.6666666666666666,\"#ed7953\"],[0.7777777777777778,\"#fb9f3a\"],[0.8888888888888888,\"#fdca26\"],[1.0,\"#f0f921\"]],\"type\":\"heatmapgl\"}],\"histogram\":[{\"marker\":{\"pattern\":{\"fillmode\":\"overlay\",\"size\":10,\"solidity\":0.2}},\"type\":\"histogram\"}],\"histogram2d\":[{\"colorbar\":{\"outlinewidth\":0,\"ticks\":\"\"},\"colorscale\":[[0.0,\"#0d0887\"],[0.1111111111111111,\"#46039f\"],[0.2222222222222222,\"#7201a8\"],[0.3333333333333333,\"#9c179e\"],[0.4444444444444444,\"#bd3786\"],[0.5555555555555556,\"#d8576b\"],[0.6666666666666666,\"#ed7953\"],[0.7777777777777778,\"#fb9f3a\"],[0.8888888888888888,\"#fdca26\"],[1.0,\"#f0f921\"]],\"type\":\"histogram2d\"}],\"histogram2dcontour\":[{\"colorbar\":{\"outlinewidth\":0,\"ticks\":\"\"},\"colorscale\":[[0.0,\"#0d0887\"],[0.1111111111111111,\"#46039f\"],[0.2222222222222222,\"#7201a8\"],[0.3333333333333333,\"#9c179e\"],[0.4444444444444444,\"#bd3786\"],[0.5555555555555556,\"#d8576b\"],[0.6666666666666666,\"#ed7953\"],[0.7777777777777778,\"#fb9f3a\"],[0.8888888888888888,\"#fdca26\"],[1.0,\"#f0f921\"]],\"type\":\"histogram2dcontour\"}],\"mesh3d\":[{\"colorbar\":{\"outlinewidth\":0,\"ticks\":\"\"},\"type\":\"mesh3d\"}],\"parcoords\":[{\"line\":{\"colorbar\":{\"outlinewidth\":0,\"ticks\":\"\"}},\"type\":\"parcoords\"}],\"pie\":[{\"automargin\":true,\"type\":\"pie\"}],\"scatter\":[{\"marker\":{\"colorbar\":{\"outlinewidth\":0,\"ticks\":\"\"}},\"type\":\"scatter\"}],\"scatter3d\":[{\"line\":{\"colorbar\":{\"outlinewidth\":0,\"ticks\":\"\"}},\"marker\":{\"colorbar\":{\"outlinewidth\":0,\"ticks\":\"\"}},\"type\":\"scatter3d\"}],\"scattercarpet\":[{\"marker\":{\"colorbar\":{\"outlinewidth\":0,\"ticks\":\"\"}},\"type\":\"scattercarpet\"}],\"scattergeo\":[{\"marker\":{\"colorbar\":{\"outlinewidth\":0,\"ticks\":\"\"}},\"type\":\"scattergeo\"}],\"scattergl\":[{\"marker\":{\"colorbar\":{\"outlinewidth\":0,\"ticks\":\"\"}},\"type\":\"scattergl\"}],\"scattermapbox\":[{\"marker\":{\"colorbar\":{\"outlinewidth\":0,\"ticks\":\"\"}},\"type\":\"scattermapbox\"}],\"scatterpolar\":[{\"marker\":{\"colorbar\":{\"outlinewidth\":0,\"ticks\":\"\"}},\"type\":\"scatterpolar\"}],\"scatterpolargl\":[{\"marker\":{\"colorbar\":{\"outlinewidth\":0,\"ticks\":\"\"}},\"type\":\"scatterpolargl\"}],\"scatterternary\":[{\"marker\":{\"colorbar\":{\"outlinewidth\":0,\"ticks\":\"\"}},\"type\":\"scatterternary\"}],\"surface\":[{\"colorbar\":{\"outlinewidth\":0,\"ticks\":\"\"},\"colorscale\":[[0.0,\"#0d0887\"],[0.1111111111111111,\"#46039f\"],[0.2222222222222222,\"#7201a8\"],[0.3333333333333333,\"#9c179e\"],[0.4444444444444444,\"#bd3786\"],[0.5555555555555556,\"#d8576b\"],[0.6666666666666666,\"#ed7953\"],[0.7777777777777778,\"#fb9f3a\"],[0.8888888888888888,\"#fdca26\"],[1.0,\"#f0f921\"]],\"type\":\"surface\"}],\"table\":[{\"cells\":{\"fill\":{\"color\":\"#EBF0F8\"},\"line\":{\"color\":\"white\"}},\"header\":{\"fill\":{\"color\":\"#C8D4E3\"},\"line\":{\"color\":\"white\"}},\"type\":\"table\"}]},\"layout\":{\"annotationdefaults\":{\"arrowcolor\":\"#2a3f5f\",\"arrowhead\":0,\"arrowwidth\":1},\"autotypenumbers\":\"strict\",\"coloraxis\":{\"colorbar\":{\"outlinewidth\":0,\"ticks\":\"\"}},\"colorscale\":{\"diverging\":[[0,\"#8e0152\"],[0.1,\"#c51b7d\"],[0.2,\"#de77ae\"],[0.3,\"#f1b6da\"],[0.4,\"#fde0ef\"],[0.5,\"#f7f7f7\"],[0.6,\"#e6f5d0\"],[0.7,\"#b8e186\"],[0.8,\"#7fbc41\"],[0.9,\"#4d9221\"],[1,\"#276419\"]],\"sequential\":[[0.0,\"#0d0887\"],[0.1111111111111111,\"#46039f\"],[0.2222222222222222,\"#7201a8\"],[0.3333333333333333,\"#9c179e\"],[0.4444444444444444,\"#bd3786\"],[0.5555555555555556,\"#d8576b\"],[0.6666666666666666,\"#ed7953\"],[0.7777777777777778,\"#fb9f3a\"],[0.8888888888888888,\"#fdca26\"],[1.0,\"#f0f921\"]],\"sequentialminus\":[[0.0,\"#0d0887\"],[0.1111111111111111,\"#46039f\"],[0.2222222222222222,\"#7201a8\"],[0.3333333333333333,\"#9c179e\"],[0.4444444444444444,\"#bd3786\"],[0.5555555555555556,\"#d8576b\"],[0.6666666666666666,\"#ed7953\"],[0.7777777777777778,\"#fb9f3a\"],[0.8888888888888888,\"#fdca26\"],[1.0,\"#f0f921\"]]},\"colorway\":[\"#636efa\",\"#EF553B\",\"#00cc96\",\"#ab63fa\",\"#FFA15A\",\"#19d3f3\",\"#FF6692\",\"#B6E880\",\"#FF97FF\",\"#FECB52\"],\"font\":{\"color\":\"#2a3f5f\"},\"geo\":{\"bgcolor\":\"white\",\"lakecolor\":\"white\",\"landcolor\":\"#E5ECF6\",\"showlakes\":true,\"showland\":true,\"subunitcolor\":\"white\"},\"hoverlabel\":{\"align\":\"left\"},\"hovermode\":\"closest\",\"mapbox\":{\"style\":\"light\"},\"paper_bgcolor\":\"white\",\"plot_bgcolor\":\"#E5ECF6\",\"polar\":{\"angularaxis\":{\"gridcolor\":\"white\",\"linecolor\":\"white\",\"ticks\":\"\"},\"bgcolor\":\"#E5ECF6\",\"radialaxis\":{\"gridcolor\":\"white\",\"linecolor\":\"white\",\"ticks\":\"\"}},\"scene\":{\"xaxis\":{\"backgroundcolor\":\"#E5ECF6\",\"gridcolor\":\"white\",\"gridwidth\":2,\"linecolor\":\"white\",\"showbackground\":true,\"ticks\":\"\",\"zerolinecolor\":\"white\"},\"yaxis\":{\"backgroundcolor\":\"#E5ECF6\",\"gridcolor\":\"white\",\"gridwidth\":2,\"linecolor\":\"white\",\"showbackground\":true,\"ticks\":\"\",\"zerolinecolor\":\"white\"},\"zaxis\":{\"backgroundcolor\":\"#E5ECF6\",\"gridcolor\":\"white\",\"gridwidth\":2,\"linecolor\":\"white\",\"showbackground\":true,\"ticks\":\"\",\"zerolinecolor\":\"white\"}},\"shapedefaults\":{\"line\":{\"color\":\"#2a3f5f\"}},\"ternary\":{\"aaxis\":{\"gridcolor\":\"white\",\"linecolor\":\"white\",\"ticks\":\"\"},\"baxis\":{\"gridcolor\":\"white\",\"linecolor\":\"white\",\"ticks\":\"\"},\"bgcolor\":\"#E5ECF6\",\"caxis\":{\"gridcolor\":\"white\",\"linecolor\":\"white\",\"ticks\":\"\"}},\"title\":{\"x\":0.05},\"xaxis\":{\"automargin\":true,\"gridcolor\":\"white\",\"linecolor\":\"white\",\"ticks\":\"\",\"title\":{\"standoff\":15},\"zerolinecolor\":\"white\",\"zerolinewidth\":2},\"yaxis\":{\"automargin\":true,\"gridcolor\":\"white\",\"linecolor\":\"white\",\"ticks\":\"\",\"title\":{\"standoff\":15},\"zerolinecolor\":\"white\",\"zerolinewidth\":2}}},\"title\":{\"text\":\"PCA mse\"},\"xaxis\":{\"anchor\":\"y\",\"domain\":[0.0,1.0],\"title\":{\"text\":\"PCA\"}},\"yaxis\":{\"anchor\":\"x\",\"domain\":[0.0,1.0],\"title\":{\"text\":\"mse\"}}},                        {\"responsive\": true}                    ).then(function(){\n",
       "                            \n",
       "var gd = document.getElementById('5da22d55-fc23-4589-8740-62e92e5c80a2');\n",
       "var x = new MutationObserver(function (mutations, observer) {{\n",
       "        var display = window.getComputedStyle(gd).display;\n",
       "        if (!display || display === 'none') {{\n",
       "            console.log([gd, 'removed!']);\n",
       "            Plotly.purge(gd);\n",
       "            observer.disconnect();\n",
       "        }}\n",
       "}});\n",
       "\n",
       "// Listen for the removal of the full notebook cells\n",
       "var notebookContainer = gd.closest('#notebook-container');\n",
       "if (notebookContainer) {{\n",
       "    x.observe(notebookContainer, {childList: true});\n",
       "}}\n",
       "\n",
       "// Listen for the clearing of the current output cell\n",
       "var outputEl = gd.closest('.output');\n",
       "if (outputEl) {{\n",
       "    x.observe(outputEl, {childList: true});\n",
       "}}\n",
       "\n",
       "                        })                };                });            </script>        </div>"
      ]
     },
     "metadata": {},
     "output_type": "display_data"
    }
   ],
   "source": [
    "# plotly code\n",
    "fig = px.line(PCA_mse_df, x='PCA', y='mse', markers=True, title = 'PCA mse')\n",
    "fig.show()"
   ]
  },
  {
   "cell_type": "markdown",
   "metadata": {},
   "source": [
    "From our visualization we see that our MSE decreases significantly after by adding in two principal components. Adding any more does lower our MSE very slightly but at the cost of adding dimensionality, defeating the purpose of PCA. However, there may be an argument to use eight principal components since it has one of the lowest mse.\n",
    "Thus, the optimal model includes the usage of two principal components if we want to minimize mse and dimensionality, but we can also experiment with using eight principal components as well."
   ]
  },
  {
   "cell_type": "markdown",
   "metadata": {},
   "source": [
    "Before starting our PCA regression, we first split our dataset into 80% training and 20% testing with a random state of 131 for PSTAT 131 for consistancy."
   ]
  },
  {
   "cell_type": "code",
   "execution_count": 153,
   "metadata": {},
   "outputs": [],
   "source": [
    "# split the dataset into training (80%) and testing (20%) sets\n",
    "X_train,X_test,y_train,y_test = train_test_split(X,y,test_size=0.2,random_state=131) "
   ]
  },
  {
   "cell_type": "markdown",
   "metadata": {},
   "source": [
    "Then, we are going to reduce the dimensionality of our X training and testing set to only include the first 2 principal components."
   ]
  },
  {
   "cell_type": "code",
   "execution_count": 154,
   "metadata": {},
   "outputs": [],
   "source": [
    "# use first 2 PC\n",
    "X_red_train = pca.fit_transform(scale(X_train))\n",
    "X_red_test = pca.transform(scale(X_test))[:,:3]"
   ]
  },
  {
   "cell_type": "markdown",
   "metadata": {},
   "source": [
    "Next we are defining a linear regression model and fit our PCA dataframe."
   ]
  },
  {
   "cell_type": "code",
   "execution_count": 155,
   "metadata": {},
   "outputs": [
    {
     "data": {
      "text/plain": [
       "LinearRegression(copy_X=True, fit_intercept=True, n_jobs=None, normalize=False)"
      ]
     },
     "execution_count": 155,
     "metadata": {},
     "output_type": "execute_result"
    }
   ],
   "source": [
    "# train PCR model on training data \n",
    "pca_lr = LinearRegression()\n",
    "pca_lr.fit(X_red_train[:,:3], y_train)"
   ]
  },
  {
   "cell_type": "markdown",
   "metadata": {},
   "source": [
    "Now that our model is fit, we are going to use it to predict popularity via the training and testing set to produce a root mean squared error for each. We are evaulating for both training and testing to see for any signs of overfitting."
   ]
  },
  {
   "cell_type": "code",
   "execution_count": 158,
   "metadata": {},
   "outputs": [
    {
     "name": "stdout",
     "output_type": "stream",
     "text": [
      "Our train rmse: 15.375613987323485  Our test rmse: 15.375743540897739\n"
     ]
    }
   ],
   "source": [
    "# calculate RMSE for training\n",
    "pred_train = pca_lr.predict(pca.transform(scale(X_train))[:,:3])\n",
    "train_mse = np.sqrt(mean_squared_error(y_train, pred_train))\n",
    "\n",
    "# calculate RMSE for testing\n",
    "pred_test = pca_lr.predict(X_red_test)\n",
    "test_mse = np.sqrt(mean_squared_error(y_test, pred_test))\n",
    "\n",
    "# RMSE printed\n",
    "print('Our train rmse:', train_mse, ' Our test rmse:', test_mse)"
   ]
  },
  {
   "cell_type": "markdown",
   "metadata": {},
   "source": [
    "We can see that both our train and test rmse are very close to each other at around ~15.376. This is the average deviation between the predicted value for average popularity in comparison to the true observed values. While PCA regression is good in reducing our dimension, we see that it also resulted in higher error in comparison to our linear regression model. \n",
    "\n",
    "We can use eight prinicpal components to see if it makes a difference."
   ]
  },
  {
   "cell_type": "code",
   "execution_count": 159,
   "metadata": {},
   "outputs": [
    {
     "name": "stdout",
     "output_type": "stream",
     "text": [
      "Our train rmse: 14.87432978436434  Our test rmse: 14.87527821730186\n"
     ]
    }
   ],
   "source": [
    "# split the dataset into training (80%) and testing (20%) sets\n",
    "X_train,X_test,y_train,y_test = train_test_split(X,y,test_size=0.2,random_state=131) \n",
    "\n",
    "# use first 2 PC\n",
    "X_red_train = pca.fit_transform(scale(X_train))\n",
    "X_red_test = pca.transform(scale(X_test))[:,:9]\n",
    "\n",
    "# train PCR model on training data \n",
    "pca_lr = LinearRegression()\n",
    "pca_lr.fit(X_red_train[:,:9], y_train)\n",
    "\n",
    "# calculate RMSE for training\n",
    "pred_train = pca_lr.predict(pca.transform(scale(X_train))[:,:9])\n",
    "train_mse = np.sqrt(mean_squared_error(y_train, pred_train))\n",
    "\n",
    "# calculate RMSE for testing\n",
    "pred_test = pca_lr.predict(X_red_test)\n",
    "test_mse = np.sqrt(mean_squared_error(y_test, pred_test))\n",
    "\n",
    "print('Our train rmse:', train_mse, ' Our test rmse:', test_mse)"
   ]
  },
  {
   "cell_type": "markdown",
   "metadata": {},
   "source": [
    "Our training and testing rmse actually improved to be around ~14.874 for our training set and ~14.875 for our testing set. However, this is still less than our linear model which had around an rmse of ~14.83 for training and ~14.82 for testing. Thus, if we want to preserve interpretability, it may be best to use the multiple linear regression model since it is both more interpretable and has less error. However, one good thing about our PCA regression models is that it can lower dimensionality and that we know our model is not overfit due to the training and testing rmse being almost identical."
   ]
  },
  {
   "cell_type": "markdown",
   "metadata": {
    "cell_id": "b433cf6d-6f1b-4a3c-b04e-fbb0833df98d",
    "deepnote_cell_height": 62,
    "deepnote_cell_type": "text-cell-h3",
    "is_collapsed": false,
    "tags": []
   },
   "source": [
    "### Ian's Trees"
   ]
  },
  {
   "cell_type": "markdown",
   "metadata": {
    "cell_id": "4d30299a-89da-47b7-ac00-42d68ecebfd3",
    "deepnote_cell_height": 70,
    "deepnote_cell_type": "text-cell-h2",
    "is_collapsed": false,
    "tags": []
   },
   "source": [
    "## Conclusion &amp; Discussion"
   ]
  }
 ],
 "metadata": {
  "deepnote": {
   "is_reactive": false
  },
  "deepnote_execution_queue": [],
  "deepnote_notebook_id": "cdfa64bd-fbf5-48a1-9f18-823c054e8085",
  "hide_input": false,
  "kernelspec": {
   "display_name": "Python 3",
   "language": "python",
   "name": "python3"
  },
  "language_info": {
   "codemirror_mode": {
    "name": "ipython",
    "version": 3
   },
   "file_extension": ".py",
   "mimetype": "text/x-python",
   "name": "python",
   "nbconvert_exporter": "python",
   "pygments_lexer": "ipython3",
   "version": "3.8.5"
  },
  "toc": {
   "base_numbering": 1,
   "nav_menu": {},
   "number_sections": true,
   "sideBar": true,
   "skip_h1_title": false,
   "title_cell": "Table of Contents",
   "title_sidebar": "Contents",
   "toc_cell": false,
   "toc_position": {},
   "toc_section_display": true,
   "toc_window_display": false
  }
 },
 "nbformat": 4,
 "nbformat_minor": 4
}
