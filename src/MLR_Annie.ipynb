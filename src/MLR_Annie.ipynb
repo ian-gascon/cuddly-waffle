{
 "cells": [
  {
   "cell_type": "code",
   "execution_count": 1,
   "metadata": {},
   "outputs": [],
   "source": [
    "# importing related packages\n",
    "\n",
    "import pandas as pd\n",
    "import numpy as np\n",
    "\n",
    "import seaborn as sns\n",
    "import altair as alt\n",
    "import matplotlib.pyplot as plt\n",
    "import plotly.express as px\n",
    "import plotly.graph_objects as go\n",
    "\n",
    "from sklearn import linear_model\n",
    "# importing train_test_split from sklearn\n",
    "from sklearn.model_selection import train_test_split\n",
    "from sklearn.metrics import r2_score\n",
    "from sklearn.metrics import mean_squared_error\n",
    "from sklearn.metrics import accuracy_score\n",
    "\n",
    "from sklearn.feature_selection import SelectKBest\n",
    "from sklearn.feature_selection import chi2, f_regression"
   ]
  },
  {
   "cell_type": "code",
   "execution_count": 2,
   "metadata": {},
   "outputs": [],
   "source": [
    "songs = pd.read_csv('../data/SpotifyCleaned.csv')"
   ]
  },
  {
   "cell_type": "markdown",
   "metadata": {},
   "source": [
    "# Exploratory Analysis"
   ]
  },
  {
   "cell_type": "code",
   "execution_count": 3,
   "metadata": {},
   "outputs": [
    {
     "data": {
      "text/html": [
       "<div>\n",
       "<style scoped>\n",
       "    .dataframe tbody tr th:only-of-type {\n",
       "        vertical-align: middle;\n",
       "    }\n",
       "\n",
       "    .dataframe tbody tr th {\n",
       "        vertical-align: top;\n",
       "    }\n",
       "\n",
       "    .dataframe thead th {\n",
       "        text-align: right;\n",
       "    }\n",
       "</style>\n",
       "<table border=\"1\" class=\"dataframe\">\n",
       "  <thead>\n",
       "    <tr style=\"text-align: right;\">\n",
       "      <th></th>\n",
       "      <th>genre</th>\n",
       "      <th>artist_name</th>\n",
       "      <th>track_name</th>\n",
       "      <th>track_id</th>\n",
       "      <th>popularity</th>\n",
       "      <th>acousticness</th>\n",
       "      <th>danceability</th>\n",
       "      <th>duration_ms</th>\n",
       "      <th>energy</th>\n",
       "      <th>instrumentalness</th>\n",
       "      <th>key</th>\n",
       "      <th>liveness</th>\n",
       "      <th>loudness</th>\n",
       "      <th>mode</th>\n",
       "      <th>speechiness</th>\n",
       "      <th>tempo</th>\n",
       "      <th>time_signature</th>\n",
       "      <th>valence</th>\n",
       "    </tr>\n",
       "  </thead>\n",
       "  <tbody>\n",
       "    <tr>\n",
       "      <th>0</th>\n",
       "      <td>Opera</td>\n",
       "      <td>Giuseppe Verdi</td>\n",
       "      <td>Stiffelio, Act III: Ei fugge! … Lina, pensai c...</td>\n",
       "      <td>7EsKYeHtTc4H4xWiTqSVZA</td>\n",
       "      <td>21</td>\n",
       "      <td>0.986</td>\n",
       "      <td>0.313</td>\n",
       "      <td>490867</td>\n",
       "      <td>0.23100</td>\n",
       "      <td>0.000431</td>\n",
       "      <td>C#</td>\n",
       "      <td>0.0964</td>\n",
       "      <td>-14.287</td>\n",
       "      <td>Major</td>\n",
       "      <td>0.0547</td>\n",
       "      <td>86.001</td>\n",
       "      <td>4/4</td>\n",
       "      <td>0.0886</td>\n",
       "    </tr>\n",
       "    <tr>\n",
       "      <th>1</th>\n",
       "      <td>Opera</td>\n",
       "      <td>Giacomo Puccini</td>\n",
       "      <td>Madama Butterfly / Act 1: ... E soffitto e pareti</td>\n",
       "      <td>7MfmRBvqaW0I6UTxXnad8p</td>\n",
       "      <td>18</td>\n",
       "      <td>0.972</td>\n",
       "      <td>0.360</td>\n",
       "      <td>176797</td>\n",
       "      <td>0.20100</td>\n",
       "      <td>0.028000</td>\n",
       "      <td>D#</td>\n",
       "      <td>0.1330</td>\n",
       "      <td>-19.794</td>\n",
       "      <td>Major</td>\n",
       "      <td>0.0581</td>\n",
       "      <td>131.798</td>\n",
       "      <td>4/4</td>\n",
       "      <td>0.3690</td>\n",
       "    </tr>\n",
       "    <tr>\n",
       "      <th>2</th>\n",
       "      <td>Opera</td>\n",
       "      <td>Giacomo Puccini</td>\n",
       "      <td>Turandot / Act 2: Gloria, gloria, o vincitore</td>\n",
       "      <td>7pBo1GDhIysyUMFXiDVoON</td>\n",
       "      <td>10</td>\n",
       "      <td>0.935</td>\n",
       "      <td>0.168</td>\n",
       "      <td>266184</td>\n",
       "      <td>0.47000</td>\n",
       "      <td>0.020400</td>\n",
       "      <td>C</td>\n",
       "      <td>0.3630</td>\n",
       "      <td>-8.415</td>\n",
       "      <td>Major</td>\n",
       "      <td>0.0383</td>\n",
       "      <td>75.126</td>\n",
       "      <td>3/4</td>\n",
       "      <td>0.0696</td>\n",
       "    </tr>\n",
       "    <tr>\n",
       "      <th>3</th>\n",
       "      <td>Opera</td>\n",
       "      <td>Giuseppe Verdi</td>\n",
       "      <td>Rigoletto, Act IV: Venti scudi hai tu detto?</td>\n",
       "      <td>02mvYZX5aKNzdqEo6jF20m</td>\n",
       "      <td>17</td>\n",
       "      <td>0.961</td>\n",
       "      <td>0.250</td>\n",
       "      <td>288573</td>\n",
       "      <td>0.00605</td>\n",
       "      <td>0.000000</td>\n",
       "      <td>D</td>\n",
       "      <td>0.1200</td>\n",
       "      <td>-33.440</td>\n",
       "      <td>Major</td>\n",
       "      <td>0.0480</td>\n",
       "      <td>76.493</td>\n",
       "      <td>4/4</td>\n",
       "      <td>0.0380</td>\n",
       "    </tr>\n",
       "    <tr>\n",
       "      <th>4</th>\n",
       "      <td>Opera</td>\n",
       "      <td>Giuseppe Verdi</td>\n",
       "      <td>Don Carlo / Act 4: \"Ella giammai m'amò!\"</td>\n",
       "      <td>03TW0jwGMGhUabAjOpB1T9</td>\n",
       "      <td>19</td>\n",
       "      <td>0.985</td>\n",
       "      <td>0.142</td>\n",
       "      <td>629760</td>\n",
       "      <td>0.05800</td>\n",
       "      <td>0.146000</td>\n",
       "      <td>D</td>\n",
       "      <td>0.0969</td>\n",
       "      <td>-23.625</td>\n",
       "      <td>Major</td>\n",
       "      <td>0.0493</td>\n",
       "      <td>172.935</td>\n",
       "      <td>4/4</td>\n",
       "      <td>0.0382</td>\n",
       "    </tr>\n",
       "  </tbody>\n",
       "</table>\n",
       "</div>"
      ],
      "text/plain": [
       "   genre      artist_name                                         track_name  \\\n",
       "0  Opera   Giuseppe Verdi  Stiffelio, Act III: Ei fugge! … Lina, pensai c...   \n",
       "1  Opera  Giacomo Puccini  Madama Butterfly / Act 1: ... E soffitto e pareti   \n",
       "2  Opera  Giacomo Puccini      Turandot / Act 2: Gloria, gloria, o vincitore   \n",
       "3  Opera   Giuseppe Verdi       Rigoletto, Act IV: Venti scudi hai tu detto?   \n",
       "4  Opera   Giuseppe Verdi           Don Carlo / Act 4: \"Ella giammai m'amò!\"   \n",
       "\n",
       "                 track_id  popularity  acousticness  danceability  \\\n",
       "0  7EsKYeHtTc4H4xWiTqSVZA          21         0.986         0.313   \n",
       "1  7MfmRBvqaW0I6UTxXnad8p          18         0.972         0.360   \n",
       "2  7pBo1GDhIysyUMFXiDVoON          10         0.935         0.168   \n",
       "3  02mvYZX5aKNzdqEo6jF20m          17         0.961         0.250   \n",
       "4  03TW0jwGMGhUabAjOpB1T9          19         0.985         0.142   \n",
       "\n",
       "   duration_ms   energy  instrumentalness key  liveness  loudness   mode  \\\n",
       "0       490867  0.23100          0.000431  C#    0.0964   -14.287  Major   \n",
       "1       176797  0.20100          0.028000  D#    0.1330   -19.794  Major   \n",
       "2       266184  0.47000          0.020400   C    0.3630    -8.415  Major   \n",
       "3       288573  0.00605          0.000000   D    0.1200   -33.440  Major   \n",
       "4       629760  0.05800          0.146000   D    0.0969   -23.625  Major   \n",
       "\n",
       "   speechiness    tempo time_signature  valence  \n",
       "0       0.0547   86.001            4/4   0.0886  \n",
       "1       0.0581  131.798            4/4   0.3690  \n",
       "2       0.0383   75.126            3/4   0.0696  \n",
       "3       0.0480   76.493            4/4   0.0380  \n",
       "4       0.0493  172.935            4/4   0.0382  "
      ]
     },
     "execution_count": 3,
     "metadata": {},
     "output_type": "execute_result"
    }
   ],
   "source": [
    "songs.head()"
   ]
  },
  {
   "cell_type": "code",
   "execution_count": 4,
   "metadata": {},
   "outputs": [
    {
     "data": {
      "text/plain": [
       "array(['Opera', 'A Capella', 'Alternative', 'Blues', 'Dance', 'Pop',\n",
       "       'Electronic', 'R&B', 'Folk', 'Rap', 'Classical', 'Reggae',\n",
       "       'Hip-Hop', 'Comedy', 'Country', 'Reggaeton', 'Ska', 'Indie',\n",
       "       'Rock', 'Soul', 'Soundtrack', 'Jazz', 'World', 'Movie'],\n",
       "      dtype=object)"
      ]
     },
     "execution_count": 4,
     "metadata": {},
     "output_type": "execute_result"
    }
   ],
   "source": [
    "songs['genre'].unique()"
   ]
  },
  {
   "cell_type": "code",
   "execution_count": 5,
   "metadata": {},
   "outputs": [
    {
     "data": {
      "text/plain": [
       "153685"
      ]
     },
     "execution_count": 5,
     "metadata": {},
     "output_type": "execute_result"
    }
   ],
   "source": [
    "len(songs) # there are 153685 songs (observation) we are working with"
   ]
  },
  {
   "cell_type": "code",
   "execution_count": 6,
   "metadata": {},
   "outputs": [
    {
     "data": {
      "text/plain": [
       "popularity\n",
       "0      3186\n",
       "1       704\n",
       "2       598\n",
       "3       610\n",
       "4       649\n",
       "       ... \n",
       "96        4\n",
       "97        6\n",
       "98        1\n",
       "99        2\n",
       "100       1\n",
       "Length: 101, dtype: int64"
      ]
     },
     "execution_count": 6,
     "metadata": {},
     "output_type": "execute_result"
    }
   ],
   "source": [
    "songs.groupby(by = 'popularity').size()"
   ]
  },
  {
   "cell_type": "markdown",
   "metadata": {},
   "source": [
    "# Data Preprocessing"
   ]
  },
  {
   "cell_type": "code",
   "execution_count": 7,
   "metadata": {},
   "outputs": [
    {
     "data": {
      "text/plain": [
       "Index(['genre', 'artist_name', 'track_name', 'track_id', 'popularity',\n",
       "       'acousticness', 'danceability', 'duration_ms', 'energy',\n",
       "       'instrumentalness', 'key', 'liveness', 'loudness', 'mode',\n",
       "       'speechiness', 'tempo', 'time_signature', 'valence'],\n",
       "      dtype='object')"
      ]
     },
     "execution_count": 7,
     "metadata": {},
     "output_type": "execute_result"
    }
   ],
   "source": [
    "songs.columns"
   ]
  },
  {
   "cell_type": "code",
   "execution_count": 8,
   "metadata": {},
   "outputs": [
    {
     "data": {
      "text/plain": [
       "{int64: ['popularity', 'duration_ms'], float64: ['acousticness', 'danceability', 'energy', 'instrumentalness', 'liveness', 'loudness', 'speechiness', 'tempo', 'valence'], object: ['genre', 'artist_name', 'track_name', 'track_id', 'key', 'mode', 'time_signature']}"
      ]
     },
     "execution_count": 8,
     "metadata": {},
     "output_type": "execute_result"
    }
   ],
   "source": [
    "songs.columns.to_series().groupby(songs.dtypes).groups"
   ]
  },
  {
   "cell_type": "code",
   "execution_count": 9,
   "metadata": {},
   "outputs": [
    {
     "name": "stdout",
     "output_type": "stream",
     "text": [
      "   genre  artist_name  key  mode  time_signature\n",
      "0     13         4398    4     0               3\n",
      "1     13         4343    6     0               3\n",
      "2     13         4343    3     0               2\n",
      "3     13         4398    5     0               3\n",
      "4     13         4398    5     0               3\n",
      "   genre      artist_name key   mode time_signature\n",
      "0  Opera   Giuseppe Verdi  C#  Major            4/4\n",
      "1  Opera  Giacomo Puccini  D#  Major            4/4\n",
      "2  Opera  Giacomo Puccini   C  Major            3/4\n",
      "3  Opera   Giuseppe Verdi   D  Major            4/4\n",
      "4  Opera   Giuseppe Verdi   D  Major            4/4\n"
     ]
    }
   ],
   "source": [
    "## Map key and artist name to a categorical value like dictionary\n",
    "\n",
    "## Extract to-be-hashed values for reference later\n",
    "\n",
    "unhashed = pd.DataFrame({'genre': songs['genre'],\n",
    "                         'artist_name': songs['artist_name'],\n",
    "                         'key': songs['key'],\n",
    "                         'mode': songs['mode'],\n",
    "                         'time_signature': songs['time_signature']}) ## Add other categorical values here if need to be hashed\n",
    "\n",
    "## Any Categorical Data Can be converted, just enter it under this section (Automize if you wish)\n",
    "songs['genre'] = songs['genre'].astype('category')\n",
    "songs['artist_name'] = songs['artist_name'].astype('category')\n",
    "songs['key'] = songs['key'].astype('category')\n",
    "songs['mode'] = songs['mode'].astype('category')\n",
    "songs['time_signature'] = songs['time_signature'].astype('category')\n",
    "\n",
    "cat_columns = songs.select_dtypes(['category']).columns\n",
    "\n",
    "songs[cat_columns] = songs[cat_columns].apply(lambda x: x.cat.codes)\n",
    "\n",
    "# print(songs.head()) # Altered DataSet\n",
    "\n",
    "print(songs[cat_columns].head()) # Altered Columns\n",
    "print(unhashed.head()) #Original Columns"
   ]
  },
  {
   "cell_type": "markdown",
   "metadata": {},
   "source": [
    "# Baseline Multiple Linear Regression Models"
   ]
  },
  {
   "cell_type": "markdown",
   "metadata": {},
   "source": [
    "## Predicting Popularity by Song Features Across All Genres"
   ]
  },
  {
   "cell_type": "markdown",
   "metadata": {},
   "source": [
    "### Feature Selection"
   ]
  },
  {
   "cell_type": "code",
   "execution_count": 10,
   "metadata": {},
   "outputs": [],
   "source": [
    "predictors = ['acousticness', 'danceability', 'duration_ms', 'energy',\n",
    "              'instrumentalness', 'key', 'liveness', 'mode',\n",
    "              'speechiness', 'tempo', 'time_signature', 'valence'] #removing loudness"
   ]
  },
  {
   "cell_type": "code",
   "execution_count": 11,
   "metadata": {},
   "outputs": [],
   "source": [
    "x = songs[predictors]\n",
    "\n",
    "y = songs['popularity']"
   ]
  },
  {
   "cell_type": "code",
   "execution_count": 12,
   "metadata": {},
   "outputs": [
    {
     "data": {
      "text/plain": [
       "Index(['acousticness', 'danceability', 'energy', 'speechiness'], dtype='object')"
      ]
     },
     "execution_count": 12,
     "metadata": {},
     "output_type": "execute_result"
    }
   ],
   "source": [
    "from sklearn.feature_selection import SelectKBest, mutual_info_regression\n",
    "#Select top 2 features based on mutual info regression\n",
    "selector = SelectKBest(mutual_info_regression, k =4)\n",
    "selector.fit(x, y)\n",
    "x.columns[selector.get_support()]"
   ]
  },
  {
   "cell_type": "code",
   "execution_count": 13,
   "metadata": {},
   "outputs": [],
   "source": [
    "best_predictors = ['acousticness', 'danceability', 'energy', 'speechiness'] # they don't improve accuracy or anything, but cool to know"
   ]
  },
  {
   "cell_type": "markdown",
   "metadata": {},
   "source": [
    "### Splitting Data for Train/Test"
   ]
  },
  {
   "cell_type": "code",
   "execution_count": 14,
   "metadata": {},
   "outputs": [],
   "source": [
    "# splitting the data\n",
    "x_train, x_test, y_train, y_test = train_test_split(x, y, test_size = 0.2, random_state = 131)"
   ]
  },
  {
   "cell_type": "markdown",
   "metadata": {},
   "source": [
    "### Creating and Testing Multiple Linear Regression Model"
   ]
  },
  {
   "cell_type": "code",
   "execution_count": 15,
   "metadata": {},
   "outputs": [
    {
     "data": {
      "text/plain": [
       "LinearRegression()"
      ]
     },
     "execution_count": 15,
     "metadata": {},
     "output_type": "execute_result"
    }
   ],
   "source": [
    "LR = linear_model.LinearRegression()\n",
    "LR.fit(x_train, y_train)"
   ]
  },
  {
   "cell_type": "code",
   "execution_count": 16,
   "metadata": {},
   "outputs": [
    {
     "data": {
      "text/plain": [
       "array([27.23840303, 25.78888103, 33.17252129, ..., 40.11523565,\n",
       "       45.2273652 , 35.2485157 ])"
      ]
     },
     "execution_count": 16,
     "metadata": {},
     "output_type": "execute_result"
    }
   ],
   "source": [
    "y_prediction_train =  LR.predict(x_train)\n",
    "y_prediction_train"
   ]
  },
  {
   "cell_type": "code",
   "execution_count": 17,
   "metadata": {},
   "outputs": [
    {
     "name": "stdout",
     "output_type": "stream",
     "text": [
      "R2 Score: 0.23362538922121023\n",
      "MSE 224.0802228407045\n",
      "RMSE 14.969309364185927\n"
     ]
    }
   ],
   "source": [
    "score=r2_score(y_train,y_prediction_train)\n",
    "print('R2 Score:',score)\n",
    "print('MSE',mean_squared_error(y_train,y_prediction_train))\n",
    "print('RMSE',np.sqrt(mean_squared_error(y_train,y_prediction_train)))"
   ]
  },
  {
   "cell_type": "code",
   "execution_count": 18,
   "metadata": {},
   "outputs": [
    {
     "data": {
      "text/plain": [
       "array([46.32840539, 26.32452645, 33.31869736, ..., 43.55380545,\n",
       "       48.17738233, 37.49011013])"
      ]
     },
     "execution_count": 18,
     "metadata": {},
     "output_type": "execute_result"
    }
   ],
   "source": [
    "y_prediction =  LR.predict(x_test)\n",
    "y_prediction"
   ]
  },
  {
   "cell_type": "code",
   "execution_count": 19,
   "metadata": {},
   "outputs": [
    {
     "name": "stdout",
     "output_type": "stream",
     "text": [
      "R2 Score: 0.23920140926332245\n",
      "MSE 224.18957506291093\n",
      "RMSE 14.972961466019704\n"
     ]
    }
   ],
   "source": [
    "# predicting the accuracy score\n",
    "score=r2_score(y_test,y_prediction)\n",
    "print('R2 Score:',score)\n",
    "print('MSE',mean_squared_error(y_test,y_prediction))\n",
    "print('RMSE',np.sqrt(mean_squared_error(y_test,y_prediction)))"
   ]
  },
  {
   "cell_type": "markdown",
   "metadata": {},
   "source": [
    "Scores are pretty low..."
   ]
  },
  {
   "cell_type": "markdown",
   "metadata": {},
   "source": [
    "## Predicting Popularity by Song Features in Each Individual Genre"
   ]
  },
  {
   "cell_type": "code",
   "execution_count": 20,
   "metadata": {},
   "outputs": [],
   "source": [
    "def genre_MLR_score(genre, songs, unhashed, predictors):\n",
    "    # params:\n",
    "        # genre: string representing genre as listed in the dataset to analyze\n",
    "        # songs: total song dataset\n",
    "    \n",
    "    genre_indices = unhashed[unhashed['genre'] == genre].index.values.tolist()\n",
    "    genre_songs = songs.iloc[genre_indices]\n",
    "    \n",
    "    x = genre_songs[predictors] \n",
    "    y = genre_songs['popularity']\n",
    "\n",
    "    x_train, x_test, y_train, y_test = train_test_split(x, y, test_size = 0.2, random_state = 131)\n",
    "    \n",
    "    LR = linear_model.LinearRegression()\n",
    "    LR.fit(x_train, y_train)\n",
    "    \n",
    "    y_prediction_train = LR.predict(x_train)\n",
    "    y_prediction =  LR.predict(x_test)\n",
    "    \n",
    "    score_train = r2_score(y_train,y_prediction_train)\n",
    "    \n",
    "    score=r2_score(y_test,y_prediction)\n",
    "    \n",
    "    genre_df = {'Genre': genre, 'Count': len(genre_songs),\n",
    "                'R2_train': score_train, 'MSE_train': mean_squared_error(y_train,y_prediction_train), 'RMSE_train': np.sqrt(mean_squared_error(y_train,y_prediction_train)),\n",
    "                'R2': score, 'MSE': mean_squared_error(y_test,y_prediction), 'RMSE': np.sqrt(mean_squared_error(y_test,y_prediction))}\n",
    "    \n",
    "    return genre_df"
   ]
  },
  {
   "cell_type": "code",
   "execution_count": 21,
   "metadata": {},
   "outputs": [],
   "source": [
    "genres = list(unhashed.genre.unique())\n",
    "genre_scores_df = pd.DataFrame()\n",
    "\n",
    "for genre in genres:\n",
    "    genre_df = genre_MLR_score(genre, songs, unhashed, predictors)\n",
    "    genre_scores_df = genre_scores_df.append(genre_df, ignore_index = True)"
   ]
  },
  {
   "cell_type": "code",
   "execution_count": 22,
   "metadata": {},
   "outputs": [
    {
     "data": {
      "image/png": "[encoded data removed]",
      "text/plain": [
       "<Figure size 432x288 with 1 Axes>"
      ]
     },
     "metadata": {
      "needs_background": "light"
     },
     "output_type": "display_data"
    }
   ],
   "source": [
    "genre_scores_df_R2 = genre_scores_df.sort_values(by = 'R2', ascending = True)\n",
    "ax = genre_scores_df_R2.plot.barh(x='Genre', y='R2', rot=0, title = 'R2 of MLR Models Predicting Popularity of Songs Using Features')"
   ]
  },
  {
   "cell_type": "code",
   "execution_count": 23,
   "metadata": {},
   "outputs": [
    {
     "data": {
      "image/png": "[encoded data removed]",
      "text/plain": [
       "<Figure size 432x288 with 1 Axes>"
      ]
     },
     "metadata": {
      "needs_background": "light"
     },
     "output_type": "display_data"
    }
   ],
   "source": [
    "genre_scores_df_RMSE = genre_scores_df.sort_values(by = 'RMSE', ascending = True)\n",
    "ax = genre_scores_df_RMSE.plot.barh(x='Genre', y='RMSE', rot=0, title = 'RMSE of MLR Models Predicting Popularity of Songs Using Features')"
   ]
  },
  {
   "cell_type": "code",
   "execution_count": 24,
   "metadata": {},
   "outputs": [],
   "source": [
    "# plotly of same thing above; not working on my machine\n",
    "fig = px.bar(genre_scores_df_R2, y=\"Genre\", x='R2', orientation='h', title='R2 of MLR Models Predicting Popularity of Songs Using Features')"
   ]
  }
 ],
 "metadata": {
  "kernelspec": {
   "display_name": "Python 3",
   "language": "python",
   "name": "python3"
  },
  "language_info": {
   "codemirror_mode": {
    "name": "ipython",
    "version": 3
   },
   "file_extension": ".py",
   "mimetype": "text/x-python",
   "name": "python",
   "nbconvert_exporter": "python",
   "pygments_lexer": "ipython3",
   "version": "3.8.5"
  }
 },
 "nbformat": 4,
 "nbformat_minor": 4
}
