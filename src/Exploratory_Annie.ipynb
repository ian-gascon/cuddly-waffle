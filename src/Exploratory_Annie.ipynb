{
 "cells": [
  {
   "cell_type": "code",
   "execution_count": 114,
   "metadata": {},
   "outputs": [],
   "source": [
    "# importing relative packages\n",
    "\n",
    "import pandas as pd\n",
    "import numpy as np\n",
    "\n",
    "import seaborn as sns\n",
    "import matplotlib.pyplot as plt\n",
    "import plotly.express as px\n",
    "import plotly.graph_objects as go\n",
    "\n",
    "from sklearn import linear_model\n",
    "# importing train_test_split from sklearn\n",
    "from sklearn.model_selection import train_test_split\n",
    "from sklearn.metrics import r2_score\n",
    "from sklearn.metrics import mean_squared_error"
   ]
  },
  {
   "cell_type": "code",
   "execution_count": 115,
   "metadata": {},
   "outputs": [],
   "source": [
    "songs = pd.read_csv('../data/SpotifyCleaned.csv')"
   ]
  },
  {
   "cell_type": "code",
   "execution_count": 116,
   "metadata": {},
   "outputs": [
    {
     "data": {
      "text/html": [
       "<div>\n",
       "<style scoped>\n",
       "    .dataframe tbody tr th:only-of-type {\n",
       "        vertical-align: middle;\n",
       "    }\n",
       "\n",
       "    .dataframe tbody tr th {\n",
       "        vertical-align: top;\n",
       "    }\n",
       "\n",
       "    .dataframe thead th {\n",
       "        text-align: right;\n",
       "    }\n",
       "</style>\n",
       "<table border=\"1\" class=\"dataframe\">\n",
       "  <thead>\n",
       "    <tr style=\"text-align: right;\">\n",
       "      <th></th>\n",
       "      <th>genre</th>\n",
       "      <th>artist_name</th>\n",
       "      <th>track_name</th>\n",
       "      <th>track_id</th>\n",
       "      <th>popularity</th>\n",
       "      <th>acousticness</th>\n",
       "      <th>danceability</th>\n",
       "      <th>duration_ms</th>\n",
       "      <th>energy</th>\n",
       "      <th>instrumentalness</th>\n",
       "      <th>key</th>\n",
       "      <th>liveness</th>\n",
       "      <th>loudness</th>\n",
       "      <th>mode</th>\n",
       "      <th>speechiness</th>\n",
       "      <th>tempo</th>\n",
       "      <th>time_signature</th>\n",
       "      <th>valence</th>\n",
       "    </tr>\n",
       "  </thead>\n",
       "  <tbody>\n",
       "    <tr>\n",
       "      <th>0</th>\n",
       "      <td>Opera</td>\n",
       "      <td>Giuseppe Verdi</td>\n",
       "      <td>Stiffelio, Act III: Ei fugge! … Lina, pensai c...</td>\n",
       "      <td>7EsKYeHtTc4H4xWiTqSVZA</td>\n",
       "      <td>21</td>\n",
       "      <td>0.986</td>\n",
       "      <td>0.313</td>\n",
       "      <td>490867</td>\n",
       "      <td>0.23100</td>\n",
       "      <td>0.000431</td>\n",
       "      <td>C#</td>\n",
       "      <td>0.0964</td>\n",
       "      <td>-14.287</td>\n",
       "      <td>Major</td>\n",
       "      <td>0.0547</td>\n",
       "      <td>86.001</td>\n",
       "      <td>4/4</td>\n",
       "      <td>0.0886</td>\n",
       "    </tr>\n",
       "    <tr>\n",
       "      <th>1</th>\n",
       "      <td>Opera</td>\n",
       "      <td>Giacomo Puccini</td>\n",
       "      <td>Madama Butterfly / Act 1: ... E soffitto e pareti</td>\n",
       "      <td>7MfmRBvqaW0I6UTxXnad8p</td>\n",
       "      <td>18</td>\n",
       "      <td>0.972</td>\n",
       "      <td>0.360</td>\n",
       "      <td>176797</td>\n",
       "      <td>0.20100</td>\n",
       "      <td>0.028000</td>\n",
       "      <td>D#</td>\n",
       "      <td>0.1330</td>\n",
       "      <td>-19.794</td>\n",
       "      <td>Major</td>\n",
       "      <td>0.0581</td>\n",
       "      <td>131.798</td>\n",
       "      <td>4/4</td>\n",
       "      <td>0.3690</td>\n",
       "    </tr>\n",
       "    <tr>\n",
       "      <th>2</th>\n",
       "      <td>Opera</td>\n",
       "      <td>Giacomo Puccini</td>\n",
       "      <td>Turandot / Act 2: Gloria, gloria, o vincitore</td>\n",
       "      <td>7pBo1GDhIysyUMFXiDVoON</td>\n",
       "      <td>10</td>\n",
       "      <td>0.935</td>\n",
       "      <td>0.168</td>\n",
       "      <td>266184</td>\n",
       "      <td>0.47000</td>\n",
       "      <td>0.020400</td>\n",
       "      <td>C</td>\n",
       "      <td>0.3630</td>\n",
       "      <td>-8.415</td>\n",
       "      <td>Major</td>\n",
       "      <td>0.0383</td>\n",
       "      <td>75.126</td>\n",
       "      <td>3/4</td>\n",
       "      <td>0.0696</td>\n",
       "    </tr>\n",
       "    <tr>\n",
       "      <th>3</th>\n",
       "      <td>Opera</td>\n",
       "      <td>Giuseppe Verdi</td>\n",
       "      <td>Rigoletto, Act IV: Venti scudi hai tu detto?</td>\n",
       "      <td>02mvYZX5aKNzdqEo6jF20m</td>\n",
       "      <td>17</td>\n",
       "      <td>0.961</td>\n",
       "      <td>0.250</td>\n",
       "      <td>288573</td>\n",
       "      <td>0.00605</td>\n",
       "      <td>0.000000</td>\n",
       "      <td>D</td>\n",
       "      <td>0.1200</td>\n",
       "      <td>-33.440</td>\n",
       "      <td>Major</td>\n",
       "      <td>0.0480</td>\n",
       "      <td>76.493</td>\n",
       "      <td>4/4</td>\n",
       "      <td>0.0380</td>\n",
       "    </tr>\n",
       "    <tr>\n",
       "      <th>4</th>\n",
       "      <td>Opera</td>\n",
       "      <td>Giuseppe Verdi</td>\n",
       "      <td>Don Carlo / Act 4: \"Ella giammai m'amò!\"</td>\n",
       "      <td>03TW0jwGMGhUabAjOpB1T9</td>\n",
       "      <td>19</td>\n",
       "      <td>0.985</td>\n",
       "      <td>0.142</td>\n",
       "      <td>629760</td>\n",
       "      <td>0.05800</td>\n",
       "      <td>0.146000</td>\n",
       "      <td>D</td>\n",
       "      <td>0.0969</td>\n",
       "      <td>-23.625</td>\n",
       "      <td>Major</td>\n",
       "      <td>0.0493</td>\n",
       "      <td>172.935</td>\n",
       "      <td>4/4</td>\n",
       "      <td>0.0382</td>\n",
       "    </tr>\n",
       "  </tbody>\n",
       "</table>\n",
       "</div>"
      ],
      "text/plain": [
       "   genre      artist_name                                         track_name  \\\n",
       "0  Opera   Giuseppe Verdi  Stiffelio, Act III: Ei fugge! … Lina, pensai c...   \n",
       "1  Opera  Giacomo Puccini  Madama Butterfly / Act 1: ... E soffitto e pareti   \n",
       "2  Opera  Giacomo Puccini      Turandot / Act 2: Gloria, gloria, o vincitore   \n",
       "3  Opera   Giuseppe Verdi       Rigoletto, Act IV: Venti scudi hai tu detto?   \n",
       "4  Opera   Giuseppe Verdi           Don Carlo / Act 4: \"Ella giammai m'amò!\"   \n",
       "\n",
       "                 track_id  popularity  acousticness  danceability  \\\n",
       "0  7EsKYeHtTc4H4xWiTqSVZA          21         0.986         0.313   \n",
       "1  7MfmRBvqaW0I6UTxXnad8p          18         0.972         0.360   \n",
       "2  7pBo1GDhIysyUMFXiDVoON          10         0.935         0.168   \n",
       "3  02mvYZX5aKNzdqEo6jF20m          17         0.961         0.250   \n",
       "4  03TW0jwGMGhUabAjOpB1T9          19         0.985         0.142   \n",
       "\n",
       "   duration_ms   energy  instrumentalness key  liveness  loudness   mode  \\\n",
       "0       490867  0.23100          0.000431  C#    0.0964   -14.287  Major   \n",
       "1       176797  0.20100          0.028000  D#    0.1330   -19.794  Major   \n",
       "2       266184  0.47000          0.020400   C    0.3630    -8.415  Major   \n",
       "3       288573  0.00605          0.000000   D    0.1200   -33.440  Major   \n",
       "4       629760  0.05800          0.146000   D    0.0969   -23.625  Major   \n",
       "\n",
       "   speechiness    tempo time_signature  valence  \n",
       "0       0.0547   86.001            4/4   0.0886  \n",
       "1       0.0581  131.798            4/4   0.3690  \n",
       "2       0.0383   75.126            3/4   0.0696  \n",
       "3       0.0480   76.493            4/4   0.0380  \n",
       "4       0.0493  172.935            4/4   0.0382  "
      ]
     },
     "execution_count": 116,
     "metadata": {},
     "output_type": "execute_result"
    }
   ],
   "source": [
    "songs.head()"
   ]
  },
  {
   "cell_type": "code",
   "execution_count": 117,
   "metadata": {},
   "outputs": [
    {
     "data": {
      "text/plain": [
       "<seaborn.axisgrid.FacetGrid at 0x25a81d2bac0>"
      ]
     },
     "execution_count": 117,
     "metadata": {},
     "output_type": "execute_result"
    },
    {
     "data": {
      "image/png": "[encoded data removed]",
      "text/plain": [
       "<Figure size 360x360 with 1 Axes>"
      ]
     },
     "metadata": {
      "needs_background": "light"
     },
     "output_type": "display_data"
    }
   ],
   "source": [
    "sns.displot(data=songs, x=\"popularity\")"
   ]
  },
  {
   "cell_type": "code",
   "execution_count": 118,
   "metadata": {},
   "outputs": [
    {
     "data": {
      "text/plain": [
       "array(['Opera', 'A Capella', 'Alternative', 'Blues', 'Dance', 'Pop',\n",
       "       'Electronic', 'R&B', 'Folk', 'Rap', 'Classical', 'Reggae',\n",
       "       'Hip-Hop', 'Comedy', 'Country', 'Reggaeton', 'Ska', 'Indie',\n",
       "       'Rock', 'Soul', 'Soundtrack', 'Jazz', 'World', 'Movie'],\n",
       "      dtype=object)"
      ]
     },
     "execution_count": 118,
     "metadata": {},
     "output_type": "execute_result"
    }
   ],
   "source": [
    "songs['genre'].unique() # drop a capella, soundtrack, movie"
   ]
  },
  {
   "cell_type": "code",
   "execution_count": 119,
   "metadata": {},
   "outputs": [
    {
     "data": {
      "text/plain": [
       "153685"
      ]
     },
     "execution_count": 119,
     "metadata": {},
     "output_type": "execute_result"
    }
   ],
   "source": [
    "len(songs) # there are 153685 songs (observation) we are working with"
   ]
  },
  {
   "cell_type": "code",
   "execution_count": 120,
   "metadata": {},
   "outputs": [
    {
     "data": {
      "text/plain": [
       "Index(['genre', 'artist_name', 'track_name', 'track_id', 'popularity',\n",
       "       'acousticness', 'danceability', 'duration_ms', 'energy',\n",
       "       'instrumentalness', 'key', 'liveness', 'loudness', 'mode',\n",
       "       'speechiness', 'tempo', 'time_signature', 'valence'],\n",
       "      dtype='object')"
      ]
     },
     "execution_count": 120,
     "metadata": {},
     "output_type": "execute_result"
    }
   ],
   "source": [
    "songs.columns"
   ]
  },
  {
   "cell_type": "code",
   "execution_count": 121,
   "metadata": {},
   "outputs": [
    {
     "data": {
      "text/plain": [
       "{int64: ['popularity', 'duration_ms'], float64: ['acousticness', 'danceability', 'energy', 'instrumentalness', 'liveness', 'loudness', 'speechiness', 'tempo', 'valence'], object: ['genre', 'artist_name', 'track_name', 'track_id', 'key', 'mode', 'time_signature']}"
      ]
     },
     "execution_count": 121,
     "metadata": {},
     "output_type": "execute_result"
    }
   ],
   "source": [
    "songs.columns.to_series().groupby(songs.dtypes).groups"
   ]
  },
  {
   "cell_type": "code",
   "execution_count": 122,
   "metadata": {},
   "outputs": [],
   "source": [
    "songs['genre'] = songs['genre'].astype('category')"
   ]
  },
  {
   "cell_type": "markdown",
   "metadata": {},
   "source": [
    "## Modeling over entire dataset"
   ]
  },
  {
   "cell_type": "markdown",
   "metadata": {},
   "source": [
    "### Splitting Data for Train/Test"
   ]
  },
  {
   "cell_type": "code",
   "execution_count": 123,
   "metadata": {},
   "outputs": [],
   "source": [
    "x = songs[['acousticness', 'danceability', 'duration_ms', 'energy',\n",
    "       'instrumentalness', 'liveness', 'loudness',\n",
    "       'speechiness', 'tempo', 'valence']] # leaving out 'artist_name', 'track_name', 'track_id', 'popularity'\n",
    "\n",
    "# temporarily leaving out categorical values 'genre', 'key', 'mode', 'time_signature'\n",
    "\n",
    "y = songs['popularity']"
   ]
  },
  {
   "cell_type": "code",
   "execution_count": 124,
   "metadata": {},
   "outputs": [],
   "source": [
    "# splitting the data\n",
    "x_train, x_test, y_train, y_test = train_test_split(x, y, test_size = 0.2, random_state = 42)"
   ]
  },
  {
   "cell_type": "markdown",
   "metadata": {},
   "source": [
    "### Creating and Testing Multiple Linear Regression Model"
   ]
  },
  {
   "cell_type": "code",
   "execution_count": 125,
   "metadata": {},
   "outputs": [
    {
     "data": {
      "text/plain": [
       "LinearRegression()"
      ]
     },
     "execution_count": 125,
     "metadata": {},
     "output_type": "execute_result"
    }
   ],
   "source": [
    "LR = linear_model.LinearRegression()\n",
    "LR.fit(x_train, y_train)"
   ]
  },
  {
   "cell_type": "code",
   "execution_count": 126,
   "metadata": {},
   "outputs": [
    {
     "data": {
      "text/plain": [
       "array([40.53504923, 41.9414247 , 23.0253302 , ..., 43.21217941,\n",
       "       25.19670171, 42.81605381])"
      ]
     },
     "execution_count": 126,
     "metadata": {},
     "output_type": "execute_result"
    }
   ],
   "source": [
    "y_prediction =  LR.predict(x_test)\n",
    "y_prediction"
   ]
  },
  {
   "cell_type": "code",
   "execution_count": 127,
   "metadata": {},
   "outputs": [
    {
     "name": "stdout",
     "output_type": "stream",
     "text": [
      "R2 Score: 0.23938711809418212\n",
      "MSE 218.8911713803401\n",
      "RMSE 14.794971151723821\n"
     ]
    }
   ],
   "source": [
    "# predicting the accuracy score\n",
    "score=r2_score(y_test,y_prediction)\n",
    "print('R2 Score:',score)\n",
    "print('MSE',mean_squared_error(y_test,y_prediction))\n",
    "print('RMSE',np.sqrt(mean_squared_error(y_test,y_prediction)))"
   ]
  },
  {
   "cell_type": "markdown",
   "metadata": {},
   "source": [
    "Scores are pretty low..."
   ]
  },
  {
   "cell_type": "markdown",
   "metadata": {},
   "source": [
    "## Predicting Popularity by Attriutes in Just 'Pop' Genre"
   ]
  },
  {
   "cell_type": "code",
   "execution_count": 128,
   "metadata": {},
   "outputs": [
    {
     "data": {
      "text/plain": [
       "6021"
      ]
     },
     "execution_count": 128,
     "metadata": {},
     "output_type": "execute_result"
    }
   ],
   "source": [
    "len(songs[songs['genre'] == 'Pop'])"
   ]
  },
  {
   "cell_type": "code",
   "execution_count": 129,
   "metadata": {},
   "outputs": [],
   "source": [
    "pop_songs = songs[songs['genre'] == 'Pop']"
   ]
  },
  {
   "cell_type": "markdown",
   "metadata": {},
   "source": [
    "### Splitting Data for Train/Test"
   ]
  },
  {
   "cell_type": "code",
   "execution_count": 130,
   "metadata": {},
   "outputs": [],
   "source": [
    "x = pop_songs[['acousticness', 'danceability', 'duration_ms', 'energy',\n",
    "       'instrumentalness', 'liveness', 'loudness', 'speechiness', 'tempo', 'valence']] # leaving out 'artist_name', 'track_name', 'track_id', 'popularity'\n",
    "\n",
    "# temporarily leaving out categorical values 'genre', 'key', 'mode', 'time_signature'\n",
    "\n",
    "y = pop_songs['popularity']"
   ]
  },
  {
   "cell_type": "code",
   "execution_count": 131,
   "metadata": {},
   "outputs": [],
   "source": [
    "# splitting the data\n",
    "x_train, x_test, y_train, y_test = train_test_split(x, y, test_size = 0.2, random_state = 42)"
   ]
  },
  {
   "cell_type": "markdown",
   "metadata": {},
   "source": [
    "### Creating and Testing Multiple Linear Regression Model"
   ]
  },
  {
   "cell_type": "code",
   "execution_count": 132,
   "metadata": {},
   "outputs": [
    {
     "data": {
      "text/plain": [
       "LinearRegression()"
      ]
     },
     "execution_count": 132,
     "metadata": {},
     "output_type": "execute_result"
    }
   ],
   "source": [
    "LR = linear_model.LinearRegression()\n",
    "LR.fit(x_train, y_train)"
   ]
  },
  {
   "cell_type": "code",
   "execution_count": 133,
   "metadata": {},
   "outputs": [
    {
     "data": {
      "text/plain": [
       "array([67.39772413, 65.59408173, 65.84097831, ..., 70.34368614,\n",
       "       67.84707276, 67.75593861])"
      ]
     },
     "execution_count": 133,
     "metadata": {},
     "output_type": "execute_result"
    }
   ],
   "source": [
    "y_prediction =  LR.predict(x_test)\n",
    "y_prediction"
   ]
  },
  {
   "cell_type": "code",
   "execution_count": 134,
   "metadata": {},
   "outputs": [
    {
     "name": "stdout",
     "output_type": "stream",
     "text": [
      "R2 Score: 0.031692645474003744\n",
      "MSE 56.366788092380595\n",
      "RMSE 7.507781835694255\n"
     ]
    }
   ],
   "source": [
    "# predicting the accuracy score\n",
    "score=r2_score(y_test,y_prediction)\n",
    "print('R2 Score:',score)\n",
    "print('MSE',mean_squared_error(y_test,y_prediction))\n",
    "print('RMSE',np.sqrt(mean_squared_error(y_test,y_prediction)))"
   ]
  }
 ],
 "metadata": {
  "kernelspec": {
   "display_name": "Python 3",
   "language": "python",
   "name": "python3"
  },
  "language_info": {
   "codemirror_mode": {
    "name": "ipython",
    "version": 3
   },
   "file_extension": ".py",
   "mimetype": "text/x-python",
   "name": "python",
   "nbconvert_exporter": "python",
   "pygments_lexer": "ipython3",
   "version": "3.8.5"
  }
 },
 "nbformat": 4,
 "nbformat_minor": 4
}
