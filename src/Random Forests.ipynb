{
  "cells": [
    {
      "cell_type": "code",
      "execution_count": null,
      "id": "529e1fa9",
      "metadata": {
        "id": "529e1fa9"
      },
      "outputs": [],
      "source": [
        "import pandas as pd\n",
        "import numpy as np\n",
        "import math\n",
        "import seaborn as sns\n",
        "import matplotlib.pyplot as plt\n",
        "import plotly.express as px\n",
        "import plotly.graph_objects as go\n",
        "\n",
        "from sklearn.tree import DecisionTreeClassifier\n",
        "from sklearn.tree import DecisionTreeRegressor\n",
        "from sklearn.ensemble import RandomForestClassifier\n",
        "from sklearn.ensemble import RandomForestRegressor\n",
        "\n",
        "from sklearn.model_selection import train_test_split\n",
        "from sklearn import metrics\n",
        "from sklearn.preprocessing import LabelEncoder\n",
        "from sklearn.model_selection import cross_validate\n",
        "import scipy.stats as sps\n",
        "\n",
        "from sklearn import tree"
      ]
    },
    {
      "cell_type": "code",
      "execution_count": null,
      "id": "48eb85ac",
      "metadata": {
        "id": "48eb85ac",
        "outputId": "0a2cae7b-99e9-4164-f321-e6c4d0c12b57"
      },
      "outputs": [
        {
          "data": {
            "text/html": [
              "<div>\n",
              "<style scoped>\n",
              "    .dataframe tbody tr th:only-of-type {\n",
              "        vertical-align: middle;\n",
              "    }\n",
              "\n",
              "    .dataframe tbody tr th {\n",
              "        vertical-align: top;\n",
              "    }\n",
              "\n",
              "    .dataframe thead th {\n",
              "        text-align: right;\n",
              "    }\n",
              "</style>\n",
              "<table border=\"1\" class=\"dataframe\">\n",
              "  <thead>\n",
              "    <tr style=\"text-align: right;\">\n",
              "      <th></th>\n",
              "      <th>genre</th>\n",
              "      <th>artist_name</th>\n",
              "      <th>track_name</th>\n",
              "      <th>track_id</th>\n",
              "      <th>popularity</th>\n",
              "      <th>acousticness</th>\n",
              "      <th>danceability</th>\n",
              "      <th>duration_ms</th>\n",
              "      <th>energy</th>\n",
              "      <th>instrumentalness</th>\n",
              "      <th>key</th>\n",
              "      <th>liveness</th>\n",
              "      <th>loudness</th>\n",
              "      <th>mode</th>\n",
              "      <th>speechiness</th>\n",
              "      <th>tempo</th>\n",
              "      <th>time_signature</th>\n",
              "      <th>valence</th>\n",
              "    </tr>\n",
              "  </thead>\n",
              "  <tbody>\n",
              "    <tr>\n",
              "      <th>0</th>\n",
              "      <td>Opera</td>\n",
              "      <td>Giuseppe Verdi</td>\n",
              "      <td>Stiffelio, Act III: Ei fugge! … Lina, pensai c...</td>\n",
              "      <td>7EsKYeHtTc4H4xWiTqSVZA</td>\n",
              "      <td>21</td>\n",
              "      <td>0.986</td>\n",
              "      <td>0.313</td>\n",
              "      <td>490867</td>\n",
              "      <td>0.23100</td>\n",
              "      <td>0.000431</td>\n",
              "      <td>C#</td>\n",
              "      <td>0.0964</td>\n",
              "      <td>-14.287</td>\n",
              "      <td>Major</td>\n",
              "      <td>0.0547</td>\n",
              "      <td>86.001</td>\n",
              "      <td>4/4</td>\n",
              "      <td>0.0886</td>\n",
              "    </tr>\n",
              "    <tr>\n",
              "      <th>1</th>\n",
              "      <td>Opera</td>\n",
              "      <td>Giacomo Puccini</td>\n",
              "      <td>Madama Butterfly / Act 1: ... E soffitto e pareti</td>\n",
              "      <td>7MfmRBvqaW0I6UTxXnad8p</td>\n",
              "      <td>18</td>\n",
              "      <td>0.972</td>\n",
              "      <td>0.360</td>\n",
              "      <td>176797</td>\n",
              "      <td>0.20100</td>\n",
              "      <td>0.028000</td>\n",
              "      <td>D#</td>\n",
              "      <td>0.1330</td>\n",
              "      <td>-19.794</td>\n",
              "      <td>Major</td>\n",
              "      <td>0.0581</td>\n",
              "      <td>131.798</td>\n",
              "      <td>4/4</td>\n",
              "      <td>0.3690</td>\n",
              "    </tr>\n",
              "    <tr>\n",
              "      <th>2</th>\n",
              "      <td>Opera</td>\n",
              "      <td>Giacomo Puccini</td>\n",
              "      <td>Turandot / Act 2: Gloria, gloria, o vincitore</td>\n",
              "      <td>7pBo1GDhIysyUMFXiDVoON</td>\n",
              "      <td>10</td>\n",
              "      <td>0.935</td>\n",
              "      <td>0.168</td>\n",
              "      <td>266184</td>\n",
              "      <td>0.47000</td>\n",
              "      <td>0.020400</td>\n",
              "      <td>C</td>\n",
              "      <td>0.3630</td>\n",
              "      <td>-8.415</td>\n",
              "      <td>Major</td>\n",
              "      <td>0.0383</td>\n",
              "      <td>75.126</td>\n",
              "      <td>3/4</td>\n",
              "      <td>0.0696</td>\n",
              "    </tr>\n",
              "    <tr>\n",
              "      <th>3</th>\n",
              "      <td>Opera</td>\n",
              "      <td>Giuseppe Verdi</td>\n",
              "      <td>Rigoletto, Act IV: Venti scudi hai tu detto?</td>\n",
              "      <td>02mvYZX5aKNzdqEo6jF20m</td>\n",
              "      <td>17</td>\n",
              "      <td>0.961</td>\n",
              "      <td>0.250</td>\n",
              "      <td>288573</td>\n",
              "      <td>0.00605</td>\n",
              "      <td>0.000000</td>\n",
              "      <td>D</td>\n",
              "      <td>0.1200</td>\n",
              "      <td>-33.440</td>\n",
              "      <td>Major</td>\n",
              "      <td>0.0480</td>\n",
              "      <td>76.493</td>\n",
              "      <td>4/4</td>\n",
              "      <td>0.0380</td>\n",
              "    </tr>\n",
              "    <tr>\n",
              "      <th>4</th>\n",
              "      <td>Opera</td>\n",
              "      <td>Giuseppe Verdi</td>\n",
              "      <td>Don Carlo / Act 4: \"Ella giammai m'amò!\"</td>\n",
              "      <td>03TW0jwGMGhUabAjOpB1T9</td>\n",
              "      <td>19</td>\n",
              "      <td>0.985</td>\n",
              "      <td>0.142</td>\n",
              "      <td>629760</td>\n",
              "      <td>0.05800</td>\n",
              "      <td>0.146000</td>\n",
              "      <td>D</td>\n",
              "      <td>0.0969</td>\n",
              "      <td>-23.625</td>\n",
              "      <td>Major</td>\n",
              "      <td>0.0493</td>\n",
              "      <td>172.935</td>\n",
              "      <td>4/4</td>\n",
              "      <td>0.0382</td>\n",
              "    </tr>\n",
              "  </tbody>\n",
              "</table>\n",
              "</div>"
            ],
            "text/plain": [
              "   genre      artist_name                                         track_name  \\\n",
              "0  Opera   Giuseppe Verdi  Stiffelio, Act III: Ei fugge! … Lina, pensai c...   \n",
              "1  Opera  Giacomo Puccini  Madama Butterfly / Act 1: ... E soffitto e pareti   \n",
              "2  Opera  Giacomo Puccini      Turandot / Act 2: Gloria, gloria, o vincitore   \n",
              "3  Opera   Giuseppe Verdi       Rigoletto, Act IV: Venti scudi hai tu detto?   \n",
              "4  Opera   Giuseppe Verdi           Don Carlo / Act 4: \"Ella giammai m'amò!\"   \n",
              "\n",
              "                 track_id  popularity  acousticness  danceability  \\\n",
              "0  7EsKYeHtTc4H4xWiTqSVZA          21         0.986         0.313   \n",
              "1  7MfmRBvqaW0I6UTxXnad8p          18         0.972         0.360   \n",
              "2  7pBo1GDhIysyUMFXiDVoON          10         0.935         0.168   \n",
              "3  02mvYZX5aKNzdqEo6jF20m          17         0.961         0.250   \n",
              "4  03TW0jwGMGhUabAjOpB1T9          19         0.985         0.142   \n",
              "\n",
              "   duration_ms   energy  instrumentalness key  liveness  loudness   mode  \\\n",
              "0       490867  0.23100          0.000431  C#    0.0964   -14.287  Major   \n",
              "1       176797  0.20100          0.028000  D#    0.1330   -19.794  Major   \n",
              "2       266184  0.47000          0.020400   C    0.3630    -8.415  Major   \n",
              "3       288573  0.00605          0.000000   D    0.1200   -33.440  Major   \n",
              "4       629760  0.05800          0.146000   D    0.0969   -23.625  Major   \n",
              "\n",
              "   speechiness    tempo time_signature  valence  \n",
              "0       0.0547   86.001            4/4   0.0886  \n",
              "1       0.0581  131.798            4/4   0.3690  \n",
              "2       0.0383   75.126            3/4   0.0696  \n",
              "3       0.0480   76.493            4/4   0.0380  \n",
              "4       0.0493  172.935            4/4   0.0382  "
            ]
          },
          "execution_count": 2,
          "metadata": {},
          "output_type": "execute_result"
        }
      ],
      "source": [
        "songs = pd.read_csv('../data/SpotifyCleaned.csv')\n",
        "songs.head()\n"
      ]
    },
    {
      "cell_type": "code",
      "execution_count": null,
      "id": "ae8e3646",
      "metadata": {
        "id": "ae8e3646"
      },
      "outputs": [],
      "source": [
        "songs_class = songs.copy(deep = True)\n",
        "songs_class['is_popular'] = 0\n",
        "\n",
        "## Tunable Hyperparameter\n",
        "popularity_threshold = 60\n",
        "\n",
        "songs_class.loc[songs_class.popularity > popularity_threshold, \"is_popular\"] = 1\n"
      ]
    },
    {
      "cell_type": "code",
      "execution_count": null,
      "id": "2886c375",
      "metadata": {
        "id": "2886c375"
      },
      "outputs": [],
      "source": [
        "category_columns = ['genre', 'artist_name', 'track_name', 'key', 'mode', 'time_signature']\n",
        "\n",
        "for label in category_columns:\n",
        "    songs_class[label] = LabelEncoder().fit(songs_class[label]).transform(songs_class[label])"
      ]
    },
    {
      "cell_type": "code",
      "execution_count": null,
      "id": "a5e762bb",
      "metadata": {
        "id": "a5e762bb"
      },
      "outputs": [],
      "source": [
        "features = ['genre', 'artist_name', 'track_name',\n",
        "       'acousticness', 'danceability', 'duration_ms', 'energy',\n",
        "       'instrumentalness', 'key', 'liveness', 'loudness', 'mode',\n",
        "       'speechiness', 'tempo', 'time_signature', 'valence']\n",
        "\n",
        "X = songs_class[features]\n",
        "\n",
        "y = songs_class.is_popular"
      ]
    },
    {
      "cell_type": "code",
      "execution_count": null,
      "id": "94b7c367",
      "metadata": {
        "id": "94b7c367"
      },
      "outputs": [],
      "source": [
        "# Split dataset into training set and test set\n",
        "X_train, X_test, y_train, y_test = train_test_split(X, y, test_size=0.2, random_state=131) # 80% training and 20% test"
      ]
    },
    {
      "cell_type": "code",
      "execution_count": null,
      "id": "64a0534b",
      "metadata": {
        "id": "64a0534b"
      },
      "outputs": [],
      "source": [
        "#Tunable Hyperparameters\n",
        "n_estimators = [25, 30, 35, 40, 45] # 100 Default\n",
        "max_depth = [15, 20, 25, 30] # None for unlimited (default) #n_features = 16 \n",
        "# Bootstrapping = True found to consistently slightly increase prediction probability"
      ]
    },
    {
      "cell_type": "code",
      "execution_count": null,
      "id": "a2feb209",
      "metadata": {
        "id": "a2feb209",
        "outputId": "f16d134a-1b98-482d-df2b-3c218b64c995"
      },
      "outputs": [
        {
          "name": "stdout",
          "output_type": "stream",
          "text": [
            "n_estimators =  25 , max_depth =  15 , Accuracy:  0.9326869896216287\n",
            "n_estimators =  25 , max_depth =  20 , Accuracy:  0.9329147281777662\n",
            "n_estimators =  25 , max_depth =  25 , Accuracy:  0.9330448644955591\n",
            "n_estimators =  25 , max_depth =  30 , Accuracy:  0.9326219214627323\n",
            "n_estimators =  30 , max_depth =  15 , Accuracy:  0.9326544555421804\n",
            "n_estimators =  30 , max_depth =  20 , Accuracy:  0.9327195237010769\n",
            "n_estimators =  30 , max_depth =  25 , Accuracy:  0.9332075348928002\n",
            "n_estimators =  30 , max_depth =  30 , Accuracy:  0.9328496600188698\n",
            "n_estimators =  35 , max_depth =  15 , Accuracy:  0.9326544555421804\n",
            "n_estimators =  35 , max_depth =  20 , Accuracy:  0.9332726030516967\n",
            "n_estimators =  35 , max_depth =  25 , Accuracy:  0.933175000813352\n",
            "n_estimators =  35 , max_depth =  30 , Accuracy:  0.9329797963366626\n",
            "n_estimators =  40 , max_depth =  15 , Accuracy:  0.9326869896216287\n",
            "n_estimators =  40 , max_depth =  20 , Accuracy:  0.9331424667339038\n",
            "n_estimators =  40 , max_depth =  25 , Accuracy:  0.9330773985750073\n",
            "n_estimators =  40 , max_depth =  30 , Accuracy:  0.932882194098318\n",
            "n_estimators =  45 , max_depth =  15 , Accuracy:  0.9327195237010769\n",
            "n_estimators =  45 , max_depth =  20 , Accuracy:  0.9331424667339038\n",
            "n_estimators =  45 , max_depth =  25 , Accuracy:  0.933175000813352\n",
            "n_estimators =  45 , max_depth =  30 , Accuracy:  0.932882194098318\n"
          ]
        }
      ],
      "source": [
        "for i in n_estimators:\n",
        "    for j in max_depth:          \n",
        "        # Create Decision Tree classifer object\n",
        "        clf = RandomForestClassifier(n_estimators = i, max_depth = j,\n",
        "                         criterion=\"entropy\", random_state = 131)\n",
        "\n",
        "        # Train Decision Tree Classifer\n",
        "        clf = clf.fit(X_train,y_train)\n",
        "\n",
        "        #Predict the response for test dataset\n",
        "        y_pred = clf.predict(X_test)\n",
        "\n",
        "        print(\"n_estimators = \", i , ', max_depth = ', j , ', Accuracy: ', metrics.accuracy_score(y_test, y_pred))\n",
        "\n"
      ]
    },
    {
      "cell_type": "markdown",
      "id": "0f21c22f",
      "metadata": {
        "id": "0f21c22f"
      },
      "source": [
        "The Strongest Predictor is n = 35, depth = 20, with accuracy 93.33,\n",
        "but values hovering around that area also produce similar results\n",
        "Best number of estimators: 35\n",
        "Best Maximum Depth: 20\n",
        "Bootstraping consistently out performs not bootstrapping"
      ]
    },
    {
      "cell_type": "code",
      "execution_count": null,
      "id": "30ff9d12",
      "metadata": {
        "id": "30ff9d12"
      },
      "outputs": [],
      "source": [
        "# The Regressor requires different Labels\n",
        "\n",
        "yi_test = pd.DataFrame(y_test)\n",
        "yr_test = yi_test.join(songs_class['popularity']).iloc[:, 1]\n",
        "\n",
        "yi_train = pd.DataFrame(y_train)\n",
        "yr_train = yi_train.join(songs_class['popularity']).iloc[:, 1]"
      ]
    },
    {
      "cell_type": "code",
      "execution_count": null,
      "id": "910b8b56",
      "metadata": {
        "id": "910b8b56"
      },
      "outputs": [],
      "source": [
        "#Tunable Hyperparameters\n",
        "n_estimators1 = [150, 250, 350] # 100 Default\n",
        "max_depth1 = [15, 20, 25] # None for unlimited (default) #n_features = 16 \n",
        "# Bootstrapping = True found to consistently slightly increase prediction probability"
      ]
    },
    {
      "cell_type": "code",
      "execution_count": null,
      "id": "337b5387",
      "metadata": {
        "id": "337b5387",
        "outputId": "62cdfad5-af08-48c8-87dc-108aea661e0f"
      },
      "outputs": [
        {
          "name": "stdout",
          "output_type": "stream",
          "text": [
            "n_estimators =  50 , max_depth =  20 , Accuracy:  0.7442427762810877\n",
            "n_estimators =  100 , max_depth =  20 , Accuracy:  0.7460457763124966\n",
            "n_estimators =  150 , max_depth =  20 , Accuracy:  0.7467652753058265\n"
          ]
        }
      ],
      "source": [
        "for i in n_estimators1:\n",
        "    for j in max_depth1:          \n",
        "        # Create Decision Tree classifer object\n",
        "        reg = RandomForestRegressor(n_estimators = i, max_depth = j, random_state = 131)\n",
        "\n",
        "        # Train Decision Tree Classifer\n",
        "        reg = reg.fit(X_train,yr_train)\n",
        "\n",
        "        #Predict the response for test dataset\n",
        "        #y_pred = reg.predict(X_test)\n",
        "\n",
        "        print(\"n_estimators = \", i , ', max_depth = ', j , ', Accuracy: ', reg.score(X_test, yr_test))"
      ]
    },
    {
      "cell_type": "code",
      "execution_count": null,
      "id": "5cc18bee",
      "metadata": {
        "id": "5cc18bee"
      },
      "outputs": [],
      "source": [
        ""
      ]
    }
  ],
  "metadata": {
    "kernelspec": {
      "display_name": "Python 3",
      "language": "python",
      "name": "python3"
    },
    "language_info": {
      "codemirror_mode": {
        "name": "ipython",
        "version": 3
      },
      "file_extension": ".py",
      "mimetype": "text/x-python",
      "name": "python",
      "nbconvert_exporter": "python",
      "pygments_lexer": "ipython3",
      "version": "3.8.8"
    },
    "colab": {
      "name": "Random Forests.ipynb",
      "provenance": []
    }
  },
  "nbformat": 4,
  "nbformat_minor": 5
}